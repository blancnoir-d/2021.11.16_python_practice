{
 "cells": [
  {
   "cell_type": "code",
   "execution_count": 24,
   "id": "24362b6a",
   "metadata": {
    "ExecuteTime": {
     "end_time": "2021-12-20T03:12:49.156705Z",
     "start_time": "2021-12-20T03:12:49.150704Z"
    }
   },
   "outputs": [],
   "source": [
    "import numpy as np\n",
    "import pandas as pd\n",
    "import matplotlib.pyplot as plt\n",
    "\n",
    "#데이터 \n",
    "from sklearn import datasets\n",
    "\n",
    "#데이터 전처리\n",
    "from sklearn.preprocessing import StandardScaler\n",
    "from sklearn.preprocessing import LabelEncoder\n",
    "\n",
    "#훈련/검증용 데이터 분리\n",
    "from sklearn.model_selection import train_test_split\n",
    "\n",
    "#분류 모델 구축\n",
    "from sklearn.tree import DecisionTreeClassifier# 결정트리\n",
    "from sklearn.naive_bayes import GaussianNB #나이브 베이즈 \n",
    "from sklearn.neighbors import KNeighborsClassifier #K - 최근접 이웃\n",
    "\n"
   ]
  },
  {
   "cell_type": "markdown",
   "id": "aac76461",
   "metadata": {},
   "source": [
    "# 데이터 가져오기"
   ]
  },
  {
   "cell_type": "code",
   "execution_count": 45,
   "id": "129606ab",
   "metadata": {
    "ExecuteTime": {
     "end_time": "2021-12-20T03:15:34.767056Z",
     "start_time": "2021-12-20T03:15:34.749052Z"
    }
   },
   "outputs": [
    {
     "data": {
      "text/html": [
       "<div>\n",
       "<style scoped>\n",
       "    .dataframe tbody tr th:only-of-type {\n",
       "        vertical-align: middle;\n",
       "    }\n",
       "\n",
       "    .dataframe tbody tr th {\n",
       "        vertical-align: top;\n",
       "    }\n",
       "\n",
       "    .dataframe thead th {\n",
       "        text-align: right;\n",
       "    }\n",
       "</style>\n",
       "<table border=\"1\" class=\"dataframe\">\n",
       "  <thead>\n",
       "    <tr style=\"text-align: right;\">\n",
       "      <th></th>\n",
       "      <th>Income</th>\n",
       "      <th>Lot_Size</th>\n",
       "      <th>Ownership</th>\n",
       "    </tr>\n",
       "  </thead>\n",
       "  <tbody>\n",
       "    <tr>\n",
       "      <th>0</th>\n",
       "      <td>60.0</td>\n",
       "      <td>18.4</td>\n",
       "      <td>Owner</td>\n",
       "    </tr>\n",
       "    <tr>\n",
       "      <th>1</th>\n",
       "      <td>85.5</td>\n",
       "      <td>16.8</td>\n",
       "      <td>Owner</td>\n",
       "    </tr>\n",
       "    <tr>\n",
       "      <th>2</th>\n",
       "      <td>64.8</td>\n",
       "      <td>21.6</td>\n",
       "      <td>Owner</td>\n",
       "    </tr>\n",
       "    <tr>\n",
       "      <th>3</th>\n",
       "      <td>61.5</td>\n",
       "      <td>20.8</td>\n",
       "      <td>Owner</td>\n",
       "    </tr>\n",
       "    <tr>\n",
       "      <th>4</th>\n",
       "      <td>87.0</td>\n",
       "      <td>23.6</td>\n",
       "      <td>Owner</td>\n",
       "    </tr>\n",
       "  </tbody>\n",
       "</table>\n",
       "</div>"
      ],
      "text/plain": [
       "   Income  Lot_Size Ownership\n",
       "0    60.0      18.4     Owner\n",
       "1    85.5      16.8     Owner\n",
       "2    64.8      21.6     Owner\n",
       "3    61.5      20.8     Owner\n",
       "4    87.0      23.6     Owner"
      ]
     },
     "execution_count": 45,
     "metadata": {},
     "output_type": "execute_result"
    }
   ],
   "source": [
    "data = pd.read_csv('./RidingMowers.csv')\n",
    "data.head()"
   ]
  },
  {
   "cell_type": "code",
   "execution_count": 46,
   "id": "4814c32d",
   "metadata": {
    "ExecuteTime": {
     "end_time": "2021-12-20T03:15:35.236088Z",
     "start_time": "2021-12-20T03:15:35.220084Z"
    }
   },
   "outputs": [
    {
     "data": {
      "text/plain": [
       "(48, 3)"
      ]
     },
     "execution_count": 46,
     "metadata": {},
     "output_type": "execute_result"
    }
   ],
   "source": [
    "data.shape"
   ]
  },
  {
   "cell_type": "code",
   "execution_count": 47,
   "id": "d1417d9e",
   "metadata": {
    "ExecuteTime": {
     "end_time": "2021-12-20T03:15:35.551867Z",
     "start_time": "2021-12-20T03:15:35.539864Z"
    }
   },
   "outputs": [
    {
     "data": {
      "text/plain": [
       "<bound method NDFrame.describe of     Income  Lot_Size Ownership\n",
       "0     60.0      18.4     Owner\n",
       "1     85.5      16.8     Owner\n",
       "2     64.8      21.6     Owner\n",
       "3     61.5      20.8     Owner\n",
       "4     87.0      23.6     Owner\n",
       "5    110.1      19.2     Owner\n",
       "6    108.0      17.6     Owner\n",
       "7     82.8      22.4     Owner\n",
       "8     69.0      20.0     Owner\n",
       "9     93.0      20.8     Owner\n",
       "10    51.0      22.0     Owner\n",
       "11    81.0      20.0     Owner\n",
       "12    58.0      18.4     Owner\n",
       "13    83.5      16.8     Owner\n",
       "14    62.8      21.6     Owner\n",
       "15    59.5      20.8     Owner\n",
       "16    85.0      23.6     Owner\n",
       "17   112.1      19.2     Owner\n",
       "18   110.0      17.6     Owner\n",
       "19    84.8      22.4     Owner\n",
       "20    71.0      20.0     Owner\n",
       "21    95.0      20.8     Owner\n",
       "22    53.0      22.0     Owner\n",
       "23    83.0      20.0     Owner\n",
       "24    75.0      19.6  Nonowner\n",
       "25    52.8      20.8  Nonowner\n",
       "26    64.8      17.2  Nonowner\n",
       "27    43.2      20.4  Nonowner\n",
       "28    84.0      17.6  Nonowner\n",
       "29    49.2      17.6  Nonowner\n",
       "30    59.4      16.0  Nonowner\n",
       "31    66.0      18.4  Nonowner\n",
       "32    47.4      16.4  Nonowner\n",
       "33    33.0      18.8  Nonowner\n",
       "34    51.0      14.0  Nonowner\n",
       "35    63.0      14.8  Nonowner\n",
       "36    73.0      19.6  Nonowner\n",
       "37    50.8      20.8  Nonowner\n",
       "38    62.8      17.2  Nonowner\n",
       "39    41.2      20.4  Nonowner\n",
       "40    82.0      17.6  Nonowner\n",
       "41    51.2      17.6  Nonowner\n",
       "42    61.4      16.0  Nonowner\n",
       "43    68.0      18.4  Nonowner\n",
       "44    49.4      16.4  Nonowner\n",
       "45    35.0      18.8  Nonowner\n",
       "46    53.0      14.0  Nonowner\n",
       "47    65.0      14.8  Nonowner>"
      ]
     },
     "execution_count": 47,
     "metadata": {},
     "output_type": "execute_result"
    }
   ],
   "source": [
    "data.describe"
   ]
  },
  {
   "cell_type": "code",
   "execution_count": 48,
   "id": "c6186529",
   "metadata": {
    "ExecuteTime": {
     "end_time": "2021-12-20T03:15:35.823172Z",
     "start_time": "2021-12-20T03:15:35.820172Z"
    }
   },
   "outputs": [
    {
     "data": {
      "text/plain": [
       "Index(['Income', 'Lot_Size', 'Ownership'], dtype='object')"
      ]
     },
     "execution_count": 48,
     "metadata": {},
     "output_type": "execute_result"
    }
   ],
   "source": [
    "data.keys()"
   ]
  },
  {
   "cell_type": "markdown",
   "id": "7b8123d9",
   "metadata": {},
   "source": [
    "# 데이터 분리 "
   ]
  },
  {
   "cell_type": "code",
   "execution_count": 49,
   "id": "0bf008fb",
   "metadata": {
    "ExecuteTime": {
     "end_time": "2021-12-20T03:15:36.381240Z",
     "start_time": "2021-12-20T03:15:36.364236Z"
    }
   },
   "outputs": [
    {
     "data": {
      "text/html": [
       "<div>\n",
       "<style scoped>\n",
       "    .dataframe tbody tr th:only-of-type {\n",
       "        vertical-align: middle;\n",
       "    }\n",
       "\n",
       "    .dataframe tbody tr th {\n",
       "        vertical-align: top;\n",
       "    }\n",
       "\n",
       "    .dataframe thead th {\n",
       "        text-align: right;\n",
       "    }\n",
       "</style>\n",
       "<table border=\"1\" class=\"dataframe\">\n",
       "  <thead>\n",
       "    <tr style=\"text-align: right;\">\n",
       "      <th></th>\n",
       "      <th>Income</th>\n",
       "      <th>Lot_Size</th>\n",
       "    </tr>\n",
       "  </thead>\n",
       "  <tbody>\n",
       "    <tr>\n",
       "      <th>0</th>\n",
       "      <td>60.0</td>\n",
       "      <td>18.4</td>\n",
       "    </tr>\n",
       "    <tr>\n",
       "      <th>1</th>\n",
       "      <td>85.5</td>\n",
       "      <td>16.8</td>\n",
       "    </tr>\n",
       "    <tr>\n",
       "      <th>2</th>\n",
       "      <td>64.8</td>\n",
       "      <td>21.6</td>\n",
       "    </tr>\n",
       "    <tr>\n",
       "      <th>3</th>\n",
       "      <td>61.5</td>\n",
       "      <td>20.8</td>\n",
       "    </tr>\n",
       "    <tr>\n",
       "      <th>4</th>\n",
       "      <td>87.0</td>\n",
       "      <td>23.6</td>\n",
       "    </tr>\n",
       "  </tbody>\n",
       "</table>\n",
       "</div>"
      ],
      "text/plain": [
       "   Income  Lot_Size\n",
       "0    60.0      18.4\n",
       "1    85.5      16.8\n",
       "2    64.8      21.6\n",
       "3    61.5      20.8\n",
       "4    87.0      23.6"
      ]
     },
     "execution_count": 49,
     "metadata": {},
     "output_type": "execute_result"
    }
   ],
   "source": [
    "X=data.drop(['Ownership'], axis=1)\n",
    "X.head()"
   ]
  },
  {
   "cell_type": "code",
   "execution_count": 50,
   "id": "61f9905f",
   "metadata": {
    "ExecuteTime": {
     "end_time": "2021-12-20T03:15:36.669104Z",
     "start_time": "2021-12-20T03:15:36.652101Z"
    }
   },
   "outputs": [
    {
     "data": {
      "text/plain": [
       "0    Owner\n",
       "1    Owner\n",
       "2    Owner\n",
       "3    Owner\n",
       "4    Owner\n",
       "Name: Ownership, dtype: object"
      ]
     },
     "execution_count": 50,
     "metadata": {},
     "output_type": "execute_result"
    }
   ],
   "source": [
    "y= data['Ownership']\n",
    "y.head()"
   ]
  },
  {
   "cell_type": "markdown",
   "id": "7a8ef713",
   "metadata": {},
   "source": [
    "# 데이터 전처리\n",
    "문자형 자료를 숫자(범주형)로 인코딩<br>\n",
    "숫자형 자료를 표준화<br>\n",
    "결정나무, 랜덤 포레스트, 나이브 베이즈 분류 : 원본데이터 그대로 유지"
   ]
  },
  {
   "cell_type": "code",
   "execution_count": 51,
   "id": "411d0f69",
   "metadata": {
    "ExecuteTime": {
     "end_time": "2021-12-20T03:15:37.286360Z",
     "start_time": "2021-12-20T03:15:37.276358Z"
    }
   },
   "outputs": [
    {
     "data": {
      "text/plain": [
       "array([1, 1, 1, 1, 1, 1, 1, 1, 1, 1, 1, 1, 1, 1, 1, 1, 1, 1, 1, 1, 1, 1,\n",
       "       1, 1, 0, 0, 0, 0, 0, 0, 0, 0, 0, 0, 0, 0, 0, 0, 0, 0, 0, 0, 0, 0,\n",
       "       0, 0, 0, 0])"
      ]
     },
     "execution_count": 51,
     "metadata": {},
     "output_type": "execute_result"
    }
   ],
   "source": [
    "class_le = LabelEncoder()\n",
    "y = class_le.fit_transform(y)\n",
    "y"
   ]
  },
  {
   "cell_type": "code",
   "execution_count": null,
   "id": "508d7d21",
   "metadata": {
    "ExecuteTime": {
     "end_time": "2021-12-20T03:15:18.588348Z",
     "start_time": "2021-12-20T03:15:18.570837Z"
    }
   },
   "outputs": [],
   "source": []
  },
  {
   "cell_type": "markdown",
   "id": "d4ac853f",
   "metadata": {},
   "source": [
    "# 훈련/검증용 데이터 분할 "
   ]
  },
  {
   "cell_type": "code",
   "execution_count": 52,
   "id": "298e9d8d",
   "metadata": {
    "ExecuteTime": {
     "end_time": "2021-12-20T03:15:38.360593Z",
     "start_time": "2021-12-20T03:15:38.348591Z"
    }
   },
   "outputs": [],
   "source": [
    "x_train, x_test, y_train, y_test = train_test_split(X, y, test_size=0.3, random_state=1, stratify = y)"
   ]
  },
  {
   "cell_type": "code",
   "execution_count": 53,
   "id": "1efa4175",
   "metadata": {
    "ExecuteTime": {
     "end_time": "2021-12-20T03:15:38.769265Z",
     "start_time": "2021-12-20T03:15:38.757271Z"
    }
   },
   "outputs": [
    {
     "data": {
      "text/html": [
       "<div>\n",
       "<style scoped>\n",
       "    .dataframe tbody tr th:only-of-type {\n",
       "        vertical-align: middle;\n",
       "    }\n",
       "\n",
       "    .dataframe tbody tr th {\n",
       "        vertical-align: top;\n",
       "    }\n",
       "\n",
       "    .dataframe thead th {\n",
       "        text-align: right;\n",
       "    }\n",
       "</style>\n",
       "<table border=\"1\" class=\"dataframe\">\n",
       "  <thead>\n",
       "    <tr style=\"text-align: right;\">\n",
       "      <th></th>\n",
       "      <th>Income</th>\n",
       "      <th>Lot_Size</th>\n",
       "    </tr>\n",
       "  </thead>\n",
       "  <tbody>\n",
       "    <tr>\n",
       "      <th>2</th>\n",
       "      <td>64.8</td>\n",
       "      <td>21.6</td>\n",
       "    </tr>\n",
       "    <tr>\n",
       "      <th>21</th>\n",
       "      <td>95.0</td>\n",
       "      <td>20.8</td>\n",
       "    </tr>\n",
       "    <tr>\n",
       "      <th>44</th>\n",
       "      <td>49.4</td>\n",
       "      <td>16.4</td>\n",
       "    </tr>\n",
       "    <tr>\n",
       "      <th>34</th>\n",
       "      <td>51.0</td>\n",
       "      <td>14.0</td>\n",
       "    </tr>\n",
       "    <tr>\n",
       "      <th>25</th>\n",
       "      <td>52.8</td>\n",
       "      <td>20.8</td>\n",
       "    </tr>\n",
       "    <tr>\n",
       "      <th>11</th>\n",
       "      <td>81.0</td>\n",
       "      <td>20.0</td>\n",
       "    </tr>\n",
       "    <tr>\n",
       "      <th>37</th>\n",
       "      <td>50.8</td>\n",
       "      <td>20.8</td>\n",
       "    </tr>\n",
       "    <tr>\n",
       "      <th>15</th>\n",
       "      <td>59.5</td>\n",
       "      <td>20.8</td>\n",
       "    </tr>\n",
       "    <tr>\n",
       "      <th>16</th>\n",
       "      <td>85.0</td>\n",
       "      <td>23.6</td>\n",
       "    </tr>\n",
       "    <tr>\n",
       "      <th>8</th>\n",
       "      <td>69.0</td>\n",
       "      <td>20.0</td>\n",
       "    </tr>\n",
       "    <tr>\n",
       "      <th>1</th>\n",
       "      <td>85.5</td>\n",
       "      <td>16.8</td>\n",
       "    </tr>\n",
       "    <tr>\n",
       "      <th>7</th>\n",
       "      <td>82.8</td>\n",
       "      <td>22.4</td>\n",
       "    </tr>\n",
       "    <tr>\n",
       "      <th>41</th>\n",
       "      <td>51.2</td>\n",
       "      <td>17.6</td>\n",
       "    </tr>\n",
       "    <tr>\n",
       "      <th>5</th>\n",
       "      <td>110.1</td>\n",
       "      <td>19.2</td>\n",
       "    </tr>\n",
       "    <tr>\n",
       "      <th>23</th>\n",
       "      <td>83.0</td>\n",
       "      <td>20.0</td>\n",
       "    </tr>\n",
       "    <tr>\n",
       "      <th>38</th>\n",
       "      <td>62.8</td>\n",
       "      <td>17.2</td>\n",
       "    </tr>\n",
       "    <tr>\n",
       "      <th>40</th>\n",
       "      <td>82.0</td>\n",
       "      <td>17.6</td>\n",
       "    </tr>\n",
       "    <tr>\n",
       "      <th>26</th>\n",
       "      <td>64.8</td>\n",
       "      <td>17.2</td>\n",
       "    </tr>\n",
       "    <tr>\n",
       "      <th>46</th>\n",
       "      <td>53.0</td>\n",
       "      <td>14.0</td>\n",
       "    </tr>\n",
       "    <tr>\n",
       "      <th>24</th>\n",
       "      <td>75.0</td>\n",
       "      <td>19.6</td>\n",
       "    </tr>\n",
       "    <tr>\n",
       "      <th>31</th>\n",
       "      <td>66.0</td>\n",
       "      <td>18.4</td>\n",
       "    </tr>\n",
       "    <tr>\n",
       "      <th>30</th>\n",
       "      <td>59.4</td>\n",
       "      <td>16.0</td>\n",
       "    </tr>\n",
       "    <tr>\n",
       "      <th>22</th>\n",
       "      <td>53.0</td>\n",
       "      <td>22.0</td>\n",
       "    </tr>\n",
       "    <tr>\n",
       "      <th>45</th>\n",
       "      <td>35.0</td>\n",
       "      <td>18.8</td>\n",
       "    </tr>\n",
       "    <tr>\n",
       "      <th>6</th>\n",
       "      <td>108.0</td>\n",
       "      <td>17.6</td>\n",
       "    </tr>\n",
       "    <tr>\n",
       "      <th>10</th>\n",
       "      <td>51.0</td>\n",
       "      <td>22.0</td>\n",
       "    </tr>\n",
       "    <tr>\n",
       "      <th>12</th>\n",
       "      <td>58.0</td>\n",
       "      <td>18.4</td>\n",
       "    </tr>\n",
       "    <tr>\n",
       "      <th>3</th>\n",
       "      <td>61.5</td>\n",
       "      <td>20.8</td>\n",
       "    </tr>\n",
       "    <tr>\n",
       "      <th>42</th>\n",
       "      <td>61.4</td>\n",
       "      <td>16.0</td>\n",
       "    </tr>\n",
       "    <tr>\n",
       "      <th>27</th>\n",
       "      <td>43.2</td>\n",
       "      <td>20.4</td>\n",
       "    </tr>\n",
       "    <tr>\n",
       "      <th>43</th>\n",
       "      <td>68.0</td>\n",
       "      <td>18.4</td>\n",
       "    </tr>\n",
       "    <tr>\n",
       "      <th>19</th>\n",
       "      <td>84.8</td>\n",
       "      <td>22.4</td>\n",
       "    </tr>\n",
       "    <tr>\n",
       "      <th>28</th>\n",
       "      <td>84.0</td>\n",
       "      <td>17.6</td>\n",
       "    </tr>\n",
       "  </tbody>\n",
       "</table>\n",
       "</div>"
      ],
      "text/plain": [
       "    Income  Lot_Size\n",
       "2     64.8      21.6\n",
       "21    95.0      20.8\n",
       "44    49.4      16.4\n",
       "34    51.0      14.0\n",
       "25    52.8      20.8\n",
       "11    81.0      20.0\n",
       "37    50.8      20.8\n",
       "15    59.5      20.8\n",
       "16    85.0      23.6\n",
       "8     69.0      20.0\n",
       "1     85.5      16.8\n",
       "7     82.8      22.4\n",
       "41    51.2      17.6\n",
       "5    110.1      19.2\n",
       "23    83.0      20.0\n",
       "38    62.8      17.2\n",
       "40    82.0      17.6\n",
       "26    64.8      17.2\n",
       "46    53.0      14.0\n",
       "24    75.0      19.6\n",
       "31    66.0      18.4\n",
       "30    59.4      16.0\n",
       "22    53.0      22.0\n",
       "45    35.0      18.8\n",
       "6    108.0      17.6\n",
       "10    51.0      22.0\n",
       "12    58.0      18.4\n",
       "3     61.5      20.8\n",
       "42    61.4      16.0\n",
       "27    43.2      20.4\n",
       "43    68.0      18.4\n",
       "19    84.8      22.4\n",
       "28    84.0      17.6"
      ]
     },
     "execution_count": 53,
     "metadata": {},
     "output_type": "execute_result"
    }
   ],
   "source": [
    "x_train"
   ]
  },
  {
   "cell_type": "markdown",
   "id": "be73c40e",
   "metadata": {},
   "source": [
    "# 모델 구축"
   ]
  },
  {
   "cell_type": "code",
   "execution_count": 55,
   "id": "d454521f",
   "metadata": {
    "ExecuteTime": {
     "end_time": "2021-12-20T03:15:51.425520Z",
     "start_time": "2021-12-20T03:15:51.406515Z"
    }
   },
   "outputs": [
    {
     "data": {
      "text/plain": [
       "DecisionTreeClassifier(max_depth=1, random_state=1)"
      ]
     },
     "execution_count": 55,
     "metadata": {},
     "output_type": "execute_result"
    }
   ],
   "source": [
    "tree = DecisionTreeClassifier(criterion='gini', max_depth =1, random_state=1)\n",
    "tree.fit(x_train, y_train)"
   ]
  },
  {
   "cell_type": "markdown",
   "id": "d6c6cb6c",
   "metadata": {},
   "source": [
    "# 모델 검정\n",
    "tree.predict (class로 표시)<br>\n",
    "tree.predict_proba (확률값으로 표시)"
   ]
  },
  {
   "cell_type": "code",
   "execution_count": 56,
   "id": "34ffc306",
   "metadata": {
    "ExecuteTime": {
     "end_time": "2021-12-20T03:16:34.682944Z",
     "start_time": "2021-12-20T03:16:34.668933Z"
    }
   },
   "outputs": [
    {
     "data": {
      "text/plain": [
       "array([1, 1, 0, 1, 1, 0, 1, 0, 0, 1, 0, 1, 0, 0, 0])"
      ]
     },
     "execution_count": 56,
     "metadata": {},
     "output_type": "execute_result"
    }
   ],
   "source": [
    "y_predict = tree.predict(x_test)\n",
    "y_predict"
   ]
  },
  {
   "cell_type": "code",
   "execution_count": 58,
   "id": "7c51bb17",
   "metadata": {
    "ExecuteTime": {
     "end_time": "2021-12-20T03:17:41.860694Z",
     "start_time": "2021-12-20T03:17:41.844677Z"
    }
   },
   "outputs": [
    {
     "data": {
      "text/plain": [
       "array([[0.23529412, 0.76470588],\n",
       "       [0.23529412, 0.76470588],\n",
       "       [0.8125    , 0.1875    ],\n",
       "       [0.23529412, 0.76470588],\n",
       "       [0.23529412, 0.76470588],\n",
       "       [0.8125    , 0.1875    ],\n",
       "       [0.23529412, 0.76470588],\n",
       "       [0.8125    , 0.1875    ],\n",
       "       [0.8125    , 0.1875    ],\n",
       "       [0.23529412, 0.76470588],\n",
       "       [0.8125    , 0.1875    ],\n",
       "       [0.23529412, 0.76470588],\n",
       "       [0.8125    , 0.1875    ],\n",
       "       [0.8125    , 0.1875    ],\n",
       "       [0.8125    , 0.1875    ]])"
      ]
     },
     "execution_count": 58,
     "metadata": {},
     "output_type": "execute_result"
    }
   ],
   "source": [
    "y_pred_pro = tree.predict_proba(x_test)\n",
    "y_pred_pro"
   ]
  },
  {
   "cell_type": "code",
   "execution_count": 59,
   "id": "62363ea4",
   "metadata": {
    "ExecuteTime": {
     "end_time": "2021-12-20T03:19:40.287188Z",
     "start_time": "2021-12-20T03:19:40.285187Z"
    }
   },
   "outputs": [],
   "source": [
    "## 6.모델검정\n",
    "from sklearn.metrics import confusion_matrix, classification_report # 정오분류표\n",
    "from sklearn.metrics import accuracy_score, precision_score, recall_score, f1_score, roc_auc_score # 정확도, 민감도 등\n",
    "from sklearn.metrics import roc_curve, auc # ROC 곡선 그리기"
   ]
  },
  {
   "cell_type": "code",
   "execution_count": 60,
   "id": "4c42b5a1",
   "metadata": {
    "ExecuteTime": {
     "end_time": "2021-12-20T03:36:47.503250Z",
     "start_time": "2021-12-20T03:36:47.491248Z"
    }
   },
   "outputs": [],
   "source": [
    "#오차행렬\n",
    "confu_r= pd.DataFrame(confusion_matrix(y_test, y_predict), index=['True[0]','True[1]'], columns=['pred[0]','pred[1]'])"
   ]
  },
  {
   "cell_type": "code",
   "execution_count": 61,
   "id": "000e9c90",
   "metadata": {
    "ExecuteTime": {
     "end_time": "2021-12-20T03:36:55.577602Z",
     "start_time": "2021-12-20T03:36:55.571601Z"
    }
   },
   "outputs": [
    {
     "data": {
      "text/html": [
       "<div>\n",
       "<style scoped>\n",
       "    .dataframe tbody tr th:only-of-type {\n",
       "        vertical-align: middle;\n",
       "    }\n",
       "\n",
       "    .dataframe tbody tr th {\n",
       "        vertical-align: top;\n",
       "    }\n",
       "\n",
       "    .dataframe thead th {\n",
       "        text-align: right;\n",
       "    }\n",
       "</style>\n",
       "<table border=\"1\" class=\"dataframe\">\n",
       "  <thead>\n",
       "    <tr style=\"text-align: right;\">\n",
       "      <th></th>\n",
       "      <th>pred[0]</th>\n",
       "      <th>pred[1]</th>\n",
       "    </tr>\n",
       "  </thead>\n",
       "  <tbody>\n",
       "    <tr>\n",
       "      <th>True[0]</th>\n",
       "      <td>5</td>\n",
       "      <td>2</td>\n",
       "    </tr>\n",
       "    <tr>\n",
       "      <th>True[1]</th>\n",
       "      <td>3</td>\n",
       "      <td>5</td>\n",
       "    </tr>\n",
       "  </tbody>\n",
       "</table>\n",
       "</div>"
      ],
      "text/plain": [
       "         pred[0]  pred[1]\n",
       "True[0]        5        2\n",
       "True[1]        3        5"
      ]
     },
     "execution_count": 61,
     "metadata": {},
     "output_type": "execute_result"
    }
   ],
   "source": [
    "confu_r"
   ]
  },
  {
   "cell_type": "code",
   "execution_count": 63,
   "id": "b28dee03",
   "metadata": {
    "ExecuteTime": {
     "end_time": "2021-12-20T03:37:30.977872Z",
     "start_time": "2021-12-20T03:37:30.968871Z"
    }
   },
   "outputs": [
    {
     "name": "stdout",
     "output_type": "stream",
     "text": [
      "              precision    recall  f1-score   support\n",
      "\n",
      "           0       0.62      0.71      0.67         7\n",
      "           1       0.71      0.62      0.67         8\n",
      "\n",
      "    accuracy                           0.67        15\n",
      "   macro avg       0.67      0.67      0.67        15\n",
      "weighted avg       0.67      0.67      0.67        15\n",
      "\n"
     ]
    }
   ],
   "source": [
    "print(classification_report(y_test, y_predict))"
   ]
  },
  {
   "cell_type": "markdown",
   "id": "2b35c5f9",
   "metadata": {},
   "source": [
    "## 정확도 민감도 확인 "
   ]
  },
  {
   "cell_type": "markdown",
   "id": "2679e419",
   "metadata": {},
   "source": [
    "# 의사결정나무"
   ]
  },
  {
   "cell_type": "code",
   "execution_count": 64,
   "id": "a165ca05",
   "metadata": {
    "ExecuteTime": {
     "end_time": "2021-12-20T05:20:15.499180Z",
     "start_time": "2021-12-20T05:20:15.489177Z"
    }
   },
   "outputs": [],
   "source": [
    "# 기본\n",
    "import numpy as np  # numpy 패키지 가져오기\n",
    "import matplotlib.pyplot as plt # 시각화 패키지 가져오기\n",
    "\n",
    "# 데이터 가져오기\n",
    "import pandas as pd # csv -> dataframe으로 전환\n",
    "from sklearn import datasets # python 저장 데이터 가져오기\n",
    "\n",
    "# 데이터 전처리\n",
    "from sklearn.preprocessing import StandardScaler # 연속변수의 표준화\n",
    "from sklearn.preprocessing import LabelEncoder # 범주형 변수 수치화\n",
    "\n",
    "# 훈련/검증용 데이터 분리\n",
    "from sklearn.model_selection import train_test_split \n",
    "\n",
    "# 분류모델구축\n",
    "from sklearn.tree import DecisionTreeClassifier # 결정 트리\n",
    "\n",
    "\n",
    "# 모델검정\n",
    "from sklearn.metrics import confusion_matrix, classification_report # 정오분류표\n",
    "from sklearn.metrics import accuracy_score, precision_score, recall_score, f1_score, roc_auc_score # 정확도, 민감도 등\n",
    "from sklearn.metrics import roc_curve, auc # ROC 곡선 그리기\n",
    "\n",
    "# 최적화\n",
    "from sklearn.model_selection import cross_validate # 교차타당도\n",
    "from sklearn.pipeline import make_pipeline # 파이프라인 구축\n",
    "from sklearn.model_selection import learning_curve, validation_curve # 학습곡선, 검증곡선\n",
    "from sklearn.model_selection import GridSearchCV # 하이퍼파라미터 튜닝"
   ]
  },
  {
   "cell_type": "code",
   "execution_count": 78,
   "id": "35aa1435",
   "metadata": {
    "ExecuteTime": {
     "end_time": "2021-12-20T05:39:06.482231Z",
     "start_time": "2021-12-20T05:39:06.461234Z"
    }
   },
   "outputs": [
    {
     "data": {
      "text/html": [
       "<div>\n",
       "<style scoped>\n",
       "    .dataframe tbody tr th:only-of-type {\n",
       "        vertical-align: middle;\n",
       "    }\n",
       "\n",
       "    .dataframe tbody tr th {\n",
       "        vertical-align: top;\n",
       "    }\n",
       "\n",
       "    .dataframe thead th {\n",
       "        text-align: right;\n",
       "    }\n",
       "</style>\n",
       "<table border=\"1\" class=\"dataframe\">\n",
       "  <thead>\n",
       "    <tr style=\"text-align: right;\">\n",
       "      <th></th>\n",
       "      <th>ID</th>\n",
       "      <th>Age</th>\n",
       "      <th>Experience</th>\n",
       "      <th>Income</th>\n",
       "      <th>ZIPCode</th>\n",
       "      <th>Family</th>\n",
       "      <th>CCAvg</th>\n",
       "      <th>Education</th>\n",
       "      <th>Mortgage</th>\n",
       "      <th>PersonalLoan</th>\n",
       "      <th>SecuritiesAccount</th>\n",
       "      <th>CDAccount</th>\n",
       "      <th>Online</th>\n",
       "      <th>CreditCard</th>\n",
       "    </tr>\n",
       "  </thead>\n",
       "  <tbody>\n",
       "    <tr>\n",
       "      <th>0</th>\n",
       "      <td>1</td>\n",
       "      <td>25</td>\n",
       "      <td>1</td>\n",
       "      <td>49</td>\n",
       "      <td>91107</td>\n",
       "      <td>4</td>\n",
       "      <td>1.6</td>\n",
       "      <td>1</td>\n",
       "      <td>0</td>\n",
       "      <td>0</td>\n",
       "      <td>1</td>\n",
       "      <td>0</td>\n",
       "      <td>0</td>\n",
       "      <td>0</td>\n",
       "    </tr>\n",
       "    <tr>\n",
       "      <th>1</th>\n",
       "      <td>2</td>\n",
       "      <td>45</td>\n",
       "      <td>19</td>\n",
       "      <td>34</td>\n",
       "      <td>90089</td>\n",
       "      <td>3</td>\n",
       "      <td>1.5</td>\n",
       "      <td>1</td>\n",
       "      <td>0</td>\n",
       "      <td>0</td>\n",
       "      <td>1</td>\n",
       "      <td>0</td>\n",
       "      <td>0</td>\n",
       "      <td>0</td>\n",
       "    </tr>\n",
       "    <tr>\n",
       "      <th>2</th>\n",
       "      <td>3</td>\n",
       "      <td>39</td>\n",
       "      <td>15</td>\n",
       "      <td>11</td>\n",
       "      <td>94720</td>\n",
       "      <td>1</td>\n",
       "      <td>1.0</td>\n",
       "      <td>1</td>\n",
       "      <td>0</td>\n",
       "      <td>0</td>\n",
       "      <td>0</td>\n",
       "      <td>0</td>\n",
       "      <td>0</td>\n",
       "      <td>0</td>\n",
       "    </tr>\n",
       "    <tr>\n",
       "      <th>3</th>\n",
       "      <td>4</td>\n",
       "      <td>35</td>\n",
       "      <td>9</td>\n",
       "      <td>100</td>\n",
       "      <td>94112</td>\n",
       "      <td>1</td>\n",
       "      <td>2.7</td>\n",
       "      <td>2</td>\n",
       "      <td>0</td>\n",
       "      <td>0</td>\n",
       "      <td>0</td>\n",
       "      <td>0</td>\n",
       "      <td>0</td>\n",
       "      <td>0</td>\n",
       "    </tr>\n",
       "    <tr>\n",
       "      <th>4</th>\n",
       "      <td>5</td>\n",
       "      <td>35</td>\n",
       "      <td>8</td>\n",
       "      <td>45</td>\n",
       "      <td>91330</td>\n",
       "      <td>4</td>\n",
       "      <td>1.0</td>\n",
       "      <td>2</td>\n",
       "      <td>0</td>\n",
       "      <td>0</td>\n",
       "      <td>0</td>\n",
       "      <td>0</td>\n",
       "      <td>0</td>\n",
       "      <td>1</td>\n",
       "    </tr>\n",
       "  </tbody>\n",
       "</table>\n",
       "</div>"
      ],
      "text/plain": [
       "   ID  Age  Experience  Income  ZIPCode  Family  CCAvg  Education  Mortgage  \\\n",
       "0   1   25           1      49    91107       4    1.6          1         0   \n",
       "1   2   45          19      34    90089       3    1.5          1         0   \n",
       "2   3   39          15      11    94720       1    1.0          1         0   \n",
       "3   4   35           9     100    94112       1    2.7          2         0   \n",
       "4   5   35           8      45    91330       4    1.0          2         0   \n",
       "\n",
       "   PersonalLoan  SecuritiesAccount  CDAccount  Online  CreditCard  \n",
       "0             0                  1          0       0           0  \n",
       "1             0                  1          0       0           0  \n",
       "2             0                  0          0       0           0  \n",
       "3             0                  0          0       0           0  \n",
       "4             0                  0          0       0           1  "
      ]
     },
     "execution_count": 78,
     "metadata": {},
     "output_type": "execute_result"
    }
   ],
   "source": [
    "bank_df = pd.read_csv('./UniversalBank.csv')\n",
    "bank_df.head()"
   ]
  },
  {
   "cell_type": "code",
   "execution_count": 79,
   "id": "f77495a4",
   "metadata": {
    "ExecuteTime": {
     "end_time": "2021-12-20T05:39:06.921290Z",
     "start_time": "2021-12-20T05:39:06.917289Z"
    }
   },
   "outputs": [
    {
     "data": {
      "text/plain": [
       "(5000, 14)"
      ]
     },
     "execution_count": 79,
     "metadata": {},
     "output_type": "execute_result"
    }
   ],
   "source": [
    "bank_df.shape"
   ]
  },
  {
   "cell_type": "code",
   "execution_count": 80,
   "id": "d61d498f",
   "metadata": {
    "ExecuteTime": {
     "end_time": "2021-12-20T05:39:07.372550Z",
     "start_time": "2021-12-20T05:39:07.356554Z"
    }
   },
   "outputs": [
    {
     "data": {
      "text/plain": [
       "Index(['ID', 'Age', 'Experience', 'Income', 'ZIPCode', 'Family', 'CCAvg',\n",
       "       'Education', 'Mortgage', 'PersonalLoan', 'SecuritiesAccount',\n",
       "       'CDAccount', 'Online', 'CreditCard'],\n",
       "      dtype='object')"
      ]
     },
     "execution_count": 80,
     "metadata": {},
     "output_type": "execute_result"
    }
   ],
   "source": [
    "bank_df.keys()"
   ]
  },
  {
   "cell_type": "code",
   "execution_count": 81,
   "id": "0118342e",
   "metadata": {
    "ExecuteTime": {
     "end_time": "2021-12-20T05:39:08.039282Z",
     "start_time": "2021-12-20T05:39:08.029276Z"
    }
   },
   "outputs": [
    {
     "data": {
      "text/html": [
       "<div>\n",
       "<style scoped>\n",
       "    .dataframe tbody tr th:only-of-type {\n",
       "        vertical-align: middle;\n",
       "    }\n",
       "\n",
       "    .dataframe tbody tr th {\n",
       "        vertical-align: top;\n",
       "    }\n",
       "\n",
       "    .dataframe thead th {\n",
       "        text-align: right;\n",
       "    }\n",
       "</style>\n",
       "<table border=\"1\" class=\"dataframe\">\n",
       "  <thead>\n",
       "    <tr style=\"text-align: right;\">\n",
       "      <th></th>\n",
       "      <th>Age</th>\n",
       "      <th>Experience</th>\n",
       "      <th>Income</th>\n",
       "      <th>Family</th>\n",
       "      <th>CCAvg</th>\n",
       "      <th>Education</th>\n",
       "      <th>Mortgage</th>\n",
       "      <th>SecuritiesAccount</th>\n",
       "      <th>CDAccount</th>\n",
       "      <th>Online</th>\n",
       "      <th>CreditCard</th>\n",
       "    </tr>\n",
       "  </thead>\n",
       "  <tbody>\n",
       "    <tr>\n",
       "      <th>0</th>\n",
       "      <td>25</td>\n",
       "      <td>1</td>\n",
       "      <td>49</td>\n",
       "      <td>4</td>\n",
       "      <td>1.6</td>\n",
       "      <td>1</td>\n",
       "      <td>0</td>\n",
       "      <td>1</td>\n",
       "      <td>0</td>\n",
       "      <td>0</td>\n",
       "      <td>0</td>\n",
       "    </tr>\n",
       "    <tr>\n",
       "      <th>1</th>\n",
       "      <td>45</td>\n",
       "      <td>19</td>\n",
       "      <td>34</td>\n",
       "      <td>3</td>\n",
       "      <td>1.5</td>\n",
       "      <td>1</td>\n",
       "      <td>0</td>\n",
       "      <td>1</td>\n",
       "      <td>0</td>\n",
       "      <td>0</td>\n",
       "      <td>0</td>\n",
       "    </tr>\n",
       "    <tr>\n",
       "      <th>2</th>\n",
       "      <td>39</td>\n",
       "      <td>15</td>\n",
       "      <td>11</td>\n",
       "      <td>1</td>\n",
       "      <td>1.0</td>\n",
       "      <td>1</td>\n",
       "      <td>0</td>\n",
       "      <td>0</td>\n",
       "      <td>0</td>\n",
       "      <td>0</td>\n",
       "      <td>0</td>\n",
       "    </tr>\n",
       "    <tr>\n",
       "      <th>3</th>\n",
       "      <td>35</td>\n",
       "      <td>9</td>\n",
       "      <td>100</td>\n",
       "      <td>1</td>\n",
       "      <td>2.7</td>\n",
       "      <td>2</td>\n",
       "      <td>0</td>\n",
       "      <td>0</td>\n",
       "      <td>0</td>\n",
       "      <td>0</td>\n",
       "      <td>0</td>\n",
       "    </tr>\n",
       "    <tr>\n",
       "      <th>4</th>\n",
       "      <td>35</td>\n",
       "      <td>8</td>\n",
       "      <td>45</td>\n",
       "      <td>4</td>\n",
       "      <td>1.0</td>\n",
       "      <td>2</td>\n",
       "      <td>0</td>\n",
       "      <td>0</td>\n",
       "      <td>0</td>\n",
       "      <td>0</td>\n",
       "      <td>1</td>\n",
       "    </tr>\n",
       "  </tbody>\n",
       "</table>\n",
       "</div>"
      ],
      "text/plain": [
       "   Age  Experience  Income  Family  CCAvg  Education  Mortgage  \\\n",
       "0   25           1      49       4    1.6          1         0   \n",
       "1   45          19      34       3    1.5          1         0   \n",
       "2   39          15      11       1    1.0          1         0   \n",
       "3   35           9     100       1    2.7          2         0   \n",
       "4   35           8      45       4    1.0          2         0   \n",
       "\n",
       "   SecuritiesAccount  CDAccount  Online  CreditCard  \n",
       "0                  1          0       0           0  \n",
       "1                  1          0       0           0  \n",
       "2                  0          0       0           0  \n",
       "3                  0          0       0           0  \n",
       "4                  0          0       0           1  "
      ]
     },
     "execution_count": 81,
     "metadata": {},
     "output_type": "execute_result"
    }
   ],
   "source": [
    "X = bank_df.drop(['ID','ZIPCode','PersonalLoan'], axis=1)\n",
    "X.head()"
   ]
  },
  {
   "cell_type": "code",
   "execution_count": 82,
   "id": "a3af3503",
   "metadata": {
    "ExecuteTime": {
     "end_time": "2021-12-20T05:39:08.609935Z",
     "start_time": "2021-12-20T05:39:08.598940Z"
    }
   },
   "outputs": [
    {
     "name": "stdout",
     "output_type": "stream",
     "text": [
      "(5000,)\n",
      "<class 'pandas.core.series.Series'>\n",
      "[4520  480]\n"
     ]
    }
   ],
   "source": [
    "y =bank_df['PersonalLoan']\n",
    "y.head()\n",
    "print(y.shape)\n",
    "print(type(y))\n",
    "print(np.bincount(y))"
   ]
  },
  {
   "cell_type": "markdown",
   "id": "f7e709d5",
   "metadata": {},
   "source": [
    "## 데이터 전처리\n",
    "문자형 자료를 숫자(범주형)로 인코딩 -> 범주형 변수를 가변수로 처리 : One Hot Encording<br>\n",
    "숫자형 자료를 표준화<br>\n",
    "단, 결정나무, 랜덤 포레스트, 나이브 베이즈 분류 : 원본데이터 그대로 유지<br>\n",
    "가변수 처리시 문자로 처리를 해야 변수명 구분이 쉬움<br>"
   ]
  },
  {
   "cell_type": "code",
   "execution_count": 83,
   "id": "592ad4d2",
   "metadata": {
    "ExecuteTime": {
     "end_time": "2021-12-20T05:39:10.358540Z",
     "start_time": "2021-12-20T05:39:10.349538Z"
    }
   },
   "outputs": [],
   "source": [
    "X['Education'] = X['Education'].replace([1,2,3], ['Under','Grad','Prof'])"
   ]
  },
  {
   "cell_type": "code",
   "execution_count": 84,
   "id": "add8d872",
   "metadata": {
    "ExecuteTime": {
     "end_time": "2021-12-20T05:39:10.827874Z",
     "start_time": "2021-12-20T05:39:10.813870Z"
    }
   },
   "outputs": [
    {
     "data": {
      "text/html": [
       "<div>\n",
       "<style scoped>\n",
       "    .dataframe tbody tr th:only-of-type {\n",
       "        vertical-align: middle;\n",
       "    }\n",
       "\n",
       "    .dataframe tbody tr th {\n",
       "        vertical-align: top;\n",
       "    }\n",
       "\n",
       "    .dataframe thead th {\n",
       "        text-align: right;\n",
       "    }\n",
       "</style>\n",
       "<table border=\"1\" class=\"dataframe\">\n",
       "  <thead>\n",
       "    <tr style=\"text-align: right;\">\n",
       "      <th></th>\n",
       "      <th>Age</th>\n",
       "      <th>Experience</th>\n",
       "      <th>Income</th>\n",
       "      <th>Family</th>\n",
       "      <th>CCAvg</th>\n",
       "      <th>Education</th>\n",
       "      <th>Mortgage</th>\n",
       "      <th>SecuritiesAccount</th>\n",
       "      <th>CDAccount</th>\n",
       "      <th>Online</th>\n",
       "      <th>CreditCard</th>\n",
       "    </tr>\n",
       "  </thead>\n",
       "  <tbody>\n",
       "    <tr>\n",
       "      <th>0</th>\n",
       "      <td>25</td>\n",
       "      <td>1</td>\n",
       "      <td>49</td>\n",
       "      <td>4</td>\n",
       "      <td>1.6</td>\n",
       "      <td>Under</td>\n",
       "      <td>0</td>\n",
       "      <td>1</td>\n",
       "      <td>0</td>\n",
       "      <td>0</td>\n",
       "      <td>0</td>\n",
       "    </tr>\n",
       "    <tr>\n",
       "      <th>1</th>\n",
       "      <td>45</td>\n",
       "      <td>19</td>\n",
       "      <td>34</td>\n",
       "      <td>3</td>\n",
       "      <td>1.5</td>\n",
       "      <td>Under</td>\n",
       "      <td>0</td>\n",
       "      <td>1</td>\n",
       "      <td>0</td>\n",
       "      <td>0</td>\n",
       "      <td>0</td>\n",
       "    </tr>\n",
       "    <tr>\n",
       "      <th>2</th>\n",
       "      <td>39</td>\n",
       "      <td>15</td>\n",
       "      <td>11</td>\n",
       "      <td>1</td>\n",
       "      <td>1.0</td>\n",
       "      <td>Under</td>\n",
       "      <td>0</td>\n",
       "      <td>0</td>\n",
       "      <td>0</td>\n",
       "      <td>0</td>\n",
       "      <td>0</td>\n",
       "    </tr>\n",
       "    <tr>\n",
       "      <th>3</th>\n",
       "      <td>35</td>\n",
       "      <td>9</td>\n",
       "      <td>100</td>\n",
       "      <td>1</td>\n",
       "      <td>2.7</td>\n",
       "      <td>Grad</td>\n",
       "      <td>0</td>\n",
       "      <td>0</td>\n",
       "      <td>0</td>\n",
       "      <td>0</td>\n",
       "      <td>0</td>\n",
       "    </tr>\n",
       "    <tr>\n",
       "      <th>4</th>\n",
       "      <td>35</td>\n",
       "      <td>8</td>\n",
       "      <td>45</td>\n",
       "      <td>4</td>\n",
       "      <td>1.0</td>\n",
       "      <td>Grad</td>\n",
       "      <td>0</td>\n",
       "      <td>0</td>\n",
       "      <td>0</td>\n",
       "      <td>0</td>\n",
       "      <td>1</td>\n",
       "    </tr>\n",
       "    <tr>\n",
       "      <th>...</th>\n",
       "      <td>...</td>\n",
       "      <td>...</td>\n",
       "      <td>...</td>\n",
       "      <td>...</td>\n",
       "      <td>...</td>\n",
       "      <td>...</td>\n",
       "      <td>...</td>\n",
       "      <td>...</td>\n",
       "      <td>...</td>\n",
       "      <td>...</td>\n",
       "      <td>...</td>\n",
       "    </tr>\n",
       "    <tr>\n",
       "      <th>4995</th>\n",
       "      <td>29</td>\n",
       "      <td>3</td>\n",
       "      <td>40</td>\n",
       "      <td>1</td>\n",
       "      <td>1.9</td>\n",
       "      <td>Prof</td>\n",
       "      <td>0</td>\n",
       "      <td>0</td>\n",
       "      <td>0</td>\n",
       "      <td>1</td>\n",
       "      <td>0</td>\n",
       "    </tr>\n",
       "    <tr>\n",
       "      <th>4996</th>\n",
       "      <td>30</td>\n",
       "      <td>4</td>\n",
       "      <td>15</td>\n",
       "      <td>4</td>\n",
       "      <td>0.4</td>\n",
       "      <td>Under</td>\n",
       "      <td>85</td>\n",
       "      <td>0</td>\n",
       "      <td>0</td>\n",
       "      <td>1</td>\n",
       "      <td>0</td>\n",
       "    </tr>\n",
       "    <tr>\n",
       "      <th>4997</th>\n",
       "      <td>63</td>\n",
       "      <td>39</td>\n",
       "      <td>24</td>\n",
       "      <td>2</td>\n",
       "      <td>0.3</td>\n",
       "      <td>Prof</td>\n",
       "      <td>0</td>\n",
       "      <td>0</td>\n",
       "      <td>0</td>\n",
       "      <td>0</td>\n",
       "      <td>0</td>\n",
       "    </tr>\n",
       "    <tr>\n",
       "      <th>4998</th>\n",
       "      <td>65</td>\n",
       "      <td>40</td>\n",
       "      <td>49</td>\n",
       "      <td>3</td>\n",
       "      <td>0.5</td>\n",
       "      <td>Grad</td>\n",
       "      <td>0</td>\n",
       "      <td>0</td>\n",
       "      <td>0</td>\n",
       "      <td>1</td>\n",
       "      <td>0</td>\n",
       "    </tr>\n",
       "    <tr>\n",
       "      <th>4999</th>\n",
       "      <td>28</td>\n",
       "      <td>4</td>\n",
       "      <td>83</td>\n",
       "      <td>3</td>\n",
       "      <td>0.8</td>\n",
       "      <td>Under</td>\n",
       "      <td>0</td>\n",
       "      <td>0</td>\n",
       "      <td>0</td>\n",
       "      <td>1</td>\n",
       "      <td>1</td>\n",
       "    </tr>\n",
       "  </tbody>\n",
       "</table>\n",
       "<p>5000 rows × 11 columns</p>\n",
       "</div>"
      ],
      "text/plain": [
       "      Age  Experience  Income  Family  CCAvg Education  Mortgage  \\\n",
       "0      25           1      49       4    1.6     Under         0   \n",
       "1      45          19      34       3    1.5     Under         0   \n",
       "2      39          15      11       1    1.0     Under         0   \n",
       "3      35           9     100       1    2.7      Grad         0   \n",
       "4      35           8      45       4    1.0      Grad         0   \n",
       "...   ...         ...     ...     ...    ...       ...       ...   \n",
       "4995   29           3      40       1    1.9      Prof         0   \n",
       "4996   30           4      15       4    0.4     Under        85   \n",
       "4997   63          39      24       2    0.3      Prof         0   \n",
       "4998   65          40      49       3    0.5      Grad         0   \n",
       "4999   28           4      83       3    0.8     Under         0   \n",
       "\n",
       "      SecuritiesAccount  CDAccount  Online  CreditCard  \n",
       "0                     1          0       0           0  \n",
       "1                     1          0       0           0  \n",
       "2                     0          0       0           0  \n",
       "3                     0          0       0           0  \n",
       "4                     0          0       0           1  \n",
       "...                 ...        ...     ...         ...  \n",
       "4995                  0          0       1           0  \n",
       "4996                  0          0       1           0  \n",
       "4997                  0          0       0           0  \n",
       "4998                  0          0       1           0  \n",
       "4999                  0          0       1           1  \n",
       "\n",
       "[5000 rows x 11 columns]"
      ]
     },
     "execution_count": 84,
     "metadata": {},
     "output_type": "execute_result"
    }
   ],
   "source": [
    "X"
   ]
  },
  {
   "cell_type": "code",
   "execution_count": 85,
   "id": "87be2560",
   "metadata": {
    "ExecuteTime": {
     "end_time": "2021-12-20T05:39:14.496367Z",
     "start_time": "2021-12-20T05:39:14.485365Z"
    }
   },
   "outputs": [],
   "source": [
    "X = pd.get_dummies(X[['Age', 'Experience', 'Income', 'Family', 'CCAvg', 'Education', \n",
    "                      'Mortgage', 'SecuritiesAccount', 'CDAccount', 'Online', 'CreditCard']],\n",
    "                   columns=['Education'],\n",
    "                   drop_first = True)"
   ]
  },
  {
   "cell_type": "code",
   "execution_count": 86,
   "id": "018d696e",
   "metadata": {
    "ExecuteTime": {
     "end_time": "2021-12-20T05:39:16.243841Z",
     "start_time": "2021-12-20T05:39:16.221844Z"
    }
   },
   "outputs": [
    {
     "data": {
      "text/html": [
       "<div>\n",
       "<style scoped>\n",
       "    .dataframe tbody tr th:only-of-type {\n",
       "        vertical-align: middle;\n",
       "    }\n",
       "\n",
       "    .dataframe tbody tr th {\n",
       "        vertical-align: top;\n",
       "    }\n",
       "\n",
       "    .dataframe thead th {\n",
       "        text-align: right;\n",
       "    }\n",
       "</style>\n",
       "<table border=\"1\" class=\"dataframe\">\n",
       "  <thead>\n",
       "    <tr style=\"text-align: right;\">\n",
       "      <th></th>\n",
       "      <th>Age</th>\n",
       "      <th>Experience</th>\n",
       "      <th>Income</th>\n",
       "      <th>Family</th>\n",
       "      <th>CCAvg</th>\n",
       "      <th>Mortgage</th>\n",
       "      <th>SecuritiesAccount</th>\n",
       "      <th>CDAccount</th>\n",
       "      <th>Online</th>\n",
       "      <th>CreditCard</th>\n",
       "      <th>Education_Prof</th>\n",
       "      <th>Education_Under</th>\n",
       "    </tr>\n",
       "  </thead>\n",
       "  <tbody>\n",
       "    <tr>\n",
       "      <th>0</th>\n",
       "      <td>25</td>\n",
       "      <td>1</td>\n",
       "      <td>49</td>\n",
       "      <td>4</td>\n",
       "      <td>1.6</td>\n",
       "      <td>0</td>\n",
       "      <td>1</td>\n",
       "      <td>0</td>\n",
       "      <td>0</td>\n",
       "      <td>0</td>\n",
       "      <td>0</td>\n",
       "      <td>1</td>\n",
       "    </tr>\n",
       "    <tr>\n",
       "      <th>1</th>\n",
       "      <td>45</td>\n",
       "      <td>19</td>\n",
       "      <td>34</td>\n",
       "      <td>3</td>\n",
       "      <td>1.5</td>\n",
       "      <td>0</td>\n",
       "      <td>1</td>\n",
       "      <td>0</td>\n",
       "      <td>0</td>\n",
       "      <td>0</td>\n",
       "      <td>0</td>\n",
       "      <td>1</td>\n",
       "    </tr>\n",
       "    <tr>\n",
       "      <th>2</th>\n",
       "      <td>39</td>\n",
       "      <td>15</td>\n",
       "      <td>11</td>\n",
       "      <td>1</td>\n",
       "      <td>1.0</td>\n",
       "      <td>0</td>\n",
       "      <td>0</td>\n",
       "      <td>0</td>\n",
       "      <td>0</td>\n",
       "      <td>0</td>\n",
       "      <td>0</td>\n",
       "      <td>1</td>\n",
       "    </tr>\n",
       "    <tr>\n",
       "      <th>3</th>\n",
       "      <td>35</td>\n",
       "      <td>9</td>\n",
       "      <td>100</td>\n",
       "      <td>1</td>\n",
       "      <td>2.7</td>\n",
       "      <td>0</td>\n",
       "      <td>0</td>\n",
       "      <td>0</td>\n",
       "      <td>0</td>\n",
       "      <td>0</td>\n",
       "      <td>0</td>\n",
       "      <td>0</td>\n",
       "    </tr>\n",
       "    <tr>\n",
       "      <th>4</th>\n",
       "      <td>35</td>\n",
       "      <td>8</td>\n",
       "      <td>45</td>\n",
       "      <td>4</td>\n",
       "      <td>1.0</td>\n",
       "      <td>0</td>\n",
       "      <td>0</td>\n",
       "      <td>0</td>\n",
       "      <td>0</td>\n",
       "      <td>1</td>\n",
       "      <td>0</td>\n",
       "      <td>0</td>\n",
       "    </tr>\n",
       "  </tbody>\n",
       "</table>\n",
       "</div>"
      ],
      "text/plain": [
       "   Age  Experience  Income  Family  CCAvg  Mortgage  SecuritiesAccount  \\\n",
       "0   25           1      49       4    1.6         0                  1   \n",
       "1   45          19      34       3    1.5         0                  1   \n",
       "2   39          15      11       1    1.0         0                  0   \n",
       "3   35           9     100       1    2.7         0                  0   \n",
       "4   35           8      45       4    1.0         0                  0   \n",
       "\n",
       "   CDAccount  Online  CreditCard  Education_Prof  Education_Under  \n",
       "0          0       0           0               0                1  \n",
       "1          0       0           0               0                1  \n",
       "2          0       0           0               0                1  \n",
       "3          0       0           0               0                0  \n",
       "4          0       0           1               0                0  "
      ]
     },
     "execution_count": 86,
     "metadata": {},
     "output_type": "execute_result"
    }
   ],
   "source": [
    "X.head()"
   ]
  },
  {
   "cell_type": "markdown",
   "id": "30007f94",
   "metadata": {},
   "source": [
    "## 훈련/검증용 데이터 분할 "
   ]
  },
  {
   "cell_type": "code",
   "execution_count": 87,
   "id": "1bb8e8a1",
   "metadata": {
    "ExecuteTime": {
     "end_time": "2021-12-20T05:40:56.876233Z",
     "start_time": "2021-12-20T05:40:56.868232Z"
    }
   },
   "outputs": [],
   "source": [
    "x_train, x_test, y_train, y_test = train_test_split(X,y, test_size=0.3, random_state=1, stratify=y)\n"
   ]
  },
  {
   "cell_type": "markdown",
   "id": "2993709b",
   "metadata": {},
   "source": [
    "## 모델 구축"
   ]
  },
  {
   "cell_type": "code",
   "execution_count": 88,
   "id": "0edb4023",
   "metadata": {
    "ExecuteTime": {
     "end_time": "2021-12-20T05:41:56.015519Z",
     "start_time": "2021-12-20T05:41:55.995508Z"
    }
   },
   "outputs": [
    {
     "data": {
      "text/plain": [
       "DecisionTreeClassifier(random_state=1)"
      ]
     },
     "execution_count": 88,
     "metadata": {},
     "output_type": "execute_result"
    }
   ],
   "source": [
    "model = DecisionTreeClassifier(criterion='gini', max_depth=None, random_state=1)\n",
    "model.fit(x_train, y_train)"
   ]
  },
  {
   "cell_type": "markdown",
   "id": "909930a4",
   "metadata": {},
   "source": [
    "## 모델검정 "
   ]
  },
  {
   "cell_type": "code",
   "execution_count": 89,
   "id": "732cc66f",
   "metadata": {
    "ExecuteTime": {
     "end_time": "2021-12-20T05:42:42.065806Z",
     "start_time": "2021-12-20T05:42:42.057804Z"
    }
   },
   "outputs": [
    {
     "data": {
      "text/plain": [
       "array([1, 0, 0, ..., 0, 0, 0], dtype=int64)"
      ]
     },
     "execution_count": 89,
     "metadata": {},
     "output_type": "execute_result"
    }
   ],
   "source": [
    "y_predict = model.predict(x_test)\n",
    "y_predict"
   ]
  },
  {
   "cell_type": "code",
   "execution_count": 90,
   "id": "4c5e17f2",
   "metadata": {
    "ExecuteTime": {
     "end_time": "2021-12-20T05:43:03.982115Z",
     "start_time": "2021-12-20T05:43:03.972121Z"
    }
   },
   "outputs": [
    {
     "data": {
      "text/plain": [
       "array([[0., 1.],\n",
       "       [1., 0.],\n",
       "       [1., 0.],\n",
       "       ...,\n",
       "       [1., 0.],\n",
       "       [1., 0.],\n",
       "       [1., 0.]])"
      ]
     },
     "execution_count": 90,
     "metadata": {},
     "output_type": "execute_result"
    }
   ],
   "source": [
    "y_pred_proba = model.predict_proba(x_test)\n",
    "y_pred_proba"
   ]
  },
  {
   "cell_type": "code",
   "execution_count": 91,
   "id": "0e780f3d",
   "metadata": {
    "ExecuteTime": {
     "end_time": "2021-12-20T05:44:34.155310Z",
     "start_time": "2021-12-20T05:44:34.136305Z"
    }
   },
   "outputs": [
    {
     "data": {
      "text/html": [
       "<div>\n",
       "<style scoped>\n",
       "    .dataframe tbody tr th:only-of-type {\n",
       "        vertical-align: middle;\n",
       "    }\n",
       "\n",
       "    .dataframe tbody tr th {\n",
       "        vertical-align: top;\n",
       "    }\n",
       "\n",
       "    .dataframe thead th {\n",
       "        text-align: right;\n",
       "    }\n",
       "</style>\n",
       "<table border=\"1\" class=\"dataframe\">\n",
       "  <thead>\n",
       "    <tr style=\"text-align: right;\">\n",
       "      <th></th>\n",
       "      <th>pred[0]</th>\n",
       "      <th>pred[1]</th>\n",
       "    </tr>\n",
       "  </thead>\n",
       "  <tbody>\n",
       "    <tr>\n",
       "      <th>True[0]</th>\n",
       "      <td>1347</td>\n",
       "      <td>9</td>\n",
       "    </tr>\n",
       "    <tr>\n",
       "      <th>True[1]</th>\n",
       "      <td>19</td>\n",
       "      <td>125</td>\n",
       "    </tr>\n",
       "  </tbody>\n",
       "</table>\n",
       "</div>"
      ],
      "text/plain": [
       "         pred[0]  pred[1]\n",
       "True[0]     1347        9\n",
       "True[1]       19      125"
      ]
     },
     "execution_count": 91,
     "metadata": {},
     "output_type": "execute_result"
    }
   ],
   "source": [
    "confu_mat = pd.DataFrame(confusion_matrix(y_test, y_predict), index = ['True[0]','True[1]'], columns=['pred[0]', 'pred[1]'])\n",
    "confu_mat"
   ]
  },
  {
   "cell_type": "code",
   "execution_count": 92,
   "id": "34e03339",
   "metadata": {
    "ExecuteTime": {
     "end_time": "2021-12-20T05:45:01.550377Z",
     "start_time": "2021-12-20T05:45:01.532380Z"
    }
   },
   "outputs": [
    {
     "name": "stdout",
     "output_type": "stream",
     "text": [
      "              precision    recall  f1-score   support\n",
      "\n",
      "           0       0.99      0.99      0.99      1356\n",
      "           1       0.93      0.87      0.90       144\n",
      "\n",
      "    accuracy                           0.98      1500\n",
      "   macro avg       0.96      0.93      0.94      1500\n",
      "weighted avg       0.98      0.98      0.98      1500\n",
      "\n"
     ]
    }
   ],
   "source": [
    "print(classification_report(y_test, y_predict))"
   ]
  },
  {
   "cell_type": "code",
   "execution_count": 96,
   "id": "bcc972e5",
   "metadata": {
    "ExecuteTime": {
     "end_time": "2021-12-20T05:48:33.410449Z",
     "start_time": "2021-12-20T05:48:33.399453Z"
    }
   },
   "outputs": [
    {
     "name": "stdout",
     "output_type": "stream",
     "text": [
      "잘못 분류된 샘플 개수: 28\n",
      "정확도: 0.981\n",
      "정밀도: 0.933\n",
      "재현율: 0.868\n",
      "F1: 0.899\n"
     ]
    }
   ],
   "source": [
    "print('잘못 분류된 샘플 개수: %d' % (y_test != y_predict).sum())\n",
    "print('정확도: %.3f' % accuracy_score(y_test, y_predict))\n",
    "print('정밀도: %.3f' % precision_score(y_true=y_test, y_pred=y_predict))\n",
    "print('재현율: %.3f' % recall_score(y_true=y_test, y_pred=y_predict))\n",
    "print('F1: %.3f' % f1_score(y_true=y_test, y_pred=y_predict))"
   ]
  },
  {
   "cell_type": "markdown",
   "id": "76f87887",
   "metadata": {},
   "source": [
    "## ROC 곡선 그리기 "
   ]
  },
  {
   "cell_type": "code",
   "execution_count": 99,
   "id": "789293bf",
   "metadata": {
    "ExecuteTime": {
     "end_time": "2021-12-20T05:52:39.166143Z",
     "start_time": "2021-12-20T05:52:39.152140Z"
    }
   },
   "outputs": [],
   "source": [
    "# fpr, tpr, thresholds = roc_curve(y_test, tree.decision_function(X_test))\n",
    "fpr, tpr, thresholds = roc_curve(y_test, model.predict_proba(x_test)[:, 1])"
   ]
  },
  {
   "cell_type": "code",
   "execution_count": 100,
   "id": "81c40aa5",
   "metadata": {
    "ExecuteTime": {
     "end_time": "2021-12-20T05:52:45.105764Z",
     "start_time": "2021-12-20T05:52:45.088761Z"
    }
   },
   "outputs": [
    {
     "data": {
      "text/plain": [
       "(array([0.        , 0.00663717, 1.        ]),\n",
       " array([0.        , 0.86805556, 1.        ]),\n",
       " array([2., 1., 0.]))"
      ]
     },
     "execution_count": 100,
     "metadata": {},
     "output_type": "execute_result"
    }
   ],
   "source": [
    "fpr, tpr, thresholds"
   ]
  },
  {
   "cell_type": "code",
   "execution_count": 101,
   "id": "15a37105",
   "metadata": {
    "ExecuteTime": {
     "end_time": "2021-12-20T05:53:00.497133Z",
     "start_time": "2021-12-20T05:53:00.307391Z"
    }
   },
   "outputs": [
    {
     "data": {
      "image/png": "[encoded data removed]",
      "text/plain": [
       "<Figure size 432x288 with 1 Axes>"
      ]
     },
     "metadata": {
      "needs_background": "light"
     },
     "output_type": "display_data"
    }
   ],
   "source": [
    "plt.plot(fpr, tpr, '--', label=\"Decision Tree\")\n",
    "plt.plot([0, 1], [0, 1], 'k--', label=\"random guess\")\n",
    "plt.plot([fpr], [tpr], 'r-', ms=10)\n",
    "plt.xlabel('FPR')\n",
    "plt.ylabel('TPR')\n",
    "plt.title('ROC')\n",
    "plt.show()"
   ]
  },
  {
   "cell_type": "markdown",
   "id": "03d717b4",
   "metadata": {},
   "source": [
    "# 나이브베이즈(질적자료변환) "
   ]
  },
  {
   "cell_type": "code",
   "execution_count": 102,
   "id": "43bf52d6",
   "metadata": {
    "ExecuteTime": {
     "end_time": "2021-12-20T06:33:45.241003Z",
     "start_time": "2021-12-20T06:33:45.233992Z"
    }
   },
   "outputs": [],
   "source": [
    "## 1.기본\n",
    "import numpy as np  # numpy 패키지 가져오기\n",
    "import matplotlib.pyplot as plt # 시각화 패키지 가져오기\n",
    "\n",
    "## 2.데이터 가져오기\n",
    "import pandas as pd # csv -> dataframe으로 전환\n",
    "from sklearn import datasets # python 저장 데이터 가져오기\n",
    "\n",
    "## 3.데이터 전처리\n",
    "from sklearn.preprocessing import StandardScaler # 연속변수의 표준화\n",
    "from sklearn.preprocessing import LabelEncoder # 범주형 변수 수치화\n",
    "\n",
    "# 4. 훈련/검증용 데이터 분리\n",
    "from sklearn.model_selection import train_test_split \n",
    "\n",
    "## 5.분류모델구축 (3장.p.83~130)\n",
    "# from sklearn.tree import DecisionTreeClassifier # 결정 트리\n",
    "from sklearn.naive_bayes import GaussianNB # 나이브 베이지안 (실수형)\n",
    "from sklearn.naive_bayes import MultinomialNB # 나이브 베이지안(정수형)\n",
    "from sklearn.naive_bayes import BernoulliNB # 나이브 베이지안(바이너리형(0,1))\n",
    "\n",
    "\n",
    "## 6.모델검정\n",
    "from sklearn.metrics import confusion_matrix, classification_report # 정오분류표\n",
    "from sklearn.metrics import accuracy_score, precision_score, recall_score, f1_score, roc_auc_score # 정확도, 민감도 등\n",
    "from sklearn.metrics import roc_curve, auc # ROC 곡선 그리기\n",
    "\n",
    "## 7.최적화\n",
    "from sklearn.model_selection import cross_validate # 교차타당도\n",
    "from sklearn.pipeline import make_pipeline # 파이프라인 구축\n",
    "from sklearn.model_selection import learning_curve, validation_curve # 학습곡선, 검증곡선\n",
    "from sklearn.model_selection import GridSearchCV # 하이퍼파라미터 튜닝"
   ]
  },
  {
   "cell_type": "markdown",
   "id": "360b8f7c",
   "metadata": {},
   "source": [
    "## 데이터 가져오기 "
   ]
  },
  {
   "cell_type": "code",
   "execution_count": 135,
   "id": "24e03cf4",
   "metadata": {
    "ExecuteTime": {
     "end_time": "2021-12-20T06:53:38.942089Z",
     "start_time": "2021-12-20T06:53:38.911082Z"
    }
   },
   "outputs": [
    {
     "data": {
      "text/html": [
       "<div>\n",
       "<style scoped>\n",
       "    .dataframe tbody tr th:only-of-type {\n",
       "        vertical-align: middle;\n",
       "    }\n",
       "\n",
       "    .dataframe tbody tr th {\n",
       "        vertical-align: top;\n",
       "    }\n",
       "\n",
       "    .dataframe thead th {\n",
       "        text-align: right;\n",
       "    }\n",
       "</style>\n",
       "<table border=\"1\" class=\"dataframe\">\n",
       "  <thead>\n",
       "    <tr style=\"text-align: right;\">\n",
       "      <th></th>\n",
       "      <th>CRS_DEP_TIME</th>\n",
       "      <th>CARRIER</th>\n",
       "      <th>DEP_TIME</th>\n",
       "      <th>DEST</th>\n",
       "      <th>DISTANCE</th>\n",
       "      <th>FL_DATE</th>\n",
       "      <th>FL_NUM</th>\n",
       "      <th>ORIGIN</th>\n",
       "      <th>Weather</th>\n",
       "      <th>DAY_WEEK</th>\n",
       "      <th>DAY_OF_MONTH</th>\n",
       "      <th>TAIL_NUM</th>\n",
       "      <th>FlightStatus</th>\n",
       "    </tr>\n",
       "  </thead>\n",
       "  <tbody>\n",
       "    <tr>\n",
       "      <th>0</th>\n",
       "      <td>1455</td>\n",
       "      <td>OH</td>\n",
       "      <td>1455</td>\n",
       "      <td>JFK</td>\n",
       "      <td>184</td>\n",
       "      <td>01/01/2004</td>\n",
       "      <td>5935</td>\n",
       "      <td>BWI</td>\n",
       "      <td>0</td>\n",
       "      <td>THU</td>\n",
       "      <td>1</td>\n",
       "      <td>N940CA</td>\n",
       "      <td>ontime</td>\n",
       "    </tr>\n",
       "    <tr>\n",
       "      <th>1</th>\n",
       "      <td>1640</td>\n",
       "      <td>DH</td>\n",
       "      <td>1640</td>\n",
       "      <td>JFK</td>\n",
       "      <td>213</td>\n",
       "      <td>01/01/2004</td>\n",
       "      <td>6155</td>\n",
       "      <td>DCA</td>\n",
       "      <td>0</td>\n",
       "      <td>THU</td>\n",
       "      <td>1</td>\n",
       "      <td>N405FJ</td>\n",
       "      <td>ontime</td>\n",
       "    </tr>\n",
       "    <tr>\n",
       "      <th>2</th>\n",
       "      <td>1245</td>\n",
       "      <td>DH</td>\n",
       "      <td>1245</td>\n",
       "      <td>LGA</td>\n",
       "      <td>229</td>\n",
       "      <td>01/01/2004</td>\n",
       "      <td>7208</td>\n",
       "      <td>IAD</td>\n",
       "      <td>0</td>\n",
       "      <td>THU</td>\n",
       "      <td>1</td>\n",
       "      <td>N695BR</td>\n",
       "      <td>ontime</td>\n",
       "    </tr>\n",
       "    <tr>\n",
       "      <th>3</th>\n",
       "      <td>1715</td>\n",
       "      <td>DH</td>\n",
       "      <td>1709</td>\n",
       "      <td>LGA</td>\n",
       "      <td>229</td>\n",
       "      <td>01/01/2004</td>\n",
       "      <td>7215</td>\n",
       "      <td>IAD</td>\n",
       "      <td>0</td>\n",
       "      <td>THU</td>\n",
       "      <td>1</td>\n",
       "      <td>N662BR</td>\n",
       "      <td>ontime</td>\n",
       "    </tr>\n",
       "    <tr>\n",
       "      <th>4</th>\n",
       "      <td>1039</td>\n",
       "      <td>DH</td>\n",
       "      <td>1035</td>\n",
       "      <td>LGA</td>\n",
       "      <td>229</td>\n",
       "      <td>01/01/2004</td>\n",
       "      <td>7792</td>\n",
       "      <td>IAD</td>\n",
       "      <td>0</td>\n",
       "      <td>THU</td>\n",
       "      <td>1</td>\n",
       "      <td>N698BR</td>\n",
       "      <td>ontime</td>\n",
       "    </tr>\n",
       "    <tr>\n",
       "      <th>...</th>\n",
       "      <td>...</td>\n",
       "      <td>...</td>\n",
       "      <td>...</td>\n",
       "      <td>...</td>\n",
       "      <td>...</td>\n",
       "      <td>...</td>\n",
       "      <td>...</td>\n",
       "      <td>...</td>\n",
       "      <td>...</td>\n",
       "      <td>...</td>\n",
       "      <td>...</td>\n",
       "      <td>...</td>\n",
       "      <td>...</td>\n",
       "    </tr>\n",
       "    <tr>\n",
       "      <th>2196</th>\n",
       "      <td>645</td>\n",
       "      <td>RU</td>\n",
       "      <td>644</td>\n",
       "      <td>EWR</td>\n",
       "      <td>199</td>\n",
       "      <td>1/31/2004</td>\n",
       "      <td>2761</td>\n",
       "      <td>DCA</td>\n",
       "      <td>0</td>\n",
       "      <td>SAT</td>\n",
       "      <td>31</td>\n",
       "      <td>N15555</td>\n",
       "      <td>ontime</td>\n",
       "    </tr>\n",
       "    <tr>\n",
       "      <th>2197</th>\n",
       "      <td>1700</td>\n",
       "      <td>RU</td>\n",
       "      <td>1653</td>\n",
       "      <td>EWR</td>\n",
       "      <td>213</td>\n",
       "      <td>1/31/2004</td>\n",
       "      <td>2497</td>\n",
       "      <td>IAD</td>\n",
       "      <td>0</td>\n",
       "      <td>SAT</td>\n",
       "      <td>31</td>\n",
       "      <td>N16976</td>\n",
       "      <td>ontime</td>\n",
       "    </tr>\n",
       "    <tr>\n",
       "      <th>2198</th>\n",
       "      <td>1600</td>\n",
       "      <td>RU</td>\n",
       "      <td>1558</td>\n",
       "      <td>EWR</td>\n",
       "      <td>199</td>\n",
       "      <td>1/31/2004</td>\n",
       "      <td>2361</td>\n",
       "      <td>DCA</td>\n",
       "      <td>0</td>\n",
       "      <td>SAT</td>\n",
       "      <td>31</td>\n",
       "      <td>N14902</td>\n",
       "      <td>ontime</td>\n",
       "    </tr>\n",
       "    <tr>\n",
       "      <th>2199</th>\n",
       "      <td>1359</td>\n",
       "      <td>RU</td>\n",
       "      <td>1403</td>\n",
       "      <td>EWR</td>\n",
       "      <td>199</td>\n",
       "      <td>1/31/2004</td>\n",
       "      <td>2216</td>\n",
       "      <td>DCA</td>\n",
       "      <td>0</td>\n",
       "      <td>SAT</td>\n",
       "      <td>31</td>\n",
       "      <td>N16961</td>\n",
       "      <td>ontime</td>\n",
       "    </tr>\n",
       "    <tr>\n",
       "      <th>2200</th>\n",
       "      <td>1730</td>\n",
       "      <td>RU</td>\n",
       "      <td>1736</td>\n",
       "      <td>EWR</td>\n",
       "      <td>199</td>\n",
       "      <td>1/31/2004</td>\n",
       "      <td>2097</td>\n",
       "      <td>DCA</td>\n",
       "      <td>0</td>\n",
       "      <td>SAT</td>\n",
       "      <td>31</td>\n",
       "      <td>N13994</td>\n",
       "      <td>ontime</td>\n",
       "    </tr>\n",
       "  </tbody>\n",
       "</table>\n",
       "<p>2201 rows × 13 columns</p>\n",
       "</div>"
      ],
      "text/plain": [
       "      CRS_DEP_TIME CARRIER  DEP_TIME DEST  DISTANCE     FL_DATE  FL_NUM  \\\n",
       "0             1455      OH      1455  JFK       184  01/01/2004    5935   \n",
       "1             1640      DH      1640  JFK       213  01/01/2004    6155   \n",
       "2             1245      DH      1245  LGA       229  01/01/2004    7208   \n",
       "3             1715      DH      1709  LGA       229  01/01/2004    7215   \n",
       "4             1039      DH      1035  LGA       229  01/01/2004    7792   \n",
       "...            ...     ...       ...  ...       ...         ...     ...   \n",
       "2196           645      RU       644  EWR       199   1/31/2004    2761   \n",
       "2197          1700      RU      1653  EWR       213   1/31/2004    2497   \n",
       "2198          1600      RU      1558  EWR       199   1/31/2004    2361   \n",
       "2199          1359      RU      1403  EWR       199   1/31/2004    2216   \n",
       "2200          1730      RU      1736  EWR       199   1/31/2004    2097   \n",
       "\n",
       "     ORIGIN  Weather DAY_WEEK  DAY_OF_MONTH TAIL_NUM FlightStatus  \n",
       "0       BWI        0      THU             1   N940CA       ontime  \n",
       "1       DCA        0      THU             1   N405FJ       ontime  \n",
       "2       IAD        0      THU             1   N695BR       ontime  \n",
       "3       IAD        0      THU             1   N662BR       ontime  \n",
       "4       IAD        0      THU             1   N698BR       ontime  \n",
       "...     ...      ...      ...           ...      ...          ...  \n",
       "2196    DCA        0      SAT            31   N15555       ontime  \n",
       "2197    IAD        0      SAT            31   N16976       ontime  \n",
       "2198    DCA        0      SAT            31   N14902       ontime  \n",
       "2199    DCA        0      SAT            31   N16961       ontime  \n",
       "2200    DCA        0      SAT            31   N13994       ontime  \n",
       "\n",
       "[2201 rows x 13 columns]"
      ]
     },
     "execution_count": 135,
     "metadata": {},
     "output_type": "execute_result"
    }
   ],
   "source": [
    "delay_df = pd.read_csv('./FlightDelays.csv')\n",
    "delay_df"
   ]
  },
  {
   "cell_type": "code",
   "execution_count": 136,
   "id": "74f68b99",
   "metadata": {
    "ExecuteTime": {
     "end_time": "2021-12-20T06:53:39.486029Z",
     "start_time": "2021-12-20T06:53:39.480036Z"
    }
   },
   "outputs": [
    {
     "data": {
      "text/plain": [
       "Index(['CRS_DEP_TIME', 'CARRIER', 'DEP_TIME', 'DEST', 'DISTANCE', 'FL_DATE',\n",
       "       'FL_NUM', 'ORIGIN', 'Weather', 'DAY_WEEK', 'DAY_OF_MONTH', 'TAIL_NUM',\n",
       "       'FlightStatus'],\n",
       "      dtype='object')"
      ]
     },
     "execution_count": 136,
     "metadata": {},
     "output_type": "execute_result"
    }
   ],
   "source": [
    "delay_df.keys()"
   ]
  },
  {
   "cell_type": "code",
   "execution_count": 137,
   "id": "c539bc99",
   "metadata": {
    "ExecuteTime": {
     "end_time": "2021-12-20T06:53:40.132366Z",
     "start_time": "2021-12-20T06:53:40.120362Z"
    }
   },
   "outputs": [
    {
     "data": {
      "text/html": [
       "<div>\n",
       "<style scoped>\n",
       "    .dataframe tbody tr th:only-of-type {\n",
       "        vertical-align: middle;\n",
       "    }\n",
       "\n",
       "    .dataframe tbody tr th {\n",
       "        vertical-align: top;\n",
       "    }\n",
       "\n",
       "    .dataframe thead th {\n",
       "        text-align: right;\n",
       "    }\n",
       "</style>\n",
       "<table border=\"1\" class=\"dataframe\">\n",
       "  <thead>\n",
       "    <tr style=\"text-align: right;\">\n",
       "      <th></th>\n",
       "      <th>DAY_WEEK</th>\n",
       "      <th>CRS_DEP_TIME</th>\n",
       "      <th>ORIGIN</th>\n",
       "      <th>DEST</th>\n",
       "      <th>CARRIER</th>\n",
       "    </tr>\n",
       "  </thead>\n",
       "  <tbody>\n",
       "    <tr>\n",
       "      <th>0</th>\n",
       "      <td>THU</td>\n",
       "      <td>1455</td>\n",
       "      <td>BWI</td>\n",
       "      <td>JFK</td>\n",
       "      <td>OH</td>\n",
       "    </tr>\n",
       "    <tr>\n",
       "      <th>1</th>\n",
       "      <td>THU</td>\n",
       "      <td>1640</td>\n",
       "      <td>DCA</td>\n",
       "      <td>JFK</td>\n",
       "      <td>DH</td>\n",
       "    </tr>\n",
       "    <tr>\n",
       "      <th>2</th>\n",
       "      <td>THU</td>\n",
       "      <td>1245</td>\n",
       "      <td>IAD</td>\n",
       "      <td>LGA</td>\n",
       "      <td>DH</td>\n",
       "    </tr>\n",
       "    <tr>\n",
       "      <th>3</th>\n",
       "      <td>THU</td>\n",
       "      <td>1715</td>\n",
       "      <td>IAD</td>\n",
       "      <td>LGA</td>\n",
       "      <td>DH</td>\n",
       "    </tr>\n",
       "    <tr>\n",
       "      <th>4</th>\n",
       "      <td>THU</td>\n",
       "      <td>1039</td>\n",
       "      <td>IAD</td>\n",
       "      <td>LGA</td>\n",
       "      <td>DH</td>\n",
       "    </tr>\n",
       "  </tbody>\n",
       "</table>\n",
       "</div>"
      ],
      "text/plain": [
       "  DAY_WEEK  CRS_DEP_TIME ORIGIN DEST CARRIER\n",
       "0      THU          1455    BWI  JFK      OH\n",
       "1      THU          1640    DCA  JFK      DH\n",
       "2      THU          1245    IAD  LGA      DH\n",
       "3      THU          1715    IAD  LGA      DH\n",
       "4      THU          1039    IAD  LGA      DH"
      ]
     },
     "execution_count": 137,
     "metadata": {},
     "output_type": "execute_result"
    }
   ],
   "source": [
    "X = delay_df.iloc[:,[9,0,7,3,1]]\n",
    "X.head()"
   ]
  },
  {
   "cell_type": "code",
   "execution_count": 138,
   "id": "fb704826",
   "metadata": {
    "ExecuteTime": {
     "end_time": "2021-12-20T06:53:40.858702Z",
     "start_time": "2021-12-20T06:53:40.840706Z"
    }
   },
   "outputs": [
    {
     "data": {
      "text/plain": [
       "ontime     1773\n",
       "delayed     428\n",
       "Name: FlightStatus, dtype: int64"
      ]
     },
     "execution_count": 138,
     "metadata": {},
     "output_type": "execute_result"
    }
   ],
   "source": [
    "y = delay_df.iloc[:,[12]]\n",
    "y['FlightStatus'].value_counts()"
   ]
  },
  {
   "cell_type": "markdown",
   "id": "da93a642",
   "metadata": {},
   "source": [
    "## 데이터 전처리 "
   ]
  },
  {
   "cell_type": "code",
   "execution_count": 139,
   "id": "3e541948",
   "metadata": {
    "ExecuteTime": {
     "end_time": "2021-12-20T06:53:42.323061Z",
     "start_time": "2021-12-20T06:53:42.304056Z"
    }
   },
   "outputs": [
    {
     "name": "stderr",
     "output_type": "stream",
     "text": [
      "C:\\Users\\admin\\AppData\\Local\\Temp/ipykernel_5292/3331462031.py:2: SettingWithCopyWarning: \n",
      "A value is trying to be set on a copy of a slice from a DataFrame.\n",
      "Try using .loc[row_indexer,col_indexer] = value instead\n",
      "\n",
      "See the caveats in the documentation: https://pandas.pydata.org/pandas-docs/stable/user_guide/indexing.html#returning-a-view-versus-a-copy\n",
      "  X['CRS_DEP_TIME'] = X['CRS_DEP_TIME'].astype('category')\n"
     ]
    },
    {
     "data": {
      "text/plain": [
       "DAY_WEEK          object\n",
       "CRS_DEP_TIME    category\n",
       "ORIGIN            object\n",
       "DEST              object\n",
       "CARRIER           object\n",
       "dtype: object"
      ]
     },
     "execution_count": 139,
     "metadata": {},
     "output_type": "execute_result"
    }
   ],
   "source": [
    "#CRS_DEP_TIME : 출발예정시간\n",
    "X['CRS_DEP_TIME'] = X['CRS_DEP_TIME'].astype('category')\n",
    "X.dtypes"
   ]
  },
  {
   "cell_type": "code",
   "execution_count": 140,
   "id": "c523768b",
   "metadata": {
    "ExecuteTime": {
     "end_time": "2021-12-20T06:53:43.062502Z",
     "start_time": "2021-12-20T06:53:43.048500Z"
    }
   },
   "outputs": [
    {
     "data": {
      "text/plain": [
       "DAY_WEEK\n",
       "FRI    391\n",
       "MON    308\n",
       "SAT    250\n",
       "SUN    253\n",
       "THU    372\n",
       "TUE    307\n",
       "WEN    320\n",
       "dtype: int64"
      ]
     },
     "execution_count": 140,
     "metadata": {},
     "output_type": "execute_result"
    }
   ],
   "source": [
    "X.groupby('DAY_WEEK').size()"
   ]
  },
  {
   "cell_type": "code",
   "execution_count": 141,
   "id": "e47f3bc7",
   "metadata": {
    "ExecuteTime": {
     "end_time": "2021-12-20T06:53:44.903132Z",
     "start_time": "2021-12-20T06:53:44.897122Z"
    }
   },
   "outputs": [
    {
     "data": {
      "text/plain": [
       "CRS_DEP_TIME\n",
       "600      26\n",
       "630      57\n",
       "640      22\n",
       "645      21\n",
       "700      92\n",
       "730      24\n",
       "735      17\n",
       "759       2\n",
       "800      40\n",
       "830      26\n",
       "840      62\n",
       "845       3\n",
       "850      31\n",
       "900      77\n",
       "925       3\n",
       "930      28\n",
       "1000     23\n",
       "1030     56\n",
       "1039      6\n",
       "1040     15\n",
       "1100     48\n",
       "1130     20\n",
       "1200     22\n",
       "1230     28\n",
       "1240     31\n",
       "1245     61\n",
       "1300    109\n",
       "1315      4\n",
       "1330     19\n",
       "1359     25\n",
       "1400     46\n",
       "1430     52\n",
       "1455    138\n",
       "1500     77\n",
       "1515      5\n",
       "1520      1\n",
       "1525     21\n",
       "1530     50\n",
       "1600     45\n",
       "1605      1\n",
       "1610     24\n",
       "1630     51\n",
       "1640     27\n",
       "1645     30\n",
       "1700     74\n",
       "1710     28\n",
       "1715     61\n",
       "1720     27\n",
       "1725      1\n",
       "1730     50\n",
       "1800     27\n",
       "1830     58\n",
       "1900     99\n",
       "1930     20\n",
       "2000     22\n",
       "2030     31\n",
       "2100     45\n",
       "2120     90\n",
       "2130      2\n",
       "dtype: int64"
      ]
     },
     "execution_count": 141,
     "metadata": {},
     "output_type": "execute_result"
    }
   ],
   "source": [
    "X.groupby('CRS_DEP_TIME').size()"
   ]
  },
  {
   "cell_type": "code",
   "execution_count": 142,
   "id": "70d78061",
   "metadata": {
    "ExecuteTime": {
     "end_time": "2021-12-20T06:53:46.223410Z",
     "start_time": "2021-12-20T06:53:46.209400Z"
    }
   },
   "outputs": [],
   "source": [
    "X = pd.get_dummies(X[['DAY_WEEK', 'CRS_DEP_TIME', 'ORIGIN', 'DEST', 'CARRIER']], drop_first=True)"
   ]
  },
  {
   "cell_type": "code",
   "execution_count": 143,
   "id": "6a34cec5",
   "metadata": {
    "ExecuteTime": {
     "end_time": "2021-12-20T06:53:49.021777Z",
     "start_time": "2021-12-20T06:53:48.993770Z"
    }
   },
   "outputs": [
    {
     "data": {
      "text/html": [
       "<div>\n",
       "<style scoped>\n",
       "    .dataframe tbody tr th:only-of-type {\n",
       "        vertical-align: middle;\n",
       "    }\n",
       "\n",
       "    .dataframe tbody tr th {\n",
       "        vertical-align: top;\n",
       "    }\n",
       "\n",
       "    .dataframe thead th {\n",
       "        text-align: right;\n",
       "    }\n",
       "</style>\n",
       "<table border=\"1\" class=\"dataframe\">\n",
       "  <thead>\n",
       "    <tr style=\"text-align: right;\">\n",
       "      <th></th>\n",
       "      <th>DAY_WEEK_MON</th>\n",
       "      <th>DAY_WEEK_SAT</th>\n",
       "      <th>DAY_WEEK_SUN</th>\n",
       "      <th>DAY_WEEK_THU</th>\n",
       "      <th>DAY_WEEK_TUE</th>\n",
       "      <th>DAY_WEEK_WEN</th>\n",
       "      <th>CRS_DEP_TIME_630</th>\n",
       "      <th>CRS_DEP_TIME_640</th>\n",
       "      <th>CRS_DEP_TIME_645</th>\n",
       "      <th>CRS_DEP_TIME_700</th>\n",
       "      <th>...</th>\n",
       "      <th>ORIGIN_IAD</th>\n",
       "      <th>DEST_JFK</th>\n",
       "      <th>DEST_LGA</th>\n",
       "      <th>CARRIER_DH</th>\n",
       "      <th>CARRIER_DL</th>\n",
       "      <th>CARRIER_MQ</th>\n",
       "      <th>CARRIER_OH</th>\n",
       "      <th>CARRIER_RU</th>\n",
       "      <th>CARRIER_UA</th>\n",
       "      <th>CARRIER_US</th>\n",
       "    </tr>\n",
       "  </thead>\n",
       "  <tbody>\n",
       "    <tr>\n",
       "      <th>0</th>\n",
       "      <td>0</td>\n",
       "      <td>0</td>\n",
       "      <td>0</td>\n",
       "      <td>1</td>\n",
       "      <td>0</td>\n",
       "      <td>0</td>\n",
       "      <td>0</td>\n",
       "      <td>0</td>\n",
       "      <td>0</td>\n",
       "      <td>0</td>\n",
       "      <td>...</td>\n",
       "      <td>0</td>\n",
       "      <td>1</td>\n",
       "      <td>0</td>\n",
       "      <td>0</td>\n",
       "      <td>0</td>\n",
       "      <td>0</td>\n",
       "      <td>1</td>\n",
       "      <td>0</td>\n",
       "      <td>0</td>\n",
       "      <td>0</td>\n",
       "    </tr>\n",
       "    <tr>\n",
       "      <th>1</th>\n",
       "      <td>0</td>\n",
       "      <td>0</td>\n",
       "      <td>0</td>\n",
       "      <td>1</td>\n",
       "      <td>0</td>\n",
       "      <td>0</td>\n",
       "      <td>0</td>\n",
       "      <td>0</td>\n",
       "      <td>0</td>\n",
       "      <td>0</td>\n",
       "      <td>...</td>\n",
       "      <td>0</td>\n",
       "      <td>1</td>\n",
       "      <td>0</td>\n",
       "      <td>1</td>\n",
       "      <td>0</td>\n",
       "      <td>0</td>\n",
       "      <td>0</td>\n",
       "      <td>0</td>\n",
       "      <td>0</td>\n",
       "      <td>0</td>\n",
       "    </tr>\n",
       "    <tr>\n",
       "      <th>2</th>\n",
       "      <td>0</td>\n",
       "      <td>0</td>\n",
       "      <td>0</td>\n",
       "      <td>1</td>\n",
       "      <td>0</td>\n",
       "      <td>0</td>\n",
       "      <td>0</td>\n",
       "      <td>0</td>\n",
       "      <td>0</td>\n",
       "      <td>0</td>\n",
       "      <td>...</td>\n",
       "      <td>1</td>\n",
       "      <td>0</td>\n",
       "      <td>1</td>\n",
       "      <td>1</td>\n",
       "      <td>0</td>\n",
       "      <td>0</td>\n",
       "      <td>0</td>\n",
       "      <td>0</td>\n",
       "      <td>0</td>\n",
       "      <td>0</td>\n",
       "    </tr>\n",
       "    <tr>\n",
       "      <th>3</th>\n",
       "      <td>0</td>\n",
       "      <td>0</td>\n",
       "      <td>0</td>\n",
       "      <td>1</td>\n",
       "      <td>0</td>\n",
       "      <td>0</td>\n",
       "      <td>0</td>\n",
       "      <td>0</td>\n",
       "      <td>0</td>\n",
       "      <td>0</td>\n",
       "      <td>...</td>\n",
       "      <td>1</td>\n",
       "      <td>0</td>\n",
       "      <td>1</td>\n",
       "      <td>1</td>\n",
       "      <td>0</td>\n",
       "      <td>0</td>\n",
       "      <td>0</td>\n",
       "      <td>0</td>\n",
       "      <td>0</td>\n",
       "      <td>0</td>\n",
       "    </tr>\n",
       "    <tr>\n",
       "      <th>4</th>\n",
       "      <td>0</td>\n",
       "      <td>0</td>\n",
       "      <td>0</td>\n",
       "      <td>1</td>\n",
       "      <td>0</td>\n",
       "      <td>0</td>\n",
       "      <td>0</td>\n",
       "      <td>0</td>\n",
       "      <td>0</td>\n",
       "      <td>0</td>\n",
       "      <td>...</td>\n",
       "      <td>1</td>\n",
       "      <td>0</td>\n",
       "      <td>1</td>\n",
       "      <td>1</td>\n",
       "      <td>0</td>\n",
       "      <td>0</td>\n",
       "      <td>0</td>\n",
       "      <td>0</td>\n",
       "      <td>0</td>\n",
       "      <td>0</td>\n",
       "    </tr>\n",
       "  </tbody>\n",
       "</table>\n",
       "<p>5 rows × 75 columns</p>\n",
       "</div>"
      ],
      "text/plain": [
       "   DAY_WEEK_MON  DAY_WEEK_SAT  DAY_WEEK_SUN  DAY_WEEK_THU  DAY_WEEK_TUE  \\\n",
       "0             0             0             0             1             0   \n",
       "1             0             0             0             1             0   \n",
       "2             0             0             0             1             0   \n",
       "3             0             0             0             1             0   \n",
       "4             0             0             0             1             0   \n",
       "\n",
       "   DAY_WEEK_WEN  CRS_DEP_TIME_630  CRS_DEP_TIME_640  CRS_DEP_TIME_645  \\\n",
       "0             0                 0                 0                 0   \n",
       "1             0                 0                 0                 0   \n",
       "2             0                 0                 0                 0   \n",
       "3             0                 0                 0                 0   \n",
       "4             0                 0                 0                 0   \n",
       "\n",
       "   CRS_DEP_TIME_700  ...  ORIGIN_IAD  DEST_JFK  DEST_LGA  CARRIER_DH  \\\n",
       "0                 0  ...           0         1         0           0   \n",
       "1                 0  ...           0         1         0           1   \n",
       "2                 0  ...           1         0         1           1   \n",
       "3                 0  ...           1         0         1           1   \n",
       "4                 0  ...           1         0         1           1   \n",
       "\n",
       "   CARRIER_DL  CARRIER_MQ  CARRIER_OH  CARRIER_RU  CARRIER_UA  CARRIER_US  \n",
       "0           0           0           1           0           0           0  \n",
       "1           0           0           0           0           0           0  \n",
       "2           0           0           0           0           0           0  \n",
       "3           0           0           0           0           0           0  \n",
       "4           0           0           0           0           0           0  \n",
       "\n",
       "[5 rows x 75 columns]"
      ]
     },
     "execution_count": 143,
     "metadata": {},
     "output_type": "execute_result"
    }
   ],
   "source": [
    "X.head()"
   ]
  },
  {
   "cell_type": "code",
   "execution_count": 151,
   "id": "5b9b2420",
   "metadata": {
    "ExecuteTime": {
     "end_time": "2021-12-20T06:54:29.759753Z",
     "start_time": "2021-12-20T06:54:29.750754Z"
    }
   },
   "outputs": [
    {
     "name": "stderr",
     "output_type": "stream",
     "text": [
      "C:\\Users\\admin\\anaconda3\\envs\\tfenv\\lib\\site-packages\\sklearn\\preprocessing\\_label.py:115: DataConversionWarning: A column-vector y was passed when a 1d array was expected. Please change the shape of y to (n_samples, ), for example using ravel().\n",
      "  y = column_or_1d(y, warn=True)\n"
     ]
    },
    {
     "data": {
      "text/plain": [
       "array([0, 0, 0, ..., 0, 0, 0], dtype=int64)"
      ]
     },
     "execution_count": 151,
     "metadata": {},
     "output_type": "execute_result"
    }
   ],
   "source": [
    "y = y.replace (['ontime','delayed'], [0,1])\n",
    "y.head()\n",
    "\n",
    "\n",
    "class_le = LabelEncoder()\n",
    "\n",
    "y = class_le.fit_transform(y)\n",
    "y"
   ]
  },
  {
   "cell_type": "markdown",
   "id": "597b83d1",
   "metadata": {},
   "source": [
    "## 훈련/검증용 데이터 분할 "
   ]
  },
  {
   "cell_type": "code",
   "execution_count": 152,
   "id": "375122cf",
   "metadata": {
    "ExecuteTime": {
     "end_time": "2021-12-20T06:54:32.243260Z",
     "start_time": "2021-12-20T06:54:32.230257Z"
    }
   },
   "outputs": [],
   "source": [
    "x_train, x_test, y_train, y_test = train_test_split(X,y, test_size = 0.3, random_state=1, stratify=y)\n"
   ]
  },
  {
   "cell_type": "code",
   "execution_count": 153,
   "id": "ec417a56",
   "metadata": {
    "ExecuteTime": {
     "end_time": "2021-12-20T06:54:32.664314Z",
     "start_time": "2021-12-20T06:54:32.646302Z"
    }
   },
   "outputs": [
    {
     "data": {
      "text/plain": [
       "BernoulliNB()"
      ]
     },
     "execution_count": 153,
     "metadata": {},
     "output_type": "execute_result"
    }
   ],
   "source": [
    "ber= BernoulliNB(alpha=1.0, class_prior = None, fit_prior=True)\n",
    "ber.fit(x_train, y_train)"
   ]
  },
  {
   "cell_type": "code",
   "execution_count": 154,
   "id": "ee5fbfdf",
   "metadata": {
    "ExecuteTime": {
     "end_time": "2021-12-20T06:54:32.845134Z",
     "start_time": "2021-12-20T06:54:32.830130Z"
    }
   },
   "outputs": [],
   "source": [
    "y_predict = ber.predict(x_test)"
   ]
  },
  {
   "cell_type": "markdown",
   "id": "2e20e87b",
   "metadata": {},
   "source": [
    "##  검정"
   ]
  },
  {
   "cell_type": "code",
   "execution_count": 155,
   "id": "98b02f09",
   "metadata": {
    "ExecuteTime": {
     "end_time": "2021-12-20T06:54:33.415090Z",
     "start_time": "2021-12-20T06:54:33.406088Z"
    }
   },
   "outputs": [],
   "source": [
    "confu = pd.DataFrame(confusion_matrix(y_test, y_predict), index=['True[0]','True[1]'], columns=['pred[0]','pred[1]'])"
   ]
  },
  {
   "cell_type": "code",
   "execution_count": 156,
   "id": "e5732d68",
   "metadata": {
    "ExecuteTime": {
     "end_time": "2021-12-20T06:54:33.596427Z",
     "start_time": "2021-12-20T06:54:33.583432Z"
    }
   },
   "outputs": [
    {
     "data": {
      "text/html": [
       "<div>\n",
       "<style scoped>\n",
       "    .dataframe tbody tr th:only-of-type {\n",
       "        vertical-align: middle;\n",
       "    }\n",
       "\n",
       "    .dataframe tbody tr th {\n",
       "        vertical-align: top;\n",
       "    }\n",
       "\n",
       "    .dataframe thead th {\n",
       "        text-align: right;\n",
       "    }\n",
       "</style>\n",
       "<table border=\"1\" class=\"dataframe\">\n",
       "  <thead>\n",
       "    <tr style=\"text-align: right;\">\n",
       "      <th></th>\n",
       "      <th>pred[0]</th>\n",
       "      <th>pred[1]</th>\n",
       "    </tr>\n",
       "  </thead>\n",
       "  <tbody>\n",
       "    <tr>\n",
       "      <th>True[0]</th>\n",
       "      <td>473</td>\n",
       "      <td>59</td>\n",
       "    </tr>\n",
       "    <tr>\n",
       "      <th>True[1]</th>\n",
       "      <td>104</td>\n",
       "      <td>25</td>\n",
       "    </tr>\n",
       "  </tbody>\n",
       "</table>\n",
       "</div>"
      ],
      "text/plain": [
       "         pred[0]  pred[1]\n",
       "True[0]      473       59\n",
       "True[1]      104       25"
      ]
     },
     "execution_count": 156,
     "metadata": {},
     "output_type": "execute_result"
    }
   ],
   "source": [
    "confu"
   ]
  },
  {
   "cell_type": "code",
   "execution_count": 157,
   "id": "2cdff189",
   "metadata": {
    "ExecuteTime": {
     "end_time": "2021-12-20T06:54:33.761501Z",
     "start_time": "2021-12-20T06:54:33.750499Z"
    }
   },
   "outputs": [
    {
     "name": "stdout",
     "output_type": "stream",
     "text": [
      "Classification Report\n",
      "              precision    recall  f1-score   support\n",
      "\n",
      "           0       0.82      0.89      0.85       532\n",
      "           1       0.30      0.19      0.23       129\n",
      "\n",
      "    accuracy                           0.75       661\n",
      "   macro avg       0.56      0.54      0.54       661\n",
      "weighted avg       0.72      0.75      0.73       661\n",
      "\n"
     ]
    }
   ],
   "source": [
    "print('Classification Report')\n",
    "print(classification_report(y_test, y_predict))"
   ]
  },
  {
   "cell_type": "code",
   "execution_count": 158,
   "id": "2d3015b1",
   "metadata": {
    "ExecuteTime": {
     "end_time": "2021-12-20T06:54:33.942084Z",
     "start_time": "2021-12-20T06:54:33.927072Z"
    }
   },
   "outputs": [
    {
     "name": "stdout",
     "output_type": "stream",
     "text": [
      "잘못 분류된 샘플 개수: 163\n",
      "정확도: 0.753\n",
      "정밀도: 0.298\n",
      "재현율: 0.194\n",
      "F1: 0.235\n"
     ]
    }
   ],
   "source": [
    "print('잘못 분류된 샘플 개수: %d' % (y_test != y_predict).sum())\n",
    "print('정확도: %.3f' % accuracy_score(y_test, y_predict))\n",
    "print('정밀도: %.3f' % precision_score(y_true=y_test, y_pred=y_predict))\n",
    "print('재현율: %.3f' % recall_score(y_true=y_test, y_pred=y_predict))\n",
    "print('F1: %.3f' % f1_score(y_true=y_test, y_pred=y_predict))"
   ]
  },
  {
   "cell_type": "code",
   "execution_count": null,
   "id": "7adef603",
   "metadata": {},
   "outputs": [],
   "source": []
  },
  {
   "cell_type": "code",
   "execution_count": null,
   "id": "ea2161c3",
   "metadata": {},
   "outputs": [],
   "source": []
  }
 ],
 "metadata": {
  "kernelspec": {
   "display_name": "Python 3 (ipykernel)",
   "language": "python",
   "name": "python3"
  },
  "language_info": {
   "codemirror_mode": {
    "name": "ipython",
    "version": 3
   },
   "file_extension": ".py",
   "mimetype": "text/x-python",
   "name": "python",
   "nbconvert_exporter": "python",
   "pygments_lexer": "ipython3",
   "version": "3.8.12"
  },
  "toc": {
   "base_numbering": 1,
   "nav_menu": {},
   "number_sections": true,
   "sideBar": true,
   "skip_h1_title": false,
   "title_cell": "Table of Contents",
   "title_sidebar": "Contents",
   "toc_cell": false,
   "toc_position": {},
   "toc_section_display": true,
   "toc_window_display": false
  }
 },
 "nbformat": 4,
 "nbformat_minor": 5
}
