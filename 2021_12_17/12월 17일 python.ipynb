{
 "cells": [
  {
   "cell_type": "markdown",
   "id": "59d3af10",
   "metadata": {},
   "source": [
    "# 뉴런층의 속성 확인하기 "
   ]
  },
  {
   "cell_type": "markdown",
   "id": "843d977c",
   "metadata": {},
   "source": [
    "## 뉴런층의 이름(name)과 자료형 (dtype)"
   ]
  },
  {
   "cell_type": "code",
   "execution_count": 1,
   "id": "f2befca0",
   "metadata": {
    "ExecuteTime": {
     "end_time": "2021-12-17T05:56:42.084870Z",
     "start_time": "2021-12-17T05:56:38.824245Z"
    }
   },
   "outputs": [
    {
     "name": "stdout",
     "output_type": "stream",
     "text": [
      "input_1 float32\n",
      "dense float32\n",
      "dense_1 float32\n"
     ]
    }
   ],
   "source": [
    "import tensorflow as tf\n",
    "from tensorflow import keras\n",
    "\n",
    "tf.random.set_seed(0)\n",
    "\n",
    "#뉴런층 만들기\n",
    "input_layer = tf.keras.layers.InputLayer(input_shape = (3,))\n",
    "hidden_layer = tf.keras.layers.Dense(units=4, activation='relu')\n",
    "output_layer = tf.keras.layers.Dense(units=2, activation='softmax')\n",
    "\n",
    "#모델 만들기 \n",
    "model = keras.Sequential([input_layer, hidden_layer, output_layer])\n",
    "\n",
    "model.compile(loss='mse', optimizer='Adam')\n",
    "\n",
    "print(input_layer.name, input_layer.dtype)\n",
    "print(hidden_layer.name, input_layer.dtype)\n",
    "print(output_layer.name, input_layer.dtype)"
   ]
  },
  {
   "cell_type": "code",
   "execution_count": 2,
   "id": "13067a36",
   "metadata": {
    "ExecuteTime": {
     "end_time": "2021-12-17T05:56:44.281954Z",
     "start_time": "2021-12-17T05:56:43.288788Z"
    }
   },
   "outputs": [
    {
     "name": "stdout",
     "output_type": "stream",
     "text": [
      "dense\n",
      "dense_1\n"
     ]
    },
    {
     "ename": "IndexError",
     "evalue": "list index out of range",
     "output_type": "error",
     "traceback": [
      "\u001b[1;31m---------------------------------------------------------------------------\u001b[0m",
      "\u001b[1;31mIndexError\u001b[0m                                Traceback (most recent call last)",
      "\u001b[1;32m~\\AppData\\Local\\Temp/ipykernel_10976/3540207572.py\u001b[0m in \u001b[0;36m<module>\u001b[1;34m\u001b[0m\n\u001b[0;32m      2\u001b[0m \u001b[0mprint\u001b[0m\u001b[1;33m(\u001b[0m\u001b[0mmodel\u001b[0m\u001b[1;33m.\u001b[0m\u001b[0mlayers\u001b[0m\u001b[1;33m[\u001b[0m\u001b[1;36m0\u001b[0m\u001b[1;33m]\u001b[0m\u001b[1;33m.\u001b[0m\u001b[0mname\u001b[0m\u001b[1;33m)\u001b[0m\u001b[1;33m\u001b[0m\u001b[1;33m\u001b[0m\u001b[0m\n\u001b[0;32m      3\u001b[0m \u001b[0mprint\u001b[0m\u001b[1;33m(\u001b[0m\u001b[0mmodel\u001b[0m\u001b[1;33m.\u001b[0m\u001b[0mlayers\u001b[0m\u001b[1;33m[\u001b[0m\u001b[1;36m1\u001b[0m\u001b[1;33m]\u001b[0m\u001b[1;33m.\u001b[0m\u001b[0mname\u001b[0m\u001b[1;33m)\u001b[0m\u001b[1;33m\u001b[0m\u001b[1;33m\u001b[0m\u001b[0m\n\u001b[1;32m----> 4\u001b[1;33m \u001b[0mprint\u001b[0m\u001b[1;33m(\u001b[0m\u001b[0mmodel\u001b[0m\u001b[1;33m.\u001b[0m\u001b[0mlayers\u001b[0m\u001b[1;33m[\u001b[0m\u001b[1;36m2\u001b[0m\u001b[1;33m]\u001b[0m\u001b[1;33m.\u001b[0m\u001b[0mname\u001b[0m\u001b[1;33m)\u001b[0m\u001b[1;33m\u001b[0m\u001b[1;33m\u001b[0m\u001b[0m\n\u001b[0m",
      "\u001b[1;31mIndexError\u001b[0m: list index out of range"
     ]
    }
   ],
   "source": [
    "#입력층을 제외하고 출력되기 때문에 layers[0] = 은닉측 ,  layers[1] = 출력층이다.\n",
    "print(model.layers[0].name)\n",
    "print(model.layers[1].name)\n",
    "print(model.layers[2].name)"
   ]
  },
  {
   "cell_type": "markdown",
   "id": "0add7f14",
   "metadata": {},
   "source": [
    "## 뉴런층의 입력(input)과 출력(output) 확인하기 "
   ]
  },
  {
   "cell_type": "code",
   "execution_count": 3,
   "id": "b70aead8",
   "metadata": {
    "ExecuteTime": {
     "end_time": "2021-12-17T05:56:50.169525Z",
     "start_time": "2021-12-17T05:56:50.162532Z"
    }
   },
   "outputs": [
    {
     "name": "stdout",
     "output_type": "stream",
     "text": [
      "Tensor(\"input_1:0\", shape=(None, 3), dtype=float32)\n",
      "Tensor(\"input_1:0\", shape=(None, 3), dtype=float32)\n",
      "Tensor(\"input_1:0\", shape=(None, 3), dtype=float32)\n",
      "Tensor(\"dense/Relu:0\", shape=(None, 4), dtype=float32)\n",
      "Tensor(\"dense/Relu:0\", shape=(None, 4), dtype=float32)\n",
      "Tensor(\"dense_1/Softmax:0\", shape=(None, 2), dtype=float32)\n"
     ]
    }
   ],
   "source": [
    "print(input_layer.input)\n",
    "print(input_layer.output)\n",
    "\n",
    "print(hidden_layer.input)\n",
    "print(hidden_layer.output)\n",
    "\n",
    "print(output_layer.input)\n",
    "print(output_layer.output)\n"
   ]
  },
  {
   "cell_type": "markdown",
   "id": "fa0fbc01",
   "metadata": {},
   "source": [
    "## 뉴런층의 활성화함수 (activation)"
   ]
  },
  {
   "cell_type": "code",
   "execution_count": 4,
   "id": "40389373",
   "metadata": {
    "ExecuteTime": {
     "end_time": "2021-12-17T05:47:40.309595Z",
     "start_time": "2021-12-17T05:47:40.305604Z"
    }
   },
   "outputs": [
    {
     "name": "stdout",
     "output_type": "stream",
     "text": [
      "<function relu at 0x0000020FB3163310>\n",
      "relu\n",
      "<function softmax at 0x0000020FB3151C10>\n",
      "softmax\n"
     ]
    }
   ],
   "source": [
    "print(hidden_layer.activation)\n",
    "print(hidden_layer.activation.__name__)\n",
    "print(output_layer.activation)\n",
    "print(output_layer.activation.__name__)"
   ]
  },
  {
   "cell_type": "markdown",
   "id": "ddde5c27",
   "metadata": {},
   "source": [
    "## 뉴런층 가중치(weights)\n",
    "weights를 사용해서 각 뉴런층의 시냅스 가중치에 대한 정보를 얻을 수 있습니다.\n"
   ]
  },
  {
   "cell_type": "code",
   "execution_count": 5,
   "id": "3a31de73",
   "metadata": {
    "ExecuteTime": {
     "end_time": "2021-12-17T05:47:41.421528Z",
     "start_time": "2021-12-17T05:47:41.402525Z"
    }
   },
   "outputs": [
    {
     "name": "stdout",
     "output_type": "stream",
     "text": [
      "[<tf.Variable 'dense/kernel:0' shape=(3, 4) dtype=float32, numpy=\n",
      "array([[-0.3851872 , -0.54333335,  0.0655309 ,  0.1134268 ],\n",
      "       [-0.15428883,  0.5699866 , -0.01254469,  0.9223561 ],\n",
      "       [ 0.36428273, -0.6936733 ,  0.38850498,  0.30073535]],\n",
      "      dtype=float32)>, <tf.Variable 'dense/bias:0' shape=(4,) dtype=float32, numpy=array([0., 0., 0., 0.], dtype=float32)>]\n",
      "[<tf.Variable 'dense_1/kernel:0' shape=(4, 2) dtype=float32, numpy=\n",
      "array([[ 0.11082816, -0.55741405],\n",
      "       [ 0.7298498 ,  0.5545671 ],\n",
      "       [ 0.29023337,  0.0607245 ],\n",
      "       [-0.971118  ,  0.74701834]], dtype=float32)>, <tf.Variable 'dense_1/bias:0' shape=(2,) dtype=float32, numpy=array([0., 0.], dtype=float32)>]\n"
     ]
    }
   ],
   "source": [
    "print(hidden_layer.weights)\n",
    "print(output_layer.weights)"
   ]
  },
  {
   "cell_type": "markdown",
   "id": "4db48992",
   "metadata": {},
   "source": [
    "## get_weights() \n",
    "get_weights() 메서드를 사용하면 시냅스 가중치를 NumPy 어레이 형태로 얻을 수 있습니다.\n"
   ]
  },
  {
   "cell_type": "code",
   "execution_count": 6,
   "id": "332f5c9c",
   "metadata": {
    "ExecuteTime": {
     "end_time": "2021-12-17T05:47:42.594485Z",
     "start_time": "2021-12-17T05:47:42.586484Z"
    }
   },
   "outputs": [
    {
     "name": "stdout",
     "output_type": "stream",
     "text": [
      "[array([[-0.3851872 , -0.54333335,  0.0655309 ,  0.1134268 ],\n",
      "       [-0.15428883,  0.5699866 , -0.01254469,  0.9223561 ],\n",
      "       [ 0.36428273, -0.6936733 ,  0.38850498,  0.30073535]],\n",
      "      dtype=float32), array([0., 0., 0., 0.], dtype=float32)]\n",
      "[array([[ 0.11082816, -0.55741405],\n",
      "       [ 0.7298498 ,  0.5545671 ],\n",
      "       [ 0.29023337,  0.0607245 ],\n",
      "       [-0.971118  ,  0.74701834]], dtype=float32), array([0., 0.], dtype=float32)]\n"
     ]
    }
   ],
   "source": [
    "print(hidden_layer.get_weights())\n",
    "print(output_layer.get_weights())"
   ]
  },
  {
   "cell_type": "markdown",
   "id": "07d02afb",
   "metadata": {},
   "source": [
    "## 은닉층 출력값 확인하기 "
   ]
  },
  {
   "cell_type": "code",
   "execution_count": 4,
   "id": "38f736c4",
   "metadata": {
    "ExecuteTime": {
     "end_time": "2021-12-17T05:56:59.667478Z",
     "start_time": "2021-12-17T05:56:59.411988Z"
    }
   },
   "outputs": [
    {
     "name": "stdout",
     "output_type": "stream",
     "text": [
      "======== Inputs ========\n",
      "[[1 0 0]\n",
      " [0 1 0]\n",
      " [0 0 1]]\n",
      "\n",
      "======== Weights of Hidden Layer ========\n",
      "[[-0.3851872  -0.54333335  0.0655309   0.1134268 ]\n",
      " [-0.15428883  0.5699866  -0.01254469  0.9223561 ]\n",
      " [ 0.36428273 -0.6936733   0.38850498  0.30073535]]\n",
      "\n",
      "======== Outputs of Hidden Layer ========\n",
      "tf.Tensor(\n",
      "[[0.         0.         0.0655309  0.1134268 ]\n",
      " [0.         0.5699866  0.         0.9223561 ]\n",
      " [0.36428273 0.         0.38850498 0.30073535]], shape=(3, 4), dtype=float32)\n"
     ]
    }
   ],
   "source": [
    "#훈련데이터 \n",
    "import tensorflow as tf\n",
    "import numpy as np\n",
    "\n",
    "tf.random.set_seed(0)\n",
    "\n",
    "\n",
    "# 1. 훈련 데이터 준비하기\n",
    "x_train = np.array([[1, 0, 0], [0, 1, 0], [0, 0, 1]])\n",
    "y_train = np.array([[0], [1], [1]])\n",
    "\n",
    "\n",
    "# 2. 뉴런층 만들기\n",
    "input_layer = tf.keras.layers.InputLayer(input_shape=(3,))\n",
    "hidden_layer = tf.keras.layers.Dense(units=4, activation='relu')\n",
    "output_layer = tf.keras.layers.Dense(units=2, activation='softmax')\n",
    "\n",
    "\n",
    "# 3. 모델 구성하기\n",
    "model = tf.keras.Sequential([\n",
    "  input_layer,\n",
    "  hidden_layer,\n",
    "  output_layer\n",
    "  ])\n",
    "\n",
    "\n",
    "# 4. 모델 컴파일하기\n",
    "model.compile(loss='mse', optimizer='Adam')\n",
    "\n",
    "\n",
    "# 5. 은닉층의 출력 확인하기\n",
    "\n",
    "# 모델(Model)은 레이어를 교육 및 추론 기능이 있는 개체로 그룹화합니다.\n",
    "intermediate_layer_model = tf.keras.Model(inputs=model.input, outputs=model.layers[0].output)\n",
    "intermediate_output = intermediate_layer_model(x_train)\n",
    "\n",
    "print('======== Inputs ========')\n",
    "print(x_train)\n",
    "\n",
    "print('\\n======== Weights of Hidden Layer ========')\n",
    "print(hidden_layer.get_weights()[0])\n",
    "\n",
    "print('\\n======== Outputs of Hidden Layer ========')\n",
    "print(intermediate_output)"
   ]
  },
  {
   "cell_type": "code",
   "execution_count": 5,
   "id": "a22e9c74",
   "metadata": {
    "ExecuteTime": {
     "end_time": "2021-12-17T05:57:02.824489Z",
     "start_time": "2021-12-17T05:57:02.594679Z"
    }
   },
   "outputs": [
    {
     "data": {
      "text/plain": [
       "array([[0.45516005, 0.5448399 ],\n",
       "       [0.18469977, 0.8153002 ],\n",
       "       [0.4541021 , 0.5458979 ]], dtype=float32)"
      ]
     },
     "execution_count": 5,
     "metadata": {},
     "output_type": "execute_result"
    }
   ],
   "source": [
    "pred = model.predict(x_train)\n",
    "pred"
   ]
  },
  {
   "cell_type": "markdown",
   "id": "a45f8c30",
   "metadata": {},
   "source": [
    "# MNIST  "
   ]
  },
  {
   "cell_type": "code",
   "execution_count": 34,
   "id": "07a9f6c3",
   "metadata": {
    "ExecuteTime": {
     "end_time": "2021-12-17T06:18:46.605914Z",
     "start_time": "2021-12-17T06:18:46.596911Z"
    }
   },
   "outputs": [],
   "source": [
    "from tensorflow.keras import datasets\n",
    "from tensorflow import keras\n",
    "mnist = datasets.mnist"
   ]
  },
  {
   "cell_type": "code",
   "execution_count": 35,
   "id": "c785a025",
   "metadata": {
    "ExecuteTime": {
     "end_time": "2021-12-17T06:18:47.600074Z",
     "start_time": "2021-12-17T06:18:47.396028Z"
    }
   },
   "outputs": [],
   "source": [
    "(x_train, y_train) , (x_test, y_test) = mnist.load_data()"
   ]
  },
  {
   "cell_type": "code",
   "execution_count": 36,
   "id": "17d2a296",
   "metadata": {
    "ExecuteTime": {
     "end_time": "2021-12-17T06:18:48.295140Z",
     "start_time": "2021-12-17T06:18:48.284137Z"
    }
   },
   "outputs": [
    {
     "data": {
      "text/plain": [
       "(60000, 28, 28)"
      ]
     },
     "execution_count": 36,
     "metadata": {},
     "output_type": "execute_result"
    }
   ],
   "source": [
    "x_train.shape"
   ]
  },
  {
   "cell_type": "code",
   "execution_count": 37,
   "id": "51ca0989",
   "metadata": {
    "ExecuteTime": {
     "end_time": "2021-12-17T06:18:49.082752Z",
     "start_time": "2021-12-17T06:18:49.068757Z"
    }
   },
   "outputs": [
    {
     "data": {
      "text/plain": [
       "(10000, 28, 28)"
      ]
     },
     "execution_count": 37,
     "metadata": {},
     "output_type": "execute_result"
    }
   ],
   "source": [
    "x_test.shape"
   ]
  },
  {
   "cell_type": "code",
   "execution_count": 38,
   "id": "0e698234",
   "metadata": {
    "ExecuteTime": {
     "end_time": "2021-12-17T06:18:49.804335Z",
     "start_time": "2021-12-17T06:18:49.708313Z"
    }
   },
   "outputs": [],
   "source": [
    "#이미지 데이터 전처리 \n",
    "x_train, x_test = x_train/255.0, x_test/255.0"
   ]
  },
  {
   "cell_type": "code",
   "execution_count": 39,
   "id": "42e29836",
   "metadata": {
    "ExecuteTime": {
     "end_time": "2021-12-17T06:18:51.409010Z",
     "start_time": "2021-12-17T06:18:51.372002Z"
    }
   },
   "outputs": [],
   "source": [
    "model = keras.Sequential([keras.layers.Flatten(input_shape=(28,28)),\n",
    "                         keras.layers.Dense(units=512, activation = 'relu'),\n",
    "                         keras.layers.Dense(units=10, activation='softmax')])"
   ]
  },
  {
   "cell_type": "code",
   "execution_count": 40,
   "id": "09b66dac",
   "metadata": {
    "ExecuteTime": {
     "end_time": "2021-12-17T06:18:53.174750Z",
     "start_time": "2021-12-17T06:18:53.164740Z"
    }
   },
   "outputs": [],
   "source": [
    "model.compile(loss='sparse_categorical_crossentropy', optimizer='Adam', metrics=['accuracy'])"
   ]
  },
  {
   "cell_type": "code",
   "execution_count": 30,
   "id": "859bc375",
   "metadata": {
    "ExecuteTime": {
     "end_time": "2021-12-17T06:05:20.609729Z",
     "start_time": "2021-12-17T06:05:11.114407Z"
    }
   },
   "outputs": [
    {
     "name": "stdout",
     "output_type": "stream",
     "text": [
      "Epoch 1/5\n",
      "1875/1875 [==============================] - 2s 994us/step - loss: 0.0111 - accuracy: 0.9965\n",
      "Epoch 2/5\n",
      "1875/1875 [==============================] - 2s 970us/step - loss: 0.0094 - accuracy: 0.9968\n",
      "Epoch 3/5\n",
      "1875/1875 [==============================] - 2s 972us/step - loss: 0.0071 - accuracy: 0.9976\n",
      "Epoch 4/5\n",
      "1875/1875 [==============================] - 2s 1000us/step - loss: 0.0071 - accuracy: 0.9976\n",
      "Epoch 5/5\n",
      "1875/1875 [==============================] - 2s 977us/step - loss: 0.0078 - accuracy: 0.9974\n"
     ]
    },
    {
     "data": {
      "text/plain": [
       "<tensorflow.python.keras.callbacks.History at 0x1b5b59b3f70>"
      ]
     },
     "execution_count": 30,
     "metadata": {},
     "output_type": "execute_result"
    }
   ],
   "source": [
    "\n",
    "model.fit(x_train, y_train, epochs =5)\n"
   ]
  },
  {
   "cell_type": "code",
   "execution_count": 31,
   "id": "e4aa8b7f",
   "metadata": {
    "ExecuteTime": {
     "end_time": "2021-12-17T06:05:21.962909Z",
     "start_time": "2021-12-17T06:05:21.508806Z"
    }
   },
   "outputs": [
    {
     "name": "stdout",
     "output_type": "stream",
     "text": [
      "313/313 [==============================] - 0s 1ms/step - loss: 0.1046 - accuracy: 0.9785\n",
      "정확도 0.9785000085830688\n"
     ]
    }
   ],
   "source": [
    "test_loss, test_acc = model.evaluate(x_test, y_test)\n",
    "print('정확도', test_acc)\n",
    "model.save('my_model1.h5')"
   ]
  },
  {
   "cell_type": "code",
   "execution_count": 42,
   "id": "c96cd61f",
   "metadata": {
    "ExecuteTime": {
     "end_time": "2021-12-17T06:19:43.276871Z",
     "start_time": "2021-12-17T06:19:15.712047Z"
    }
   },
   "outputs": [
    {
     "name": "stdout",
     "output_type": "stream",
     "text": [
      "1875/1875 [==============================] - 2s 976us/step - loss: 0.1971 - accuracy: 0.9435\n",
      "313/313 [==============================] - 0s 1ms/step - loss: 0.1035 - accuracy: 0.9677\n",
      "  1/313 [..............................] - ETA: 0s - loss: 0.0158 - accuracy: 1.0000WARNING:tensorflow:Callbacks method `on_test_batch_end` is slow compared to the batch time (batch time: 0.0000s vs `on_test_batch_end` time: 0.0010s). Check your callbacks.\n",
      "313/313 [==============================] - 0s 1ms/step - loss: 0.1035 - accuracy: 0.9677\n",
      "1875/1875 [==============================] - 2s 1ms/step - loss: 0.0795 - accuracy: 0.9764: 0s - loss: 0.0 - ETA: 0s - loss: 0.0800 - accuracy: 0.97\n",
      "313/313 [==============================] - 0s 1ms/step - loss: 0.0842 - accuracy: 0.9732\n",
      "313/313 [==============================] - 0s 1ms/step - loss: 0.0842 - accuracy: 0.9732\n",
      "1875/1875 [==============================] - 2s 999us/step - loss: 0.0491 - accuracy: 0.9859\n",
      "313/313 [==============================] - 0s 1ms/step - loss: 0.0789 - accuracy: 0.9747\n",
      "313/313 [==============================] - 0s 1ms/step - loss: 0.0789 - accuracy: 0.9747\n",
      "1875/1875 [==============================] - 2s 1ms/step - loss: 0.0313 - accuracy: 0.9911\n",
      "  1/313 [..............................] - ETA: 0s - loss: 0.0088 - accuracy: 1.0000WARNING:tensorflow:Callbacks method `on_test_batch_end` is slow compared to the batch time (batch time: 0.0000s vs `on_test_batch_end` time: 0.0010s). Check your callbacks.\n",
      "313/313 [==============================] - 0s 1ms/step - loss: 0.0704 - accuracy: 0.9790\n",
      "313/313 [==============================] - 0s 1ms/step - loss: 0.0704 - accuracy: 0.9790\n",
      "1875/1875 [==============================] - 2s 1ms/step - loss: 0.0233 - accuracy: 0.9929\n",
      "313/313 [==============================] - 0s 1ms/step - loss: 0.0679 - accuracy: 0.9805\n",
      "313/313 [==============================] - 0s 1ms/step - loss: 0.0679 - accuracy: 0.9805\n",
      "1875/1875 [==============================] - 2s 978us/step - loss: 0.0179 - accuracy: 0.9943\n",
      "313/313 [==============================] - 0s 1ms/step - loss: 0.0827 - accuracy: 0.9782\n",
      "313/313 [==============================] - 0s 1ms/step - loss: 0.0827 - accuracy: 0.9782\n",
      "1875/1875 [==============================] - 2s 1ms/step - loss: 0.0164 - accuracy: 0.9943\n",
      "313/313 [==============================] - 0s 1ms/step - loss: 0.0854 - accuracy: 0.9774\n",
      "  1/313 [..............................] - ETA: 0s - loss: 0.0031 - accuracy: 1.0000WARNING:tensorflow:Callbacks method `on_test_batch_end` is slow compared to the batch time (batch time: 0.0000s vs `on_test_batch_end` time: 0.0010s). Check your callbacks.\n",
      "313/313 [==============================] - 0s 1ms/step - loss: 0.0854 - accuracy: 0.9774\n",
      "1875/1875 [==============================] - 2s 1ms/step - loss: 0.0127 - accuracy: 0.9960\n",
      "313/313 [==============================] - 0s 1ms/step - loss: 0.0891 - accuracy: 0.9773\n",
      "313/313 [==============================] - 0s 1ms/step - loss: 0.0891 - accuracy: 0.9773\n",
      "1875/1875 [==============================] - 2s 977us/step - loss: 0.0119 - accuracy: 0.9962\n",
      "  1/313 [..............................] - ETA: 0s - loss: 0.0148 - accuracy: 1.0000WARNING:tensorflow:Callbacks method `on_test_batch_begin` is slow compared to the batch time (batch time: 0.0000s vs `on_test_batch_begin` time: 0.0010s). Check your callbacks.\n",
      "WARNING:tensorflow:Callbacks method `on_test_batch_end` is slow compared to the batch time (batch time: 0.0000s vs `on_test_batch_end` time: 0.0010s). Check your callbacks.\n",
      "313/313 [==============================] - 0s 1ms/step - loss: 0.0974 - accuracy: 0.9779\n",
      "313/313 [==============================] - 0s 1ms/step - loss: 0.0974 - accuracy: 0.9779\n",
      "1875/1875 [==============================] - 2s 995us/step - loss: 0.0102 - accuracy: 0.9966\n",
      "  1/313 [..............................] - ETA: 0s - loss: 0.0065 - accuracy: 1.0000WARNING:tensorflow:Callbacks method `on_test_batch_end` is slow compared to the batch time (batch time: 0.0000s vs `on_test_batch_end` time: 0.0010s). Check your callbacks.\n",
      "313/313 [==============================] - 0s 1ms/step - loss: 0.1208 - accuracy: 0.9741\n",
      "  1/313 [..............................] - ETA: 0s - loss: 0.0065 - accuracy: 1.0000WARNING:tensorflow:Callbacks method `on_test_batch_end` is slow compared to the batch time (batch time: 0.0000s vs `on_test_batch_end` time: 0.0010s). Check your callbacks.\n",
      "313/313 [==============================] - 0s 1ms/step - loss: 0.1208 - accuracy: 0.9741\n"
     ]
    }
   ],
   "source": [
    "loss_data, acc_data = [],[]\n",
    "\n",
    "for i in range(10):\n",
    "    model.fit(x_train, y_train, epochs=1)\n",
    "    loss_data.append(model.evaluate(x_test, y_test)[0])\n",
    "    acc_data.append(model.evaluate(x_test, y_test)[1])\n"
   ]
  },
  {
   "cell_type": "code",
   "execution_count": 1,
   "id": "b91ea15b",
   "metadata": {
    "ExecuteTime": {
     "end_time": "2021-12-17T06:28:01.142712Z",
     "start_time": "2021-12-17T06:27:58.701163Z"
    }
   },
   "outputs": [],
   "source": [
    "## Ex 10-6. MNIST 손글씨 인식 프로그램.\n",
    "\n",
    "import sys\n",
    "from PyQt5.QtWidgets import *\n",
    "from PyQt5.QtGui import *\n",
    "from PyQt5.QtCore import *\n",
    "import numpy as np\n",
    "import tensorflow as tf\n",
    "\n",
    "\n",
    "class MyApp(QMainWindow):\n",
    "\n",
    "    def __init__(self):\n",
    "        super().__init__()\n",
    "        self.image = QImage(QSize(400, 400), QImage.Format_RGB32)\n",
    "        self.image.fill(Qt.white)\n",
    "        self.drawing = False\n",
    "        self.brush_size = 30\n",
    "        self.brush_color = Qt.black\n",
    "        self.last_point = QPoint()\n",
    "        self.loaded_model = None\n",
    "        self.initUI()\n",
    "\n",
    "    def initUI(self):\n",
    "        menubar = self.menuBar()\n",
    "        menubar.setNativeMenuBar(False)\n",
    "        filemenu = menubar.addMenu('File')\n",
    "\n",
    "        load_model_action = QAction('Load model', self)\n",
    "        load_model_action.setShortcut('Ctrl+L')\n",
    "        load_model_action.triggered.connect(self.load_model)\n",
    "\n",
    "        save_action = QAction('Save', self)\n",
    "        save_action.setShortcut('Ctrl+S')\n",
    "        save_action.triggered.connect(self.save)\n",
    "\n",
    "        clear_action = QAction('Clear', self)\n",
    "        clear_action.setShortcut('Ctrl+C')\n",
    "        clear_action.triggered.connect(self.clear)\n",
    "\n",
    "        filemenu.addAction(load_model_action)\n",
    "        filemenu.addAction(save_action)\n",
    "        filemenu.addAction(clear_action)\n",
    "\n",
    "        self.statusbar = self.statusBar()\n",
    "\n",
    "        self.setWindowTitle('MNIST Classifier')\n",
    "        self.setGeometry(300, 300, 400, 400)\n",
    "        self.show()\n",
    "\n",
    "    def paintEvent(self, e):\n",
    "        canvas = QPainter(self)\n",
    "        canvas.drawImage(self.rect(), self.image, self.image.rect())\n",
    "\n",
    "    def mousePressEvent(self, e):\n",
    "        if e.button() == Qt.LeftButton:\n",
    "            self.drawing = True\n",
    "            self.last_point = e.pos()\n",
    "\n",
    "    def mouseMoveEvent(self, e):\n",
    "        if (e.buttons() & Qt.LeftButton) & self.drawing:\n",
    "            painter = QPainter(self.image)\n",
    "            painter.setPen(QPen(self.brush_color, self.brush_size, Qt.SolidLine, Qt.RoundCap))\n",
    "            painter.drawLine(self.last_point, e.pos())\n",
    "            self.last_point = e.pos()\n",
    "            self.update()\n",
    "\n",
    "    def mouseReleaseEvent(self, e):\n",
    "        if e.button() == Qt.LeftButton:\n",
    "            self.drawing = False\n",
    "\n",
    "            arr = np.zeros((28, 28))\n",
    "            for i in range(28):\n",
    "                for j in range(28):\n",
    "                    arr[j, i] = 1 - self.image.scaled(28, 28).pixelColor(i, j).getRgb()[0] / 255.0\n",
    "            arr = arr.reshape(-1, 28, 28)\n",
    "\n",
    "            if self.loaded_model:\n",
    "                pred = self.loaded_model.predict(arr)[0]\n",
    "                pred_num = str(np.argmax(pred))\n",
    "                self.statusbar.showMessage('숫자 ' + pred_num + '입니다.')\n",
    "\n",
    "    def load_model(self):\n",
    "        fname, _ = QFileDialog.getOpenFileName(self, 'Load Model', '')\n",
    "\n",
    "        if fname:\n",
    "            self.loaded_model = tf.keras.models.load_model(fname)\n",
    "            self.statusbar.showMessage('Model loaded.')\n",
    "\n",
    "    def save(self):\n",
    "        fpath, _ = QFileDialog.getSaveFileName(self, 'Save Image', '', \"PNG(*.png);;JPEG(*.jpg *.jpeg);;All Files(*.*) \")\n",
    "\n",
    "        if fpath:\n",
    "            self.image.scaled(28, 28).save(fpath)\n",
    "\n",
    "    def clear(self):\n",
    "        self.image.fill(Qt.white)\n",
    "        self.update()\n",
    "        self.statusbar.clearMessage()"
   ]
  },
  {
   "cell_type": "code",
   "execution_count": 2,
   "id": "ac114a63",
   "metadata": {
    "ExecuteTime": {
     "end_time": "2021-12-17T06:28:54.054636Z",
     "start_time": "2021-12-17T06:28:01.143712Z"
    }
   },
   "outputs": [
    {
     "ename": "SystemExit",
     "evalue": "0",
     "output_type": "error",
     "traceback": [
      "An exception has occurred, use %tb to see the full traceback.\n",
      "\u001b[1;31mSystemExit\u001b[0m\u001b[1;31m:\u001b[0m 0\n"
     ]
    },
    {
     "name": "stderr",
     "output_type": "stream",
     "text": [
      "C:\\Users\\admin\\anaconda3\\envs\\tfenv\\lib\\site-packages\\IPython\\core\\interactiveshell.py:3452: UserWarning: To exit: use 'exit', 'quit', or Ctrl-D.\n",
      "  warn(\"To exit: use 'exit', 'quit', or Ctrl-D.\", stacklevel=1)\n"
     ]
    }
   ],
   "source": [
    "if __name__ == '__main__':\n",
    "    app = QApplication(sys.argv)\n",
    "    ex = MyApp()\n",
    "    sys.exit(app.exec_())"
   ]
  },
  {
   "cell_type": "markdown",
   "id": "4df8458e",
   "metadata": {},
   "source": [
    "# Fasion MNIST 이미지 분류하기\n"
   ]
  },
  {
   "cell_type": "code",
   "execution_count": 28,
   "id": "16abd506",
   "metadata": {
    "ExecuteTime": {
     "end_time": "2021-12-17T07:26:23.908173Z",
     "start_time": "2021-12-17T07:26:23.900171Z"
    }
   },
   "outputs": [],
   "source": [
    "from tensorflow.keras import datasets\n",
    "from tensorflow import keras\n",
    "import numpy as np\n"
   ]
  },
  {
   "cell_type": "code",
   "execution_count": 4,
   "id": "25482c3e",
   "metadata": {
    "ExecuteTime": {
     "end_time": "2021-12-17T07:11:44.811966Z",
     "start_time": "2021-12-17T07:11:44.808955Z"
    }
   },
   "outputs": [],
   "source": [
    "fashion_mnist = datasets.fashion_mnist"
   ]
  },
  {
   "cell_type": "code",
   "execution_count": 6,
   "id": "aafe0af9",
   "metadata": {
    "ExecuteTime": {
     "end_time": "2021-12-17T07:12:28.117228Z",
     "start_time": "2021-12-17T07:12:26.471173Z"
    }
   },
   "outputs": [
    {
     "name": "stdout",
     "output_type": "stream",
     "text": [
      "Downloading data from https://storage.googleapis.com/tensorflow/tf-keras-datasets/train-labels-idx1-ubyte.gz\n",
      "32768/29515 [=================================] - 0s 0us/step\n",
      "Downloading data from https://storage.googleapis.com/tensorflow/tf-keras-datasets/train-images-idx3-ubyte.gz\n",
      "26427392/26421880 [==============================] - 1s 0us/step\n",
      "Downloading data from https://storage.googleapis.com/tensorflow/tf-keras-datasets/t10k-labels-idx1-ubyte.gz\n",
      "8192/5148 [===============================================] - 0s 0us/step\n",
      "Downloading data from https://storage.googleapis.com/tensorflow/tf-keras-datasets/t10k-images-idx3-ubyte.gz\n",
      "4423680/4422102 [==============================] - 0s 0us/step\n"
     ]
    }
   ],
   "source": [
    "(x_train, y_train),(x_test, y_test) = fashion_mnist.load_data()"
   ]
  },
  {
   "cell_type": "code",
   "execution_count": 7,
   "id": "33a417ef",
   "metadata": {
    "ExecuteTime": {
     "end_time": "2021-12-17T07:13:07.828216Z",
     "start_time": "2021-12-17T07:13:07.820214Z"
    }
   },
   "outputs": [
    {
     "data": {
      "text/plain": [
       "(60000, 28, 28)"
      ]
     },
     "execution_count": 7,
     "metadata": {},
     "output_type": "execute_result"
    }
   ],
   "source": [
    "x_train.shape"
   ]
  },
  {
   "cell_type": "code",
   "execution_count": 8,
   "id": "d3ec0e2f",
   "metadata": {
    "ExecuteTime": {
     "end_time": "2021-12-17T07:13:36.020254Z",
     "start_time": "2021-12-17T07:13:35.032237Z"
    }
   },
   "outputs": [
    {
     "data": {
      "text/plain": [
       "<matplotlib.image.AxesImage at 0x1ef911c74f0>"
      ]
     },
     "execution_count": 8,
     "metadata": {},
     "output_type": "execute_result"
    },
    {
     "data": {
      "image/png": "[encoded data removed]",
      "text/plain": [
       "<Figure size 432x288 with 1 Axes>"
      ]
     },
     "metadata": {
      "needs_background": "light"
     },
     "output_type": "display_data"
    }
   ],
   "source": [
    "import matplotlib.pyplot as plt\n",
    "\n",
    "plt.imshow(x_train[0])"
   ]
  },
  {
   "cell_type": "code",
   "execution_count": 9,
   "id": "66c5bb23",
   "metadata": {
    "ExecuteTime": {
     "end_time": "2021-12-17T07:14:07.666173Z",
     "start_time": "2021-12-17T07:14:07.660173Z"
    }
   },
   "outputs": [
    {
     "data": {
      "text/plain": [
       "(28, 28)"
      ]
     },
     "execution_count": 9,
     "metadata": {},
     "output_type": "execute_result"
    }
   ],
   "source": [
    "x_train[0].shape"
   ]
  },
  {
   "cell_type": "code",
   "execution_count": 10,
   "id": "cd669585",
   "metadata": {
    "ExecuteTime": {
     "end_time": "2021-12-17T07:14:39.824705Z",
     "start_time": "2021-12-17T07:14:39.808690Z"
    }
   },
   "outputs": [
    {
     "data": {
      "text/plain": [
       "9"
      ]
     },
     "execution_count": 10,
     "metadata": {},
     "output_type": "execute_result"
    }
   ],
   "source": [
    "y_train[0]"
   ]
  },
  {
   "cell_type": "markdown",
   "id": "0beae6a7",
   "metadata": {},
   "source": [
    "label data \n",
    "0에서 9까지의 정수 값은 이미지(옷)의 클래스를 나타내는 레이블입니다. 각각의 레이블과 클래스는 아래와 같습니다.\n",
    "\n",
    "0 : T-shirt/top\n",
    "1 : Trouser\n",
    "2 : Pullover\n",
    "3 : Dress\n",
    "4 : Coat\n",
    "5 : Sandal\n",
    "6 : Shirt\n",
    "7 : Sneaker\n",
    "8 : Bag\n",
    "9 : Ankel boot"
   ]
  },
  {
   "cell_type": "code",
   "execution_count": 11,
   "id": "89cf587c",
   "metadata": {
    "ExecuteTime": {
     "end_time": "2021-12-17T07:16:59.794292Z",
     "start_time": "2021-12-17T07:16:59.779289Z"
    }
   },
   "outputs": [
    {
     "name": "stdout",
     "output_type": "stream",
     "text": [
      "(10000, 28, 28)\n",
      "(28, 28)\n"
     ]
    }
   ],
   "source": [
    "print(x_test.shape)\n",
    "print(x_test[0].shape)"
   ]
  },
  {
   "cell_type": "code",
   "execution_count": 13,
   "id": "9f97923a",
   "metadata": {
    "ExecuteTime": {
     "end_time": "2021-12-17T07:18:38.901141Z",
     "start_time": "2021-12-17T07:18:38.801223Z"
    }
   },
   "outputs": [],
   "source": [
    "#데이터 전처리 \n",
    "x_train, x_test = x_train/255.0, x_test/255.0"
   ]
  },
  {
   "cell_type": "code",
   "execution_count": 15,
   "id": "291d0f56",
   "metadata": {
    "ExecuteTime": {
     "end_time": "2021-12-17T07:19:02.642980Z",
     "start_time": "2021-12-17T07:19:02.634978Z"
    }
   },
   "outputs": [
    {
     "data": {
      "text/plain": [
       "(28, 28)"
      ]
     },
     "execution_count": 15,
     "metadata": {},
     "output_type": "execute_result"
    }
   ],
   "source": [
    "x_train[0].shape"
   ]
  },
  {
   "cell_type": "code",
   "execution_count": 23,
   "id": "c06759d4",
   "metadata": {
    "ExecuteTime": {
     "end_time": "2021-12-17T07:25:05.119772Z",
     "start_time": "2021-12-17T07:25:05.081908Z"
    }
   },
   "outputs": [],
   "source": [
    "model = keras.Sequential([keras.layers.Flatten(input_shape=(28,28)),\n",
    "                         keras.layers.Dense(units=512, activation='relu'),\n",
    "                         keras.layers.Dense(units=10, activation='softmax')])"
   ]
  },
  {
   "cell_type": "code",
   "execution_count": 24,
   "id": "c1747eb7",
   "metadata": {
    "ExecuteTime": {
     "end_time": "2021-12-17T07:25:05.948665Z",
     "start_time": "2021-12-17T07:25:05.929662Z"
    }
   },
   "outputs": [],
   "source": [
    "model.compile(loss='sparse_categorical_crossentropy', optimizer='Adam', metrics=['accuracy'])"
   ]
  },
  {
   "cell_type": "code",
   "execution_count": 25,
   "id": "32cdfaa9",
   "metadata": {
    "ExecuteTime": {
     "end_time": "2021-12-17T07:25:15.958739Z",
     "start_time": "2021-12-17T07:25:06.617108Z"
    }
   },
   "outputs": [
    {
     "name": "stdout",
     "output_type": "stream",
     "text": [
      "Epoch 1/5\n",
      "1875/1875 [==============================] - 2s 977us/step - loss: 0.4745 - accuracy: 0.8307\n",
      "Epoch 2/5\n",
      "1875/1875 [==============================] - 2s 974us/step - loss: 0.3570 - accuracy: 0.8695\n",
      "Epoch 3/5\n",
      "1875/1875 [==============================] - 2s 968us/step - loss: 0.3231 - accuracy: 0.8812\n",
      "Epoch 4/5\n",
      "1875/1875 [==============================] - 2s 960us/step - loss: 0.3005 - accuracy: 0.8885\n",
      "Epoch 5/5\n",
      "1875/1875 [==============================] - 2s 952us/step - loss: 0.2799 - accuracy: 0.8965\n"
     ]
    },
    {
     "data": {
      "text/plain": [
       "<tensorflow.python.keras.callbacks.History at 0x1ef96692370>"
      ]
     },
     "execution_count": 25,
     "metadata": {},
     "output_type": "execute_result"
    }
   ],
   "source": [
    "model.fit(x_train, y_train, epochs=5)"
   ]
  },
  {
   "cell_type": "code",
   "execution_count": 26,
   "id": "4746691c",
   "metadata": {
    "ExecuteTime": {
     "end_time": "2021-12-17T07:25:19.411117Z",
     "start_time": "2021-12-17T07:25:18.947256Z"
    }
   },
   "outputs": [
    {
     "name": "stdout",
     "output_type": "stream",
     "text": [
      "313/313 [==============================] - 0s 1ms/step - loss: 0.3283 - accuracy: 0.8820\n",
      "0.3282511234283447 0.8820000290870667\n"
     ]
    }
   ],
   "source": [
    "loss, acc = model.evaluate(x_test, y_test)\n",
    "print(loss, acc)"
   ]
  },
  {
   "cell_type": "code",
   "execution_count": 30,
   "id": "005bafcb",
   "metadata": {
    "ExecuteTime": {
     "end_time": "2021-12-17T07:27:02.493020Z",
     "start_time": "2021-12-17T07:27:02.304978Z"
    }
   },
   "outputs": [
    {
     "name": "stdout",
     "output_type": "stream",
     "text": [
      "[7.13811288e-10 2.64930069e-08 1.53852309e-09 9.63851132e-09\n",
      " 2.47174299e-08 4.65696823e-04 1.58626321e-08 1.34221455e-02\n",
      " 3.23087619e-08 9.86112058e-01]\n",
      "9\n"
     ]
    }
   ],
   "source": [
    "predict = model.predict(x_test)\n",
    "print(predict[0])\n",
    "print(np.argmax(predict[0])) # 가장 높은 값 출력"
   ]
  },
  {
   "cell_type": "markdown",
   "id": "886d9f4a",
   "metadata": {},
   "source": [
    "## 뉴련의 개수의 영향 "
   ]
  },
  {
   "cell_type": "code",
   "execution_count": 41,
   "id": "6c70af30",
   "metadata": {
    "ExecuteTime": {
     "end_time": "2021-12-17T07:42:08.848195Z",
     "start_time": "2021-12-17T07:42:08.830191Z"
    }
   },
   "outputs": [],
   "source": [
    "# 3. 모델 구성\n",
    "model = tf.keras.models.Sequential([\n",
    "    tf.keras.layers.Flatten(input_shape=(28, 28)),\n",
    "    #tf.keras.layers.Dense(128, activation='relu'),      ## CASE 1\n",
    "    #tf.keras.layers.Dense(512, activation='relu'),    ## CASE 2\n",
    "    tf.keras.layers.Dense(1024, activation='relu'),   ## CASE 3\n",
    "    tf.keras.layers.Dense(10, activation='softmax')\n",
    "])"
   ]
  },
  {
   "cell_type": "code",
   "execution_count": 42,
   "id": "308ac8dc",
   "metadata": {
    "ExecuteTime": {
     "end_time": "2021-12-17T07:42:19.643549Z",
     "start_time": "2021-12-17T07:42:09.783206Z"
    }
   },
   "outputs": [
    {
     "name": "stdout",
     "output_type": "stream",
     "text": [
      "Epoch 1/5\n",
      "1875/1875 [==============================] - 2s 1ms/step - loss: 0.4709 - accuracy: 0.8312\n",
      "Epoch 2/5\n",
      "1875/1875 [==============================] - 2s 1ms/step - loss: 0.3564 - accuracy: 0.8684\n",
      "Epoch 3/5\n",
      "1875/1875 [==============================] - 2s 1ms/step - loss: 0.3195 - accuracy: 0.8818\n",
      "Epoch 4/5\n",
      "1875/1875 [==============================] - 2s 1ms/step - loss: 0.2942 - accuracy: 0.8910\n",
      "Epoch 5/5\n",
      "1875/1875 [==============================] - 2s 1ms/step - loss: 0.2788 - accuracy: 0.8966\n"
     ]
    },
    {
     "data": {
      "text/plain": [
       "<tensorflow.python.keras.callbacks.History at 0x1ef969cf5b0>"
      ]
     },
     "execution_count": 42,
     "metadata": {},
     "output_type": "execute_result"
    }
   ],
   "source": [
    "model.compile(loss='sparse_categorical_crossentropy',optimizer='Adam', metrics=['accuracy'])\n",
    "model.fit(x_train, y_train, epochs=5)"
   ]
  },
  {
   "cell_type": "code",
   "execution_count": 37,
   "id": "b830112e",
   "metadata": {
    "ExecuteTime": {
     "end_time": "2021-12-17T07:41:23.211502Z",
     "start_time": "2021-12-17T07:41:22.777814Z"
    }
   },
   "outputs": [
    {
     "name": "stdout",
     "output_type": "stream",
     "text": [
      "313/313 [==============================] - 0s 1ms/step - loss: 0.3429 - accuracy: 0.8832\n",
      "0.34293970465660095 0.8831999897956848\n"
     ]
    }
   ],
   "source": [
    "#case1\n",
    "loss, acc = model.evaluate(x_test, y_test)\n",
    "print(loss, acc)"
   ]
  },
  {
   "cell_type": "code",
   "execution_count": 40,
   "id": "ee42129d",
   "metadata": {
    "ExecuteTime": {
     "end_time": "2021-12-17T07:42:01.830360Z",
     "start_time": "2021-12-17T07:42:01.414427Z"
    }
   },
   "outputs": [
    {
     "name": "stdout",
     "output_type": "stream",
     "text": [
      "313/313 [==============================] - 0s 1ms/step - loss: 0.3665 - accuracy: 0.8659\n",
      "0.3664815127849579 0.8658999800682068\n"
     ]
    }
   ],
   "source": [
    "#case2\n",
    "loss, acc = model.evaluate(x_test, y_test)\n",
    "print(loss, acc)"
   ]
  },
  {
   "cell_type": "code",
   "execution_count": 43,
   "id": "d5b5d5f6",
   "metadata": {
    "ExecuteTime": {
     "end_time": "2021-12-17T07:42:24.781098Z",
     "start_time": "2021-12-17T07:42:24.336798Z"
    }
   },
   "outputs": [
    {
     "name": "stdout",
     "output_type": "stream",
     "text": [
      "313/313 [==============================] - 0s 1ms/step - loss: 0.3445 - accuracy: 0.8774\n",
      "0.3445414900779724 0.8773999810218811\n"
     ]
    }
   ],
   "source": [
    "#case3\n",
    "loss, acc = model.evaluate(x_test, y_test)\n",
    "print(loss, acc)"
   ]
  },
  {
   "cell_type": "markdown",
   "id": "9518679e",
   "metadata": {},
   "source": [
    "뉴런 노드의 개수가 증가하면 훈련 과정에서 손실 값이 감소하고 테스트 정확도는 증가하는 경향\n",
    "하지만 계산과 최적화를 필요로 하는 파라미터의 숫자가 증가하기 때문에 훈련에 걸리는 시간은 증가"
   ]
  },
  {
   "cell_type": "markdown",
   "id": "bc151343",
   "metadata": {},
   "source": [
    "# 콜백(callback)\n",
    "tf.keras.callbacks 모듈의 Callback 클래스를 사용하면,\n",
    "\n",
    "훈련 중에 손실 값이 특정 기준 미만이 되었을 때 훈련을 중단할 수 있습니다."
   ]
  },
  {
   "cell_type": "code",
   "execution_count": 55,
   "id": "0a49aea2",
   "metadata": {
    "ExecuteTime": {
     "end_time": "2021-12-17T08:06:49.491591Z",
     "start_time": "2021-12-17T08:06:49.487590Z"
    }
   },
   "outputs": [],
   "source": [
    "import tensorflow as tf\n",
    "from tensorflow import keras"
   ]
  },
  {
   "cell_type": "code",
   "execution_count": 63,
   "id": "db5677d4",
   "metadata": {
    "ExecuteTime": {
     "end_time": "2021-12-17T08:09:23.843774Z",
     "start_time": "2021-12-17T08:09:23.515701Z"
    }
   },
   "outputs": [],
   "source": [
    "class MyCallback(keras.callbacks.Callback):\n",
    "    def on_epoch_end(self, epoch, logs={}):\n",
    "        if logs.get('loss') < 0.3:\n",
    "            print('\\n훈련을 중지합니다')\n",
    "            self.model.stop_training = True\n",
    "            \n",
    "            \n",
    "callback= MyCallback()\n",
    "\n",
    "fasion_minst = keras.datasets.fashion_mnist\n",
    "(x_train, y_train), (x_test, y_test) = fasion_minst.load_data()"
   ]
  },
  {
   "cell_type": "code",
   "execution_count": 64,
   "id": "89047d7a",
   "metadata": {
    "ExecuteTime": {
     "end_time": "2021-12-17T08:09:31.544406Z",
     "start_time": "2021-12-17T08:09:24.147204Z"
    }
   },
   "outputs": [
    {
     "name": "stdout",
     "output_type": "stream",
     "text": [
      "Epoch 1/5\n",
      "1875/1875 [==============================] - 2s 935us/step - loss: 0.4715 - accuracy: 0.8325\n",
      "Epoch 2/5\n",
      "1875/1875 [==============================] - 2s 938us/step - loss: 0.3581 - accuracy: 0.8688\n",
      "Epoch 3/5\n",
      "1875/1875 [==============================] - 2s 920us/step - loss: 0.3207 - accuracy: 0.8819\n",
      "Epoch 4/5\n",
      "1842/1875 [============================>.] - ETA: 0s - loss: 0.2990 - accuracy: 0.8898\n",
      "훈련을 중지합니다\n",
      "1875/1875 [==============================] - 2s 952us/step - loss: 0.2993 - accuracy: 0.8896\n"
     ]
    },
    {
     "data": {
      "text/plain": [
       "<tensorflow.python.keras.callbacks.History at 0x1ef9eb0cc70>"
      ]
     },
     "execution_count": 64,
     "metadata": {},
     "output_type": "execute_result"
    }
   ],
   "source": [
    "#데이터 전처리\n",
    "x_train, x_test = x_train / 255.0, x_test / 255.0\n",
    "\n",
    "\n",
    "model = keras.Sequential([keras.layers.Flatten(input_shape=(28,28)),\n",
    "                         keras.layers.Dense(units=512, activation='relu'),\n",
    "                         keras.layers.Dense(units=10, activation='softmax')])\n",
    "\n",
    "model.compile(loss='sparse_categorical_crossentropy', optimizer='Adam', metrics=['accuracy'])\n",
    "\n",
    "model.fit(x_train, y_train, epochs=5, callbacks = [callback])\n"
   ]
  },
  {
   "cell_type": "markdown",
   "id": "ffdd5696",
   "metadata": {},
   "source": [
    "# 합성곱 신경망 사용하기 "
   ]
  },
  {
   "cell_type": "code",
   "execution_count": 66,
   "id": "0d14b364",
   "metadata": {
    "ExecuteTime": {
     "end_time": "2021-12-17T08:12:20.330582Z",
     "start_time": "2021-12-17T08:12:20.138530Z"
    }
   },
   "outputs": [],
   "source": [
    "import tensorflow as tf\n",
    "from tensorflow.keras import datasets\n",
    "\n",
    "minst = datasets.mnist\n",
    "(x_train, y_train),(x_test, y_test) = minst.load_data()"
   ]
  },
  {
   "cell_type": "code",
   "execution_count": 68,
   "id": "e1fd9e44",
   "metadata": {
    "ExecuteTime": {
     "end_time": "2021-12-17T08:12:34.733607Z",
     "start_time": "2021-12-17T08:12:34.724605Z"
    }
   },
   "outputs": [
    {
     "data": {
      "text/plain": [
       "(60000, 28, 28)"
      ]
     },
     "execution_count": 68,
     "metadata": {},
     "output_type": "execute_result"
    }
   ],
   "source": [
    "x_train.shape"
   ]
  },
  {
   "cell_type": "code",
   "execution_count": 69,
   "id": "10c51238",
   "metadata": {
    "ExecuteTime": {
     "end_time": "2021-12-17T08:14:21.119194Z",
     "start_time": "2021-12-17T08:14:21.114193Z"
    }
   },
   "outputs": [
    {
     "name": "stdout",
     "output_type": "stream",
     "text": [
      "<class 'numpy.ndarray'>\n"
     ]
    }
   ],
   "source": [
    "print(type(x_train))"
   ]
  },
  {
   "cell_type": "code",
   "execution_count": 70,
   "id": "f5cfc176",
   "metadata": {
    "ExecuteTime": {
     "end_time": "2021-12-17T08:15:40.333077Z",
     "start_time": "2021-12-17T08:15:40.228571Z"
    }
   },
   "outputs": [],
   "source": [
    "x_train = x_train.reshape((60000,28,28,1))\n",
    "x_test = x_test.reshape((10000,28,28,1))\n",
    "x_train, x_test = x_train/255.0, x_test/255.0"
   ]
  },
  {
   "cell_type": "code",
   "execution_count": 72,
   "id": "b219e03d",
   "metadata": {
    "ExecuteTime": {
     "end_time": "2021-12-17T08:28:02.101078Z",
     "start_time": "2021-12-17T08:28:02.069071Z"
    }
   },
   "outputs": [
    {
     "name": "stdout",
     "output_type": "stream",
     "text": [
      "Model: \"sequential_12\"\n",
      "_________________________________________________________________\n",
      "Layer (type)                 Output Shape              Param #   \n",
      "=================================================================\n",
      "conv2d_3 (Conv2D)            (None, 26, 26, 32)        320       \n",
      "_________________________________________________________________\n",
      "max_pooling2d_3 (MaxPooling2 (None, 13, 13, 32)        0         \n",
      "_________________________________________________________________\n",
      "conv2d_4 (Conv2D)            (None, 11, 11, 64)        18496     \n",
      "_________________________________________________________________\n",
      "max_pooling2d_4 (MaxPooling2 (None, 5, 5, 64)          0         \n",
      "_________________________________________________________________\n",
      "conv2d_5 (Conv2D)            (None, 3, 3, 64)          36928     \n",
      "_________________________________________________________________\n",
      "max_pooling2d_5 (MaxPooling2 (None, 1, 1, 64)          0         \n",
      "=================================================================\n",
      "Total params: 55,744\n",
      "Trainable params: 55,744\n",
      "Non-trainable params: 0\n",
      "_________________________________________________________________\n"
     ]
    }
   ],
   "source": [
    "#합성곱 신경망 구성하기 \n",
    "\n",
    "model = keras.Sequential()\n",
    "model.add(keras.layers.Conv2D(32, (3, 3),activation='relu', input_shape=(28,28,1)))\n",
    "model.add(keras.layers.MaxPooling2D((2, 2)))\n",
    "model.add(keras.layers.Conv2D(64, (3, 3), activation='relu'))\n",
    "model.add(keras.layers.MaxPooling2D((2, 2)))\n",
    "model.add(keras.layers.Conv2D(64, (3, 3), activation='relu'))\n",
    "model.add(keras.layers.MaxPooling2D((2, 2)))\n",
    "model.summary()"
   ]
  },
  {
   "cell_type": "code",
   "execution_count": 73,
   "id": "7a053482",
   "metadata": {
    "ExecuteTime": {
     "end_time": "2021-12-17T08:33:56.624948Z",
     "start_time": "2021-12-17T08:33:56.594941Z"
    }
   },
   "outputs": [
    {
     "name": "stdout",
     "output_type": "stream",
     "text": [
      "Model: \"sequential_12\"\n",
      "_________________________________________________________________\n",
      "Layer (type)                 Output Shape              Param #   \n",
      "=================================================================\n",
      "conv2d_3 (Conv2D)            (None, 26, 26, 32)        320       \n",
      "_________________________________________________________________\n",
      "max_pooling2d_3 (MaxPooling2 (None, 13, 13, 32)        0         \n",
      "_________________________________________________________________\n",
      "conv2d_4 (Conv2D)            (None, 11, 11, 64)        18496     \n",
      "_________________________________________________________________\n",
      "max_pooling2d_4 (MaxPooling2 (None, 5, 5, 64)          0         \n",
      "_________________________________________________________________\n",
      "conv2d_5 (Conv2D)            (None, 3, 3, 64)          36928     \n",
      "_________________________________________________________________\n",
      "max_pooling2d_5 (MaxPooling2 (None, 1, 1, 64)          0         \n",
      "_________________________________________________________________\n",
      "flatten_12 (Flatten)         (None, 64)                0         \n",
      "_________________________________________________________________\n",
      "dense_23 (Dense)             (None, 64)                4160      \n",
      "_________________________________________________________________\n",
      "dense_24 (Dense)             (None, 10)                650       \n",
      "=================================================================\n",
      "Total params: 60,554\n",
      "Trainable params: 60,554\n",
      "Non-trainable params: 0\n",
      "_________________________________________________________________\n"
     ]
    }
   ],
   "source": [
    "#Dense 층 추가하기\n",
    "model.add(keras.layers.Flatten())\n",
    "model.add(keras.layers.Dense(units=64, activation='relu'))\n",
    "model.add(keras.layers.Dense(units=10, activation='softmax'))\n",
    "model.summary()"
   ]
  },
  {
   "cell_type": "code",
   "execution_count": 78,
   "id": "6ef5b439",
   "metadata": {
    "ExecuteTime": {
     "end_time": "2021-12-17T08:37:41.914712Z",
     "start_time": "2021-12-17T08:37:41.888706Z"
    }
   },
   "outputs": [],
   "source": [
    "model.compile(loss='sparse_categorical_crossentropy', optimizer='adam', metrics=['accuracy'])"
   ]
  },
  {
   "cell_type": "code",
   "execution_count": 82,
   "id": "6728dff9",
   "metadata": {
    "ExecuteTime": {
     "end_time": "2021-12-17T08:39:29.120685Z",
     "start_time": "2021-12-17T08:39:11.923393Z"
    }
   },
   "outputs": [
    {
     "name": "stdout",
     "output_type": "stream",
     "text": [
      "Epoch 1/6\n",
      "1875/1875 [==============================] - 3s 2ms/step - loss: 0.0265 - accuracy: 0.9916\n",
      "Epoch 2/6\n",
      "1875/1875 [==============================] - 3s 2ms/step - loss: 0.0218 - accuracy: 0.9930\n",
      "Epoch 3/6\n",
      "1875/1875 [==============================] - 3s 2ms/step - loss: 0.0200 - accuracy: 0.9937\n",
      "Epoch 4/6\n",
      "1875/1875 [==============================] - 3s 2ms/step - loss: 0.0156 - accuracy: 0.9950\n",
      "Epoch 5/6\n",
      "1875/1875 [==============================] - 3s 2ms/step - loss: 0.0133 - accuracy: 0.9955\n",
      "Epoch 6/6\n",
      "1875/1875 [==============================] - 3s 2ms/step - loss: 0.0130 - accuracy: 0.9958\n"
     ]
    },
    {
     "data": {
      "text/plain": [
       "<tensorflow.python.keras.callbacks.History at 0x1ef9ad0ee50>"
      ]
     },
     "execution_count": 82,
     "metadata": {},
     "output_type": "execute_result"
    }
   ],
   "source": [
    "model.fit(x_train, y_train, epochs=6)"
   ]
  },
  {
   "cell_type": "code",
   "execution_count": 83,
   "id": "4f2b14ac",
   "metadata": {
    "ExecuteTime": {
     "end_time": "2021-12-17T08:39:31.272279Z",
     "start_time": "2021-12-17T08:39:30.878180Z"
    }
   },
   "outputs": [
    {
     "name": "stdout",
     "output_type": "stream",
     "text": [
      "313/313 - 0s - loss: 0.0556 - accuracy: 0.9874\n"
     ]
    }
   ],
   "source": [
    "loss, acc = model.evaluate(x_test, y_test, verbose=2)"
   ]
  },
  {
   "cell_type": "code",
   "execution_count": null,
   "id": "4c88828e",
   "metadata": {},
   "outputs": [],
   "source": []
  }
 ],
 "metadata": {
  "kernelspec": {
   "display_name": "Python 3 (ipykernel)",
   "language": "python",
   "name": "python3"
  },
  "language_info": {
   "codemirror_mode": {
    "name": "ipython",
    "version": 3
   },
   "file_extension": ".py",
   "mimetype": "text/x-python",
   "name": "python",
   "nbconvert_exporter": "python",
   "pygments_lexer": "ipython3",
   "version": "3.8.12"
  },
  "toc": {
   "base_numbering": 1,
   "nav_menu": {},
   "number_sections": true,
   "sideBar": true,
   "skip_h1_title": false,
   "title_cell": "Table of Contents",
   "title_sidebar": "Contents",
   "toc_cell": false,
   "toc_position": {},
   "toc_section_display": true,
   "toc_window_display": false
  }
 },
 "nbformat": 4,
 "nbformat_minor": 5
}
