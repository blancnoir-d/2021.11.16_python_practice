{
 "cells": [
  {
   "cell_type": "code",
   "execution_count": 23,
   "id": "12a1c6d4-c396-4929-aa5d-6d78d16840ab",
   "metadata": {},
   "outputs": [],
   "source": [
    "import numpy as np\n",
    "import matplotlib.pyplot as plt\n",
    "import tensorflow as tf\n",
    "from tensorflow import keras\n",
    "from tensorflow.keras import layers\n",
    "import pandas as pd"
   ]
  },
  {
   "cell_type": "code",
   "execution_count": 24,
   "id": "dfc21f4c-eccd-41bf-bdef-54ad2e9f328a",
   "metadata": {},
   "outputs": [
    {
     "data": {
      "text/html": [
       "<div>\n",
       "<style scoped>\n",
       "    .dataframe tbody tr th:only-of-type {\n",
       "        vertical-align: middle;\n",
       "    }\n",
       "\n",
       "    .dataframe tbody tr th {\n",
       "        vertical-align: top;\n",
       "    }\n",
       "\n",
       "    .dataframe thead th {\n",
       "        text-align: right;\n",
       "    }\n",
       "</style>\n",
       "<table border=\"1\" class=\"dataframe\">\n",
       "  <thead>\n",
       "    <tr style=\"text-align: right;\">\n",
       "      <th></th>\n",
       "      <th>Date</th>\n",
       "      <th>Open</th>\n",
       "      <th>High</th>\n",
       "      <th>Low</th>\n",
       "      <th>Close</th>\n",
       "      <th>Adj Close</th>\n",
       "      <th>Volume</th>\n",
       "    </tr>\n",
       "  </thead>\n",
       "  <tbody>\n",
       "    <tr>\n",
       "      <th>0</th>\n",
       "      <td>2010-01-04</td>\n",
       "      <td>30.490000</td>\n",
       "      <td>30.642857</td>\n",
       "      <td>30.340000</td>\n",
       "      <td>30.572857</td>\n",
       "      <td>26.419203</td>\n",
       "      <td>123432400</td>\n",
       "    </tr>\n",
       "    <tr>\n",
       "      <th>1</th>\n",
       "      <td>2010-01-05</td>\n",
       "      <td>30.657143</td>\n",
       "      <td>30.798571</td>\n",
       "      <td>30.464285</td>\n",
       "      <td>30.625713</td>\n",
       "      <td>26.464878</td>\n",
       "      <td>150476200</td>\n",
       "    </tr>\n",
       "    <tr>\n",
       "      <th>2</th>\n",
       "      <td>2010-01-06</td>\n",
       "      <td>30.625713</td>\n",
       "      <td>30.747143</td>\n",
       "      <td>30.107143</td>\n",
       "      <td>30.138571</td>\n",
       "      <td>26.043921</td>\n",
       "      <td>138040000</td>\n",
       "    </tr>\n",
       "    <tr>\n",
       "      <th>3</th>\n",
       "      <td>2010-01-07</td>\n",
       "      <td>30.250000</td>\n",
       "      <td>30.285715</td>\n",
       "      <td>29.864286</td>\n",
       "      <td>30.082857</td>\n",
       "      <td>25.995777</td>\n",
       "      <td>119282800</td>\n",
       "    </tr>\n",
       "    <tr>\n",
       "      <th>4</th>\n",
       "      <td>2010-01-08</td>\n",
       "      <td>30.042856</td>\n",
       "      <td>30.285715</td>\n",
       "      <td>29.865715</td>\n",
       "      <td>30.282858</td>\n",
       "      <td>26.168606</td>\n",
       "      <td>111902700</td>\n",
       "    </tr>\n",
       "    <tr>\n",
       "      <th>...</th>\n",
       "      <td>...</td>\n",
       "      <td>...</td>\n",
       "      <td>...</td>\n",
       "      <td>...</td>\n",
       "      <td>...</td>\n",
       "      <td>...</td>\n",
       "      <td>...</td>\n",
       "    </tr>\n",
       "    <tr>\n",
       "      <th>2664</th>\n",
       "      <td>2020-08-04</td>\n",
       "      <td>436.529999</td>\n",
       "      <td>443.160004</td>\n",
       "      <td>433.549988</td>\n",
       "      <td>438.660004</td>\n",
       "      <td>437.870514</td>\n",
       "      <td>43267900</td>\n",
       "    </tr>\n",
       "    <tr>\n",
       "      <th>2665</th>\n",
       "      <td>2020-08-05</td>\n",
       "      <td>437.510010</td>\n",
       "      <td>441.570007</td>\n",
       "      <td>435.589996</td>\n",
       "      <td>440.250000</td>\n",
       "      <td>439.457642</td>\n",
       "      <td>30498000</td>\n",
       "    </tr>\n",
       "    <tr>\n",
       "      <th>2666</th>\n",
       "      <td>2020-08-06</td>\n",
       "      <td>441.619995</td>\n",
       "      <td>457.649994</td>\n",
       "      <td>439.190002</td>\n",
       "      <td>455.609985</td>\n",
       "      <td>454.790009</td>\n",
       "      <td>50607200</td>\n",
       "    </tr>\n",
       "    <tr>\n",
       "      <th>2667</th>\n",
       "      <td>2020-08-07</td>\n",
       "      <td>452.820007</td>\n",
       "      <td>454.700012</td>\n",
       "      <td>441.170013</td>\n",
       "      <td>444.450012</td>\n",
       "      <td>444.450012</td>\n",
       "      <td>49453300</td>\n",
       "    </tr>\n",
       "    <tr>\n",
       "      <th>2668</th>\n",
       "      <td>2020-08-10</td>\n",
       "      <td>450.399994</td>\n",
       "      <td>455.100006</td>\n",
       "      <td>440.000000</td>\n",
       "      <td>450.910004</td>\n",
       "      <td>450.910004</td>\n",
       "      <td>53100900</td>\n",
       "    </tr>\n",
       "  </tbody>\n",
       "</table>\n",
       "<p>2669 rows × 7 columns</p>\n",
       "</div>"
      ],
      "text/plain": [
       "            Date        Open        High         Low       Close   Adj Close  \\\n",
       "0     2010-01-04   30.490000   30.642857   30.340000   30.572857   26.419203   \n",
       "1     2010-01-05   30.657143   30.798571   30.464285   30.625713   26.464878   \n",
       "2     2010-01-06   30.625713   30.747143   30.107143   30.138571   26.043921   \n",
       "3     2010-01-07   30.250000   30.285715   29.864286   30.082857   25.995777   \n",
       "4     2010-01-08   30.042856   30.285715   29.865715   30.282858   26.168606   \n",
       "...          ...         ...         ...         ...         ...         ...   \n",
       "2664  2020-08-04  436.529999  443.160004  433.549988  438.660004  437.870514   \n",
       "2665  2020-08-05  437.510010  441.570007  435.589996  440.250000  439.457642   \n",
       "2666  2020-08-06  441.619995  457.649994  439.190002  455.609985  454.790009   \n",
       "2667  2020-08-07  452.820007  454.700012  441.170013  444.450012  444.450012   \n",
       "2668  2020-08-10  450.399994  455.100006  440.000000  450.910004  450.910004   \n",
       "\n",
       "         Volume  \n",
       "0     123432400  \n",
       "1     150476200  \n",
       "2     138040000  \n",
       "3     119282800  \n",
       "4     111902700  \n",
       "...         ...  \n",
       "2664   43267900  \n",
       "2665   30498000  \n",
       "2666   50607200  \n",
       "2667   49453300  \n",
       "2668   53100900  \n",
       "\n",
       "[2669 rows x 7 columns]"
      ]
     },
     "execution_count": 24,
     "metadata": {},
     "output_type": "execute_result"
    }
   ],
   "source": [
    "df = pd.read_csv('./data_주가/애플 주가.csv', encoding='cp949')\n",
    "df"
   ]
  },
  {
   "cell_type": "code",
   "execution_count": 25,
   "id": "44f80ca4-ffc6-42df-a9c9-5c5c0818b039",
   "metadata": {},
   "outputs": [],
   "source": [
    "#정규화\n",
    "from sklearn.preprocessing import MinMaxScaler"
   ]
  },
  {
   "cell_type": "code",
   "execution_count": 26,
   "id": "314e436e-76de-42c4-bf23-a53f66407ca3",
   "metadata": {},
   "outputs": [],
   "source": [
    "scaler = MinMaxScaler()"
   ]
  },
  {
   "cell_type": "code",
   "execution_count": 27,
   "id": "e8adbb9d-376e-4e85-9547-ef1bb0f81775",
   "metadata": {},
   "outputs": [
    {
     "data": {
      "text/plain": [
       "Index(['Date', 'Open', 'High', 'Low', 'Close', 'Adj Close', 'Volume'], dtype='object')"
      ]
     },
     "execution_count": 27,
     "metadata": {},
     "output_type": "execute_result"
    }
   ],
   "source": [
    "df.keys()"
   ]
  },
  {
   "cell_type": "code",
   "execution_count": 28,
   "id": "02941ee3-0e46-4bcb-a285-4bd52cca7203",
   "metadata": {},
   "outputs": [
    {
     "data": {
      "text/plain": [
       "array([[0.00707336, 0.00615119, 0.00763646, 0.00732679, 0.00628865,\n",
       "        0.24422195],\n",
       "       [0.00746632, 0.00651361, 0.00793667, 0.00745023, 0.0063946 ,\n",
       "        0.30315535],\n",
       "       [0.00739243, 0.00639391, 0.00707399, 0.00631251, 0.00541809,\n",
       "        0.27605459],\n",
       "       ...,\n",
       "       [0.97366801, 1.        , 0.99521727, 1.        , 1.        ,\n",
       "        0.08552249],\n",
       "       [1.        , 0.99313399, 1.        , 0.97393591, 0.97601384,\n",
       "        0.08300793],\n",
       "       [0.99431038, 0.99406496, 0.99717382, 0.98902321, 0.99099937,\n",
       "        0.09095672]])"
      ]
     },
     "execution_count": 28,
     "metadata": {},
     "output_type": "execute_result"
    }
   ],
   "source": [
    "scale_cols = ['Open', 'High', 'Low', 'Close', 'Adj Close', 'Volume']\n",
    "sacled = scaler.fit_transform(df[scale_cols])\n",
    "sacled"
   ]
  },
  {
   "cell_type": "code",
   "execution_count": 29,
   "id": "71fd4f75-7dcd-4cf3-acc3-aecd6f69a607",
   "metadata": {},
   "outputs": [
    {
     "data": {
      "text/html": [
       "<div>\n",
       "<style scoped>\n",
       "    .dataframe tbody tr th:only-of-type {\n",
       "        vertical-align: middle;\n",
       "    }\n",
       "\n",
       "    .dataframe tbody tr th {\n",
       "        vertical-align: top;\n",
       "    }\n",
       "\n",
       "    .dataframe thead th {\n",
       "        text-align: right;\n",
       "    }\n",
       "</style>\n",
       "<table border=\"1\" class=\"dataframe\">\n",
       "  <thead>\n",
       "    <tr style=\"text-align: right;\">\n",
       "      <th></th>\n",
       "      <th>Open</th>\n",
       "      <th>High</th>\n",
       "      <th>Low</th>\n",
       "      <th>Close</th>\n",
       "      <th>Adj Close</th>\n",
       "      <th>Volume</th>\n",
       "    </tr>\n",
       "  </thead>\n",
       "  <tbody>\n",
       "    <tr>\n",
       "      <th>0</th>\n",
       "      <td>0.007073</td>\n",
       "      <td>0.006151</td>\n",
       "      <td>0.007636</td>\n",
       "      <td>0.007327</td>\n",
       "      <td>0.006289</td>\n",
       "      <td>0.244222</td>\n",
       "    </tr>\n",
       "    <tr>\n",
       "      <th>1</th>\n",
       "      <td>0.007466</td>\n",
       "      <td>0.006514</td>\n",
       "      <td>0.007937</td>\n",
       "      <td>0.007450</td>\n",
       "      <td>0.006395</td>\n",
       "      <td>0.303155</td>\n",
       "    </tr>\n",
       "    <tr>\n",
       "      <th>2</th>\n",
       "      <td>0.007392</td>\n",
       "      <td>0.006394</td>\n",
       "      <td>0.007074</td>\n",
       "      <td>0.006313</td>\n",
       "      <td>0.005418</td>\n",
       "      <td>0.276055</td>\n",
       "    </tr>\n",
       "    <tr>\n",
       "      <th>3</th>\n",
       "      <td>0.006509</td>\n",
       "      <td>0.005320</td>\n",
       "      <td>0.006487</td>\n",
       "      <td>0.006182</td>\n",
       "      <td>0.005306</td>\n",
       "      <td>0.235179</td>\n",
       "    </tr>\n",
       "    <tr>\n",
       "      <th>4</th>\n",
       "      <td>0.006022</td>\n",
       "      <td>0.005320</td>\n",
       "      <td>0.006491</td>\n",
       "      <td>0.006649</td>\n",
       "      <td>0.005707</td>\n",
       "      <td>0.219097</td>\n",
       "    </tr>\n",
       "    <tr>\n",
       "      <th>...</th>\n",
       "      <td>...</td>\n",
       "      <td>...</td>\n",
       "      <td>...</td>\n",
       "      <td>...</td>\n",
       "      <td>...</td>\n",
       "      <td>...</td>\n",
       "    </tr>\n",
       "    <tr>\n",
       "      <th>2664</th>\n",
       "      <td>0.961701</td>\n",
       "      <td>0.966275</td>\n",
       "      <td>0.981594</td>\n",
       "      <td>0.960413</td>\n",
       "      <td>0.960751</td>\n",
       "      <td>0.069529</td>\n",
       "    </tr>\n",
       "    <tr>\n",
       "      <th>2665</th>\n",
       "      <td>0.964005</td>\n",
       "      <td>0.962574</td>\n",
       "      <td>0.986521</td>\n",
       "      <td>0.964127</td>\n",
       "      <td>0.964433</td>\n",
       "      <td>0.041701</td>\n",
       "    </tr>\n",
       "    <tr>\n",
       "      <th>2666</th>\n",
       "      <td>0.973668</td>\n",
       "      <td>1.000000</td>\n",
       "      <td>0.995217</td>\n",
       "      <td>1.000000</td>\n",
       "      <td>1.000000</td>\n",
       "      <td>0.085522</td>\n",
       "    </tr>\n",
       "    <tr>\n",
       "      <th>2667</th>\n",
       "      <td>1.000000</td>\n",
       "      <td>0.993134</td>\n",
       "      <td>1.000000</td>\n",
       "      <td>0.973936</td>\n",
       "      <td>0.976014</td>\n",
       "      <td>0.083008</td>\n",
       "    </tr>\n",
       "    <tr>\n",
       "      <th>2668</th>\n",
       "      <td>0.994310</td>\n",
       "      <td>0.994065</td>\n",
       "      <td>0.997174</td>\n",
       "      <td>0.989023</td>\n",
       "      <td>0.990999</td>\n",
       "      <td>0.090957</td>\n",
       "    </tr>\n",
       "  </tbody>\n",
       "</table>\n",
       "<p>2669 rows × 6 columns</p>\n",
       "</div>"
      ],
      "text/plain": [
       "          Open      High       Low     Close  Adj Close    Volume\n",
       "0     0.007073  0.006151  0.007636  0.007327   0.006289  0.244222\n",
       "1     0.007466  0.006514  0.007937  0.007450   0.006395  0.303155\n",
       "2     0.007392  0.006394  0.007074  0.006313   0.005418  0.276055\n",
       "3     0.006509  0.005320  0.006487  0.006182   0.005306  0.235179\n",
       "4     0.006022  0.005320  0.006491  0.006649   0.005707  0.219097\n",
       "...        ...       ...       ...       ...        ...       ...\n",
       "2664  0.961701  0.966275  0.981594  0.960413   0.960751  0.069529\n",
       "2665  0.964005  0.962574  0.986521  0.964127   0.964433  0.041701\n",
       "2666  0.973668  1.000000  0.995217  1.000000   1.000000  0.085522\n",
       "2667  1.000000  0.993134  1.000000  0.973936   0.976014  0.083008\n",
       "2668  0.994310  0.994065  0.997174  0.989023   0.990999  0.090957\n",
       "\n",
       "[2669 rows x 6 columns]"
      ]
     },
     "execution_count": 29,
     "metadata": {},
     "output_type": "execute_result"
    }
   ],
   "source": [
    "scaled_df = pd.DataFrame(sacled, columns=scale_cols)\n",
    "scaled_df"
   ]
  },
  {
   "cell_type": "code",
   "execution_count": 30,
   "id": "a4250e6d-1c9f-4658-af92-ce2bc0373a82",
   "metadata": {},
   "outputs": [],
   "source": [
    "#분할\n",
    "from sklearn.model_selection import train_test_split"
   ]
  },
  {
   "cell_type": "code",
   "execution_count": 31,
   "id": "55cfeb67-6537-4599-b102-432bdb180312",
   "metadata": {},
   "outputs": [
    {
     "name": "stderr",
     "output_type": "stream",
     "text": [
      "C:\\Users\\admin\\AppData\\Local\\Temp/ipykernel_6656/1691255756.py:1: FutureWarning: In a future version of pandas all arguments of DataFrame.drop except for the argument 'labels' will be keyword-only\n",
      "  x_train, x_test, y_train, y_test = train_test_split(scaled_df.drop('Close', 1), scaled_df['Close'], test_size=0.2, random_state=0, shuffle=False)\n"
     ]
    }
   ],
   "source": [
    "x_train, x_test, y_train, y_test = train_test_split(scaled_df.drop('Close', 1), scaled_df['Close'], test_size=0.2, random_state=0, shuffle=False)"
   ]
  },
  {
   "cell_type": "code",
   "execution_count": 32,
   "id": "ae1fccec-8e92-4292-8c16-503e20fc4b35",
   "metadata": {},
   "outputs": [
    {
     "data": {
      "text/plain": [
       "((2135, 5), (2135,))"
      ]
     },
     "execution_count": 32,
     "metadata": {},
     "output_type": "execute_result"
    }
   ],
   "source": [
    "x_train.shape, y_train.shape"
   ]
  },
  {
   "cell_type": "code",
   "execution_count": 33,
   "id": "a6202a26-d28c-4692-9b86-d3545dec8565",
   "metadata": {},
   "outputs": [
    {
     "data": {
      "text/plain": [
       "((534, 5), (534,))"
      ]
     },
     "execution_count": 33,
     "metadata": {},
     "output_type": "execute_result"
    }
   ],
   "source": [
    "x_test.shape, y_test.shape"
   ]
  },
  {
   "cell_type": "code",
   "execution_count": 34,
   "id": "30587d2a-7671-43e4-bf02-537ee0a53b48",
   "metadata": {},
   "outputs": [
    {
     "name": "stdout",
     "output_type": "stream",
     "text": [
      "<class 'pandas.core.frame.DataFrame'>\n"
     ]
    }
   ],
   "source": [
    "print(type(x_train))"
   ]
  },
  {
   "cell_type": "code",
   "execution_count": 35,
   "id": "f7c3d63b-45e5-4639-9dcb-9eeb95e05e35",
   "metadata": {},
   "outputs": [],
   "source": [
    "#windowing\n",
    "def windowed_dataset(series, window_size, batch_size, shuffle):\n",
    "    series = tf.expand_dims(series, axis=-1)\n",
    "    ds = tf.data.Dataset.from_tensor_slices(series)\n",
    "    ds = ds.window(window_size + 1, shift=1, drop_remainder=True)\n",
    "    ds = ds.flat_map(lambda w: w.batch(window_size + 1))\n",
    "    if shuffle:\n",
    "        ds = ds.shuffle(1000)\n",
    "    ds = ds.map(lambda w: (w[:-1], w[-1]))\n",
    "    return ds.batch(batch_size).prefetch(1)"
   ]
  },
  {
   "cell_type": "code",
   "execution_count": 36,
   "id": "77251548-a54c-4b9d-81a9-9b581b5900af",
   "metadata": {},
   "outputs": [],
   "source": [
    "WINDOW_SIZE=14\n",
    "BATCH_SIZE=32\n",
    "# trian_data는 학습용 데이터셋, test_data는 검증용 데이터셋 입니다.\n",
    "train_data = windowed_dataset(y_train, WINDOW_SIZE, BATCH_SIZE, True)\n",
    "test_data = windowed_dataset(y_test, WINDOW_SIZE, BATCH_SIZE, False)"
   ]
  },
  {
   "cell_type": "code",
   "execution_count": 37,
   "id": "eb20cd90-f61e-47f3-8b5e-f658d60883cb",
   "metadata": {},
   "outputs": [
    {
     "name": "stdout",
     "output_type": "stream",
     "text": [
      "데이터셋(X) 구성(batch_size, window_size, feature갯수): (32, 14, 1)\n",
      "데이터셋(Y) 구성(batch_size, window_size, feature갯수): (32, 1)\n"
     ]
    }
   ],
   "source": [
    "for data in train_data.take(1):\n",
    "    print(f'데이터셋(X) 구성(batch_size, window_size, feature갯수): {data[0].shape}')\n",
    "    print(f'데이터셋(Y) 구성(batch_size, window_size, feature갯수): {data[1].shape}')"
   ]
  },
  {
   "cell_type": "code",
   "execution_count": 38,
   "id": "3300eab4-6073-4f93-a172-cc182e38a888",
   "metadata": {},
   "outputs": [],
   "source": [
    "model = keras.Sequential([\n",
    "    # 1차원 feature map 생성\n",
    "    layers.Conv1D(filters=32, kernel_size=5,\n",
    "           padding=\"causal\",\n",
    "           activation=\"relu\",\n",
    "           input_shape=[WINDOW_SIZE, 1]),\n",
    "    # LSTM\n",
    "    layers.LSTM(16, activation='tanh'),\n",
    "    layers.Dense(16, activation=\"relu\"),\n",
    "    layers.Dense(1),\n",
    "])"
   ]
  },
  {
   "cell_type": "code",
   "execution_count": 39,
   "id": "f70edeee-f212-4740-ba99-a0d887c7e88c",
   "metadata": {},
   "outputs": [
    {
     "name": "stdout",
     "output_type": "stream",
     "text": [
      "1.19.5\n",
      "2.3.0\n"
     ]
    }
   ],
   "source": [
    "print(np.__version__)\n",
    "print(tf.__version__)"
   ]
  },
  {
   "cell_type": "code",
   "execution_count": 40,
   "id": "0c29ea55-629b-48a4-bce1-cfa0a029c9fa",
   "metadata": {},
   "outputs": [],
   "source": [
    "import os\n",
    "from tensorflow.keras.callbacks import EarlyStopping, ModelCheckpoint\n",
    "# earlystopping은 10번 epoch통안 val_loss 개선이 없다면 학습을 멈춥니다.\n",
    "earlystopping = EarlyStopping(monitor='val_loss', patience=10)\n",
    "# val_loss 기준 체크포인터도 생성합니다.\n",
    "filename = os.path.join('tmp', 'ckeckpointer.ckpt')\n",
    "checkpoint = ModelCheckpoint(filename, \n",
    "                             save_weights_only=True, \n",
    "                             save_best_only=True, \n",
    "                             monitor='val_loss', \n",
    "                             verbose=1)"
   ]
  },
  {
   "cell_type": "code",
   "execution_count": 42,
   "id": "9af74a6b-bc81-49b0-b865-b9d8afb5a66a",
   "metadata": {},
   "outputs": [],
   "source": [
    "#test2\n",
    "from tensorflow.keras.losses import Huber\n",
    "from tensorflow.keras.optimizers import Adam\n",
    "from tensorflow.keras.callbacks import EarlyStopping, ModelCheckpoint\n",
    "loss = Huber()\n",
    "optimizer = Adam(0.0005)\n",
    "model.compile(loss=Huber(), optimizer=optimizer, metrics=['mse'])"
   ]
  },
  {
   "cell_type": "code",
   "execution_count": 43,
   "id": "395eb89f-6f67-45e2-b76f-cf1a6aec7146",
   "metadata": {},
   "outputs": [
    {
     "name": "stdout",
     "output_type": "stream",
     "text": [
      "Epoch 1/50\n",
      "     67/Unknown - 0s 3ms/step - loss: 0.0020 - mse: 0.0040\n",
      "Epoch 00001: val_loss improved from inf to 0.00216, saving model to tmp\\ckeckpointer.ckpt\n",
      "67/67 [==============================] - 1s 18ms/step - loss: 0.0020 - mse: 0.0040 - val_loss: 0.0022 - val_mse: 0.0043\n",
      "Epoch 2/50\n",
      "53/67 [======================>.......] - ETA: 0s - loss: 1.3840e-04 - mse: 2.7680e-04\n",
      "Epoch 00002: val_loss improved from 0.00216 to 0.00058, saving model to tmp\\ckeckpointer.ckpt\n",
      "67/67 [==============================] - 0s 6ms/step - loss: 1.1982e-04 - mse: 2.3964e-04 - val_loss: 5.7795e-04 - val_mse: 0.0012\n",
      "Epoch 3/50\n",
      "56/67 [========================>.....] - ETA: 0s - loss: 3.5489e-05 - mse: 7.0978e-05\n",
      "Epoch 00003: val_loss did not improve from 0.00058\n",
      "67/67 [==============================] - 0s 4ms/step - loss: 3.5761e-05 - mse: 7.1523e-05 - val_loss: 6.2601e-04 - val_mse: 0.0013\n",
      "Epoch 4/50\n",
      "57/67 [========================>.....] - ETA: 0s - loss: 3.3037e-05 - mse: 6.6074e-05\n",
      "Epoch 00004: val_loss did not improve from 0.00058\n",
      "67/67 [==============================] - 0s 4ms/step - loss: 3.4223e-05 - mse: 6.8447e-05 - val_loss: 6.5658e-04 - val_mse: 0.0013\n",
      "Epoch 5/50\n",
      "57/67 [========================>.....] - ETA: 0s - loss: 3.1915e-05 - mse: 6.3829e-05\n",
      "Epoch 00005: val_loss did not improve from 0.00058\n",
      "67/67 [==============================] - 0s 4ms/step - loss: 3.3209e-05 - mse: 6.6419e-05 - val_loss: 5.9992e-04 - val_mse: 0.0012\n",
      "Epoch 6/50\n",
      "57/67 [========================>.....] - ETA: 0s - loss: 3.3665e-05 - mse: 6.7330e-05\n",
      "Epoch 00006: val_loss did not improve from 0.00058\n",
      "67/67 [==============================] - 0s 4ms/step - loss: 3.3520e-05 - mse: 6.7040e-05 - val_loss: 6.2815e-04 - val_mse: 0.0013\n",
      "Epoch 7/50\n",
      "58/67 [========================>.....] - ETA: 0s - loss: 3.0513e-05 - mse: 6.1025e-05\n",
      "Epoch 00007: val_loss did not improve from 0.00058\n",
      "67/67 [==============================] - 0s 4ms/step - loss: 3.2398e-05 - mse: 6.4796e-05 - val_loss: 7.4289e-04 - val_mse: 0.0015\n",
      "Epoch 8/50\n",
      "57/67 [========================>.....] - ETA: 0s - loss: 3.4289e-05 - mse: 6.8577e-05\n",
      "Epoch 00008: val_loss did not improve from 0.00058\n",
      "67/67 [==============================] - 0s 4ms/step - loss: 3.4189e-05 - mse: 6.8379e-05 - val_loss: 6.0544e-04 - val_mse: 0.0012\n",
      "Epoch 9/50\n",
      "58/67 [========================>.....] - ETA: 0s - loss: 3.1709e-05 - mse: 6.3417e-05\n",
      "Epoch 00009: val_loss improved from 0.00058 to 0.00052, saving model to tmp\\ckeckpointer.ckpt\n",
      "67/67 [==============================] - 0s 5ms/step - loss: 3.2751e-05 - mse: 6.5502e-05 - val_loss: 5.2228e-04 - val_mse: 0.0010\n",
      "Epoch 10/50\n",
      "58/67 [========================>.....] - ETA: 0s - loss: 3.4405e-05 - mse: 6.8809e-05\n",
      "Epoch 00010: val_loss did not improve from 0.00052\n",
      "67/67 [==============================] - 0s 4ms/step - loss: 3.4217e-05 - mse: 6.8433e-05 - val_loss: 6.4313e-04 - val_mse: 0.0013\n",
      "Epoch 11/50\n",
      "57/67 [========================>.....] - ETA: 0s - loss: 3.0783e-05 - mse: 6.1567e-05\n",
      "Epoch 00011: val_loss did not improve from 0.00052\n",
      "67/67 [==============================] - 0s 4ms/step - loss: 3.2140e-05 - mse: 6.4280e-05 - val_loss: 6.3993e-04 - val_mse: 0.0013\n",
      "Epoch 12/50\n",
      "59/67 [=========================>....] - ETA: 0s - loss: 3.1967e-05 - mse: 6.3934e-05\n",
      "Epoch 00012: val_loss did not improve from 0.00052\n",
      "67/67 [==============================] - 0s 4ms/step - loss: 3.3043e-05 - mse: 6.6086e-05 - val_loss: 6.1120e-04 - val_mse: 0.0012\n",
      "Epoch 13/50\n",
      "58/67 [========================>.....] - ETA: 0s - loss: 3.0476e-05 - mse: 6.0952e-05\n",
      "Epoch 00013: val_loss did not improve from 0.00052\n",
      "67/67 [==============================] - 0s 4ms/step - loss: 3.1990e-05 - mse: 6.3980e-05 - val_loss: 7.4007e-04 - val_mse: 0.0015\n",
      "Epoch 14/50\n",
      "59/67 [=========================>....] - ETA: 0s - loss: 3.0569e-05 - mse: 6.1139e-05\n",
      "Epoch 00014: val_loss did not improve from 0.00052\n",
      "67/67 [==============================] - 0s 4ms/step - loss: 3.0599e-05 - mse: 6.1197e-05 - val_loss: 6.5473e-04 - val_mse: 0.0013\n",
      "Epoch 15/50\n",
      "58/67 [========================>.....] - ETA: 0s - loss: 2.8214e-05 - mse: 5.6429e-05\n",
      "Epoch 00015: val_loss did not improve from 0.00052\n",
      "67/67 [==============================] - 0s 4ms/step - loss: 3.0233e-05 - mse: 6.0466e-05 - val_loss: 6.1050e-04 - val_mse: 0.0012\n",
      "Epoch 16/50\n",
      "56/67 [========================>.....] - ETA: 0s - loss: 2.9092e-05 - mse: 5.8185e-05\n",
      "Epoch 00016: val_loss did not improve from 0.00052\n",
      "67/67 [==============================] - 0s 4ms/step - loss: 3.1989e-05 - mse: 6.3979e-05 - val_loss: 6.7750e-04 - val_mse: 0.0014\n",
      "Epoch 17/50\n",
      "58/67 [========================>.....] - ETA: 0s - loss: 2.7462e-05 - mse: 5.4923e-05\n",
      "Epoch 00017: val_loss did not improve from 0.00052\n",
      "67/67 [==============================] - 0s 4ms/step - loss: 2.9299e-05 - mse: 5.8597e-05 - val_loss: 5.5642e-04 - val_mse: 0.0011\n",
      "Epoch 18/50\n",
      "58/67 [========================>.....] - ETA: 0s - loss: 2.6639e-05 - mse: 5.3278e-05\n",
      "Epoch 00018: val_loss did not improve from 0.00052\n",
      "67/67 [==============================] - 0s 4ms/step - loss: 2.8970e-05 - mse: 5.7940e-05 - val_loss: 6.0689e-04 - val_mse: 0.0012\n",
      "Epoch 19/50\n",
      "60/67 [=========================>....] - ETA: 0s - loss: 2.7497e-05 - mse: 5.4993e-05\n",
      "Epoch 00019: val_loss did not improve from 0.00052\n",
      "67/67 [==============================] - 0s 4ms/step - loss: 2.8650e-05 - mse: 5.7300e-05 - val_loss: 5.4171e-04 - val_mse: 0.0011\n"
     ]
    }
   ],
   "source": [
    "history = model.fit(train_data, \n",
    "                    validation_data=(test_data), \n",
    "                    epochs=50, \n",
    "                    callbacks=[checkpoint, earlystopping])"
   ]
  },
  {
   "cell_type": "code",
   "execution_count": 44,
   "id": "e2cd8537-5d40-498c-9ad8-4f2a2d229715",
   "metadata": {},
   "outputs": [],
   "source": [
    "pred = model.predict(test_data)"
   ]
  },
  {
   "cell_type": "code",
   "execution_count": 45,
   "id": "f90c17cd-eddd-4640-9b37-71bb98d8e936",
   "metadata": {},
   "outputs": [
    {
     "data": {
      "text/plain": [
       "(520, 1)"
      ]
     },
     "execution_count": 45,
     "metadata": {},
     "output_type": "execute_result"
    }
   ],
   "source": [
    "pred.shape"
   ]
  },
  {
   "cell_type": "code",
   "execution_count": 46,
   "id": "45fcd153-af62-41a0-be1c-949ce21c263f",
   "metadata": {},
   "outputs": [
    {
     "data": {
      "image/png": "[encoded data removed]",
      "text/plain": [
       "<Figure size 864x648 with 1 Axes>"
      ]
     },
     "metadata": {
      "needs_background": "light"
     },
     "output_type": "display_data"
    }
   ],
   "source": [
    "plt.figure(figsize=(12, 9))\n",
    "plt.plot(np.asarray(y_test)[20:], label='actual')\n",
    "plt.plot(pred, label='prediction')\n",
    "plt.legend()\n",
    "plt.show()"
   ]
  },
  {
   "cell_type": "code",
   "execution_count": 77,
   "id": "b90f0443-8415-4bfc-ab29-afcd933e89d5",
   "metadata": {},
   "outputs": [],
   "source": []
  },
  {
   "cell_type": "code",
   "execution_count": 83,
   "id": "be6ac0df-0b66-40c4-80ab-c4937fddb0e8",
   "metadata": {},
   "outputs": [],
   "source": []
  },
  {
   "cell_type": "code",
   "execution_count": 18,
   "id": "9246d5d0-3ab5-4185-8b05-96fb0e9e29ab",
   "metadata": {},
   "outputs": [],
   "source": []
  },
  {
   "cell_type": "code",
   "execution_count": 21,
   "id": "7c06ea3b-f634-41c8-8ea0-f07ffb3ba566",
   "metadata": {},
   "outputs": [
    {
     "ename": "NameError",
     "evalue": "name 'train_ds' is not defined",
     "output_type": "error",
     "traceback": [
      "\u001b[1;31m---------------------------------------------------------------------------\u001b[0m",
      "\u001b[1;31mNameError\u001b[0m                                 Traceback (most recent call last)",
      "\u001b[1;32m~\\AppData\\Local\\Temp/ipykernel_6656/3751906169.py\u001b[0m in \u001b[0;36m<module>\u001b[1;34m\u001b[0m\n\u001b[1;32m----> 1\u001b[1;33m \u001b[0mhistory\u001b[0m \u001b[1;33m=\u001b[0m \u001b[0mmodel\u001b[0m\u001b[1;33m.\u001b[0m\u001b[0mfit\u001b[0m\u001b[1;33m(\u001b[0m\u001b[0mtrain_ds\u001b[0m\u001b[1;33m,\u001b[0m \u001b[0mepochs\u001b[0m\u001b[1;33m=\u001b[0m\u001b[1;36m50\u001b[0m\u001b[1;33m,\u001b[0m \u001b[0mvalidation_data\u001b[0m\u001b[1;33m=\u001b[0m\u001b[1;33m(\u001b[0m\u001b[0mtest_ds\u001b[0m\u001b[1;33m)\u001b[0m\u001b[1;33m)\u001b[0m\u001b[1;33m\u001b[0m\u001b[1;33m\u001b[0m\u001b[0m\n\u001b[0m",
      "\u001b[1;31mNameError\u001b[0m: name 'train_ds' is not defined"
     ]
    }
   ],
   "source": [
    "\n"
   ]
  },
  {
   "cell_type": "code",
   "execution_count": null,
   "id": "f4cd1e26-c0cf-4ef7-82c6-8052700d149a",
   "metadata": {},
   "outputs": [],
   "source": []
  }
 ],
 "metadata": {
  "kernelspec": {
   "display_name": "Python 3 (ipykernel)",
   "language": "python",
   "name": "python3"
  },
  "language_info": {
   "codemirror_mode": {
    "name": "ipython",
    "version": 3
   },
   "file_extension": ".py",
   "mimetype": "text/x-python",
   "name": "python",
   "nbconvert_exporter": "python",
   "pygments_lexer": "ipython3",
   "version": "3.8.12"
  }
 },
 "nbformat": 4,
 "nbformat_minor": 5
}
