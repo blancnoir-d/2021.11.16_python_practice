{
 "cells": [
  {
   "cell_type": "markdown",
   "id": "00a08f5b",
   "metadata": {},
   "source": [
    "# GAN MNIST "
   ]
  },
  {
   "cell_type": "markdown",
   "id": "d4bf328c",
   "metadata": {},
   "source": [
    "## 데이터 불러오기 "
   ]
  },
  {
   "cell_type": "code",
   "execution_count": 38,
   "id": "1b44781b",
   "metadata": {
    "ExecuteTime": {
     "end_time": "2021-12-23T01:24:00.257714Z",
     "start_time": "2021-12-23T01:24:00.253704Z"
    }
   },
   "outputs": [],
   "source": [
    "import tensorflow as tf\n",
    "from tensorflow import keras\n",
    "import numpy as np\n",
    "import matplotlib.pyplot as plt\n",
    "from tensorflow.keras import datasets"
   ]
  },
  {
   "cell_type": "code",
   "execution_count": 44,
   "id": "8a69724f",
   "metadata": {
    "ExecuteTime": {
     "end_time": "2021-12-23T01:26:35.780203Z",
     "start_time": "2021-12-23T01:26:35.594169Z"
    }
   },
   "outputs": [],
   "source": [
    "mnist = datasets.mnist\n",
    "(x_train_ori, _), (_, _) = mnist.load_data()"
   ]
  },
  {
   "cell_type": "code",
   "execution_count": 45,
   "id": "c773b54b",
   "metadata": {
    "ExecuteTime": {
     "end_time": "2021-12-23T01:26:36.006690Z",
     "start_time": "2021-12-23T01:26:36.001690Z"
    }
   },
   "outputs": [
    {
     "data": {
      "text/plain": [
       "(60000, 28, 28)"
      ]
     },
     "execution_count": 45,
     "metadata": {},
     "output_type": "execute_result"
    }
   ],
   "source": [
    "x_train_ori.shape"
   ]
  },
  {
   "cell_type": "code",
   "execution_count": 48,
   "id": "c8e64c78",
   "metadata": {
    "ExecuteTime": {
     "end_time": "2021-12-23T01:27:07.001382Z",
     "start_time": "2021-12-23T01:27:06.870194Z"
    }
   },
   "outputs": [],
   "source": [
    "#이 처리를 처리면 채널만 추가됨 (28, 28, 1)\n",
    "x_train = x_train_ori.reshape(x_train.shape[0], 28, 28, 1).astype('float32')\n",
    "x_train = x_train/127.5 - 1"
   ]
  },
  {
   "cell_type": "code",
   "execution_count": 49,
   "id": "5b91040c",
   "metadata": {
    "ExecuteTime": {
     "end_time": "2021-12-23T01:27:08.274821Z",
     "start_time": "2021-12-23T01:27:08.270814Z"
    }
   },
   "outputs": [
    {
     "data": {
      "text/plain": [
       "(28, 28, 1)"
      ]
     },
     "execution_count": 49,
     "metadata": {},
     "output_type": "execute_result"
    }
   ],
   "source": [
    "x_train[0].shape"
   ]
  },
  {
   "cell_type": "code",
   "execution_count": 50,
   "id": "2aefcd07",
   "metadata": {
    "ExecuteTime": {
     "end_time": "2021-12-23T01:27:10.632022Z",
     "start_time": "2021-12-23T01:27:10.622020Z"
    }
   },
   "outputs": [],
   "source": [
    "train_dataset = tf.data.Dataset.from_tensor_slices(x_train).shuffle(60000).batch(256)"
   ]
  },
  {
   "cell_type": "markdown",
   "id": "f4d0df24",
   "metadata": {},
   "source": [
    "# CNN MNIST - 레이어 확인해보기 "
   ]
  },
  {
   "cell_type": "markdown",
   "id": "93a5fd9c",
   "metadata": {},
   "source": [
    "## Convolution "
   ]
  },
  {
   "cell_type": "code",
   "execution_count": 181,
   "id": "23d8f36b",
   "metadata": {
    "ExecuteTime": {
     "end_time": "2021-12-23T05:37:45.723537Z",
     "start_time": "2021-12-23T05:37:45.517213Z"
    }
   },
   "outputs": [],
   "source": [
    "mnist = datasets.mnist\n",
    "(x_train_ori, y_train), (x_test_ori, y_test) = mnist.load_data()"
   ]
  },
  {
   "cell_type": "code",
   "execution_count": 182,
   "id": "8c7fdd87",
   "metadata": {
    "ExecuteTime": {
     "end_time": "2021-12-23T05:37:45.890251Z",
     "start_time": "2021-12-23T05:37:45.885249Z"
    }
   },
   "outputs": [
    {
     "name": "stdout",
     "output_type": "stream",
     "text": [
      "(28, 28)\n"
     ]
    }
   ],
   "source": [
    "#이미지 확인\n",
    "image = x_train_ori[0]\n",
    "print(image.shape)"
   ]
  },
  {
   "cell_type": "code",
   "execution_count": 183,
   "id": "ac0798c4",
   "metadata": {
    "ExecuteTime": {
     "end_time": "2021-12-23T05:37:46.055538Z",
     "start_time": "2021-12-23T05:37:46.045537Z"
    }
   },
   "outputs": [
    {
     "data": {
      "text/plain": [
       "(1, 28, 28, 1)"
      ]
     },
     "execution_count": 183,
     "metadata": {},
     "output_type": "execute_result"
    }
   ],
   "source": [
    "image = image[tf.newaxis, ..., tf.newaxis]\n",
    "image.shape"
   ]
  },
  {
   "cell_type": "code",
   "execution_count": 184,
   "id": "66aa107f",
   "metadata": {
    "ExecuteTime": {
     "end_time": "2021-12-23T05:37:46.220564Z",
     "start_time": "2021-12-23T05:37:46.204561Z"
    }
   },
   "outputs": [],
   "source": [
    "#형변환 꼭!\n",
    "image = tf.cast(image,dtype=tf.float32)"
   ]
  },
  {
   "cell_type": "code",
   "execution_count": 185,
   "id": "88926301",
   "metadata": {
    "ExecuteTime": {
     "end_time": "2021-12-23T05:37:46.340538Z",
     "start_time": "2021-12-23T05:37:46.325535Z"
    }
   },
   "outputs": [],
   "source": [
    "layer = keras.layers.Conv2D(3, (3,3), 1, padding='SAME')"
   ]
  },
  {
   "cell_type": "code",
   "execution_count": 186,
   "id": "ab3f58a2",
   "metadata": {
    "ExecuteTime": {
     "end_time": "2021-12-23T05:37:46.475595Z",
     "start_time": "2021-12-23T05:37:46.461592Z"
    }
   },
   "outputs": [
    {
     "data": {
      "text/plain": [
       "<tf.Tensor: shape=(1, 28, 28, 3), dtype=float32, numpy=\n",
       "array([[[[0., 0., 0.],\n",
       "         [0., 0., 0.],\n",
       "         [0., 0., 0.],\n",
       "         ...,\n",
       "         [0., 0., 0.],\n",
       "         [0., 0., 0.],\n",
       "         [0., 0., 0.]],\n",
       "\n",
       "        [[0., 0., 0.],\n",
       "         [0., 0., 0.],\n",
       "         [0., 0., 0.],\n",
       "         ...,\n",
       "         [0., 0., 0.],\n",
       "         [0., 0., 0.],\n",
       "         [0., 0., 0.]],\n",
       "\n",
       "        [[0., 0., 0.],\n",
       "         [0., 0., 0.],\n",
       "         [0., 0., 0.],\n",
       "         ...,\n",
       "         [0., 0., 0.],\n",
       "         [0., 0., 0.],\n",
       "         [0., 0., 0.]],\n",
       "\n",
       "        ...,\n",
       "\n",
       "        [[0., 0., 0.],\n",
       "         [0., 0., 0.],\n",
       "         [0., 0., 0.],\n",
       "         ...,\n",
       "         [0., 0., 0.],\n",
       "         [0., 0., 0.],\n",
       "         [0., 0., 0.]],\n",
       "\n",
       "        [[0., 0., 0.],\n",
       "         [0., 0., 0.],\n",
       "         [0., 0., 0.],\n",
       "         ...,\n",
       "         [0., 0., 0.],\n",
       "         [0., 0., 0.],\n",
       "         [0., 0., 0.]],\n",
       "\n",
       "        [[0., 0., 0.],\n",
       "         [0., 0., 0.],\n",
       "         [0., 0., 0.],\n",
       "         ...,\n",
       "         [0., 0., 0.],\n",
       "         [0., 0., 0.],\n",
       "         [0., 0., 0.]]]], dtype=float32)>"
      ]
     },
     "execution_count": 186,
     "metadata": {},
     "output_type": "execute_result"
    }
   ],
   "source": [
    "#필터 수 만큼 채널 수가 바뀌게 됨 그래서 1에서 3으로 바뀜 \n",
    "output = layer(image)\n",
    "output"
   ]
  },
  {
   "cell_type": "code",
   "execution_count": 187,
   "id": "dd7228ed",
   "metadata": {
    "ExecuteTime": {
     "end_time": "2021-12-23T05:37:46.670534Z",
     "start_time": "2021-12-23T05:37:46.573533Z"
    }
   },
   "outputs": [
    {
     "data": {
      "text/plain": [
       "<matplotlib.image.AxesImage at 0x21563d772e0>"
      ]
     },
     "execution_count": 187,
     "metadata": {},
     "output_type": "execute_result"
    },
    {
     "data": {
      "image/png": "[encoded data removed]",
      "text/plain": [
       "<Figure size 432x288 with 1 Axes>"
      ]
     },
     "metadata": {
      "needs_background": "light"
     },
     "output_type": "display_data"
    }
   ],
   "source": [
    "plt.imshow(output[0,:,:,0] ,'gray')"
   ]
  },
  {
   "cell_type": "code",
   "execution_count": 188,
   "id": "306c465a",
   "metadata": {
    "ExecuteTime": {
     "end_time": "2021-12-23T05:37:46.730628Z",
     "start_time": "2021-12-23T05:37:46.717625Z"
    }
   },
   "outputs": [
    {
     "data": {
      "text/plain": [
       "(0.0, 255.0)"
      ]
     },
     "execution_count": 188,
     "metadata": {},
     "output_type": "execute_result"
    }
   ],
   "source": [
    "#이미지의 최소값이0에서 최대값 255까지 \n",
    "np.min(image), np.max(image)"
   ]
  },
  {
   "cell_type": "code",
   "execution_count": 189,
   "id": "abad3dc9",
   "metadata": {
    "ExecuteTime": {
     "end_time": "2021-12-23T05:37:46.880548Z",
     "start_time": "2021-12-23T05:37:46.877547Z"
    }
   },
   "outputs": [
    {
     "data": {
      "text/plain": [
       "(-127.23568, 205.84602)"
      ]
     },
     "execution_count": 189,
     "metadata": {},
     "output_type": "execute_result"
    }
   ],
   "source": [
    "#convolution을 거치면서 이렇게 변함 \n",
    "np.min(output), np.max(output)"
   ]
  },
  {
   "cell_type": "code",
   "execution_count": 190,
   "id": "838b4ad9",
   "metadata": {
    "ExecuteTime": {
     "end_time": "2021-12-23T05:37:47.047668Z",
     "start_time": "2021-12-23T05:37:47.029664Z"
    }
   },
   "outputs": [
    {
     "data": {
      "text/plain": [
       "[array([[[[ 0.04387671, -0.3437371 , -0.15895204]],\n",
       " \n",
       "         [[ 0.30555505,  0.35091168,  0.11639732]],\n",
       " \n",
       "         [[ 0.0240894 , -0.06301537,  0.22188926]]],\n",
       " \n",
       " \n",
       "        [[[ 0.38379753,  0.20470935, -0.10717484]],\n",
       " \n",
       "         [[-0.20587246,  0.0995205 ,  0.27901858]],\n",
       " \n",
       "         [[ 0.18911535, -0.09614807,  0.33081716]]],\n",
       " \n",
       " \n",
       "        [[[-0.36689237, -0.06637555, -0.12513149]],\n",
       " \n",
       "         [[-0.05724785,  0.28587562,  0.38046157]],\n",
       " \n",
       "         [[-0.10488117, -0.1216417 , -0.36115268]]]], dtype=float32),\n",
       " array([0., 0., 0.], dtype=float32)]"
      ]
     },
     "execution_count": 190,
     "metadata": {},
     "output_type": "execute_result"
    }
   ],
   "source": [
    "weight = layer.get_weights()\n",
    "weight"
   ]
  },
  {
   "cell_type": "code",
   "execution_count": 191,
   "id": "c74979fa",
   "metadata": {
    "ExecuteTime": {
     "end_time": "2021-12-23T05:37:47.198687Z",
     "start_time": "2021-12-23T05:37:47.181684Z"
    }
   },
   "outputs": [
    {
     "data": {
      "text/plain": [
       "((3, 3, 1, 3), (3,))"
      ]
     },
     "execution_count": 191,
     "metadata": {},
     "output_type": "execute_result"
    }
   ],
   "source": [
    "weight[0].shape ,weight[1].shape"
   ]
  },
  {
   "cell_type": "markdown",
   "id": "fd2fe8a5",
   "metadata": {},
   "source": [
    "## 히스토그램으로 값 확인 "
   ]
  },
  {
   "cell_type": "code",
   "execution_count": 192,
   "id": "2cae0d5b",
   "metadata": {
    "ExecuteTime": {
     "end_time": "2021-12-23T05:37:47.843782Z",
     "start_time": "2021-12-23T05:37:47.501707Z"
    }
   },
   "outputs": [
    {
     "data": {
      "image/png": "[encoded data removed]",
      "text/plain": [
       "<Figure size 1080x360 with 5 Axes>"
      ]
     },
     "metadata": {
      "needs_background": "light"
     },
     "output_type": "display_data"
    }
   ],
   "source": [
    "plt.figure(figsize=(15,5))\n",
    "plt.subplot(141)\n",
    "plt.imshow(image[0,:,:,0], 'gray') #원본 이미지\n",
    "plt.subplot(142) \n",
    "plt.hist(output.numpy().ravel(), range=[-2,2]) #아웃풋 히스토그램\n",
    "plt.ylim(0,100)\n",
    "plt.subplot(143)\n",
    "plt.title(weight[0].shape)\n",
    "plt.imshow(weight[0][:,:,0,0], 'gray') #가중치 필터\n",
    "plt.subplot(144)\n",
    "plt.title(output.shape)\n",
    "plt.imshow(output[0,:,:,0], 'gray') #output 이미지\n",
    "plt.colorbar()\n",
    "plt.show()"
   ]
  },
  {
   "cell_type": "markdown",
   "id": "68d1e922",
   "metadata": {},
   "source": [
    "## Activation Function "
   ]
  },
  {
   "cell_type": "code",
   "execution_count": 193,
   "id": "ade3d451",
   "metadata": {
    "ExecuteTime": {
     "end_time": "2021-12-23T05:37:47.858787Z",
     "start_time": "2021-12-23T05:37:47.844783Z"
    }
   },
   "outputs": [],
   "source": [
    "act_layer = keras.layers.ReLU()\n",
    "act_output = act_layer(output)"
   ]
  },
  {
   "cell_type": "code",
   "execution_count": 194,
   "id": "4cc9efe3",
   "metadata": {
    "ExecuteTime": {
     "end_time": "2021-12-23T05:37:47.963598Z",
     "start_time": "2021-12-23T05:37:47.949597Z"
    }
   },
   "outputs": [
    {
     "data": {
      "text/plain": [
       "<tf.Tensor: shape=(1, 28, 28, 3), dtype=float32, numpy=\n",
       "array([[[[0., 0., 0.],\n",
       "         [0., 0., 0.],\n",
       "         [0., 0., 0.],\n",
       "         ...,\n",
       "         [0., 0., 0.],\n",
       "         [0., 0., 0.],\n",
       "         [0., 0., 0.]],\n",
       "\n",
       "        [[0., 0., 0.],\n",
       "         [0., 0., 0.],\n",
       "         [0., 0., 0.],\n",
       "         ...,\n",
       "         [0., 0., 0.],\n",
       "         [0., 0., 0.],\n",
       "         [0., 0., 0.]],\n",
       "\n",
       "        [[0., 0., 0.],\n",
       "         [0., 0., 0.],\n",
       "         [0., 0., 0.],\n",
       "         ...,\n",
       "         [0., 0., 0.],\n",
       "         [0., 0., 0.],\n",
       "         [0., 0., 0.]],\n",
       "\n",
       "        ...,\n",
       "\n",
       "        [[0., 0., 0.],\n",
       "         [0., 0., 0.],\n",
       "         [0., 0., 0.],\n",
       "         ...,\n",
       "         [0., 0., 0.],\n",
       "         [0., 0., 0.],\n",
       "         [0., 0., 0.]],\n",
       "\n",
       "        [[0., 0., 0.],\n",
       "         [0., 0., 0.],\n",
       "         [0., 0., 0.],\n",
       "         ...,\n",
       "         [0., 0., 0.],\n",
       "         [0., 0., 0.],\n",
       "         [0., 0., 0.]],\n",
       "\n",
       "        [[0., 0., 0.],\n",
       "         [0., 0., 0.],\n",
       "         [0., 0., 0.],\n",
       "         ...,\n",
       "         [0., 0., 0.],\n",
       "         [0., 0., 0.],\n",
       "         [0., 0., 0.]]]], dtype=float32)>"
      ]
     },
     "execution_count": 194,
     "metadata": {},
     "output_type": "execute_result"
    }
   ],
   "source": [
    "act_output"
   ]
  },
  {
   "cell_type": "code",
   "execution_count": 195,
   "id": "cf2882cd",
   "metadata": {
    "ExecuteTime": {
     "end_time": "2021-12-23T05:37:48.114807Z",
     "start_time": "2021-12-23T05:37:48.101804Z"
    }
   },
   "outputs": [
    {
     "data": {
      "text/plain": [
       "(0.0, 205.84602)"
      ]
     },
     "execution_count": 195,
     "metadata": {},
     "output_type": "execute_result"
    }
   ],
   "source": [
    "np.min(act_output), np.max(act_output)"
   ]
  },
  {
   "cell_type": "code",
   "execution_count": null,
   "id": "c6d088a8",
   "metadata": {},
   "outputs": [],
   "source": []
  },
  {
   "cell_type": "code",
   "execution_count": 196,
   "id": "155728c6",
   "metadata": {
    "ExecuteTime": {
     "end_time": "2021-12-23T05:37:48.580888Z",
     "start_time": "2021-12-23T05:37:48.397843Z"
    }
   },
   "outputs": [
    {
     "data": {
      "image/png": "[encoded data removed]",
      "text/plain": [
       "<Figure size 1080x360 with 2 Axes>"
      ]
     },
     "metadata": {
      "needs_background": "light"
     },
     "output_type": "display_data"
    }
   ],
   "source": [
    "plt.figure(figsize=(15,5))\n",
    "plt.subplot(121)\n",
    "plt.hist(act_output.numpy().ravel(), range=[-2,2])\n",
    "plt.ylim(0,100)\n",
    "\n",
    "plt.subplot(122)\n",
    "plt.title(act_output.shape)\n",
    "plt.imshow(act_output[0,:,:,0], 'gray')\n",
    "plt.show()"
   ]
  },
  {
   "cell_type": "markdown",
   "id": "dff8182d",
   "metadata": {},
   "source": [
    "## Pooling"
   ]
  },
  {
   "cell_type": "code",
   "execution_count": 197,
   "id": "a70aa153",
   "metadata": {
    "ExecuteTime": {
     "end_time": "2021-12-23T05:37:48.700904Z",
     "start_time": "2021-12-23T05:37:48.693903Z"
    }
   },
   "outputs": [
    {
     "data": {
      "text/plain": [
       "<tensorflow.python.keras.layers.pooling.MaxPooling2D at 0x215640983a0>"
      ]
     },
     "execution_count": 197,
     "metadata": {},
     "output_type": "execute_result"
    }
   ],
   "source": [
    "keras.layers.MaxPool2D(pool_size = (2,2), strides=(2,2), padding='SAME')"
   ]
  },
  {
   "cell_type": "code",
   "execution_count": 198,
   "id": "a4d54d22",
   "metadata": {
    "ExecuteTime": {
     "end_time": "2021-12-23T05:37:48.835953Z",
     "start_time": "2021-12-23T05:37:48.829951Z"
    }
   },
   "outputs": [],
   "source": [
    "pool_layer = keras.layers.MaxPool2D(pool_size = (2,2), strides=(2,2), padding='SAME')"
   ]
  },
  {
   "cell_type": "code",
   "execution_count": 199,
   "id": "b6ebaef5",
   "metadata": {
    "ExecuteTime": {
     "end_time": "2021-12-23T05:37:49.107016Z",
     "start_time": "2021-12-23T05:37:49.094011Z"
    }
   },
   "outputs": [],
   "source": [
    "pool_output = pool_layer(act_output)"
   ]
  },
  {
   "cell_type": "code",
   "execution_count": 200,
   "id": "ef009b53",
   "metadata": {
    "ExecuteTime": {
     "end_time": "2021-12-23T05:37:49.258822Z",
     "start_time": "2021-12-23T05:37:49.253819Z"
    }
   },
   "outputs": [
    {
     "data": {
      "text/plain": [
       "TensorShape([1, 28, 28, 3])"
      ]
     },
     "execution_count": 200,
     "metadata": {},
     "output_type": "execute_result"
    }
   ],
   "source": [
    "act_output.shape"
   ]
  },
  {
   "cell_type": "code",
   "execution_count": 201,
   "id": "0977f89b",
   "metadata": {
    "ExecuteTime": {
     "end_time": "2021-12-23T05:37:49.439981Z",
     "start_time": "2021-12-23T05:37:49.421976Z"
    }
   },
   "outputs": [
    {
     "data": {
      "text/plain": [
       "TensorShape([1, 14, 14, 3])"
      ]
     },
     "execution_count": 201,
     "metadata": {},
     "output_type": "execute_result"
    }
   ],
   "source": [
    "pool_output.shape"
   ]
  },
  {
   "cell_type": "code",
   "execution_count": 202,
   "id": "3b6754a5",
   "metadata": {
    "ExecuteTime": {
     "end_time": "2021-12-23T05:37:49.756036Z",
     "start_time": "2021-12-23T05:37:49.565990Z"
    }
   },
   "outputs": [
    {
     "data": {
      "image/png": "[encoded data removed]",
      "text/plain": [
       "<Figure size 1080x360 with 2 Axes>"
      ]
     },
     "metadata": {
      "needs_background": "light"
     },
     "output_type": "display_data"
    }
   ],
   "source": [
    "plt.figure(figsize=(15,5))\n",
    "plt.subplot(121)\n",
    "plt.hist(pool_output.numpy().ravel(), range=[-2,2])\n",
    "plt.ylim(0,100)\n",
    "\n",
    "plt.subplot(122)\n",
    "plt.title(act_output.shape)\n",
    "plt.imshow(pool_output[0,:,:,0], 'gray')\n",
    "plt.show()"
   ]
  },
  {
   "cell_type": "markdown",
   "id": "fb0aef39",
   "metadata": {},
   "source": [
    "## Classification "
   ]
  },
  {
   "cell_type": "markdown",
   "id": "465f9781",
   "metadata": {},
   "source": [
    "### Flatten "
   ]
  },
  {
   "cell_type": "code",
   "execution_count": 203,
   "id": "67c3613b",
   "metadata": {
    "ExecuteTime": {
     "end_time": "2021-12-23T05:37:50.057008Z",
     "start_time": "2021-12-23T05:37:50.046005Z"
    }
   },
   "outputs": [],
   "source": [
    "layer = keras.layers.Flatten()\n",
    "flatten = layer(output)"
   ]
  },
  {
   "cell_type": "code",
   "execution_count": 204,
   "id": "33690cf7",
   "metadata": {
    "ExecuteTime": {
     "end_time": "2021-12-23T05:37:50.208235Z",
     "start_time": "2021-12-23T05:37:50.197232Z"
    }
   },
   "outputs": [
    {
     "data": {
      "text/plain": [
       "TensorShape([1, 28, 28, 3])"
      ]
     },
     "execution_count": 204,
     "metadata": {},
     "output_type": "execute_result"
    }
   ],
   "source": [
    "output.shape"
   ]
  },
  {
   "cell_type": "code",
   "execution_count": 205,
   "id": "b9d3b458",
   "metadata": {
    "ExecuteTime": {
     "end_time": "2021-12-23T05:37:50.360980Z",
     "start_time": "2021-12-23T05:37:50.357978Z"
    }
   },
   "outputs": [
    {
     "data": {
      "text/plain": [
       "TensorShape([1, 2352])"
      ]
     },
     "execution_count": 205,
     "metadata": {},
     "output_type": "execute_result"
    }
   ],
   "source": [
    "flatten.shape"
   ]
  },
  {
   "cell_type": "code",
   "execution_count": 206,
   "id": "31c1367d",
   "metadata": {
    "ExecuteTime": {
     "end_time": "2021-12-23T05:37:50.481136Z",
     "start_time": "2021-12-23T05:37:50.478136Z"
    }
   },
   "outputs": [
    {
     "data": {
      "text/plain": [
       "2352"
      ]
     },
     "execution_count": 206,
     "metadata": {},
     "output_type": "execute_result"
    }
   ],
   "source": [
    "28*28*3"
   ]
  },
  {
   "cell_type": "code",
   "execution_count": 207,
   "id": "8838bb6c",
   "metadata": {
    "ExecuteTime": {
     "end_time": "2021-12-23T05:37:50.766880Z",
     "start_time": "2021-12-23T05:37:50.598133Z"
    }
   },
   "outputs": [
    {
     "data": {
      "image/png": "[encoded data removed]",
      "text/plain": [
       "<Figure size 1080x360 with 2 Axes>"
      ]
     },
     "metadata": {
      "needs_background": "light"
     },
     "output_type": "display_data"
    }
   ],
   "source": [
    "plt.figure(figsize=(15,5))\n",
    "plt.subplot(121)\n",
    "plt.hist(flatten.numpy().ravel(), range=[-2,2])\n",
    "plt.ylim(0,100)\n",
    "\n",
    "plt.subplot(122)\n",
    "plt.title(act_output.shape)\n",
    "plt.imshow(flatten[:,:100], 'gray')\n",
    "plt.show()"
   ]
  },
  {
   "cell_type": "markdown",
   "id": "50409197",
   "metadata": {},
   "source": [
    "### Dense "
   ]
  },
  {
   "cell_type": "code",
   "execution_count": 208,
   "id": "790a52e2",
   "metadata": {
    "ExecuteTime": {
     "end_time": "2021-12-23T05:37:50.857144Z",
     "start_time": "2021-12-23T05:37:50.846142Z"
    }
   },
   "outputs": [],
   "source": [
    "layer = keras.layers.Dense(32, activation='relu')\n",
    "output = layer(flatten)"
   ]
  },
  {
   "cell_type": "code",
   "execution_count": 209,
   "id": "2964eef7",
   "metadata": {
    "ExecuteTime": {
     "end_time": "2021-12-23T05:37:50.962538Z",
     "start_time": "2021-12-23T05:37:50.958536Z"
    }
   },
   "outputs": [
    {
     "data": {
      "text/plain": [
       "TensorShape([1, 32])"
      ]
     },
     "execution_count": 209,
     "metadata": {},
     "output_type": "execute_result"
    }
   ],
   "source": [
    "output.shape"
   ]
  },
  {
   "cell_type": "markdown",
   "id": "2162f4d5",
   "metadata": {},
   "source": [
    "### Dropout "
   ]
  },
  {
   "cell_type": "code",
   "execution_count": 210,
   "id": "da71d05c",
   "metadata": {
    "ExecuteTime": {
     "end_time": "2021-12-23T05:37:51.293222Z",
     "start_time": "2021-12-23T05:37:51.286221Z"
    }
   },
   "outputs": [],
   "source": [
    "layer = keras.layers.Dropout(0.7)\n",
    "output=layer(output)"
   ]
  },
  {
   "cell_type": "code",
   "execution_count": 211,
   "id": "2567caea",
   "metadata": {
    "ExecuteTime": {
     "end_time": "2021-12-23T05:37:51.458940Z",
     "start_time": "2021-12-23T05:37:51.445937Z"
    }
   },
   "outputs": [
    {
     "data": {
      "text/plain": [
       "TensorShape([1, 32])"
      ]
     },
     "execution_count": 211,
     "metadata": {},
     "output_type": "execute_result"
    }
   ],
   "source": [
    "output.shape"
   ]
  },
  {
   "cell_type": "markdown",
   "id": "89af212b",
   "metadata": {},
   "source": [
    "## Model 생성\n"
   ]
  },
  {
   "cell_type": "code",
   "execution_count": 249,
   "id": "3781e2c0",
   "metadata": {
    "ExecuteTime": {
     "end_time": "2021-12-23T05:45:33.179609Z",
     "start_time": "2021-12-23T05:45:33.098596Z"
    }
   },
   "outputs": [],
   "source": [
    "\n",
    "model = keras.Sequential([\n",
    "    keras.layers.Input((28, 28, 1)),\n",
    "    keras.layers.Conv2D(32,(3,3),padding='SAME', activation='relu'),\n",
    "    keras.layers.Conv2D(32,(3,3),padding='SAME', activation='relu'),\n",
    "    keras.layers.MaxPool2D((2,2)),\n",
    "    keras.layers.Dropout(0.25),\n",
    "    keras.layers.Conv2D(64,(3,3),padding='SAME', activation='relu'),\n",
    "    keras.layers.Conv2D(64,(3,3),padding='SAME', activation='relu'),\n",
    "    keras.layers.MaxPool2D((2,2)),\n",
    "    keras.layers.Dropout(0.25),\n",
    "    keras.layers.Flatten(),\n",
    "    keras.layers.Dense(512, activation='relu'),\n",
    "    keras.layers.Dropout(0.5),\n",
    "    keras.layers.Dense(10, activation='softmax')\n",
    "])"
   ]
  },
  {
   "cell_type": "markdown",
   "id": "e7b67080",
   "metadata": {},
   "source": [
    "## Loss Function"
   ]
  },
  {
   "cell_type": "code",
   "execution_count": 213,
   "id": "b5d525e1",
   "metadata": {
    "ExecuteTime": {
     "end_time": "2021-12-23T05:37:52.104328Z",
     "start_time": "2021-12-23T05:37:52.102327Z"
    }
   },
   "outputs": [],
   "source": [
    "loss = 'binary_crossentropy'\n",
    "loss = 'categorical_crossentropy'"
   ]
  },
  {
   "cell_type": "code",
   "execution_count": 214,
   "id": "84fb6d1a",
   "metadata": {
    "ExecuteTime": {
     "end_time": "2021-12-23T05:37:52.269349Z",
     "start_time": "2021-12-23T05:37:52.254347Z"
    }
   },
   "outputs": [],
   "source": [
    "loss_fun = keras.losses.sparse_categorical_crossentropy"
   ]
  },
  {
   "cell_type": "markdown",
   "id": "1b6407cc",
   "metadata": {},
   "source": [
    "## Metrics\n",
    "모델을 평가하는 방법"
   ]
  },
  {
   "cell_type": "code",
   "execution_count": 215,
   "id": "3a867caa",
   "metadata": {
    "ExecuteTime": {
     "end_time": "2021-12-23T05:37:52.569369Z",
     "start_time": "2021-12-23T05:37:52.534360Z"
    }
   },
   "outputs": [
    {
     "data": {
      "text/plain": [
       "<tensorflow.python.keras.metrics.Recall at 0x2155d0924f0>"
      ]
     },
     "execution_count": 215,
     "metadata": {},
     "output_type": "execute_result"
    }
   ],
   "source": [
    "metrics=['accuracy']\n",
    "keras.metrics.Accuracy()\n",
    "metrics = [keras.metrics.Accuracy()]\n",
    "\n",
    "\n",
    "#평가 방법은 3가지가 있음 \n",
    "keras.metrics.Accuracy()\n",
    "keras.metrics.Precision()\n",
    "keras.metrics.Recall()"
   ]
  },
  {
   "cell_type": "code",
   "execution_count": 250,
   "id": "e618f0ef",
   "metadata": {
    "ExecuteTime": {
     "end_time": "2021-12-23T05:45:39.095542Z",
     "start_time": "2021-12-23T05:45:39.075528Z"
    }
   },
   "outputs": [],
   "source": [
    "#컴파일\n",
    "model.compile(loss = loss_fun, optimizer='Adam', metrics=[keras.metrics.Accuracy()])"
   ]
  },
  {
   "cell_type": "code",
   "execution_count": 262,
   "id": "4194ad2f",
   "metadata": {
    "ExecuteTime": {
     "end_time": "2021-12-23T05:46:19.417664Z",
     "start_time": "2021-12-23T05:46:19.232619Z"
    }
   },
   "outputs": [],
   "source": [
    "mnist = datasets.mnist\n",
    "(x_train, y_train), (x_test, y_test) = mnist.load_data()"
   ]
  },
  {
   "cell_type": "code",
   "execution_count": 263,
   "id": "ee754546",
   "metadata": {
    "ExecuteTime": {
     "end_time": "2021-12-23T05:46:19.885379Z",
     "start_time": "2021-12-23T05:46:19.880378Z"
    }
   },
   "outputs": [
    {
     "data": {
      "text/plain": [
       "((60000, 28, 28), (60000,))"
      ]
     },
     "execution_count": 263,
     "metadata": {},
     "output_type": "execute_result"
    }
   ],
   "source": [
    "x_train.shape, y_train.shape"
   ]
  },
  {
   "cell_type": "code",
   "execution_count": 264,
   "id": "9575b9db",
   "metadata": {
    "ExecuteTime": {
     "end_time": "2021-12-23T05:46:20.488710Z",
     "start_time": "2021-12-23T05:46:20.472706Z"
    }
   },
   "outputs": [
    {
     "data": {
      "text/plain": [
       "((10000, 28, 28), (10000,))"
      ]
     },
     "execution_count": 264,
     "metadata": {},
     "output_type": "execute_result"
    }
   ],
   "source": [
    "x_test.shape, y_test.shape"
   ]
  },
  {
   "cell_type": "code",
   "execution_count": 265,
   "id": "8070c2ab",
   "metadata": {
    "ExecuteTime": {
     "end_time": "2021-12-23T05:46:20.893750Z",
     "start_time": "2021-12-23T05:46:20.888749Z"
    }
   },
   "outputs": [
    {
     "name": "stdout",
     "output_type": "stream",
     "text": [
      "(60000, 28, 28, 1)\n"
     ]
    }
   ],
   "source": [
    "#채널 늘리기 - 차원수 늘리기 방법 1\n",
    "x_train_2= np.expand_dims(x_train_ori, -1).shape\n",
    "print(x_train_2)"
   ]
  },
  {
   "cell_type": "code",
   "execution_count": 266,
   "id": "03897097",
   "metadata": {
    "ExecuteTime": {
     "end_time": "2021-12-23T05:46:21.375389Z",
     "start_time": "2021-12-23T05:46:21.346383Z"
    }
   },
   "outputs": [
    {
     "name": "stdout",
     "output_type": "stream",
     "text": [
      "(60000, 28, 28, 1)\n"
     ]
    }
   ],
   "source": [
    "#채널 늘리기 - 차원수 늘리기 방법 2\n",
    "x_train_3 = tf.expand_dims(x_train_ori, -1).shape\n",
    "print(x_train_3)"
   ]
  },
  {
   "cell_type": "code",
   "execution_count": 267,
   "id": "01cd5889",
   "metadata": {
    "ExecuteTime": {
     "end_time": "2021-12-23T05:46:22.084985Z",
     "start_time": "2021-12-23T05:46:22.081993Z"
    }
   },
   "outputs": [
    {
     "name": "stdout",
     "output_type": "stream",
     "text": [
      "(60000, 28, 28, 1)\n"
     ]
    }
   ],
   "source": [
    "#채널 늘리기 - 차원수 늘리기 방법 3\n",
    "x_train_4 = x_train[...,tf.newaxis].shape\n",
    "print(x_train_4)"
   ]
  },
  {
   "cell_type": "code",
   "execution_count": 268,
   "id": "7f17c176",
   "metadata": {
    "ExecuteTime": {
     "end_time": "2021-12-23T05:46:23.759014Z",
     "start_time": "2021-12-23T05:46:23.745011Z"
    }
   },
   "outputs": [],
   "source": [
    "x_train = x_train[...,tf.newaxis]\n",
    "x_test = x_test[...,tf.newaxis]"
   ]
  },
  {
   "cell_type": "code",
   "execution_count": 269,
   "id": "34c06d8a",
   "metadata": {
    "ExecuteTime": {
     "end_time": "2021-12-23T05:46:24.438017Z",
     "start_time": "2021-12-23T05:46:24.433015Z"
    }
   },
   "outputs": [
    {
     "data": {
      "text/plain": [
       "(60000, 28, 28, 1)"
      ]
     },
     "execution_count": 269,
     "metadata": {},
     "output_type": "execute_result"
    }
   ],
   "source": [
    "x_train.shape"
   ]
  },
  {
   "cell_type": "code",
   "execution_count": 270,
   "id": "245b828f",
   "metadata": {
    "ExecuteTime": {
     "end_time": "2021-12-23T05:46:25.251336Z",
     "start_time": "2021-12-23T05:46:25.153397Z"
    }
   },
   "outputs": [
    {
     "data": {
      "text/plain": [
       "(0, 255)"
      ]
     },
     "execution_count": 270,
     "metadata": {},
     "output_type": "execute_result"
    }
   ],
   "source": [
    "#Rescaling 현재는 0, 255 => Rescaling을 해서 학습이 용이하도록 하기\n",
    "np.min(x_train), np.max(x_train)"
   ]
  },
  {
   "cell_type": "code",
   "execution_count": 271,
   "id": "ef5e17bf",
   "metadata": {
    "ExecuteTime": {
     "end_time": "2021-12-23T05:46:29.776070Z",
     "start_time": "2021-12-23T05:46:29.635039Z"
    }
   },
   "outputs": [],
   "source": [
    "x_train = x_train/255.0\n",
    "x_test = x_test /255.0"
   ]
  },
  {
   "cell_type": "code",
   "execution_count": 272,
   "id": "9da44295",
   "metadata": {
    "ExecuteTime": {
     "end_time": "2021-12-23T05:46:30.845929Z",
     "start_time": "2021-12-23T05:46:30.802928Z"
    }
   },
   "outputs": [
    {
     "data": {
      "text/plain": [
       "(0.0, 1.0)"
      ]
     },
     "execution_count": 272,
     "metadata": {},
     "output_type": "execute_result"
    }
   ],
   "source": [
    "np.min(x_train), np.max(x_train) # 0과 1사이로 변함 "
   ]
  },
  {
   "cell_type": "markdown",
   "id": "a075e0b1",
   "metadata": {},
   "source": [
    "## Training  "
   ]
  },
  {
   "cell_type": "code",
   "execution_count": 273,
   "id": "6c58c679",
   "metadata": {
    "ExecuteTime": {
     "end_time": "2021-12-23T05:46:35.036867Z",
     "start_time": "2021-12-23T05:46:35.026865Z"
    }
   },
   "outputs": [],
   "source": []
  },
  {
   "cell_type": "code",
   "execution_count": 275,
   "id": "3b994803",
   "metadata": {
    "ExecuteTime": {
     "end_time": "2021-12-23T05:47:04.955985Z",
     "start_time": "2021-12-23T05:47:04.823981Z"
    }
   },
   "outputs": [
    {
     "name": "stdout",
     "output_type": "stream",
     "text": [
      "Epoch 1/20\n"
     ]
    },
    {
     "ename": "TypeError",
     "evalue": "'NoneType' object is not callable",
     "output_type": "error",
     "traceback": [
      "\u001b[1;31m---------------------------------------------------------------------------\u001b[0m",
      "\u001b[1;31mTypeError\u001b[0m                                 Traceback (most recent call last)",
      "\u001b[1;32m~\\AppData\\Local\\Temp/ipykernel_9812/1354758853.py\u001b[0m in \u001b[0;36m<module>\u001b[1;34m\u001b[0m\n\u001b[1;32m----> 1\u001b[1;33m \u001b[0mmodel\u001b[0m\u001b[1;33m.\u001b[0m\u001b[0mfit\u001b[0m\u001b[1;33m(\u001b[0m\u001b[0mx_train\u001b[0m\u001b[1;33m,\u001b[0m \u001b[0my_train\u001b[0m\u001b[1;33m,\u001b[0m \u001b[0mepochs\u001b[0m\u001b[1;33m=\u001b[0m\u001b[1;36m20\u001b[0m\u001b[1;33m,\u001b[0m \u001b[0mbatch_size\u001b[0m \u001b[1;33m=\u001b[0m\u001b[1;36m32\u001b[0m\u001b[1;33m,\u001b[0m \u001b[0mshuffle\u001b[0m\u001b[1;33m=\u001b[0m\u001b[1;32mTrue\u001b[0m \u001b[1;33m)\u001b[0m\u001b[1;33m\u001b[0m\u001b[1;33m\u001b[0m\u001b[0m\n\u001b[0m",
      "\u001b[1;32m~\\anaconda3\\envs\\tfenv\\lib\\site-packages\\tensorflow\\python\\keras\\engine\\training.py\u001b[0m in \u001b[0;36m_method_wrapper\u001b[1;34m(self, *args, **kwargs)\u001b[0m\n\u001b[0;32m    106\u001b[0m   \u001b[1;32mdef\u001b[0m \u001b[0m_method_wrapper\u001b[0m\u001b[1;33m(\u001b[0m\u001b[0mself\u001b[0m\u001b[1;33m,\u001b[0m \u001b[1;33m*\u001b[0m\u001b[0margs\u001b[0m\u001b[1;33m,\u001b[0m \u001b[1;33m**\u001b[0m\u001b[0mkwargs\u001b[0m\u001b[1;33m)\u001b[0m\u001b[1;33m:\u001b[0m\u001b[1;33m\u001b[0m\u001b[1;33m\u001b[0m\u001b[0m\n\u001b[0;32m    107\u001b[0m     \u001b[1;32mif\u001b[0m \u001b[1;32mnot\u001b[0m \u001b[0mself\u001b[0m\u001b[1;33m.\u001b[0m\u001b[0m_in_multi_worker_mode\u001b[0m\u001b[1;33m(\u001b[0m\u001b[1;33m)\u001b[0m\u001b[1;33m:\u001b[0m  \u001b[1;31m# pylint: disable=protected-access\u001b[0m\u001b[1;33m\u001b[0m\u001b[1;33m\u001b[0m\u001b[0m\n\u001b[1;32m--> 108\u001b[1;33m       \u001b[1;32mreturn\u001b[0m \u001b[0mmethod\u001b[0m\u001b[1;33m(\u001b[0m\u001b[0mself\u001b[0m\u001b[1;33m,\u001b[0m \u001b[1;33m*\u001b[0m\u001b[0margs\u001b[0m\u001b[1;33m,\u001b[0m \u001b[1;33m**\u001b[0m\u001b[0mkwargs\u001b[0m\u001b[1;33m)\u001b[0m\u001b[1;33m\u001b[0m\u001b[1;33m\u001b[0m\u001b[0m\n\u001b[0m\u001b[0;32m    109\u001b[0m \u001b[1;33m\u001b[0m\u001b[0m\n\u001b[0;32m    110\u001b[0m     \u001b[1;31m# Running inside `run_distribute_coordinator` already.\u001b[0m\u001b[1;33m\u001b[0m\u001b[1;33m\u001b[0m\u001b[1;33m\u001b[0m\u001b[0m\n",
      "\u001b[1;32m~\\anaconda3\\envs\\tfenv\\lib\\site-packages\\tensorflow\\python\\keras\\engine\\training.py\u001b[0m in \u001b[0;36mfit\u001b[1;34m(self, x, y, batch_size, epochs, verbose, callbacks, validation_split, validation_data, shuffle, class_weight, sample_weight, initial_epoch, steps_per_epoch, validation_steps, validation_batch_size, validation_freq, max_queue_size, workers, use_multiprocessing)\u001b[0m\n\u001b[0;32m   1096\u001b[0m                 batch_size=batch_size):\n\u001b[0;32m   1097\u001b[0m               \u001b[0mcallbacks\u001b[0m\u001b[1;33m.\u001b[0m\u001b[0mon_train_batch_begin\u001b[0m\u001b[1;33m(\u001b[0m\u001b[0mstep\u001b[0m\u001b[1;33m)\u001b[0m\u001b[1;33m\u001b[0m\u001b[1;33m\u001b[0m\u001b[0m\n\u001b[1;32m-> 1098\u001b[1;33m               \u001b[0mtmp_logs\u001b[0m \u001b[1;33m=\u001b[0m \u001b[0mtrain_function\u001b[0m\u001b[1;33m(\u001b[0m\u001b[0miterator\u001b[0m\u001b[1;33m)\u001b[0m\u001b[1;33m\u001b[0m\u001b[1;33m\u001b[0m\u001b[0m\n\u001b[0m\u001b[0;32m   1099\u001b[0m               \u001b[1;32mif\u001b[0m \u001b[0mdata_handler\u001b[0m\u001b[1;33m.\u001b[0m\u001b[0mshould_sync\u001b[0m\u001b[1;33m:\u001b[0m\u001b[1;33m\u001b[0m\u001b[1;33m\u001b[0m\u001b[0m\n\u001b[0;32m   1100\u001b[0m                 \u001b[0mcontext\u001b[0m\u001b[1;33m.\u001b[0m\u001b[0masync_wait\u001b[0m\u001b[1;33m(\u001b[0m\u001b[1;33m)\u001b[0m\u001b[1;33m\u001b[0m\u001b[1;33m\u001b[0m\u001b[0m\n",
      "\u001b[1;32m~\\anaconda3\\envs\\tfenv\\lib\\site-packages\\tensorflow\\python\\eager\\def_function.py\u001b[0m in \u001b[0;36m__call__\u001b[1;34m(self, *args, **kwds)\u001b[0m\n\u001b[0;32m    778\u001b[0m       \u001b[1;32melse\u001b[0m\u001b[1;33m:\u001b[0m\u001b[1;33m\u001b[0m\u001b[1;33m\u001b[0m\u001b[0m\n\u001b[0;32m    779\u001b[0m         \u001b[0mcompiler\u001b[0m \u001b[1;33m=\u001b[0m \u001b[1;34m\"nonXla\"\u001b[0m\u001b[1;33m\u001b[0m\u001b[1;33m\u001b[0m\u001b[0m\n\u001b[1;32m--> 780\u001b[1;33m         \u001b[0mresult\u001b[0m \u001b[1;33m=\u001b[0m \u001b[0mself\u001b[0m\u001b[1;33m.\u001b[0m\u001b[0m_call\u001b[0m\u001b[1;33m(\u001b[0m\u001b[1;33m*\u001b[0m\u001b[0margs\u001b[0m\u001b[1;33m,\u001b[0m \u001b[1;33m**\u001b[0m\u001b[0mkwds\u001b[0m\u001b[1;33m)\u001b[0m\u001b[1;33m\u001b[0m\u001b[1;33m\u001b[0m\u001b[0m\n\u001b[0m\u001b[0;32m    781\u001b[0m \u001b[1;33m\u001b[0m\u001b[0m\n\u001b[0;32m    782\u001b[0m       \u001b[0mnew_tracing_count\u001b[0m \u001b[1;33m=\u001b[0m \u001b[0mself\u001b[0m\u001b[1;33m.\u001b[0m\u001b[0m_get_tracing_count\u001b[0m\u001b[1;33m(\u001b[0m\u001b[1;33m)\u001b[0m\u001b[1;33m\u001b[0m\u001b[1;33m\u001b[0m\u001b[0m\n",
      "\u001b[1;32m~\\anaconda3\\envs\\tfenv\\lib\\site-packages\\tensorflow\\python\\eager\\def_function.py\u001b[0m in \u001b[0;36m_call\u001b[1;34m(self, *args, **kwds)\u001b[0m\n\u001b[0;32m    805\u001b[0m       \u001b[1;31m# In this case we have created variables on the first call, so we run the\u001b[0m\u001b[1;33m\u001b[0m\u001b[1;33m\u001b[0m\u001b[1;33m\u001b[0m\u001b[0m\n\u001b[0;32m    806\u001b[0m       \u001b[1;31m# defunned version which is guaranteed to never create variables.\u001b[0m\u001b[1;33m\u001b[0m\u001b[1;33m\u001b[0m\u001b[1;33m\u001b[0m\u001b[0m\n\u001b[1;32m--> 807\u001b[1;33m       \u001b[1;32mreturn\u001b[0m \u001b[0mself\u001b[0m\u001b[1;33m.\u001b[0m\u001b[0m_stateless_fn\u001b[0m\u001b[1;33m(\u001b[0m\u001b[1;33m*\u001b[0m\u001b[0margs\u001b[0m\u001b[1;33m,\u001b[0m \u001b[1;33m**\u001b[0m\u001b[0mkwds\u001b[0m\u001b[1;33m)\u001b[0m  \u001b[1;31m# pylint: disable=not-callable\u001b[0m\u001b[1;33m\u001b[0m\u001b[1;33m\u001b[0m\u001b[0m\n\u001b[0m\u001b[0;32m    808\u001b[0m     \u001b[1;32melif\u001b[0m \u001b[0mself\u001b[0m\u001b[1;33m.\u001b[0m\u001b[0m_stateful_fn\u001b[0m \u001b[1;32mis\u001b[0m \u001b[1;32mnot\u001b[0m \u001b[1;32mNone\u001b[0m\u001b[1;33m:\u001b[0m\u001b[1;33m\u001b[0m\u001b[1;33m\u001b[0m\u001b[0m\n\u001b[0;32m    809\u001b[0m       \u001b[1;31m# Release the lock early so that multiple threads can perform the call\u001b[0m\u001b[1;33m\u001b[0m\u001b[1;33m\u001b[0m\u001b[1;33m\u001b[0m\u001b[0m\n",
      "\u001b[1;31mTypeError\u001b[0m: 'NoneType' object is not callable"
     ]
    }
   ],
   "source": [
    "model.fit(x_train, y_train, epochs=20, batch_size =32, shuffle=True )"
   ]
  }
 ],
 "metadata": {
  "kernelspec": {
   "display_name": "Python 3 (ipykernel)",
   "language": "python",
   "name": "python3"
  },
  "language_info": {
   "codemirror_mode": {
    "name": "ipython",
    "version": 3
   },
   "file_extension": ".py",
   "mimetype": "text/x-python",
   "name": "python",
   "nbconvert_exporter": "python",
   "pygments_lexer": "ipython3",
   "version": "3.8.12"
  },
  "toc": {
   "base_numbering": 1,
   "nav_menu": {},
   "number_sections": true,
   "sideBar": true,
   "skip_h1_title": false,
   "title_cell": "Table of Contents",
   "title_sidebar": "Contents",
   "toc_cell": false,
   "toc_position": {},
   "toc_section_display": true,
   "toc_window_display": false
  }
 },
 "nbformat": 4,
 "nbformat_minor": 5
}
