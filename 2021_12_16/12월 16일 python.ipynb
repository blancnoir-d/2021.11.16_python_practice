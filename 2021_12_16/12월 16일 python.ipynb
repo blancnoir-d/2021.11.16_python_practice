{
 "cells": [
  {
   "cell_type": "markdown",
   "id": "1c435c38",
   "metadata": {},
   "source": [
    "# 텐서 차원 - 랭크(rank)"
   ]
  },
  {
   "cell_type": "code",
   "execution_count": 1,
   "id": "b718bcb8",
   "metadata": {
    "ExecuteTime": {
     "end_time": "2021-12-16T04:58:25.365188Z",
     "start_time": "2021-12-16T04:58:17.517473Z"
    }
   },
   "outputs": [],
   "source": [
    "import tensorflow  as tf"
   ]
  },
  {
   "cell_type": "code",
   "execution_count": 2,
   "id": "a004dd51",
   "metadata": {
    "ExecuteTime": {
     "end_time": "2021-12-16T06:14:11.847319Z",
     "start_time": "2021-12-16T06:14:10.310773Z"
    }
   },
   "outputs": [],
   "source": [
    "import tensorflow as tf\n",
    "from tensorflow import keras\n",
    "import numpy as np\n",
    "\n",
    "tf.random.set_seed(0)\n",
    "\n",
    "model = keras.Sequential([keras.layers.Dense(units=3, input_shape=[1])]) #unit 출력값, input_shape : "
   ]
  },
  {
   "cell_type": "code",
   "execution_count": 3,
   "id": "8793e70f",
   "metadata": {
    "ExecuteTime": {
     "end_time": "2021-12-16T06:14:49.531461Z",
     "start_time": "2021-12-16T06:14:49.516448Z"
    }
   },
   "outputs": [],
   "source": [
    "model.compile(loss='mse', optimizer = 'sgd')"
   ]
  },
  {
   "cell_type": "code",
   "execution_count": 4,
   "id": "9d6b568b",
   "metadata": {
    "ExecuteTime": {
     "end_time": "2021-12-16T06:15:55.648193Z",
     "start_time": "2021-12-16T06:15:54.789177Z"
    }
   },
   "outputs": [
    {
     "name": "stdout",
     "output_type": "stream",
     "text": [
      "1/1 [==============================] - 0s 3ms/step - loss: 1.0738\n",
      "1/1 [==============================] - 0s 999us/step - loss: 1.0453\n"
     ]
    },
    {
     "data": {
      "text/plain": [
       "1.0453256368637085"
      ]
     },
     "execution_count": 4,
     "metadata": {},
     "output_type": "execute_result"
    }
   ],
   "source": [
    "model.fit([1],[[0,1,0]], epochs=1)\n",
    "model.evaluate([1],[[0,1,0]])"
   ]
  },
  {
   "cell_type": "code",
   "execution_count": 5,
   "id": "d27ee848",
   "metadata": {
    "ExecuteTime": {
     "end_time": "2021-12-16T06:18:59.877131Z",
     "start_time": "2021-12-16T06:18:58.428802Z"
    }
   },
   "outputs": [
    {
     "name": "stdout",
     "output_type": "stream",
     "text": [
      "Epoch 1/100\n",
      "1/1 [==============================] - 0s 0s/step - loss: 1.0453\n",
      "Epoch 2/100\n",
      "1/1 [==============================] - 0s 0s/step - loss: 1.0176\n",
      "Epoch 3/100\n",
      "1/1 [==============================] - 0s 0s/step - loss: 0.9907\n",
      "Epoch 4/100\n",
      "1/1 [==============================] - 0s 1000us/step - loss: 0.9644\n",
      "Epoch 5/100\n",
      "1/1 [==============================] - 0s 1ms/step - loss: 0.9389\n",
      "Epoch 6/100\n",
      "1/1 [==============================] - 0s 1000us/step - loss: 0.9140\n",
      "Epoch 7/100\n",
      "1/1 [==============================] - 0s 0s/step - loss: 0.8898\n",
      "Epoch 8/100\n",
      "1/1 [==============================] - 0s 999us/step - loss: 0.8662\n",
      "Epoch 9/100\n",
      "1/1 [==============================] - 0s 1000us/step - loss: 0.8433\n",
      "Epoch 10/100\n",
      "1/1 [==============================] - 0s 0s/step - loss: 0.8210\n",
      "Epoch 11/100\n",
      "1/1 [==============================] - 0s 1ms/step - loss: 0.7992\n",
      "Epoch 12/100\n",
      "1/1 [==============================] - 0s 0s/step - loss: 0.7780\n",
      "Epoch 13/100\n",
      "1/1 [==============================] - 0s 1ms/step - loss: 0.7574\n",
      "Epoch 14/100\n",
      "1/1 [==============================] - 0s 1ms/step - loss: 0.7374\n",
      "Epoch 15/100\n",
      "1/1 [==============================] - 0s 999us/step - loss: 0.7178\n",
      "Epoch 16/100\n",
      "1/1 [==============================] - 0s 1ms/step - loss: 0.6988\n",
      "Epoch 17/100\n",
      "1/1 [==============================] - 0s 0s/step - loss: 0.6803\n",
      "Epoch 18/100\n",
      "1/1 [==============================] - 0s 1ms/step - loss: 0.6623\n",
      "Epoch 19/100\n",
      "1/1 [==============================] - 0s 1ms/step - loss: 0.6447\n",
      "Epoch 20/100\n",
      "1/1 [==============================] - 0s 999us/step - loss: 0.6277\n",
      "Epoch 21/100\n",
      "1/1 [==============================] - 0s 1ms/step - loss: 0.6110\n",
      "Epoch 22/100\n",
      "1/1 [==============================] - 0s 0s/step - loss: 0.5949\n",
      "Epoch 23/100\n",
      "1/1 [==============================] - 0s 1000us/step - loss: 0.5791\n",
      "Epoch 24/100\n",
      "1/1 [==============================] - 0s 0s/step - loss: 0.5638\n",
      "Epoch 25/100\n",
      "1/1 [==============================] - 0s 1000us/step - loss: 0.5488\n",
      "Epoch 26/100\n",
      "1/1 [==============================] - 0s 1ms/step - loss: 0.5343\n",
      "Epoch 27/100\n",
      "1/1 [==============================] - 0s 1000us/step - loss: 0.5201\n",
      "Epoch 28/100\n",
      "1/1 [==============================] - 0s 1000us/step - loss: 0.5064\n",
      "Epoch 29/100\n",
      "1/1 [==============================] - 0s 1ms/step - loss: 0.4929\n",
      "Epoch 30/100\n",
      "1/1 [==============================] - 0s 0s/step - loss: 0.4799\n",
      "Epoch 31/100\n",
      "1/1 [==============================] - 0s 1ms/step - loss: 0.4672\n",
      "Epoch 32/100\n",
      "1/1 [==============================] - 0s 0s/step - loss: 0.4548\n",
      "Epoch 33/100\n",
      "1/1 [==============================] - 0s 0s/step - loss: 0.4428\n",
      "Epoch 34/100\n",
      "1/1 [==============================] - 0s 1ms/step - loss: 0.4310\n",
      "Epoch 35/100\n",
      "1/1 [==============================] - 0s 0s/step - loss: 0.4196\n",
      "Epoch 36/100\n",
      "1/1 [==============================] - 0s 0s/step - loss: 0.4085\n",
      "Epoch 37/100\n",
      "1/1 [==============================] - 0s 1000us/step - loss: 0.3977\n",
      "Epoch 38/100\n",
      "1/1 [==============================] - 0s 1ms/step - loss: 0.3871\n",
      "Epoch 39/100\n",
      "1/1 [==============================] - 0s 1ms/step - loss: 0.3769\n",
      "Epoch 40/100\n",
      "1/1 [==============================] - 0s 998us/step - loss: 0.3669\n",
      "Epoch 41/100\n",
      "1/1 [==============================] - 0s 1ms/step - loss: 0.3572\n",
      "Epoch 42/100\n",
      "1/1 [==============================] - 0s 1000us/step - loss: 0.3477\n",
      "Epoch 43/100\n",
      "1/1 [==============================] - 0s 1ms/step - loss: 0.3385\n",
      "Epoch 44/100\n",
      "1/1 [==============================] - 0s 0s/step - loss: 0.3295\n",
      "Epoch 45/100\n",
      "1/1 [==============================] - 0s 1000us/step - loss: 0.3208\n",
      "Epoch 46/100\n",
      "1/1 [==============================] - 0s 1ms/step - loss: 0.3123\n",
      "Epoch 47/100\n",
      "1/1 [==============================] - 0s 1ms/step - loss: 0.3040\n",
      "Epoch 48/100\n",
      "1/1 [==============================] - 0s 1ms/step - loss: 0.2960\n",
      "Epoch 49/100\n",
      "1/1 [==============================] - 0s 0s/step - loss: 0.2881\n",
      "Epoch 50/100\n",
      "1/1 [==============================] - 0s 1000us/step - loss: 0.2805\n",
      "Epoch 51/100\n",
      "1/1 [==============================] - 0s 1ms/step - loss: 0.2731\n",
      "Epoch 52/100\n",
      "1/1 [==============================] - 0s 0s/step - loss: 0.2659\n",
      "Epoch 53/100\n",
      "1/1 [==============================] - 0s 1000us/step - loss: 0.2588\n",
      "Epoch 54/100\n",
      "1/1 [==============================] - 0s 1ms/step - loss: 0.2520\n",
      "Epoch 55/100\n",
      "1/1 [==============================] - 0s 0s/step - loss: 0.2453\n",
      "Epoch 56/100\n",
      "1/1 [==============================] - 0s 998us/step - loss: 0.2388\n",
      "Epoch 57/100\n",
      "1/1 [==============================] - 0s 1ms/step - loss: 0.2325\n",
      "Epoch 58/100\n",
      "1/1 [==============================] - 0s 1ms/step - loss: 0.2263\n",
      "Epoch 59/100\n",
      "1/1 [==============================] - 0s 1ms/step - loss: 0.2203\n",
      "Epoch 60/100\n",
      "1/1 [==============================] - 0s 1000us/step - loss: 0.2145\n",
      "Epoch 61/100\n",
      "1/1 [==============================] - 0s 998us/step - loss: 0.2088\n",
      "Epoch 62/100\n",
      "1/1 [==============================] - 0s 0s/step - loss: 0.2033\n",
      "Epoch 63/100\n",
      "1/1 [==============================] - 0s 0s/step - loss: 0.1979\n",
      "Epoch 64/100\n",
      "1/1 [==============================] - 0s 0s/step - loss: 0.1926\n",
      "Epoch 65/100\n",
      "1/1 [==============================] - 0s 1ms/step - loss: 0.1875\n",
      "Epoch 66/100\n",
      "1/1 [==============================] - 0s 999us/step - loss: 0.1826\n",
      "Epoch 67/100\n",
      "1/1 [==============================] - 0s 0s/step - loss: 0.1777\n",
      "Epoch 68/100\n",
      "1/1 [==============================] - 0s 1ms/step - loss: 0.1730\n",
      "Epoch 69/100\n",
      "1/1 [==============================] - 0s 999us/step - loss: 0.1684\n",
      "Epoch 70/100\n",
      "1/1 [==============================] - 0s 1ms/step - loss: 0.1640\n",
      "Epoch 71/100\n",
      "1/1 [==============================] - 0s 1ms/step - loss: 0.1596\n",
      "Epoch 72/100\n",
      "1/1 [==============================] - 0s 1ms/step - loss: 0.1554\n",
      "Epoch 73/100\n",
      "1/1 [==============================] - 0s 1ms/step - loss: 0.1513\n",
      "Epoch 74/100\n",
      "1/1 [==============================] - 0s 999us/step - loss: 0.1473\n",
      "Epoch 75/100\n",
      "1/1 [==============================] - 0s 1ms/step - loss: 0.1434\n",
      "Epoch 76/100\n",
      "1/1 [==============================] - 0s 999us/step - loss: 0.1396\n",
      "Epoch 77/100\n",
      "1/1 [==============================] - 0s 1ms/step - loss: 0.1359\n",
      "Epoch 78/100\n",
      "1/1 [==============================] - 0s 1ms/step - loss: 0.1323\n",
      "Epoch 79/100\n",
      "1/1 [==============================] - 0s 999us/step - loss: 0.1288\n",
      "Epoch 80/100\n",
      "1/1 [==============================] - 0s 1ms/step - loss: 0.1254\n",
      "Epoch 81/100\n",
      "1/1 [==============================] - 0s 1ms/step - loss: 0.1220\n",
      "Epoch 82/100\n",
      "1/1 [==============================] - 0s 0s/step - loss: 0.1188\n",
      "Epoch 83/100\n",
      "1/1 [==============================] - 0s 0s/step - loss: 0.1157\n",
      "Epoch 84/100\n",
      "1/1 [==============================] - 0s 1ms/step - loss: 0.1126\n",
      "Epoch 85/100\n",
      "1/1 [==============================] - 0s 1ms/step - loss: 0.1096\n",
      "Epoch 86/100\n",
      "1/1 [==============================] - 0s 1ms/step - loss: 0.1067\n",
      "Epoch 87/100\n",
      "1/1 [==============================] - 0s 999us/step - loss: 0.1039\n",
      "Epoch 88/100\n",
      "1/1 [==============================] - 0s 1ms/step - loss: 0.1011\n",
      "Epoch 89/100\n",
      "1/1 [==============================] - 0s 0s/step - loss: 0.0985\n",
      "Epoch 90/100\n",
      "1/1 [==============================] - 0s 1000us/step - loss: 0.0959\n",
      "Epoch 91/100\n",
      "1/1 [==============================] - 0s 1ms/step - loss: 0.0933\n",
      "Epoch 92/100\n",
      "1/1 [==============================] - 0s 0s/step - loss: 0.0908\n",
      "Epoch 93/100\n",
      "1/1 [==============================] - 0s 0s/step - loss: 0.0884\n",
      "Epoch 94/100\n",
      "1/1 [==============================] - 0s 1ms/step - loss: 0.0861\n",
      "Epoch 95/100\n",
      "1/1 [==============================] - 0s 0s/step - loss: 0.0838\n",
      "Epoch 96/100\n",
      "1/1 [==============================] - 0s 1000us/step - loss: 0.0816\n",
      "Epoch 97/100\n",
      "1/1 [==============================] - 0s 0s/step - loss: 0.0794\n",
      "Epoch 98/100\n",
      "1/1 [==============================] - 0s 1000us/step - loss: 0.0773\n",
      "Epoch 99/100\n",
      "1/1 [==============================] - 0s 0s/step - loss: 0.0753\n",
      "Epoch 100/100\n",
      "1/1 [==============================] - 0s 1ms/step - loss: 0.0733\n"
     ]
    }
   ],
   "source": [
    "history = model.fit([1], [[0, 1, 0]], epochs=100)"
   ]
  },
  {
   "cell_type": "markdown",
   "id": "e5056db2",
   "metadata": {},
   "source": [
    "## 손실값 시각화"
   ]
  },
  {
   "cell_type": "code",
   "execution_count": 24,
   "id": "1431f22f",
   "metadata": {
    "ExecuteTime": {
     "end_time": "2021-12-16T07:14:12.706363Z",
     "start_time": "2021-12-16T07:14:11.444260Z"
    }
   },
   "outputs": [],
   "source": [
    "import matplotlib.pyplot as plt "
   ]
  },
  {
   "cell_type": "code",
   "execution_count": 25,
   "id": "d3464476",
   "metadata": {
    "ExecuteTime": {
     "end_time": "2021-12-16T07:15:05.182195Z",
     "start_time": "2021-12-16T07:15:05.018913Z"
    }
   },
   "outputs": [
    {
     "data": {
      "image/png": "[encoded data removed]",
      "text/plain": [
       "<Figure size 432x288 with 1 Axes>"
      ]
     },
     "metadata": {
      "needs_background": "light"
     },
     "output_type": "display_data"
    }
   ],
   "source": [
    "loss = history.history['loss']\n",
    "plt.plot(loss)\n",
    "plt.xlabel('Epochs')\n",
    "plt.ylabel('Loss')\n",
    "plt.show()"
   ]
  },
  {
   "cell_type": "code",
   "execution_count": null,
   "id": "874b3b20",
   "metadata": {},
   "outputs": [],
   "source": []
  },
  {
   "cell_type": "markdown",
   "id": "8e8004ba",
   "metadata": {},
   "source": [
    "# Mnist 간단한 훈련 예제  "
   ]
  },
  {
   "cell_type": "code",
   "execution_count": 7,
   "id": "e3fc70a2",
   "metadata": {
    "ExecuteTime": {
     "end_time": "2021-12-16T06:39:43.822377Z",
     "start_time": "2021-12-16T06:39:43.813375Z"
    }
   },
   "outputs": [],
   "source": [
    "from tensorflow.keras import datasets\n",
    "mnist = datasets.mnist"
   ]
  },
  {
   "cell_type": "code",
   "execution_count": 8,
   "id": "6a6c8736",
   "metadata": {
    "ExecuteTime": {
     "end_time": "2021-12-16T06:40:03.495370Z",
     "start_time": "2021-12-16T06:40:03.233213Z"
    }
   },
   "outputs": [],
   "source": [
    "(x_train, y_train), (x_test, y_test) = mnist.load_data()"
   ]
  },
  {
   "cell_type": "code",
   "execution_count": 12,
   "id": "7d20ecdc",
   "metadata": {
    "ExecuteTime": {
     "end_time": "2021-12-16T06:43:07.066027Z",
     "start_time": "2021-12-16T06:43:07.041021Z"
    }
   },
   "outputs": [],
   "source": [
    "model = keras.Sequential()\n",
    "model.add(keras.layers.Dense(512, activation='relu', input_shape=(28*28,)))\n",
    "model.add(keras.layers.Dense(10, activation='softmax'))\n"
   ]
  },
  {
   "cell_type": "code",
   "execution_count": 13,
   "id": "5bf6c48a",
   "metadata": {
    "ExecuteTime": {
     "end_time": "2021-12-16T06:45:44.801041Z",
     "start_time": "2021-12-16T06:45:44.774034Z"
    }
   },
   "outputs": [],
   "source": [
    "model.compile(loss='mse', optimizer='sgd')\n"
   ]
  },
  {
   "cell_type": "code",
   "execution_count": 14,
   "id": "87564fd2",
   "metadata": {
    "ExecuteTime": {
     "end_time": "2021-12-16T06:49:33.514520Z",
     "start_time": "2021-12-16T06:49:33.409634Z"
    }
   },
   "outputs": [],
   "source": [
    "#이미지 데이터 훈련할 수 있게 바꾸기\n",
    "x_train = x_train.reshape((60000,28*28))\n",
    "x_train = x_train.astype('float32') / 25\n",
    "\n",
    "x_test = x_test.reshape((10000,28*28))\n",
    "x_test = x_test.astype('float32') / 255"
   ]
  },
  {
   "cell_type": "code",
   "execution_count": 15,
   "id": "70b11e32",
   "metadata": {
    "ExecuteTime": {
     "end_time": "2021-12-16T06:50:24.848538Z",
     "start_time": "2021-12-16T06:50:24.842538Z"
    }
   },
   "outputs": [],
   "source": [
    "#레이블 준비하기 \n",
    "from tensorflow.keras.utils import to_categorical"
   ]
  },
  {
   "cell_type": "code",
   "execution_count": 16,
   "id": "ea5d1383",
   "metadata": {
    "ExecuteTime": {
     "end_time": "2021-12-16T06:51:08.682786Z",
     "start_time": "2021-12-16T06:51:08.672783Z"
    }
   },
   "outputs": [],
   "source": [
    "y_train = to_categorical(y_train)\n",
    "y_test = to_categorical(y_test)\n"
   ]
  },
  {
   "cell_type": "code",
   "execution_count": 18,
   "id": "7e89fe3b",
   "metadata": {
    "ExecuteTime": {
     "end_time": "2021-12-16T06:51:57.204813Z",
     "start_time": "2021-12-16T06:51:53.988002Z"
    }
   },
   "outputs": [
    {
     "name": "stdout",
     "output_type": "stream",
     "text": [
      "Epoch 1/5\n",
      "469/469 [==============================] - 1s 1ms/step - loss: 0.0833\n",
      "Epoch 2/5\n",
      "469/469 [==============================] - 1s 1ms/step - loss: 0.0497\n",
      "Epoch 3/5\n",
      "469/469 [==============================] - 1s 1ms/step - loss: 0.0397\n",
      "Epoch 4/5\n",
      "469/469 [==============================] - 1s 1ms/step - loss: 0.0297\n",
      "Epoch 5/5\n",
      "469/469 [==============================] - 1s 1ms/step - loss: 0.0198\n"
     ]
    },
    {
     "data": {
      "text/plain": [
       "<tensorflow.python.keras.callbacks.History at 0x24690046e20>"
      ]
     },
     "execution_count": 18,
     "metadata": {},
     "output_type": "execute_result"
    }
   ],
   "source": [
    "model.fit(x_train, y_train, epochs =5, batch_size = 128)"
   ]
  },
  {
   "cell_type": "code",
   "execution_count": 21,
   "id": "d459213f",
   "metadata": {
    "ExecuteTime": {
     "end_time": "2021-12-16T06:54:07.010488Z",
     "start_time": "2021-12-16T06:54:06.711427Z"
    }
   },
   "outputs": [
    {
     "name": "stdout",
     "output_type": "stream",
     "text": [
      "  1/313 [..............................] - ETA: 0s - loss: 0.0728WARNING:tensorflow:Callbacks method `on_test_batch_end` is slow compared to the batch time (batch time: 0.0000s vs `on_test_batch_end` time: 0.0010s). Check your callbacks.\n",
      "313/313 [==============================] - 0s 821us/step - loss: 0.0730\n"
     ]
    }
   ],
   "source": [
    "result = model.evaluate(x_test, y_test)"
   ]
  },
  {
   "cell_type": "code",
   "execution_count": 23,
   "id": "97d2bb3a",
   "metadata": {
    "ExecuteTime": {
     "end_time": "2021-12-16T06:54:36.345417Z",
     "start_time": "2021-12-16T06:54:36.332414Z"
    }
   },
   "outputs": [
    {
     "data": {
      "text/plain": [
       "0.07303627580404282"
      ]
     },
     "execution_count": 23,
     "metadata": {},
     "output_type": "execute_result"
    }
   ],
   "source": [
    "result\n"
   ]
  },
  {
   "cell_type": "markdown",
   "id": "387d2fad",
   "metadata": {},
   "source": [
    "# AND 로직 연산 학습"
   ]
  },
  {
   "cell_type": "code",
   "execution_count": 27,
   "id": "8cf27ede",
   "metadata": {
    "ExecuteTime": {
     "end_time": "2021-12-16T07:25:07.516464Z",
     "start_time": "2021-12-16T07:25:07.480449Z"
    }
   },
   "outputs": [],
   "source": [
    "import tensorflow as tf\n",
    "from tensorflow import keras\n",
    "import numpy as np\n",
    "\n",
    "tf.random.set_seed(0)\n",
    "\n",
    "x_train =[[0,0], [0,1], [1,0],[1,1]]\n",
    "y_train  = [[0],[0],[0],[1]]\n",
    "\n",
    "model = keras.Sequential([keras.layers.Dense(units=3, input_shape=[2], activation='relu'),\n",
    "                         keras.layers.Dense(units=1)])\n"
   ]
  },
  {
   "cell_type": "code",
   "execution_count": 29,
   "id": "97d76e44",
   "metadata": {
    "ExecuteTime": {
     "end_time": "2021-12-16T07:28:27.174153Z",
     "start_time": "2021-12-16T07:28:27.065922Z"
    }
   },
   "outputs": [
    {
     "name": "stdout",
     "output_type": "stream",
     "text": [
      "Before Training: \n",
      " [[0.        ]\n",
      " [0.6210649 ]\n",
      " [0.06930891]\n",
      " [0.6721569 ]]\n"
     ]
    }
   ],
   "source": [
    "model.compile(loss='mse', optimizer='Adam')\n",
    "\n",
    "#학습 전\n",
    "predict_before = model.predict(x_train)\n",
    "print('Before Training: \\n', predict_before)"
   ]
  },
  {
   "cell_type": "code",
   "execution_count": 30,
   "id": "311742b4",
   "metadata": {
    "ExecuteTime": {
     "end_time": "2021-12-16T07:28:41.433105Z",
     "start_time": "2021-12-16T07:28:29.371270Z"
    }
   },
   "outputs": [
    {
     "name": "stdout",
     "output_type": "stream",
     "text": [
      "After Training: \n",
      " [[-0.00612799]\n",
      " [ 0.00896954]\n",
      " [ 0.00497065]\n",
      " [ 0.9905546 ]]\n"
     ]
    }
   ],
   "source": [
    "#모델 훈련\n",
    "history = model.fit(x_train, y_train, epochs=1000, verbose =0)\n",
    "predict_training = model.predict(x_train)\n",
    "print('After Training: \\n', predict_training)"
   ]
  },
  {
   "cell_type": "markdown",
   "id": "dfd03626",
   "metadata": {},
   "source": []
  },
  {
   "cell_type": "markdown",
   "id": "a7dcadcb",
   "metadata": {},
   "source": [
    "## 손실값 확인 "
   ]
  },
  {
   "cell_type": "code",
   "execution_count": 33,
   "id": "a12f4d93",
   "metadata": {
    "ExecuteTime": {
     "end_time": "2021-12-16T07:30:30.065042Z",
     "start_time": "2021-12-16T07:30:29.971357Z"
    }
   },
   "outputs": [
    {
     "data": {
      "image/png": "[encoded data removed]",
      "text/plain": [
       "<Figure size 432x288 with 1 Axes>"
      ]
     },
     "metadata": {
      "needs_background": "light"
     },
     "output_type": "display_data"
    }
   ],
   "source": [
    "import matplotlib.pyplot as plt \n",
    "\n",
    "loss = history.history['loss']\n",
    "plt.plot(loss)\n",
    "plt.xlabel('Epochs')\n",
    "plt.ylabel('loss')\n",
    "plt.show()"
   ]
  },
  {
   "cell_type": "code",
   "execution_count": 34,
   "id": "1c9204d1",
   "metadata": {
    "ExecuteTime": {
     "end_time": "2021-12-16T07:36:25.727542Z",
     "start_time": "2021-12-16T07:36:25.583516Z"
    }
   },
   "outputs": [
    {
     "data": {
      "image/png": "[encoded data removed]",
      "text/plain": [
       "<Figure size 600x400 with 1 Axes>"
      ]
     },
     "metadata": {},
     "output_type": "display_data"
    }
   ],
   "source": [
    "plt.style.use('default')\n",
    "plt.rcParams['figure.figsize']=(6,4)\n",
    "plt.rcParams['font.size'] = 14\n",
    "\n",
    "plt.plot(predict_training, 's-', markersize=10, label='pred_after_training')\n",
    "plt.plot(predict_before, 'd-', markersize=10, label='pred_before_training')\n",
    "plt.plot(y_train, 'o-', markersize=10, label='y_train')\n",
    "\n",
    "plt.xticks(np.arange(4), labels=['[0, 0]', '[0, 1]', '[1, 0]', '[1, 1]'])\n",
    "plt.xlabel('Input (x_train)', labelpad=15)\n",
    "plt.ylabel('Output (y_train)', labelpad=15)\n",
    "\n",
    "plt.legend()\n",
    "plt.show()"
   ]
  },
  {
   "cell_type": "code",
   "execution_count": null,
   "id": "ef1e7ed9",
   "metadata": {},
   "outputs": [],
   "source": []
  }
 ],
 "metadata": {
  "kernelspec": {
   "display_name": "Python 3 (ipykernel)",
   "language": "python",
   "name": "python3"
  },
  "language_info": {
   "codemirror_mode": {
    "name": "ipython",
    "version": 3
   },
   "file_extension": ".py",
   "mimetype": "text/x-python",
   "name": "python",
   "nbconvert_exporter": "python",
   "pygments_lexer": "ipython3",
   "version": "3.8.12"
  },
  "toc": {
   "base_numbering": 1,
   "nav_menu": {},
   "number_sections": true,
   "sideBar": true,
   "skip_h1_title": false,
   "title_cell": "Table of Contents",
   "title_sidebar": "Contents",
   "toc_cell": false,
   "toc_position": {},
   "toc_section_display": true,
   "toc_window_display": false
  }
 },
 "nbformat": 4,
 "nbformat_minor": 5
}
