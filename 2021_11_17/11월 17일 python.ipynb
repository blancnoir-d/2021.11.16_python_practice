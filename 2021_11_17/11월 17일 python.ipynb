{
 "cells": [
  {
   "cell_type": "code",
   "execution_count": 2,
   "id": "821f99ff",
   "metadata": {},
   "outputs": [
    {
     "name": "stdout",
     "output_type": "stream",
     "text": [
      "1 단\n",
      "1 * 1 = 1\n",
      "1 * 2 = 2\n",
      "1 * 3 = 3\n",
      "1 * 4 = 4\n",
      "1 * 5 = 5\n",
      "1 * 6 = 6\n",
      "1 * 7 = 7\n",
      "1 * 8 = 8\n",
      "1 * 9 = 9\n",
      "2 단\n",
      "2 * 1 = 2\n",
      "2 * 2 = 4\n",
      "2 * 3 = 6\n",
      "2 * 4 = 8\n",
      "2 * 5 = 10\n",
      "2 * 6 = 12\n",
      "2 * 7 = 14\n",
      "2 * 8 = 16\n",
      "2 * 9 = 18\n",
      "3 단\n",
      "3 * 1 = 3\n",
      "3 * 2 = 6\n",
      "3 * 3 = 9\n",
      "3 * 4 = 12\n",
      "3 * 5 = 15\n",
      "3 * 6 = 18\n",
      "3 * 7 = 21\n",
      "3 * 8 = 24\n",
      "3 * 9 = 27\n",
      "4 단\n",
      "4 * 1 = 4\n",
      "4 * 2 = 8\n",
      "4 * 3 = 12\n",
      "4 * 4 = 16\n",
      "4 * 5 = 20\n",
      "4 * 6 = 24\n",
      "4 * 7 = 28\n",
      "4 * 8 = 32\n",
      "4 * 9 = 36\n",
      "5 단\n",
      "5 * 1 = 5\n",
      "5 * 2 = 10\n",
      "5 * 3 = 15\n",
      "5 * 4 = 20\n",
      "5 * 5 = 25\n",
      "5 * 6 = 30\n",
      "5 * 7 = 35\n",
      "5 * 8 = 40\n",
      "5 * 9 = 45\n",
      "6 단\n",
      "6 * 1 = 6\n",
      "6 * 2 = 12\n",
      "6 * 3 = 18\n",
      "6 * 4 = 24\n",
      "6 * 5 = 30\n",
      "6 * 6 = 36\n",
      "6 * 7 = 42\n",
      "6 * 8 = 48\n",
      "6 * 9 = 54\n",
      "7 단\n",
      "7 * 1 = 7\n",
      "7 * 2 = 14\n",
      "7 * 3 = 21\n",
      "7 * 4 = 28\n",
      "7 * 5 = 35\n",
      "7 * 6 = 42\n",
      "7 * 7 = 49\n",
      "7 * 8 = 56\n",
      "7 * 9 = 63\n",
      "8 단\n",
      "8 * 1 = 8\n",
      "8 * 2 = 16\n",
      "8 * 3 = 24\n",
      "8 * 4 = 32\n",
      "8 * 5 = 40\n",
      "8 * 6 = 48\n",
      "8 * 7 = 56\n",
      "8 * 8 = 64\n",
      "8 * 9 = 72\n",
      "9 단\n",
      "9 * 1 = 9\n",
      "9 * 2 = 18\n",
      "9 * 3 = 27\n",
      "9 * 4 = 36\n",
      "9 * 5 = 45\n",
      "9 * 6 = 54\n",
      "9 * 7 = 63\n",
      "9 * 8 = 72\n",
      "9 * 9 = 81\n"
     ]
    }
   ],
   "source": [
    "for i in range(1,10):\n",
    "    print(i,\"단\")\n",
    "    for j in range(1,10):\n",
    "        print(i,\"*\",j,\"=\",i*j)"
   ]
  },
  {
   "cell_type": "code",
   "execution_count": 19,
   "id": "f50eb7ec",
   "metadata": {},
   "outputs": [
    {
     "name": "stdout",
     "output_type": "stream",
     "text": [
      "1 단\n",
      "1 * 1 = 1\n",
      "1 * 2 = 2\n",
      "1 * 3 = 3\n",
      "1 * 4 = 4\n",
      "1 * 5 = 5\n",
      "1 * 6 = 6\n",
      "1 * 7 = 7\n",
      "1 * 8 = 8\n",
      "1 * 9 = 9\n",
      "2 단\n",
      "2 * 1 = 2\n",
      "2 * 2 = 4\n",
      "2 * 3 = 6\n",
      "2 * 4 = 8\n",
      "2 * 5 = 10\n",
      "2 * 6 = 12\n",
      "2 * 7 = 14\n",
      "2 * 8 = 16\n",
      "2 * 9 = 18\n",
      "3 단\n",
      "3 * 1 = 3\n",
      "3 * 2 = 6\n",
      "3 * 3 = 9\n",
      "3 * 4 = 12\n",
      "3 * 5 = 15\n",
      "3 * 6 = 18\n",
      "3 * 7 = 21\n",
      "3 * 8 = 24\n",
      "3 * 9 = 27\n",
      "4 단\n",
      "4 * 1 = 4\n",
      "4 * 2 = 8\n",
      "4 * 3 = 12\n",
      "4 * 4 = 16\n",
      "4 * 5 = 20\n",
      "4 * 6 = 24\n",
      "4 * 7 = 28\n",
      "4 * 8 = 32\n",
      "4 * 9 = 36\n",
      "5 단\n",
      "5 * 1 = 5\n",
      "5 * 2 = 10\n",
      "5 * 3 = 15\n",
      "5 * 4 = 20\n",
      "5 * 5 = 25\n",
      "5 * 6 = 30\n",
      "5 * 7 = 35\n",
      "5 * 8 = 40\n",
      "5 * 9 = 45\n",
      "6 단\n",
      "6 * 1 = 6\n",
      "6 * 2 = 12\n",
      "6 * 3 = 18\n",
      "6 * 4 = 24\n",
      "6 * 5 = 30\n",
      "6 * 6 = 36\n",
      "6 * 7 = 42\n",
      "6 * 8 = 48\n",
      "6 * 9 = 54\n",
      "7 단\n",
      "7 * 1 = 7\n",
      "7 * 2 = 14\n",
      "7 * 3 = 21\n",
      "7 * 4 = 28\n",
      "7 * 5 = 35\n",
      "7 * 6 = 42\n",
      "7 * 7 = 49\n",
      "7 * 8 = 56\n",
      "7 * 9 = 63\n",
      "8 단\n",
      "8 * 1 = 8\n",
      "8 * 2 = 16\n",
      "8 * 3 = 24\n",
      "8 * 4 = 32\n",
      "8 * 5 = 40\n",
      "8 * 6 = 48\n",
      "8 * 7 = 56\n",
      "8 * 8 = 64\n",
      "8 * 9 = 72\n",
      "9 단\n",
      "9 * 1 = 9\n",
      "9 * 2 = 18\n",
      "9 * 3 = 27\n",
      "9 * 4 = 36\n",
      "9 * 5 = 45\n",
      "9 * 6 = 54\n",
      "9 * 7 = 63\n",
      "9 * 8 = 72\n",
      "9 * 9 = 81\n"
     ]
    }
   ],
   "source": [
    "number =1\n",
    "number2 = 1\n",
    "\n",
    "#while이 익숙하지가 않네 \n",
    "while number<10:\n",
    "    print(number,\"단\")\n",
    "    \n",
    "    while number2 <=10:\n",
    "        if number2>=10: #10이 됐을 때 숫자 초기화 및 증가\n",
    "            number2 = 1\n",
    "            number += 1\n",
    "            break\n",
    "        else:\n",
    "            print(number,\"*\", number2,\"=\", number*number2)\n",
    "            number2 +=1\n",
    "        \n",
    "        \n",
    "        \n",
    "        "
   ]
  },
  {
   "cell_type": "markdown",
   "id": "51985283",
   "metadata": {},
   "source": [
    "# 딕셔너리와 집합"
   ]
  },
  {
   "cell_type": "code",
   "execution_count": 1,
   "id": "31dfe560",
   "metadata": {},
   "outputs": [
    {
     "name": "stdout",
     "output_type": "stream",
     "text": [
      "{'홍길동': '01012341245', '임꺽정': '123141241234'}\n"
     ]
    }
   ],
   "source": [
    "dic = {\"홍길동\":\"01012341245\"}\n",
    "\n",
    "dic[\"임꺽정\"] = \"123141241234\"\n",
    "\n",
    "print(dic)"
   ]
  },
  {
   "cell_type": "code",
   "execution_count": 2,
   "id": "eaa392dd",
   "metadata": {},
   "outputs": [
    {
     "name": "stdout",
     "output_type": "stream",
     "text": [
      "dict_keys(['홍길동', '임꺽정'])\n"
     ]
    }
   ],
   "source": [
    "print(dic.keys())"
   ]
  },
  {
   "cell_type": "code",
   "execution_count": 3,
   "id": "e6c1609e",
   "metadata": {},
   "outputs": [
    {
     "name": "stdout",
     "output_type": "stream",
     "text": [
      "dict_values(['01012341245', '123141241234'])\n"
     ]
    }
   ],
   "source": [
    "print(dic.values())"
   ]
  },
  {
   "cell_type": "code",
   "execution_count": 5,
   "id": "9c232a0a",
   "metadata": {},
   "outputs": [
    {
     "name": "stdout",
     "output_type": "stream",
     "text": [
      "01012341245\n"
     ]
    }
   ],
   "source": [
    "#pop은 값을 실제로 꺼내오는 구나 인덱스를 통해서 값 조회랑은 다름\n",
    "print(dic.pop(\"홍길동\"))"
   ]
  },
  {
   "cell_type": "code",
   "execution_count": 6,
   "id": "d9403c8b",
   "metadata": {},
   "outputs": [
    {
     "name": "stdout",
     "output_type": "stream",
     "text": [
      "{}\n"
     ]
    }
   ],
   "source": [
    "del dic[\"임꺽정\"]\n",
    "print(dic)"
   ]
  },
  {
   "cell_type": "code",
   "execution_count": 8,
   "id": "bc4f7502",
   "metadata": {},
   "outputs": [
    {
     "name": "stdout",
     "output_type": "stream",
     "text": [
      "{10}\n"
     ]
    }
   ],
   "source": [
    "s = set()\n",
    "s.add(10)\n",
    "print(s)"
   ]
  },
  {
   "cell_type": "code",
   "execution_count": 9,
   "id": "bad34616",
   "metadata": {},
   "outputs": [
    {
     "data": {
      "text/plain": [
       "set"
      ]
     },
     "execution_count": 9,
     "metadata": {},
     "output_type": "execute_result"
    }
   ],
   "source": [
    "s = {1,2,3,4,5}\n",
    "type(s)"
   ]
  },
  {
   "cell_type": "code",
   "execution_count": 24,
   "id": "0a3b026e",
   "metadata": {},
   "outputs": [
    {
     "name": "stdout",
     "output_type": "stream",
     "text": [
      "{1, 2, 3, 4, 5, '6'}\n"
     ]
    }
   ],
   "source": [
    "\n",
    " #s = set([1,2,3,3,4,5,'6',[1,2,3,4,]]) 집합에 리스트 못넣음\n",
    "s = set([1,2,3,3,4,5,'6']) # 이건 가능 \n",
    "print(s)"
   ]
  },
  {
   "cell_type": "code",
   "execution_count": 29,
   "id": "d693d230",
   "metadata": {},
   "outputs": [
    {
     "name": "stdout",
     "output_type": "stream",
     "text": [
      "<class 'set'>\n",
      "<class 'set'>\n",
      "<class 'set'>\n"
     ]
    }
   ],
   "source": [
    "#set 생성\n",
    "set1 = {1,2,3,4,5}\n",
    "set2 = set()\n",
    "set3 = set([5,1,23,5,6,7])\n",
    "\n",
    "print(type(set1))\n",
    "print(type(set2))\n",
    "print(type(set3))\n",
    "\n"
   ]
  },
  {
   "cell_type": "code",
   "execution_count": 26,
   "id": "3af8272f",
   "metadata": {},
   "outputs": [
    {
     "name": "stdout",
     "output_type": "stream",
     "text": [
      "{1, 2, 3, 4, 5}\n",
      "set()\n",
      "{1, 5, 6, 7, 23}\n"
     ]
    }
   ],
   "source": [
    "print(set1)\n",
    "print(set2)\n",
    "print(set3)"
   ]
  },
  {
   "cell_type": "markdown",
   "id": "05ad06b9",
   "metadata": {},
   "source": [
    "## 가위, 바위, 보 게임"
   ]
  },
  {
   "cell_type": "code",
   "execution_count": 60,
   "id": "e72c2965",
   "metadata": {},
   "outputs": [
    {
     "name": "stdout",
     "output_type": "stream",
     "text": [
      "가위, 바위, 보 입력 :보\n",
      "당신이 이겼습니다\n"
     ]
    }
   ],
   "source": [
    "import random\n",
    "game = [\"가위\",\"바위\",\"보\"]\n",
    "\n",
    "num = random.randrange(0,3)\n",
    "com = game[num]\n",
    "#print(com)\n",
    "\n",
    "me = str(input(\"가위, 바위, 보 입력 :\"))\n",
    "\n",
    "if com == me:\n",
    "    print(\"비겼습니다.\")\n",
    "elif com != me:\n",
    "    if com == \"가위\": \n",
    "        if me == \"바위\":\n",
    "            print(\"당신이 이겼습니다\")\n",
    "        elif me ==\"보\":\n",
    "            print(\"당신이 졌습니다\")\n",
    "    elif com==\"바위\":\n",
    "        if me == \"보\":\n",
    "            print(\"당신이 이겼습니다\")\n",
    "        elif me ==\"가위\":\n",
    "            print(\"당신이 졌습니다\")\n",
    "        \n",
    "    elif com==\"보\":\n",
    "        if me == \"가위\":\n",
    "            print(\"당신이 이겼습니다\")\n",
    "        elif me == \"바위\":\n",
    "            print(\"당신이 졌습니다\")\n",
    "        \n",
    "\n",
    "\n"
   ]
  },
  {
   "cell_type": "markdown",
   "id": "3dd6b584",
   "metadata": {},
   "source": [
    "## 행성까지의 여행 시간은?"
   ]
  },
  {
   "cell_type": "code",
   "execution_count": null,
   "id": "a9468b7c",
   "metadata": {},
   "outputs": [],
   "source": [
    "planet ={\"수성\":91700000,\"금성\":41400000,\"화성\":78400000,\"목성\":628700000,\"토성\":1277400000,\"천왕성\":2750400000,\"해왕성\":4347400000}\n",
    "\n",
    "name = str(input(\"행성 이름 : \"))\n",
    "speed = int(input(\"이동 속도(km/h) : \"))\n",
    "\n",
    "time = "
   ]
  },
  {
   "cell_type": "markdown",
   "id": "54ac272e",
   "metadata": {},
   "source": [
    "# 파일 읽기"
   ]
  },
  {
   "cell_type": "code",
   "execution_count": 70,
   "id": "c5fefcd5",
   "metadata": {},
   "outputs": [
    {
     "name": "stdout",
     "output_type": "stream",
     "text": [
      "0입니다.\n",
      "1입니다.\n",
      "2입니다.\n",
      "3입니다.\n",
      "4입니다.\n",
      "5입니다.\n",
      "6입니다.\n",
      "7입니다.\n",
      "8입니다.\n",
      "9입니다.\n",
      "뒤에 이어서 0입니다.\n",
      "뒤에 이어서 1입니다.\n",
      "뒤에 이어서 2입니다.\n",
      "뒤에 이어서 3입니다.\n",
      "뒤에 이어서 4입니다.\n",
      "뒤에 이어서 5입니다.\n",
      "뒤에 이어서 6입니다.\n",
      "뒤에 이어서 7입니다.\n",
      "뒤에 이어서 8입니다.\n",
      "뒤에 이어서 9입니다.\n",
      "\n"
     ]
    }
   ],
   "source": [
    "import os \n",
    "os.getcwd()\n",
    "\n",
    "#r:읽기보드\n",
    "#w:쓰기모드\n",
    "#a:추가모드\n",
    "\n",
    "file = open(\"./무제.txt\",\"r\")\n",
    "lines = file.read()\n",
    "print(lines)\n",
    "\n",
    "#열려있는 파일 객체를 닫아주는 역할(생략가능)\n",
    "file.close()\n"
   ]
  },
  {
   "cell_type": "markdown",
   "id": "a4eca0ee",
   "metadata": {},
   "source": [
    "## 여러 모드 해보자"
   ]
  },
  {
   "cell_type": "code",
   "execution_count": 67,
   "id": "9f24ae4d",
   "metadata": {},
   "outputs": [],
   "source": [
    "file = open(\"./무제.txt\",\"w\")\n",
    "\n",
    "for i in range(10):\n",
    "    data = \"%d입니다.\\n\"%i\n",
    "    file.write(data)\n",
    "    \n"
   ]
  },
  {
   "cell_type": "code",
   "execution_count": 69,
   "id": "a31ef7cb",
   "metadata": {},
   "outputs": [],
   "source": [
    "file = open(\"./무제.txt\",\"a\")\n",
    "\n",
    "for i in range(10):\n",
    "    data = \"뒤에 이어서 %d입니다.\\n\"%i\n",
    "    file.write(data)"
   ]
  },
  {
   "cell_type": "markdown",
   "id": "e486f816",
   "metadata": {},
   "source": [
    "readlines() : 파일의 모든 줄을 읽어서 각각의 줄을 요소로 갖는 리스트로 돌려준다. "
   ]
  },
  {
   "cell_type": "code",
   "execution_count": 72,
   "id": "acfdfa07",
   "metadata": {},
   "outputs": [
    {
     "name": "stdout",
     "output_type": "stream",
     "text": [
      "['0입니다.\\n', '1입니다.\\n', '2입니다.\\n', '3입니다.\\n', '4입니다.\\n', '5입니다.\\n', '6입니다.\\n', '7입니다.\\n', '8입니다.\\n', '9입니다.\\n', '뒤에 이어서 0입니다.\\n', '뒤에 이어서 1입니다.\\n', '뒤에 이어서 2입니다.\\n', '뒤에 이어서 3입니다.\\n', '뒤에 이어서 4입니다.\\n', '뒤에 이어서 5입니다.\\n', '뒤에 이어서 6입니다.\\n', '뒤에 이어서 7입니다.\\n', '뒤에 이어서 8입니다.\\n', '뒤에 이어서 9입니다.\\n']\n",
      "0입니다.\n",
      "\n",
      "1입니다.\n",
      "\n",
      "2입니다.\n",
      "\n",
      "3입니다.\n",
      "\n",
      "4입니다.\n",
      "\n",
      "5입니다.\n",
      "\n",
      "6입니다.\n",
      "\n",
      "7입니다.\n",
      "\n",
      "8입니다.\n",
      "\n",
      "9입니다.\n",
      "\n",
      "뒤에 이어서 0입니다.\n",
      "\n",
      "뒤에 이어서 1입니다.\n",
      "\n",
      "뒤에 이어서 2입니다.\n",
      "\n",
      "뒤에 이어서 3입니다.\n",
      "\n",
      "뒤에 이어서 4입니다.\n",
      "\n",
      "뒤에 이어서 5입니다.\n",
      "\n",
      "뒤에 이어서 6입니다.\n",
      "\n",
      "뒤에 이어서 7입니다.\n",
      "\n",
      "뒤에 이어서 8입니다.\n",
      "\n",
      "뒤에 이어서 9입니다.\n",
      "\n"
     ]
    }
   ],
   "source": [
    "file = open(\"./무제.txt\",\"r\")\n",
    "lines = file.readlines()\n",
    "\n",
    "print(lines)\n",
    "\n",
    "for line in lines:\n",
    "    print(line)\n",
    "    \n",
    "    \n",
    "file.close()"
   ]
  },
  {
   "cell_type": "code",
   "execution_count": 76,
   "id": "f8645ddf",
   "metadata": {},
   "outputs": [
    {
     "name": "stdout",
     "output_type": "stream",
     "text": [
      "0입니다.\n",
      "1입니다.\n",
      "2입니다.\n",
      "3입니다.\n",
      "4입니다.\n",
      "5입니다.\n",
      "6입니다.\n",
      "7입니다.\n",
      "8입니다.\n",
      "9입니다.\n",
      "뒤에 이어서 0입니다.\n",
      "뒤에 이어서 1입니다.\n",
      "뒤에 이어서 2입니다.\n",
      "뒤에 이어서 3입니다.\n",
      "뒤에 이어서 4입니다.\n",
      "뒤에 이어서 5입니다.\n",
      "뒤에 이어서 6입니다.\n",
      "뒤에 이어서 7입니다.\n",
      "뒤에 이어서 8입니다.\n",
      "뒤에 이어서 9입니다.\n"
     ]
    }
   ],
   "source": [
    "#파일에서 한 줄씩 읽어오기\n",
    "\n",
    "file = open(\"./무제.txt\",\"r\")\n",
    "line = file.readline().rstrip()\n",
    "#print(line)\n",
    "\n",
    "while line!=\"\":\n",
    "    print(line)\n",
    "    line = file.readline().rstrip()\n",
    "    \n",
    "file.close()\n"
   ]
  },
  {
   "cell_type": "code",
   "execution_count": 77,
   "id": "49bfa68b",
   "metadata": {},
   "outputs": [
    {
     "name": "stdout",
     "output_type": "stream",
     "text": [
      "0입니다.\n",
      "1입니다.\n",
      "2입니다.\n",
      "3입니다.\n",
      "4입니다.\n",
      "5입니다.\n",
      "6입니다.\n",
      "7입니다.\n",
      "8입니다.\n",
      "9입니다.\n",
      "뒤에 이어서 0입니다.\n",
      "뒤에 이어서 1입니다.\n",
      "뒤에 이어서 2입니다.\n",
      "뒤에 이어서 3입니다.\n",
      "뒤에 이어서 4입니다.\n",
      "뒤에 이어서 5입니다.\n",
      "뒤에 이어서 6입니다.\n",
      "뒤에 이어서 7입니다.\n",
      "뒤에 이어서 8입니다.\n",
      "뒤에 이어서 9입니다.\n"
     ]
    }
   ],
   "source": [
    "file = open(\"./무제.txt\",\"r\")\n",
    "\n",
    "for line in file:\n",
    "    # for를 이용하면 readline() 같은 역할인건가?\n",
    "    line = line.rstrip()\n",
    "    print(line)\n",
    "    \n",
    "file.close()"
   ]
  },
  {
   "cell_type": "code",
   "execution_count": 82,
   "id": "bdb66b40",
   "metadata": {},
   "outputs": [
    {
     "name": "stdout",
     "output_type": "stream",
     "text": [
      "['구분', '상위행정단위', '구행정단위', '예보지점', '예보발표시각', '예보간격', '예보시각', '날씨아이콘', '날씨설명', '습도', '온도', '풍향코드', '풍속', '강수확률', '강수량', '적설량']\n",
      "['1', '서울특별시', '구로구', 'G01', '20210109080000 ', 'timeWeather', '20210109120000 ', '2', '구름조금', '10', '-2', '8', '4', '30', '-', '-']\n",
      "['1', '서울특별시', '구로구', 'G02', '20210109080000 ', 'timeWeather', '20210109120000 ', '1', '맑음', '0', '-1', '8', '6', '25', '-', '-']\n",
      "['1', '서울특별시', '구로구', 'G03', '20210109080000 ', 'timeWeather', '20210109120000 ', '2', '구름조금', '10', '-3', '7', '6', '35', '-', '-']\n",
      "['1', '서울특별시', '구로구', 'G04', '20210109080000 ', 'timeWeather', '20210109120000 ', '1', '맑음', '0', '-6', '8', '6', '45', '-', '-']\n",
      "['1', '서울특별시', '구로구', 'G05', '20210109080000 ', 'timeWeather', '20210109120000 ', '1', '맑음', '0', '-8', '8', '4', '40', '-', '-']\n",
      "['1', '서울특별시', '구로구', 'G06', '20210109080000 ', 'timeWeather', '20210109120000 ', '1', '맑음', '0', '-8', '8', '2', '45', '-', '-']\n",
      "['1', '서울특별시', '구로구', 'G07', '20210109080000 ', 'timeWeather', '20210109120000 ', '1', '맑음', '0', '-8', '1', '1', '40', '-', '-']\n",
      "['1', '서울특별시', '구로구', 'G08', '20210109080000 ', 'timeWeather', '20210109120000 ', '1', '맑음', '0', '-8', '1', '0', '45', '-', '-']\n",
      "['1', '서울특별시', '구로구', 'G09', '20210109080000 ', 'timeWeather', '20210109120000 ', '2', '구름조금', '10', '-4', '5', '0', '30', '-', '-']\n",
      "['1', '서울특별시', '구로구', 'G10', '20210109080000 ', 'timeWeather', '20210109120000 ', '2', '구름조금', '10', '-2', '8', '1', '20', '-', '-']\n",
      "['1', '서울특별시', '구로구', 'G01', '20210109080000 ', 'timeWeather', '20210109130000 ', '2', '구름조금', '10', '-2', '8', '1', '20', '-', '-']\n",
      "['1', '서울특별시', '구로구', 'G02', '20210109080000 ', 'timeWeather', '20210109130000 ', '3', '구름많음', '20', '-3', '7', '1', '25', '-', '-']\n",
      "['1', '서울특별시', '구로구', 'G03', '20210109080000 ', 'timeWeather', '20210109130000 ', '3', '구름많음', '20', '-4', '8', '1', '30', '-', '-']\n",
      "['1', '서울특별시', '구로구', 'G04', '20210109080000 ', 'timeWeather', '20210109130000 ', '3', '구름많음', '20', '-4', '2', '0', '35', '-', '-']\n",
      "['1', '서울특별시', '구로구', 'G05', '20210109080000 ', 'timeWeather', '20210109130000 ', '3', '구름많음', '20', '-5', '5', '0', '45', '-', '-']\n",
      "['1', '서울특별시', '구로구', 'G06', '20210109080000 ', 'timeWeather', '20210109130000 ', '3', '구름많음', '20', '-4', '4', '1', '55', '-', '-']\n",
      "['1', '서울특별시', '구로구', 'G07', '20210109080000 ', 'timeWeather', '20210109130000 ', '3', '구름많음', '20', '1', '4', '1', '50', '-', '-']\n",
      "['1', '서울특별시', '구로구', 'G08', '20210109080000 ', 'timeWeather', '20210109130000 ', '3', '구름많음', '20', '3', '6', '1', '45', '-', '-']\n",
      "['1', '서울특별시', '구로구', 'G09', '20210109080000 ', 'timeWeather', '20210109130000 ', '2', '구름조금', '10', '1', '0', '0', '50', '-', '-']\n",
      "['1', '서울특별시', '구로구', 'G10', '20210109080000 ', 'timeWeather', '20210109130000 ', '2', '구름조금', '10', '0', '6', '2', '65', '-', '-']\n",
      "['1', '서울특별시', '구로구', 'G01', '20210109080000 ', 'timeWeather', '20210109140000 ', '2', '구름조금', '10', '0', '7', '2', '70', '-', '-']\n",
      "['2', '서울특별시', '구로구', 'G02', '20210109080000 ', 'timeWeather', '20210109140000 ', '5', '흐리고 비', '1', '2', '2', '2', '75', '', '-']\n",
      "['2', '서울특별시', '구로구', 'G03', '20210109080000 ', 'timeWeather', '20210109140000 ', '8', '소나기', '2', '2', '2', '4', '80', '', '-']\n",
      "['2', '서울특별시', '구로구', 'G04', '20210109080000 ', 'timeWeather', '20210109140000 ', '8', '소나기', '2', '2', '2', '3', '75', '', '-']\n",
      "['2', '서울특별시', '구로구', 'G05', '20210109080000 ', 'timeWeather', '20210109140000 ', '2', '구름조금', '-', '-', '-', '-', '-', '-', '-']\n",
      "['2', '서울특별시', '구로구', 'G06', '20210109080000 ', 'timeWeather', '20210109140000 ', '1', '맑음', '-', '-', '-', '-', '-', '-', '-']\n",
      "['2', '서울특별시', '구로구', 'G07', '20210109080000 ', 'timeWeather', '20210109140000 ', '2', '구름조금', '-', '-', '-', '-', '-', '-', '-']\n",
      "['2', '서울특별시', '구로구', 'G08', '20210109080000 ', 'timeWeather', '20210109140000 ', '2', '구름조금', '10', '-2', '8', '4', '30', '-', '-']\n",
      "['2', '서울특별시', '구로구', 'G09', '20210109080000 ', 'timeWeather', '20210109140000 ', '1', '맑음', '0', '-1', '8', '6', '25', '-', '-']\n",
      "['2', '서울특별시', '구로구', 'G10', '20210109080000 ', 'timeWeather', '20210109140000 ', '2', '구름조금', '10', '-3', '7', '6', '35', '-', '-']\n",
      "['2', '서울특별시', '구로구', 'G01', '20210109080000 ', 'timeWeather', '20210109150000 ', '1', '맑음', '0', '-6', '8', '6', '45', '-', '-']\n",
      "['2', '서울특별시', '구로구', 'G02', '20210109080000 ', 'timeWeather', '20210109150000 ', '1', '맑음', '0', '-8', '8', '4', '40', '-', '-']\n",
      "['2', '서울특별시', '구로구', 'G03', '20210109080000 ', 'timeWeather', '20210109150000 ', '1', '맑음', '0', '-8', '8', '2', '45', '-', '-']\n",
      "['2', '서울특별시', '구로구', 'G04', '20210109080000 ', 'timeWeather', '20210109150000 ', '1', '맑음', '0', '-8', '1', '1', '40', '-', '-']\n",
      "['2', '서울특별시', '구로구', 'G05', '20210109080000 ', 'timeWeather', '20210109150000 ', '1', '맑음', '0', '-8', '1', '0', '45', '-', '-']\n",
      "['2', '서울특별시', '구로구', 'G06', '20210109080000 ', 'timeWeather', '20210109150000 ', '2', '구름조금', '10', '-4', '5', '0', '30', '-', '-']\n",
      "['2', '서울특별시', '구로구', 'G07', '20210109080000 ', 'timeWeather', '20210109150000 ', '2', '구름조금', '10', '-2', '8', '1', '20', '-', '-']\n",
      "['2', '서울특별시', '구로구', 'G08', '20210109080000 ', 'timeWeather', '20210109150000 ', '2', '구름조금', '10', '-2', '8', '1', '20', '-', '-']\n",
      "['2', '서울특별시', '구로구', 'G09', '20210109080000 ', 'timeWeather', '20210109150000 ', '3', '구름많음', '20', '-3', '7', '1', '25', '-', '-']\n",
      "['2', '서울특별시', '구로구', 'G10', '20210109080000 ', 'timeWeather', '20210109150000 ', '3', '구름많음', '20', '-4', '8', '1', '30', '-', '-']\n",
      "['2', '서울특별시', '구로구', 'G01', '20210109080000 ', 'timeWeather', '20210109160000 ', '3', '구름많음', '20', '-4', '2', '0', '35', '-', '-']\n",
      "['2', '서울특별시', '구로구', 'G02', '20210109080000 ', 'timeWeather', '20210109160000 ', '3', '구름많음', '20', '-5', '5', '0', '45', '-', '-']\n",
      "['2', '서울특별시', '구로구', 'G03', '20210109080000 ', 'timeWeather', '20210109160000 ', '3', '구름많음', '20', '-4', '4', '1', '55', '-', '-']\n",
      "['2', '서울특별시', '구로구', 'G04', '20210109080000 ', 'timeWeather', '20210109160000 ', '3', '구름많음', '20', '1', '4', '1', '50', '-', '-']\n",
      "['2', '서울특별시', '구로구', 'G05', '20210109080000 ', 'timeWeather', '20210109160000 ', '3', '구름많음', '20', '3', '6', '1', '45', '-', '-']\n",
      "['2', '서울특별시', '구로구', 'G06', '20210109080000 ', 'timeWeather', '20210109160000 ', '2', '구름조금', '10', '1', '0', '0', '50', '-', '-']\n",
      "['2', '서울특별시', '구로구', 'G07', '20210109080000 ', 'timeWeather', '20210109160000 ', '2', '구름조금', '10', '0', '6', '2', '65', '-', '-']\n",
      "['2', '서울특별시', '구로구', 'G08', '20210109080000 ', 'timeWeather', '20210109160000 ', '2', '구름조금', '10', '0', '7', '2', '70', '-', '-']\n",
      "['3', '서울특별시', '구로구', 'G09', '20210109080000 ', 'timeWeather', '20210109160000 ', '2', '구름조금', '10', '-2', '8', '4', '30', '-', '-']\n",
      "['3', '서울특별시', '구로구', 'G10', '20210109080000 ', 'timeWeather', '20210109160000 ', '1', '맑음', '0', '-1', '8', '6', '25', '-', '-']\n",
      "['3', '서울특별시', '구로구', 'G01', '20210109080000 ', 'timeWeather', '20210109170000 ', '2', '구름조금', '10', '-3', '7', '6', '35', '-', '-']\n",
      "['3', '서울특별시', '구로구', 'G02', '20210109080000 ', 'timeWeather', '20210109170000 ', '1', '맑음', '0', '-6', '8', '6', '45', '-', '-']\n",
      "['3', '서울특별시', '구로구', 'G03', '20210109080000 ', 'timeWeather', '20210109170000 ', '1', '맑음', '0', '-8', '8', '4', '40', '-', '-']\n",
      "['3', '서울특별시', '구로구', 'G04', '20210109080000 ', 'timeWeather', '20210109170000 ', '1', '맑음', '0', '-8', '8', '2', '45', '-', '-']\n",
      "['3', '서울특별시', '구로구', 'G05', '20210109080000 ', 'timeWeather', '20210109170000 ', '1', '맑음', '0', '-8', '1', '1', '40', '-', '-']\n",
      "['3', '서울특별시', '구로구', 'G06', '20210109080000 ', 'timeWeather', '20210109170000 ', '1', '맑음', '0', '-8', '1', '0', '45', '-', '-']\n",
      "['3', '서울특별시', '구로구', 'G07', '20210109080000 ', 'timeWeather', '20210109170000 ', '2', '구름조금', '10', '-4', '5', '0', '30', '-', '-']\n",
      "['3', '서울특별시', '구로구', 'G08', '20210109080000 ', 'timeWeather', '20210109170000 ', '2', '구름조금', '10', '-2', '8', '1', '20', '-', '-']\n",
      "['3', '서울특별시', '구로구', 'G09', '20210109080000 ', 'timeWeather', '20210109170000 ', '2', '구름조금', '10', '-2', '8', '1', '20', '-', '-']\n",
      "['3', '서울특별시', '구로구', 'G10', '20210109080000 ', 'timeWeather', '20210109170000 ', '3', '구름많음', '20', '-3', '7', '1', '25', '-', '-']\n",
      "['3', '서울특별시', '구로구', 'G01', '20210109080000 ', 'timeWeather', '20210109180000 ', '3', '구름많음', '20', '-4', '8', '1', '30', '-', '-']\n",
      "['3', '서울특별시', '구로구', 'G02', '20210109080000 ', 'timeWeather', '20210109180000 ', '3', '구름많음', '20', '-4', '2', '0', '35', '-', '-']\n",
      "['3', '서울특별시', '구로구', 'G03', '20210109080000 ', 'timeWeather', '20210109180000 ', '3', '구름많음', '20', '-5', '5', '0', '45', '-', '-']\n",
      "['3', '서울특별시', '구로구', 'G04', '20210109080000 ', 'timeWeather', '20210109180000 ', '3', '구름많음', '20', '-4', '4', '1', '55', '-', '-']\n",
      "['3', '서울특별시', '구로구', 'G05', '20210109080000 ', 'timeWeather', '20210109180000 ', '3', '구름많음', '20', '1', '4', '1', '50', '-', '-']\n",
      "['3', '서울특별시', '구로구', 'G06', '20210109080000 ', 'timeWeather', '20210109180000 ', '3', '구름많음', '20', '3', '6', '1', '45', '-', '-']\n",
      "['3', '서울특별시', '구로구', 'G07', '20210109080000 ', 'timeWeather', '20210109180000 ', '2', '구름조금', '10', '1', '0', '0', '50', '-', '-']\n",
      "['3', '서울특별시', '구로구', 'G08', '20210109080000 ', 'timeWeather', '20210109180000 ', '2', '구름조금', '10', '0', '6', '2', '65', '-', '-']\n",
      "['3', '서울특별시', '구로구', 'G09', '20210109080000 ', 'timeWeather', '20210109180000 ', '2', '구름조금', '10', '0', '7', '2', '70', '-', '-']\n",
      "['4', '서울특별시', '구로구', 'G10', '20210109080000 ', 'timeWeather', '20210109180000 ', '2', '구름조금', '10', '-2', '8', '4', '30', '-', '-']\n",
      "['4', '서울특별시', '구로구', 'G01', '20210109080000 ', 'timeWeather', '20210109190000 ', '1', '맑음', '0', '-1', '8', '6', '25', '-', '-']\n",
      "['4', '서울특별시', '구로구', 'G02', '20210109080000 ', 'timeWeather', '20210109190000 ', '2', '구름조금', '10', '-3', '7', '6', '35', '-', '-']\n",
      "['4', '서울특별시', '구로구', 'G03', '20210109080000 ', 'timeWeather', '20210109190000 ', '1', '맑음', '0', '-6', '8', '6', '45', '-', '-']\n",
      "['4', '서울특별시', '구로구', 'G04', '20210109080000 ', 'timeWeather', '20210109190000 ', '1', '맑음', '0', '-8', '8', '4', '40', '-', '-']\n",
      "['4', '서울특별시', '구로구', 'G05', '20210109080000 ', 'timeWeather', '20210109190000 ', '1', '맑음', '0', '-8', '8', '2', '45', '-', '-']\n",
      "['4', '서울특별시', '구로구', 'G06', '20210109080000 ', 'timeWeather', '20210109190000 ', '1', '맑음', '0', '-8', '1', '1', '40', '-', '-']\n",
      "['4', '서울특별시', '구로구', 'G07', '20210109080000 ', 'timeWeather', '20210109190000 ', '1', '맑음', '0', '-8', '1', '0', '45', '-', '-']\n",
      "['4', '서울특별시', '구로구', 'G08', '20210109080000 ', 'timeWeather', '20210109190000 ', '2', '구름조금', '10', '-4', '5', '0', '30', '-', '-']\n",
      "['4', '서울특별시', '구로구', 'G09', '20210109080000 ', 'timeWeather', '20210109190000 ', '2', '구름조금', '10', '-2', '8', '1', '20', '-', '-']\n",
      "['4', '서울특별시', '구로구', 'G10', '20210109080000 ', 'timeWeather', '20210109190000 ', '2', '구름조금', '10', '-2', '8', '1', '20', '-', '-']\n",
      "['4', '서울특별시', '구로구', 'G01', '20210109080000 ', 'timeWeather', '20210109200000 ', '3', '구름많음', '20', '-3', '7', '1', '25', '-', '-']\n",
      "['4', '서울특별시', '구로구', 'G02', '20210109080000 ', 'timeWeather', '20210109200000 ', '3', '구름많음', '20', '-4', '8', '1', '30', '-', '-']\n",
      "['4', '서울특별시', '구로구', 'G03', '20210109080000 ', 'timeWeather', '20210109200000 ', '3', '구름많음', '20', '-4', '2', '0', '35', '-', '-']\n",
      "['4', '서울특별시', '구로구', 'G04', '20210109080000 ', 'timeWeather', '20210109200000 ', '3', '구름많음', '20', '-5', '5', '0', '45', '-', '-']\n",
      "['4', '서울특별시', '구로구', 'G05', '20210109080000 ', 'timeWeather', '20210109200000 ', '3', '구름많음', '20', '-4', '4', '1', '55', '-', '-']\n",
      "['4', '서울특별시', '구로구', 'G06', '20210109080000 ', 'timeWeather', '20210109200000 ', '3', '구름많음', '20', '1', '4', '1', '50', '-', '-']\n",
      "['4', '서울특별시', '구로구', 'G07', '20210109080000 ', 'timeWeather', '20210109200000 ', '3', '구름많음', '20', '3', '6', '1', '45', '-', '-']\n",
      "['4', '서울특별시', '구로구', 'G08', '20210109080000 ', 'timeWeather', '20210109200000 ', '2', '구름조금', '10', '1', '0', '0', '50', '-', '-']\n",
      "['4', '서울특별시', '구로구', 'G09', '20210109080000 ', 'timeWeather', '20210109200000 ', '2', '구름조금', '10', '0', '6', '2', '65', '-', '-']\n",
      "['4', '서울특별시', '구로구', 'G10', '20210109080000 ', 'timeWeather', '20210109200000 ', '2', '구름조금', '10', '0', '7', '2', '70', '-', '-']\n"
     ]
    }
   ],
   "source": [
    "import csv\n",
    "\n",
    "#'utf-8'\n",
    "#'cp949'\n",
    "file = open(\"./서울특별시_구로구날씨20210930.CSV\",encoding='cp949')\n",
    "data = csv.reader(file)\n",
    "\n",
    "for line in data:\n",
    "    print(line)\n",
    "    \n"
   ]
  },
  {
   "cell_type": "markdown",
   "id": "c9cd8157",
   "metadata": {},
   "source": [
    "## 파일 복사하기"
   ]
  },
  {
   "cell_type": "markdown",
   "id": "a81c057a",
   "metadata": {},
   "source": [
    "**import shutil** 을 이용한 파일,폴더 복사\n",
    "파일복사<br>\n",
    "shutil.copyfile(\"복사할 파일\", \"복사 파일명\") # 메타정보 복사 안됨<br>\n",
    "shutil.copy(\"복사할 파일\",\"복사 파일명\")#메타정보 복사 안됨<br>\n",
    "shutil.copy2(\"복사할 파일\",\"복사 파일명\") #메타정보 복사 됨<br>\n",
    "\n",
    "폴더복사<br>\n",
    "shutil.copytree(\"./test1\",\"./test2\")<br>\n"
   ]
  },
  {
   "cell_type": "code",
   "execution_count": 1,
   "id": "89885b29",
   "metadata": {},
   "outputs": [],
   "source": [
    "import shutil"
   ]
  },
  {
   "cell_type": "code",
   "execution_count": 2,
   "id": "bdb22f3f",
   "metadata": {},
   "outputs": [
    {
     "data": {
      "text/plain": [
       "'./무제복사.txt'"
      ]
     },
     "execution_count": 2,
     "metadata": {},
     "output_type": "execute_result"
    }
   ],
   "source": [
    "shutil.copyfile(\"./무제.txt\",\"./무제복사.txt\")"
   ]
  },
  {
   "cell_type": "code",
   "execution_count": 4,
   "id": "1e829093",
   "metadata": {},
   "outputs": [
    {
     "name": "stdout",
     "output_type": "stream",
     "text": [
      "입력 파일 이름: ./무제.txt\n",
      "출력 파일 이름: ./무제복사2.txt\n"
     ]
    }
   ],
   "source": [
    "#파일을 복사하는 프로그램이라고 한다면? \n",
    "import shutil\n",
    "\n",
    "def copy(filename,copyfilename):\n",
    "    shutil.copyfile(filename,copyfilename)\n",
    "  \n",
    "\n",
    "    \n",
    "fileName = str(input(\"입력 파일 이름: \"))\n",
    "copyFileName = str(input(\"출력 파일 이름: \"))\n",
    "\n",
    "copy(fileName,copyFileName)\n",
    "\n",
    "    "
   ]
  },
  {
   "cell_type": "markdown",
   "id": "fef14b51",
   "metadata": {},
   "source": [
    "## 연설문 데이터 분석"
   ]
  },
  {
   "cell_type": "code",
   "execution_count": 69,
   "id": "a85ed917",
   "metadata": {},
   "outputs": [],
   "source": [
    "file = open(\"./링컨연설문.txt\",\"r\") #파일 불러오고\n",
    "text = file.read() #전문 읽기"
   ]
  },
  {
   "cell_type": "code",
   "execution_count": 70,
   "id": "89f013d5",
   "metadata": {},
   "outputs": [
    {
     "name": "stdout",
     "output_type": "stream",
     "text": [
      "['Four', 'score', 'and', 'seven', 'years', 'ago', 'our', 'fathers', 'brought', 'forth', 'on', 'this', 'continent,', 'a', 'new', 'nation,', 'conceived', 'in', 'Liberty,', 'and', 'dedicated', 'to', 'the', 'proposition', 'that', 'all', 'men', 'are', 'created', 'equal.', 'Now', 'we', 'are', 'engaged', 'in', 'a', 'great', 'civil', 'war,', 'testing', 'whether', 'that', 'nation,', 'or', 'any', 'nation', 'so', 'conceived', 'and', 'so', 'dedicated,', 'can', 'long', 'endure.', 'We', 'are', 'met', 'on', 'a', 'great', 'battle-field', 'of', 'that', 'war.', 'We', 'have', 'come', 'to', 'dedicate', 'a', 'portion', 'of', 'that', 'field,', 'as', 'a', 'final', 'resting', 'place', 'for', 'those', 'who', 'here', 'gave', 'their', 'lives', 'that', 'that', 'nation', 'might', 'live.', 'It', 'is', 'altogether', 'fitting', 'and', 'proper', 'that', 'we', 'should', 'do', 'this.', 'But,', 'in', 'a', 'larger', 'sense,', 'we', 'can', 'not', 'dedicate', 'we', 'can', 'not', 'consecrate', 'we', 'can', 'not', 'hallow', 'this', 'ground.', 'The', 'brave', 'men,', 'living', 'and', 'dead,', 'who', 'struggled', 'here,', 'have', 'consecrated', 'it,', 'far', 'above', 'our', 'poor', 'power', 'to', 'add', 'or', 'detract.', 'The', 'world', 'will', 'little', 'note,', 'nor', 'long', 'remember', 'what', 'we', 'say', 'here,', 'but', 'it', 'can', 'never', 'forget', 'what', 'they', 'did', 'here.', 'It', 'is', 'for', 'us', 'the', 'living,', 'rather,', 'to', 'be', 'dedicated', 'here', 'to', 'the', 'unfinished', 'work', 'which', 'they', 'who', 'fought', 'here', 'have', 'thus', 'far', 'so', 'nobly', 'advanced.', 'It', 'is', 'rather', 'for', 'us', 'to', 'be', 'here', 'dedicated', 'to', 'the', 'great', 'task', 'remaining', 'before', 'us', 'that', 'from', 'these', 'honored', 'dead', 'we', 'take', 'increased', 'devotion', 'to', 'that', 'cause', 'for', 'which', 'they', 'gave', 'the', 'last', 'full', 'measure', 'of', 'devotion', 'that', 'we', 'here', 'highly', 'resolve', 'that', 'these', 'dead', 'shall', 'not', 'have', 'died', 'in', 'vain', 'that', 'this', 'nation,', 'under', 'God,', 'shall', 'have', 'a', 'new', 'birth', 'of', 'freedom', 'and', 'that', 'government', 'of', 'the', 'people,', 'by', 'the', 'people,', 'for', 'the', 'people,', 'shall', 'not', 'perish', 'from', 'the', 'earth.']\n"
     ]
    }
   ],
   "source": [
    "wordlist = text.split() #띄어쓰기 단위로 자르면 음...\n",
    "\n",
    "print(wordlist)"
   ]
  },
  {
   "cell_type": "code",
   "execution_count": 71,
   "id": "a2077b2d",
   "metadata": {},
   "outputs": [
    {
     "name": "stdout",
     "output_type": "stream",
     "text": [
      "{'four': 1, 'score': 1, 'and': 6, 'seven': 1, 'years': 1, 'ago': 1, 'our': 2, 'fathers': 1, 'brought': 1, 'forth': 1, 'on': 2, 'this': 4, 'continent': 1, 'a': 7, 'new': 2, 'nation': 5, 'conceived': 2, 'in': 4, 'liberty': 1, 'dedicated': 4, 'to': 8, 'the': 11, 'proposition': 1, 'that': 13, 'all': 1, 'men': 2, 'are': 3, 'created': 1, 'equal': 1, 'now': 1, 'we': 10, 'engaged': 1, 'great': 3, 'civil': 1, 'war': 2, 'testing': 1, 'whether': 1, 'or': 2, 'any': 1, 'so': 3, 'can': 5, 'long': 2, 'endure': 1, 'met': 1, 'battle-field': 1, 'of': 5, 'have': 5, 'come': 1, 'dedicate': 2, 'portion': 1, 'field': 1, 'as': 1, 'final': 1, 'resting': 1, 'place': 1, 'for': 5, 'those': 1, 'who': 3, 'here': 8, 'gave': 2, 'their': 1, 'lives': 1, 'might': 1, 'live': 1, 'it': 5, 'is': 3, 'altogether': 1, 'fitting': 1, 'proper': 1, 'should': 1, 'do': 1, 'but': 2, 'larger': 1, 'sense': 1, 'not': 5, 'consecrate': 1, 'hallow': 1, 'ground': 1, 'brave': 1, 'living': 2, 'dead': 3, 'struggled': 1, 'consecrated': 1, 'far': 2, 'above': 1, 'poor': 1, 'power': 1, 'add': 1, 'detract': 1, 'world': 1, 'will': 1, 'little': 1, 'note': 1, 'nor': 1, 'remember': 1, 'what': 2, 'say': 1, 'never': 1, 'forget': 1, 'they': 3, 'did': 1, 'us': 3, 'rather': 2, 'be': 2, 'unfinished': 1, 'work': 1, 'which': 2, 'fought': 1, 'thus': 1, 'nobly': 1, 'advanced': 1, 'task': 1, 'remaining': 1, 'before': 1, 'from': 2, 'these': 2, 'honored': 1, 'take': 1, 'increased': 1, 'devotion': 2, 'cause': 1, 'last': 1, 'full': 1, 'measure': 1, 'highly': 1, 'resolve': 1, 'shall': 3, 'died': 1, 'vain': 1, 'under': 1, 'god': 1, 'birth': 1, 'freedom': 1, 'government': 1, 'people': 3, 'by': 1, 'perish': 1, 'earth': 1}\n"
     ]
    }
   ],
   "source": [
    "wordCount = {}\n",
    "remove = \",.'!?\"\n",
    "\n",
    "\n",
    "\n",
    "\n",
    "for word in wordlist:\n",
    "    \n",
    "    \n",
    "    #문자열에서 공백제거\n",
    "    newWord = word.strip()\n",
    "    \n",
    "    #특정 문자 제거\n",
    "    for i in range(len(remove)):\n",
    "        newWord = newWord.replace(remove[i],\"\")\n",
    "        \n",
    "    #소문자로 변환\n",
    "    lowerWord = newWord.lower()\n",
    "        \n",
    "    #키가 있는지 확인해야\n",
    "    if wordCount.get(lowerWord):\n",
    "        countNum = wordCount[lowerWord]\n",
    "        countNum +=1\n",
    "        wordCount[lowerWord] = countNum\n",
    "\n",
    "    else:\n",
    "        wordCount[lowerWord] = 1\n",
    "\n",
    "    \n",
    "print(wordCount)\n"
   ]
  },
  {
   "cell_type": "code",
   "execution_count": 72,
   "id": "444061d1",
   "metadata": {},
   "outputs": [
    {
     "name": "stdout",
     "output_type": "stream",
     "text": [
      "[('a', 7), ('above', 1), ('add', 1), ('advanced', 1), ('ago', 1), ('all', 1), ('altogether', 1), ('and', 6), ('any', 1), ('are', 3), ('as', 1), ('battle-field', 1), ('be', 2), ('before', 1), ('birth', 1), ('brave', 1), ('brought', 1), ('but', 2), ('by', 1), ('can', 5), ('cause', 1), ('civil', 1), ('come', 1), ('conceived', 2), ('consecrate', 1), ('consecrated', 1), ('continent', 1), ('created', 1), ('dead', 3), ('dedicate', 2), ('dedicated', 4), ('detract', 1), ('devotion', 2), ('did', 1), ('died', 1), ('do', 1), ('earth', 1), ('endure', 1), ('engaged', 1), ('equal', 1), ('far', 2), ('fathers', 1), ('field', 1), ('final', 1), ('fitting', 1), ('for', 5), ('forget', 1), ('forth', 1), ('fought', 1), ('four', 1), ('freedom', 1), ('from', 2), ('full', 1), ('gave', 2), ('god', 1), ('government', 1), ('great', 3), ('ground', 1), ('hallow', 1), ('have', 5), ('here', 8), ('highly', 1), ('honored', 1), ('in', 4), ('increased', 1), ('is', 3), ('it', 5), ('larger', 1), ('last', 1), ('liberty', 1), ('little', 1), ('live', 1), ('lives', 1), ('living', 2), ('long', 2), ('measure', 1), ('men', 2), ('met', 1), ('might', 1), ('nation', 5), ('never', 1), ('new', 2), ('nobly', 1), ('nor', 1), ('not', 5), ('note', 1), ('now', 1), ('of', 5), ('on', 2), ('or', 2), ('our', 2), ('people', 3), ('perish', 1), ('place', 1), ('poor', 1), ('portion', 1), ('power', 1), ('proper', 1), ('proposition', 1), ('rather', 2), ('remaining', 1), ('remember', 1), ('resolve', 1), ('resting', 1), ('say', 1), ('score', 1), ('sense', 1), ('seven', 1), ('shall', 3), ('should', 1), ('so', 3), ('struggled', 1), ('take', 1), ('task', 1), ('testing', 1), ('that', 13), ('the', 11), ('their', 1), ('these', 2), ('they', 3), ('this', 4), ('those', 1), ('thus', 1), ('to', 8), ('under', 1), ('unfinished', 1), ('us', 3), ('vain', 1), ('war', 2), ('we', 10), ('what', 2), ('whether', 1), ('which', 2), ('who', 3), ('will', 1), ('work', 1), ('world', 1), ('years', 1)]\n"
     ]
    }
   ],
   "source": [
    "sortWordCount = sorted(wordCount.items())\n",
    "print(sortWordCount)\n",
    "\n",
    "#하니까 대문자가 먼저 나오네 => 대문자를 소문자로 바꿔서 해결"
   ]
  },
  {
   "cell_type": "code",
   "execution_count": 73,
   "id": "ed32419d",
   "metadata": {},
   "outputs": [],
   "source": [
    "#파일 생성\n",
    "newFile = open(\"./링컨연설문WordCount.txt\",\"w\")\n",
    "newFile.close()"
   ]
  },
  {
   "cell_type": "code",
   "execution_count": 75,
   "id": "a497a5ae",
   "metadata": {},
   "outputs": [
    {
     "name": "stdout",
     "output_type": "stream",
     "text": [
      "[('a', 7), ('above', 1), ('add', 1), ('advanced', 1), ('ago', 1), ('all', 1), ('altogether', 1), ('and', 6), ('any', 1), ('are', 3), ('as', 1), ('battle-field', 1), ('be', 2), ('before', 1), ('birth', 1), ('brave', 1), ('brought', 1), ('but', 2), ('by', 1), ('can', 5), ('cause', 1), ('civil', 1), ('come', 1), ('conceived', 2), ('consecrate', 1), ('consecrated', 1), ('continent', 1), ('created', 1), ('dead', 3), ('dedicate', 2), ('dedicated', 4), ('detract', 1), ('devotion', 2), ('did', 1), ('died', 1), ('do', 1), ('earth', 1), ('endure', 1), ('engaged', 1), ('equal', 1), ('far', 2), ('fathers', 1), ('field', 1), ('final', 1), ('fitting', 1), ('for', 5), ('forget', 1), ('forth', 1), ('fought', 1), ('four', 1), ('freedom', 1), ('from', 2), ('full', 1), ('gave', 2), ('god', 1), ('government', 1), ('great', 3), ('ground', 1), ('hallow', 1), ('have', 5), ('here', 8), ('highly', 1), ('honored', 1), ('in', 4), ('increased', 1), ('is', 3), ('it', 5), ('larger', 1), ('last', 1), ('liberty', 1), ('little', 1), ('live', 1), ('lives', 1), ('living', 2), ('long', 2), ('measure', 1), ('men', 2), ('met', 1), ('might', 1), ('nation', 5), ('never', 1), ('new', 2), ('nobly', 1), ('nor', 1), ('not', 5), ('note', 1), ('now', 1), ('of', 5), ('on', 2), ('or', 2), ('our', 2), ('people', 3), ('perish', 1), ('place', 1), ('poor', 1), ('portion', 1), ('power', 1), ('proper', 1), ('proposition', 1), ('rather', 2), ('remaining', 1), ('remember', 1), ('resolve', 1), ('resting', 1), ('say', 1), ('score', 1), ('sense', 1), ('seven', 1), ('shall', 3), ('should', 1), ('so', 3), ('struggled', 1), ('take', 1), ('task', 1), ('testing', 1), ('that', 13), ('the', 11), ('their', 1), ('these', 2), ('they', 3), ('this', 4), ('those', 1), ('thus', 1), ('to', 8), ('under', 1), ('unfinished', 1), ('us', 3), ('vain', 1), ('war', 2), ('we', 10), ('what', 2), ('whether', 1), ('which', 2), ('who', 3), ('will', 1), ('work', 1), ('world', 1), ('years', 1)]\n",
      "('a', 7)\n",
      "('above', 1)\n",
      "('add', 1)\n",
      "('advanced', 1)\n",
      "('ago', 1)\n",
      "('all', 1)\n",
      "('altogether', 1)\n",
      "('and', 6)\n",
      "('any', 1)\n",
      "('are', 3)\n",
      "('as', 1)\n",
      "('battle-field', 1)\n",
      "('be', 2)\n",
      "('before', 1)\n",
      "('birth', 1)\n",
      "('brave', 1)\n",
      "('brought', 1)\n",
      "('but', 2)\n",
      "('by', 1)\n",
      "('can', 5)\n",
      "('cause', 1)\n",
      "('civil', 1)\n",
      "('come', 1)\n",
      "('conceived', 2)\n",
      "('consecrate', 1)\n",
      "('consecrated', 1)\n",
      "('continent', 1)\n",
      "('created', 1)\n",
      "('dead', 3)\n",
      "('dedicate', 2)\n",
      "('dedicated', 4)\n",
      "('detract', 1)\n",
      "('devotion', 2)\n",
      "('did', 1)\n",
      "('died', 1)\n",
      "('do', 1)\n",
      "('earth', 1)\n",
      "('endure', 1)\n",
      "('engaged', 1)\n",
      "('equal', 1)\n",
      "('far', 2)\n",
      "('fathers', 1)\n",
      "('field', 1)\n",
      "('final', 1)\n",
      "('fitting', 1)\n",
      "('for', 5)\n",
      "('forget', 1)\n",
      "('forth', 1)\n",
      "('fought', 1)\n",
      "('four', 1)\n",
      "('freedom', 1)\n",
      "('from', 2)\n",
      "('full', 1)\n",
      "('gave', 2)\n",
      "('god', 1)\n",
      "('government', 1)\n",
      "('great', 3)\n",
      "('ground', 1)\n",
      "('hallow', 1)\n",
      "('have', 5)\n",
      "('here', 8)\n",
      "('highly', 1)\n",
      "('honored', 1)\n",
      "('in', 4)\n",
      "('increased', 1)\n",
      "('is', 3)\n",
      "('it', 5)\n",
      "('larger', 1)\n",
      "('last', 1)\n",
      "('liberty', 1)\n",
      "('little', 1)\n",
      "('live', 1)\n",
      "('lives', 1)\n",
      "('living', 2)\n",
      "('long', 2)\n",
      "('measure', 1)\n",
      "('men', 2)\n",
      "('met', 1)\n",
      "('might', 1)\n",
      "('nation', 5)\n",
      "('never', 1)\n",
      "('new', 2)\n",
      "('nobly', 1)\n",
      "('nor', 1)\n",
      "('not', 5)\n",
      "('note', 1)\n",
      "('now', 1)\n",
      "('of', 5)\n",
      "('on', 2)\n",
      "('or', 2)\n",
      "('our', 2)\n",
      "('people', 3)\n",
      "('perish', 1)\n",
      "('place', 1)\n",
      "('poor', 1)\n",
      "('portion', 1)\n",
      "('power', 1)\n",
      "('proper', 1)\n",
      "('proposition', 1)\n",
      "('rather', 2)\n",
      "('remaining', 1)\n",
      "('remember', 1)\n",
      "('resolve', 1)\n",
      "('resting', 1)\n",
      "('say', 1)\n",
      "('score', 1)\n",
      "('sense', 1)\n",
      "('seven', 1)\n",
      "('shall', 3)\n",
      "('should', 1)\n",
      "('so', 3)\n",
      "('struggled', 1)\n",
      "('take', 1)\n",
      "('task', 1)\n",
      "('testing', 1)\n",
      "('that', 13)\n",
      "('the', 11)\n",
      "('their', 1)\n",
      "('these', 2)\n",
      "('they', 3)\n",
      "('this', 4)\n",
      "('those', 1)\n",
      "('thus', 1)\n",
      "('to', 8)\n",
      "('under', 1)\n",
      "('unfinished', 1)\n",
      "('us', 3)\n",
      "('vain', 1)\n",
      "('war', 2)\n",
      "('we', 10)\n",
      "('what', 2)\n",
      "('whether', 1)\n",
      "('which', 2)\n",
      "('who', 3)\n",
      "('will', 1)\n",
      "('work', 1)\n",
      "('world', 1)\n",
      "('years', 1)\n"
     ]
    }
   ],
   "source": [
    "writeFile = open(\"./링컨연설문WordCount.txt\",\"w\")\n",
    "\n",
    "#정렬 => 딕셔너리가 튜플리스트가 됨. 여기에서 \n",
    "sortWordCount = sorted(wordCount.items())\n",
    "print(sortWordCount)\n",
    "\n",
    "#리스트 길이만큼 \n",
    "for key in range(len(sortWordCount)):\n",
    "    print(sortWordCount[key])\n",
    "    \n",
    "    tuple = sortWordCount[key]\n",
    "    \n",
    "#     count = sortWordCount[key]\n",
    "\n",
    "    writeFile.write(tuple[0]+\" \"+str(tuple[1])+\"\\n\")\n",
    "\n",
    "writeFile.close()"
   ]
  },
  {
   "cell_type": "code",
   "execution_count": null,
   "id": "363d28e8",
   "metadata": {},
   "outputs": [],
   "source": []
  }
 ],
 "metadata": {
  "kernelspec": {
   "display_name": "Python 3 (ipykernel)",
   "language": "python",
   "name": "python3"
  },
  "language_info": {
   "codemirror_mode": {
    "name": "ipython",
    "version": 3
   },
   "file_extension": ".py",
   "mimetype": "text/x-python",
   "name": "python",
   "nbconvert_exporter": "python",
   "pygments_lexer": "ipython3",
   "version": "3.8.12"
  },
  "toc": {
   "base_numbering": 1,
   "nav_menu": {},
   "number_sections": true,
   "sideBar": true,
   "skip_h1_title": false,
   "title_cell": "Table of Contents",
   "title_sidebar": "Contents",
   "toc_cell": false,
   "toc_position": {
    "height": "calc(100% - 180px)",
    "left": "10px",
    "top": "150px",
    "width": "216px"
   },
   "toc_section_display": true,
   "toc_window_display": true
  }
 },
 "nbformat": 4,
 "nbformat_minor": 5
}
