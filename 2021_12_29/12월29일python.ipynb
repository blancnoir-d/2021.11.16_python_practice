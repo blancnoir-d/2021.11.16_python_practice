{
 "cells": [
  {
   "cell_type": "code",
   "execution_count": 2,
   "id": "0ab13086-60be-4084-bf38-a620cd1eef8d",
   "metadata": {},
   "outputs": [],
   "source": [
    "from tensorflow.keras import datasets"
   ]
  },
  {
   "cell_type": "code",
   "execution_count": 3,
   "id": "216a03f7-b965-4354-ab91-903ea5ff3d93",
   "metadata": {},
   "outputs": [],
   "source": [
    "mnist = datasets.mnist"
   ]
  },
  {
   "cell_type": "code",
   "execution_count": 4,
   "id": "11a22260-d909-4a1d-839d-838ef20bebbc",
   "metadata": {},
   "outputs": [],
   "source": [
    "(x_train, y_train),(x_test, y_test) = mnist.load_data()"
   ]
  },
  {
   "cell_type": "code",
   "execution_count": 5,
   "id": "51d53c9f-9644-4ba3-ba3c-c9ece503d749",
   "metadata": {},
   "outputs": [],
   "source": [
    "import tensorflow as tf\n",
    "from tensorflow import keras\n",
    "import numpy as np\n",
    "import matplotlib.pyplot as plt "
   ]
  },
  {
   "cell_type": "code",
   "execution_count": 6,
   "id": "d0e8cc30-80d9-4031-8307-c9fcf024192f",
   "metadata": {},
   "outputs": [
    {
     "data": {
      "text/plain": [
       "((60000, 28, 28), (60000,))"
      ]
     },
     "execution_count": 6,
     "metadata": {},
     "output_type": "execute_result"
    }
   ],
   "source": [
    "x_train.shape, y_train.shape"
   ]
  },
  {
   "cell_type": "code",
   "execution_count": 7,
   "id": "2a524636-234e-4a4e-bb2a-95641a7720a2",
   "metadata": {},
   "outputs": [
    {
     "data": {
      "text/plain": [
       "((10000, 28, 28), (10000,))"
      ]
     },
     "execution_count": 7,
     "metadata": {},
     "output_type": "execute_result"
    }
   ],
   "source": [
    "x_test.shape, y_test.shape"
   ]
  },
  {
   "cell_type": "code",
   "execution_count": 8,
   "id": "942f2abd-dcb9-4c87-9f95-812f146b9033",
   "metadata": {},
   "outputs": [
    {
     "data": {
      "image/png": "[encoded data removed]",
      "text/plain": [
       "<Figure size 576x576 with 2 Axes>"
      ]
     },
     "metadata": {
      "needs_background": "light"
     },
     "output_type": "display_data"
    }
   ],
   "source": [
    "plt.figure(figsize=(8,8))\n",
    "plt.imshow(x_train[1])\n",
    "plt.colorbar()\n",
    "plt.grid()\n",
    "plt.show()"
   ]
  },
  {
   "cell_type": "code",
   "execution_count": 9,
   "id": "4765b760-e027-4ebe-9cc3-b88a724c712a",
   "metadata": {},
   "outputs": [
    {
     "data": {
      "text/plain": [
       "(60000, 28, 28, 1)"
      ]
     },
     "execution_count": 9,
     "metadata": {},
     "output_type": "execute_result"
    }
   ],
   "source": [
    "x_train[...,tf.newaxis].shape"
   ]
  },
  {
   "cell_type": "code",
   "execution_count": 10,
   "id": "53c44d07-7396-4e23-b122-0cd57a651080",
   "metadata": {},
   "outputs": [
    {
     "data": {
      "text/plain": [
       "(10000, 28, 28, 1)"
      ]
     },
     "execution_count": 10,
     "metadata": {},
     "output_type": "execute_result"
    }
   ],
   "source": [
    "x_test[..., tf.newaxis].shape"
   ]
  },
  {
   "cell_type": "code",
   "execution_count": 11,
   "id": "2b46f020-6493-4485-a478-3512070b133d",
   "metadata": {},
   "outputs": [
    {
     "data": {
      "text/plain": [
       "(0, 255)"
      ]
     },
     "execution_count": 11,
     "metadata": {},
     "output_type": "execute_result"
    }
   ],
   "source": [
    "np.min(x_train), np.max(x_train)"
   ]
  },
  {
   "cell_type": "code",
   "execution_count": 12,
   "id": "c11223ee-791f-4ccb-a639-a98075f89e42",
   "metadata": {},
   "outputs": [
    {
     "data": {
      "text/plain": [
       "(0, 255)"
      ]
     },
     "execution_count": 12,
     "metadata": {},
     "output_type": "execute_result"
    }
   ],
   "source": [
    "np.min(x_test), np.max(x_test)"
   ]
  },
  {
   "cell_type": "code",
   "execution_count": 13,
   "id": "21e24978-60d5-41de-adbf-c399a4b5cc4a",
   "metadata": {},
   "outputs": [],
   "source": [
    "x_train = x_train / 255.0\n",
    "x_test = x_test / 255.0"
   ]
  },
  {
   "cell_type": "code",
   "execution_count": 14,
   "id": "ddcc5c52-ff26-4719-b238-744a3eb324b6",
   "metadata": {},
   "outputs": [
    {
     "data": {
      "text/plain": [
       "(dtype('float64'), dtype('float64'))"
      ]
     },
     "execution_count": 14,
     "metadata": {},
     "output_type": "execute_result"
    }
   ],
   "source": [
    "x_train.dtype, x_test.dtype"
   ]
  },
  {
   "cell_type": "code",
   "execution_count": 15,
   "id": "9b11c2df-5d77-402c-8751-39123b50ed01",
   "metadata": {},
   "outputs": [
    {
     "name": "stdout",
     "output_type": "stream",
     "text": [
      "[0.011764705882352941, 0.07058823529411765, 0.07058823529411765, 0.07058823529411765, 0.49411764705882355, 0.5333333333333333, 0.6862745098039216, 0.10196078431372549, 0.6509803921568628, 1.0]\n"
     ]
    }
   ],
   "source": [
    "print(list(filter(lambda x: x != 0, x_train[0].reshape(-1)))[:10])"
   ]
  },
  {
   "cell_type": "code",
   "execution_count": 16,
   "id": "7d0dea46-6d47-404e-b0bd-29a1aca0a315",
   "metadata": {},
   "outputs": [
    {
     "name": "stdout",
     "output_type": "stream",
     "text": [
      "[5, 4, 1, 9, 2, 1, 3, 1, 4, 3]\n"
     ]
    }
   ],
   "source": [
    "print(list(filter(lambda x: x != 0, y_train.reshape(-1)))[:10])"
   ]
  },
  {
   "cell_type": "code",
   "execution_count": 17,
   "id": "da9f1887-70c8-4d72-ad4d-0ed648aa94be",
   "metadata": {},
   "outputs": [
    {
     "data": {
      "text/plain": [
       "array([[0., 0., 0., ..., 0., 0., 0.],\n",
       "       [0., 0., 0., ..., 0., 0., 0.],\n",
       "       [0., 0., 0., ..., 0., 0., 0.],\n",
       "       ...,\n",
       "       [0., 0., 0., ..., 0., 0., 0.],\n",
       "       [0., 0., 0., ..., 0., 0., 0.],\n",
       "       [0., 0., 0., ..., 0., 0., 0.]])"
      ]
     },
     "execution_count": 17,
     "metadata": {},
     "output_type": "execute_result"
    }
   ],
   "source": [
    "# transpose는 tensor의 axis를 섞는 기능을 합니다.\n",
    "# 해당 기능을 이용해서 (28, 140)을 작성하는 코드를 작성해보세요.\n",
    "x_train[:5].transpose( (1, 0, 2) ).reshape(28, -1)"
   ]
  },
  {
   "cell_type": "code",
   "execution_count": 18,
   "id": "44aac6e4-7747-44ba-9ab2-92e6862ccb94",
   "metadata": {},
   "outputs": [
    {
     "data": {
      "image/png": "[encoded data removed]",
      "text/plain": [
       "<Figure size 432x288 with 1 Axes>"
      ]
     },
     "metadata": {
      "needs_background": "light"
     },
     "output_type": "display_data"
    }
   ],
   "source": [
    "# (28, 140)의 이미지를 plt로 출력해보세요.\n",
    "plt.imshow(x_train[:5].transpose( (1, 0, 2) ).reshape(28, -1), cmap='gray')\n",
    "plt.show()"
   ]
  },
  {
   "cell_type": "code",
   "execution_count": 19,
   "id": "c81610a7-f479-4792-918d-e1dd66a0b8f6",
   "metadata": {},
   "outputs": [
    {
     "data": {
      "text/plain": [
       "(28, 28)"
      ]
     },
     "execution_count": 19,
     "metadata": {},
     "output_type": "execute_result"
    }
   ],
   "source": [
    "np.random.random((28,28)).shape"
   ]
  },
  {
   "cell_type": "code",
   "execution_count": 20,
   "id": "84f69cb6-479a-4ad9-b089-87d15499f962",
   "metadata": {},
   "outputs": [
    {
     "data": {
      "image/png": "[encoded data removed]",
      "text/plain": [
       "<Figure size 432x288 with 2 Axes>"
      ]
     },
     "metadata": {
      "needs_background": "light"
     },
     "output_type": "display_data"
    }
   ],
   "source": [
    "plt.imshow(np.random.random((28,28)), cmap='gray')\n",
    "plt.colorbar()\n",
    "plt.show()"
   ]
  },
  {
   "cell_type": "code",
   "execution_count": 21,
   "id": "5a80ad36-eee1-41d2-bbe3-710ea13e45b9",
   "metadata": {},
   "outputs": [
    {
     "name": "stdout",
     "output_type": "stream",
     "text": [
      "[0.40466809]\n",
      "[-0.62928755]\n",
      "[-0.61140408]\n"
     ]
    }
   ],
   "source": [
    "print(np.random.normal(0.,1.,1))\n",
    "print(np.random.normal(0.,1.,1))\n",
    "print(np.random.normal(0.,1.,1))"
   ]
  },
  {
   "cell_type": "code",
   "execution_count": 22,
   "id": "d04ec619-c919-4317-b663-c62501168180",
   "metadata": {},
   "outputs": [
    {
     "name": "stdout",
     "output_type": "stream",
     "text": [
      "[3.00164066]\n",
      "[2.99318422]\n",
      "[2.99375688]\n"
     ]
    }
   ],
   "source": [
    "print(np.random.normal(3.,0.01,1))\n",
    "print(np.random.normal(3.,0.01,1))\n",
    "print(np.random.normal(3.,0.01,1))"
   ]
  },
  {
   "cell_type": "code",
   "execution_count": 23,
   "id": "9923275f-66aa-4e64-993a-8f647081993f",
   "metadata": {},
   "outputs": [
    {
     "data": {
      "image/png": "[encoded data removed]",
      "text/plain": [
       "<Figure size 432x288 with 2 Axes>"
      ]
     },
     "metadata": {
      "needs_background": "light"
     },
     "output_type": "display_data"
    }
   ],
   "source": [
    "plt.imshow(np.random.normal(3., 0.01, (28,28)), cmap='gray')\n",
    "plt.colorbar()\n",
    "plt.show()"
   ]
  },
  {
   "cell_type": "code",
   "execution_count": 24,
   "id": "beebf6e7-d087-4daa-a52d-88fb043dcc93",
   "metadata": {},
   "outputs": [],
   "source": [
    "noisy_image = x_train[5] + np.random.normal(0.5, 0.1,(28,28))"
   ]
  },
  {
   "cell_type": "code",
   "execution_count": 25,
   "id": "399f97a4-5093-4793-a730-8460aefd9b28",
   "metadata": {},
   "outputs": [
    {
     "data": {
      "image/png": "[encoded data removed]",
      "text/plain": [
       "<Figure size 432x288 with 2 Axes>"
      ]
     },
     "metadata": {
      "needs_background": "light"
     },
     "output_type": "display_data"
    }
   ],
   "source": [
    "plt.imshow(noisy_image, cmap='gray')\n",
    "plt.colorbar()\n",
    "plt.show()"
   ]
  },
  {
   "cell_type": "code",
   "execution_count": 26,
   "id": "f30f7d33-2407-4d60-8b53-15b88e709c12",
   "metadata": {},
   "outputs": [
    {
     "data": {
      "text/plain": [
       "1.7203415405400444"
      ]
     },
     "execution_count": 26,
     "metadata": {},
     "output_type": "execute_result"
    }
   ],
   "source": [
    "np.max(noisy_image)"
   ]
  },
  {
   "cell_type": "code",
   "execution_count": 27,
   "id": "94b8e5a8-f8c5-42fe-bdec-7b0a9fbd99f1",
   "metadata": {},
   "outputs": [
    {
     "data": {
      "image/png": "[encoded data removed]",
      "text/plain": [
       "<Figure size 432x288 with 2 Axes>"
      ]
     },
     "metadata": {
      "needs_background": "light"
     },
     "output_type": "display_data"
    }
   ],
   "source": [
    "noisy_image[noisy_image > 1.0] = 1.0\n",
    "plt.imshow(noisy_image, cmap='gray')\n",
    "plt.colorbar()\n",
    "plt.show()"
   ]
  },
  {
   "cell_type": "code",
   "execution_count": 28,
   "id": "a5f5a2ad-8539-4e08-89a3-79b220feecae",
   "metadata": {},
   "outputs": [],
   "source": [
    "noise_x_train = x_train + np.random.normal(0.5, 0.1, x_train.shape)\n",
    "noise_x_train[noise_x_train >1.0] = 1.0\n",
    "noise_x_test = x_test + np.random.normal(0.5, 0.1, x_test.shape)\n",
    "noise_x_test[noise_x_test >1.0] = 1.0"
   ]
  },
  {
   "cell_type": "code",
   "execution_count": 29,
   "id": "c2f09614-1be0-458d-ac6f-b76442ceaa1a",
   "metadata": {},
   "outputs": [
    {
     "data": {
      "image/png": "[encoded data removed]",
      "text/plain": [
       "<Figure size 432x288 with 2 Axes>"
      ]
     },
     "metadata": {
      "needs_background": "light"
     },
     "output_type": "display_data"
    }
   ],
   "source": [
    "plt.imshow(noise_x_train[:5].transpose((1, 0, 2)).reshape(28,-1), cmap='gray')\n",
    "plt.colorbar()\n",
    "plt.show()"
   ]
  },
  {
   "cell_type": "code",
   "execution_count": 30,
   "id": "80c95140-822c-4c46-b002-11bfd65291fd",
   "metadata": {},
   "outputs": [
    {
     "name": "stdout",
     "output_type": "stream",
     "text": [
      "(60000,) (10000,)\n",
      "(60000, 10) (10000, 10)\n"
     ]
    }
   ],
   "source": [
    "from tensorflow.keras.utils import to_categorical\n",
    "print(y_train.shape, y_test.shape)\n",
    "y_train = to_categorical(y_train, 10)\n",
    "y_test = to_categorical(y_test, 10)\n",
    "print(y_train.shape, y_test.shape)"
   ]
  },
  {
   "cell_type": "code",
   "execution_count": 31,
   "id": "92fc8604-7d7b-4717-b42d-57771d9208ee",
   "metadata": {},
   "outputs": [],
   "source": [
    "from tensorflow import keras\n",
    "\n",
    "inputs = keras.layers.Input(shape=(28,28))\n",
    "x1 = keras.layers.SimpleRNN(64, activation='tanh')(inputs)\n",
    "x2 = keras.layers.Dense(10, activation='softmax')(x1)\n",
    "model = keras.Model(inputs, x2)"
   ]
  },
  {
   "cell_type": "code",
   "execution_count": 32,
   "id": "0fb9defa-8ec2-4654-861b-f9d8210bfc62",
   "metadata": {},
   "outputs": [
    {
     "name": "stdout",
     "output_type": "stream",
     "text": [
      "Model: \"functional_1\"\n",
      "_________________________________________________________________\n",
      "Layer (type)                 Output Shape              Param #   \n",
      "=================================================================\n",
      "input_1 (InputLayer)         [(None, 28, 28)]          0         \n",
      "_________________________________________________________________\n",
      "simple_rnn (SimpleRNN)       (None, 64)                5952      \n",
      "_________________________________________________________________\n",
      "dense (Dense)                (None, 10)                650       \n",
      "=================================================================\n",
      "Total params: 6,602\n",
      "Trainable params: 6,602\n",
      "Non-trainable params: 0\n",
      "_________________________________________________________________\n"
     ]
    }
   ],
   "source": [
    "model.summary()"
   ]
  },
  {
   "cell_type": "code",
   "execution_count": 33,
   "id": "33ba812e-1006-4923-897d-9166e3429446",
   "metadata": {},
   "outputs": [],
   "source": [
    "model.compile(loss = 'categorical_crossentropy', optimizer='adam', metrics=['acc'])"
   ]
  },
  {
   "cell_type": "code",
   "execution_count": 34,
   "id": "5ba2413e-5bd6-4f9b-bf1a-ea75c9c15331",
   "metadata": {},
   "outputs": [
    {
     "name": "stdout",
     "output_type": "stream",
     "text": [
      "Epoch 1/5\n",
      "1875/1875 - 12s - loss: 0.7724 - acc: 0.7475 - val_loss: 0.5046 - val_acc: 0.8415\n",
      "Epoch 2/5\n",
      "1875/1875 - 12s - loss: 0.3973 - acc: 0.8787 - val_loss: 0.3622 - val_acc: 0.8890\n",
      "Epoch 3/5\n",
      "1875/1875 - 12s - loss: 0.3218 - acc: 0.9028 - val_loss: 0.3263 - val_acc: 0.9034\n",
      "Epoch 4/5\n",
      "1875/1875 - 12s - loss: 0.2850 - acc: 0.9148 - val_loss: 0.2470 - val_acc: 0.9263\n",
      "Epoch 5/5\n",
      "1875/1875 - 12s - loss: 0.2570 - acc: 0.9245 - val_loss: 0.2709 - val_acc: 0.9191\n"
     ]
    }
   ],
   "source": [
    "hist = model.fit(noise_x_train, y_train, validation_data = (noise_x_test, y_test), epochs=5, verbose=2)"
   ]
  },
  {
   "cell_type": "code",
   "execution_count": 37,
   "id": "b2aff5e9-5572-4a3c-a790-68b041acd644",
   "metadata": {},
   "outputs": [
    {
     "data": {
      "image/png": "[encoded data removed]",
      "text/plain": [
       "<Figure size 432x288 with 1 Axes>"
      ]
     },
     "metadata": {
      "needs_background": "light"
     },
     "output_type": "display_data"
    }
   ],
   "source": [
    "plt.plot(hist.history['acc'], label='accuracy')\n",
    "plt.plot(hist.history['loss'], label='loss')\n",
    "plt.plot(hist.history['val_acc'], label='val_accuracy')\n",
    "plt.plot(hist.history['val_loss'], label='val_loss')\n",
    "plt.legend(loc='upper left')\n",
    "plt.show()"
   ]
  },
  {
   "cell_type": "code",
   "execution_count": 38,
   "id": "8038659a-927f-411e-8a73-74230ac51d5e",
   "metadata": {},
   "outputs": [
    {
     "data": {
      "text/plain": [
       "(1, 10)"
      ]
     },
     "execution_count": 38,
     "metadata": {},
     "output_type": "execute_result"
    }
   ],
   "source": [
    "res = model.predict(noise_x_test[3:4])\n",
    "res.shape"
   ]
  },
  {
   "cell_type": "code",
   "execution_count": 40,
   "id": "58ba0534-f680-4ccd-b492-0b553feb6482",
   "metadata": {},
   "outputs": [
    {
     "data": {
      "image/png": "[encoded data removed]",
      "text/plain": [
       "<Figure size 432x288 with 1 Axes>"
      ]
     },
     "metadata": {
      "needs_background": "light"
     },
     "output_type": "display_data"
    }
   ],
   "source": [
    "# test_noisy_images[0], test_images[0]를 width 방향으로 결합하여 (28, 28 * 2) 의 이미지를 만들어 plt로 출력하는 코드를 작성하세요.\n",
    "plt.imshow(   np.concatenate([noise_x_test[3], x_test[3]], axis=1) , cmap=\"gray\")\n",
    "plt.show()"
   ]
  },
  {
   "cell_type": "code",
   "execution_count": 42,
   "id": "d37a9481-bbd4-45f4-973f-40d8ee963e46",
   "metadata": {},
   "outputs": [
    {
     "data": {
      "image/png": "[encoded data removed]",
      "text/plain": [
       "<Figure size 432x288 with 1 Axes>"
      ]
     },
     "metadata": {
      "needs_background": "light"
     },
     "output_type": "display_data"
    }
   ],
   "source": [
    "# res와 test_labels[0]의 결과를 plt.bar로 확인하세요.\n",
    "plt.bar(range(10), res[0], color='red')\n",
    "plt.bar(np.array(range(10)) + 0.35, y_test[3])\n",
    "plt.show()"
   ]
  },
  {
   "cell_type": "code",
   "execution_count": 43,
   "id": "c4a4fe48-5f87-465d-bf2c-0c47b8da78be",
   "metadata": {},
   "outputs": [],
   "source": [
    "# 모델을 저장하는 코드를 작성하세요. \n",
    "model.save(\"./lecture_1.h5\")"
   ]
  },
  {
   "cell_type": "code",
   "execution_count": 45,
   "id": "37013c3a-3dd9-4a50-8b61-049cef9cae46",
   "metadata": {},
   "outputs": [],
   "source": [
    "# 모델을 로드하는 코드를 작성하세요.\n",
    "new_model = tf.keras.models.load_model('./lecture_1.h5')"
   ]
  },
  {
   "cell_type": "code",
   "execution_count": 46,
   "id": "aa61db2e-9a2c-4cff-9ddf-d6c6658c9834",
   "metadata": {},
   "outputs": [
    {
     "name": "stdout",
     "output_type": "stream",
     "text": [
      "313/313 - 1s - loss: 0.2709 - acc: 0.9191\n",
      "0.27086418867111206 0.9190999865531921\n",
      "313/313 - 1s - loss: 0.2709 - acc: 0.9191\n",
      "0.27086418867111206 0.9190999865531921\n"
     ]
    }
   ],
   "source": [
    "# 로드한 모델을 test 데이터로 평가해보세요.\n",
    "loss, acc = new_model.evaluate(noise_x_test, y_test, verbose=2)\n",
    "print(loss, acc)\n",
    "loss, acc = model.evaluate(noise_x_test, y_test, verbose=2)\n",
    "print(loss, acc)"
   ]
  },
  {
   "cell_type": "code",
   "execution_count": 47,
   "id": "9736751e-38a3-4db5-9b57-3591512576dc",
   "metadata": {},
   "outputs": [],
   "source": [
    "# 멀티모델 분류 - 인물 성별 표정"
   ]
  },
  {
   "cell_type": "code",
   "execution_count": 53,
   "id": "b606eb31-3916-45ca-8a61-60500bc05967",
   "metadata": {},
   "outputs": [],
   "source": [
    "import tensorflow as tf\n",
    "from tensorflow import keras\n",
    "from tensorflow.keras.layers import Dense\n",
    "from tensorflow.keras.models import Sequential \n",
    "\n",
    "import pandas as pd\n",
    "import numpy as np\n",
    "import matplotlib.pyplot as plt\n",
    "import seaborn as sns\n",
    "import warnings\n",
    "from IPython.display import Image\n",
    "\n",
    "\n",
    "warnings.filterwarnings('ignore')\n",
    "%matplotlib inline"
   ]
  },
  {
   "cell_type": "code",
   "execution_count": 57,
   "id": "392324e0-5f39-4773-8ed1-e72d8769d15c",
   "metadata": {},
   "outputs": [
    {
     "data": {
      "text/plain": [
       "['abstract_reasoning',\n",
       " 'accentdb',\n",
       " 'aeslc',\n",
       " 'aflw2k3d',\n",
       " 'ag_news_subset',\n",
       " 'ai2_arc',\n",
       " 'ai2_arc_with_ir',\n",
       " 'amazon_us_reviews',\n",
       " 'anli',\n",
       " 'arc',\n",
       " 'bair_robot_pushing_small',\n",
       " 'bccd',\n",
       " 'beans',\n",
       " 'big_patent',\n",
       " 'bigearthnet',\n",
       " 'billsum',\n",
       " 'binarized_mnist',\n",
       " 'binary_alpha_digits',\n",
       " 'blimp',\n",
       " 'bool_q',\n",
       " 'c4',\n",
       " 'caltech101',\n",
       " 'caltech_birds2010',\n",
       " 'caltech_birds2011',\n",
       " 'cars196',\n",
       " 'cassava',\n",
       " 'cats_vs_dogs',\n",
       " 'celeb_a',\n",
       " 'celeb_a_hq',\n",
       " 'cfq',\n",
       " 'cherry_blossoms',\n",
       " 'chexpert',\n",
       " 'cifar10',\n",
       " 'cifar100',\n",
       " 'cifar10_1',\n",
       " 'cifar10_corrupted',\n",
       " 'citrus_leaves',\n",
       " 'cityscapes',\n",
       " 'civil_comments',\n",
       " 'clevr',\n",
       " 'clic',\n",
       " 'clinc_oos',\n",
       " 'cmaterdb',\n",
       " 'cnn_dailymail',\n",
       " 'coco',\n",
       " 'coco_captions',\n",
       " 'coil100',\n",
       " 'colorectal_histology',\n",
       " 'colorectal_histology_large',\n",
       " 'common_voice',\n",
       " 'coqa',\n",
       " 'cos_e',\n",
       " 'cosmos_qa',\n",
       " 'covid19',\n",
       " 'covid19sum',\n",
       " 'crema_d',\n",
       " 'curated_breast_imaging_ddsm',\n",
       " 'cycle_gan',\n",
       " 'd4rl_adroit_door',\n",
       " 'd4rl_adroit_hammer',\n",
       " 'd4rl_adroit_pen',\n",
       " 'd4rl_adroit_relocate',\n",
       " 'd4rl_mujoco_ant',\n",
       " 'd4rl_mujoco_halfcheetah',\n",
       " 'd4rl_mujoco_hopper',\n",
       " 'd4rl_mujoco_walker2d',\n",
       " 'dart',\n",
       " 'davis',\n",
       " 'deep_weeds',\n",
       " 'definite_pronoun_resolution',\n",
       " 'dementiabank',\n",
       " 'diabetic_retinopathy_detection',\n",
       " 'div2k',\n",
       " 'dmlab',\n",
       " 'doc_nli',\n",
       " 'dolphin_number_word',\n",
       " 'downsampled_imagenet',\n",
       " 'drop',\n",
       " 'dsprites',\n",
       " 'dtd',\n",
       " 'duke_ultrasound',\n",
       " 'e2e_cleaned',\n",
       " 'efron_morris75',\n",
       " 'emnist',\n",
       " 'eraser_multi_rc',\n",
       " 'esnli',\n",
       " 'eurosat',\n",
       " 'fashion_mnist',\n",
       " 'flic',\n",
       " 'flores',\n",
       " 'food101',\n",
       " 'forest_fires',\n",
       " 'fuss',\n",
       " 'gap',\n",
       " 'geirhos_conflict_stimuli',\n",
       " 'gem',\n",
       " 'genomics_ood',\n",
       " 'german_credit_numeric',\n",
       " 'gigaword',\n",
       " 'glue',\n",
       " 'goemotions',\n",
       " 'gpt3',\n",
       " 'gref',\n",
       " 'groove',\n",
       " 'gtzan',\n",
       " 'gtzan_music_speech',\n",
       " 'hellaswag',\n",
       " 'higgs',\n",
       " 'horses_or_humans',\n",
       " 'howell',\n",
       " 'i_naturalist2017',\n",
       " 'imagenet2012',\n",
       " 'imagenet2012_corrupted',\n",
       " 'imagenet2012_multilabel',\n",
       " 'imagenet2012_real',\n",
       " 'imagenet2012_subset',\n",
       " 'imagenet_a',\n",
       " 'imagenet_r',\n",
       " 'imagenet_resized',\n",
       " 'imagenet_v2',\n",
       " 'imagenette',\n",
       " 'imagewang',\n",
       " 'imdb_reviews',\n",
       " 'irc_disentanglement',\n",
       " 'iris',\n",
       " 'kddcup99',\n",
       " 'kitti',\n",
       " 'kmnist',\n",
       " 'lambada',\n",
       " 'lfw',\n",
       " 'librispeech',\n",
       " 'librispeech_lm',\n",
       " 'libritts',\n",
       " 'ljspeech',\n",
       " 'lm1b',\n",
       " 'lost_and_found',\n",
       " 'lsun',\n",
       " 'lvis',\n",
       " 'malaria',\n",
       " 'math_dataset',\n",
       " 'mctaco',\n",
       " 'mlqa',\n",
       " 'mnist',\n",
       " 'mnist_corrupted',\n",
       " 'movie_lens',\n",
       " 'movie_rationales',\n",
       " 'movielens',\n",
       " 'moving_mnist',\n",
       " 'multi_news',\n",
       " 'multi_nli',\n",
       " 'multi_nli_mismatch',\n",
       " 'natural_questions',\n",
       " 'natural_questions_open',\n",
       " 'newsroom',\n",
       " 'nsynth',\n",
       " 'nyu_depth_v2',\n",
       " 'ogbg_molpcba',\n",
       " 'omniglot',\n",
       " 'open_images_challenge2019_detection',\n",
       " 'open_images_v4',\n",
       " 'openbookqa',\n",
       " 'opinion_abstracts',\n",
       " 'opinosis',\n",
       " 'opus',\n",
       " 'oxford_flowers102',\n",
       " 'oxford_iiit_pet',\n",
       " 'para_crawl',\n",
       " 'patch_camelyon',\n",
       " 'paws_wiki',\n",
       " 'paws_x_wiki',\n",
       " 'pet_finder',\n",
       " 'pg19',\n",
       " 'piqa',\n",
       " 'places365_small',\n",
       " 'plant_leaves',\n",
       " 'plant_village',\n",
       " 'plantae_k',\n",
       " 'protein_net',\n",
       " 'qa4mre',\n",
       " 'qasc',\n",
       " 'quac',\n",
       " 'quickdraw_bitmap',\n",
       " 'race',\n",
       " 'radon',\n",
       " 'reddit',\n",
       " 'reddit_disentanglement',\n",
       " 'reddit_tifu',\n",
       " 'ref_coco',\n",
       " 'resisc45',\n",
       " 'rlu_atari',\n",
       " 'rlu_dmlab_explore_object_rewards_few',\n",
       " 'rlu_dmlab_explore_object_rewards_many',\n",
       " 'rlu_dmlab_rooms_select_nonmatching_object',\n",
       " 'rlu_dmlab_rooms_watermaze',\n",
       " 'rlu_dmlab_seekavoid_arena01',\n",
       " 'robonet',\n",
       " 'rock_paper_scissors',\n",
       " 'rock_you',\n",
       " 's3o4d',\n",
       " 'salient_span_wikipedia',\n",
       " 'samsum',\n",
       " 'savee',\n",
       " 'scan',\n",
       " 'scene_parse150',\n",
       " 'schema_guided_dialogue',\n",
       " 'scicite',\n",
       " 'scientific_papers',\n",
       " 'sentiment140',\n",
       " 'shapes3d',\n",
       " 'siscore',\n",
       " 'smallnorb',\n",
       " 'snli',\n",
       " 'so2sat',\n",
       " 'speech_commands',\n",
       " 'spoken_digit',\n",
       " 'squad',\n",
       " 'stanford_dogs',\n",
       " 'stanford_online_products',\n",
       " 'star_cfq',\n",
       " 'starcraft_video',\n",
       " 'stl10',\n",
       " 'story_cloze',\n",
       " 'summscreen',\n",
       " 'sun397',\n",
       " 'super_glue',\n",
       " 'svhn_cropped',\n",
       " 'symmetric_solids',\n",
       " 'tao',\n",
       " 'ted_hrlr_translate',\n",
       " 'ted_multi_translate',\n",
       " 'tedlium',\n",
       " 'tf_flowers',\n",
       " 'the300w_lp',\n",
       " 'tiny_shakespeare',\n",
       " 'titanic',\n",
       " 'trec',\n",
       " 'trivia_qa',\n",
       " 'tydi_qa',\n",
       " 'uc_merced',\n",
       " 'ucf101',\n",
       " 'vctk',\n",
       " 'visual_domain_decathlon',\n",
       " 'voc',\n",
       " 'voxceleb',\n",
       " 'voxforge',\n",
       " 'waymo_open_dataset',\n",
       " 'web_nlg',\n",
       " 'web_questions',\n",
       " 'wider_face',\n",
       " 'wiki40b',\n",
       " 'wiki_bio',\n",
       " 'wiki_table_questions',\n",
       " 'wiki_table_text',\n",
       " 'wikiann',\n",
       " 'wikihow',\n",
       " 'wikipedia',\n",
       " 'wikipedia_toxicity_subtypes',\n",
       " 'wine_quality',\n",
       " 'winogrande',\n",
       " 'wmt13_translate',\n",
       " 'wmt14_translate',\n",
       " 'wmt15_translate',\n",
       " 'wmt16_translate',\n",
       " 'wmt17_translate',\n",
       " 'wmt18_translate',\n",
       " 'wmt19_translate',\n",
       " 'wmt_t2t_translate',\n",
       " 'wmt_translate',\n",
       " 'wordnet',\n",
       " 'wsc273',\n",
       " 'xnli',\n",
       " 'xquad',\n",
       " 'xsum',\n",
       " 'xtreme_pawsx',\n",
       " 'xtreme_xnli',\n",
       " 'yelp_polarity_reviews',\n",
       " 'yes_no',\n",
       " 'youtube_vis']"
      ]
     },
     "execution_count": 57,
     "metadata": {},
     "output_type": "execute_result"
    }
   ],
   "source": [
    "# tfds를 이용하여 데이터셋 사용하기\n",
    "import tensorflow_datasets as tfds\n",
    "tfds.list_builders()"
   ]
  },
  {
   "cell_type": "code",
   "execution_count": 65,
   "id": "46936863-1f56-4e7f-91e8-d8f84a0eaa79",
   "metadata": {},
   "outputs": [
    {
     "name": "stdout",
     "output_type": "stream",
     "text": [
      "\u001b[1mDownloading and preparing dataset Unknown size (download: Unknown size, generated: Unknown size, total: Unknown size) to C:\\Users\\admin\\tensorflow_datasets\\celeb_a\\2.0.1...\u001b[0m\n"
     ]
    },
    {
     "data": {
      "application/vnd.jupyter.widget-view+json": {
       "model_id": "33d50c73c93747ad9d89be24734fb936",
       "version_major": 2,
       "version_minor": 0
      },
      "text/plain": [
       "Dl Completed...: 0 url [00:00, ? url/s]"
      ]
     },
     "metadata": {},
     "output_type": "display_data"
    },
    {
     "data": {
      "application/vnd.jupyter.widget-view+json": {
       "model_id": "397739782548455e9e54663458406f46",
       "version_major": 2,
       "version_minor": 0
      },
      "text/plain": [
       "Dl Size...: 0 MiB [00:00, ? MiB/s]"
      ]
     },
     "metadata": {},
     "output_type": "display_data"
    },
    {
     "ename": "NonMatchingChecksumError",
     "evalue": "Artifact https://drive.google.com/uc?export=download&id=0B7EVK8r0v71pZjFTYXZWM3FlRnM, downloaded to C:\\Users\\admin\\tensorflow_datasets\\downloads\\ucexport_download_id_0B7EVK8r0v71pZjFTYXZWM3FlDDaXUAQO8EGH_a7VqGNLRtW52mva1LzDrb-V723OQN8.tmp.e86598a53d084d3c94d2d7be3b1fb33f\\ServiceLogin, has wrong checksum:\n* Expected: UrlInfo(size=1.34 GiB, checksum='46fb89443c578308acf364d7d379fe1b9efb793042c0af734b6112e4fd3a8c74', filename='img_align_celeba.zip')\n* Got: UrlInfo(size=89.00 KiB, checksum='81f7459dc4c308cac666af196bae63b529f47eaa1606d600b595311dc4c8b58b', filename='ServiceLogin')\nTo debug, see: https://www.tensorflow.org/datasets/overview#fixing_nonmatchingchecksumerror",
     "output_type": "error",
     "traceback": [
      "\u001b[1;31m---------------------------------------------------------------------------\u001b[0m",
      "\u001b[1;31mNonMatchingChecksumError\u001b[0m                  Traceback (most recent call last)",
      "\u001b[1;32m~\\AppData\\Local\\Temp/ipykernel_21172/2580870658.py\u001b[0m in \u001b[0;36m<module>\u001b[1;34m\u001b[0m\n\u001b[1;32m----> 1\u001b[1;33m \u001b[0mceleb_a\u001b[0m \u001b[1;33m=\u001b[0m \u001b[0mtfds\u001b[0m\u001b[1;33m.\u001b[0m\u001b[0mload\u001b[0m\u001b[1;33m(\u001b[0m\u001b[1;34m'celeb_a'\u001b[0m\u001b[1;33m)\u001b[0m\u001b[1;33m\u001b[0m\u001b[1;33m\u001b[0m\u001b[0m\n\u001b[0m",
      "\u001b[1;32m~\\anaconda3\\envs\\tfenv\\lib\\site-packages\\tensorflow_datasets\\core\\load.py\u001b[0m in \u001b[0;36mload\u001b[1;34m(name, split, data_dir, batch_size, shuffle_files, download, as_supervised, decoders, read_config, with_info, builder_kwargs, download_and_prepare_kwargs, as_dataset_kwargs, try_gcs)\u001b[0m\n\u001b[0;32m    316\u001b[0m   \u001b[1;32mif\u001b[0m \u001b[0mdownload\u001b[0m\u001b[1;33m:\u001b[0m\u001b[1;33m\u001b[0m\u001b[1;33m\u001b[0m\u001b[0m\n\u001b[0;32m    317\u001b[0m     \u001b[0mdownload_and_prepare_kwargs\u001b[0m \u001b[1;33m=\u001b[0m \u001b[0mdownload_and_prepare_kwargs\u001b[0m \u001b[1;32mor\u001b[0m \u001b[1;33m{\u001b[0m\u001b[1;33m}\u001b[0m\u001b[1;33m\u001b[0m\u001b[1;33m\u001b[0m\u001b[0m\n\u001b[1;32m--> 318\u001b[1;33m     \u001b[0mdbuilder\u001b[0m\u001b[1;33m.\u001b[0m\u001b[0mdownload_and_prepare\u001b[0m\u001b[1;33m(\u001b[0m\u001b[1;33m**\u001b[0m\u001b[0mdownload_and_prepare_kwargs\u001b[0m\u001b[1;33m)\u001b[0m\u001b[1;33m\u001b[0m\u001b[1;33m\u001b[0m\u001b[0m\n\u001b[0m\u001b[0;32m    319\u001b[0m \u001b[1;33m\u001b[0m\u001b[0m\n\u001b[0;32m    320\u001b[0m   \u001b[1;32mif\u001b[0m \u001b[0mas_dataset_kwargs\u001b[0m \u001b[1;32mis\u001b[0m \u001b[1;32mNone\u001b[0m\u001b[1;33m:\u001b[0m\u001b[1;33m\u001b[0m\u001b[1;33m\u001b[0m\u001b[0m\n",
      "\u001b[1;32m~\\anaconda3\\envs\\tfenv\\lib\\site-packages\\tensorflow_datasets\\core\\dataset_builder.py\u001b[0m in \u001b[0;36mdownload_and_prepare\u001b[1;34m(self, download_dir, download_config)\u001b[0m\n\u001b[0;32m    437\u001b[0m           \u001b[1;31m# Old version of TF are not os.PathLike compatible\u001b[0m\u001b[1;33m\u001b[0m\u001b[1;33m\u001b[0m\u001b[1;33m\u001b[0m\u001b[0m\n\u001b[0;32m    438\u001b[0m           \u001b[1;32mwith\u001b[0m \u001b[0mtf_compat\u001b[0m\u001b[1;33m.\u001b[0m\u001b[0mmock_gfile_pathlike\u001b[0m\u001b[1;33m(\u001b[0m\u001b[1;33m)\u001b[0m\u001b[1;33m:\u001b[0m\u001b[1;33m\u001b[0m\u001b[1;33m\u001b[0m\u001b[0m\n\u001b[1;32m--> 439\u001b[1;33m             self._download_and_prepare(\n\u001b[0m\u001b[0;32m    440\u001b[0m                 \u001b[0mdl_manager\u001b[0m\u001b[1;33m=\u001b[0m\u001b[0mdl_manager\u001b[0m\u001b[1;33m,\u001b[0m\u001b[1;33m\u001b[0m\u001b[1;33m\u001b[0m\u001b[0m\n\u001b[0;32m    441\u001b[0m                 \u001b[0mdownload_config\u001b[0m\u001b[1;33m=\u001b[0m\u001b[0mdownload_config\u001b[0m\u001b[1;33m,\u001b[0m\u001b[1;33m\u001b[0m\u001b[1;33m\u001b[0m\u001b[0m\n",
      "\u001b[1;32m~\\anaconda3\\envs\\tfenv\\lib\\site-packages\\tensorflow_datasets\\core\\dataset_builder.py\u001b[0m in \u001b[0;36m_download_and_prepare\u001b[1;34m(self, dl_manager, download_config)\u001b[0m\n\u001b[0;32m   1111\u001b[0m       \u001b[1;32melse\u001b[0m\u001b[1;33m:\u001b[0m\u001b[1;33m\u001b[0m\u001b[1;33m\u001b[0m\u001b[0m\n\u001b[0;32m   1112\u001b[0m         \u001b[0moptional_pipeline_kwargs\u001b[0m \u001b[1;33m=\u001b[0m \u001b[1;33m{\u001b[0m\u001b[1;33m}\u001b[0m\u001b[1;33m\u001b[0m\u001b[1;33m\u001b[0m\u001b[0m\n\u001b[1;32m-> 1113\u001b[1;33m       split_generators = self._split_generators(  # pylint: disable=unexpected-keyword-arg\n\u001b[0m\u001b[0;32m   1114\u001b[0m           dl_manager, **optional_pipeline_kwargs)\n\u001b[0;32m   1115\u001b[0m       \u001b[1;31m# TODO(tfds): Could be removed once all datasets are migrated.\u001b[0m\u001b[1;33m\u001b[0m\u001b[1;33m\u001b[0m\u001b[1;33m\u001b[0m\u001b[0m\n",
      "\u001b[1;32m~\\anaconda3\\envs\\tfenv\\lib\\site-packages\\tensorflow_datasets\\image\\celeba.py\u001b[0m in \u001b[0;36m_split_generators\u001b[1;34m(self, dl_manager)\u001b[0m\n\u001b[0;32m    123\u001b[0m \u001b[1;33m\u001b[0m\u001b[0m\n\u001b[0;32m    124\u001b[0m   \u001b[1;32mdef\u001b[0m \u001b[0m_split_generators\u001b[0m\u001b[1;33m(\u001b[0m\u001b[0mself\u001b[0m\u001b[1;33m,\u001b[0m \u001b[0mdl_manager\u001b[0m\u001b[1;33m)\u001b[0m\u001b[1;33m:\u001b[0m\u001b[1;33m\u001b[0m\u001b[1;33m\u001b[0m\u001b[0m\n\u001b[1;32m--> 125\u001b[1;33m     downloaded_dirs = dl_manager.download({\n\u001b[0m\u001b[0;32m    126\u001b[0m         \u001b[1;34m\"img_align_celeba\"\u001b[0m\u001b[1;33m:\u001b[0m \u001b[0mIMG_ALIGNED_DATA\u001b[0m\u001b[1;33m,\u001b[0m\u001b[1;33m\u001b[0m\u001b[1;33m\u001b[0m\u001b[0m\n\u001b[0;32m    127\u001b[0m         \u001b[1;34m\"list_eval_partition\"\u001b[0m\u001b[1;33m:\u001b[0m \u001b[0mEVAL_LIST\u001b[0m\u001b[1;33m,\u001b[0m\u001b[1;33m\u001b[0m\u001b[1;33m\u001b[0m\u001b[0m\n",
      "\u001b[1;32m~\\anaconda3\\envs\\tfenv\\lib\\site-packages\\tensorflow_datasets\\core\\download\\download_manager.py\u001b[0m in \u001b[0;36mdownload\u001b[1;34m(self, url_or_urls)\u001b[0m\n\u001b[0;32m    547\u001b[0m     \u001b[1;31m# Add progress bar to follow the download state\u001b[0m\u001b[1;33m\u001b[0m\u001b[1;33m\u001b[0m\u001b[1;33m\u001b[0m\u001b[0m\n\u001b[0;32m    548\u001b[0m     \u001b[1;32mwith\u001b[0m \u001b[0mself\u001b[0m\u001b[1;33m.\u001b[0m\u001b[0m_downloader\u001b[0m\u001b[1;33m.\u001b[0m\u001b[0mtqdm\u001b[0m\u001b[1;33m(\u001b[0m\u001b[1;33m)\u001b[0m\u001b[1;33m:\u001b[0m\u001b[1;33m\u001b[0m\u001b[1;33m\u001b[0m\u001b[0m\n\u001b[1;32m--> 549\u001b[1;33m       \u001b[1;32mreturn\u001b[0m \u001b[0m_map_promise\u001b[0m\u001b[1;33m(\u001b[0m\u001b[0mself\u001b[0m\u001b[1;33m.\u001b[0m\u001b[0m_download\u001b[0m\u001b[1;33m,\u001b[0m \u001b[0murl_or_urls\u001b[0m\u001b[1;33m)\u001b[0m\u001b[1;33m\u001b[0m\u001b[1;33m\u001b[0m\u001b[0m\n\u001b[0m\u001b[0;32m    550\u001b[0m \u001b[1;33m\u001b[0m\u001b[0m\n\u001b[0;32m    551\u001b[0m   def iter_archive(\n",
      "\u001b[1;32m~\\anaconda3\\envs\\tfenv\\lib\\site-packages\\tensorflow_datasets\\core\\download\\download_manager.py\u001b[0m in \u001b[0;36m_map_promise\u001b[1;34m(map_fn, all_inputs)\u001b[0m\n\u001b[0;32m    765\u001b[0m   \u001b[1;34m\"\"\"Map the function into each element and resolve the promise.\"\"\"\u001b[0m\u001b[1;33m\u001b[0m\u001b[1;33m\u001b[0m\u001b[0m\n\u001b[0;32m    766\u001b[0m   \u001b[0mall_promises\u001b[0m \u001b[1;33m=\u001b[0m \u001b[0mtf\u001b[0m\u001b[1;33m.\u001b[0m\u001b[0mnest\u001b[0m\u001b[1;33m.\u001b[0m\u001b[0mmap_structure\u001b[0m\u001b[1;33m(\u001b[0m\u001b[0mmap_fn\u001b[0m\u001b[1;33m,\u001b[0m \u001b[0mall_inputs\u001b[0m\u001b[1;33m)\u001b[0m  \u001b[1;31m# Apply the function\u001b[0m\u001b[1;33m\u001b[0m\u001b[1;33m\u001b[0m\u001b[0m\n\u001b[1;32m--> 767\u001b[1;33m   \u001b[0mres\u001b[0m \u001b[1;33m=\u001b[0m \u001b[0mtf\u001b[0m\u001b[1;33m.\u001b[0m\u001b[0mnest\u001b[0m\u001b[1;33m.\u001b[0m\u001b[0mmap_structure\u001b[0m\u001b[1;33m(\u001b[0m\u001b[1;32mlambda\u001b[0m \u001b[0mp\u001b[0m\u001b[1;33m:\u001b[0m \u001b[0mp\u001b[0m\u001b[1;33m.\u001b[0m\u001b[0mget\u001b[0m\u001b[1;33m(\u001b[0m\u001b[1;33m)\u001b[0m\u001b[1;33m,\u001b[0m \u001b[0mall_promises\u001b[0m\u001b[1;33m)\u001b[0m  \u001b[1;31m# Wait promises\u001b[0m\u001b[1;33m\u001b[0m\u001b[1;33m\u001b[0m\u001b[0m\n\u001b[0m\u001b[0;32m    768\u001b[0m \u001b[1;33m\u001b[0m\u001b[0m\n\u001b[0;32m    769\u001b[0m   \u001b[1;32mreturn\u001b[0m \u001b[0mres\u001b[0m\u001b[1;33m\u001b[0m\u001b[1;33m\u001b[0m\u001b[0m\n",
      "\u001b[1;32m~\\anaconda3\\envs\\tfenv\\lib\\site-packages\\tensorflow\\python\\util\\nest.py\u001b[0m in \u001b[0;36mmap_structure\u001b[1;34m(func, *structure, **kwargs)\u001b[0m\n\u001b[0;32m    633\u001b[0m \u001b[1;33m\u001b[0m\u001b[0m\n\u001b[0;32m    634\u001b[0m   return pack_sequence_as(\n\u001b[1;32m--> 635\u001b[1;33m       \u001b[0mstructure\u001b[0m\u001b[1;33m[\u001b[0m\u001b[1;36m0\u001b[0m\u001b[1;33m]\u001b[0m\u001b[1;33m,\u001b[0m \u001b[1;33m[\u001b[0m\u001b[0mfunc\u001b[0m\u001b[1;33m(\u001b[0m\u001b[1;33m*\u001b[0m\u001b[0mx\u001b[0m\u001b[1;33m)\u001b[0m \u001b[1;32mfor\u001b[0m \u001b[0mx\u001b[0m \u001b[1;32min\u001b[0m \u001b[0mentries\u001b[0m\u001b[1;33m]\u001b[0m\u001b[1;33m,\u001b[0m\u001b[1;33m\u001b[0m\u001b[1;33m\u001b[0m\u001b[0m\n\u001b[0m\u001b[0;32m    636\u001b[0m       expand_composites=expand_composites)\n\u001b[0;32m    637\u001b[0m \u001b[1;33m\u001b[0m\u001b[0m\n",
      "\u001b[1;32m~\\anaconda3\\envs\\tfenv\\lib\\site-packages\\tensorflow\\python\\util\\nest.py\u001b[0m in \u001b[0;36m<listcomp>\u001b[1;34m(.0)\u001b[0m\n\u001b[0;32m    633\u001b[0m \u001b[1;33m\u001b[0m\u001b[0m\n\u001b[0;32m    634\u001b[0m   return pack_sequence_as(\n\u001b[1;32m--> 635\u001b[1;33m       \u001b[0mstructure\u001b[0m\u001b[1;33m[\u001b[0m\u001b[1;36m0\u001b[0m\u001b[1;33m]\u001b[0m\u001b[1;33m,\u001b[0m \u001b[1;33m[\u001b[0m\u001b[0mfunc\u001b[0m\u001b[1;33m(\u001b[0m\u001b[1;33m*\u001b[0m\u001b[0mx\u001b[0m\u001b[1;33m)\u001b[0m \u001b[1;32mfor\u001b[0m \u001b[0mx\u001b[0m \u001b[1;32min\u001b[0m \u001b[0mentries\u001b[0m\u001b[1;33m]\u001b[0m\u001b[1;33m,\u001b[0m\u001b[1;33m\u001b[0m\u001b[1;33m\u001b[0m\u001b[0m\n\u001b[0m\u001b[0;32m    636\u001b[0m       expand_composites=expand_composites)\n\u001b[0;32m    637\u001b[0m \u001b[1;33m\u001b[0m\u001b[0m\n",
      "\u001b[1;32m~\\anaconda3\\envs\\tfenv\\lib\\site-packages\\tensorflow_datasets\\core\\download\\download_manager.py\u001b[0m in \u001b[0;36m<lambda>\u001b[1;34m(p)\u001b[0m\n\u001b[0;32m    765\u001b[0m   \u001b[1;34m\"\"\"Map the function into each element and resolve the promise.\"\"\"\u001b[0m\u001b[1;33m\u001b[0m\u001b[1;33m\u001b[0m\u001b[0m\n\u001b[0;32m    766\u001b[0m   \u001b[0mall_promises\u001b[0m \u001b[1;33m=\u001b[0m \u001b[0mtf\u001b[0m\u001b[1;33m.\u001b[0m\u001b[0mnest\u001b[0m\u001b[1;33m.\u001b[0m\u001b[0mmap_structure\u001b[0m\u001b[1;33m(\u001b[0m\u001b[0mmap_fn\u001b[0m\u001b[1;33m,\u001b[0m \u001b[0mall_inputs\u001b[0m\u001b[1;33m)\u001b[0m  \u001b[1;31m# Apply the function\u001b[0m\u001b[1;33m\u001b[0m\u001b[1;33m\u001b[0m\u001b[0m\n\u001b[1;32m--> 767\u001b[1;33m   \u001b[0mres\u001b[0m \u001b[1;33m=\u001b[0m \u001b[0mtf\u001b[0m\u001b[1;33m.\u001b[0m\u001b[0mnest\u001b[0m\u001b[1;33m.\u001b[0m\u001b[0mmap_structure\u001b[0m\u001b[1;33m(\u001b[0m\u001b[1;32mlambda\u001b[0m \u001b[0mp\u001b[0m\u001b[1;33m:\u001b[0m \u001b[0mp\u001b[0m\u001b[1;33m.\u001b[0m\u001b[0mget\u001b[0m\u001b[1;33m(\u001b[0m\u001b[1;33m)\u001b[0m\u001b[1;33m,\u001b[0m \u001b[0mall_promises\u001b[0m\u001b[1;33m)\u001b[0m  \u001b[1;31m# Wait promises\u001b[0m\u001b[1;33m\u001b[0m\u001b[1;33m\u001b[0m\u001b[0m\n\u001b[0m\u001b[0;32m    768\u001b[0m \u001b[1;33m\u001b[0m\u001b[0m\n\u001b[0;32m    769\u001b[0m   \u001b[1;32mreturn\u001b[0m \u001b[0mres\u001b[0m\u001b[1;33m\u001b[0m\u001b[1;33m\u001b[0m\u001b[0m\n",
      "\u001b[1;32m~\\anaconda3\\envs\\tfenv\\lib\\site-packages\\promise\\promise.py\u001b[0m in \u001b[0;36mget\u001b[1;34m(self, timeout)\u001b[0m\n\u001b[0;32m    510\u001b[0m         \u001b[0mtarget\u001b[0m \u001b[1;33m=\u001b[0m \u001b[0mself\u001b[0m\u001b[1;33m.\u001b[0m\u001b[0m_target\u001b[0m\u001b[1;33m(\u001b[0m\u001b[1;33m)\u001b[0m\u001b[1;33m\u001b[0m\u001b[1;33m\u001b[0m\u001b[0m\n\u001b[0;32m    511\u001b[0m         \u001b[0mself\u001b[0m\u001b[1;33m.\u001b[0m\u001b[0m_wait\u001b[0m\u001b[1;33m(\u001b[0m\u001b[0mtimeout\u001b[0m \u001b[1;32mor\u001b[0m \u001b[0mDEFAULT_TIMEOUT\u001b[0m\u001b[1;33m)\u001b[0m\u001b[1;33m\u001b[0m\u001b[1;33m\u001b[0m\u001b[0m\n\u001b[1;32m--> 512\u001b[1;33m         \u001b[1;32mreturn\u001b[0m \u001b[0mself\u001b[0m\u001b[1;33m.\u001b[0m\u001b[0m_target_settled_value\u001b[0m\u001b[1;33m(\u001b[0m\u001b[0m_raise\u001b[0m\u001b[1;33m=\u001b[0m\u001b[1;32mTrue\u001b[0m\u001b[1;33m)\u001b[0m\u001b[1;33m\u001b[0m\u001b[1;33m\u001b[0m\u001b[0m\n\u001b[0m\u001b[0;32m    513\u001b[0m \u001b[1;33m\u001b[0m\u001b[0m\n\u001b[0;32m    514\u001b[0m     \u001b[1;32mdef\u001b[0m \u001b[0m_target_settled_value\u001b[0m\u001b[1;33m(\u001b[0m\u001b[0mself\u001b[0m\u001b[1;33m,\u001b[0m \u001b[0m_raise\u001b[0m\u001b[1;33m=\u001b[0m\u001b[1;32mFalse\u001b[0m\u001b[1;33m)\u001b[0m\u001b[1;33m:\u001b[0m\u001b[1;33m\u001b[0m\u001b[1;33m\u001b[0m\u001b[0m\n",
      "\u001b[1;32m~\\anaconda3\\envs\\tfenv\\lib\\site-packages\\promise\\promise.py\u001b[0m in \u001b[0;36m_target_settled_value\u001b[1;34m(self, _raise)\u001b[0m\n\u001b[0;32m    514\u001b[0m     \u001b[1;32mdef\u001b[0m \u001b[0m_target_settled_value\u001b[0m\u001b[1;33m(\u001b[0m\u001b[0mself\u001b[0m\u001b[1;33m,\u001b[0m \u001b[0m_raise\u001b[0m\u001b[1;33m=\u001b[0m\u001b[1;32mFalse\u001b[0m\u001b[1;33m)\u001b[0m\u001b[1;33m:\u001b[0m\u001b[1;33m\u001b[0m\u001b[1;33m\u001b[0m\u001b[0m\n\u001b[0;32m    515\u001b[0m         \u001b[1;31m# type: (bool) -> Any\u001b[0m\u001b[1;33m\u001b[0m\u001b[1;33m\u001b[0m\u001b[1;33m\u001b[0m\u001b[0m\n\u001b[1;32m--> 516\u001b[1;33m         \u001b[1;32mreturn\u001b[0m \u001b[0mself\u001b[0m\u001b[1;33m.\u001b[0m\u001b[0m_target\u001b[0m\u001b[1;33m(\u001b[0m\u001b[1;33m)\u001b[0m\u001b[1;33m.\u001b[0m\u001b[0m_settled_value\u001b[0m\u001b[1;33m(\u001b[0m\u001b[0m_raise\u001b[0m\u001b[1;33m)\u001b[0m\u001b[1;33m\u001b[0m\u001b[1;33m\u001b[0m\u001b[0m\n\u001b[0m\u001b[0;32m    517\u001b[0m \u001b[1;33m\u001b[0m\u001b[0m\n\u001b[0;32m    518\u001b[0m     \u001b[0m_value\u001b[0m \u001b[1;33m=\u001b[0m \u001b[0m_reason\u001b[0m \u001b[1;33m=\u001b[0m \u001b[0m_target_settled_value\u001b[0m\u001b[1;33m\u001b[0m\u001b[1;33m\u001b[0m\u001b[0m\n",
      "\u001b[1;32m~\\anaconda3\\envs\\tfenv\\lib\\site-packages\\promise\\promise.py\u001b[0m in \u001b[0;36m_settled_value\u001b[1;34m(self, _raise)\u001b[0m\n\u001b[0;32m    224\u001b[0m             \u001b[1;32mif\u001b[0m \u001b[0m_raise\u001b[0m\u001b[1;33m:\u001b[0m\u001b[1;33m\u001b[0m\u001b[1;33m\u001b[0m\u001b[0m\n\u001b[0;32m    225\u001b[0m                 \u001b[0mraise_val\u001b[0m \u001b[1;33m=\u001b[0m \u001b[0mself\u001b[0m\u001b[1;33m.\u001b[0m\u001b[0m_fulfillment_handler0\u001b[0m\u001b[1;33m\u001b[0m\u001b[1;33m\u001b[0m\u001b[0m\n\u001b[1;32m--> 226\u001b[1;33m                 \u001b[0mreraise\u001b[0m\u001b[1;33m(\u001b[0m\u001b[0mtype\u001b[0m\u001b[1;33m(\u001b[0m\u001b[0mraise_val\u001b[0m\u001b[1;33m)\u001b[0m\u001b[1;33m,\u001b[0m \u001b[0mraise_val\u001b[0m\u001b[1;33m,\u001b[0m \u001b[0mself\u001b[0m\u001b[1;33m.\u001b[0m\u001b[0m_traceback\u001b[0m\u001b[1;33m)\u001b[0m\u001b[1;33m\u001b[0m\u001b[1;33m\u001b[0m\u001b[0m\n\u001b[0m\u001b[0;32m    227\u001b[0m             \u001b[1;32mreturn\u001b[0m \u001b[0mself\u001b[0m\u001b[1;33m.\u001b[0m\u001b[0m_fulfillment_handler0\u001b[0m\u001b[1;33m\u001b[0m\u001b[1;33m\u001b[0m\u001b[0m\n\u001b[0;32m    228\u001b[0m \u001b[1;33m\u001b[0m\u001b[0m\n",
      "\u001b[1;32m~\\anaconda3\\envs\\tfenv\\lib\\site-packages\\six.py\u001b[0m in \u001b[0;36mreraise\u001b[1;34m(tp, value, tb)\u001b[0m\n\u001b[0;32m    717\u001b[0m             \u001b[1;32mif\u001b[0m \u001b[0mvalue\u001b[0m\u001b[1;33m.\u001b[0m\u001b[0m__traceback__\u001b[0m \u001b[1;32mis\u001b[0m \u001b[1;32mnot\u001b[0m \u001b[0mtb\u001b[0m\u001b[1;33m:\u001b[0m\u001b[1;33m\u001b[0m\u001b[1;33m\u001b[0m\u001b[0m\n\u001b[0;32m    718\u001b[0m                 \u001b[1;32mraise\u001b[0m \u001b[0mvalue\u001b[0m\u001b[1;33m.\u001b[0m\u001b[0mwith_traceback\u001b[0m\u001b[1;33m(\u001b[0m\u001b[0mtb\u001b[0m\u001b[1;33m)\u001b[0m\u001b[1;33m\u001b[0m\u001b[1;33m\u001b[0m\u001b[0m\n\u001b[1;32m--> 719\u001b[1;33m             \u001b[1;32mraise\u001b[0m \u001b[0mvalue\u001b[0m\u001b[1;33m\u001b[0m\u001b[1;33m\u001b[0m\u001b[0m\n\u001b[0m\u001b[0;32m    720\u001b[0m         \u001b[1;32mfinally\u001b[0m\u001b[1;33m:\u001b[0m\u001b[1;33m\u001b[0m\u001b[1;33m\u001b[0m\u001b[0m\n\u001b[0;32m    721\u001b[0m             \u001b[0mvalue\u001b[0m \u001b[1;33m=\u001b[0m \u001b[1;32mNone\u001b[0m\u001b[1;33m\u001b[0m\u001b[1;33m\u001b[0m\u001b[0m\n",
      "\u001b[1;32m~\\anaconda3\\envs\\tfenv\\lib\\site-packages\\promise\\promise.py\u001b[0m in \u001b[0;36mtry_catch\u001b[1;34m(handler, *args, **kwargs)\u001b[0m\n\u001b[0;32m     85\u001b[0m     \u001b[1;31m# type: (Callable, Any, Any) -> Union[Tuple[Any, None], Tuple[None, Tuple[Exception, Optional[TracebackType]]]]\u001b[0m\u001b[1;33m\u001b[0m\u001b[1;33m\u001b[0m\u001b[1;33m\u001b[0m\u001b[0m\n\u001b[0;32m     86\u001b[0m     \u001b[1;32mtry\u001b[0m\u001b[1;33m:\u001b[0m\u001b[1;33m\u001b[0m\u001b[1;33m\u001b[0m\u001b[0m\n\u001b[1;32m---> 87\u001b[1;33m         \u001b[1;32mreturn\u001b[0m \u001b[1;33m(\u001b[0m\u001b[0mhandler\u001b[0m\u001b[1;33m(\u001b[0m\u001b[1;33m*\u001b[0m\u001b[0margs\u001b[0m\u001b[1;33m,\u001b[0m \u001b[1;33m**\u001b[0m\u001b[0mkwargs\u001b[0m\u001b[1;33m)\u001b[0m\u001b[1;33m,\u001b[0m \u001b[1;32mNone\u001b[0m\u001b[1;33m)\u001b[0m\u001b[1;33m\u001b[0m\u001b[1;33m\u001b[0m\u001b[0m\n\u001b[0m\u001b[0;32m     88\u001b[0m     \u001b[1;32mexcept\u001b[0m \u001b[0mException\u001b[0m \u001b[1;32mas\u001b[0m \u001b[0me\u001b[0m\u001b[1;33m:\u001b[0m\u001b[1;33m\u001b[0m\u001b[1;33m\u001b[0m\u001b[0m\n\u001b[0;32m     89\u001b[0m         \u001b[0mtb\u001b[0m \u001b[1;33m=\u001b[0m \u001b[0mexc_info\u001b[0m\u001b[1;33m(\u001b[0m\u001b[1;33m)\u001b[0m\u001b[1;33m[\u001b[0m\u001b[1;36m2\u001b[0m\u001b[1;33m]\u001b[0m\u001b[1;33m\u001b[0m\u001b[1;33m\u001b[0m\u001b[0m\n",
      "\u001b[1;32m~\\anaconda3\\envs\\tfenv\\lib\\site-packages\\tensorflow_datasets\\core\\download\\download_manager.py\u001b[0m in \u001b[0;36m<lambda>\u001b[1;34m(dl_result)\u001b[0m\n\u001b[0;32m    357\u001b[0m \u001b[1;33m\u001b[0m\u001b[0m\n\u001b[0;32m    358\u001b[0m     \u001b[1;31m# Post-process the result\u001b[0m\u001b[1;33m\u001b[0m\u001b[1;33m\u001b[0m\u001b[1;33m\u001b[0m\u001b[0m\n\u001b[1;32m--> 359\u001b[1;33m     return future.then(lambda dl_result: self._register_or_validate_checksums(  # pylint: disable=g-long-lambda\n\u001b[0m\u001b[0;32m    360\u001b[0m         \u001b[0murl\u001b[0m\u001b[1;33m=\u001b[0m\u001b[0murl\u001b[0m\u001b[1;33m,\u001b[0m\u001b[1;33m\u001b[0m\u001b[1;33m\u001b[0m\u001b[0m\n\u001b[0;32m    361\u001b[0m         \u001b[0mpath\u001b[0m\u001b[1;33m=\u001b[0m\u001b[0mdl_result\u001b[0m\u001b[1;33m.\u001b[0m\u001b[0mpath\u001b[0m\u001b[1;33m,\u001b[0m\u001b[1;33m\u001b[0m\u001b[1;33m\u001b[0m\u001b[0m\n",
      "\u001b[1;32m~\\anaconda3\\envs\\tfenv\\lib\\site-packages\\tensorflow_datasets\\core\\download\\download_manager.py\u001b[0m in \u001b[0;36m_register_or_validate_checksums\u001b[1;34m(self, path, url, expected_url_info, computed_url_info, checksum_path, url_path)\u001b[0m\n\u001b[0;32m    412\u001b[0m       \u001b[1;31m#   download). This is expected as it might mean the downloaded file\u001b[0m\u001b[1;33m\u001b[0m\u001b[1;33m\u001b[0m\u001b[1;33m\u001b[0m\u001b[0m\n\u001b[0;32m    413\u001b[0m       \u001b[1;31m#   was corrupted. Note: The tmp file isn't deleted to allow inspection.\u001b[0m\u001b[1;33m\u001b[0m\u001b[1;33m\u001b[0m\u001b[1;33m\u001b[0m\u001b[0m\n\u001b[1;32m--> 414\u001b[1;33m       _validate_checksums(\n\u001b[0m\u001b[0;32m    415\u001b[0m           \u001b[0murl\u001b[0m\u001b[1;33m=\u001b[0m\u001b[0murl\u001b[0m\u001b[1;33m,\u001b[0m\u001b[1;33m\u001b[0m\u001b[1;33m\u001b[0m\u001b[0m\n\u001b[0;32m    416\u001b[0m           \u001b[0mpath\u001b[0m\u001b[1;33m=\u001b[0m\u001b[0mpath\u001b[0m\u001b[1;33m,\u001b[0m\u001b[1;33m\u001b[0m\u001b[1;33m\u001b[0m\u001b[0m\n",
      "\u001b[1;32m~\\anaconda3\\envs\\tfenv\\lib\\site-packages\\tensorflow_datasets\\core\\download\\download_manager.py\u001b[0m in \u001b[0;36m_validate_checksums\u001b[1;34m(url, path, computed_url_info, expected_url_info, force_checksums_validation)\u001b[0m\n\u001b[0;32m    745\u001b[0m         \u001b[1;34m'https://www.tensorflow.org/datasets/overview#fixing_nonmatchingchecksumerror'\u001b[0m\u001b[1;33m\u001b[0m\u001b[1;33m\u001b[0m\u001b[0m\n\u001b[0;32m    746\u001b[0m     )\n\u001b[1;32m--> 747\u001b[1;33m     \u001b[1;32mraise\u001b[0m \u001b[0mNonMatchingChecksumError\u001b[0m\u001b[1;33m(\u001b[0m\u001b[0mmsg\u001b[0m\u001b[1;33m)\u001b[0m\u001b[1;33m\u001b[0m\u001b[1;33m\u001b[0m\u001b[0m\n\u001b[0m\u001b[0;32m    748\u001b[0m \u001b[1;33m\u001b[0m\u001b[0m\n\u001b[0;32m    749\u001b[0m \u001b[1;33m\u001b[0m\u001b[0m\n",
      "\u001b[1;31mNonMatchingChecksumError\u001b[0m: Artifact https://drive.google.com/uc?export=download&id=0B7EVK8r0v71pZjFTYXZWM3FlRnM, downloaded to C:\\Users\\admin\\tensorflow_datasets\\downloads\\ucexport_download_id_0B7EVK8r0v71pZjFTYXZWM3FlDDaXUAQO8EGH_a7VqGNLRtW52mva1LzDrb-V723OQN8.tmp.e86598a53d084d3c94d2d7be3b1fb33f\\ServiceLogin, has wrong checksum:\n* Expected: UrlInfo(size=1.34 GiB, checksum='46fb89443c578308acf364d7d379fe1b9efb793042c0af734b6112e4fd3a8c74', filename='img_align_celeba.zip')\n* Got: UrlInfo(size=89.00 KiB, checksum='81f7459dc4c308cac666af196bae63b529f47eaa1606d600b595311dc4c8b58b', filename='ServiceLogin')\nTo debug, see: https://www.tensorflow.org/datasets/overview#fixing_nonmatchingchecksumerror"
     ]
    }
   ],
   "source": [
    "celeb_a = tfds.load('celeb_a')"
   ]
  },
  {
   "cell_type": "code",
   "execution_count": 80,
   "id": "20b25f70-4a18-4554-bf7e-27fc5a3f3dc3",
   "metadata": {},
   "outputs": [
    {
     "ename": "NameError",
     "evalue": "name 'celeb_a' is not defined",
     "output_type": "error",
     "traceback": [
      "\u001b[1;31m---------------------------------------------------------------------------\u001b[0m",
      "\u001b[1;31mNameError\u001b[0m                                 Traceback (most recent call last)",
      "\u001b[1;32m~\\AppData\\Local\\Temp/ipykernel_21172/204816269.py\u001b[0m in \u001b[0;36m<module>\u001b[1;34m\u001b[0m\n\u001b[0;32m      1\u001b[0m \u001b[1;31m#만약에 위의 데이터를 받았다고 한다면\u001b[0m\u001b[1;33m\u001b[0m\u001b[1;33m\u001b[0m\u001b[1;33m\u001b[0m\u001b[0m\n\u001b[1;32m----> 2\u001b[1;33m \u001b[0mceleb_a_train\u001b[0m\u001b[1;33m,\u001b[0m \u001b[0mceleb_a_test\u001b[0m \u001b[1;33m=\u001b[0m \u001b[0mceleb_a\u001b[0m\u001b[1;33m[\u001b[0m\u001b[1;34m'validation'\u001b[0m\u001b[1;33m]\u001b[0m\u001b[1;33m,\u001b[0m \u001b[0mceleb_a\u001b[0m\u001b[1;33m[\u001b[0m\u001b[1;34m'test'\u001b[0m\u001b[1;33m]\u001b[0m\u001b[1;33m\u001b[0m\u001b[1;33m\u001b[0m\u001b[0m\n\u001b[0m\u001b[0;32m      3\u001b[0m \u001b[1;33m\u001b[0m\u001b[0m\n\u001b[0;32m      4\u001b[0m \u001b[0mtrain_images\u001b[0m \u001b[1;33m=\u001b[0m \u001b[1;33m[\u001b[0m\u001b[1;33m]\u001b[0m\u001b[1;33m\u001b[0m\u001b[1;33m\u001b[0m\u001b[0m\n\u001b[0;32m      5\u001b[0m \u001b[0mtrain_labels\u001b[0m \u001b[1;33m=\u001b[0m \u001b[1;33m[\u001b[0m\u001b[1;33m]\u001b[0m\u001b[1;33m\u001b[0m\u001b[1;33m\u001b[0m\u001b[0m\n",
      "\u001b[1;31mNameError\u001b[0m: name 'celeb_a' is not defined"
     ]
    }
   ],
   "source": [
    "#만약에 위의 데이터를 받았다고 한다면 \n",
    "celeb_a_train, celeb_a_test = celeb_a['validation'], celeb_a['test']\n",
    "\n",
    "train_images = []\n",
    "train_labels = []\n",
    "\n",
    "for tensor in tfds.as_numpy(celeb_a_train):\n",
    "    isMale = tensor['attributes']['Male']\n",
    "    isSmiling = tensor['attributes']['Smiling']\n",
    "    \n",
    "    label = np.array([isMale, isSmiling]).astype(np.int8)\n",
    "    \n",
    "    img = tensor['image']\n",
    "    "
   ]
  },
  {
   "cell_type": "code",
   "execution_count": 62,
   "id": "43c7c852-666b-42be-a8a0-8d5580cbf4e5",
   "metadata": {},
   "outputs": [],
   "source": [
    "import imageio\n",
    "from skimage.transform import resize"
   ]
  },
  {
   "cell_type": "code",
   "execution_count": 66,
   "id": "a1040ccf-6d59-4d3d-b1f3-0442a024963a",
   "metadata": {},
   "outputs": [],
   "source": [
    "celeba_small = np.load('./celeba_small.npz')"
   ]
  },
  {
   "cell_type": "code",
   "execution_count": 67,
   "id": "135b2ddd-1026-44d4-9bfe-5cc9d16d2dd5",
   "metadata": {},
   "outputs": [],
   "source": [
    "x = celeba_small['train_images'][1]\n",
    "y = celeba_small['train_labels'][1]"
   ]
  },
  {
   "cell_type": "code",
   "execution_count": 85,
   "id": "c27e7faa-ec70-4664-b2d8-ea18c3d425b5",
   "metadata": {},
   "outputs": [
    {
     "data": {
      "image/png": "[encoded data removed]",
      "text/plain": [
       "<Figure size 432x288 with 1 Axes>"
      ]
     },
     "metadata": {
      "needs_background": "light"
     },
     "output_type": "display_data"
    },
    {
     "name": "stdout",
     "output_type": "stream",
     "text": [
      "[1 1]\n"
     ]
    }
   ],
   "source": [
    "plt.imshow(x, cmap='gray')\n",
    "plt.show()\n",
    "print(y) # 0여자 1 남자 , 0 no smile 1 smile"
   ]
  },
  {
   "cell_type": "code",
   "execution_count": 69,
   "id": "4085a516-9e34-42cb-9ec4-966aa93ed054",
   "metadata": {},
   "outputs": [
    {
     "data": {
      "text/plain": [
       "((72, 59, 3), (2,))"
      ]
     },
     "execution_count": 69,
     "metadata": {},
     "output_type": "execute_result"
    }
   ],
   "source": [
    "x.shape, y.shape"
   ]
  },
  {
   "cell_type": "code",
   "execution_count": 70,
   "id": "feebe898-470d-4c35-9647-02acf98c6e15",
   "metadata": {},
   "outputs": [],
   "source": [
    "x_train = celeba_small['train_images']\n",
    "y_train = celeba_small['train_labels']\n",
    "x_test = celeba_small['test_images']\n",
    "y_test = celeba_small['test_labels']\n"
   ]
  },
  {
   "cell_type": "code",
   "execution_count": 73,
   "id": "ef72c1b8-fda0-49a6-a2ea-071365b820db",
   "metadata": {},
   "outputs": [
    {
     "data": {
      "text/plain": [
       "array([0.02352941, 0.04313725, 0.05490196, 0.01960784, 0.03921569,\n",
       "       0.05490196, 0.01977401, 0.03921569, 0.05114656, 0.02352941])"
      ]
     },
     "execution_count": 73,
     "metadata": {},
     "output_type": "execute_result"
    }
   ],
   "source": [
    "#x_train에서 0이 아닌 값 출력  왜 0이 아닌거? \n",
    "x_train[x_train != 0] [:10]"
   ]
  },
  {
   "cell_type": "code",
   "execution_count": 75,
   "id": "00b07a1b-54bd-4014-9d05-6f47ab69e187",
   "metadata": {},
   "outputs": [
    {
     "data": {
      "text/plain": [
       "(dtype('float64'), 'f')"
      ]
     },
     "execution_count": 75,
     "metadata": {},
     "output_type": "execute_result"
    }
   ],
   "source": [
    "x_train.dtype, x_train.dtype.kind"
   ]
  },
  {
   "cell_type": "code",
   "execution_count": 78,
   "id": "066096ac-84f1-4b5c-891b-cc93cbd1ad76",
   "metadata": {},
   "outputs": [
    {
     "name": "stdout",
     "output_type": "stream",
     "text": [
      "0.0 1.0\n",
      "0 1\n"
     ]
    }
   ],
   "source": [
    "print(np.min(x_train), np.max(x_train))\n",
    "print(np.min(y_train), np.max(y_train))"
   ]
  },
  {
   "cell_type": "code",
   "execution_count": 79,
   "id": "7becaac8-88bc-4271-9870-5b54099a4bb5",
   "metadata": {},
   "outputs": [
    {
     "data": {
      "text/plain": [
       "array([0, 0], dtype=int8)"
      ]
     },
     "execution_count": 79,
     "metadata": {},
     "output_type": "execute_result"
    }
   ],
   "source": [
    "y_train[0]"
   ]
  },
  {
   "cell_type": "code",
   "execution_count": 82,
   "id": "0d17ed49-0842-4882-b8f4-c098a6c2a1c0",
   "metadata": {},
   "outputs": [],
   "source": [
    "from tensorflow.keras.utils import to_categorical"
   ]
  },
  {
   "cell_type": "code",
   "execution_count": 84,
   "id": "acef78ef-7ce5-4df0-961e-6c56768c5758",
   "metadata": {},
   "outputs": [
    {
     "name": "stdout",
     "output_type": "stream",
     "text": [
      "(2000, 72, 59, 3) (200, 72, 59, 3)\n",
      "int8 int8\n"
     ]
    }
   ],
   "source": [
    "print(x_train.shape, x_test.shape)\n",
    "print(y_train.dtype, y_test.dtype)\n"
   ]
  },
  {
   "cell_type": "code",
   "execution_count": 86,
   "id": "fbec84a2-34b8-4a4c-971c-3b871834c503",
   "metadata": {},
   "outputs": [],
   "source": [
    "train_male_labels, train_smile_labels = np.split(y_train, 2, axis=1)\n",
    "test_male_labels, test_smile_labels = np.split(y_test, 2, axis=1)\n",
    "# print(train_male_labels.shape, train_smile_label.shape) # (2000, 1) (2000, 1)\n",
    "# print(train_male_labels[0], train_smile_label[0]) # [0] [0]\n",
    "\n",
    "# train_labels[0] # array([0, 0], dtype=int8)\n",
    "# print(train_labels[0][0]) # 0\n",
    "\n",
    "train_male_labels = to_categorical(train_male_labels)\n",
    "train_smile_labels = to_categorical(train_smile_labels)\n",
    "test_male_labels = to_categorical(test_male_labels)\n",
    "test_smile_labels = to_categorical(test_smile_labels)"
   ]
  },
  {
   "cell_type": "code",
   "execution_count": 87,
   "id": "2350eb0a-2bd1-4170-95bf-1782c6dc9bbd",
   "metadata": {},
   "outputs": [
    {
     "name": "stdout",
     "output_type": "stream",
     "text": [
      "(2000, 2)\n",
      "(2000, 2)\n",
      "(200, 2)\n",
      "(200, 2)\n"
     ]
    }
   ],
   "source": [
    "print(train_male_labels.shape)\n",
    "print(train_smile_labels.shape)\n",
    "print(test_male_labels.shape)\n",
    "print(test_smile_labels.shape)"
   ]
  },
  {
   "cell_type": "code",
   "execution_count": 88,
   "id": "6088b5e1-82cc-482a-9da2-4bcf6e3be41c",
   "metadata": {},
   "outputs": [
    {
     "name": "stdout",
     "output_type": "stream",
     "text": [
      "(2000, 4) (200, 4)\n"
     ]
    }
   ],
   "source": [
    "#원한 인코딩을 한 후에 레이블을 다시 만드는 과정 \n",
    "train_labels2 = np.concatenate([ train_male_labels, train_smile_labels] , axis = 1)\n",
    "test_labels2 = np.concatenate([ test_male_labels, test_smile_labels] , axis = 1)\n",
    "print(train_labels2.shape, test_labels2.shape)"
   ]
  },
  {
   "cell_type": "code",
   "execution_count": 89,
   "id": "401f04b2-72ad-46fb-a118-6728f7a2234d",
   "metadata": {},
   "outputs": [
    {
     "data": {
      "text/plain": [
       "array([[[[0.02352941, 0.04313725, 0.05490196],\n",
       "         [0.01960784, 0.03921569, 0.05490196],\n",
       "         [0.01977401, 0.03921569, 0.05114656],\n",
       "         ...,\n",
       "         [0.03529412, 0.0547381 , 0.05865736],\n",
       "         [0.03137255, 0.05490196, 0.05882353],\n",
       "         [0.03137255, 0.05490196, 0.06663343]],\n",
       "\n",
       "        [[0.02352941, 0.04313725, 0.05490196],\n",
       "         [0.02352941, 0.03921569, 0.05490196],\n",
       "         [0.01960784, 0.03921569, 0.05098039],\n",
       "         ...,\n",
       "         [0.03137255, 0.05490196, 0.05898693],\n",
       "         [0.03137255, 0.05490196, 0.05882353],\n",
       "         [0.03137255, 0.05490196, 0.06271186]],\n",
       "\n",
       "        [[0.02352941, 0.04313725, 0.05490196],\n",
       "         [0.02352941, 0.03948109, 0.05490196],\n",
       "         [0.01960784, 0.03921569, 0.05098039],\n",
       "         ...,\n",
       "         [0.03163334, 0.05490196, 0.06291127],\n",
       "         [0.03529412, 0.05490196, 0.05909586],\n",
       "         [0.03140347, 0.05490196, 0.06271186]],\n",
       "\n",
       "        ...,\n",
       "\n",
       "        [[0.15206002, 0.25429314, 0.44316818],\n",
       "         [0.11639757, 0.21470911, 0.43367259],\n",
       "         [0.06361287, 0.16602369, 0.35300118],\n",
       "         ...,\n",
       "         [0.14084413, 0.30549001, 0.23898951],\n",
       "         [0.15294118, 0.32931899, 0.25098039],\n",
       "         [0.13783049, 0.31798355, 0.25125042]],\n",
       "\n",
       "        [[0.14539022, 0.25127119, 0.42424809],\n",
       "         [0.13296222, 0.23482331, 0.44282984],\n",
       "         [0.06276587, 0.16881439, 0.34446106],\n",
       "         ...,\n",
       "         [0.12924283, 0.29361637, 0.22711587],\n",
       "         [0.15284563, 0.33313393, 0.25480226],\n",
       "         [0.13731998, 0.32536003, 0.25490196]],\n",
       "\n",
       "        [[0.11009979, 0.21606892, 0.37695294],\n",
       "         [0.13323502, 0.23911599, 0.43132731],\n",
       "         [0.08108545, 0.18713397, 0.35885215],\n",
       "         ...,\n",
       "         [0.12128845, 0.28174273, 0.2191615 ],\n",
       "         [0.14510589, 0.32524694, 0.24696835],\n",
       "         [0.1412097 , 0.32552389, 0.25879076]]],\n",
       "\n",
       "\n",
       "       [[[0.74117647, 0.7372549 , 0.76078431],\n",
       "         [0.74509804, 0.74117647, 0.76470588],\n",
       "         [0.74509804, 0.74509804, 0.76470588],\n",
       "         ...,\n",
       "         [0.6471156 , 0.6588803 , 0.67848815],\n",
       "         [0.64711329, 0.658878  , 0.67848584],\n",
       "         [0.64711329, 0.658878  , 0.67848584]],\n",
       "\n",
       "        [[0.73728814, 0.73336657, 0.75689598],\n",
       "         [0.74127617, 0.7373546 , 0.76088401],\n",
       "         [0.74509804, 0.74134264, 0.76470588],\n",
       "         ...,\n",
       "         [0.65914617, 0.67091088, 0.69051872],\n",
       "         [0.65490611, 0.66667082, 0.68627866],\n",
       "         [0.65490196, 0.66666667, 0.68627451]],\n",
       "\n",
       "        [[0.73728814, 0.73336657, 0.75689598],\n",
       "         [0.74127617, 0.7373546 , 0.76088401],\n",
       "         [0.74509804, 0.74134264, 0.76470588],\n",
       "         ...,\n",
       "         [0.66291127, 0.67467597, 0.69428382],\n",
       "         [0.65526707, 0.66703178, 0.68663962],\n",
       "         [0.65487104, 0.66663574, 0.68624358]],\n",
       "\n",
       "        ...,\n",
       "\n",
       "        [[0.10561002, 0.10561002, 0.11345316],\n",
       "         [0.10570972, 0.10570972, 0.11355286],\n",
       "         [0.11361933, 0.11361933, 0.12146246],\n",
       "         ...,\n",
       "         [0.15224189, 0.15224189, 0.16008502],\n",
       "         [0.14083121, 0.14083121, 0.14867435],\n",
       "         [0.12497877, 0.12497877, 0.1328219 ]],\n",
       "\n",
       "        [[0.11748366, 0.11748366, 0.1253268 ],\n",
       "         [0.1252631 , 0.1252631 , 0.13310624],\n",
       "         [0.13676886, 0.13676886, 0.144612  ],\n",
       "         ...,\n",
       "         [0.14885344, 0.14885344, 0.15669658],\n",
       "         [0.14519774, 0.14519774, 0.15304088],\n",
       "         [0.14117647, 0.14117647, 0.14901961]],\n",
       "\n",
       "        [[0.13325763, 0.13325763, 0.14110077],\n",
       "         [0.14106892, 0.14106892, 0.14891206],\n",
       "         [0.15283224, 0.15283224, 0.16067538],\n",
       "         ...,\n",
       "         [0.15255668, 0.15255668, 0.16039982],\n",
       "         [0.1566555 , 0.1566555 , 0.16449863],\n",
       "         [0.14516404, 0.14516404, 0.15300718]]],\n",
       "\n",
       "\n",
       "       [[[0.99607843, 0.99607843, 0.99607843],\n",
       "         [0.99607843, 0.99607843, 0.99607843],\n",
       "         [0.99607843, 0.99607843, 0.99607843],\n",
       "         ...,\n",
       "         [0.99607843, 0.99607843, 0.99607843],\n",
       "         [0.99607843, 0.99607843, 0.99607843],\n",
       "         [0.99607843, 0.99607843, 0.99607843]],\n",
       "\n",
       "        [[0.99607843, 0.99607843, 0.99607843],\n",
       "         [0.99607843, 0.99607843, 0.99607843],\n",
       "         [0.99607843, 0.99607843, 0.99607843],\n",
       "         ...,\n",
       "         [0.99607843, 0.99607843, 0.99607843],\n",
       "         [0.99607843, 0.99607843, 0.99607843],\n",
       "         [0.99607843, 0.99607843, 0.99607843]],\n",
       "\n",
       "        [[0.99607843, 0.99607843, 0.99607843],\n",
       "         [0.99607843, 0.99607843, 0.99607843],\n",
       "         [0.99607843, 0.99607843, 0.99607843],\n",
       "         ...,\n",
       "         [0.99607843, 0.99607843, 0.99607843],\n",
       "         [0.99607843, 0.99607843, 0.99607843],\n",
       "         [0.99607843, 0.99607843, 0.99607843]],\n",
       "\n",
       "        ...,\n",
       "\n",
       "        [[0.0627451 , 0.05490196, 0.07058824],\n",
       "         [0.0627451 , 0.05490196, 0.07049546],\n",
       "         [0.06259047, 0.05474733, 0.06666667],\n",
       "         ...,\n",
       "         [0.02703556, 0.02703556, 0.02703556],\n",
       "         [0.07123952, 0.07123952, 0.07097411],\n",
       "         [0.01994664, 0.01994664, 0.01186441]],\n",
       "\n",
       "        [[0.0627451 , 0.05490196, 0.06666667],\n",
       "         [0.06264955, 0.05480641, 0.06657112],\n",
       "         [0.05882353, 0.05098039, 0.0627451 ],\n",
       "         ...,\n",
       "         [0.01583583, 0.01583583, 0.01583583],\n",
       "         [0.05859643, 0.05859643, 0.05859643],\n",
       "         [0.04679711, 0.05052481, 0.03898721]],\n",
       "\n",
       "        [[0.058878  , 0.05103486, 0.06279956],\n",
       "         [0.05872521, 0.05088208, 0.06264678],\n",
       "         [0.05495643, 0.04711329, 0.058878  ],\n",
       "         ...,\n",
       "         [0.01955568, 0.01955568, 0.01955568],\n",
       "         [0.05043665, 0.05043665, 0.05043665],\n",
       "         [0.09008715, 0.09008715, 0.08219   ]]],\n",
       "\n",
       "\n",
       "       [[[0.09406364, 0.06685361, 0.05889046],\n",
       "         [0.05032772, 0.0625457 , 0.04675834],\n",
       "         [0.03965972, 0.08284914, 0.05540047],\n",
       "         ...,\n",
       "         [0.96078431, 0.90980392, 0.78431373],\n",
       "         [0.96078431, 0.90980392, 0.78431373],\n",
       "         [0.96078431, 0.90980392, 0.78431373]],\n",
       "\n",
       "        [[0.07029606, 0.06271325, 0.04699374],\n",
       "         [0.03888473, 0.05879168, 0.04294201],\n",
       "         [0.03594217, 0.07875679, 0.05931511],\n",
       "         ...,\n",
       "         [0.96078431, 0.90980392, 0.78431373],\n",
       "         [0.96078431, 0.90980392, 0.78431373],\n",
       "         [0.95686275, 0.90588235, 0.78039216]],\n",
       "\n",
       "        [[0.07536003, 0.05472702, 0.03484916],\n",
       "         [0.07959363, 0.0784383 , 0.05892323],\n",
       "         [0.05920202, 0.07772054, 0.0623666 ],\n",
       "         ...,\n",
       "         [0.96078431, 0.90980392, 0.78431373],\n",
       "         [0.96078431, 0.90980392, 0.78431373],\n",
       "         [0.95686275, 0.90588235, 0.78039216]],\n",
       "\n",
       "        ...,\n",
       "\n",
       "        [[0.84669141, 0.81166962, 0.66295327],\n",
       "         [0.78253896, 0.75143874, 0.61036197],\n",
       "         [0.66143329, 0.63790388, 0.50824286],\n",
       "         ...,\n",
       "         [0.46175409, 0.39891437, 0.3083398 ],\n",
       "         [0.59728084, 0.52313615, 0.42491738],\n",
       "         [0.74223164, 0.67918328, 0.57694786]],\n",
       "\n",
       "        [[0.58966849, 0.55045281, 0.40927634],\n",
       "         [0.41587598, 0.38058187, 0.24342251],\n",
       "         [0.30208956, 0.26712501, 0.14180099],\n",
       "         ...,\n",
       "         [0.33167304, 0.26517254, 0.20242606],\n",
       "         [0.42336186, 0.35277362, 0.27794118],\n",
       "         [0.38744184, 0.3209358 , 0.22668938]],\n",
       "\n",
       "        [[0.3065558 , 0.25563033, 0.12224253],\n",
       "         [0.27838983, 0.23138547, 0.10599359],\n",
       "         [0.26689699, 0.22768362, 0.11020273],\n",
       "         ...,\n",
       "         [0.20268362, 0.14380793, 0.08940447],\n",
       "         [0.39512389, 0.32845722, 0.25791561],\n",
       "         [0.34936348, 0.28653115, 0.18864564]]],\n",
       "\n",
       "\n",
       "       [[[0.43150548, 0.73732137, 0.75699568],\n",
       "         [0.44333666, 0.73343303, 0.76088401],\n",
       "         [0.51422399, 0.7849784 , 0.81618478],\n",
       "         ...,\n",
       "         [0.49395148, 0.61159854, 0.66241276],\n",
       "         [0.48627451, 0.59617813, 0.65490196],\n",
       "         [0.47457627, 0.58438019, 0.65490196]],\n",
       "\n",
       "        [[0.43150548, 0.7373546 , 0.75696245],\n",
       "         [0.44333666, 0.73333333, 0.76088401],\n",
       "         [0.51030243, 0.78481223, 0.81994295],\n",
       "         ...,\n",
       "         [0.49395148, 0.60784314, 0.65865736],\n",
       "         [0.48637421, 0.6000997 , 0.65500166],\n",
       "         [0.47454304, 0.58438019, 0.65098039]],\n",
       "\n",
       "        [[0.43177781, 0.7373546 , 0.75723478],\n",
       "         [0.44689312, 0.73306793, 0.76061168],\n",
       "         [0.51030243, 0.78508456, 0.81619632],\n",
       "         ...,\n",
       "         [0.49396302, 0.60784314, 0.65865736],\n",
       "         [0.48637421, 0.6000997 , 0.65500166],\n",
       "         [0.47454304, 0.58437788, 0.65098039]],\n",
       "\n",
       "        ...,\n",
       "\n",
       "        [[0.23543351, 0.53347273, 0.58445312],\n",
       "         [0.19643062, 0.49446983, 0.54545022],\n",
       "         [0.18225232, 0.48029153, 0.53127192],\n",
       "         ...,\n",
       "         [0.12637873, 0.17369835, 0.22049638],\n",
       "         [0.12576253, 0.18057171, 0.22370897],\n",
       "         [0.13384245, 0.18485839, 0.22799564]],\n",
       "\n",
       "        [[0.22356126, 0.52160048, 0.57258087],\n",
       "         [0.17267226, 0.47071148, 0.52169187],\n",
       "         [0.16143929, 0.45947851, 0.5104589 ],\n",
       "         ...,\n",
       "         [0.14085937, 0.18759278, 0.22320954],\n",
       "         [0.14094107, 0.19182591, 0.22737897],\n",
       "         [0.12581699, 0.17666722, 0.21212474]],\n",
       "\n",
       "        [[0.1961749 , 0.49421412, 0.54519451],\n",
       "         [0.17626195, 0.47430117, 0.52528156],\n",
       "         [0.17299306, 0.47103227, 0.52201267],\n",
       "         ...,\n",
       "         [0.12962963, 0.16889747, 0.20435776],\n",
       "         [0.14888667, 0.19207701, 0.22737113],\n",
       "         [0.16846451, 0.20773513, 0.24311602]]]])"
      ]
     },
     "execution_count": 89,
     "metadata": {},
     "output_type": "execute_result"
    }
   ],
   "source": [
    "x_train[:5]"
   ]
  },
  {
   "cell_type": "code",
   "execution_count": 90,
   "id": "92189174-8a64-4949-bb03-b153778200f8",
   "metadata": {},
   "outputs": [
    {
     "data": {
      "image/png": "[encoded data removed]",
      "text/plain": [
       "<Figure size 432x288 with 1 Axes>"
      ]
     },
     "metadata": {
      "needs_background": "light"
     },
     "output_type": "display_data"
    }
   ],
   "source": [
    "plt.imshow(np.hstack(x_train[:5]))\n",
    "plt.show()\n"
   ]
  },
  {
   "cell_type": "code",
   "execution_count": 91,
   "id": "e70b988a-f45e-41f9-8bcc-93c9737d4094",
   "metadata": {},
   "outputs": [
    {
     "name": "stdout",
     "output_type": "stream",
     "text": [
      "(array([1., 0.], dtype=float32), array([1., 0.], dtype=float32))\n",
      "(array([0., 1.], dtype=float32), array([0., 1.], dtype=float32))\n",
      "(array([0., 1.], dtype=float32), array([1., 0.], dtype=float32))\n",
      "(array([0., 1.], dtype=float32), array([0., 1.], dtype=float32))\n",
      "(array([0., 1.], dtype=float32), array([0., 1.], dtype=float32))\n"
     ]
    }
   ],
   "source": [
    "for i, label in enumerate(zip(train_male_labels, train_smile_labels)):\n",
    "    if i == 5:\n",
    "        break\n",
    "    print(label)"
   ]
  },
  {
   "cell_type": "code",
   "execution_count": 93,
   "id": "00660ae9-c9c7-4e3a-8bcd-f7879bc6a6f7",
   "metadata": {},
   "outputs": [
    {
     "name": "stdout",
     "output_type": "stream",
     "text": [
      "gender  smile\n",
      "0       0        499\n",
      "        1        507\n",
      "1       0        504\n",
      "        1        490\n",
      "dtype: int64\n"
     ]
    }
   ],
   "source": [
    "df = pd.DataFrame(y_train, columns=['gender','smile'])\n",
    "print(df.groupby(['gender', 'smile']).size())"
   ]
  },
  {
   "cell_type": "code",
   "execution_count": null,
   "id": "c6922635-9423-430b-88af-c4d6915e29a2",
   "metadata": {},
   "outputs": [],
   "source": []
  }
 ],
 "metadata": {
  "kernelspec": {
   "display_name": "Python 3 (ipykernel)",
   "language": "python",
   "name": "python3"
  },
  "language_info": {
   "codemirror_mode": {
    "name": "ipython",
    "version": 3
   },
   "file_extension": ".py",
   "mimetype": "text/x-python",
   "name": "python",
   "nbconvert_exporter": "python",
   "pygments_lexer": "ipython3",
   "version": "3.8.12"
  }
 },
 "nbformat": 4,
 "nbformat_minor": 5
}
