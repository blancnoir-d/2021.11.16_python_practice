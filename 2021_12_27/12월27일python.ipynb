{
 "cells": [
  {
   "cell_type": "code",
   "execution_count": 425,
   "id": "5320d270-fc5c-4fd6-abee-24a00a811d7a",
   "metadata": {},
   "outputs": [],
   "source": [
    "import pandas as pd\n",
    "import numpy as np\n",
    "import tensorflow as tf\n",
    "from tensorflow import keras \n",
    "import matplotlib.pyplot as plt"
   ]
  },
  {
   "cell_type": "code",
   "execution_count": 426,
   "id": "0f3e3d80-deae-400f-92d7-a50d1fbb7876",
   "metadata": {},
   "outputs": [
    {
     "data": {
      "text/html": [
       "<div>\n",
       "<style scoped>\n",
       "    .dataframe tbody tr th:only-of-type {\n",
       "        vertical-align: middle;\n",
       "    }\n",
       "\n",
       "    .dataframe tbody tr th {\n",
       "        vertical-align: top;\n",
       "    }\n",
       "\n",
       "    .dataframe thead th {\n",
       "        text-align: right;\n",
       "    }\n",
       "</style>\n",
       "<table border=\"1\" class=\"dataframe\">\n",
       "  <thead>\n",
       "    <tr style=\"text-align: right;\">\n",
       "      <th></th>\n",
       "      <th>admit</th>\n",
       "      <th>gre</th>\n",
       "      <th>gpa</th>\n",
       "      <th>rank</th>\n",
       "    </tr>\n",
       "  </thead>\n",
       "  <tbody>\n",
       "    <tr>\n",
       "      <th>0</th>\n",
       "      <td>0</td>\n",
       "      <td>380.0</td>\n",
       "      <td>3.21</td>\n",
       "      <td>3</td>\n",
       "    </tr>\n",
       "    <tr>\n",
       "      <th>1</th>\n",
       "      <td>1</td>\n",
       "      <td>660.0</td>\n",
       "      <td>3.67</td>\n",
       "      <td>3</td>\n",
       "    </tr>\n",
       "    <tr>\n",
       "      <th>2</th>\n",
       "      <td>1</td>\n",
       "      <td>800.0</td>\n",
       "      <td>4.00</td>\n",
       "      <td>1</td>\n",
       "    </tr>\n",
       "    <tr>\n",
       "      <th>3</th>\n",
       "      <td>1</td>\n",
       "      <td>640.0</td>\n",
       "      <td>3.19</td>\n",
       "      <td>4</td>\n",
       "    </tr>\n",
       "    <tr>\n",
       "      <th>4</th>\n",
       "      <td>0</td>\n",
       "      <td>520.0</td>\n",
       "      <td>2.33</td>\n",
       "      <td>4</td>\n",
       "    </tr>\n",
       "    <tr>\n",
       "      <th>...</th>\n",
       "      <td>...</td>\n",
       "      <td>...</td>\n",
       "      <td>...</td>\n",
       "      <td>...</td>\n",
       "    </tr>\n",
       "    <tr>\n",
       "      <th>421</th>\n",
       "      <td>1</td>\n",
       "      <td>750.0</td>\n",
       "      <td>3.44</td>\n",
       "      <td>4</td>\n",
       "    </tr>\n",
       "    <tr>\n",
       "      <th>422</th>\n",
       "      <td>1</td>\n",
       "      <td>710.0</td>\n",
       "      <td>3.66</td>\n",
       "      <td>4</td>\n",
       "    </tr>\n",
       "    <tr>\n",
       "      <th>423</th>\n",
       "      <td>0</td>\n",
       "      <td>450.0</td>\n",
       "      <td>3.25</td>\n",
       "      <td>4</td>\n",
       "    </tr>\n",
       "    <tr>\n",
       "      <th>424</th>\n",
       "      <td>1</td>\n",
       "      <td>760.0</td>\n",
       "      <td>3.76</td>\n",
       "      <td>2</td>\n",
       "    </tr>\n",
       "    <tr>\n",
       "      <th>425</th>\n",
       "      <td>1</td>\n",
       "      <td>710.0</td>\n",
       "      <td>3.82</td>\n",
       "      <td>3</td>\n",
       "    </tr>\n",
       "  </tbody>\n",
       "</table>\n",
       "<p>426 rows × 4 columns</p>\n",
       "</div>"
      ],
      "text/plain": [
       "     admit    gre   gpa  rank\n",
       "0        0  380.0  3.21     3\n",
       "1        1  660.0  3.67     3\n",
       "2        1  800.0  4.00     1\n",
       "3        1  640.0  3.19     4\n",
       "4        0  520.0  2.33     4\n",
       "..     ...    ...   ...   ...\n",
       "421      1  750.0  3.44     4\n",
       "422      1  710.0  3.66     4\n",
       "423      0  450.0  3.25     4\n",
       "424      1  760.0  3.76     2\n",
       "425      1  710.0  3.82     3\n",
       "\n",
       "[426 rows x 4 columns]"
      ]
     },
     "execution_count": 426,
     "metadata": {},
     "output_type": "execute_result"
    }
   ],
   "source": [
    "grade_df = pd.read_csv('./gpascore.csv', encoding='cp949')\n",
    "grade_df"
   ]
  },
  {
   "cell_type": "code",
   "execution_count": 427,
   "id": "92a8b20e-0e1d-40c9-b8bb-849f9d9d137e",
   "metadata": {},
   "outputs": [
    {
     "data": {
      "text/plain": [
       "admit    0\n",
       "gre      1\n",
       "gpa      0\n",
       "rank     0\n",
       "dtype: int64"
      ]
     },
     "execution_count": 427,
     "metadata": {},
     "output_type": "execute_result"
    }
   ],
   "source": [
    "grade_df.isnull().sum()"
   ]
  },
  {
   "cell_type": "code",
   "execution_count": 428,
   "id": "066a6c94-be5a-45c9-8c4a-091fe3bb1e5d",
   "metadata": {},
   "outputs": [],
   "source": [
    "grade_df = grade_df.drop(index = 19)"
   ]
  },
  {
   "cell_type": "code",
   "execution_count": 429,
   "id": "710072b7-a603-422c-ac6e-746cdd8d2d9e",
   "metadata": {},
   "outputs": [
    {
     "data": {
      "text/plain": [
       "Index(['admit', 'gre', 'gpa', 'rank'], dtype='object')"
      ]
     },
     "execution_count": 429,
     "metadata": {},
     "output_type": "execute_result"
    }
   ],
   "source": [
    "from sklearn.preprocessing import MinMaxScaler\n",
    "cols = grade_df.keys()\n",
    "cols"
   ]
  },
  {
   "cell_type": "code",
   "execution_count": 430,
   "id": "2321a736-fed5-48cb-9356-4e6d175a824c",
   "metadata": {},
   "outputs": [],
   "source": [
    "scaler = MinMaxScaler()"
   ]
  },
  {
   "cell_type": "code",
   "execution_count": 431,
   "id": "b55be705-e16b-4113-80a5-98d7a14568ce",
   "metadata": {},
   "outputs": [],
   "source": [
    "from sklearn.model_selection import train_test_split\n",
    "\n",
    "info_df = grade_df.drop(['admit'], axis=1)\n",
    "admit_df = grade_df['admit']"
   ]
  },
  {
   "cell_type": "code",
   "execution_count": 432,
   "id": "7f9e4a6c-5b42-4b19-8f5a-be5c3bb8f2ce",
   "metadata": {},
   "outputs": [],
   "source": [
    "x_train, x_test, y_train, y_test = train_test_split(info_df, admit_df, test_size = 0.2, random_state=1)"
   ]
  },
  {
   "cell_type": "code",
   "execution_count": 433,
   "id": "4957c739-da60-434d-89d4-43c9324d525e",
   "metadata": {},
   "outputs": [
    {
     "data": {
      "text/plain": [
       "((340, 3), (340,))"
      ]
     },
     "execution_count": 433,
     "metadata": {},
     "output_type": "execute_result"
    }
   ],
   "source": [
    "x_train.shape, y_train.shape"
   ]
  },
  {
   "cell_type": "code",
   "execution_count": 434,
   "id": "9d03aeed-03d3-45ab-b96f-faf67c628fe6",
   "metadata": {},
   "outputs": [
    {
     "data": {
      "text/plain": [
       "((85, 3), (85,))"
      ]
     },
     "execution_count": 434,
     "metadata": {},
     "output_type": "execute_result"
    }
   ],
   "source": [
    "x_test.shape, y_test.shape"
   ]
  },
  {
   "cell_type": "code",
   "execution_count": 435,
   "id": "db588c71-ff5e-4742-843b-442d08ccc9c9",
   "metadata": {},
   "outputs": [
    {
     "data": {
      "text/plain": [
       "293    1\n",
       "86     0\n",
       "329    0\n",
       "82     0\n",
       "288    1\n",
       "Name: admit, dtype: int64"
      ]
     },
     "execution_count": 435,
     "metadata": {},
     "output_type": "execute_result"
    }
   ],
   "source": [
    "y_train.head()"
   ]
  },
  {
   "cell_type": "code",
   "execution_count": 436,
   "id": "6b7d9d1b-61fc-40db-810f-73bd539d5b1a",
   "metadata": {},
   "outputs": [
    {
     "data": {
      "text/plain": [
       "173    1\n",
       "79     1\n",
       "123    0\n",
       "377    1\n",
       "147    0\n",
       "Name: admit, dtype: int64"
      ]
     },
     "execution_count": 436,
     "metadata": {},
     "output_type": "execute_result"
    }
   ],
   "source": [
    "y_test.head()"
   ]
  },
  {
   "cell_type": "code",
   "execution_count": 437,
   "id": "286f79f1-f5cd-4e9d-bc0b-e746152acf48",
   "metadata": {},
   "outputs": [
    {
     "data": {
      "text/html": [
       "<div>\n",
       "<style scoped>\n",
       "    .dataframe tbody tr th:only-of-type {\n",
       "        vertical-align: middle;\n",
       "    }\n",
       "\n",
       "    .dataframe tbody tr th {\n",
       "        vertical-align: top;\n",
       "    }\n",
       "\n",
       "    .dataframe thead th {\n",
       "        text-align: right;\n",
       "    }\n",
       "</style>\n",
       "<table border=\"1\" class=\"dataframe\">\n",
       "  <thead>\n",
       "    <tr style=\"text-align: right;\">\n",
       "      <th></th>\n",
       "      <th>gre</th>\n",
       "      <th>gpa</th>\n",
       "      <th>rank</th>\n",
       "    </tr>\n",
       "  </thead>\n",
       "  <tbody>\n",
       "    <tr>\n",
       "      <th>173</th>\n",
       "      <td>800.0</td>\n",
       "      <td>3.43</td>\n",
       "      <td>2</td>\n",
       "    </tr>\n",
       "    <tr>\n",
       "      <th>79</th>\n",
       "      <td>720.0</td>\n",
       "      <td>4.00</td>\n",
       "      <td>1</td>\n",
       "    </tr>\n",
       "    <tr>\n",
       "      <th>123</th>\n",
       "      <td>500.0</td>\n",
       "      <td>2.98</td>\n",
       "      <td>3</td>\n",
       "    </tr>\n",
       "    <tr>\n",
       "      <th>377</th>\n",
       "      <td>800.0</td>\n",
       "      <td>4.00</td>\n",
       "      <td>2</td>\n",
       "    </tr>\n",
       "    <tr>\n",
       "      <th>147</th>\n",
       "      <td>560.0</td>\n",
       "      <td>2.71</td>\n",
       "      <td>3</td>\n",
       "    </tr>\n",
       "  </tbody>\n",
       "</table>\n",
       "</div>"
      ],
      "text/plain": [
       "       gre   gpa  rank\n",
       "173  800.0  3.43     2\n",
       "79   720.0  4.00     1\n",
       "123  500.0  2.98     3\n",
       "377  800.0  4.00     2\n",
       "147  560.0  2.71     3"
      ]
     },
     "execution_count": 437,
     "metadata": {},
     "output_type": "execute_result"
    }
   ],
   "source": [
    "x_test.head()"
   ]
  },
  {
   "cell_type": "code",
   "execution_count": 438,
   "id": "16438868-e580-44c7-aa12-3eb42643f44d",
   "metadata": {},
   "outputs": [
    {
     "data": {
      "text/plain": [
       "gre     0\n",
       "gpa     0\n",
       "rank    0\n",
       "dtype: int64"
      ]
     },
     "execution_count": 438,
     "metadata": {},
     "output_type": "execute_result"
    }
   ],
   "source": [
    "x_test.isnull().sum()"
   ]
  },
  {
   "cell_type": "code",
   "execution_count": 439,
   "id": "c9f3e799-55a0-4844-b9c7-463217aabab4",
   "metadata": {},
   "outputs": [
    {
     "data": {
      "text/plain": [
       "gre     0\n",
       "gpa     0\n",
       "rank    0\n",
       "dtype: int64"
      ]
     },
     "execution_count": 439,
     "metadata": {},
     "output_type": "execute_result"
    }
   ],
   "source": [
    "x_train.isnull().sum()"
   ]
  },
  {
   "cell_type": "code",
   "execution_count": 440,
   "id": "c0d35de5-2498-4b6b-a526-891e191b66a1",
   "metadata": {},
   "outputs": [
    {
     "data": {
      "text/html": [
       "<div>\n",
       "<style scoped>\n",
       "    .dataframe tbody tr th:only-of-type {\n",
       "        vertical-align: middle;\n",
       "    }\n",
       "\n",
       "    .dataframe tbody tr th {\n",
       "        vertical-align: top;\n",
       "    }\n",
       "\n",
       "    .dataframe thead th {\n",
       "        text-align: right;\n",
       "    }\n",
       "</style>\n",
       "<table border=\"1\" class=\"dataframe\">\n",
       "  <thead>\n",
       "    <tr style=\"text-align: right;\">\n",
       "      <th></th>\n",
       "      <th>gre</th>\n",
       "      <th>gpa</th>\n",
       "      <th>rank</th>\n",
       "    </tr>\n",
       "  </thead>\n",
       "  <tbody>\n",
       "    <tr>\n",
       "      <th>293</th>\n",
       "      <td>800.0</td>\n",
       "      <td>3.97</td>\n",
       "      <td>1</td>\n",
       "    </tr>\n",
       "    <tr>\n",
       "      <th>86</th>\n",
       "      <td>600.0</td>\n",
       "      <td>3.32</td>\n",
       "      <td>2</td>\n",
       "    </tr>\n",
       "    <tr>\n",
       "      <th>329</th>\n",
       "      <td>500.0</td>\n",
       "      <td>2.93</td>\n",
       "      <td>4</td>\n",
       "    </tr>\n",
       "    <tr>\n",
       "      <th>82</th>\n",
       "      <td>500.0</td>\n",
       "      <td>2.71</td>\n",
       "      <td>2</td>\n",
       "    </tr>\n",
       "    <tr>\n",
       "      <th>288</th>\n",
       "      <td>800.0</td>\n",
       "      <td>3.15</td>\n",
       "      <td>4</td>\n",
       "    </tr>\n",
       "  </tbody>\n",
       "</table>\n",
       "</div>"
      ],
      "text/plain": [
       "       gre   gpa  rank\n",
       "293  800.0  3.97     1\n",
       "86   600.0  3.32     2\n",
       "329  500.0  2.93     4\n",
       "82   500.0  2.71     2\n",
       "288  800.0  3.15     4"
      ]
     },
     "execution_count": 440,
     "metadata": {},
     "output_type": "execute_result"
    }
   ],
   "source": [
    "x_train.head()"
   ]
  },
  {
   "cell_type": "code",
   "execution_count": 441,
   "id": "b2c969f3-1432-475f-af77-a51dc1ba666a",
   "metadata": {},
   "outputs": [
    {
     "data": {
      "text/plain": [
       "gre     0\n",
       "gpa     0\n",
       "rank    0\n",
       "dtype: int64"
      ]
     },
     "execution_count": 441,
     "metadata": {},
     "output_type": "execute_result"
    }
   ],
   "source": [
    "x_train.isnull().sum()"
   ]
  },
  {
   "cell_type": "code",
   "execution_count": 442,
   "id": "01706aef-e0af-44d3-925d-d5ca2483d122",
   "metadata": {},
   "outputs": [],
   "source": [
    "#정규화\n",
    "x_train = scaler.fit_transform(x_train)\n",
    "x_test = scaler.fit_transform(x_test)\n",
    " \n"
   ]
  },
  {
   "cell_type": "code",
   "execution_count": 443,
   "id": "91547872-47c4-4f2f-ab25-e6569e78121b",
   "metadata": {},
   "outputs": [],
   "source": [
    "x_train = np.array(x_train)\n",
    "x_test = np.array(x_test)\n",
    "y_train = np.array(y_train)\n",
    "y_test = np.array(y_test)"
   ]
  },
  {
   "cell_type": "code",
   "execution_count": 444,
   "id": "d35ee9ff-7934-4938-a7bb-340e9b84ea23",
   "metadata": {},
   "outputs": [
    {
     "data": {
      "text/plain": [
       "array([[1.        , 0.98404255, 0.        ],\n",
       "       [0.6       , 0.63829787, 0.33333333],\n",
       "       [0.4       , 0.43085106, 1.        ],\n",
       "       ...,\n",
       "       [0.32      , 0.2712766 , 0.33333333],\n",
       "       [0.72      , 0.7287234 , 0.33333333],\n",
       "       [0.4       , 0.53723404, 0.33333333]])"
      ]
     },
     "execution_count": 444,
     "metadata": {},
     "output_type": "execute_result"
    }
   ],
   "source": [
    "x_train"
   ]
  },
  {
   "cell_type": "code",
   "execution_count": 445,
   "id": "b67b23b0-b8b7-4692-8e11-a904bad7d40c",
   "metadata": {},
   "outputs": [
    {
     "data": {
      "text/plain": [
       "array([1, 0, 0, 0, 1, 0, 0, 1, 0, 1, 0, 0, 0, 1, 1, 0, 0, 1, 1, 1, 0, 0,\n",
       "       0, 0, 1, 1, 0, 0, 1, 1, 1, 1, 0, 1, 0, 1, 0, 0, 1, 0, 1, 1, 1, 0,\n",
       "       0, 0, 0, 0, 0, 0, 1, 1, 0, 1, 0, 1, 1, 0, 1, 0, 1, 1, 1, 1, 1, 1,\n",
       "       1, 1, 1, 1, 0, 0, 0, 0, 1, 0, 0, 1, 1, 1, 0, 1, 1, 0, 0, 0, 0, 1,\n",
       "       1, 0, 0, 1, 1, 1, 1, 1, 0, 1, 1, 0, 0, 0, 1, 0, 0, 0, 1, 0, 1, 0,\n",
       "       0, 0, 0, 1, 0, 0, 0, 1, 0, 1, 0, 1, 0, 1, 0, 0, 0, 0, 0, 1, 0, 1,\n",
       "       0, 0, 1, 0, 1, 0, 1, 0, 0, 0, 0, 0, 0, 0, 0, 0, 1, 0, 0, 1, 0, 0,\n",
       "       1, 0, 0, 1, 0, 0, 1, 0, 0, 1, 0, 0, 0, 1, 1, 0, 1, 1, 0, 0, 0, 1,\n",
       "       1, 0, 0, 0, 1, 0, 0, 1, 1, 0, 1, 1, 1, 0, 0, 1, 0, 0, 0, 1, 0, 1,\n",
       "       1, 0, 1, 1, 0, 1, 0, 0, 1, 1, 0, 1, 1, 1, 1, 1, 0, 0, 0, 0, 1, 1,\n",
       "       0, 1, 0, 0, 1, 1, 0, 0, 0, 0, 1, 1, 0, 0, 1, 1, 0, 1, 0, 1, 0, 1,\n",
       "       1, 1, 1, 1, 1, 0, 0, 0, 1, 0, 1, 0, 1, 0, 1, 0, 0, 0, 1, 1, 0, 0,\n",
       "       1, 1, 0, 0, 1, 1, 1, 0, 1, 1, 1, 0, 0, 1, 1, 0, 0, 0, 0, 1, 0, 1,\n",
       "       1, 0, 0, 1, 0, 1, 0, 0, 0, 1, 1, 0, 0, 0, 1, 0, 1, 0, 0, 1, 0, 0,\n",
       "       1, 1, 0, 0, 1, 0, 1, 0, 0, 1, 1, 0, 1, 1, 0, 1, 0, 0, 1, 0, 0, 1,\n",
       "       1, 0, 0, 1, 1, 1, 0, 0, 1, 1], dtype=int64)"
      ]
     },
     "execution_count": 445,
     "metadata": {},
     "output_type": "execute_result"
    }
   ],
   "source": [
    "y_train"
   ]
  },
  {
   "cell_type": "code",
   "execution_count": 461,
   "id": "f7cddacf-3047-47b9-90c6-4b9fc5274367",
   "metadata": {},
   "outputs": [],
   "source": [
    "model = keras.models.Sequential([keras.layers.Dense(64, activation='relu'),\n",
    "\n",
    "                          keras.layers.Dense(128, activation='relu'),\n",
    "                            keras.layers.Dropout(0.25),\n",
    "                          keras.layers.Dense(1, activation='sigmoid')\n",
    "])\n"
   ]
  },
  {
   "cell_type": "code",
   "execution_count": 462,
   "id": "600ea2e4-11fe-418a-bb71-bd08b60c703a",
   "metadata": {},
   "outputs": [],
   "source": [
    "model.compile(loss='binary_crossentropy', optimizer='Adam', metrics=['accuracy'])"
   ]
  },
  {
   "cell_type": "code",
   "execution_count": 463,
   "id": "3f15601d-0e53-4305-a1a7-397611353749",
   "metadata": {},
   "outputs": [],
   "source": [
    "#early_stop = keras.callbacks.EarlyStopping(monitor='val_loss', patience=20)"
   ]
  },
  {
   "cell_type": "code",
   "execution_count": 464,
   "id": "b4bb6b56-1a08-4679-a914-515c357d8e28",
   "metadata": {},
   "outputs": [
    {
     "name": "stdout",
     "output_type": "stream",
     "text": [
      "Epoch 1/20\n",
      "17/17 [==============================] - 0s 7ms/step - loss: 0.6904 - accuracy: 0.5382 - val_loss: 0.6746 - val_accuracy: 0.7647\n",
      "Epoch 2/20\n",
      "17/17 [==============================] - 0s 2ms/step - loss: 0.6773 - accuracy: 0.6235 - val_loss: 0.6463 - val_accuracy: 0.6941\n",
      "Epoch 3/20\n",
      "17/17 [==============================] - 0s 2ms/step - loss: 0.6596 - accuracy: 0.6559 - val_loss: 0.6195 - val_accuracy: 0.7765\n",
      "Epoch 4/20\n",
      "17/17 [==============================] - 0s 2ms/step - loss: 0.6397 - accuracy: 0.6471 - val_loss: 0.5952 - val_accuracy: 0.7529\n",
      "Epoch 5/20\n",
      "17/17 [==============================] - 0s 2ms/step - loss: 0.6239 - accuracy: 0.6559 - val_loss: 0.5749 - val_accuracy: 0.7529\n",
      "Epoch 6/20\n",
      "17/17 [==============================] - 0s 2ms/step - loss: 0.6105 - accuracy: 0.6706 - val_loss: 0.5606 - val_accuracy: 0.7412\n",
      "Epoch 7/20\n",
      "17/17 [==============================] - 0s 2ms/step - loss: 0.5907 - accuracy: 0.6853 - val_loss: 0.5446 - val_accuracy: 0.7529\n",
      "Epoch 8/20\n",
      "17/17 [==============================] - 0s 2ms/step - loss: 0.5685 - accuracy: 0.7294 - val_loss: 0.5315 - val_accuracy: 0.7176\n",
      "Epoch 9/20\n",
      "17/17 [==============================] - 0s 2ms/step - loss: 0.5554 - accuracy: 0.7559 - val_loss: 0.5225 - val_accuracy: 0.7882\n",
      "Epoch 10/20\n",
      "17/17 [==============================] - 0s 2ms/step - loss: 0.5459 - accuracy: 0.7588 - val_loss: 0.5148 - val_accuracy: 0.7765\n",
      "Epoch 11/20\n",
      "17/17 [==============================] - 0s 2ms/step - loss: 0.5225 - accuracy: 0.7676 - val_loss: 0.5071 - val_accuracy: 0.7412\n",
      "Epoch 12/20\n",
      "17/17 [==============================] - 0s 2ms/step - loss: 0.5135 - accuracy: 0.7706 - val_loss: 0.5063 - val_accuracy: 0.7529\n",
      "Epoch 13/20\n",
      "17/17 [==============================] - 0s 2ms/step - loss: 0.4948 - accuracy: 0.8000 - val_loss: 0.5047 - val_accuracy: 0.7294\n",
      "Epoch 14/20\n",
      "17/17 [==============================] - 0s 2ms/step - loss: 0.4925 - accuracy: 0.7735 - val_loss: 0.5073 - val_accuracy: 0.7529\n",
      "Epoch 15/20\n",
      "17/17 [==============================] - 0s 2ms/step - loss: 0.4849 - accuracy: 0.8118 - val_loss: 0.5083 - val_accuracy: 0.7529\n",
      "Epoch 16/20\n",
      "17/17 [==============================] - 0s 2ms/step - loss: 0.4813 - accuracy: 0.8000 - val_loss: 0.5081 - val_accuracy: 0.7529\n",
      "Epoch 17/20\n",
      "17/17 [==============================] - 0s 2ms/step - loss: 0.4705 - accuracy: 0.8324 - val_loss: 0.5113 - val_accuracy: 0.7294\n",
      "Epoch 18/20\n",
      "17/17 [==============================] - 0s 2ms/step - loss: 0.4768 - accuracy: 0.8000 - val_loss: 0.5105 - val_accuracy: 0.7647\n",
      "Epoch 19/20\n",
      "17/17 [==============================] - 0s 2ms/step - loss: 0.4592 - accuracy: 0.8176 - val_loss: 0.5063 - val_accuracy: 0.7529\n",
      "Epoch 20/20\n",
      "17/17 [==============================] - 0s 2ms/step - loss: 0.4638 - accuracy: 0.8118 - val_loss: 0.5245 - val_accuracy: 0.7647\n"
     ]
    }
   ],
   "source": [
    "history = model.fit(x_train, y_train, validation_data=(x_test, y_test), epochs=20, batch_size=20, shuffle=True)"
   ]
  },
  {
   "cell_type": "code",
   "execution_count": 465,
   "id": "93f6c92b-5a28-49dc-8962-3bf559b67d62",
   "metadata": {},
   "outputs": [
    {
     "data": {
      "image/png": "[encoded data removed]",
      "text/plain": [
       "<Figure size 576x576 with 1 Axes>"
      ]
     },
     "metadata": {
      "needs_background": "light"
     },
     "output_type": "display_data"
    },
    {
     "data": {
      "image/png": "[encoded data removed]",
      "text/plain": [
       "<Figure size 576x576 with 1 Axes>"
      ]
     },
     "metadata": {
      "needs_background": "light"
     },
     "output_type": "display_data"
    }
   ],
   "source": [
    "train_history = history.history[\"loss\"]\n",
    "validation_history = history.history[\"val_loss\"]\n",
    "fig = plt.figure(figsize=(8, 8))\n",
    "plt.title(\"Loss History\")\n",
    "plt.xlabel(\"EPOCH\")\n",
    "plt.ylabel(\"LOSS Function\")\n",
    "plt.plot(train_history, \"red\")\n",
    "plt.plot(validation_history, 'blue')\n",
    "fig.savefig(\"train_history.png\")\n",
    "\n",
    "train_history = history.history[\"accuracy\"]\n",
    "validation_history = history.history[\"val_accuracy\"]\n",
    "fig = plt.figure(figsize=(8, 8))\n",
    "plt.title(\"Accuracy History\")\n",
    "plt.xlabel(\"EPOCH\")\n",
    "plt.ylabel(\"Accuracy\")\n",
    "plt.plot(train_history, \"red\")\n",
    "plt.plot(validation_history, 'blue')\n",
    "fig.savefig(\"accuracy_history.png\")\n"
   ]
  },
  {
   "cell_type": "markdown",
   "id": "950e9e65-b6a4-42b0-9b69-7255cacc8a25",
   "metadata": {},
   "source": [
    "# 자연어 처리"
   ]
  },
  {
   "cell_type": "markdown",
   "id": "21dc34a9-106e-4b92-8560-4762471719f7",
   "metadata": {},
   "source": [
    "## Hannanum 한나눔 "
   ]
  },
  {
   "cell_type": "code",
   "execution_count": 6,
   "id": "b418916c-2d28-4002-b4ba-1603017c423c",
   "metadata": {},
   "outputs": [],
   "source": [
    "import konlpy\n",
    "from konlpy.tag import Hannanum\n"
   ]
  },
  {
   "cell_type": "code",
   "execution_count": 7,
   "id": "b05f5aaa-784b-4baf-8543-b212f46d3e22",
   "metadata": {},
   "outputs": [],
   "source": [
    "hanna = Hannanum()"
   ]
  },
  {
   "cell_type": "code",
   "execution_count": 8,
   "id": "eef1c34b-948a-4400-b501-a145326f5ebc",
   "metadata": {},
   "outputs": [
    {
     "name": "stdout",
     "output_type": "stream",
     "text": [
      "[[[('롯데마트', 'ncn'), ('의', 'jcm')], [('롯데마트의', 'ncn')], [('롯데마트', 'nqq'), ('의', 'jcm')], [('롯데마트의', 'nqq')]], [[('흑마늘', 'ncn')], [('흑마늘', 'nqq')]], [[('양념', 'ncn')]], [[('치킨', 'ncn'), ('이', 'jcc')], [('치킨', 'ncn'), ('이', 'jcs')], [('치킨', 'ncn'), ('이', 'ncn')]], [[('논란', 'ncpa'), ('이', 'jcc')], [('논란', 'ncpa'), ('이', 'jcs')], [('논란', 'ncpa'), ('이', 'ncn')]], [[('되', 'nbu'), ('고', 'jcj')], [('되', 'nbu'), ('이', 'jp'), ('고', 'ecc')], [('되', 'nbu'), ('이', 'jp'), ('고', 'ecs')], [('되', 'nbu'), ('이', 'jp'), ('고', 'ecx')], [('되', 'paa'), ('고', 'ecc')], [('되', 'paa'), ('고', 'ecs')], [('되', 'paa'), ('고', 'ecx')], [('되', 'pvg'), ('고', 'ecc')], [('되', 'pvg'), ('고', 'ecs')], [('되', 'pvg'), ('고', 'ecx')], [('되', 'px'), ('고', 'ecc')], [('되', 'px'), ('고', 'ecs')], [('되', 'px'), ('고', 'ecx')]], [[('있', 'paa'), ('다', 'ef')], [('있', 'px'), ('다', 'ef')]]]\n"
     ]
    }
   ],
   "source": [
    "print(hanna.analyze(u'롯데마트의 흑마늘 양념 치킨이 논란이 되고 있다'))"
   ]
  },
  {
   "cell_type": "code",
   "execution_count": 9,
   "id": "8620b0bd-f8b8-4d30-8cbf-f3fb099d5d13",
   "metadata": {},
   "outputs": [
    {
     "name": "stdout",
     "output_type": "stream",
     "text": [
      "['롯데마트', '의', '흑마늘', '양념', '치킨', '이', '논란', '이', '되', '고', '있', '다']\n"
     ]
    }
   ],
   "source": [
    "print(hanna.morphs(u'롯데마트의 흑마늘 양념 치킨이 논란이 되고 있다'))"
   ]
  },
  {
   "cell_type": "code",
   "execution_count": 21,
   "id": "a56c9893-c293-4d41-9fb4-75bf9a957182",
   "metadata": {},
   "outputs": [
    {
     "name": "stdout",
     "output_type": "stream",
     "text": [
      "['롯데', '롯데마트', '마트', '흑', '흑마늘', '마늘', '양념', '치킨', '논란']\n"
     ]
    }
   ],
   "source": [
    "print(kkma.nouns(u'롯데마트의 흑마늘 양념 치킨이 논란이 되고 있다'))"
   ]
  },
  {
   "cell_type": "code",
   "execution_count": 10,
   "id": "ab8395b1-7aaa-44bd-a038-239be4f9ba4e",
   "metadata": {},
   "outputs": [
    {
     "name": "stdout",
     "output_type": "stream",
     "text": [
      "[('롯데마트', 'N'), ('의', 'J'), ('흑마늘', 'N'), ('양념', 'N'), ('치킨', 'N'), ('이', 'J'), ('논란', 'N'), ('이', 'J'), ('되', 'P'), ('고', 'E'), ('있', 'P'), ('다', 'E')]\n"
     ]
    }
   ],
   "source": [
    "print(hanna.pos(u'롯데마트의 흑마늘 양념 치킨이 논란이 되고 있다'))"
   ]
  },
  {
   "cell_type": "markdown",
   "id": "e12d72a5-7dbc-4112-a595-57d83f939bf9",
   "metadata": {},
   "source": [
    "## Kkma 꼬꼬마"
   ]
  },
  {
   "cell_type": "code",
   "execution_count": 11,
   "id": "e4b4b17f-a4ce-4dc9-9a98-de6d4c0ac380",
   "metadata": {},
   "outputs": [],
   "source": [
    "from konlpy.tag import Kkma"
   ]
  },
  {
   "cell_type": "code",
   "execution_count": 12,
   "id": "c915edbe-46c9-4970-97c1-b63192c2f468",
   "metadata": {},
   "outputs": [],
   "source": [
    "kkma = Kkma()"
   ]
  },
  {
   "cell_type": "code",
   "execution_count": 23,
   "id": "3a2782ce-4473-4f27-920e-8b1448353feb",
   "metadata": {},
   "outputs": [
    {
     "name": "stdout",
     "output_type": "stream",
     "text": [
      "['그래도 계속 공부합니다.', '재밌으니까!']\n"
     ]
    }
   ],
   "source": [
    "#문장 단위로 나눠줌 \n",
    "print(kkma.sentences(u'그래도 계속 공부합니다. 재밌으니까!'))"
   ]
  },
  {
   "cell_type": "code",
   "execution_count": 17,
   "id": "7747323d-7459-44c7-874a-32cd60757359",
   "metadata": {},
   "outputs": [
    {
     "name": "stdout",
     "output_type": "stream",
     "text": [
      "['공부', '를', '하', '면', '하', 'ㄹ', '수록', '모르', '는', '것', '이', '많', '다는', '것', '을', '알', 'ㄹ', '것', '이', '되', 'ㄴ다', '.']\n"
     ]
    }
   ],
   "source": [
    "print(kkma.morphs(u'공부를 하면 할 수록 모르는 게 많다는 것을 알 게 된다.'))"
   ]
  },
  {
   "cell_type": "code",
   "execution_count": 18,
   "id": "204f3d8c-d0b3-4032-8519-136c3a1e70de",
   "metadata": {},
   "outputs": [
    {
     "name": "stdout",
     "output_type": "stream",
     "text": [
      "[('공부', 'NNG'), ('를', 'JKO'), ('하', 'VV'), ('면', 'ECE'), ('하', 'VV'), ('ㄹ', 'ETD'), ('수록', 'NNG'), ('모르', 'VV'), ('는', 'ETD'), ('것', 'NNB'), ('이', 'JKS'), ('많', 'VA'), ('다는', 'ETD'), ('것', 'NNB'), ('을', 'JKO'), ('알', 'VV'), ('ㄹ', 'ETD'), ('것', 'NNB'), ('이', 'JKS'), ('되', 'VV'), ('ㄴ다', 'EFN'), ('.', 'SF')]\n"
     ]
    }
   ],
   "source": [
    "print(kkma.pos(u'공부를 하면 할 수록 모르는 게 많다는 것을 알 게 된다.'))"
   ]
  },
  {
   "cell_type": "code",
   "execution_count": 19,
   "id": "2e40aa66-7c82-4eb4-af5a-666257e3b42d",
   "metadata": {},
   "outputs": [
    {
     "name": "stdout",
     "output_type": "stream",
     "text": [
      "['공부', '수록']\n"
     ]
    }
   ],
   "source": [
    "print(kkma.nouns(u'공부를 하면 할 수록 모르는 게 많다는 것을 알 게 된다.'))"
   ]
  },
  {
   "cell_type": "markdown",
   "id": "35c87ce0-d257-42eb-a679-aa26ddc1d262",
   "metadata": {},
   "source": [
    "## Komoran 코모란 "
   ]
  },
  {
   "cell_type": "code",
   "execution_count": 33,
   "id": "7f95203f-3d43-4733-80e9-c6a58adaf3c4",
   "metadata": {},
   "outputs": [],
   "source": [
    "from konlpy.tag import Komoran"
   ]
  },
  {
   "cell_type": "code",
   "execution_count": 34,
   "id": "1876ff40-54b2-4980-a2ee-02da6fbf9b94",
   "metadata": {},
   "outputs": [],
   "source": [
    "komo = Komoran()"
   ]
  },
  {
   "cell_type": "code",
   "execution_count": 35,
   "id": "26fcfb5c-e81c-4bf3-9140-c3d2e6d823df",
   "metadata": {},
   "outputs": [
    {
     "name": "stdout",
     "output_type": "stream",
     "text": [
      "['우', '와', '코', '모란', '도', '오픈', '소스', '가', '되', '었', '어요', '!']\n"
     ]
    }
   ],
   "source": [
    "print(kkma.morphs(u'우와 코모란도 오픈소스가 되었어요!'))"
   ]
  },
  {
   "cell_type": "code",
   "execution_count": 36,
   "id": "28aec50b-8cb9-4198-a4e9-69ae6659b0dc",
   "metadata": {},
   "outputs": [
    {
     "name": "stdout",
     "output_type": "stream",
     "text": [
      "[('공부', 'NNG'), ('를', 'JKO'), ('하', 'VV'), ('면', 'ECE'), ('하', 'VV'), ('ㄹ', 'ETD'), ('수록', 'NNG'), ('모르', 'VV'), ('는', 'ETD'), ('것', 'NNB'), ('이', 'JKS'), ('많', 'VA'), ('다는', 'ETD'), ('것', 'NNB'), ('을', 'JKO'), ('알', 'VV'), ('ㄹ', 'ETD'), ('것', 'NNB'), ('이', 'JKS'), ('되', 'VV'), ('ㄴ다', 'EFN'), ('.', 'SF')]\n"
     ]
    }
   ],
   "source": [
    "print(kkma.pos(u'공부를 하면 할 수록 모르는 게 많다는 것을 알 게 된다.'))"
   ]
  },
  {
   "cell_type": "code",
   "execution_count": 37,
   "id": "393ccb6a-7564-4fed-89cf-3783a81fc52e",
   "metadata": {},
   "outputs": [
    {
     "name": "stdout",
     "output_type": "stream",
     "text": [
      "['공부', '수록']\n"
     ]
    }
   ],
   "source": [
    "print(kkma.nouns(u'공부를 하면 할 수록 모르는 게 많다는 것을 알 게 된다.'))"
   ]
  },
  {
   "cell_type": "markdown",
   "id": "a1bb4094-1d52-4def-82dd-23c1965fb92f",
   "metadata": {},
   "source": [
    "## Mecab "
   ]
  },
  {
   "cell_type": "code",
   "execution_count": 38,
   "id": "de202a06-fc50-41ea-9b60-936058c21c29",
   "metadata": {},
   "outputs": [],
   "source": [
    "from konlpy.tag import Mecab"
   ]
  },
  {
   "cell_type": "code",
   "execution_count": 39,
   "id": "890c127d-6091-4fe1-8055-e7c594d9657d",
   "metadata": {},
   "outputs": [
    {
     "ename": "Exception",
     "evalue": "Install MeCab in order to use it: http://konlpy.org/en/latest/install/",
     "output_type": "error",
     "traceback": [
      "\u001b[1;31m---------------------------------------------------------------------------\u001b[0m",
      "\u001b[1;31mNameError\u001b[0m                                 Traceback (most recent call last)",
      "\u001b[1;32m~\\anaconda3\\envs\\tfenv\\lib\\site-packages\\konlpy\\tag\\_mecab.py\u001b[0m in \u001b[0;36m__init__\u001b[1;34m(self, dicpath)\u001b[0m\n\u001b[0;32m    107\u001b[0m         \u001b[1;32mtry\u001b[0m\u001b[1;33m:\u001b[0m\u001b[1;33m\u001b[0m\u001b[1;33m\u001b[0m\u001b[0m\n\u001b[1;32m--> 108\u001b[1;33m             \u001b[0mself\u001b[0m\u001b[1;33m.\u001b[0m\u001b[0mtagger\u001b[0m \u001b[1;33m=\u001b[0m \u001b[0mTagger\u001b[0m\u001b[1;33m(\u001b[0m\u001b[1;34m'-d %s'\u001b[0m \u001b[1;33m%\u001b[0m \u001b[0mdicpath\u001b[0m\u001b[1;33m)\u001b[0m\u001b[1;33m\u001b[0m\u001b[1;33m\u001b[0m\u001b[0m\n\u001b[0m\u001b[0;32m    109\u001b[0m             \u001b[0mself\u001b[0m\u001b[1;33m.\u001b[0m\u001b[0mtagset\u001b[0m \u001b[1;33m=\u001b[0m \u001b[0mutils\u001b[0m\u001b[1;33m.\u001b[0m\u001b[0mread_json\u001b[0m\u001b[1;33m(\u001b[0m\u001b[1;34m'%s/data/tagset/mecab.json'\u001b[0m \u001b[1;33m%\u001b[0m \u001b[0mutils\u001b[0m\u001b[1;33m.\u001b[0m\u001b[0minstallpath\u001b[0m\u001b[1;33m)\u001b[0m\u001b[1;33m\u001b[0m\u001b[1;33m\u001b[0m\u001b[0m\n",
      "\u001b[1;31mNameError\u001b[0m: name 'Tagger' is not defined",
      "\nDuring handling of the above exception, another exception occurred:\n",
      "\u001b[1;31mException\u001b[0m                                 Traceback (most recent call last)",
      "\u001b[1;32m~\\AppData\\Local\\Temp/ipykernel_4560/3406904628.py\u001b[0m in \u001b[0;36m<module>\u001b[1;34m\u001b[0m\n\u001b[1;32m----> 1\u001b[1;33m \u001b[0mmec\u001b[0m \u001b[1;33m=\u001b[0m \u001b[0mMecab\u001b[0m\u001b[1;33m(\u001b[0m\u001b[1;33m)\u001b[0m\u001b[1;33m\u001b[0m\u001b[1;33m\u001b[0m\u001b[0m\n\u001b[0m",
      "\u001b[1;32m~\\anaconda3\\envs\\tfenv\\lib\\site-packages\\konlpy\\tag\\_mecab.py\u001b[0m in \u001b[0;36m__init__\u001b[1;34m(self, dicpath)\u001b[0m\n\u001b[0;32m    111\u001b[0m             \u001b[1;32mraise\u001b[0m \u001b[0mException\u001b[0m\u001b[1;33m(\u001b[0m\u001b[1;34m'The MeCab dictionary does not exist at \"%s\". Is the dictionary correctly installed?\\nYou can also try entering the dictionary path when initializing the Mecab class: \"Mecab(\\'/some/dic/path\\')\"'\u001b[0m \u001b[1;33m%\u001b[0m \u001b[0mdicpath\u001b[0m\u001b[1;33m)\u001b[0m\u001b[1;33m\u001b[0m\u001b[1;33m\u001b[0m\u001b[0m\n\u001b[0;32m    112\u001b[0m         \u001b[1;32mexcept\u001b[0m \u001b[0mNameError\u001b[0m\u001b[1;33m:\u001b[0m\u001b[1;33m\u001b[0m\u001b[1;33m\u001b[0m\u001b[0m\n\u001b[1;32m--> 113\u001b[1;33m             \u001b[1;32mraise\u001b[0m \u001b[0mException\u001b[0m\u001b[1;33m(\u001b[0m\u001b[1;34m'Install MeCab in order to use it: http://konlpy.org/en/latest/install/'\u001b[0m\u001b[1;33m)\u001b[0m\u001b[1;33m\u001b[0m\u001b[1;33m\u001b[0m\u001b[0m\n\u001b[0m\u001b[0;32m    114\u001b[0m \u001b[1;33m\u001b[0m\u001b[0m\n\u001b[0;32m    115\u001b[0m     \u001b[1;32mdef\u001b[0m \u001b[0m__setstate__\u001b[0m\u001b[1;33m(\u001b[0m\u001b[0mself\u001b[0m\u001b[1;33m,\u001b[0m \u001b[0mstate\u001b[0m\u001b[1;33m)\u001b[0m\u001b[1;33m:\u001b[0m\u001b[1;33m\u001b[0m\u001b[1;33m\u001b[0m\u001b[0m\n",
      "\u001b[1;31mException\u001b[0m: Install MeCab in order to use it: http://konlpy.org/en/latest/install/"
     ]
    }
   ],
   "source": [
    "mec = Mecab()"
   ]
  },
  {
   "cell_type": "code",
   "execution_count": 40,
   "id": "ec2b423b-f4f4-45ff-8f1a-50a2213347f3",
   "metadata": {},
   "outputs": [],
   "source": [
    "from konlpy.tag import Okt"
   ]
  },
  {
   "cell_type": "code",
   "execution_count": 41,
   "id": "be96528c-8e86-43bc-a17d-ca06521c7c7b",
   "metadata": {},
   "outputs": [],
   "source": [
    "okt = Okt()"
   ]
  },
  {
   "cell_type": "code",
   "execution_count": 44,
   "id": "b4693412-5868-48f7-aebf-7e15bf699089",
   "metadata": {},
   "outputs": [
    {
     "name": "stdout",
     "output_type": "stream",
     "text": [
      "['우와', '코', '모란', '도', '오픈소스', '가', '되었어요', '!']\n"
     ]
    }
   ],
   "source": [
    "print(okt.morphs(u'우와 코모란도 오픈소스가 되었어요!'))"
   ]
  },
  {
   "cell_type": "code",
   "execution_count": 45,
   "id": "9e02fc3e-0f6d-4586-b73e-82ecb29ceb5d",
   "metadata": {},
   "outputs": [
    {
     "name": "stdout",
     "output_type": "stream",
     "text": [
      "[('공부', 'Noun'), ('를', 'Josa'), ('하면', 'Verb'), ('할', 'Verb'), ('수록', 'Noun'), ('모르는', 'Verb'), ('게', 'Noun'), ('많다는', 'Adjective'), ('것', 'Noun'), ('을', 'Josa'), ('알', 'Noun'), ('게', 'Noun'), ('된다', 'Verb'), ('.', 'Punctuation')]\n"
     ]
    }
   ],
   "source": [
    "print(okt.pos(u'공부를 하면 할 수록 모르는 게 많다는 것을 알 게 된다.'))"
   ]
  },
  {
   "cell_type": "code",
   "execution_count": 46,
   "id": "85a294a9-829f-4188-ad15-7558c31c453c",
   "metadata": {},
   "outputs": [
    {
     "name": "stdout",
     "output_type": "stream",
     "text": [
      "['공부', '수록', '게', '것', '알', '게']\n"
     ]
    }
   ],
   "source": [
    "print(okt.nouns(u'공부를 하면 할 수록 모르는 게 많다는 것을 알 게 된다.'))"
   ]
  },
  {
   "cell_type": "code",
   "execution_count": 47,
   "id": "c0bb60d0-2226-4bc5-beab-3a57bc4a48da",
   "metadata": {},
   "outputs": [
    {
     "name": "stdout",
     "output_type": "stream",
     "text": [
      "공부를 하면 할 수록 모르는 게 많다는 것을 알 게 된다.\n"
     ]
    }
   ],
   "source": [
    "print(okt.normalize(u'공부를 하면 할 수록 모르는 게 많다는 것을 알 게 된다.'))"
   ]
  },
  {
   "cell_type": "code",
   "execution_count": 48,
   "id": "c8288406-e267-4cb6-a43f-375b00645d0f",
   "metadata": {},
   "outputs": [
    {
     "name": "stdout",
     "output_type": "stream",
     "text": [
      "['공부', '수록', '수록 모르는 게', '수록 모르는 게 많다는 것']\n"
     ]
    }
   ],
   "source": [
    "#프레이즈 별 분류 \n",
    "print(okt.phrases(u'공부를 하면 할 수록 모르는 게 많다는 것을 알 게 된다.'))"
   ]
  },
  {
   "cell_type": "code",
   "execution_count": 53,
   "id": "d7706af4-c45b-4141-9598-7a13862bf858",
   "metadata": {},
   "outputs": [],
   "source": [
    "#단어 기반의 인코딩 \n",
    "import tensorflow as tf\n",
    "from tensorflow import keras\n",
    "from tensorflow.keras.preprocessing.text import Tokenizer"
   ]
  },
  {
   "cell_type": "code",
   "execution_count": 61,
   "id": "ea3c04ed-f458-4d48-b578-2cdfc0162ee8",
   "metadata": {},
   "outputs": [
    {
     "name": "stdout",
     "output_type": "stream",
     "text": [
      "{'i': 1, 'love': 2, 'my': 3, 'dog': 4, 'cat': 5}\n"
     ]
    }
   ],
   "source": [
    "sentences = [\n",
    "    'I love my dog',\n",
    "    'I love my cat'\n",
    "]\n",
    "\n",
    "tokenizer = Tokenizer(num_words = 100)\n",
    "tokenizer.fit_on_texts(sentences)\n",
    "word_index = tokenizer.word_index\n",
    "print(word_index)"
   ]
  },
  {
   "cell_type": "code",
   "execution_count": 56,
   "id": "2c0f2d2d-b14b-4823-8789-dc26bd102d37",
   "metadata": {},
   "outputs": [
    {
     "name": "stdout",
     "output_type": "stream",
     "text": [
      "{'my': 1, 'love': 2, 'dog': 3, 'i': 4, 'you': 5, 'cat': 6, 'do': 7, 'think': 8, 'is': 9, 'amazing': 10}\n",
      "[[4, 2, 1, 3], [4, 2, 1, 6], [5, 2, 1, 3], [7, 5, 8, 1, 3, 9, 10]]\n"
     ]
    }
   ],
   "source": [
    "#텍스트를 시퀀스로 변환하기\n",
    "sentences = [\n",
    "  'I love my dog',\n",
    "  'I love my cat',\n",
    "  'You love my dog!',\n",
    "  'Do you think my dog is amazing?'\n",
    "]\n",
    "\n",
    "tokenizer = Tokenizer(num_words = 100)\n",
    "tokenizer.fit_on_texts(sentences)\n",
    "word_index = tokenizer.word_index\n",
    "\n",
    "sequences = tokenizer.texts_to_sequences(sentences)\n",
    "\n",
    "print(word_index)\n",
    "print(sequences)"
   ]
  },
  {
   "cell_type": "markdown",
   "id": "5c697e83-7806-4210-a754-5d9431ec6469",
   "metadata": {},
   "source": [
    "## 토크나이징"
   ]
  },
  {
   "cell_type": "markdown",
   "id": "0e01c9f0-5d2f-4525-a65b-43c61037c9e2",
   "metadata": {},
   "source": [
    "### 단어 단위 토크나이징"
   ]
  },
  {
   "cell_type": "code",
   "execution_count": 4,
   "id": "1e1e0c38-42dd-483a-8427-c65b45141e29",
   "metadata": {},
   "outputs": [],
   "source": [
    "from nltk.tokenize import word_tokenize"
   ]
  },
  {
   "cell_type": "code",
   "execution_count": 6,
   "id": "0c32bc90-ae0a-4f53-946b-1ae1ff9318e4",
   "metadata": {},
   "outputs": [],
   "source": [
    "sentence = '''As long as computers have been around, programmers \n",
    "have been trying to write programs that understand languages like English. \n",
    "The reason is pretty obvious — humans have been writing things down for thousands \n",
    "of years and it would be really helpful if a computer could read and understand \n",
    "all that data.Computers can’t yet truly understand English in the way that \n",
    "humans do — but they can already do a lot! In certain limited areas, \n",
    "what you can do with NLP already seems like magic. You \n",
    "might be able to save a lot of time by applying NLP techniques to your own projects.'''"
   ]
  },
  {
   "cell_type": "code",
   "execution_count": 7,
   "id": "61e07090-92f4-4abe-b7a2-e549bfcbaf71",
   "metadata": {},
   "outputs": [
    {
     "name": "stdout",
     "output_type": "stream",
     "text": [
      "['As', 'long', 'as', 'computers', 'have', 'been', 'around', ',', 'programmers', 'have', 'been', 'trying', 'to', 'write', 'programs', 'that', 'understand', 'languages', 'like', 'English', '.', 'The', 'reason', 'is', 'pretty', 'obvious', '—', 'humans', 'have', 'been', 'writing', 'things', 'down', 'for', 'thousands', 'of', 'years', 'and', 'it', 'would', 'be', 'really', 'helpful', 'if', 'a', 'computer', 'could', 'read', 'and', 'understand', 'all', 'that', 'data.Computers', 'can', '’', 't', 'yet', 'truly', 'understand', 'English', 'in', 'the', 'way', 'that', 'humans', 'do', '—', 'but', 'they', 'can', 'already', 'do', 'a', 'lot', '!', 'In', 'certain', 'limited', 'areas', ',', 'what', 'you', 'can', 'do', 'with', 'NLP', 'already', 'seems', 'like', 'magic', '.', 'You', 'might', 'be', 'able', 'to', 'save', 'a', 'lot', 'of', 'time', 'by', 'applying', 'NLP', 'techniques', 'to', 'your', 'own', 'projects', '.']\n"
     ]
    }
   ],
   "source": [
    "print(word_tokenize(sentence))"
   ]
  },
  {
   "cell_type": "markdown",
   "id": "910576d2-cbe6-4736-8337-3a1366157143",
   "metadata": {},
   "source": [
    "### 문장 단위 토크나이징 "
   ]
  },
  {
   "cell_type": "code",
   "execution_count": 8,
   "id": "4f527bac-e09d-4184-865c-86cbe4a91486",
   "metadata": {},
   "outputs": [],
   "source": [
    "from nltk.tokenize import sent_tokenize"
   ]
  },
  {
   "cell_type": "code",
   "execution_count": 9,
   "id": "0990c699-1265-425b-a7c1-bdcb399bdf54",
   "metadata": {},
   "outputs": [
    {
     "name": "stdout",
     "output_type": "stream",
     "text": [
      "['As long as computers have been around, programmers \\nhave been trying to write programs that understand languages like English.', 'The reason is pretty obvious — humans have been writing things down for thousands \\nof years and it would be really helpful if a computer could read and understand \\nall that data.Computers can’t yet truly understand English in the way that \\nhumans do — but they can already do a lot!', 'In certain limited areas, \\nwhat you can do with NLP already seems like magic.', 'You \\nmight be able to save a lot of time by applying NLP techniques to your own projects.']\n"
     ]
    }
   ],
   "source": [
    "print(sent_tokenize(sentence))"
   ]
  },
  {
   "cell_type": "code",
   "execution_count": null,
   "id": "6ab4e13c-d3ee-4ee5-a342-2140853cbdd6",
   "metadata": {},
   "outputs": [],
   "source": []
  }
 ],
 "metadata": {
  "kernelspec": {
   "display_name": "Python 3 (ipykernel)",
   "language": "python",
   "name": "python3"
  },
  "language_info": {
   "codemirror_mode": {
    "name": "ipython",
    "version": 3
   },
   "file_extension": ".py",
   "mimetype": "text/x-python",
   "name": "python",
   "nbconvert_exporter": "python",
   "pygments_lexer": "ipython3",
   "version": "3.8.12"
  }
 },
 "nbformat": 4,
 "nbformat_minor": 5
}
