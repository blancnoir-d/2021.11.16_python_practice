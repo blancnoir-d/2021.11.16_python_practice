{
 "cells": [
  {
   "cell_type": "code",
   "execution_count": 1,
   "id": "1872e793",
   "metadata": {
    "ExecuteTime": {
     "end_time": "2021-11-16T01:59:55.789043Z",
     "start_time": "2021-11-16T01:59:55.765039Z"
    }
   },
   "outputs": [
    {
     "name": "stdout",
     "output_type": "stream",
     "text": [
      "C:\\Users\\admin\\Documents\n"
     ]
    }
   ],
   "source": [
    "import os\n",
    "print(os.getcwd())"
   ]
  },
  {
   "cell_type": "markdown",
   "id": "cc124554",
   "metadata": {},
   "source": [
    "# 조건문"
   ]
  },
  {
   "cell_type": "markdown",
   "id": "a14bdf28",
   "metadata": {},
   "source": [
    "## 정수의 종류를 판별하는 스마트 터틀"
   ]
  },
  {
   "cell_type": "code",
   "execution_count": 1,
   "id": "ce2217b1",
   "metadata": {
    "ExecuteTime": {
     "end_time": "2021-11-16T02:14:29.131161Z",
     "start_time": "2021-11-16T02:14:26.550869Z"
    }
   },
   "outputs": [
    {
     "name": "stdout",
     "output_type": "stream",
     "text": [
      "정수를 입력하세요: 5\n"
     ]
    }
   ],
   "source": [
    "import turtle \n",
    "\n",
    "t = turtle.Turtle()\n",
    "number = int(input(\"정수를 입력하세요: \"))\n",
    "\n",
    "if number > 0:\n",
    "    t.goto(100,100)\n",
    "    t.write(\"입력된 정수는 양의 정수입니다.\")\n",
    "elif number == 0 :\n",
    "    t.goto(100,0)\n",
    "    t.write(\"입력된 정수는 0입니다.\")\n",
    "else: \n",
    "    t. goto(100,-100)\n",
    "    t.write(\"입력된 정수는 음의 정수입니다.\")\n",
    "\n",
    "\n"
   ]
  },
  {
   "cell_type": "markdown",
   "id": "d60c6e23",
   "metadata": {},
   "source": [
    "## 주민등록번호 뒷자리 의미, 이런뜻이? "
   ]
  },
  {
   "cell_type": "code",
   "execution_count": 2,
   "id": "2c7f2277",
   "metadata": {
    "ExecuteTime": {
     "end_time": "2021-11-16T02:21:52.691111Z",
     "start_time": "2021-11-16T02:21:52.673106Z"
    }
   },
   "outputs": [
    {
     "name": "stdout",
     "output_type": "stream",
     "text": [
      "생성번호 2\n",
      "여성입니다.\n",
      "프로그램을 종료합니다.\n"
     ]
    }
   ],
   "source": [
    "#랜덤 값\n",
    "import random \n",
    "#random.random()\n",
    "\n",
    "#주사위처럼 1~6까지의 정수 중 하나를 무작위\n",
    "#random.randrange(1,7)\n",
    "\n",
    "gender = random.randrange(1,5)\n",
    "\n",
    "if gender == 1 or gender ==3 :\n",
    "    print(\"생성번호\", gender)\n",
    "    print(\"남성입니다.\")\n",
    "    print(\"프로그램을 종료합니다.\")\n",
    "else:\n",
    "    print(\"생성번호\", gender)\n",
    "    print(\"여성입니다.\")\n",
    "    print(\"프로그램을 종료합니다.\")"
   ]
  },
  {
   "cell_type": "markdown",
   "id": "b2cebe06",
   "metadata": {},
   "source": [
    "## 동전 던지기 게임"
   ]
  },
  {
   "cell_type": "code",
   "execution_count": 1,
   "id": "2b46a867",
   "metadata": {
    "ExecuteTime": {
     "end_time": "2021-11-16T14:15:39.514320Z",
     "start_time": "2021-11-16T14:15:22.813300Z"
    }
   },
   "outputs": [
    {
     "name": "stdout",
     "output_type": "stream",
     "text": [
      "1\n"
     ]
    }
   ],
   "source": [
    "import turtle\n",
    "import random\n",
    "\n",
    "coinFront = \"./front.gif\"\n",
    "coinBack= \"./back.gif\"\n",
    "\n",
    "t = turtle.Turtle()\n",
    "screen = turtle.Screen()\n",
    "\n",
    "\n",
    "coin = random.randrange(1,3)\n",
    "print(coin)\n",
    "\n",
    "if coin == 1:\n",
    "    screen.addshape(coinFront)\n",
    "    t.shape(coinFront)\n",
    "    \n",
    "else:\n",
    "    screen.addshape(conBack)\n",
    "    t.shape(conBack)\n",
    "    \n",
    "turtle.done()\n"
   ]
  },
  {
   "cell_type": "markdown",
   "id": "1f5077c7",
   "metadata": {},
   "source": [
    "## 찌릿찌릿 전기회로"
   ]
  },
  {
   "cell_type": "code",
   "execution_count": 2,
   "id": "9b924780",
   "metadata": {
    "ExecuteTime": {
     "end_time": "2021-11-16T02:44:48.665420Z",
     "start_time": "2021-11-16T02:44:43.704072Z"
    }
   },
   "outputs": [
    {
     "name": "stdout",
     "output_type": "stream",
     "text": [
      "1번 전지가 있습니까? (Y/N)n\n",
      "2번 전지가 있습니까? (Y/N)y\n",
      "직렬연결 : 전구에 불이 꺼집니다.\n",
      "병렬연결 : 전구에 불이 꺼집니다.\n"
     ]
    }
   ],
   "source": [
    "num1 = str(input(\"1번 전지가 있습니까? (Y/N)\"))\n",
    "num2 = str(input(\"2번 전지가 있습니까? (Y/N)\"))\n",
    "\n",
    "if num1 == \"y\" and num2 == \"y\" : \n",
    "    print(\"직렬연결 : 전구에 불이 켜집니다.\")\n",
    "    print(\"병렬연결 : 전구에 불이 켜집니다.\")\n",
    "else  :\n",
    "    print(\"직렬연결 : 전구에 불이 꺼집니다.\")\n",
    "    print(\"병렬연결 : 전구에 불이 꺼집니다.\")\n",
    "    "
   ]
  },
  {
   "cell_type": "markdown",
   "id": "4e8de82c",
   "metadata": {},
   "source": [
    "## 윤년판단"
   ]
  },
  {
   "cell_type": "markdown",
   "id": "5b52d94e",
   "metadata": {},
   "source": [
    "  윤년의 특징\n",
    "  \n",
    "  1. 100의 배수가 아니면서 4의 배수이다.\n",
    "\n",
    "  2. 4의 배수가 아니면서 100의 배수이다.\n",
    "\n",
    "  3. 400의 배수이다."
   ]
  },
  {
   "cell_type": "code",
   "execution_count": 5,
   "id": "00503eba",
   "metadata": {
    "ExecuteTime": {
     "end_time": "2021-11-16T02:54:34.554627Z",
     "start_time": "2021-11-16T02:54:32.004325Z"
    }
   },
   "outputs": [
    {
     "name": "stdout",
     "output_type": "stream",
     "text": [
      "연도를 입력하시오:2012\n",
      "2012 년은 윤년입니다.\n"
     ]
    }
   ],
   "source": [
    "\n",
    "year = int(input(\"연도를 입력하시오:\"))\n",
    "\n",
    "if (year % 100 == 0) and (year % 4 != 0) :\n",
    "    print(year, \"년은 윤년입니다.\")\n",
    "elif (year % 100 != 0) and(year %4 == 0):\n",
    "    print(year,\"년은 윤년입니다.\")\n",
    "elif(year % 400 == 0):\n",
    "    print(year, \"년은 윤년입니다.\")\n",
    "else :\n",
    "    print(year,\"년은 윤년이 아닙니다.\")\n",
    "    "
   ]
  },
  {
   "cell_type": "markdown",
   "id": "30526b11",
   "metadata": {},
   "source": [
    "## 이차방정식의 판별식"
   ]
  },
  {
   "cell_type": "code",
   "execution_count": 2,
   "id": "5cbd68bd",
   "metadata": {
    "ExecuteTime": {
     "end_time": "2021-11-16T03:35:51.270121Z",
     "start_time": "2021-11-16T03:35:48.305823Z"
    }
   },
   "outputs": [
    {
     "name": "stdout",
     "output_type": "stream",
     "text": [
      "a값 입력 : 1\n",
      "b값 입력 : 4\n",
      "c값 입력 : 4\n",
      "방정식은 서로 다른 두 실근(중근)입니다.\n"
     ]
    }
   ],
   "source": [
    "a = float(input(\"a값 입력 : \"))\n",
    "b = float(input(\"b값 입력 : \"))\n",
    "c = float(input(\"c값 입력 : \"))\n",
    "\n",
    "result = b**2 - 4*a*c\n",
    "\n",
    "if result > 0 :\n",
    "    print(\"방성식은 서로 다른 두 실근 입니다.\")\n",
    "elif result == 0 :\n",
    "    print(\"방정식은 서로 다른 두 실근(중근)입니다.\")\n",
    "else :\n",
    "    print(\"방정식은 서로 다른 두 허근입니다.\")\n"
   ]
  },
  {
   "cell_type": "markdown",
   "id": "3acf16d2",
   "metadata": {},
   "source": [
    "## 사용자가 원하는 도형 그리기"
   ]
  },
  {
   "cell_type": "code",
   "execution_count": 2,
   "id": "c0a9f49b",
   "metadata": {
    "ExecuteTime": {
     "end_time": "2021-11-16T14:15:46.429885Z",
     "start_time": "2021-11-16T14:15:45.976203Z"
    }
   },
   "outputs": [
    {
     "ename": "Terminator",
     "evalue": "",
     "output_type": "error",
     "traceback": [
      "\u001b[1;31m---------------------------------------------------------------------------\u001b[0m",
      "\u001b[1;31mTerminator\u001b[0m                                Traceback (most recent call last)",
      "\u001b[1;32m~\\AppData\\Local\\Temp/ipykernel_23624/3584954659.py\u001b[0m in \u001b[0;36m<module>\u001b[1;34m\u001b[0m\n\u001b[0;32m      1\u001b[0m \u001b[1;32mimport\u001b[0m \u001b[0mturtle\u001b[0m\u001b[1;33m\u001b[0m\u001b[1;33m\u001b[0m\u001b[0m\n\u001b[0;32m      2\u001b[0m \u001b[1;33m\u001b[0m\u001b[0m\n\u001b[1;32m----> 3\u001b[1;33m \u001b[0mt\u001b[0m \u001b[1;33m=\u001b[0m \u001b[0mturtle\u001b[0m\u001b[1;33m.\u001b[0m\u001b[0mTurtle\u001b[0m\u001b[1;33m(\u001b[0m\u001b[1;33m)\u001b[0m\u001b[1;33m\u001b[0m\u001b[1;33m\u001b[0m\u001b[0m\n\u001b[0m\u001b[0;32m      4\u001b[0m \u001b[0mshape\u001b[0m  \u001b[1;33m=\u001b[0m \u001b[0mturtle\u001b[0m\u001b[1;33m.\u001b[0m\u001b[0mtextinput\u001b[0m\u001b[1;33m(\u001b[0m\u001b[1;34m\"test\"\u001b[0m\u001b[1;33m,\u001b[0m \u001b[1;34m\"도형을 입력하시오 :\"\u001b[0m\u001b[1;33m)\u001b[0m\u001b[1;33m\u001b[0m\u001b[1;33m\u001b[0m\u001b[0m\n\u001b[0;32m      5\u001b[0m \u001b[1;33m\u001b[0m\u001b[0m\n",
      "\u001b[1;32m~\\anaconda3\\envs\\env1\\lib\\turtle.py\u001b[0m in \u001b[0;36m__init__\u001b[1;34m(self, shape, undobuffersize, visible)\u001b[0m\n\u001b[0;32m   3812\u001b[0m         \u001b[1;32mif\u001b[0m \u001b[0mTurtle\u001b[0m\u001b[1;33m.\u001b[0m\u001b[0m_screen\u001b[0m \u001b[1;32mis\u001b[0m \u001b[1;32mNone\u001b[0m\u001b[1;33m:\u001b[0m\u001b[1;33m\u001b[0m\u001b[1;33m\u001b[0m\u001b[0m\n\u001b[0;32m   3813\u001b[0m             \u001b[0mTurtle\u001b[0m\u001b[1;33m.\u001b[0m\u001b[0m_screen\u001b[0m \u001b[1;33m=\u001b[0m \u001b[0mScreen\u001b[0m\u001b[1;33m(\u001b[0m\u001b[1;33m)\u001b[0m\u001b[1;33m\u001b[0m\u001b[1;33m\u001b[0m\u001b[0m\n\u001b[1;32m-> 3814\u001b[1;33m         RawTurtle.__init__(self, Turtle._screen,\n\u001b[0m\u001b[0;32m   3815\u001b[0m                            \u001b[0mshape\u001b[0m\u001b[1;33m=\u001b[0m\u001b[0mshape\u001b[0m\u001b[1;33m,\u001b[0m\u001b[1;33m\u001b[0m\u001b[1;33m\u001b[0m\u001b[0m\n\u001b[0;32m   3816\u001b[0m                            \u001b[0mundobuffersize\u001b[0m\u001b[1;33m=\u001b[0m\u001b[0mundobuffersize\u001b[0m\u001b[1;33m,\u001b[0m\u001b[1;33m\u001b[0m\u001b[1;33m\u001b[0m\u001b[0m\n",
      "\u001b[1;32m~\\anaconda3\\envs\\env1\\lib\\turtle.py\u001b[0m in \u001b[0;36m__init__\u001b[1;34m(self, canvas, shape, undobuffersize, visible)\u001b[0m\n\u001b[0;32m   2556\u001b[0m         \u001b[0mself\u001b[0m\u001b[1;33m.\u001b[0m\u001b[0m_undobuffersize\u001b[0m \u001b[1;33m=\u001b[0m \u001b[0mundobuffersize\u001b[0m\u001b[1;33m\u001b[0m\u001b[1;33m\u001b[0m\u001b[0m\n\u001b[0;32m   2557\u001b[0m         \u001b[0mself\u001b[0m\u001b[1;33m.\u001b[0m\u001b[0mundobuffer\u001b[0m \u001b[1;33m=\u001b[0m \u001b[0mTbuffer\u001b[0m\u001b[1;33m(\u001b[0m\u001b[0mundobuffersize\u001b[0m\u001b[1;33m)\u001b[0m\u001b[1;33m\u001b[0m\u001b[1;33m\u001b[0m\u001b[0m\n\u001b[1;32m-> 2558\u001b[1;33m         \u001b[0mself\u001b[0m\u001b[1;33m.\u001b[0m\u001b[0m_update\u001b[0m\u001b[1;33m(\u001b[0m\u001b[1;33m)\u001b[0m\u001b[1;33m\u001b[0m\u001b[1;33m\u001b[0m\u001b[0m\n\u001b[0m\u001b[0;32m   2559\u001b[0m \u001b[1;33m\u001b[0m\u001b[0m\n\u001b[0;32m   2560\u001b[0m     \u001b[1;32mdef\u001b[0m \u001b[0mreset\u001b[0m\u001b[1;33m(\u001b[0m\u001b[0mself\u001b[0m\u001b[1;33m)\u001b[0m\u001b[1;33m:\u001b[0m\u001b[1;33m\u001b[0m\u001b[1;33m\u001b[0m\u001b[0m\n",
      "\u001b[1;32m~\\anaconda3\\envs\\env1\\lib\\turtle.py\u001b[0m in \u001b[0;36m_update\u001b[1;34m(self)\u001b[0m\n\u001b[0;32m   2659\u001b[0m             \u001b[1;32mreturn\u001b[0m\u001b[1;33m\u001b[0m\u001b[1;33m\u001b[0m\u001b[0m\n\u001b[0;32m   2660\u001b[0m         \u001b[1;32melif\u001b[0m \u001b[0mscreen\u001b[0m\u001b[1;33m.\u001b[0m\u001b[0m_tracing\u001b[0m \u001b[1;33m==\u001b[0m \u001b[1;36m1\u001b[0m\u001b[1;33m:\u001b[0m\u001b[1;33m\u001b[0m\u001b[1;33m\u001b[0m\u001b[0m\n\u001b[1;32m-> 2661\u001b[1;33m             \u001b[0mself\u001b[0m\u001b[1;33m.\u001b[0m\u001b[0m_update_data\u001b[0m\u001b[1;33m(\u001b[0m\u001b[1;33m)\u001b[0m\u001b[1;33m\u001b[0m\u001b[1;33m\u001b[0m\u001b[0m\n\u001b[0m\u001b[0;32m   2662\u001b[0m             \u001b[0mself\u001b[0m\u001b[1;33m.\u001b[0m\u001b[0m_drawturtle\u001b[0m\u001b[1;33m(\u001b[0m\u001b[1;33m)\u001b[0m\u001b[1;33m\u001b[0m\u001b[1;33m\u001b[0m\u001b[0m\n\u001b[0;32m   2663\u001b[0m             \u001b[0mscreen\u001b[0m\u001b[1;33m.\u001b[0m\u001b[0m_update\u001b[0m\u001b[1;33m(\u001b[0m\u001b[1;33m)\u001b[0m                  \u001b[1;31m# TurtleScreenBase\u001b[0m\u001b[1;33m\u001b[0m\u001b[1;33m\u001b[0m\u001b[0m\n",
      "\u001b[1;32m~\\anaconda3\\envs\\env1\\lib\\turtle.py\u001b[0m in \u001b[0;36m_update_data\u001b[1;34m(self)\u001b[0m\n\u001b[0;32m   2645\u001b[0m \u001b[1;33m\u001b[0m\u001b[0m\n\u001b[0;32m   2646\u001b[0m     \u001b[1;32mdef\u001b[0m \u001b[0m_update_data\u001b[0m\u001b[1;33m(\u001b[0m\u001b[0mself\u001b[0m\u001b[1;33m)\u001b[0m\u001b[1;33m:\u001b[0m\u001b[1;33m\u001b[0m\u001b[1;33m\u001b[0m\u001b[0m\n\u001b[1;32m-> 2647\u001b[1;33m         \u001b[0mself\u001b[0m\u001b[1;33m.\u001b[0m\u001b[0mscreen\u001b[0m\u001b[1;33m.\u001b[0m\u001b[0m_incrementudc\u001b[0m\u001b[1;33m(\u001b[0m\u001b[1;33m)\u001b[0m\u001b[1;33m\u001b[0m\u001b[1;33m\u001b[0m\u001b[0m\n\u001b[0m\u001b[0;32m   2648\u001b[0m         \u001b[1;32mif\u001b[0m \u001b[0mself\u001b[0m\u001b[1;33m.\u001b[0m\u001b[0mscreen\u001b[0m\u001b[1;33m.\u001b[0m\u001b[0m_updatecounter\u001b[0m \u001b[1;33m!=\u001b[0m \u001b[1;36m0\u001b[0m\u001b[1;33m:\u001b[0m\u001b[1;33m\u001b[0m\u001b[1;33m\u001b[0m\u001b[0m\n\u001b[0;32m   2649\u001b[0m             \u001b[1;32mreturn\u001b[0m\u001b[1;33m\u001b[0m\u001b[1;33m\u001b[0m\u001b[0m\n",
      "\u001b[1;32m~\\anaconda3\\envs\\env1\\lib\\turtle.py\u001b[0m in \u001b[0;36m_incrementudc\u001b[1;34m(self)\u001b[0m\n\u001b[0;32m   1291\u001b[0m         \u001b[1;32mif\u001b[0m \u001b[1;32mnot\u001b[0m \u001b[0mTurtleScreen\u001b[0m\u001b[1;33m.\u001b[0m\u001b[0m_RUNNING\u001b[0m\u001b[1;33m:\u001b[0m\u001b[1;33m\u001b[0m\u001b[1;33m\u001b[0m\u001b[0m\n\u001b[0;32m   1292\u001b[0m             \u001b[0mTurtleScreen\u001b[0m\u001b[1;33m.\u001b[0m\u001b[0m_RUNNING\u001b[0m \u001b[1;33m=\u001b[0m \u001b[1;32mTrue\u001b[0m\u001b[1;33m\u001b[0m\u001b[1;33m\u001b[0m\u001b[0m\n\u001b[1;32m-> 1293\u001b[1;33m             \u001b[1;32mraise\u001b[0m \u001b[0mTerminator\u001b[0m\u001b[1;33m\u001b[0m\u001b[1;33m\u001b[0m\u001b[0m\n\u001b[0m\u001b[0;32m   1294\u001b[0m         \u001b[1;32mif\u001b[0m \u001b[0mself\u001b[0m\u001b[1;33m.\u001b[0m\u001b[0m_tracing\u001b[0m \u001b[1;33m>\u001b[0m \u001b[1;36m0\u001b[0m\u001b[1;33m:\u001b[0m\u001b[1;33m\u001b[0m\u001b[1;33m\u001b[0m\u001b[0m\n\u001b[0;32m   1295\u001b[0m             \u001b[0mself\u001b[0m\u001b[1;33m.\u001b[0m\u001b[0m_updatecounter\u001b[0m \u001b[1;33m+=\u001b[0m \u001b[1;36m1\u001b[0m\u001b[1;33m\u001b[0m\u001b[1;33m\u001b[0m\u001b[0m\n",
      "\u001b[1;31mTerminator\u001b[0m: "
     ]
    }
   ],
   "source": [
    "import turtle \n",
    "\n",
    "t = turtle.Turtle()\n",
    "shape  = turtle.textinput(\"test\", \"도형을 입력하시오 :\")\n",
    "\n",
    "\n",
    "if shape == \"직사각형\":\n",
    "    horizontal = int(turtle.textinput(\"test\", \"가로 :\"))\n",
    "    height = int(turtle.textinput(\"test\", \"세로 :\"))\n",
    "    \n",
    "    for i in range(2):\n",
    "        t.forward(horizontal)\n",
    "        t.left(90)\n",
    "        t.forward(height)\n",
    "        t.left(90)\n",
    "        \n",
    "    \n",
    "elif shape == \"정삼각형\":\n",
    "    size = int(turtle.textinput(\"test\", \"한 변의 길이 :\"))\n",
    "    for i in range(3):\n",
    "        t.forward(size)\n",
    "        t.left(120)\n",
    "\n",
    "elif shape ==  \"원\":\n",
    "    r = int(turtle.textinput(\"test\", \"반지름의 길이 :\"))\n",
    "    t.circle(r)\n",
    "\n",
    "\n",
    "turtle.done()\n",
    "    "
   ]
  },
  {
   "cell_type": "markdown",
   "id": "edb5c66e",
   "metadata": {},
   "source": [
    "## 두 원의 위치 관계 시뮬레이션"
   ]
  },
  {
   "cell_type": "code",
   "execution_count": 1,
   "id": "fef10d39",
   "metadata": {
    "ExecuteTime": {
     "end_time": "2021-11-16T11:26:34.546241Z",
     "start_time": "2021-11-16T11:26:20.281450Z"
    }
   },
   "outputs": [
    {
     "name": "stdout",
     "output_type": "stream",
     "text": [
      "큰 원의 중심좌표 x1: 0\n",
      "큰 원의 중심좌표 y1: 0\n",
      "큰 원의 반지름: 100\n",
      "작은 원의 중심좌표 x2: 10\n",
      "작은 원의 중심좌표 y2: 10\n",
      "작은 원의 반지름: 50\n",
      "14.142135623730951\n"
     ]
    }
   ],
   "source": [
    "import turtle\n",
    "import math\n",
    "\n",
    "t = turtle.Turtle()\n",
    "\n",
    "bigCircleX1 = int(input(\"큰 원의 중심좌표 x1: \"))\n",
    "bigCircleY1 = int(input(\"큰 원의 중심좌표 y1: \"))\n",
    "bigCircleR = int(input(\"큰 원의 반지름: \"))\n",
    "smallCircleX2 = int(input(\"작은 원의 중심좌표 x2: \"))\n",
    "smallCircleY2 = int(input(\"작은 원의 중심좌표 y2: \"))\n",
    "smallCircleR = int(input(\"작은 원의 반지름: \"))\n",
    "\n",
    "#루트계산 math.sqrt(num)\n",
    "d = math.sqrt((bigCircleX1-smallCircleX2)**2 + (bigCircleY1-smallCircleY2)**2)\n",
    "print(d)\n",
    "\n",
    "t.penup()\n",
    "t.goto(bigCircleX1,bigCircleY1)\n",
    "t.pendown()\n",
    "t.circle(bigCircleR)\n",
    "t.penup()\n",
    "t.goto(smallCircleX2,smallCircleY2)\n",
    "t.pendown()\n",
    "t.circle(smallCircleR)\n",
    "\n",
    "#두접이 만나는 경우\n",
    "if bigCircleR - smallCircleR < d and bigCircleR + smallCircleR > d:\n",
    "      t.write(\"두 점에서 만납니다.\")\n",
    "    \n",
    "#한점에서 만나는 경우(외접)\n",
    "elif bigCircleR + smallCircleR == d:\n",
    "    t.write(\"한 점에서 만납니다(외접).\")\n",
    "    \n",
    "elif bigCircleR - smallCircleR == d:\n",
    "    t.write(\"한점에서 만납니다(내접).\")\n",
    "#완전히 두 원이 떨어졌을 때\n",
    "elif bigCircleR + smallCircleR < d :\n",
    "    t.write(\"만나지 않고 떨어져 있습니다.\")\n",
    "\n",
    "elif bigCircleR - smallCircleR > d :\n",
    "    t.write(\"만나지 않고 작은원이 큰원 내부에 있습니다.\")\n",
    "    \n",
    "elif d == 0 and bigCircleR!=smallCircleR :\n",
    "    t.write(\"중심이 같고 반지름이 다른 동심원입니다.\")\n",
    "    \n",
    "\n",
    "\n",
    "turtle.done()"
   ]
  },
  {
   "cell_type": "markdown",
   "id": "2aefd794",
   "metadata": {},
   "source": [
    "# 반복문"
   ]
  },
  {
   "cell_type": "code",
   "execution_count": 1,
   "id": "0723ec05",
   "metadata": {
    "ExecuteTime": {
     "end_time": "2021-11-16T05:16:21.955044Z",
     "start_time": "2021-11-16T05:16:21.933040Z"
    }
   },
   "outputs": [
    {
     "name": "stdout",
     "output_type": "stream",
     "text": [
      "* * * * * * * * * * \n",
      "* * * * * * * * * * \n",
      "* * * * * * * * * * \n",
      "* * * * * * * * * * \n",
      "* * * * * * * * * * \n"
     ]
    }
   ],
   "source": [
    "for i in range(5):\n",
    "    for j in range(10):\n",
    "        print(\"*\",end = \" \")\n",
    "    print(\"\")    "
   ]
  },
  {
   "cell_type": "code",
   "execution_count": 3,
   "id": "706faedf",
   "metadata": {
    "ExecuteTime": {
     "end_time": "2021-11-16T05:20:34.899786Z",
     "start_time": "2021-11-16T05:20:34.893784Z"
    }
   },
   "outputs": [
    {
     "name": "stdout",
     "output_type": "stream",
     "text": [
      "\n",
      "* \n",
      "* * \n",
      "* * * \n",
      "* * * * \n",
      "* * * * * \n",
      "* * * * * * \n",
      "* * * * * * * \n"
     ]
    }
   ],
   "source": [
    "for i in range(8):\n",
    "    for j in range (1, i+1):\n",
    "        print(\"*\", end = \" \")\n",
    "    print(\"\")    "
   ]
  },
  {
   "cell_type": "code",
   "execution_count": 4,
   "id": "0ff3ac7c",
   "metadata": {
    "ExecuteTime": {
     "end_time": "2021-11-16T05:23:13.045599Z",
     "start_time": "2021-11-16T05:23:03.665929Z"
    }
   },
   "outputs": [
    {
     "name": "stdout",
     "output_type": "stream",
     "text": [
      "신호등 색상을 입력하시오 : red\n",
      "신호등 색상을 입력하시오 : red\n",
      "신호등 색상을 입력하시오 : re\n",
      "신호등 색상을 입력하시오 : red\n",
      "신호등 색상을 입력하시오 : red\n",
      "신호등 색상을 입력하시오 : blue\n",
      "전진\n"
     ]
    }
   ],
   "source": [
    "#이거는 따로 True값을 줘서 이 값이 False 가 되었을때 넘추게 \n",
    "\n",
    "sign = True\n",
    "\n",
    "while sign : \n",
    "    light = input(\"신호등 색상을 입력하시오 : \")\n",
    "    if light == \"blue\":\n",
    "        sign = False\n",
    "\n",
    "print(\"전진\")"
   ]
  },
  {
   "cell_type": "code",
   "execution_count": 6,
   "id": "71976e59",
   "metadata": {
    "ExecuteTime": {
     "end_time": "2021-11-16T05:25:12.425956Z",
     "start_time": "2021-11-16T05:25:06.200641Z"
    }
   },
   "outputs": [
    {
     "name": "stdout",
     "output_type": "stream",
     "text": [
      "신호등 색상을 입력하시오:red\n",
      "신호등 색상을 입력하시오:red\n",
      "신호등 색상을 입력하시오:red\n",
      "신호등 색상을 입력하시오:blue\n",
      "전진\n"
     ]
    }
   ],
   "source": [
    "#이거는  break를 써서 \n",
    "while True : \n",
    "    light = input(\"신호등 색상을 입력하시오:\")\n",
    "    if light == \"blue\":\n",
    "        break\n",
    "    \n",
    "print(\"전진\")\n",
    "    "
   ]
  },
  {
   "cell_type": "code",
   "execution_count": 8,
   "id": "fbc92308",
   "metadata": {
    "ExecuteTime": {
     "end_time": "2021-11-16T05:27:53.369415Z",
     "start_time": "2021-11-16T05:27:53.361412Z"
    }
   },
   "outputs": [
    {
     "name": "stdout",
     "output_type": "stream",
     "text": [
      "1 건너뛰느냥\n",
      "3 건너뛰느냥\n",
      "5 건너뛰느냥\n",
      "7 건너뛰느냥\n",
      "9 건너뛰느냥\n"
     ]
    }
   ],
   "source": [
    "for n in range(10):\n",
    "    if n%2 == 0:\n",
    "        continue                       \n",
    "    print(n, \"건너뛰느냥\")        \n"
   ]
  },
  {
   "cell_type": "markdown",
   "id": "ba0f0e9d",
   "metadata": {},
   "source": [
    "## 코드를 줄여보아요"
   ]
  },
  {
   "cell_type": "code",
   "execution_count": 11,
   "id": "2e233b27",
   "metadata": {
    "ExecuteTime": {
     "end_time": "2021-11-16T05:33:03.766444Z",
     "start_time": "2021-11-16T05:32:49.328425Z"
    }
   },
   "outputs": [],
   "source": [
    "import turtle\n",
    "\n",
    "t = turtle.Turtle()\n",
    "\n",
    "for i in range(6):\n",
    "    t.circle(100)\n",
    "    if i<5 :\n",
    "        t.left(60)"
   ]
  },
  {
   "cell_type": "markdown",
   "id": "3b830f99",
   "metadata": {},
   "source": [
    "## 도돌이표 "
   ]
  },
  {
   "cell_type": "code",
   "execution_count": 5,
   "id": "0a976c0e",
   "metadata": {
    "ExecuteTime": {
     "end_time": "2021-11-16T05:57:34.077663Z",
     "start_time": "2021-11-16T05:57:34.060660Z"
    }
   },
   "outputs": [
    {
     "name": "stdout",
     "output_type": "stream",
     "text": [
      "A\n",
      "B\n",
      "C\n",
      "D\n",
      "C\n",
      "D\n"
     ]
    }
   ],
   "source": [
    "paper = ['A','B','C','D']\n",
    "\n",
    "for i in paper :\n",
    "    print(i)\n",
    "    if i == 'D':\n",
    "        for j in range(2,4):\n",
    "            print(paper[j])\n",
    "    "
   ]
  },
  {
   "cell_type": "markdown",
   "id": "36f11b88",
   "metadata": {},
   "source": [
    "## n각형 그리기"
   ]
  },
  {
   "cell_type": "code",
   "execution_count": 1,
   "id": "ef8fa4d0",
   "metadata": {
    "ExecuteTime": {
     "end_time": "2021-11-16T06:06:27.703491Z",
     "start_time": "2021-11-16T06:05:56.581906Z"
    }
   },
   "outputs": [],
   "source": [
    "import turtle\n",
    "t = turtle.Turtle()\n",
    "\n",
    "value = int(turtle.textinput(\"\",\"몇 각형을 원하시나요?\"))\n",
    "\n",
    "for i in range(value):\n",
    "    t.forward(100)\n",
    "    t.left(360/value)\n",
    "\n",
    "turtle.done()\n"
   ]
  },
  {
   "cell_type": "markdown",
   "id": "8a1eaa3a",
   "metadata": {},
   "source": [
    "## 랜덤 워크 시뮬레이션 "
   ]
  },
  {
   "cell_type": "code",
   "execution_count": null,
   "id": "91397504",
   "metadata": {},
   "outputs": [],
   "source": [
    "import turtle\n",
    "import random\n",
    "\n",
    "t = turtle.Turtle()\n",
    "\n",
    "line = random.random()\n",
    "x = random.random()\n",
    "y = random.random()\n",
    "\n",
    "num = 0\n",
    "while num <10 :\n",
    "    t.goto(x,y)\n",
    "    t.forward(line)\n",
    "    num = num +1\n",
    "\n",
    "turtle.done()\n",
    "    "
   ]
  },
  {
   "cell_type": "markdown",
   "id": "45f2c576",
   "metadata": {},
   "source": [
    "## 범인 찾기 게임"
   ]
  },
  {
   "cell_type": "code",
   "execution_count": 6,
   "id": "e2784349",
   "metadata": {
    "ExecuteTime": {
     "end_time": "2021-11-16T11:43:49.965652Z",
     "start_time": "2021-11-16T11:43:44.884025Z"
    }
   },
   "outputs": [
    {
     "name": "stdout",
     "output_type": "stream",
     "text": [
      "3개의 방 중 범인이 있는 곳은?(1,2,3 중 숫자 입력)1\n",
      "범인이 없습니다. 10점 감점됩니다.\n",
      "현재 점수 :  90\n",
      "3개의 방 중 범인이 있는 곳은?(1,2,3 중 숫자 입력)0\n",
      "범인을 찾았습니다. 100점이 추가됐습니다.\n"
     ]
    }
   ],
   "source": [
    "import random\n",
    "room = []\n",
    "score = 100\n",
    "game = True\n",
    "\n",
    "for i in range(3):\n",
    "    man = random.randrange(0,3)\n",
    "    room.append(man)\n",
    "\n",
    "while game :\n",
    "    choice = int(input(\"3개의 방 중 범인이 있는 곳은?(1,2,3 중 숫자 입력)\"))\n",
    "    if room[choice] == 2 :\n",
    "        print(\"범인을 찾았습니다. 100점이 추가됐습니다.\")\n",
    "        game = False\n",
    "    else :\n",
    "        print(\"범인이 없습니다. 10점 감점됩니다.\")\n",
    "        print(\"현재 점수 : \",score - 10)\n",
    "        game = True\n",
    "    "
   ]
  },
  {
   "cell_type": "markdown",
   "id": "c5a53b63",
   "metadata": {},
   "source": [
    "## 몬드리안 터틀 * "
   ]
  },
  {
   "cell_type": "markdown",
   "id": "b111bcdd",
   "metadata": {},
   "source": [
    "## 모든약수 구하기"
   ]
  },
  {
   "cell_type": "markdown",
   "id": "478c3587",
   "metadata": {},
   "source": [
    "## 최대공약수 구하기 "
   ]
  },
  {
   "cell_type": "code",
   "execution_count": 12,
   "id": "efa12117",
   "metadata": {
    "ExecuteTime": {
     "end_time": "2021-11-16T12:08:29.881768Z",
     "start_time": "2021-11-16T12:08:28.175743Z"
    }
   },
   "outputs": [
    {
     "name": "stdout",
     "output_type": "stream",
     "text": [
      "정수1 입력 :3\n",
      "정수2 입력 :5\n",
      "두 수는 서로소 입니다.\n"
     ]
    }
   ],
   "source": [
    "stop = True\n",
    "num1 = int(input(\"정수1 입력 :\"))\n",
    "num2 = int(input(\"정수2 입력 :\"))\n",
    "\n",
    "\n",
    "\n",
    "\n",
    "if num1 > num2 :\n",
    "    while stop :\n",
    "        remainder = num1%num2\n",
    "        num1 = num2 \n",
    "        num2 = remainder\n",
    "               \n",
    "        if remainder == 0 :\n",
    "            if num1 == 1:\n",
    "                print(\"두 수는 서로소 입니다.\")\n",
    "                stop = False\n",
    "            else:\n",
    "                print(\"두 수의 최대 공약수는\",num1)\n",
    "                stop = False\n",
    "    \n",
    "elif num1 < num2:\n",
    "     while stop :\n",
    "        remainder = num2%num1\n",
    "        num2 = num1\n",
    "        num1 = remainder\n",
    "        \n",
    "        if remainder == 0 :\n",
    "            if num2 == 1:\n",
    "                print(\"두 수는 서로소 입니다.\")\n",
    "                stop = False\n",
    "            else:\n",
    "                print(\"두 수의 최대 공약수는\",num2)\n",
    "                stop = False\n",
    "               \n"
   ]
  },
  {
   "cell_type": "markdown",
   "id": "aecda095",
   "metadata": {},
   "source": [
    "## 별 그리는 터틀 "
   ]
  },
  {
   "cell_type": "markdown",
   "id": "3f28e1b3",
   "metadata": {},
   "source": [
    "## 숫자 맞추기 게임 "
   ]
  },
  {
   "cell_type": "code",
   "execution_count": 2,
   "id": "f1a0d225",
   "metadata": {
    "ExecuteTime": {
     "end_time": "2021-11-16T12:16:00.993192Z",
     "start_time": "2021-11-16T12:15:48.985067Z"
    }
   },
   "outputs": [
    {
     "name": "stdout",
     "output_type": "stream",
     "text": [
      "1부터 100 사이의 숫자를 맞추시오\n",
      "숫자를 입력하시오 :3\n",
      "높음\n",
      "숫자를 입력하시오 :10\n",
      "높음\n",
      "숫자를 입력하시오 :50\n",
      "높음\n",
      "숫자를 입력하시오 :80\n",
      "높음\n",
      "숫자를 입력하시오 :90\n",
      "높음\n",
      "숫자를 입력하시오 :95\n",
      "축하합니다. 시도횟수 6\n"
     ]
    }
   ],
   "source": [
    "import random\n",
    "\n",
    "stop = True\n",
    "count = 0  #시도 횟수\n",
    "\n",
    "\n",
    "number = random.randrange(1,101)\n",
    "print(\"1부터 100 사이의 숫자를 맞추시오\")\n",
    "while stop :\n",
    "    user = int(input(\"숫자를 입력하시오 :\"))\n",
    "    if user>number :\n",
    "        print(\"낮음\")\n",
    "        count +=1\n",
    "    elif user<number :\n",
    "        print(\"높음\")\n",
    "        count +=1\n",
    "    elif user == number:\n",
    "        count +=1\n",
    "        print(\"축하합니다. 시도횟수\",count)\n",
    "        stop = False\n"
   ]
  },
  {
   "cell_type": "markdown",
   "id": "b7b148e8",
   "metadata": {},
   "source": [
    "# 리스트"
   ]
  },
  {
   "cell_type": "markdown",
   "id": "70abaa29",
   "metadata": {},
   "source": [
    "## 주기율표를 외워보자 "
   ]
  },
  {
   "cell_type": "code",
   "execution_count": 3,
   "id": "1002669e",
   "metadata": {
    "ExecuteTime": {
     "end_time": "2021-11-16T06:20:00.678280Z",
     "start_time": "2021-11-16T06:19:40.522378Z"
    }
   },
   "outputs": [
    {
     "name": "stdout",
     "output_type": "stream",
     "text": [
      "주기율표 구절을 입력하시오:수헬리베붕\n",
      "주기율표 구절을 입력하시오:탄질산플네나\n",
      "주기율표 구절을 입력하시오:마알규\n",
      "주기율표 구절을 입력하시오:인황염이칼칼\n",
      "['수헬리베붕', '탄질산플네나', '마알규', '인황염이칼칼']\n"
     ]
    }
   ],
   "source": [
    "table = []\n",
    "for i in range(4):\n",
    "    value  = str(input(\"주기율표 구절을 입력하시오:\"))\n",
    "    table.append(value)\n",
    "\n",
    "print(table)"
   ]
  },
  {
   "cell_type": "markdown",
   "id": "941fa1d0",
   "metadata": {},
   "source": [
    "## 오늘의 명언"
   ]
  },
  {
   "cell_type": "code",
   "execution_count": 5,
   "id": "fdfea23d",
   "metadata": {
    "ExecuteTime": {
     "end_time": "2021-11-16T06:24:21.111649Z",
     "start_time": "2021-11-16T06:24:21.101647Z"
    }
   },
   "outputs": [
    {
     "name": "stdout",
     "output_type": "stream",
     "text": [
      "######################################\n",
      "#       오늘의 명언\n",
      "######################################\n",
      "고생 없이 얻을 수 있는 진실로 귀중한 것은 하나도 없다.\n"
     ]
    }
   ],
   "source": [
    "import random\n",
    "list = ['고생 없이 얻을 수 있는 진실로 귀중한 것은 하나도 없다.', '꾸을 지녀라, 그러면 어려운 현실을 이길 수 있다.','사람은 사랑할 때 누구나 시인이 된다']\n",
    "print(\"######################################\")\n",
    "print(\"#       오늘의 명언\")\n",
    "print(\"######################################\")\n",
    "\n",
    "n = random.randrange(0,3)\n",
    "\n",
    "print(list[n])\n",
    "\n",
    "    \n"
   ]
  },
  {
   "cell_type": "markdown",
   "id": "f3320596",
   "metadata": {},
   "source": [
    "## 스파이럴 그리기"
   ]
  },
  {
   "cell_type": "code",
   "execution_count": 1,
   "id": "da12b402",
   "metadata": {
    "ExecuteTime": {
     "end_time": "2021-11-16T06:30:52.979885Z",
     "start_time": "2021-11-16T06:30:44.106112Z"
    }
   },
   "outputs": [],
   "source": [
    "import turtle\n",
    "\n",
    "\n",
    "colors = [\"red\", \"yellow\", \"purple\", \"blue\", \"green\", \"orange\"]\n",
    "t = turtle.Turtle()\n",
    "turtle.bgcolor(\"black\")\n",
    "colorlistSize = int(len(colors))\n",
    "\n",
    "t.speed(0)\n",
    "t.width(3)\n",
    "length = 10\n",
    "\n",
    "while length < 500:\n",
    "    t.forward(length)\n",
    "    t.pencolor(colors[length%colorlistSize]) #pencolor 순서때문인듯 \n",
    "    t.right(89)\n",
    "    length+=5\n",
    "\n",
    "turtle.done()\n"
   ]
  },
  {
   "cell_type": "markdown",
   "id": "8b5e062c",
   "metadata": {},
   "source": [
    "## 오륜기 그리기"
   ]
  },
  {
   "cell_type": "code",
   "execution_count": 3,
   "id": "e278fd53",
   "metadata": {
    "ExecuteTime": {
     "end_time": "2021-11-16T12:19:32.019290Z",
     "start_time": "2021-11-16T12:19:04.001638Z"
    }
   },
   "outputs": [],
   "source": [
    "import turtle\n",
    "\n",
    "colors = [\"blue\",\"yellow\",\"black\",\"green\",\"red\"]\n",
    "\n",
    "t = turtle.Turtle()\n",
    "colorslistSize = int(len(colors))\n",
    "\n",
    "r = 50\n",
    "\n",
    "#규칙을 찾아보자 \n",
    "\n",
    "for i in range(5):\n",
    "    if i%2 == 0:\n",
    "        t.goto(i*r,0)\n",
    "        t.pencolor(colors[i])\n",
    "        t.pendown()\n",
    "        t.circle(r)\n",
    "        t.penup()\n",
    "        \n",
    "    else:\n",
    "        t.goto(r*i,-50)\n",
    "        t.pencolor(colors[i])\n",
    "        t.pendown()\n",
    "        t.circle(r)\n",
    "        t.penup()\n",
    "        \n",
    "turtle.done()\n",
    "    \n"
   ]
  },
  {
   "cell_type": "markdown",
   "id": "2d499ef0",
   "metadata": {},
   "source": [
    "## 습도 구하기 "
   ]
  },
  {
   "cell_type": "code",
   "execution_count": 8,
   "id": "6fcb8455",
   "metadata": {
    "ExecuteTime": {
     "end_time": "2021-11-16T12:31:59.520755Z",
     "start_time": "2021-11-16T12:31:59.513754Z"
    }
   },
   "outputs": [
    {
     "name": "stdout",
     "output_type": "stream",
     "text": [
      "과포화 184.04255319148936\n"
     ]
    }
   ],
   "source": [
    "#도대체 뭘 어쩌라는거니.. \n",
    "\n",
    "temperatures = [0, 10, 20, 30]\n",
    "steamVolume = [4.8, 9.4, 17.3, 30.4]\n",
    "\n",
    "#D의 습도를 구하라는 건가.. \n",
    "\n",
    "dSteam = (17.3/steamVolume[1])*100\n",
    "print(\"과포화\",dSteam)\n",
    "    \n",
    "\n"
   ]
  },
  {
   "cell_type": "code",
   "execution_count": 3,
   "id": "f0a65bd3",
   "metadata": {
    "ExecuteTime": {
     "end_time": "2021-11-16T07:33:33.099325Z",
     "start_time": "2021-11-16T07:33:33.089330Z"
    }
   },
   "outputs": [
    {
     "name": "stdout",
     "output_type": "stream",
     "text": [
      "1 단\n",
      "1 * 1 = 1\n",
      "1 * 2 = 2\n",
      "1 * 3 = 3\n",
      "1 * 4 = 4\n",
      "1 * 5 = 5\n",
      "1 * 6 = 6\n",
      "1 * 7 = 7\n",
      "1 * 8 = 8\n",
      "1 * 9 = 9\n",
      "2 단\n",
      "2 * 1 = 2\n",
      "2 * 2 = 4\n",
      "2 * 3 = 6\n",
      "2 * 4 = 8\n",
      "2 * 5 = 10\n",
      "2 * 6 = 12\n",
      "2 * 7 = 14\n",
      "2 * 8 = 16\n",
      "2 * 9 = 18\n",
      "3 단\n",
      "3 * 1 = 3\n",
      "3 * 2 = 6\n",
      "3 * 3 = 9\n",
      "3 * 4 = 12\n",
      "3 * 5 = 15\n",
      "3 * 6 = 18\n",
      "3 * 7 = 21\n",
      "3 * 8 = 24\n",
      "3 * 9 = 27\n",
      "4 단\n",
      "4 * 1 = 4\n",
      "4 * 2 = 8\n",
      "4 * 3 = 12\n",
      "4 * 4 = 16\n",
      "4 * 5 = 20\n",
      "4 * 6 = 24\n",
      "4 * 7 = 28\n",
      "4 * 8 = 32\n",
      "4 * 9 = 36\n",
      "5 단\n",
      "5 * 1 = 5\n",
      "5 * 2 = 10\n",
      "5 * 3 = 15\n",
      "5 * 4 = 20\n",
      "5 * 5 = 25\n",
      "5 * 6 = 30\n",
      "5 * 7 = 35\n",
      "5 * 8 = 40\n",
      "5 * 9 = 45\n",
      "6 단\n",
      "6 * 1 = 6\n",
      "6 * 2 = 12\n",
      "6 * 3 = 18\n",
      "6 * 4 = 24\n",
      "6 * 5 = 30\n",
      "6 * 6 = 36\n",
      "6 * 7 = 42\n",
      "6 * 8 = 48\n",
      "6 * 9 = 54\n",
      "7 단\n",
      "7 * 1 = 7\n",
      "7 * 2 = 14\n",
      "7 * 3 = 21\n",
      "7 * 4 = 28\n",
      "7 * 5 = 35\n",
      "7 * 6 = 42\n",
      "7 * 7 = 49\n",
      "7 * 8 = 56\n",
      "7 * 9 = 63\n",
      "8 단\n",
      "8 * 1 = 8\n",
      "8 * 2 = 16\n",
      "8 * 3 = 24\n",
      "8 * 4 = 32\n",
      "8 * 5 = 40\n",
      "8 * 6 = 48\n",
      "8 * 7 = 56\n",
      "8 * 8 = 64\n",
      "8 * 9 = 72\n",
      "9 단\n",
      "9 * 1 = 9\n",
      "9 * 2 = 18\n",
      "9 * 3 = 27\n",
      "9 * 4 = 36\n",
      "9 * 5 = 45\n",
      "9 * 6 = 54\n",
      "9 * 7 = 63\n",
      "9 * 8 = 72\n",
      "9 * 9 = 81\n"
     ]
    }
   ],
   "source": [
    "\n",
    "for i in range(1,10):\n",
    "    print(i,\"단\")\n",
    "    for j in range(1,10):\n",
    "        print(i,\"*\",j,\"=\",i*j)\n",
    "        "
   ]
  },
  {
   "cell_type": "markdown",
   "id": "c535d1ce",
   "metadata": {},
   "source": [
    "# 함수"
   ]
  },
  {
   "cell_type": "markdown",
   "id": "9c17fd49",
   "metadata": {},
   "source": [
    "## BMI 계산기"
   ]
  },
  {
   "cell_type": "code",
   "execution_count": 18,
   "id": "a08ca6a8",
   "metadata": {
    "ExecuteTime": {
     "end_time": "2021-11-16T07:52:54.624173Z",
     "start_time": "2021-11-16T07:52:54.610169Z"
    }
   },
   "outputs": [
    {
     "name": "stdout",
     "output_type": "stream",
     "text": [
      "38.10394756896814\n",
      "고도비만\n"
     ]
    }
   ],
   "source": [
    "def bmi (kg, height):\n",
    "    heightm = height*0.01 #m로 변환\n",
    "    bmiNumber = kg/(heightm*heightm)\n",
    "    print(bmiNumber)\n",
    "    result = \"\"\n",
    "    \n",
    "    if bmiNumber > 30 : \n",
    "        result = \"고도비만\"\n",
    "    elif   bmiNumber<29.9 and bmiNumber >25:\n",
    "        result = \"경도비만\"\n",
    "    elif   bmiNumber <24.9 and bmiNumber > 23:\n",
    "        result = \"과체중\"\n",
    "    elif   bmiNumber< 22.9 and bmiNumber >18.5:\n",
    "        result = \"정상\"\n",
    "    else:\n",
    "        result = \"저체중\"\n",
    "        \n",
    "    return result \n",
    "\n",
    "\n",
    "print(bmi(100,162))"
   ]
  },
  {
   "cell_type": "markdown",
   "id": "43cb46fe",
   "metadata": {
    "ExecuteTime": {
     "end_time": "2021-11-16T08:21:56.999527Z",
     "start_time": "2021-11-16T08:21:49.062127Z"
    }
   },
   "source": [
    "## 환전 계산기"
   ]
  },
  {
   "cell_type": "code",
   "execution_count": 15,
   "id": "16ffb999",
   "metadata": {
    "ExecuteTime": {
     "end_time": "2021-11-16T12:51:08.694421Z",
     "start_time": "2021-11-16T12:51:04.896595Z"
    }
   },
   "outputs": [
    {
     "name": "stdout",
     "output_type": "stream",
     "text": [
      "환전 금액(원)을 입력하세요:1000\n",
      "국가를 입력하세요 : 중국\n",
      "1000 원은 위안 입니다\n"
     ]
    }
   ],
   "source": [
    "def calculator(money, country):\n",
    "    standardRate = {\"미국\":1181.50, \"일본\":1034.18, \"유럽연합\":1342.42, \"중국\":185.04, \"영국\":1588.53,\"호주\":866.69, \"캐나다\":942.90} \n",
    "    unit= {\"미국\":\"달러\",\"일본\":\"엔\", \"유럽연합\":\"유로\", \"중국\":\"위안\"} \n",
    "    exchange = money/standardRate[country]\n",
    "    unitStr = unit[country]\n",
    "    print(money,\"원은\",unitStr,\"입니다\")\n",
    "    \n",
    "    \n",
    "money = int(input(\"환전 금액(원)을 입력하세요:\"))\n",
    "country = str(input(\"국가를 입력하세요 : \"))\n",
    "calculator(money, country)\n",
    "    \n",
    "   \n",
    "    "
   ]
  },
  {
   "cell_type": "markdown",
   "id": "d8e089fd",
   "metadata": {},
   "source": [
    "## N각형을 그리는 함수 작성하기"
   ]
  },
  {
   "cell_type": "code",
   "execution_count": null,
   "id": "4cf5be46",
   "metadata": {
    "ExecuteTime": {
     "start_time": "2021-11-16T14:42:37.924Z"
    }
   },
   "outputs": [
    {
     "name": "stdout",
     "output_type": "stream",
     "text": [
      "몇 각형으로 하겠습니까?:6\n"
     ]
    }
   ],
   "source": [
    "import turtle \n",
    "\n",
    "def n_polygon(n, angle):\n",
    "    t = turtle.Turtle()        \n",
    "    t.left(angle)\n",
    "    for i in range(n):\n",
    "        t.forward(100)\n",
    "        t.left(360/n)\n",
    "        \n",
    "    \n",
    "    \n",
    "nNumber = int(input(\"몇 각형으로 하겠습니까?:\"))\n",
    "\n",
    "angle = 0\n",
    "for i in range(10):\n",
    "    n_polygon(nNumber, angle)\n",
    "    angle +=30\n",
    "    \n",
    "turtle.done()   "
   ]
  },
  {
   "cell_type": "code",
   "execution_count": null,
   "id": "0007ea1c",
   "metadata": {},
   "outputs": [],
   "source": []
  }
 ],
 "metadata": {
  "kernelspec": {
   "display_name": "Python 3 (ipykernel)",
   "language": "python",
   "name": "python3"
  },
  "language_info": {
   "codemirror_mode": {
    "name": "ipython",
    "version": 3
   },
   "file_extension": ".py",
   "mimetype": "text/x-python",
   "name": "python",
   "nbconvert_exporter": "python",
   "pygments_lexer": "ipython3",
   "version": "3.8.12"
  },
  "toc": {
   "base_numbering": 1,
   "nav_menu": {},
   "number_sections": true,
   "sideBar": true,
   "skip_h1_title": false,
   "title_cell": "Table of Contents",
   "title_sidebar": "Contents",
   "toc_cell": false,
   "toc_position": {
    "height": "calc(100% - 180px)",
    "left": "10px",
    "top": "150px",
    "width": "165px"
   },
   "toc_section_display": true,
   "toc_window_display": true
  }
 },
 "nbformat": 4,
 "nbformat_minor": 5
}
