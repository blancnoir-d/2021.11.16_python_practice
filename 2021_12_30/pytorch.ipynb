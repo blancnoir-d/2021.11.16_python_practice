{
 "cells": [
  {
   "cell_type": "code",
   "execution_count": 2,
   "id": "8a610378-59f1-47fa-880b-3d6f26029713",
   "metadata": {},
   "outputs": [],
   "source": [
    "import torch\n",
    "import numpy as np"
   ]
  },
  {
   "cell_type": "code",
   "execution_count": 3,
   "id": "b85dc705-2124-4e96-a2bc-ee64985853bd",
   "metadata": {},
   "outputs": [
    {
     "data": {
      "text/plain": [
       "array([0, 1, 2, 3, 4, 5, 6, 7, 8])"
      ]
     },
     "execution_count": 3,
     "metadata": {},
     "output_type": "execute_result"
    }
   ],
   "source": [
    "np.arange(9)"
   ]
  },
  {
   "cell_type": "code",
   "execution_count": 4,
   "id": "cf34d2c9-6b9c-46b8-aca2-ea2674373c71",
   "metadata": {},
   "outputs": [
    {
     "data": {
      "text/plain": [
       "tensor([0, 1, 2, 3, 4, 5, 6, 7, 8])"
      ]
     },
     "execution_count": 4,
     "metadata": {},
     "output_type": "execute_result"
    }
   ],
   "source": [
    "nums = torch.arange(9)\n",
    "nums"
   ]
  },
  {
   "cell_type": "code",
   "execution_count": 5,
   "id": "0555682d-f81b-487a-83f3-5dca6fb775b8",
   "metadata": {},
   "outputs": [
    {
     "data": {
      "text/plain": [
       "torch.Tensor"
      ]
     },
     "execution_count": 5,
     "metadata": {},
     "output_type": "execute_result"
    }
   ],
   "source": [
    "type(nums)"
   ]
  },
  {
   "cell_type": "code",
   "execution_count": 10,
   "id": "06a1ed08-1937-437d-b4e9-e4dcd8cbff3b",
   "metadata": {},
   "outputs": [
    {
     "data": {
      "text/plain": [
       "array([0, 1, 2, 3, 4, 5, 6, 7, 8], dtype=int64)"
      ]
     },
     "execution_count": 10,
     "metadata": {},
     "output_type": "execute_result"
    }
   ],
   "source": [
    "#토치 텐서 넘파이로 변환\n",
    "nums.numpy()"
   ]
  },
  {
   "cell_type": "code",
   "execution_count": 11,
   "id": "f19d8781-eb91-461d-9674-fe3534069875",
   "metadata": {},
   "outputs": [
    {
     "data": {
      "text/plain": [
       "tensor([[0, 1, 2],\n",
       "        [3, 4, 5],\n",
       "        [6, 7, 8]])"
      ]
     },
     "execution_count": 11,
     "metadata": {},
     "output_type": "execute_result"
    }
   ],
   "source": [
    "nums.reshape(3,3)"
   ]
  },
  {
   "cell_type": "code",
   "execution_count": 14,
   "id": "6dd2e8a9-00f3-4b59-b4a9-d3b6ec1f8b3d",
   "metadata": {},
   "outputs": [
    {
     "data": {
      "text/plain": [
       "tensor([[0.6744, 0.3392, 0.1309],\n",
       "        [0.9499, 0.1423, 0.3932],\n",
       "        [0.2067, 0.2349, 0.3341]])"
      ]
     },
     "execution_count": 14,
     "metadata": {},
     "output_type": "execute_result"
    }
   ],
   "source": [
    "randoms = torch.rand((3,3))\n",
    "randoms"
   ]
  },
  {
   "cell_type": "code",
   "execution_count": 15,
   "id": "2489970b-f053-4799-8ca2-032585925277",
   "metadata": {},
   "outputs": [
    {
     "data": {
      "text/plain": [
       "tensor([[0., 0., 0., 0.],\n",
       "        [0., 0., 0., 0.],\n",
       "        [0., 0., 0., 0.],\n",
       "        [0., 0., 0., 0.]])"
      ]
     },
     "execution_count": 15,
     "metadata": {},
     "output_type": "execute_result"
    }
   ],
   "source": [
    "zeross = torch.zeros((4,4))\n",
    "zeross"
   ]
  },
  {
   "cell_type": "code",
   "execution_count": 16,
   "id": "2a12a046-3058-4e16-9101-93e790771b57",
   "metadata": {},
   "outputs": [
    {
     "data": {
      "text/plain": [
       "tensor([[1., 1., 1., 1., 1.],\n",
       "        [1., 1., 1., 1., 1.],\n",
       "        [1., 1., 1., 1., 1.],\n",
       "        [1., 1., 1., 1., 1.],\n",
       "        [1., 1., 1., 1., 1.]])"
      ]
     },
     "execution_count": 16,
     "metadata": {},
     "output_type": "execute_result"
    }
   ],
   "source": [
    "oness = torch.ones((5,5))\n",
    "oness"
   ]
  },
  {
   "cell_type": "code",
   "execution_count": 18,
   "id": "c6fbfa3a-fec0-470b-aab6-13fd7d9f3efb",
   "metadata": {},
   "outputs": [
    {
     "data": {
      "text/plain": [
       "tensor([[0., 0., 0., 0., 0.],\n",
       "        [0., 0., 0., 0., 0.],\n",
       "        [0., 0., 0., 0., 0.],\n",
       "        [0., 0., 0., 0., 0.],\n",
       "        [0., 0., 0., 0., 0.]])"
      ]
     },
     "execution_count": 18,
     "metadata": {},
     "output_type": "execute_result"
    }
   ],
   "source": [
    "torch.zeros_like(oness)"
   ]
  },
  {
   "cell_type": "markdown",
   "id": "9b692eac-46dd-4aed-bef7-1f66297bcdc5",
   "metadata": {},
   "source": [
    "# pytorch Operations "
   ]
  },
  {
   "cell_type": "code",
   "execution_count": 19,
   "id": "408245d9-6aa0-4e28-838e-7e5903a1bdd1",
   "metadata": {},
   "outputs": [
    {
     "data": {
      "text/plain": [
       "tensor([ 0,  3,  6,  9, 12, 15, 18, 21, 24])"
      ]
     },
     "execution_count": 19,
     "metadata": {},
     "output_type": "execute_result"
    }
   ],
   "source": [
    "nums *3"
   ]
  },
  {
   "cell_type": "code",
   "execution_count": 21,
   "id": "2b19cc19-a38a-4b33-a295-6a65d5c03973",
   "metadata": {},
   "outputs": [
    {
     "data": {
      "text/plain": [
       "tensor([[0, 1, 2],\n",
       "        [3, 4, 5],\n",
       "        [6, 7, 8]])"
      ]
     },
     "execution_count": 21,
     "metadata": {},
     "output_type": "execute_result"
    }
   ],
   "source": [
    "nums = nums.reshape((3,3))\n",
    "nums"
   ]
  },
  {
   "cell_type": "code",
   "execution_count": 22,
   "id": "0d19f7d7-7591-4c7e-b94c-7d73cf735b18",
   "metadata": {},
   "outputs": [
    {
     "data": {
      "text/plain": [
       "tensor([[ 0,  2,  4],\n",
       "        [ 6,  8, 10],\n",
       "        [12, 14, 16]])"
      ]
     },
     "execution_count": 22,
     "metadata": {},
     "output_type": "execute_result"
    }
   ],
   "source": [
    "nums +nums"
   ]
  },
  {
   "cell_type": "code",
   "execution_count": 23,
   "id": "e06f4ce8-3f26-4f50-bef1-5d0400c830db",
   "metadata": {},
   "outputs": [
    {
     "data": {
      "text/plain": [
       "tensor([[ 3,  4,  5],\n",
       "        [ 6,  7,  8],\n",
       "        [ 9, 10, 11]])"
      ]
     },
     "execution_count": 23,
     "metadata": {},
     "output_type": "execute_result"
    }
   ],
   "source": [
    "torch.add(nums, 3)"
   ]
  },
  {
   "cell_type": "code",
   "execution_count": 25,
   "id": "3ed2a26b-7f3f-402e-b70d-8b599703381c",
   "metadata": {},
   "outputs": [
    {
     "data": {
      "text/plain": [
       "tensor([[ 3,  4,  5],\n",
       "        [ 6,  7,  8],\n",
       "        [ 9, 10, 11]])"
      ]
     },
     "execution_count": 25,
     "metadata": {},
     "output_type": "execute_result"
    }
   ],
   "source": [
    "result = torch.add(nums, 3)\n",
    "result"
   ]
  },
  {
   "cell_type": "code",
   "execution_count": 26,
   "id": "7f834893-4de0-41e7-94f0-129111d6cc79",
   "metadata": {},
   "outputs": [
    {
     "data": {
      "text/plain": [
       "array([[ 3,  4,  5],\n",
       "       [ 6,  7,  8],\n",
       "       [ 9, 10, 11]], dtype=int64)"
      ]
     },
     "execution_count": 26,
     "metadata": {},
     "output_type": "execute_result"
    }
   ],
   "source": [
    "result.numpy()"
   ]
  },
  {
   "cell_type": "markdown",
   "id": "aea2d3e4-c53c-4aa4-b685-cc14da250aeb",
   "metadata": {},
   "source": [
    "# View "
   ]
  },
  {
   "cell_type": "code",
   "execution_count": 28,
   "id": "d1c04c23-58c9-4e98-9ea7-186d23be4f94",
   "metadata": {},
   "outputs": [
    {
     "data": {
      "text/plain": [
       "tensor([[0, 1, 2],\n",
       "        [3, 4, 5],\n",
       "        [6, 7, 8]])"
      ]
     },
     "execution_count": 28,
     "metadata": {},
     "output_type": "execute_result"
    }
   ],
   "source": [
    "range_nums = torch.arange(9).reshape(3,3)\n",
    "range_nums"
   ]
  },
  {
   "cell_type": "code",
   "execution_count": 29,
   "id": "e6da79de-d4ea-4dd7-b6b9-0604df2eb7ee",
   "metadata": {},
   "outputs": [
    {
     "data": {
      "text/plain": [
       "tensor([0, 1, 2, 3, 4, 5, 6, 7, 8])"
      ]
     },
     "execution_count": 29,
     "metadata": {},
     "output_type": "execute_result"
    }
   ],
   "source": [
    "# view는 reshape와 다를게 없고 reshape를 권장함 \n",
    "range_nums.view(-1)"
   ]
  },
  {
   "cell_type": "code",
   "execution_count": 35,
   "id": "91838e34-f85d-400b-a24b-0aa523577502",
   "metadata": {},
   "outputs": [
    {
     "data": {
      "text/plain": [
       "tensor([[0, 1, 2],\n",
       "        [3, 4, 5],\n",
       "        [6, 7, 8]])"
      ]
     },
     "execution_count": 35,
     "metadata": {},
     "output_type": "execute_result"
    }
   ],
   "source": [
    "range_nums.view(3,3)"
   ]
  },
  {
   "cell_type": "markdown",
   "id": "faf2e072-078a-4f67-96b9-52381c31e2e6",
   "metadata": {},
   "source": [
    "# Slice and Index "
   ]
  },
  {
   "cell_type": "code",
   "execution_count": 36,
   "id": "475087af-5fa2-4cea-ad4e-b16fa314d75f",
   "metadata": {},
   "outputs": [
    {
     "data": {
      "text/plain": [
       "tensor([[0, 1, 2],\n",
       "        [3, 4, 5],\n",
       "        [6, 7, 8]])"
      ]
     },
     "execution_count": 36,
     "metadata": {},
     "output_type": "execute_result"
    }
   ],
   "source": [
    "nums"
   ]
  },
  {
   "cell_type": "code",
   "execution_count": 37,
   "id": "1c59ff55-29ca-4e00-829d-d4fd007cc698",
   "metadata": {},
   "outputs": [
    {
     "data": {
      "text/plain": [
       "tensor([3, 4, 5])"
      ]
     },
     "execution_count": 37,
     "metadata": {},
     "output_type": "execute_result"
    }
   ],
   "source": [
    "nums[1]"
   ]
  },
  {
   "cell_type": "code",
   "execution_count": 38,
   "id": "766a7f46-2a6c-4954-b04f-499bb023c5f1",
   "metadata": {},
   "outputs": [
    {
     "data": {
      "text/plain": [
       "tensor(4)"
      ]
     },
     "execution_count": 38,
     "metadata": {},
     "output_type": "execute_result"
    }
   ],
   "source": [
    "nums[1,1]"
   ]
  },
  {
   "cell_type": "code",
   "execution_count": 39,
   "id": "30c21ffa-6af2-4935-9da1-1a488a55ffb4",
   "metadata": {},
   "outputs": [
    {
     "data": {
      "text/plain": [
       "tensor([[1, 2],\n",
       "        [4, 5]])"
      ]
     },
     "execution_count": 39,
     "metadata": {},
     "output_type": "execute_result"
    }
   ],
   "source": [
    "nums[:2, 1:]"
   ]
  },
  {
   "cell_type": "code",
   "execution_count": 40,
   "id": "f333e42e-5aae-4200-b0d2-890d8cbfad2e",
   "metadata": {},
   "outputs": [
    {
     "data": {
      "text/plain": [
       "tensor([[3, 4, 5],\n",
       "        [6, 7, 8]])"
      ]
     },
     "execution_count": 40,
     "metadata": {},
     "output_type": "execute_result"
    }
   ],
   "source": [
    "nums[1:]"
   ]
  },
  {
   "cell_type": "markdown",
   "id": "0d4ef791-8a6e-40e8-aaf6-6aed6b64cdd5",
   "metadata": {},
   "source": [
    "# Complie \n",
    "numpy를 torch tensor로 불러오기"
   ]
  },
  {
   "cell_type": "code",
   "execution_count": 41,
   "id": "33e93f9d-fd95-4599-a2ac-f95b2db747a4",
   "metadata": {},
   "outputs": [],
   "source": [
    "arr = np.array([1,2,2])"
   ]
  },
  {
   "cell_type": "code",
   "execution_count": 42,
   "id": "a359bcb3-5d70-4fd3-b0ac-e7cc957adb2d",
   "metadata": {},
   "outputs": [
    {
     "data": {
      "text/plain": [
       "tensor([1, 2, 2], dtype=torch.int32)"
      ]
     },
     "execution_count": 42,
     "metadata": {},
     "output_type": "execute_result"
    }
   ],
   "source": [
    "arr_torch = torch.from_numpy(arr)\n",
    "arr_torch"
   ]
  },
  {
   "cell_type": "code",
   "execution_count": 43,
   "id": "7704c86b-66a7-43f9-a4eb-959ea102d820",
   "metadata": {},
   "outputs": [
    {
     "data": {
      "text/plain": [
       "tensor([1., 2., 2.])"
      ]
     },
     "execution_count": 43,
     "metadata": {},
     "output_type": "execute_result"
    }
   ],
   "source": [
    "arr_torch.float()"
   ]
  },
  {
   "cell_type": "code",
   "execution_count": 44,
   "id": "d7b0a4d2-9469-4a76-a942-d7b74263152d",
   "metadata": {},
   "outputs": [
    {
     "data": {
      "text/plain": [
       "'cuda'"
      ]
     },
     "execution_count": 44,
     "metadata": {},
     "output_type": "execute_result"
    }
   ],
   "source": [
    "device = 'cuda' if torch.cuda.is_available() else 'cpu'\n",
    "device"
   ]
  },
  {
   "cell_type": "code",
   "execution_count": 45,
   "id": "795f2b6c-1d24-4719-a619-e52b95ff4f89",
   "metadata": {},
   "outputs": [
    {
     "data": {
      "text/plain": [
       "tensor([1, 2, 2], device='cuda:0', dtype=torch.int32)"
      ]
     },
     "execution_count": 45,
     "metadata": {},
     "output_type": "execute_result"
    }
   ],
   "source": [
    "arr_torch.to(device)"
   ]
  },
  {
   "cell_type": "markdown",
   "id": "b1e8ce3c-9706-442b-92e3-7e57efa2ad38",
   "metadata": {},
   "source": [
    "# AutoGrad\n",
    "기울기를 줘서 학습이 되게 하는 것"
   ]
  },
  {
   "cell_type": "code",
   "execution_count": 56,
   "id": "96318b59-56c9-4dc6-9c90-4188a71941e7",
   "metadata": {},
   "outputs": [
    {
     "data": {
      "text/plain": [
       "tensor([[1., 1.],\n",
       "        [1., 1.]], requires_grad=True)"
      ]
     },
     "execution_count": 56,
     "metadata": {},
     "output_type": "execute_result"
    }
   ],
   "source": [
    "x = torch.ones(2,2,requires_grad=True)\n",
    "x"
   ]
  },
  {
   "cell_type": "code",
   "execution_count": 57,
   "id": "9c244cb4-3b24-414d-8c33-eb21235d7a8e",
   "metadata": {},
   "outputs": [
    {
     "data": {
      "text/plain": [
       "tensor([[3., 3.],\n",
       "        [3., 3.]], grad_fn=<AddBackward0>)"
      ]
     },
     "execution_count": 57,
     "metadata": {},
     "output_type": "execute_result"
    }
   ],
   "source": [
    "y = x+2\n",
    "y"
   ]
  },
  {
   "cell_type": "code",
   "execution_count": 58,
   "id": "aa31f8b1-85ce-40e9-96f2-de58f45d6915",
   "metadata": {},
   "outputs": [
    {
     "name": "stdout",
     "output_type": "stream",
     "text": [
      "<AddBackward0 object at 0x00000184C24FCF10>\n"
     ]
    }
   ],
   "source": [
    "print(y.grad_fn)"
   ]
  },
  {
   "cell_type": "code",
   "execution_count": 59,
   "id": "69c0b350-0246-4b43-b108-8452ac6cf53f",
   "metadata": {},
   "outputs": [],
   "source": [
    "z = y * y *3"
   ]
  },
  {
   "cell_type": "code",
   "execution_count": 60,
   "id": "7b5adc80-8e28-4b3b-8544-0676622ad730",
   "metadata": {},
   "outputs": [
    {
     "data": {
      "text/plain": [
       "tensor(27., grad_fn=<MeanBackward0>)"
      ]
     },
     "execution_count": 60,
     "metadata": {},
     "output_type": "execute_result"
    }
   ],
   "source": [
    "out = z.mean()\n",
    "out"
   ]
  },
  {
   "cell_type": "code",
   "execution_count": 61,
   "id": "4febe562-f577-46fb-8efb-33367840f339",
   "metadata": {},
   "outputs": [
    {
     "name": "stdout",
     "output_type": "stream",
     "text": [
      "tensor([[4.5000, 4.5000],\n",
      "        [4.5000, 4.5000]])\n"
     ]
    }
   ],
   "source": [
    "out.backward()\n",
    "print(x.grad) #x의 기울기"
   ]
  },
  {
   "cell_type": "code",
   "execution_count": 62,
   "id": "9cd8efe3-6d7e-4544-8768-c258c42e2d47",
   "metadata": {},
   "outputs": [
    {
     "name": "stdout",
     "output_type": "stream",
     "text": [
      "True\n",
      "True\n"
     ]
    }
   ],
   "source": [
    "print(x.requires_grad)\n",
    "print((x**2).requires_grad)"
   ]
  },
  {
   "cell_type": "code",
   "execution_count": 63,
   "id": "c922fe35-ed65-41d4-9d70-f0e3cdee7322",
   "metadata": {},
   "outputs": [
    {
     "name": "stdout",
     "output_type": "stream",
     "text": [
      "False\n"
     ]
    }
   ],
   "source": [
    "with torch.no_grad():\n",
    "    print((x**2).requires_grad)"
   ]
  },
  {
   "cell_type": "markdown",
   "id": "d30bf7a3-3f35-4422-bdf6-c430b82b7a74",
   "metadata": {},
   "source": [
    "# PyTorch Data Preprocess "
   ]
  },
  {
   "cell_type": "code",
   "execution_count": 64,
   "id": "9cb093ce-0588-4f3f-b4fb-e55652484a87",
   "metadata": {},
   "outputs": [],
   "source": [
    "import torch\n",
    "from torchvision import datasets, transforms"
   ]
  },
  {
   "cell_type": "markdown",
   "id": "42698c70-26ed-47b5-aa89-78147cffcb4f",
   "metadata": {},
   "source": [
    "## Data Loader 부르기\n",
    "파이토치는 DataLoader를 불러 model에 넣음 "
   ]
  },
  {
   "cell_type": "code",
   "execution_count": 65,
   "id": "ed50c084-c4a9-4fbc-9b0f-8bf566a96d27",
   "metadata": {},
   "outputs": [],
   "source": [
    "batch_size = 32\n",
    "test_batch_size = 32"
   ]
  },
  {
   "cell_type": "code",
   "execution_count": 73,
   "id": "65f569eb-0e70-4134-bca2-30ba90e014c1",
   "metadata": {},
   "outputs": [
    {
     "name": "stdout",
     "output_type": "stream",
     "text": [
      "Downloading http://yann.lecun.com/exdb/mnist/train-images-idx3-ubyte.gz to dataset/MNIST\\raw\\train-images-idx3-ubyte.gz\n"
     ]
    },
    {
     "data": {
      "application/vnd.jupyter.widget-view+json": {
       "model_id": "c6de0b7186b5425aa7662c32a483f5fa",
       "version_major": 2,
       "version_minor": 0
      },
      "text/plain": [
       "0it [00:00, ?it/s]"
      ]
     },
     "metadata": {},
     "output_type": "display_data"
    },
    {
     "name": "stdout",
     "output_type": "stream",
     "text": [
      "Extracting dataset/MNIST\\raw\\train-images-idx3-ubyte.gz to dataset/MNIST\\raw\n",
      "Downloading http://yann.lecun.com/exdb/mnist/train-labels-idx1-ubyte.gz to dataset/MNIST\\raw\\train-labels-idx1-ubyte.gz\n"
     ]
    },
    {
     "data": {
      "application/vnd.jupyter.widget-view+json": {
       "model_id": "372477daf8c64266aa5d4ca11d4da167",
       "version_major": 2,
       "version_minor": 0
      },
      "text/plain": [
       "0it [00:00, ?it/s]"
      ]
     },
     "metadata": {},
     "output_type": "display_data"
    },
    {
     "name": "stdout",
     "output_type": "stream",
     "text": [
      "Extracting dataset/MNIST\\raw\\train-labels-idx1-ubyte.gz to dataset/MNIST\\raw\n",
      "Downloading http://yann.lecun.com/exdb/mnist/t10k-images-idx3-ubyte.gz to dataset/MNIST\\raw\\t10k-images-idx3-ubyte.gz\n"
     ]
    },
    {
     "data": {
      "application/vnd.jupyter.widget-view+json": {
       "model_id": "15d80f94846f4545aee9b6076852848c",
       "version_major": 2,
       "version_minor": 0
      },
      "text/plain": [
       "0it [00:00, ?it/s]"
      ]
     },
     "metadata": {},
     "output_type": "display_data"
    },
    {
     "name": "stdout",
     "output_type": "stream",
     "text": [
      "Extracting dataset/MNIST\\raw\\t10k-images-idx3-ubyte.gz to dataset/MNIST\\raw\n",
      "Downloading http://yann.lecun.com/exdb/mnist/t10k-labels-idx1-ubyte.gz to dataset/MNIST\\raw\\t10k-labels-idx1-ubyte.gz\n"
     ]
    },
    {
     "data": {
      "application/vnd.jupyter.widget-view+json": {
       "model_id": "17beb99d729f452eb4820020973fc172",
       "version_major": 2,
       "version_minor": 0
      },
      "text/plain": [
       "0it [00:00, ?it/s]"
      ]
     },
     "metadata": {},
     "output_type": "display_data"
    },
    {
     "name": "stdout",
     "output_type": "stream",
     "text": [
      "Extracting dataset/MNIST\\raw\\t10k-labels-idx1-ubyte.gz to dataset/MNIST\\raw\n",
      "Processing...\n",
      "Done!\n"
     ]
    }
   ],
   "source": [
    "train_loader = torch.utils.data.DataLoader(datasets.MNIST('dataset/', train = True, download = True, transform = transforms.Compose([\n",
    "transforms.ToTensor(), transforms.Normalize(mean=(0.5,), std=(0.5))])), \n",
    "                                          batch_size=batch_size, shuffle=True)"
   ]
  },
  {
   "cell_type": "code",
   "execution_count": 74,
   "id": "ea2308bb-f2da-40af-9979-acf3df16a1a6",
   "metadata": {},
   "outputs": [],
   "source": [
    "test_loader = torch.utils.data.DataLoader( datasets.MNIST('dataset/', train=False, transform = transforms.Compose([\n",
    "    transforms.ToTensor(), transforms.Normalize((0.5,),(0.5))]))\n",
    "                                         , batch_size = test_batch_size, shuffle=True)"
   ]
  },
  {
   "cell_type": "code",
   "execution_count": 75,
   "id": "0d1a1b9b-1f39-4807-99c7-1c89a3e04768",
   "metadata": {},
   "outputs": [],
   "source": [
    "images, labels = next(iter(train_loader))"
   ]
  },
  {
   "cell_type": "code",
   "execution_count": 76,
   "id": "a225411e-1b0a-4b80-b118-8348d4f0b687",
   "metadata": {},
   "outputs": [
    {
     "data": {
      "text/plain": [
       "torch.Size([32, 1, 28, 28])"
      ]
     },
     "execution_count": 76,
     "metadata": {},
     "output_type": "execute_result"
    }
   ],
   "source": [
    "images.shape"
   ]
  },
  {
   "cell_type": "code",
   "execution_count": 77,
   "id": "bf6d0d65-0259-496f-8db8-a7b49ff9c247",
   "metadata": {},
   "outputs": [
    {
     "data": {
      "text/plain": [
       "torch.Size([32])"
      ]
     },
     "execution_count": 77,
     "metadata": {},
     "output_type": "execute_result"
    }
   ],
   "source": [
    "labels.shape"
   ]
  },
  {
   "cell_type": "markdown",
   "id": "5e43416f-2c8b-4837-b31e-485f11c7b91d",
   "metadata": {},
   "source": [
    "## 데이터 시각화 "
   ]
  },
  {
   "cell_type": "code",
   "execution_count": null,
   "id": "e3ecb3be-1385-48a8-835a-56e1337ce5cc",
   "metadata": {},
   "outputs": [],
   "source": []
  }
 ],
 "metadata": {
  "kernelspec": {
   "display_name": "Python 3 (ipykernel)",
   "language": "python",
   "name": "python3"
  },
  "language_info": {
   "codemirror_mode": {
    "name": "ipython",
    "version": 3
   },
   "file_extension": ".py",
   "mimetype": "text/x-python",
   "name": "python",
   "nbconvert_exporter": "python",
   "pygments_lexer": "ipython3",
   "version": "3.8.12"
  }
 },
 "nbformat": 4,
 "nbformat_minor": 5
}
