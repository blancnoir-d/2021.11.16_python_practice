{
 "cells": [
  {
   "cell_type": "code",
   "execution_count": 6,
   "id": "5431b5cd-4613-40c0-b0a2-4f65cb0d3056",
   "metadata": {},
   "outputs": [],
   "source": [
    "import tensorflow as tf\n",
    "from tensorflow import keras\n",
    "import numpy as np\n",
    "import pandas as pd\n",
    "import matplotlib.pyplot as plt \n",
    "from tensorflow.keras import datasets"
   ]
  },
  {
   "cell_type": "code",
   "execution_count": 7,
   "id": "3ffa509a-e909-4eeb-a947-bc8385ee272f",
   "metadata": {},
   "outputs": [],
   "source": [
    "f_minist = datasets.fashion_mnist"
   ]
  },
  {
   "cell_type": "code",
   "execution_count": 8,
   "id": "a09b7197-c939-4f4a-b425-f6d9e18006d2",
   "metadata": {},
   "outputs": [],
   "source": [
    "(x_train, y_train), (x_test, y_test) = f_minist.load_data()"
   ]
  },
  {
   "cell_type": "code",
   "execution_count": 9,
   "id": "f2c2a127-aaf5-4617-9af0-f5c86638ddc4",
   "metadata": {},
   "outputs": [
    {
     "data": {
      "text/plain": [
       "(60000, 28, 28)"
      ]
     },
     "execution_count": 9,
     "metadata": {},
     "output_type": "execute_result"
    }
   ],
   "source": [
    "x_train.shape"
   ]
  },
  {
   "cell_type": "code",
   "execution_count": 10,
   "id": "31ff956e-9060-47da-a052-c2782e6fd545",
   "metadata": {},
   "outputs": [
    {
     "data": {
      "text/plain": [
       "(10000, 28, 28)"
      ]
     },
     "execution_count": 10,
     "metadata": {},
     "output_type": "execute_result"
    }
   ],
   "source": [
    "x_test.shape"
   ]
  },
  {
   "cell_type": "code",
   "execution_count": 11,
   "id": "de747183-abca-4664-99ab-01ba48fdea52",
   "metadata": {},
   "outputs": [
    {
     "data": {
      "text/plain": [
       "(0, 255)"
      ]
     },
     "execution_count": 11,
     "metadata": {},
     "output_type": "execute_result"
    }
   ],
   "source": [
    "np.min(x_train), np.max(x_train)"
   ]
  },
  {
   "cell_type": "code",
   "execution_count": 12,
   "id": "891405b8-2e1d-45ce-91e5-2bac17cc60ca",
   "metadata": {},
   "outputs": [
    {
     "data": {
      "text/plain": [
       "(0, 255)"
      ]
     },
     "execution_count": 12,
     "metadata": {},
     "output_type": "execute_result"
    }
   ],
   "source": [
    "np.min(x_test), np.max(x_test)"
   ]
  },
  {
   "cell_type": "code",
   "execution_count": 14,
   "id": "4298d7e5-22d7-40e5-879d-2a81a7080bc6",
   "metadata": {},
   "outputs": [
    {
     "data": {
      "image/png": "[encoded data removed]",
      "text/plain": [
       "<Figure size 432x288 with 2 Axes>"
      ]
     },
     "metadata": {
      "needs_background": "light"
     },
     "output_type": "display_data"
    }
   ],
   "source": [
    "plt.imshow(x_train[0], cmap='gray')\n",
    "plt.colorbar()\n",
    "plt.show()"
   ]
  },
  {
   "cell_type": "code",
   "execution_count": 16,
   "id": "6123a8e8-2912-4a78-a500-c212d7e96c1f",
   "metadata": {},
   "outputs": [
    {
     "name": "stdout",
     "output_type": "stream",
     "text": [
      "(60000, 28, 28, 1)\n",
      "(10000, 28, 28, 1)\n"
     ]
    }
   ],
   "source": [
    "print(x_train[..., tf.newaxis].shape)\n",
    "print(x_test[..., tf.newaxis].shape)"
   ]
  },
  {
   "cell_type": "code",
   "execution_count": 17,
   "id": "d2fbf249-23f0-489c-b711-4844527e2c99",
   "metadata": {},
   "outputs": [],
   "source": [
    "x_train = x_train /255.\n",
    "x_test = x_test /255."
   ]
  },
  {
   "cell_type": "code",
   "execution_count": 18,
   "id": "324107fd-9c5d-43c4-ac0c-412d2e47f373",
   "metadata": {},
   "outputs": [
    {
     "name": "stdout",
     "output_type": "stream",
     "text": [
      "(0.0, 1.0, (60000, 28, 28), array([0.00392157, 0.05098039, 0.28627451, 0.00392157, 0.01568627]), dtype('float64'))\n"
     ]
    }
   ],
   "source": [
    "print(f'{x_train.min(), x_train.max(), x_train.shape, x_train[x_train != 0][:5], x_train.dtype}')"
   ]
  },
  {
   "cell_type": "code",
   "execution_count": 19,
   "id": "b1c54129-4e20-4869-9d5c-dc9f1119e5d7",
   "metadata": {},
   "outputs": [
    {
     "data": {
      "image/png": "[encoded data removed]",
      "text/plain": [
       "<Figure size 432x288 with 1 Axes>"
      ]
     },
     "metadata": {
      "needs_background": "light"
     },
     "output_type": "display_data"
    }
   ],
   "source": [
    "#5개의 연속된 이미지 확인해보기 \n",
    "plt.imshow(np.hstack(x_train[:5]), cmap='gray')\n",
    "plt.show()"
   ]
  },
  {
   "cell_type": "code",
   "execution_count": 25,
   "id": "88ca74a6-9836-40e5-b379-53dcb7c629e0",
   "metadata": {},
   "outputs": [],
   "source": [
    "#이미지 주변을 확장하는 \n",
    "def expand_4times(img):\n",
    "    bg = np.zeros(img.shape)\n",
    "    idx = np.random.randint(0,4)\n",
    "    slots=[bg, bg, bg, bg]\n",
    "    slots[idx] = img\n",
    "    \n",
    "    expanded = np.vstack([np.hstack(slots[:2]), np.hstack(slots[2:])])\n",
    "    \n",
    "    return expanded\n",
    "\n"
   ]
  },
  {
   "cell_type": "code",
   "execution_count": 26,
   "id": "e5079245-9c61-4c18-979d-64a8e99a5e62",
   "metadata": {},
   "outputs": [],
   "source": [
    "train_expand_images = np.array([expand_4times(img) for img in x_train])\n",
    "test_expand_images = np.array([expand_4times(img) for img in x_test])"
   ]
  },
  {
   "cell_type": "code",
   "execution_count": null,
   "id": "4c9163c3-8695-46a0-bcac-784f72473417",
   "metadata": {},
   "outputs": [],
   "source": []
  }
 ],
 "metadata": {
  "kernelspec": {
   "display_name": "Python 3 (ipykernel)",
   "language": "python",
   "name": "python3"
  },
  "language_info": {
   "codemirror_mode": {
    "name": "ipython",
    "version": 3
   },
   "file_extension": ".py",
   "mimetype": "text/x-python",
   "name": "python",
   "nbconvert_exporter": "python",
   "pygments_lexer": "ipython3",
   "version": "3.8.12"
  }
 },
 "nbformat": 4,
 "nbformat_minor": 5
}
