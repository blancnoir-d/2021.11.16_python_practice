{
 "cells": [
  {
   "cell_type": "markdown",
   "id": "7ebf70b0",
   "metadata": {},
   "source": [
    "# 클래스"
   ]
  },
  {
   "cell_type": "code",
   "execution_count": null,
   "id": "5a4b28aa",
   "metadata": {
    "ExecuteTime": {
     "start_time": "2021-11-23T04:23:31.252Z"
    }
   },
   "outputs": [],
   "source": [
    "class FourCla :\n",
    "    \n",
    "    def setdat(self, first, second):\n",
    "        self.first = first\n",
    "        self.second = second\n",
    "    \n",
    "    def add(self):\n",
    "        result"
   ]
  },
  {
   "cell_type": "markdown",
   "id": "bb95c06c",
   "metadata": {},
   "source": [
    "# 리스트와 Array 비교\n",
    "\n",
    "두개의 리스트와 어레이를 비교하기위한 다양한 방법"
   ]
  },
  {
   "cell_type": "markdown",
   "id": "34a3dad5",
   "metadata": {},
   "source": [
    "## 파이썬 연산자 사용하기\n",
    "\n",
    "비교 연산자 '=='을 이용해서 비교"
   ]
  },
  {
   "cell_type": "code",
   "execution_count": 1,
   "id": "26a02bb6",
   "metadata": {
    "ExecuteTime": {
     "end_time": "2021-11-23T04:29:53.844685Z",
     "start_time": "2021-11-23T04:29:53.826516Z"
    }
   },
   "outputs": [
    {
     "name": "stdout",
     "output_type": "stream",
     "text": [
      "True\n",
      "False\n"
     ]
    }
   ],
   "source": [
    "list1 = [[1,2],[3,4]]\n",
    "list2 = [[1,2],[3,4]]\n",
    "\n",
    "\n",
    "list3 = [[2,4],[5,4]]\n",
    "list4 = [[2,44,],[2,4]]\n",
    "\n",
    "print(list1 == list2)\n",
    "print(list3 == list4)\n"
   ]
  },
  {
   "cell_type": "markdown",
   "id": "509e5f11",
   "metadata": {},
   "source": [
    "## set으로 만들어서 비교"
   ]
  },
  {
   "cell_type": "code",
   "execution_count": 2,
   "id": "4f4f3ed2",
   "metadata": {
    "ExecuteTime": {
     "end_time": "2021-11-23T04:29:55.995592Z",
     "start_time": "2021-11-23T04:29:55.986590Z"
    }
   },
   "outputs": [
    {
     "name": "stdout",
     "output_type": "stream",
     "text": [
      "{1, 2, 3, 4, 5}\n",
      "{1, 2, 6, 7, 234, 12, 23, 56}\n",
      "False\n"
     ]
    }
   ],
   "source": [
    "list = [1,2,3,4,5]\n",
    "list2 = [23,234,56,12,2,2,1,6,7]\n",
    "\n",
    "print(set(list))\n",
    "print(set(list2))\n",
    "\n",
    "print(set(list) == set(list2))"
   ]
  },
  {
   "cell_type": "markdown",
   "id": "fc4c0125",
   "metadata": {},
   "source": [
    "## 파이썬 내장함수 sorted()사용하기\n",
    "\n",
    "sorted는 기본적으로 오름차순으로 정렬한다."
   ]
  },
  {
   "cell_type": "code",
   "execution_count": 4,
   "id": "fea97fe1",
   "metadata": {
    "ExecuteTime": {
     "end_time": "2021-11-23T04:31:09.797007Z",
     "start_time": "2021-11-23T04:31:09.779545Z"
    }
   },
   "outputs": [
    {
     "name": "stdout",
     "output_type": "stream",
     "text": [
      "[2, 2, 5, 6, 6, 12, 45, 5734]\n",
      "False\n"
     ]
    }
   ],
   "source": [
    "list5 = [1,2,3,4,5]\n",
    "list6 = [2,5,6,12,6,5734,2,45]\n",
    "\n",
    "print(sorted(list6))\n",
    "\n",
    "print(sorted(list6) == list5)"
   ]
  },
  {
   "cell_type": "markdown",
   "id": "3d17d4d2",
   "metadata": {},
   "source": [
    "## np.array_equal()"
   ]
  },
  {
   "cell_type": "code",
   "execution_count": 17,
   "id": "f880d102",
   "metadata": {
    "ExecuteTime": {
     "end_time": "2021-11-23T01:58:02.764240Z",
     "start_time": "2021-11-23T01:58:02.757240Z"
    },
    "scrolled": true
   },
   "outputs": [
    {
     "name": "stdout",
     "output_type": "stream",
     "text": [
      "[[ True  True]\n",
      " [ True  True]]\n",
      "True\n",
      "[[ True  True False]\n",
      " [ True False False]]\n",
      "False\n"
     ]
    }
   ],
   "source": [
    "import numpy as np\n",
    "\n",
    "arr1 = np.array([[1,2],[3,4]])\n",
    "arr2 = np.array([[1,2],[3,4]])\n",
    "\n",
    "\n",
    "arr3 = np.array([[1,2,5],[3,5,7]])\n",
    "arr4 = np.array([[1,2,2],[3,4,6]])\n",
    "\n",
    "print(arr1 == arr2) # 위에서 쓴 것철럼 ==를 쓰면 각 요소별로 비교를 하는 것 같다\n",
    "print(np.array_equal(arr1, arr2)) # 두 넘파이 어레이가 요소와 갯수가 완전히 같은지 아닌지를 보는 듯\n",
    "\n",
    "\n",
    "print(arr3 == arr4) # 위에서 쓴 것철럼 ==를 쓰면 각 요소별로 비교를 하는 것 같다\n",
    "print(np.array_equal(arr3, arr4))"
   ]
  },
  {
   "cell_type": "code",
   "execution_count": 7,
   "id": "50ce5847",
   "metadata": {
    "ExecuteTime": {
     "end_time": "2021-11-23T01:45:27.844502Z",
     "start_time": "2021-11-23T01:45:27.826498Z"
    }
   },
   "outputs": [
    {
     "name": "stdout",
     "output_type": "stream",
     "text": [
      "True\n"
     ]
    },
    {
     "data": {
      "text/plain": [
       "numpy.ndarray"
      ]
     },
     "execution_count": 7,
     "metadata": {},
     "output_type": "execute_result"
    }
   ],
   "source": [
    "arr1 = np.array([[1, 2], [3, 4]])\n",
    "arr2 = np.array([[1, 2], [3, 4]])\n",
    "print(np.array_equal(arr1, arr2))\n",
    "\n",
    "type(arr1)"
   ]
  },
  {
   "cell_type": "markdown",
   "id": "7927e2e0",
   "metadata": {},
   "source": [
    "### numpy 예제"
   ]
  },
  {
   "cell_type": "code",
   "execution_count": 11,
   "id": "1a708912",
   "metadata": {
    "ExecuteTime": {
     "end_time": "2021-11-23T04:39:24.672141Z",
     "start_time": "2021-11-23T04:39:24.659138Z"
    }
   },
   "outputs": [
    {
     "name": "stdout",
     "output_type": "stream",
     "text": [
      "[0 1 2] <class 'numpy.ndarray'>\n",
      "[ True  True False]\n"
     ]
    }
   ],
   "source": [
    "import numpy as np\n",
    "\n",
    "a = np.array([0,1,3])\n",
    "b = np.arange(3)\n",
    "print(b, type(b))\n",
    "\n",
    "print(np.equal(a,b))"
   ]
  },
  {
   "cell_type": "markdown",
   "id": "9dbf94d4",
   "metadata": {},
   "source": [
    "### np.arange()\n",
    "\n",
    "arange() : step 의 크기만큼 일정하게 떨어져 있는 숫자들을 array 형태로 반환해 주는 함수다.\n"
   ]
  },
  {
   "cell_type": "code",
   "execution_count": null,
   "id": "6d9d4356",
   "metadata": {
    "ExecuteTime": {
     "start_time": "2021-11-23T05:37:12.940Z"
    }
   },
   "outputs": [],
   "source": [
    "import numpy as np \n",
    "print(np.arange(3))  #\n",
    "print(np.arange(3.0))  \n",
    "print(np.arange(3,7)) \n",
    "print(np.arange(3,7,2)) "
   ]
  },
  {
   "cell_type": "markdown",
   "id": "8e405e0b",
   "metadata": {},
   "source": [
    "# 클래스 연습 문제"
   ]
  },
  {
   "cell_type": "markdown",
   "id": "c7fe6a6f",
   "metadata": {},
   "source": [
    "### 움직이는 공 "
   ]
  },
  {
   "cell_type": "code",
   "execution_count": null,
   "id": "e626484a",
   "metadata": {
    "ExecuteTime": {
     "start_time": "2021-11-23T04:14:21.636Z"
    }
   },
   "outputs": [],
   "source": [
    "from tkinter import *\n",
    "import time \n",
    "\n",
    "\n",
    "class Ball : \n",
    "    def __init__(self, color, size, x, y, xspeed, yspeed, canvas):\n",
    "        self.color = color\n",
    "        self.size = size\n",
    "        self.x = x\n",
    "        self.y = y\n",
    "        self.xspeed = xspeed # 수평방향 속도\n",
    "        self.yspeed = yspeed # 수직방향 속도\n",
    "        \n",
    "        self.canvas = canvas #캔버스\n",
    "        \n",
    "        #캔버스에 그려넣기\n",
    "        self.id = canvas.create_oval(x,y, x+size, y+size, fill = color)\n",
    "        \n",
    "    def moveBall(self): # 공 이동시키는 함수 \n",
    "        self.canvas.move(self.id, self.xspeed, self.yspeed)\n",
    "        #공이 벽을 맞고 다시 되돌아가게 하는 부분\n",
    "        #coords를 이용해서 위치 리스트 값을 받아서 각각 x1, x2, y1, y2에 넣는다\n",
    "        (x1 , y1 , x2 , y2 ) = self.canvas.coords (self.id)# 공의 현재 위치를 얻는다\n",
    "        #print(\"확인\", self.canvas.coords (self.id))\n",
    "        (self.x , self.y ) = x1 , y1\n",
    "        \n",
    "        if x1 <= 0 or x2 >= WIDTH: # 공의 x 좌표가 음수이거나 오른쪽 경계를 넘으면\n",
    "            self.xspeed = -self.xspeed\n",
    "        if y1<=0 or y2 >=HEIGHT :\n",
    "            self.yspeed = -self.yspeed\n",
    "\n",
    "    \n",
    "    \n",
    "WIDTH = 800\n",
    "HEIGHT = 500    \n",
    "    \n",
    "bullets = []    \n",
    "            \n",
    "#미사일 발사\n",
    "def fire(event):\n",
    "    #리스트에 총알 객체 넣기\n",
    "    bullets.append(Ball(\"red\", 10, 150, 250, 10, 0,canvas))\n",
    "                   \n",
    "            \n",
    "\n",
    "\n",
    "\n",
    "\n",
    "window = Tk()\n",
    "canvas = Canvas(window, width = WIDTH, height =HEIGHT)\n",
    "canvas.pack()\n",
    "canvas.bind(\"<B1-Motion>\", fire)\n",
    "\n",
    "\n",
    "ballA = Ball(\"red\",30,0,0,3,0,canvas)\n",
    "ballB = Ball(\"blue\",50,50,10,10,10, canvas)\n",
    "\n",
    "# id = canvas.create_oval(10,10,100,100, fill=\"red\")\n",
    "# canvas.move(id, 10,10)\n",
    "# canvas.update()\n",
    "# window.update()\n",
    "\n",
    "\n",
    "while True:\n",
    "    \n",
    "    for bullet in bullets :\n",
    "        bullet.move()\n",
    "        \n",
    "        if bullet.x +bullet.size >= WIDTH:\n",
    "            canvas.delete(bullet.id)\n",
    "            bullets.remove(bullet)\n",
    "            \n",
    "            \n",
    "    ballA.moveBall()\n",
    "    window.update()\n",
    "    time.sleep(0.03)\n",
    "    \n",
    "\n",
    "window.mainloop()\n",
    "        "
   ]
  },
  {
   "cell_type": "markdown",
   "id": "18a944a4",
   "metadata": {},
   "source": [
    "####  list->tuple, tuple ->list"
   ]
  },
  {
   "cell_type": "code",
   "execution_count": 9,
   "id": "7e2af703",
   "metadata": {
    "ExecuteTime": {
     "end_time": "2021-11-23T04:34:43.169482Z",
     "start_time": "2021-11-23T04:34:43.160479Z"
    }
   },
   "outputs": [
    {
     "name": "stdout",
     "output_type": "stream",
     "text": [
      "(1, 3, 4) <class 'tuple'>\n",
      "1\n",
      "3\n",
      "4\n",
      "<class 'list'>\n"
     ]
    }
   ],
   "source": [
    "#Tuple to List, List to Tuple\n",
    "#tuple(list)\n",
    "#list(tuple)\n",
    "\n",
    "a = (x1,x2,x3)\n",
    "print(a, type(a))\n",
    "\n",
    "a = (x1,x2,x3) = [1,3,4]\n",
    "print(x1)\n",
    "print(x2)\n",
    "print(x3)\n",
    "print(type(a))"
   ]
  },
  {
   "cell_type": "markdown",
   "id": "e33ad9d1",
   "metadata": {
    "ExecuteTime": {
     "end_time": "2021-11-23T02:24:12.442240Z",
     "start_time": "2021-11-23T02:24:12.426244Z"
    }
   },
   "source": [
    "# 12장 연습 문제"
   ]
  },
  {
   "cell_type": "markdown",
   "id": "fabc99e8",
   "metadata": {},
   "source": [
    "## 신비로운 수, 소수를 판별하라"
   ]
  },
  {
   "cell_type": "code",
   "execution_count": 14,
   "id": "1612d524",
   "metadata": {
    "ExecuteTime": {
     "end_time": "2021-11-23T05:19:52.114546Z",
     "start_time": "2021-11-23T05:19:48.947325Z"
    }
   },
   "outputs": [
    {
     "name": "stdout",
     "output_type": "stream",
     "text": [
      "n값을 입력하세요: 10\n",
      "소수가 아닙니다.\n",
      "time: 3.159219264984131\n"
     ]
    }
   ],
   "source": [
    "import time\n",
    "start = time. time()\n",
    "n= int(input(\"n값을 입력하세요: \"))\n",
    "\n",
    "count = 1\n",
    "\n",
    "for a in range(2, n+1):\n",
    "    if n%a == 0:\n",
    "        count +=1\n",
    "    \n",
    "if(count == 2):\n",
    "    print(\"소수입니다.\")\n",
    "else:\n",
    "     print(\"소수가 아닙니다.\")\n",
    "\n",
    "print(\"time:\", time.time()-start)"
   ]
  },
  {
   "cell_type": "markdown",
   "id": "209983f4",
   "metadata": {},
   "source": [
    "## 에라토스테네스의 체"
   ]
  },
  {
   "cell_type": "code",
   "execution_count": null,
   "id": "c2e3e238",
   "metadata": {},
   "outputs": [],
   "source": [
    "n =100\n",
    "number = [False, False]+[True] * (n-1)\n",
    "primes = []\n",
    "\n",
    "for i in range(2, n+1):\n",
    "    if number[i]:\n",
    "        primes.append(i)\n",
    "        for j in range(2*i, n+1, i):\n",
    "            number[j] = False\n",
    "print(primes)\n",
    "\n"
   ]
  },
  {
   "cell_type": "markdown",
   "id": "d1909d3f",
   "metadata": {},
   "source": [
    "## 이차방정식의 해"
   ]
  },
  {
   "cell_type": "code",
   "execution_count": null,
   "id": "2e2b46dc",
   "metadata": {
    "ExecuteTime": {
     "start_time": "2021-11-23T05:29:45.841Z"
    }
   },
   "outputs": [],
   "source": [
    "import math \n",
    "import sys\n",
    "\n",
    "print(\"ax^2 + bx +c= 0 에서\")\n",
    "a = float(input(\"a값:\"))\n",
    "b = float(input(\"b값:\"))\n",
    "c = float(input(\"c값:\"))\n",
    "\n",
    "if a == 0:\n",
    "    print(\"a= 0이므로 이차방정식이 아닙니다.\")\n",
    "    sys.exit()\n",
    "    \n",
    "D = b*b-4*a*c\n",
    "\n",
    "if D< 0:\n",
    "    print(\"해가 없습니다\")\n",
    "else:\n",
    "    x1 = (-b*math.sqrt(D))/(2*a)\n",
    "    x2 = (-b-math.sqrt(D))/(2*a)\n",
    "    print(\"해:\", x1, x2)"
   ]
  },
  {
   "cell_type": "markdown",
   "id": "25dadb85",
   "metadata": {},
   "source": [
    "## 이차함수 그래프"
   ]
  },
  {
   "cell_type": "code",
   "execution_count": 3,
   "id": "04e11ea1",
   "metadata": {
    "ExecuteTime": {
     "end_time": "2021-11-23T03:34:09.549994Z",
     "start_time": "2021-11-23T03:34:09.444120Z"
    },
    "scrolled": true
   },
   "outputs": [
    {
     "data": {
      "image/png": "[encoded data removed]",
      "text/plain": [
       "<Figure size 432x288 with 1 Axes>"
      ]
     },
     "metadata": {
      "needs_background": "light"
     },
     "output_type": "display_data"
    }
   ],
   "source": [
    "from matplotlib import pyplot as plt\n",
    "import numpy as np\n",
    "\n",
    "x = np.arange(-2, 8)\n",
    "y = -x**2 + 5*x +1\n",
    "\n",
    "plt.plot(x,y, marker = '1', linestyle='--', color='r')\n",
    "\n",
    "plt.grid()\n",
    "plt.show()"
   ]
  },
  {
   "cell_type": "markdown",
   "id": "27653a1e",
   "metadata": {},
   "source": [
    "## 대표값을 구해봅시다\n"
   ]
  },
  {
   "cell_type": "code",
   "execution_count": 2,
   "id": "5e3e0b68",
   "metadata": {
    "ExecuteTime": {
     "end_time": "2021-11-23T06:54:08.924623Z",
     "start_time": "2021-11-23T06:54:08.908627Z"
    }
   },
   "outputs": [
    {
     "name": "stdout",
     "output_type": "stream",
     "text": [
      "[2, 2, 3, 6, 6, 7, 7, 7, 8, 8, 9, 10, 65]\n",
      "10.76923076923077\n"
     ]
    }
   ],
   "source": [
    "data = [6,7,7,8,8,10,9,3,65,2,7,2,6]\n",
    "data.sort()\n",
    "print(data)\n",
    "\n",
    "length = len(data)\n",
    "print(sum(data)/length)"
   ]
  },
  {
   "cell_type": "code",
   "execution_count": null,
   "id": "89dbfa72",
   "metadata": {},
   "outputs": [],
   "source": []
  }
 ],
 "metadata": {
  "kernelspec": {
   "display_name": "Python 3 (ipykernel)",
   "language": "python",
   "name": "python3"
  },
  "language_info": {
   "codemirror_mode": {
    "name": "ipython",
    "version": 3
   },
   "file_extension": ".py",
   "mimetype": "text/x-python",
   "name": "python",
   "nbconvert_exporter": "python",
   "pygments_lexer": "ipython3",
   "version": "3.8.12"
  },
  "toc": {
   "base_numbering": 1,
   "nav_menu": {},
   "number_sections": true,
   "sideBar": true,
   "skip_h1_title": false,
   "title_cell": "Table of Contents",
   "title_sidebar": "Contents",
   "toc_cell": false,
   "toc_position": {},
   "toc_section_display": true,
   "toc_window_display": true
  }
 },
 "nbformat": 4,
 "nbformat_minor": 5
}
