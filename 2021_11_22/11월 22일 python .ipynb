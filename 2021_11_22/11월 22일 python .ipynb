{
 "cells": [
  {
   "cell_type": "markdown",
   "id": "08ddabbc",
   "metadata": {},
   "source": [
    "# 연습 및 복습"
   ]
  },
  {
   "cell_type": "code",
   "execution_count": 12,
   "id": "d964c3fb",
   "metadata": {
    "ExecuteTime": {
     "end_time": "2021-11-22T01:03:10.286895Z",
     "start_time": "2021-11-22T01:03:10.281902Z"
    }
   },
   "outputs": [
    {
     "data": {
      "text/plain": [
       "{3, 4, 5}"
      ]
     },
     "execution_count": 12,
     "metadata": {},
     "output_type": "execute_result"
    }
   ],
   "source": [
    "setTest = {1,2,3,4,5}\n",
    "setTest2 = {3,4,5,6,7,8}\n",
    "\n",
    "#교집합\n",
    "setTest & setTest2"
   ]
  },
  {
   "cell_type": "code",
   "execution_count": 13,
   "id": "fb9408c5",
   "metadata": {
    "ExecuteTime": {
     "end_time": "2021-11-22T01:03:10.497954Z",
     "start_time": "2021-11-22T01:03:10.488952Z"
    }
   },
   "outputs": [
    {
     "data": {
      "text/plain": [
       "{1, 2, 3, 4, 5, 6, 7, 8}"
      ]
     },
     "execution_count": 13,
     "metadata": {},
     "output_type": "execute_result"
    }
   ],
   "source": [
    "#합집합\n",
    "setTest | setTest2 "
   ]
  },
  {
   "cell_type": "code",
   "execution_count": 14,
   "id": "eed23a68",
   "metadata": {
    "ExecuteTime": {
     "end_time": "2021-11-22T01:03:10.679659Z",
     "start_time": "2021-11-22T01:03:10.665655Z"
    }
   },
   "outputs": [
    {
     "data": {
      "text/plain": [
       "{1, 2}"
      ]
     },
     "execution_count": 14,
     "metadata": {},
     "output_type": "execute_result"
    }
   ],
   "source": [
    "#차집합\n",
    "setTest - setTest2"
   ]
  },
  {
   "cell_type": "code",
   "execution_count": 15,
   "id": "695985cd",
   "metadata": {
    "ExecuteTime": {
     "end_time": "2021-11-22T01:03:10.859674Z",
     "start_time": "2021-11-22T01:03:10.849672Z"
    }
   },
   "outputs": [
    {
     "data": {
      "text/plain": [
       "set"
      ]
     },
     "execution_count": 15,
     "metadata": {},
     "output_type": "execute_result"
    }
   ],
   "source": [
    "type(setTest)"
   ]
  },
  {
   "cell_type": "code",
   "execution_count": 16,
   "id": "f86d385d",
   "metadata": {
    "ExecuteTime": {
     "end_time": "2021-11-22T01:03:11.039684Z",
     "start_time": "2021-11-22T01:03:11.025681Z"
    }
   },
   "outputs": [
    {
     "data": {
      "text/plain": [
       "set"
      ]
     },
     "execution_count": 16,
     "metadata": {},
     "output_type": "execute_result"
    }
   ],
   "source": [
    "setTest3 = set([1,2,3,4,5,6,76])\n",
    "type(setTest3)"
   ]
  },
  {
   "cell_type": "code",
   "execution_count": 17,
   "id": "764dfac2",
   "metadata": {
    "ExecuteTime": {
     "end_time": "2021-11-22T01:03:11.354625Z",
     "start_time": "2021-11-22T01:03:11.345621Z"
    }
   },
   "outputs": [
    {
     "name": "stdout",
     "output_type": "stream",
     "text": [
      "{1, 2, 3, 4, 5, 100}\n"
     ]
    }
   ],
   "source": [
    "setTest.add(100)\n",
    "print(setTest)"
   ]
  },
  {
   "cell_type": "code",
   "execution_count": 18,
   "id": "e199116f",
   "metadata": {
    "ExecuteTime": {
     "end_time": "2021-11-22T01:03:11.913656Z",
     "start_time": "2021-11-22T01:03:11.897812Z"
    }
   },
   "outputs": [
    {
     "name": "stdout",
     "output_type": "stream",
     "text": [
      "{1, 2, 4, 5, 100}\n"
     ]
    }
   ],
   "source": [
    "setTest.remove(3)\n",
    "print(setTest)"
   ]
  },
  {
   "cell_type": "code",
   "execution_count": 19,
   "id": "976ad284",
   "metadata": {
    "ExecuteTime": {
     "end_time": "2021-11-22T01:04:17.602376Z",
     "start_time": "2021-11-22T01:04:17.594374Z"
    }
   },
   "outputs": [
    {
     "name": "stdout",
     "output_type": "stream",
     "text": [
      "{1, 2, 4, 5, 100, 6, 23}\n"
     ]
    }
   ],
   "source": [
    "#값 여러개 추가\n",
    "setTest.update([5,23,4,6,2])\n",
    "print(setTest)"
   ]
  },
  {
   "cell_type": "markdown",
   "id": "55881223",
   "metadata": {},
   "source": [
    "# tkinter "
   ]
  },
  {
   "cell_type": "markdown",
   "id": "b1b710dc",
   "metadata": {},
   "source": [
    "tkinter 는 파이썬에서 GUI를 개발할 때 쓰는 모듈"
   ]
  },
  {
   "cell_type": "markdown",
   "id": "4824b219",
   "metadata": {},
   "source": [
    "## 버튼이 있는 윈도우 생성"
   ]
  },
  {
   "cell_type": "code",
   "execution_count": 22,
   "id": "69bcea49",
   "metadata": {
    "ExecuteTime": {
     "end_time": "2021-11-22T01:14:30.221844Z",
     "start_time": "2021-11-22T01:14:28.460674Z"
    }
   },
   "outputs": [],
   "source": [
    "from tkinter import*\n",
    "\n",
    "window = Tk()\n",
    "button = Button(window, text=\"클릭하세요!\")\n",
    "button.pack()\n",
    "\n",
    "window.mainloop()"
   ]
  },
  {
   "cell_type": "markdown",
   "id": "14a9724a",
   "metadata": {},
   "source": [
    "## 엔트리와 레이블 위젯도 사용해보자"
   ]
  },
  {
   "cell_type": "code",
   "execution_count": 24,
   "id": "cebf19ef",
   "metadata": {
    "ExecuteTime": {
     "end_time": "2021-11-22T01:19:41.131040Z",
     "start_time": "2021-11-22T01:19:23.946291Z"
    }
   },
   "outputs": [],
   "source": [
    "from tkinter import*\n",
    "window = Tk()\n",
    "\n",
    "#pack() : 윈도우 박스에 묶는다는 의미\n",
    "\n",
    "label1 = Label(window, text=\"화씨\")\n",
    "label2 = Label(window, text=\"섭씨\")\n",
    "label1.pack()\n",
    "label2.pack()\n",
    "\n",
    "\n",
    "e1 = Entry(window)\n",
    "e2 = Entry(window)\n",
    "e1.pack()\n",
    "e2.pack()\n",
    "\n",
    "b1 = Button(window,text=\"화씨 -> 섭씨\")\n",
    "b2 = Button(window,text=\"섭씨 -> 화씨\")\n",
    "b1.pack()\n",
    "b2.pack()\n",
    "\n",
    "window.mainloop()\n"
   ]
  },
  {
   "cell_type": "markdown",
   "id": "9baf17c7",
   "metadata": {},
   "source": [
    "## 배치관리자\n",
    "- 압축 : pack\n",
    "- 격자 : grid\n",
    "- 절대 : place"
   ]
  },
  {
   "cell_type": "code",
   "execution_count": 32,
   "id": "7d928e56",
   "metadata": {
    "ExecuteTime": {
     "end_time": "2021-11-22T01:31:15.324277Z",
     "start_time": "2021-11-22T01:31:12.990549Z"
    }
   },
   "outputs": [],
   "source": [
    "from tkinter import*\n",
    "window = Tk()\n",
    "\n",
    "label1 = Label(window, text=\"화씨\")\n",
    "label2 = Label(window, text=\"섭씨\")\n",
    "label1.grid(row=0, column=0)\n",
    "label2.grid(row=1, column=0)\n",
    "\n",
    "e1 = Entry(window)\n",
    "e2 = Entry(window)\n",
    "e1.grid(row = 0, column=1)\n",
    "e2.grid(row = 1, column =1)\n",
    "\n",
    "b1 = Button(window, text=\"화씨->섭씨\")\n",
    "b2 = Button(window, text=\"섭씨->화씨\")\n",
    "b1.grid(row=2,column =0)\n",
    "b2.grid(row = 2, column=1)\n",
    "\n",
    "window.mainloop()"
   ]
  },
  {
   "cell_type": "markdown",
   "id": "3341b116",
   "metadata": {},
   "source": [
    "## 버튼 이벤트 처리"
   ]
  },
  {
   "cell_type": "code",
   "execution_count": 35,
   "id": "68c557cf",
   "metadata": {
    "ExecuteTime": {
     "end_time": "2021-11-22T01:32:54.052555Z",
     "start_time": "2021-11-22T01:32:48.620014Z"
    }
   },
   "outputs": [
    {
     "name": "stdout",
     "output_type": "stream",
     "text": [
      "안녕하세요?\n"
     ]
    }
   ],
   "source": [
    "from tkinter import*\n",
    "\n",
    "def process():\n",
    "    print(\"안녕하세요?\")\n",
    "    \n",
    "\n",
    "window = Tk()\n",
    "button = Button(window, text=\"Event\", command = process)\n",
    "button.pack()\n",
    "\n",
    "window.mainloop()"
   ]
  },
  {
   "cell_type": "code",
   "execution_count": 41,
   "id": "12afabe4",
   "metadata": {
    "ExecuteTime": {
     "end_time": "2021-11-22T01:40:37.593551Z",
     "start_time": "2021-11-22T01:39:22.496764Z"
    }
   },
   "outputs": [],
   "source": [
    "from tkinter import*\n",
    "\n",
    "def process():\n",
    "    temperature = float(e1.get()) # 입력창에서 값 가져와서 float으로 형변환\n",
    "    mytemp = (temperature-32)*5/9 # 화씨에서 섭씨 바꾸는 계산\n",
    "    e2.insert(0,str(mytemp)) #insert(index, “문자열”)\t문자열 삽입\t해당 index 위치에 문자열을 삽입\n",
    "\n",
    "\n",
    "\n",
    "\n",
    "window = Tk()\n",
    "\n",
    "label1 = Label(window, text=\"화씨\")\n",
    "label2 = Label(window, text=\"섭씨\")\n",
    "label1.grid(row=0, column=0)\n",
    "label2.grid(row=1, column=0)\n",
    "\n",
    "e1 = Entry(window)\n",
    "e2 = Entry(window)\n",
    "e1.grid(row = 0, column=1)\n",
    "e2.grid(row = 1, column =1)\n",
    "\n",
    "b1 = Button(window, text=\"화씨->섭씨\",command = process)\n",
    "b2 = Button(window, text=\"섭씨->화씨\")\n",
    "b1.grid(row=2,column =0)\n",
    "b2.grid(row = 2, column=1)\n",
    "\n",
    "window.mainloop()"
   ]
  },
  {
   "cell_type": "markdown",
   "id": "37aa6dfa",
   "metadata": {},
   "source": [
    "## Lable Font , Entry Color"
   ]
  },
  {
   "cell_type": "code",
   "execution_count": 42,
   "id": "bca8761b",
   "metadata": {
    "ExecuteTime": {
     "end_time": "2021-11-22T01:46:48.040742Z",
     "start_time": "2021-11-22T01:42:57.987022Z"
    }
   },
   "outputs": [],
   "source": [
    "from tkinter import*\n",
    "\n",
    "def process():\n",
    "    temperature = float(e1.get()) # 입력창에서 값 가져와서 float으로 형변환\n",
    "    mytemp = (temperature-32)*5/9 # 화씨에서 섭씨 바꾸는 계산\n",
    "    e2.insert(0,str(mytemp)) #insert(index, “문자열”)\t문자열 삽입\t해당 index 위치에 문자열을 삽입\n",
    "\n",
    "\n",
    "\n",
    "\n",
    "window = Tk()\n",
    "\n",
    "label1 = Label(window, text=\"화씨\", font = 'helvetica 16 italic')\n",
    "label2 = Label(window, text=\"섭씨\", font = 'helvetica 16 italic')\n",
    "label1.grid(row=0, column=0)\n",
    "label2.grid(row=1, column=0)\n",
    "\n",
    "e1 = Entry(window, bg = \"yellow\", fg = \"white\")\n",
    "e2 = Entry(window, bg = \"yellow\", fg = \"white\")\n",
    "e1.grid(row = 0, column=1)\n",
    "e2.grid(row = 1, column =1)\n",
    "\n",
    "b1 = Button(window, text=\"화씨->섭씨\",command = process)\n",
    "b2 = Button(window, text=\"섭씨->화씨\")\n",
    "b1.grid(row=2,column =0)\n",
    "b2.grid(row = 2, column=1)\n",
    "\n",
    "window.mainloop()"
   ]
  },
  {
   "cell_type": "markdown",
   "id": "6658362b",
   "metadata": {},
   "source": [
    "## 절대 위치 배치 관리자 - place "
   ]
  },
  {
   "cell_type": "code",
   "execution_count": 47,
   "id": "87681e28",
   "metadata": {
    "ExecuteTime": {
     "end_time": "2021-11-22T01:47:38.078443Z",
     "start_time": "2021-11-22T01:47:34.104706Z"
    }
   },
   "outputs": [],
   "source": [
    "from tkinter import*\n",
    "\n",
    "window = Tk()\n",
    "w = Label(window, text=\"박스 #1\", bg = \"red\", fg ='white' )\n",
    "w.place(x=0, y=0)\n",
    "w = Label(window, text=\"박스 #1\", bg = \"green\", fg ='black' )\n",
    "w.place(x=20, y=20)\n",
    "w = Label(window, text=\"박스 #1\", bg = \"blue\", fg ='white' )\n",
    "w.place(x=40, y=40)\n",
    "\n",
    "window.mainloop()"
   ]
  },
  {
   "cell_type": "markdown",
   "id": "d0f2b066",
   "metadata": {},
   "source": [
    "## 이미지 표시 프로그램"
   ]
  },
  {
   "cell_type": "code",
   "execution_count": 84,
   "id": "96febd30",
   "metadata": {
    "ExecuteTime": {
     "end_time": "2021-11-22T02:54:48.377764Z",
     "start_time": "2021-11-22T02:48:46.786659Z"
    }
   },
   "outputs": [
    {
     "name": "stdout",
     "output_type": "stream",
     "text": [
      "masala-papad.png\n"
     ]
    }
   ],
   "source": [
    "from tkinter import*\n",
    "\n",
    "def change_img():\n",
    "    path = inputBox.get()\n",
    "    print(path)\n",
    "    img = PhotoImage(file = path)\n",
    "    imageLabel.configure(image = img)\n",
    "    imageLabel.image = img\n",
    "    \n",
    "window = Tk()\n",
    "#./piaaz.png\n",
    "#'C:\\Users\\admin\\Documents\\test\\2021_11_22\\pizza.png'\n",
    "photo = PhotoImage(file = r'C:\\Users\\admin\\Documents\\test\\2021_11_22\\pizza.png', master=window)\n",
    "imageLabel = Label(window, image = photo)\n",
    "imageLabel.pack()\n",
    "\n",
    "inputBox = Entry(window)\n",
    "inputBox.pack()\n",
    "\n",
    "button = Button(window, text='Submit', command = change_img)\n",
    "button.pack()\n",
    "\n",
    "window.mainloop()"
   ]
  },
  {
   "cell_type": "code",
   "execution_count": 55,
   "id": "cca8c145",
   "metadata": {
    "ExecuteTime": {
     "end_time": "2021-11-22T02:01:11.077028Z",
     "start_time": "2021-11-22T02:01:11.068033Z"
    }
   },
   "outputs": [
    {
     "name": "stdout",
     "output_type": "stream",
     "text": [
      "C:\\Users\\admin\\Documents\\test\\2021_11_22\n"
     ]
    }
   ],
   "source": [
    "import os\n",
    "a = os.getcwd()\n",
    "print(a)"
   ]
  },
  {
   "cell_type": "markdown",
   "id": "de191510",
   "metadata": {},
   "source": [
    "## MyPaint프로그램#2"
   ]
  },
  {
   "cell_type": "code",
   "execution_count": 83,
   "id": "a9722f1d",
   "metadata": {
    "ExecuteTime": {
     "end_time": "2021-11-22T02:38:53.286761Z",
     "start_time": "2021-11-22T02:38:48.862491Z"
    }
   },
   "outputs": [],
   "source": [
    "from tkinter import*\n",
    "\n",
    "def paint(event):\n",
    "    x1,y1 = (event.x-1),(event.y+1)\n",
    "    x2,y2 = (event.x-1),(event.y+1)\n",
    "    canvas.create_oval(x1,y1,x2,y2, fill = \"black\")\n",
    "\n",
    "window = Tk()\n",
    "\n",
    "canvas = Canvas(window, width = 300, height=200)\n",
    "canvas.pack()\n",
    "canvas.bind(\"<B1-Motion>\",paint)\n",
    "\n",
    "window.mainloop()"
   ]
  },
  {
   "cell_type": "markdown",
   "id": "7d2cf05c",
   "metadata": {},
   "source": [
    "## MyPaint프로그램#3"
   ]
  },
  {
   "cell_type": "code",
   "execution_count": 86,
   "id": "fa5fa715",
   "metadata": {
    "ExecuteTime": {
     "end_time": "2021-11-22T02:55:35.294210Z",
     "start_time": "2021-11-22T02:55:27.800257Z"
    }
   },
   "outputs": [],
   "source": [
    "from tkinter import*\n",
    "mycolor = \"blue\"\n",
    "\n",
    "def paint(event):\n",
    "    x1, y1 = (event.x-1), (event.y+1)\n",
    "    x2, y2 = (event.x-1), (event.y+1)\n",
    "    canvas.create_oval(x1,y1,x2,y2, fill =mycolor)\n",
    "    \n",
    "def change_color():\n",
    "    global mycolor\n",
    "    mycolor=\"red\"\n",
    "    \n",
    "window=Tk()\n",
    "canvas = Canvas(window)\n",
    "canvas.pack()\n",
    "canvas.bind(\"<B1-Motion>\",paint)\n",
    "button = Button(window, text=\"빨강색\", command=change_color)\n",
    "button.pack()\n",
    "window.mainloop()"
   ]
  },
  {
   "cell_type": "markdown",
   "id": "c41b5c9a",
   "metadata": {},
   "source": [
    "## 계산기"
   ]
  },
  {
   "cell_type": "code",
   "execution_count": 91,
   "id": "e07ff01b",
   "metadata": {
    "ExecuteTime": {
     "end_time": "2021-11-22T03:15:23.844114Z",
     "start_time": "2021-11-22T03:07:52.667894Z"
    }
   },
   "outputs": [],
   "source": [
    "from tkinter import*\n",
    "\n",
    "window = Tk()\n",
    "input = Entry(window, width=33,bg=\"yellow\")\n",
    "input.grid(row =0, column=0, columnspan=5)\n",
    "\n",
    "button_list = ['7','8','9','/','C',\n",
    "               '4','5','6','*','',\n",
    "              '1','2','3','-','',\n",
    "              '0','.','=','+','']\n",
    "\n",
    "row_index = 1\n",
    "col_index = 0\n",
    "\n",
    "for buttonText in button_list:\n",
    "    button = Button(window, text=buttonText, width = 5).grid(row = row_index, column = col_index)\n",
    "    col_index +=1\n",
    "    \n",
    "    if col_index >4 :\n",
    "        row_index += 1\n",
    "        col_index = 0\n",
    "    \n",
    "window.mainloop()\n"
   ]
  },
  {
   "cell_type": "markdown",
   "id": "b5f38678",
   "metadata": {},
   "source": [
    "# Pillow\n"
   ]
  },
  {
   "cell_type": "markdown",
   "id": "9c5fd4cb",
   "metadata": {},
   "source": [
    "## 이미지 회전하기 "
   ]
  },
  {
   "cell_type": "code",
   "execution_count": 106,
   "id": "b76317ad",
   "metadata": {
    "ExecuteTime": {
     "end_time": "2021-11-22T05:38:56.997177Z",
     "start_time": "2021-11-22T05:38:35.080018Z"
    }
   },
   "outputs": [],
   "source": [
    "from PIL import Image, ImageTk\n",
    "import tkinter as tk\n",
    "\n",
    "window = Tk()\n",
    "canvas = Canvas(window, width = 500, height = 500)\n",
    "canvas.pack()\n",
    "\n",
    "#윈도우를 생성하고 윈도우 안에 캔버르슬 ㄹ생성 \n",
    "img = Image.open(\"./pizza.png\")\n",
    "\n",
    "# #이미지 회전하기\n",
    "# img2 = img.transpose(Image.ROTATE_90) # 90도 회전\n",
    "\n",
    "#이미지 회전하기2\n",
    "img.rotate(45) #인수로 도(degree)를 받는다\n",
    "\n",
    "#tk형식으로 영상을 변환한다.\n",
    "#tk_img = ImageTk.PhotoImage(img2,  master=window)\n",
    "tk_img = ImageTk.PhotoImage(img,  master=window)\n",
    "\n",
    "#tkinter의 캔버스에 영상을 표시한다.\n",
    "canvas.create_image(250,250,image=tk_img)\n",
    "\n",
    "\n",
    "window.mainloop()"
   ]
  },
  {
   "cell_type": "code",
   "execution_count": 109,
   "id": "bc7ffd52",
   "metadata": {
    "ExecuteTime": {
     "end_time": "2021-11-22T05:43:48.080962Z",
     "start_time": "2021-11-22T05:43:46.665344Z"
    }
   },
   "outputs": [],
   "source": [
    "from PIL import Image, ImageTk\n",
    "import tkinter as tk\n",
    "\n",
    "#윈도우를 생성하고 윈도우 안에 캔버스를 생성 \n",
    "window = Tk()\n",
    "canvas = Canvas(window, width = 500, height = 500)\n",
    "canvas.pack()\n",
    "\n",
    "\n",
    "img = Image.open(\"./pizza.png\")\n",
    "\n",
    "# #이미지 회전하기\n",
    "# img2 = img.transpose(Image.ROTATE_90) # 90도 회전\n",
    "\n",
    "#이미지 회전하기2\n",
    "img.rotate(45) #인수로 도(degree)를 받는다\n",
    "\n",
    "#tk형식으로 영상을 변환한다.\n",
    "#tk_img = ImageTk.PhotoImage(img2,  master=window)\n",
    "tk_img = ImageTk.PhotoImage(img,  master=window)\n",
    "\n",
    "#tkinter의 캔버스에 영상을 표시한다.\n",
    "canvas.create_image(250,250,image=tk_img)\n",
    "\n",
    "\n",
    "window.mainloop()"
   ]
  },
  {
   "cell_type": "markdown",
   "id": "b73474fa",
   "metadata": {},
   "source": [
    "## 이미지 흐리게 "
   ]
  },
  {
   "cell_type": "code",
   "execution_count": 111,
   "id": "34087b2b",
   "metadata": {
    "ExecuteTime": {
     "end_time": "2021-11-22T05:54:45.160080Z",
     "start_time": "2021-11-22T05:54:38.780468Z"
    }
   },
   "outputs": [],
   "source": [
    "from PIL import Image, ImageTk, ImageFilter\n",
    "import tkinter as tk\n",
    "\n",
    "window = Tk()\n",
    "canvas = Canvas(window, width=500, height=500)\n",
    "canvas.pack()\n",
    "\n",
    "#영상 파일을 연다. \n",
    "img = Image.open(\"./pizza.png\")\n",
    "\n",
    "#영상을 흐리게 한다.\n",
    "out = img.filter(ImageFilter.BLUR)\n",
    "\n",
    "#영상을 tkinter 형식으로 변환\n",
    "tk_img = ImageTk.PhotoImage(out)\n",
    "\n",
    "canvas.create_image(250,250,image = tk_img)\n",
    "\n",
    "window.mainloop()\n"
   ]
  },
  {
   "cell_type": "markdown",
   "id": "3c751355",
   "metadata": {},
   "source": [
    "## 메뉴만들기 "
   ]
  },
  {
   "cell_type": "code",
   "execution_count": 117,
   "id": "c3933f95",
   "metadata": {
    "ExecuteTime": {
     "end_time": "2021-11-22T06:17:03.831753Z",
     "start_time": "2021-11-22T06:16:56.150648Z"
    }
   },
   "outputs": [],
   "source": [
    "import tkinter as kt\n",
    "\n",
    "def open():\n",
    "    pass\n",
    "\n",
    "def quit():\n",
    "    window.quit()\n",
    "    \n",
    "\n",
    "    \n",
    "window = Tk()\n",
    "menubar = tk.Menu(window)\n",
    "filemenu = tk.Menu(menubar)\n",
    "\n",
    "filemenu.add_command(label=\"열기\", command = open)\n",
    "filemenu.add_command(label=\"종료\", command = quit)\n",
    "\n",
    "menubar.add_cascade(label=\"파일\", menu=filemenu)\n",
    "\n",
    "window.config(menu=menubar)\n",
    "\n",
    "window.mainloop()"
   ]
  },
  {
   "cell_type": "markdown",
   "id": "5afd4dd7",
   "metadata": {},
   "source": [
    "## 영상 처리 기능을 메뉴로 연결 "
   ]
  },
  {
   "cell_type": "code",
   "execution_count": 2,
   "id": "71ced42e",
   "metadata": {
    "ExecuteTime": {
     "end_time": "2021-11-22T06:47:00.154891Z",
     "start_time": "2021-11-22T06:46:48.186572Z"
    }
   },
   "outputs": [
    {
     "name": "stdout",
     "output_type": "stream",
     "text": [
      "D:/Users/admin/Pictures/거위/hamburger.png\n"
     ]
    }
   ],
   "source": [
    "from PIL import Image, ImageTk, ImageFilter\n",
    "import tkinter as tk\n",
    "from tkinter import filedialog as fd\n",
    "\n",
    "im = None\n",
    "tk_img = None\n",
    "\n",
    "#파일 메뉴에서 '열기' 를 선택하였을 때 호출되는 함수 \n",
    "def open():\n",
    "    global im, tk_img\n",
    "    fname = fd.askopenfilename() #파일창 불러오기 \n",
    "    print(fname)\n",
    "    im = Image.open(fname)\n",
    "    \n",
    "    #tk_image로 만들어서 canvas에 넣는다.\n",
    "    tk_img = ImageTk.PhotoImage(im)\n",
    "    canvas.create_image(250,250,image=tk_img)\n",
    "    window.update()\n",
    "    \n",
    "\n",
    "    \n",
    "\n",
    "#파일메뉴에서 '종료'를 선택하였을때 호출되는 함수 \n",
    "def quit():\n",
    "    window.quit()\n",
    "    \n",
    "#이미지 회전\n",
    "def image_rotate():\n",
    "    global im, tk_img\n",
    "    out = im.rotate(45) # 45도로 회전\n",
    "    \n",
    "    tk_img = ImageTk.PhotoImage(out)    \n",
    "    canvas.create_image(250,250,image=tk_img)\n",
    "    window.update()\n",
    "    \n",
    "#이미지 블러 처리\n",
    "def image_blur():\n",
    "    global im, tk_img\n",
    "    out = im.filter(ImageFilter.BLUR)\n",
    "    \n",
    "    tk_img = ImageTk.PhotoImage(out)\n",
    "    canvas.create_image(250, 250, image=tk_img)\n",
    "    window.update()\n",
    "    \n",
    "\n",
    "window = tk.Tk()\n",
    "canvas = tk.Canvas(window, width = 500, height =500)\n",
    "canvas.pack()\n",
    "\n",
    "\n",
    "menubar = tk.Menu(window)\n",
    "filemenu = tk.Menu(menubar)\n",
    "ipmenu = tk.Menu(menubar)\n",
    "\n",
    "filemenu.add_command(label = \"열기\", command = open)\n",
    "filemenu.add_command(label = \"종료\", command = quit)\n",
    "ipmenu.add_command(label = \"영상회전\", command = image_rotate)\n",
    "ipmenu.add_command(label = \"영상흐리게\", command = image_blur)\n",
    "menubar.add_cascade(label = \"파일\", menu = filemenu)\n",
    "menubar.add_cascade(label = \"영상처리\", menu = ipmenu)\n",
    "\n",
    "window.config(menu = menubar)\n",
    "window.mainloop()\n"
   ]
  },
  {
   "cell_type": "code",
   "execution_count": 8,
   "id": "b343e2eb",
   "metadata": {
    "ExecuteTime": {
     "end_time": "2021-11-22T06:54:09.914982Z",
     "start_time": "2021-11-22T06:54:08.156273Z"
    }
   },
   "outputs": [],
   "source": [
    "import tkinter as tk\n",
    "from PIL import Image, ImageTk\n",
    "\n",
    "\n",
    "window = tk.Tk()\n",
    "canvas = tk.Canvas(window, width = 500, height =500)\n",
    "canvas.pack()\n",
    "\n",
    "img = Image.open(\"./pizza.png\")\n",
    "\n",
    "#자꾸 그림 세는 에러나는데 원천 봉쇄는 master = window\n",
    "tk_img  = ImageTk.PhotoImage(img, master = window)\n",
    "canvas.create_image(250,250,image = tk_img)\n",
    "window.mainloop()"
   ]
  },
  {
   "cell_type": "markdown",
   "id": "76e31cb1",
   "metadata": {},
   "source": [
    "# 객체"
   ]
  },
  {
   "cell_type": "code",
   "execution_count": 11,
   "id": "84c170f6",
   "metadata": {
    "ExecuteTime": {
     "end_time": "2021-11-22T07:12:58.239388Z",
     "start_time": "2021-11-22T07:12:58.232387Z"
    }
   },
   "outputs": [
    {
     "name": "stdout",
     "output_type": "stream",
     "text": [
      "자동자의 객체를 생성하였습니다.\n",
      "자동차의 속도는 0\n",
      "자동차의 색상은 blue\n",
      "자동자의 모델은 E-Class\n",
      "자동차를 주행합니다\n",
      "자동차의 속도는 60\n"
     ]
    }
   ],
   "source": [
    "# 왜 헷갈리나 했더니 여기는 클래스 내부에서 print\n",
    "class Car:\n",
    "    def drive(self):\n",
    "        self.speed = 60\n",
    "                \n",
    "myCar = Car()\n",
    "myCar.speed = 0\n",
    "myCar.model = \"E-Class\"\n",
    "myCar.color = \"blue\"\n",
    "myCar.year = \"2017\"\n",
    "\n",
    "print(\"자동자의 객체를 생성하였습니다.\")\n",
    "print(\"자동차의 속도는\", myCar.speed)\n",
    "print(\"자동차의 색상은\", myCar.color)\n",
    "print(\"자동자의 모델은\", myCar.model)\n",
    "print(\"자동차를 주행합니다\")\n",
    "\n",
    "myCar.drive()\n",
    "print(\"자동차의 속도는\",myCar.speed)\n",
    "\n"
   ]
  },
  {
   "cell_type": "markdown",
   "id": "e4c90e96",
   "metadata": {},
   "source": [
    "## 하나의 클래스로 여러객체 만들기"
   ]
  },
  {
   "cell_type": "code",
   "execution_count": 12,
   "id": "e3e9919e",
   "metadata": {
    "ExecuteTime": {
     "end_time": "2021-11-22T07:24:31.343092Z",
     "start_time": "2021-11-22T07:24:31.339092Z"
    }
   },
   "outputs": [],
   "source": [
    "class Car : \n",
    "    def __init__(self, speed, color, model):\n",
    "        self.speed = speed\n",
    "        self.color = color\n",
    "        self.model = model\n",
    "    def drive(self):\n",
    "        self.speed = 60\n",
    "        \n",
    "        \n",
    "        \n",
    "dadCar = Car(0,\"silver\",\"A6\")\n",
    "momCar = Car(0,\"white\",\"520d\")\n",
    "myCar = Car(0,\"blue\",\"E-class\")\n"
   ]
  },
  {
   "cell_type": "code",
   "execution_count": 2,
   "id": "11bbc583",
   "metadata": {
    "ExecuteTime": {
     "end_time": "2021-11-22T07:29:19.100496Z",
     "start_time": "2021-11-22T07:28:55.814201Z"
    }
   },
   "outputs": [
    {
     "ename": "Terminator",
     "evalue": "",
     "output_type": "error",
     "traceback": [
      "\u001b[1;31m---------------------------------------------------------------------------\u001b[0m",
      "\u001b[1;31mTerminator\u001b[0m                                Traceback (most recent call last)",
      "\u001b[1;32m<ipython-input-2-0729492d4b02>\u001b[0m in \u001b[0;36m<module>\u001b[1;34m\u001b[0m\n\u001b[0;32m     14\u001b[0m \u001b[1;32mwhile\u001b[0m \u001b[1;32mTrue\u001b[0m\u001b[1;33m:\u001b[0m\u001b[1;33m\u001b[0m\u001b[1;33m\u001b[0m\u001b[0m\n\u001b[0;32m     15\u001b[0m     \u001b[0mt1\u001b[0m\u001b[1;33m.\u001b[0m\u001b[0mcircle\u001b[0m\u001b[1;33m(\u001b[0m\u001b[1;36m100\u001b[0m\u001b[1;33m)\u001b[0m\u001b[1;33m\u001b[0m\u001b[1;33m\u001b[0m\u001b[0m\n\u001b[1;32m---> 16\u001b[1;33m     \u001b[0mt2\u001b[0m\u001b[1;33m.\u001b[0m\u001b[0mcircle\u001b[0m\u001b[1;33m(\u001b[0m\u001b[1;36m150\u001b[0m\u001b[1;33m)\u001b[0m\u001b[1;33m\u001b[0m\u001b[1;33m\u001b[0m\u001b[0m\n\u001b[0m\u001b[0;32m     17\u001b[0m     \u001b[0mt3\u001b[0m\u001b[1;33m.\u001b[0m\u001b[0mcircle\u001b[0m\u001b[1;33m(\u001b[0m\u001b[1;36m200\u001b[0m\u001b[1;33m)\u001b[0m\u001b[1;33m\u001b[0m\u001b[1;33m\u001b[0m\u001b[0m\n\u001b[0;32m     18\u001b[0m \u001b[1;33m\u001b[0m\u001b[0m\n",
      "\u001b[1;32m~\\anaconda3\\lib\\turtle.py\u001b[0m in \u001b[0;36mcircle\u001b[1;34m(self, radius, extent, steps)\u001b[0m\n\u001b[0;32m   1991\u001b[0m             \u001b[0mself\u001b[0m\u001b[1;33m.\u001b[0m\u001b[0mspeed\u001b[0m\u001b[1;33m(\u001b[0m\u001b[0mspeed\u001b[0m\u001b[1;33m)\u001b[0m\u001b[1;33m\u001b[0m\u001b[1;33m\u001b[0m\u001b[0m\n\u001b[0;32m   1992\u001b[0m             \u001b[0mself\u001b[0m\u001b[1;33m.\u001b[0m\u001b[0m_go\u001b[0m\u001b[1;33m(\u001b[0m\u001b[0ml\u001b[0m\u001b[1;33m)\u001b[0m\u001b[1;33m\u001b[0m\u001b[1;33m\u001b[0m\u001b[0m\n\u001b[1;32m-> 1993\u001b[1;33m             \u001b[0mself\u001b[0m\u001b[1;33m.\u001b[0m\u001b[0mspeed\u001b[0m\u001b[1;33m(\u001b[0m\u001b[1;36m0\u001b[0m\u001b[1;33m)\u001b[0m\u001b[1;33m\u001b[0m\u001b[1;33m\u001b[0m\u001b[0m\n\u001b[0m\u001b[0;32m   1994\u001b[0m             \u001b[0mself\u001b[0m\u001b[1;33m.\u001b[0m\u001b[0m_rotate\u001b[0m\u001b[1;33m(\u001b[0m\u001b[0mw\u001b[0m\u001b[1;33m)\u001b[0m\u001b[1;33m\u001b[0m\u001b[1;33m\u001b[0m\u001b[0m\n\u001b[0;32m   1995\u001b[0m         \u001b[0mself\u001b[0m\u001b[1;33m.\u001b[0m\u001b[0m_rotate\u001b[0m\u001b[1;33m(\u001b[0m\u001b[1;33m-\u001b[0m\u001b[0mw2\u001b[0m\u001b[1;33m)\u001b[0m\u001b[1;33m\u001b[0m\u001b[1;33m\u001b[0m\u001b[0m\n",
      "\u001b[1;32m~\\anaconda3\\lib\\turtle.py\u001b[0m in \u001b[0;36mspeed\u001b[1;34m(self, speed)\u001b[0m\n\u001b[0;32m   2173\u001b[0m         \u001b[1;32melse\u001b[0m\u001b[1;33m:\u001b[0m\u001b[1;33m\u001b[0m\u001b[1;33m\u001b[0m\u001b[0m\n\u001b[0;32m   2174\u001b[0m             \u001b[0mspeed\u001b[0m \u001b[1;33m=\u001b[0m \u001b[1;36m0\u001b[0m\u001b[1;33m\u001b[0m\u001b[1;33m\u001b[0m\u001b[0m\n\u001b[1;32m-> 2175\u001b[1;33m         \u001b[0mself\u001b[0m\u001b[1;33m.\u001b[0m\u001b[0mpen\u001b[0m\u001b[1;33m(\u001b[0m\u001b[0mspeed\u001b[0m\u001b[1;33m=\u001b[0m\u001b[0mspeed\u001b[0m\u001b[1;33m)\u001b[0m\u001b[1;33m\u001b[0m\u001b[1;33m\u001b[0m\u001b[0m\n\u001b[0m\u001b[0;32m   2176\u001b[0m \u001b[1;33m\u001b[0m\u001b[0m\n\u001b[0;32m   2177\u001b[0m     \u001b[1;32mdef\u001b[0m \u001b[0mcolor\u001b[0m\u001b[1;33m(\u001b[0m\u001b[0mself\u001b[0m\u001b[1;33m,\u001b[0m \u001b[1;33m*\u001b[0m\u001b[0margs\u001b[0m\u001b[1;33m)\u001b[0m\u001b[1;33m:\u001b[0m\u001b[1;33m\u001b[0m\u001b[1;33m\u001b[0m\u001b[0m\n",
      "\u001b[1;32m~\\anaconda3\\lib\\turtle.py\u001b[0m in \u001b[0;36mpen\u001b[1;34m(self, pen, **pendict)\u001b[0m\n\u001b[0;32m   2458\u001b[0m             self._shapetrafo = ( scx*ca, scy*(shf*ca + sa),\n\u001b[0;32m   2459\u001b[0m                                 -scx*sa, scy*(ca - shf*sa))\n\u001b[1;32m-> 2460\u001b[1;33m         \u001b[0mself\u001b[0m\u001b[1;33m.\u001b[0m\u001b[0m_update\u001b[0m\u001b[1;33m(\u001b[0m\u001b[1;33m)\u001b[0m\u001b[1;33m\u001b[0m\u001b[1;33m\u001b[0m\u001b[0m\n\u001b[0m\u001b[0;32m   2461\u001b[0m \u001b[1;33m\u001b[0m\u001b[0m\n\u001b[0;32m   2462\u001b[0m \u001b[1;31m## three dummy methods to be implemented by child class:\u001b[0m\u001b[1;33m\u001b[0m\u001b[1;33m\u001b[0m\u001b[1;33m\u001b[0m\u001b[0m\n",
      "\u001b[1;32m~\\anaconda3\\lib\\turtle.py\u001b[0m in \u001b[0;36m_update\u001b[1;34m(self)\u001b[0m\n\u001b[0;32m   2659\u001b[0m             \u001b[1;32mreturn\u001b[0m\u001b[1;33m\u001b[0m\u001b[1;33m\u001b[0m\u001b[0m\n\u001b[0;32m   2660\u001b[0m         \u001b[1;32melif\u001b[0m \u001b[0mscreen\u001b[0m\u001b[1;33m.\u001b[0m\u001b[0m_tracing\u001b[0m \u001b[1;33m==\u001b[0m \u001b[1;36m1\u001b[0m\u001b[1;33m:\u001b[0m\u001b[1;33m\u001b[0m\u001b[1;33m\u001b[0m\u001b[0m\n\u001b[1;32m-> 2661\u001b[1;33m             \u001b[0mself\u001b[0m\u001b[1;33m.\u001b[0m\u001b[0m_update_data\u001b[0m\u001b[1;33m(\u001b[0m\u001b[1;33m)\u001b[0m\u001b[1;33m\u001b[0m\u001b[1;33m\u001b[0m\u001b[0m\n\u001b[0m\u001b[0;32m   2662\u001b[0m             \u001b[0mself\u001b[0m\u001b[1;33m.\u001b[0m\u001b[0m_drawturtle\u001b[0m\u001b[1;33m(\u001b[0m\u001b[1;33m)\u001b[0m\u001b[1;33m\u001b[0m\u001b[1;33m\u001b[0m\u001b[0m\n\u001b[0;32m   2663\u001b[0m             \u001b[0mscreen\u001b[0m\u001b[1;33m.\u001b[0m\u001b[0m_update\u001b[0m\u001b[1;33m(\u001b[0m\u001b[1;33m)\u001b[0m                  \u001b[1;31m# TurtleScreenBase\u001b[0m\u001b[1;33m\u001b[0m\u001b[1;33m\u001b[0m\u001b[0m\n",
      "\u001b[1;32m~\\anaconda3\\lib\\turtle.py\u001b[0m in \u001b[0;36m_update_data\u001b[1;34m(self)\u001b[0m\n\u001b[0;32m   2645\u001b[0m \u001b[1;33m\u001b[0m\u001b[0m\n\u001b[0;32m   2646\u001b[0m     \u001b[1;32mdef\u001b[0m \u001b[0m_update_data\u001b[0m\u001b[1;33m(\u001b[0m\u001b[0mself\u001b[0m\u001b[1;33m)\u001b[0m\u001b[1;33m:\u001b[0m\u001b[1;33m\u001b[0m\u001b[1;33m\u001b[0m\u001b[0m\n\u001b[1;32m-> 2647\u001b[1;33m         \u001b[0mself\u001b[0m\u001b[1;33m.\u001b[0m\u001b[0mscreen\u001b[0m\u001b[1;33m.\u001b[0m\u001b[0m_incrementudc\u001b[0m\u001b[1;33m(\u001b[0m\u001b[1;33m)\u001b[0m\u001b[1;33m\u001b[0m\u001b[1;33m\u001b[0m\u001b[0m\n\u001b[0m\u001b[0;32m   2648\u001b[0m         \u001b[1;32mif\u001b[0m \u001b[0mself\u001b[0m\u001b[1;33m.\u001b[0m\u001b[0mscreen\u001b[0m\u001b[1;33m.\u001b[0m\u001b[0m_updatecounter\u001b[0m \u001b[1;33m!=\u001b[0m \u001b[1;36m0\u001b[0m\u001b[1;33m:\u001b[0m\u001b[1;33m\u001b[0m\u001b[1;33m\u001b[0m\u001b[0m\n\u001b[0;32m   2649\u001b[0m             \u001b[1;32mreturn\u001b[0m\u001b[1;33m\u001b[0m\u001b[1;33m\u001b[0m\u001b[0m\n",
      "\u001b[1;32m~\\anaconda3\\lib\\turtle.py\u001b[0m in \u001b[0;36m_incrementudc\u001b[1;34m(self)\u001b[0m\n\u001b[0;32m   1291\u001b[0m         \u001b[1;32mif\u001b[0m \u001b[1;32mnot\u001b[0m \u001b[0mTurtleScreen\u001b[0m\u001b[1;33m.\u001b[0m\u001b[0m_RUNNING\u001b[0m\u001b[1;33m:\u001b[0m\u001b[1;33m\u001b[0m\u001b[1;33m\u001b[0m\u001b[0m\n\u001b[0;32m   1292\u001b[0m             \u001b[0mTurtleScreen\u001b[0m\u001b[1;33m.\u001b[0m\u001b[0m_RUNNING\u001b[0m \u001b[1;33m=\u001b[0m \u001b[1;32mTrue\u001b[0m\u001b[1;33m\u001b[0m\u001b[1;33m\u001b[0m\u001b[0m\n\u001b[1;32m-> 1293\u001b[1;33m             \u001b[1;32mraise\u001b[0m \u001b[0mTerminator\u001b[0m\u001b[1;33m\u001b[0m\u001b[1;33m\u001b[0m\u001b[0m\n\u001b[0m\u001b[0;32m   1294\u001b[0m         \u001b[1;32mif\u001b[0m \u001b[0mself\u001b[0m\u001b[1;33m.\u001b[0m\u001b[0m_tracing\u001b[0m \u001b[1;33m>\u001b[0m \u001b[1;36m0\u001b[0m\u001b[1;33m:\u001b[0m\u001b[1;33m\u001b[0m\u001b[1;33m\u001b[0m\u001b[0m\n\u001b[0;32m   1295\u001b[0m             \u001b[0mself\u001b[0m\u001b[1;33m.\u001b[0m\u001b[0m_updatecounter\u001b[0m \u001b[1;33m+=\u001b[0m \u001b[1;36m1\u001b[0m\u001b[1;33m\u001b[0m\u001b[1;33m\u001b[0m\u001b[0m\n",
      "\u001b[1;31mTerminator\u001b[0m: "
     ]
    }
   ],
   "source": [
    "from turtle import*\n",
    "t1 = Turtle()\n",
    "t2 = Turtle()\n",
    "t3 = Turtle()\n",
    "\n",
    "\n",
    "t1.penup()\n",
    "t2.penup()\n",
    "t1.goto(0,100)\n",
    "t2.goto(0,50)\n",
    "t1.pendown()\n",
    "t2.pendown()\n",
    "\n",
    "while True:\n",
    "    t1.circle(100)\n",
    "    t2.circle(150)\n",
    "    t3.circle(200)\n",
    "    \n",
    "    \n",
    "turtle.done()\n"
   ]
  },
  {
   "cell_type": "markdown",
   "id": "1701df2f",
   "metadata": {},
   "source": [
    "## Car클래스 + Turtle클래스 "
   ]
  },
  {
   "cell_type": "code",
   "execution_count": 1,
   "id": "d96b9998",
   "metadata": {
    "ExecuteTime": {
     "end_time": "2021-11-22T08:21:00.884393Z",
     "start_time": "2021-11-22T08:20:56.241423Z"
    }
   },
   "outputs": [
    {
     "ename": "TclError",
     "evalue": "invalid command name \".!canvas\"",
     "output_type": "error",
     "traceback": [
      "\u001b[1;31m---------------------------------------------------------------------------\u001b[0m",
      "\u001b[1;31mTclError\u001b[0m                                  Traceback (most recent call last)",
      "\u001b[1;32m<ipython-input-1-21e63d949426>\u001b[0m in \u001b[0;36m<module>\u001b[1;34m\u001b[0m\n\u001b[0;32m     19\u001b[0m \u001b[0mmyCar\u001b[0m \u001b[1;33m=\u001b[0m \u001b[0mCar\u001b[0m\u001b[1;33m(\u001b[0m\u001b[1;36m200\u001b[0m\u001b[1;33m,\u001b[0m \u001b[1;34m\"red\"\u001b[0m\u001b[1;33m,\u001b[0m \u001b[1;34m\"E-class\"\u001b[0m\u001b[1;33m)\u001b[0m\u001b[1;33m\u001b[0m\u001b[1;33m\u001b[0m\u001b[0m\n\u001b[0;32m     20\u001b[0m \u001b[1;32mfor\u001b[0m \u001b[0mi\u001b[0m \u001b[1;32min\u001b[0m \u001b[0mrange\u001b[0m\u001b[1;33m(\u001b[0m\u001b[1;36m100\u001b[0m\u001b[1;33m)\u001b[0m\u001b[1;33m:\u001b[0m\u001b[1;33m\u001b[0m\u001b[1;33m\u001b[0m\u001b[0m\n\u001b[1;32m---> 21\u001b[1;33m     \u001b[0mmyCar\u001b[0m\u001b[1;33m.\u001b[0m\u001b[0mdrive\u001b[0m\u001b[1;33m(\u001b[0m\u001b[1;33m)\u001b[0m\u001b[1;33m\u001b[0m\u001b[1;33m\u001b[0m\u001b[0m\n\u001b[0m\u001b[0;32m     22\u001b[0m     \u001b[0mmyCar\u001b[0m\u001b[1;33m.\u001b[0m\u001b[0mleft_turn\u001b[0m\u001b[1;33m(\u001b[0m\u001b[1;33m)\u001b[0m\u001b[1;33m\u001b[0m\u001b[1;33m\u001b[0m\u001b[0m\n",
      "\u001b[1;32m<ipython-input-1-21e63d949426>\u001b[0m in \u001b[0;36mdrive\u001b[1;34m(self)\u001b[0m\n\u001b[0;32m      9\u001b[0m \u001b[1;33m\u001b[0m\u001b[0m\n\u001b[0;32m     10\u001b[0m     \u001b[1;32mdef\u001b[0m \u001b[0mdrive\u001b[0m\u001b[1;33m(\u001b[0m\u001b[0mself\u001b[0m\u001b[1;33m)\u001b[0m\u001b[1;33m:\u001b[0m\u001b[1;33m\u001b[0m\u001b[1;33m\u001b[0m\u001b[0m\n\u001b[1;32m---> 11\u001b[1;33m         \u001b[0mself\u001b[0m\u001b[1;33m.\u001b[0m\u001b[0mturtle\u001b[0m\u001b[1;33m.\u001b[0m\u001b[0mforward\u001b[0m\u001b[1;33m(\u001b[0m\u001b[0mself\u001b[0m\u001b[1;33m.\u001b[0m\u001b[0mspeed\u001b[0m\u001b[1;33m)\u001b[0m\u001b[1;33m\u001b[0m\u001b[1;33m\u001b[0m\u001b[0m\n\u001b[0m\u001b[0;32m     12\u001b[0m \u001b[1;33m\u001b[0m\u001b[0m\n\u001b[0;32m     13\u001b[0m     \u001b[1;32mdef\u001b[0m \u001b[0mleft_turn\u001b[0m\u001b[1;33m(\u001b[0m\u001b[0mself\u001b[0m\u001b[1;33m)\u001b[0m\u001b[1;33m:\u001b[0m\u001b[1;33m\u001b[0m\u001b[1;33m\u001b[0m\u001b[0m\n",
      "\u001b[1;32m~\\anaconda3\\lib\\turtle.py\u001b[0m in \u001b[0;36mforward\u001b[1;34m(self, distance)\u001b[0m\n\u001b[0;32m   1636\u001b[0m         \u001b[1;33m(\u001b[0m\u001b[1;33m-\u001b[0m\u001b[1;36m50.00\u001b[0m\u001b[1;33m,\u001b[0m\u001b[1;36m0.00\u001b[0m\u001b[1;33m)\u001b[0m\u001b[1;33m\u001b[0m\u001b[1;33m\u001b[0m\u001b[0m\n\u001b[0;32m   1637\u001b[0m         \"\"\"\n\u001b[1;32m-> 1638\u001b[1;33m         \u001b[0mself\u001b[0m\u001b[1;33m.\u001b[0m\u001b[0m_go\u001b[0m\u001b[1;33m(\u001b[0m\u001b[0mdistance\u001b[0m\u001b[1;33m)\u001b[0m\u001b[1;33m\u001b[0m\u001b[1;33m\u001b[0m\u001b[0m\n\u001b[0m\u001b[0;32m   1639\u001b[0m \u001b[1;33m\u001b[0m\u001b[0m\n\u001b[0;32m   1640\u001b[0m     \u001b[1;32mdef\u001b[0m \u001b[0mback\u001b[0m\u001b[1;33m(\u001b[0m\u001b[0mself\u001b[0m\u001b[1;33m,\u001b[0m \u001b[0mdistance\u001b[0m\u001b[1;33m)\u001b[0m\u001b[1;33m:\u001b[0m\u001b[1;33m\u001b[0m\u001b[1;33m\u001b[0m\u001b[0m\n",
      "\u001b[1;32m~\\anaconda3\\lib\\turtle.py\u001b[0m in \u001b[0;36m_go\u001b[1;34m(self, distance)\u001b[0m\n\u001b[0;32m   1604\u001b[0m         \u001b[1;34m\"\"\"move turtle forward by specified distance\"\"\"\u001b[0m\u001b[1;33m\u001b[0m\u001b[1;33m\u001b[0m\u001b[0m\n\u001b[0;32m   1605\u001b[0m         \u001b[0mende\u001b[0m \u001b[1;33m=\u001b[0m \u001b[0mself\u001b[0m\u001b[1;33m.\u001b[0m\u001b[0m_position\u001b[0m \u001b[1;33m+\u001b[0m \u001b[0mself\u001b[0m\u001b[1;33m.\u001b[0m\u001b[0m_orient\u001b[0m \u001b[1;33m*\u001b[0m \u001b[0mdistance\u001b[0m\u001b[1;33m\u001b[0m\u001b[1;33m\u001b[0m\u001b[0m\n\u001b[1;32m-> 1606\u001b[1;33m         \u001b[0mself\u001b[0m\u001b[1;33m.\u001b[0m\u001b[0m_goto\u001b[0m\u001b[1;33m(\u001b[0m\u001b[0mende\u001b[0m\u001b[1;33m)\u001b[0m\u001b[1;33m\u001b[0m\u001b[1;33m\u001b[0m\u001b[0m\n\u001b[0m\u001b[0;32m   1607\u001b[0m \u001b[1;33m\u001b[0m\u001b[0m\n\u001b[0;32m   1608\u001b[0m     \u001b[1;32mdef\u001b[0m \u001b[0m_rotate\u001b[0m\u001b[1;33m(\u001b[0m\u001b[0mself\u001b[0m\u001b[1;33m,\u001b[0m \u001b[0mangle\u001b[0m\u001b[1;33m)\u001b[0m\u001b[1;33m:\u001b[0m\u001b[1;33m\u001b[0m\u001b[1;33m\u001b[0m\u001b[0m\n",
      "\u001b[1;32m~\\anaconda3\\lib\\turtle.py\u001b[0m in \u001b[0;36m_goto\u001b[1;34m(self, end)\u001b[0m\n\u001b[0;32m   3175\u001b[0m                 \u001b[0mself\u001b[0m\u001b[1;33m.\u001b[0m\u001b[0m_position\u001b[0m \u001b[1;33m=\u001b[0m \u001b[0mstart\u001b[0m \u001b[1;33m+\u001b[0m \u001b[0mdelta\u001b[0m \u001b[1;33m*\u001b[0m \u001b[0mn\u001b[0m\u001b[1;33m\u001b[0m\u001b[1;33m\u001b[0m\u001b[0m\n\u001b[0;32m   3176\u001b[0m                 \u001b[1;32mif\u001b[0m \u001b[0mself\u001b[0m\u001b[1;33m.\u001b[0m\u001b[0m_drawing\u001b[0m\u001b[1;33m:\u001b[0m\u001b[1;33m\u001b[0m\u001b[1;33m\u001b[0m\u001b[0m\n\u001b[1;32m-> 3177\u001b[1;33m                     screen._drawline(self.drawingLineItem,\n\u001b[0m\u001b[0;32m   3178\u001b[0m                                      \u001b[1;33m(\u001b[0m\u001b[0mstart\u001b[0m\u001b[1;33m,\u001b[0m \u001b[0mself\u001b[0m\u001b[1;33m.\u001b[0m\u001b[0m_position\u001b[0m\u001b[1;33m)\u001b[0m\u001b[1;33m,\u001b[0m\u001b[1;33m\u001b[0m\u001b[1;33m\u001b[0m\u001b[0m\n\u001b[0;32m   3179\u001b[0m                                      self._pencolor, self._pensize, top)\n",
      "\u001b[1;32m~\\anaconda3\\lib\\turtle.py\u001b[0m in \u001b[0;36m_drawline\u001b[1;34m(self, lineitem, coordlist, fill, width, top)\u001b[0m\n\u001b[0;32m    544\u001b[0m                 \u001b[0mcl\u001b[0m\u001b[1;33m.\u001b[0m\u001b[0mappend\u001b[0m\u001b[1;33m(\u001b[0m\u001b[0mx\u001b[0m \u001b[1;33m*\u001b[0m \u001b[0mself\u001b[0m\u001b[1;33m.\u001b[0m\u001b[0mxscale\u001b[0m\u001b[1;33m)\u001b[0m\u001b[1;33m\u001b[0m\u001b[1;33m\u001b[0m\u001b[0m\n\u001b[0;32m    545\u001b[0m                 \u001b[0mcl\u001b[0m\u001b[1;33m.\u001b[0m\u001b[0mappend\u001b[0m\u001b[1;33m(\u001b[0m\u001b[1;33m-\u001b[0m\u001b[0my\u001b[0m \u001b[1;33m*\u001b[0m \u001b[0mself\u001b[0m\u001b[1;33m.\u001b[0m\u001b[0myscale\u001b[0m\u001b[1;33m)\u001b[0m\u001b[1;33m\u001b[0m\u001b[1;33m\u001b[0m\u001b[0m\n\u001b[1;32m--> 546\u001b[1;33m             \u001b[0mself\u001b[0m\u001b[1;33m.\u001b[0m\u001b[0mcv\u001b[0m\u001b[1;33m.\u001b[0m\u001b[0mcoords\u001b[0m\u001b[1;33m(\u001b[0m\u001b[0mlineitem\u001b[0m\u001b[1;33m,\u001b[0m \u001b[1;33m*\u001b[0m\u001b[0mcl\u001b[0m\u001b[1;33m)\u001b[0m\u001b[1;33m\u001b[0m\u001b[1;33m\u001b[0m\u001b[0m\n\u001b[0m\u001b[0;32m    547\u001b[0m         \u001b[1;32mif\u001b[0m \u001b[0mfill\u001b[0m \u001b[1;32mis\u001b[0m \u001b[1;32mnot\u001b[0m \u001b[1;32mNone\u001b[0m\u001b[1;33m:\u001b[0m\u001b[1;33m\u001b[0m\u001b[1;33m\u001b[0m\u001b[0m\n\u001b[0;32m    548\u001b[0m             \u001b[0mself\u001b[0m\u001b[1;33m.\u001b[0m\u001b[0mcv\u001b[0m\u001b[1;33m.\u001b[0m\u001b[0mitemconfigure\u001b[0m\u001b[1;33m(\u001b[0m\u001b[0mlineitem\u001b[0m\u001b[1;33m,\u001b[0m \u001b[0mfill\u001b[0m\u001b[1;33m=\u001b[0m\u001b[0mfill\u001b[0m\u001b[1;33m)\u001b[0m\u001b[1;33m\u001b[0m\u001b[1;33m\u001b[0m\u001b[0m\n",
      "\u001b[1;32m<string>\u001b[0m in \u001b[0;36mcoords\u001b[1;34m(self, *args, **kw)\u001b[0m\n",
      "\u001b[1;32m~\\anaconda3\\lib\\tkinter\\__init__.py\u001b[0m in \u001b[0;36mcoords\u001b[1;34m(self, *args)\u001b[0m\n\u001b[0;32m   2764\u001b[0m         return [self.tk.getdouble(x) for x in\n\u001b[0;32m   2765\u001b[0m                            self.tk.splitlist(\n\u001b[1;32m-> 2766\u001b[1;33m                    self.tk.call((self._w, 'coords') + args))]\n\u001b[0m\u001b[0;32m   2767\u001b[0m \u001b[1;33m\u001b[0m\u001b[0m\n\u001b[0;32m   2768\u001b[0m     \u001b[1;32mdef\u001b[0m \u001b[0m_create\u001b[0m\u001b[1;33m(\u001b[0m\u001b[0mself\u001b[0m\u001b[1;33m,\u001b[0m \u001b[0mitemType\u001b[0m\u001b[1;33m,\u001b[0m \u001b[0margs\u001b[0m\u001b[1;33m,\u001b[0m \u001b[0mkw\u001b[0m\u001b[1;33m)\u001b[0m\u001b[1;33m:\u001b[0m \u001b[1;31m# Args: (val, val, ..., cnf={})\u001b[0m\u001b[1;33m\u001b[0m\u001b[1;33m\u001b[0m\u001b[0m\n",
      "\u001b[1;31mTclError\u001b[0m: invalid command name \".!canvas\""
     ]
    }
   ],
   "source": [
    "from turtle import*\n",
    "class Car:\n",
    "    def __init__(self, speed, color, model):\n",
    "        self.speed = speed\n",
    "        self.color = color\n",
    "        self.model = model\n",
    "        self.turtle = Turtle()\n",
    "        self.turtle.shape (\"./Car.gif\")\n",
    "        \n",
    "    def drive(self):\n",
    "        self.turtle.forward(self.speed)\n",
    "        \n",
    "    def left_turn(self):\n",
    "        self.turtle.left(90)\n",
    "\n",
    "        \n",
    "register_shape(\"./Car.gif\") # 이게 있어서 self.turtle.shape(\"./Car.gif\")가 움직이네 아 shape로 쓸거를 등록하는구나 \n",
    "\n",
    "myCar = Car(200, \"red\", \"E-class\")\n",
    "for i in range(100):\n",
    "    myCar.drive()\n",
    "    myCar.left_turn()"
   ]
  },
  {
   "cell_type": "markdown",
   "id": "065af7d3",
   "metadata": {},
   "source": [
    "## Lab Ball 클래스 "
   ]
  },
  {
   "cell_type": "code",
   "execution_count": 3,
   "id": "d2fad233",
   "metadata": {
    "ExecuteTime": {
     "end_time": "2021-11-22T07:38:52.105609Z",
     "start_time": "2021-11-22T07:38:51.876581Z"
    }
   },
   "outputs": [],
   "source": [
    "from turtle import*\n",
    "\n",
    "class Ball:\n",
    "    def __init__(self, color, speed, size):\n",
    "        \n",
    "        #공의 위치 \n",
    "        self.x = 0\n",
    "        self.y = 0\n",
    "        self.color = color\n",
    "        self.xspeed = speed\n",
    "        self.yspeed = speed\n",
    "        self.size = size\n",
    "        \n",
    "        self.turtle = Turtle()\n",
    "        self.turtle.shape(\"circle\")\n",
    "        self.turtle.color(color, color)\n",
    "        self.turtle.resizemode(\"user\")\n",
    "        self.turtle.shapesize(size, size, 10)\n",
    "        \n",
    "    def move(self):\n",
    "        self.x += self.xspeed\n",
    "        self.y += self.yspeed\n",
    "        self.turtle.goto(self.x, self.y)\n",
    "\n",
    "        \n",
    "ball = Ball(\"red\",2,1)\n",
    "for i in range(100):\n",
    "    ball.move()"
   ]
  },
  {
   "cell_type": "markdown",
   "id": "98e514dc",
   "metadata": {},
   "source": [
    "# 상속"
   ]
  },
  {
   "cell_type": "markdown",
   "id": "eab47a34",
   "metadata": {},
   "source": [
    "## My Turtle 클래스 "
   ]
  },
  {
   "cell_type": "code",
   "execution_count": 1,
   "id": "49c2300e",
   "metadata": {
    "ExecuteTime": {
     "end_time": "2021-11-22T08:32:00.336424Z",
     "start_time": "2021-11-22T08:32:00.114488Z"
    }
   },
   "outputs": [],
   "source": [
    "from turtle import*\n",
    "\n",
    "\n",
    "#상속을 받아서 새로운 메소드를 만든 \n",
    "class MyTurtle(Turtle):\n",
    "    def glow(self, x, y):\n",
    "        self.fillcolor(\"red\")\n",
    "        \n",
    "\n",
    "turtle = MyTurtle()\n",
    "turtle.shape(\"turtle\")\n",
    "turtle.onclick(turtle.glow) #거북이를 클릭하면 생삭이 빨강생으로 변경된다"
   ]
  },
  {
   "cell_type": "markdown",
   "id": "5520d611",
   "metadata": {},
   "source": [
    "# 오늘 복습"
   ]
  },
  {
   "cell_type": "code",
   "execution_count": 5,
   "id": "7934ba3d",
   "metadata": {
    "ExecuteTime": {
     "end_time": "2021-11-22T09:14:33.852826Z",
     "start_time": "2021-11-22T09:14:27.254523Z"
    }
   },
   "outputs": [],
   "source": [
    "import tkinter as tk\n",
    "\n",
    "window = tk.Tk()\n",
    "button = tk.Button(window, text=\"할로\")\n",
    "button.pack()\n",
    "window.mainloop()"
   ]
  },
  {
   "cell_type": "code",
   "execution_count": 13,
   "id": "09b6f758",
   "metadata": {
    "ExecuteTime": {
     "end_time": "2021-11-22T09:30:53.624108Z",
     "start_time": "2021-11-22T09:25:40.319062Z"
    }
   },
   "outputs": [],
   "source": [
    "\n",
    "from tkinter import*\n",
    "\n",
    "window = Tk()\n",
    "\n",
    "label = Label(window,text=\"안녕하세요\").grid(row = 0, column=0)\n",
    "entry = Entry(window, width = 50).grid(row =1, column=0)\n",
    "\n",
    "list = ['Next','Home','Back']\n",
    "\n",
    "rowNum = 2\n",
    "columnNum = 0\n",
    "\n",
    "for buttonText in list:\n",
    "    button = Button(window, text=buttonText)\n",
    "    button.grid(row = rowNum, column =columnNum)\n",
    "    columnNum +=1\n",
    "    \n",
    "window.mainloop()"
   ]
  },
  {
   "cell_type": "code",
   "execution_count": 21,
   "id": "d1daed2f",
   "metadata": {
    "ExecuteTime": {
     "end_time": "2021-11-22T09:45:03.149024Z",
     "start_time": "2021-11-22T09:34:19.724339Z"
    }
   },
   "outputs": [
    {
     "name": "stdout",
     "output_type": "stream",
     "text": [
      "눌렀다\n"
     ]
    }
   ],
   "source": [
    "from tkinter import*\n",
    "\n",
    "def clickb():\n",
    "    print(\"눌렀다\")\n",
    "\n",
    "window = Tk()\n",
    "button1 = Button(window,text=\"1번\")\n",
    "button1.place(x = 0, y = 0)\n",
    "\n",
    "button2 = Button(window,text=\"2번\")\n",
    "button2.place(x = 10, y = 10)\n",
    "\n",
    "button3 = Button(window,text=\"3번\", command = clickb)\n",
    "button3.place(x = 20, y= 20)\n",
    "\n",
    "\n",
    "window.mainloop()"
   ]
  },
  {
   "cell_type": "code",
   "execution_count": null,
   "id": "b6906388",
   "metadata": {
    "ExecuteTime": {
     "start_time": "2021-11-22T09:51:03.591Z"
    }
   },
   "outputs": [],
   "source": [
    "from PIL import Image, ImageTk, ImageFilter\n",
    "import tkinter as tk\n",
    "\n",
    "window = tk.Tk()\n",
    "canvas = tk.Canvas(window, width = 500, height = 500)\n",
    "canvas.pack()\n",
    "\n",
    "\n",
    "img = Image.open(\"./pizza.png\")\n",
    "\n",
    "filterImage = img.filter(ImageFilter.BLUR)\n",
    "\n",
    "tk_image = ImageTk.PhotoImage(filterImage, master = window)\n",
    "\n",
    "canvas.create_image(250,250,image = tk_image)\n",
    "\n",
    "window.mainloop()"
   ]
  },
  {
   "cell_type": "code",
   "execution_count": null,
   "id": "ecacbb45",
   "metadata": {},
   "outputs": [],
   "source": []
  }
 ],
 "metadata": {
  "kernelspec": {
   "display_name": "Python 3",
   "language": "python",
   "name": "python3"
  },
  "language_info": {
   "codemirror_mode": {
    "name": "ipython",
    "version": 3
   },
   "file_extension": ".py",
   "mimetype": "text/x-python",
   "name": "python",
   "nbconvert_exporter": "python",
   "pygments_lexer": "ipython3",
   "version": "3.8.8"
  },
  "toc": {
   "base_numbering": 1,
   "nav_menu": {},
   "number_sections": true,
   "sideBar": true,
   "skip_h1_title": false,
   "title_cell": "Table of Contents",
   "title_sidebar": "Contents",
   "toc_cell": false,
   "toc_position": {},
   "toc_section_display": true,
   "toc_window_display": true
  }
 },
 "nbformat": 4,
 "nbformat_minor": 5
}
