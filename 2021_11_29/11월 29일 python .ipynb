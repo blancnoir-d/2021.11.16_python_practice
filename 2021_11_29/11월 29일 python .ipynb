{
 "cells": [
  {
   "cell_type": "markdown",
   "id": "fb0d09b8",
   "metadata": {},
   "source": [
    "# pymysql "
   ]
  },
  {
   "cell_type": "code",
   "execution_count": 11,
   "id": "b8807d95",
   "metadata": {
    "ExecuteTime": {
     "end_time": "2021-11-29T06:30:08.547561Z",
     "start_time": "2021-11-29T06:30:07.464231Z"
    }
   },
   "outputs": [],
   "source": [
    "import pymysql as mysql\n",
    "import pandas as pd "
   ]
  },
  {
   "cell_type": "code",
   "execution_count": 5,
   "id": "4e8f6e7b",
   "metadata": {
    "ExecuteTime": {
     "end_time": "2021-11-29T06:22:17.427846Z",
     "start_time": "2021-11-29T06:22:17.402827Z"
    }
   },
   "outputs": [
    {
     "name": "stdout",
     "output_type": "stream",
     "text": [
      "<pymysql.connections.Connection object at 0x00000150E9F1ED90>\n"
     ]
    }
   ],
   "source": [
    "#db connect \n",
    "db_con = mysql.Connect(\n",
    "        host = 'localhost',\n",
    "        port = 3306,\n",
    "        user ='root',\n",
    "        passwd = 'ngdin4af',\n",
    "        db='madang',\n",
    "        charset = 'utf8'\n",
    ")\n",
    "print(db_con)"
   ]
  },
  {
   "cell_type": "code",
   "execution_count": 12,
   "id": "6c41b723",
   "metadata": {
    "ExecuteTime": {
     "end_time": "2021-11-29T06:30:11.594775Z",
     "start_time": "2021-11-29T06:30:11.584773Z"
    }
   },
   "outputs": [],
   "source": [
    "# Cursor Object 가져오기(두개 다 가능, 후자가 df를 만들때 컬럼명을 다 가져올 수 있음?? 확인 필요)\n",
    "#cursor = db_con.cursor()\n",
    "cursor = db_con.cursor(mysql.cursors.DictCursor)"
   ]
  },
  {
   "cell_type": "code",
   "execution_count": 13,
   "id": "f9b25d32",
   "metadata": {
    "ExecuteTime": {
     "end_time": "2021-11-29T06:30:13.149237Z",
     "start_time": "2021-11-29T06:30:13.145238Z"
    }
   },
   "outputs": [],
   "source": [
    "#sql 문 만들기 \n",
    "sql = '''select * from book;\n",
    "        '''"
   ]
  },
  {
   "cell_type": "code",
   "execution_count": 14,
   "id": "a22b599c",
   "metadata": {
    "ExecuteTime": {
     "end_time": "2021-11-29T06:39:12.199234Z",
     "start_time": "2021-11-29T06:39:12.184230Z"
    }
   },
   "outputs": [],
   "source": [
    "#쿼리문 실행\n",
    "cursor.execute(sql)\n",
    "data = cursor.fetchall() \n",
    "db_con.close() # 커넥션 닫음"
   ]
  },
  {
   "cell_type": "code",
   "execution_count": 15,
   "id": "d0e2dbc7",
   "metadata": {
    "ExecuteTime": {
     "end_time": "2021-11-29T06:40:04.266890Z",
     "start_time": "2021-11-29T06:40:04.246886Z"
    }
   },
   "outputs": [
    {
     "data": {
      "text/html": [
       "<div>\n",
       "<style scoped>\n",
       "    .dataframe tbody tr th:only-of-type {\n",
       "        vertical-align: middle;\n",
       "    }\n",
       "\n",
       "    .dataframe tbody tr th {\n",
       "        vertical-align: top;\n",
       "    }\n",
       "\n",
       "    .dataframe thead th {\n",
       "        text-align: right;\n",
       "    }\n",
       "</style>\n",
       "<table border=\"1\" class=\"dataframe\">\n",
       "  <thead>\n",
       "    <tr style=\"text-align: right;\">\n",
       "      <th></th>\n",
       "      <th>bookid</th>\n",
       "      <th>bookname</th>\n",
       "      <th>publisher</th>\n",
       "      <th>price</th>\n",
       "    </tr>\n",
       "  </thead>\n",
       "  <tbody>\n",
       "    <tr>\n",
       "      <th>0</th>\n",
       "      <td>1</td>\n",
       "      <td>축구의 역사</td>\n",
       "      <td>굿스포츠</td>\n",
       "      <td>7000</td>\n",
       "    </tr>\n",
       "    <tr>\n",
       "      <th>1</th>\n",
       "      <td>2</td>\n",
       "      <td>축구아는 여자</td>\n",
       "      <td>나무수</td>\n",
       "      <td>13000</td>\n",
       "    </tr>\n",
       "    <tr>\n",
       "      <th>2</th>\n",
       "      <td>3</td>\n",
       "      <td>축구의 이해</td>\n",
       "      <td>대한미디어</td>\n",
       "      <td>22000</td>\n",
       "    </tr>\n",
       "    <tr>\n",
       "      <th>3</th>\n",
       "      <td>4</td>\n",
       "      <td>골프 바이블</td>\n",
       "      <td>대한미디어</td>\n",
       "      <td>35000</td>\n",
       "    </tr>\n",
       "    <tr>\n",
       "      <th>4</th>\n",
       "      <td>5</td>\n",
       "      <td>피겨 교본</td>\n",
       "      <td>굿스포츠</td>\n",
       "      <td>8000</td>\n",
       "    </tr>\n",
       "    <tr>\n",
       "      <th>5</th>\n",
       "      <td>6</td>\n",
       "      <td>역도 단계별기술</td>\n",
       "      <td>굿스포츠</td>\n",
       "      <td>6000</td>\n",
       "    </tr>\n",
       "    <tr>\n",
       "      <th>6</th>\n",
       "      <td>7</td>\n",
       "      <td>야구의 추억</td>\n",
       "      <td>이상미디어</td>\n",
       "      <td>20000</td>\n",
       "    </tr>\n",
       "    <tr>\n",
       "      <th>7</th>\n",
       "      <td>8</td>\n",
       "      <td>야구를 부탁해</td>\n",
       "      <td>이상미디어</td>\n",
       "      <td>13000</td>\n",
       "    </tr>\n",
       "    <tr>\n",
       "      <th>8</th>\n",
       "      <td>9</td>\n",
       "      <td>올림픽 이야기</td>\n",
       "      <td>삼성당</td>\n",
       "      <td>7500</td>\n",
       "    </tr>\n",
       "    <tr>\n",
       "      <th>9</th>\n",
       "      <td>10</td>\n",
       "      <td>Olympic Champions</td>\n",
       "      <td>Pearson</td>\n",
       "      <td>13000</td>\n",
       "    </tr>\n",
       "  </tbody>\n",
       "</table>\n",
       "</div>"
      ],
      "text/plain": [
       "   bookid           bookname publisher  price\n",
       "0       1             축구의 역사      굿스포츠   7000\n",
       "1       2            축구아는 여자       나무수  13000\n",
       "2       3             축구의 이해     대한미디어  22000\n",
       "3       4             골프 바이블     대한미디어  35000\n",
       "4       5              피겨 교본      굿스포츠   8000\n",
       "5       6           역도 단계별기술      굿스포츠   6000\n",
       "6       7             야구의 추억     이상미디어  20000\n",
       "7       8            야구를 부탁해     이상미디어  13000\n",
       "8       9            올림픽 이야기       삼성당   7500\n",
       "9      10  Olympic Champions   Pearson  13000"
      ]
     },
     "execution_count": 15,
     "metadata": {},
     "output_type": "execute_result"
    }
   ],
   "source": [
    "result = pd.DataFrame(data)\n",
    "result"
   ]
  },
  {
   "cell_type": "markdown",
   "id": "91c7bc7c",
   "metadata": {},
   "source": [
    "#  ini파일 읽어서 DB connection "
   ]
  },
  {
   "cell_type": "code",
   "execution_count": 1,
   "id": "f1d0b6b6",
   "metadata": {
    "ExecuteTime": {
     "end_time": "2021-11-29T07:53:54.675202Z",
     "start_time": "2021-11-29T07:53:54.581179Z"
    }
   },
   "outputs": [
    {
     "name": "stdout",
     "output_type": "stream",
     "text": [
      "(1, '축구의 역사', '굿스포츠', 7000)\n",
      "(2, '축구아는 여자', '나무수', 13000)\n",
      "(3, '축구의 이해', '대한미디어', 22000)\n",
      "(4, '골프 바이블', '대한미디어', 35000)\n",
      "(5, '피겨 교본', '굿스포츠', 8000)\n",
      "(6, '역도 단계별기술', '굿스포츠', 6000)\n",
      "(7, '야구의 추억', '이상미디어', 20000)\n",
      "(8, '야구를 부탁해', '이상미디어', 13000)\n",
      "(9, '올림픽 이야기', '삼성당', 7500)\n",
      "(10, 'Olympic Champions', 'Pearson', 13000)\n"
     ]
    }
   ],
   "source": [
    "import pymysql as mysql\n",
    "from python_mysql_dbconfig import read_db_config\n",
    "\n",
    "#read_db_config()\n",
    "\n",
    "Error = mysql.Error()\n",
    "\n",
    "def query_with_fetchone():\n",
    "    try:\n",
    "        dbconfig = read_db_config()\n",
    "        conn = mysql.Connection(**dbconfig)\n",
    "        cursor = conn.cursor()        \n",
    "        cursor.execute(\"SELECT * FROM book\")\n",
    "        row = cursor.fetchone()\n",
    "\n",
    "        while row is not None:\n",
    "            print(row)\n",
    "            row = cursor.fetchone()\n",
    "\n",
    "    except Error as e:\n",
    "        print(e)\n",
    "\n",
    "    finally:\n",
    "        cursor.close()\n",
    "        conn.close()\n",
    "\n",
    "\n",
    "if __name__ == '__main__':\n",
    "    query_with_fetchone()"
   ]
  },
  {
   "cell_type": "code",
   "execution_count": null,
   "id": "2c11d337",
   "metadata": {},
   "outputs": [],
   "source": []
  }
 ],
 "metadata": {
  "kernelspec": {
   "display_name": "Python 3 (ipykernel)",
   "language": "python",
   "name": "python3"
  },
  "language_info": {
   "codemirror_mode": {
    "name": "ipython",
    "version": 3
   },
   "file_extension": ".py",
   "mimetype": "text/x-python",
   "name": "python",
   "nbconvert_exporter": "python",
   "pygments_lexer": "ipython3",
   "version": "3.8.12"
  },
  "toc": {
   "base_numbering": 1,
   "nav_menu": {},
   "number_sections": true,
   "sideBar": true,
   "skip_h1_title": false,
   "title_cell": "Table of Contents",
   "title_sidebar": "Contents",
   "toc_cell": false,
   "toc_position": {},
   "toc_section_display": true,
   "toc_window_display": false
  }
 },
 "nbformat": 4,
 "nbformat_minor": 5
}
