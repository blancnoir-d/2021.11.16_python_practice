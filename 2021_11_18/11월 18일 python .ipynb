{
 "cells": [
  {
   "cell_type": "markdown",
   "id": "f3122655",
   "metadata": {},
   "source": [
    "# 연습 문제"
   ]
  },
  {
   "cell_type": "code",
   "execution_count": 1,
   "id": "c238f62c",
   "metadata": {
    "ExecuteTime": {
     "end_time": "2021-11-18T01:51:48.319905Z",
     "start_time": "2021-11-18T01:51:46.625901Z"
    }
   },
   "outputs": [
    {
     "name": "stdout",
     "output_type": "stream",
     "text": [
      "원의 반지름을 입력하세요 : 5\n",
      "원의 넓이: 78.5\n",
      "원의 둘레: 31.400000000000002\n"
     ]
    }
   ],
   "source": [
    "# 원의 넓이, 원의 둘레\n",
    "r = int(input(\"원의 반지름을 입력하세요 : \"))\n",
    "\n",
    "area = r**2*3.14\n",
    "circleRound = r*2*3.14\n",
    "\n",
    "print(\"원의 넓이:\",area)\n",
    "print(\"원의 둘레:\",circleRound)"
   ]
  },
  {
   "cell_type": "code",
   "execution_count": 2,
   "id": "f1b4dbb7",
   "metadata": {
    "ExecuteTime": {
     "end_time": "2021-11-18T01:54:04.931929Z",
     "start_time": "2021-11-18T01:54:01.829044Z"
    }
   },
   "outputs": [
    {
     "name": "stdout",
     "output_type": "stream",
     "text": [
      "가로 길이를 입력하세요 :5\n",
      "세로 길이를 입력하세요 :6\n",
      "사각형의 넓이는 30\n"
     ]
    }
   ],
   "source": [
    "#사각형의 넓이\n",
    "horizontal = int(input(\"가로 길이를 입력하세요 :\"))\n",
    "vertical = int(input(\"세로 길이를 입력하세요 :\"))\n",
    "\n",
    "squareArea = horizontal * vertical\n",
    "\n",
    "print(\"사각형의 넓이는\", squareArea)"
   ]
  },
  {
   "cell_type": "code",
   "execution_count": 3,
   "id": "41e63ae9",
   "metadata": {
    "ExecuteTime": {
     "end_time": "2021-11-18T01:56:08.806220Z",
     "start_time": "2021-11-18T01:56:08.789215Z"
    }
   },
   "outputs": [
    {
     "name": "stdout",
     "output_type": "stream",
     "text": [
      "1 단\n",
      "1 * 1 = 1\n",
      "1 * 2 = 2\n",
      "1 * 3 = 3\n",
      "1 * 4 = 4\n",
      "1 * 5 = 5\n",
      "1 * 6 = 6\n",
      "1 * 7 = 7\n",
      "1 * 8 = 8\n",
      "1 * 9 = 9\n",
      "2 단\n",
      "2 * 1 = 2\n",
      "2 * 2 = 4\n",
      "2 * 3 = 6\n",
      "2 * 4 = 8\n",
      "2 * 5 = 10\n",
      "2 * 6 = 12\n",
      "2 * 7 = 14\n",
      "2 * 8 = 16\n",
      "2 * 9 = 18\n",
      "3 단\n",
      "3 * 1 = 3\n",
      "3 * 2 = 6\n",
      "3 * 3 = 9\n",
      "3 * 4 = 12\n",
      "3 * 5 = 15\n",
      "3 * 6 = 18\n",
      "3 * 7 = 21\n",
      "3 * 8 = 24\n",
      "3 * 9 = 27\n",
      "4 단\n",
      "4 * 1 = 4\n",
      "4 * 2 = 8\n",
      "4 * 3 = 12\n",
      "4 * 4 = 16\n",
      "4 * 5 = 20\n",
      "4 * 6 = 24\n",
      "4 * 7 = 28\n",
      "4 * 8 = 32\n",
      "4 * 9 = 36\n",
      "5 단\n",
      "5 * 1 = 5\n",
      "5 * 2 = 10\n",
      "5 * 3 = 15\n",
      "5 * 4 = 20\n",
      "5 * 5 = 25\n",
      "5 * 6 = 30\n",
      "5 * 7 = 35\n",
      "5 * 8 = 40\n",
      "5 * 9 = 45\n",
      "6 단\n",
      "6 * 1 = 6\n",
      "6 * 2 = 12\n",
      "6 * 3 = 18\n",
      "6 * 4 = 24\n",
      "6 * 5 = 30\n",
      "6 * 6 = 36\n",
      "6 * 7 = 42\n",
      "6 * 8 = 48\n",
      "6 * 9 = 54\n",
      "7 단\n",
      "7 * 1 = 7\n",
      "7 * 2 = 14\n",
      "7 * 3 = 21\n",
      "7 * 4 = 28\n",
      "7 * 5 = 35\n",
      "7 * 6 = 42\n",
      "7 * 7 = 49\n",
      "7 * 8 = 56\n",
      "7 * 9 = 63\n",
      "8 단\n",
      "8 * 1 = 8\n",
      "8 * 2 = 16\n",
      "8 * 3 = 24\n",
      "8 * 4 = 32\n",
      "8 * 5 = 40\n",
      "8 * 6 = 48\n",
      "8 * 7 = 56\n",
      "8 * 8 = 64\n",
      "8 * 9 = 72\n",
      "9 단\n",
      "9 * 1 = 9\n",
      "9 * 2 = 18\n",
      "9 * 3 = 27\n",
      "9 * 4 = 36\n",
      "9 * 5 = 45\n",
      "9 * 6 = 54\n",
      "9 * 7 = 63\n",
      "9 * 8 = 72\n",
      "9 * 9 = 81\n"
     ]
    }
   ],
   "source": [
    "#구구단\n",
    "for i in range(1,10):\n",
    "    print(i,\"단\")\n",
    "    for j in range(1,10):\n",
    "        print(i,\"*\",j,\"=\",i*j)"
   ]
  },
  {
   "cell_type": "code",
   "execution_count": 6,
   "id": "1b18ffff",
   "metadata": {
    "ExecuteTime": {
     "end_time": "2021-11-18T02:08:16.271614Z",
     "start_time": "2021-11-18T02:08:12.148479Z"
    }
   },
   "outputs": [
    {
     "name": "stdout",
     "output_type": "stream",
     "text": [
      "몇개의 값을 입력하시겠습니까?:3\n",
      "총점과 평균을 구할 수을 입력하세요:\n",
      "입력할 숫자 갯수 :  3\n",
      "입력한 숫자 수 :  0\n",
      "숫자 입력5\n",
      "총점과 평균을 구할 수을 입력하세요:\n",
      "입력할 숫자 갯수 :  3\n",
      "입력한 숫자 수 :  1\n",
      "숫자 입력5\n",
      "총점과 평균을 구할 수을 입력하세요:\n",
      "입력할 숫자 갯수 :  3\n",
      "입력한 숫자 수 :  2\n",
      "숫자 입력5\n",
      "총합 :  15\n",
      "평균 :  5.0\n"
     ]
    }
   ],
   "source": [
    "##### 총점, 평균\n",
    "\n",
    "inputNumber = int(input(\"몇개의 값을 입력하시겠습니까?:\"))\n",
    "\n",
    "i = 0\n",
    "numSum = 0\n",
    "average = 0\n",
    "\n",
    "calculateNumbers = []\n",
    "while i<inputNumber:\n",
    "    print(\"총점과 평균을 구할 수을 입력하세요:\")\n",
    "    print(\"입력할 숫자 갯수 : \",inputNumber)\n",
    "    print(\"입력한 숫자 수 : \", len(calculateNumbers))\n",
    "    num = int(input(\"숫자 입력\"))\n",
    "    calculateNumbers.append(num)\n",
    "    numSum += num\n",
    "    i+=1\n",
    "    \n",
    "    if i == inputNumber:\n",
    "        average = numSum/inputNumber\n",
    "\n",
    "print(\"총합 : \", numSum)\n",
    "print(\"평균 : \", average)\n"
   ]
  },
  {
   "cell_type": "code",
   "execution_count": 8,
   "id": "dccdb628",
   "metadata": {
    "ExecuteTime": {
     "end_time": "2021-11-18T02:11:34.693153Z",
     "start_time": "2021-11-18T02:11:31.871193Z"
    }
   },
   "outputs": [
    {
     "name": "stdout",
     "output_type": "stream",
     "text": [
      "구입할 물건의 개당 가격을 입력하세요:5000\n",
      "구입할 물건의 갯수를 입력하세요:5\n",
      "금액: 25000 원 입니다.\n"
     ]
    }
   ],
   "source": [
    "#수량 단가 받아서 금액 계산하기\n",
    "\n",
    "number = int(input(\"구입할 물건의 개당 가격을 입력하세요:\"))\n",
    "objectNumber = int(input(\"구입할 물건의 갯수를 입력하세요:\"))\n",
    "\n",
    "print(\"금액:\", number*objectNumber,\"원 입니다.\")"
   ]
  },
  {
   "cell_type": "code",
   "execution_count": 11,
   "id": "87706c57",
   "metadata": {
    "ExecuteTime": {
     "end_time": "2021-11-18T02:16:49.098449Z",
     "start_time": "2021-11-18T02:16:41.063449Z"
    }
   },
   "outputs": [
    {
     "name": "stdout",
     "output_type": "stream",
     "text": [
      "1부터 몇까지 곱하고 싶으신가요?:10\n",
      "결과: 3628800\n"
     ]
    }
   ],
   "source": [
    "#팩토리얼\n",
    "endNumber = int(input(\"1부터 몇까지 곱하고 싶으신가요?:\"))\n",
    "\n",
    "result = 1\n",
    "for i in range(1,endNumber+1):\n",
    "    result = result*i\n",
    "\n",
    "print(\"결과:\", result)"
   ]
  },
  {
   "cell_type": "code",
   "execution_count": 15,
   "id": "0bf8a91b",
   "metadata": {
    "ExecuteTime": {
     "end_time": "2021-11-18T02:41:38.009030Z",
     "start_time": "2021-11-18T02:41:36.347116Z"
    }
   },
   "outputs": [
    {
     "name": "stdout",
     "output_type": "stream",
     "text": [
      "소수를 구할 범위를 입력해주세요:5\n",
      "[2, 3, 5]\n"
     ]
    }
   ],
   "source": [
    "#소수구하기(뭐라 하는지 알수가 없다.. )\n",
    "inputNumber = int(input(\"소수를 구할 범위를 입력해주세요:\"))\n",
    "\n",
    "n=inputNumber\n",
    "a = [False,False] + [True]*(n-1)\n",
    "primes=[]\n",
    "\n",
    "for i in range(2,n+1):\n",
    "    if a[i]:\n",
    "        primes.append(i)\n",
    "    for j in range(2*i, n+1, i):\n",
    "        a[j] = False\n",
    "print(primes)"
   ]
  },
  {
   "cell_type": "code",
   "execution_count": null,
   "id": "2e65455d",
   "metadata": {},
   "outputs": [],
   "source": []
  }
 ],
 "metadata": {
  "kernelspec": {
   "display_name": "Python 3 (ipykernel)",
   "language": "python",
   "name": "python3"
  },
  "language_info": {
   "codemirror_mode": {
    "name": "ipython",
    "version": 3
   },
   "file_extension": ".py",
   "mimetype": "text/x-python",
   "name": "python",
   "nbconvert_exporter": "python",
   "pygments_lexer": "ipython3",
   "version": "3.8.12"
  },
  "toc": {
   "base_numbering": 1,
   "nav_menu": {},
   "number_sections": true,
   "sideBar": true,
   "skip_h1_title": false,
   "title_cell": "Table of Contents",
   "title_sidebar": "Contents",
   "toc_cell": false,
   "toc_position": {},
   "toc_section_display": true,
   "toc_window_display": false
  }
 },
 "nbformat": 4,
 "nbformat_minor": 5
}
