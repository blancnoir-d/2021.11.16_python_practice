{
 "cells": [
  {
   "cell_type": "markdown",
   "id": "58165aea",
   "metadata": {},
   "source": [
    "# 학생 분류 "
   ]
  },
  {
   "cell_type": "code",
   "execution_count": 371,
   "id": "7deeef5d",
   "metadata": {
    "ExecuteTime": {
     "end_time": "2021-12-21T05:46:24.518284Z",
     "start_time": "2021-12-21T05:46:24.508281Z"
    }
   },
   "outputs": [],
   "source": [
    "import pandas as pd\n",
    "import numpy as np\n",
    "import matplotlib.pyplot as plt"
   ]
  },
  {
   "cell_type": "code",
   "execution_count": 372,
   "id": "fae979c8",
   "metadata": {
    "ExecuteTime": {
     "end_time": "2021-12-21T05:46:24.968129Z",
     "start_time": "2021-12-21T05:46:24.910117Z"
    }
   },
   "outputs": [
    {
     "data": {
      "text/html": [
       "<div>\n",
       "<style scoped>\n",
       "    .dataframe tbody tr th:only-of-type {\n",
       "        vertical-align: middle;\n",
       "    }\n",
       "\n",
       "    .dataframe tbody tr th {\n",
       "        vertical-align: top;\n",
       "    }\n",
       "\n",
       "    .dataframe thead th {\n",
       "        text-align: right;\n",
       "    }\n",
       "</style>\n",
       "<table border=\"1\" class=\"dataframe\">\n",
       "  <thead>\n",
       "    <tr style=\"text-align: right;\">\n",
       "      <th></th>\n",
       "      <th>ID</th>\n",
       "      <th>최종가중치</th>\n",
       "      <th>학교ID</th>\n",
       "      <th>도시규모</th>\n",
       "      <th>도시규모별분석용</th>\n",
       "      <th>학년도</th>\n",
       "      <th>광역시도</th>\n",
       "      <th>시도별</th>\n",
       "      <th>학교급별</th>\n",
       "      <th>학교명</th>\n",
       "      <th>...</th>\n",
       "      <th>키</th>\n",
       "      <th>몸무게</th>\n",
       "      <th>혈당식전mgdl</th>\n",
       "      <th>총콜레스테롤mgdl</th>\n",
       "      <th>ASTUL</th>\n",
       "      <th>ALTUL</th>\n",
       "      <th>혈색소gdl</th>\n",
       "      <th>간염검사</th>\n",
       "      <th>수축기</th>\n",
       "      <th>이완기</th>\n",
       "    </tr>\n",
       "  </thead>\n",
       "  <tbody>\n",
       "    <tr>\n",
       "      <th>0</th>\n",
       "      <td>Ac283남30713</td>\n",
       "      <td>68.863671</td>\n",
       "      <td>Ac28</td>\n",
       "      <td>대도시/중소도시</td>\n",
       "      <td>특별/광역시</td>\n",
       "      <td>2015</td>\n",
       "      <td>서울</td>\n",
       "      <td>서울특별시교육청</td>\n",
       "      <td>3</td>\n",
       "      <td>신서고등학교</td>\n",
       "      <td>...</td>\n",
       "      <td>172.1</td>\n",
       "      <td>60.5</td>\n",
       "      <td>NaN</td>\n",
       "      <td>NaN</td>\n",
       "      <td>NaN</td>\n",
       "      <td>NaN</td>\n",
       "      <td>NaN</td>\n",
       "      <td>NaN</td>\n",
       "      <td>NaN</td>\n",
       "      <td>NaN</td>\n",
       "    </tr>\n",
       "    <tr>\n",
       "      <th>1</th>\n",
       "      <td>Aa123남30304</td>\n",
       "      <td>145.957095</td>\n",
       "      <td>Aa12</td>\n",
       "      <td>대도시/중소도시</td>\n",
       "      <td>특별/광역시</td>\n",
       "      <td>2015</td>\n",
       "      <td>서울</td>\n",
       "      <td>서울특별시교육청</td>\n",
       "      <td>1</td>\n",
       "      <td>서울난향초등학교</td>\n",
       "      <td>...</td>\n",
       "      <td>139.7</td>\n",
       "      <td>44.5</td>\n",
       "      <td>NaN</td>\n",
       "      <td>NaN</td>\n",
       "      <td>NaN</td>\n",
       "      <td>NaN</td>\n",
       "      <td>NaN</td>\n",
       "      <td>NaN</td>\n",
       "      <td>NaN</td>\n",
       "      <td>NaN</td>\n",
       "    </tr>\n",
       "    <tr>\n",
       "      <th>2</th>\n",
       "      <td>Ac253남30104</td>\n",
       "      <td>107.030275</td>\n",
       "      <td>Ac25</td>\n",
       "      <td>대도시/중소도시</td>\n",
       "      <td>특별/광역시</td>\n",
       "      <td>2015</td>\n",
       "      <td>서울</td>\n",
       "      <td>서울특별시교육청</td>\n",
       "      <td>3</td>\n",
       "      <td>한영외국어고등학교</td>\n",
       "      <td>...</td>\n",
       "      <td>179.0</td>\n",
       "      <td>78.9</td>\n",
       "      <td>NaN</td>\n",
       "      <td>NaN</td>\n",
       "      <td>NaN</td>\n",
       "      <td>NaN</td>\n",
       "      <td>NaN</td>\n",
       "      <td>NaN</td>\n",
       "      <td>NaN</td>\n",
       "      <td>NaN</td>\n",
       "    </tr>\n",
       "    <tr>\n",
       "      <th>3</th>\n",
       "      <td>Aa014남40116</td>\n",
       "      <td>156.358138</td>\n",
       "      <td>Aa01</td>\n",
       "      <td>대도시/중소도시</td>\n",
       "      <td>특별/광역시</td>\n",
       "      <td>2015</td>\n",
       "      <td>서울</td>\n",
       "      <td>서울특별시교육청</td>\n",
       "      <td>1</td>\n",
       "      <td>서울대도초등학교</td>\n",
       "      <td>...</td>\n",
       "      <td>137.0</td>\n",
       "      <td>29.2</td>\n",
       "      <td>NaN</td>\n",
       "      <td>NaN</td>\n",
       "      <td>NaN</td>\n",
       "      <td>NaN</td>\n",
       "      <td>NaN</td>\n",
       "      <td>NaN</td>\n",
       "      <td>91.0</td>\n",
       "      <td>63.0</td>\n",
       "    </tr>\n",
       "    <tr>\n",
       "      <th>4</th>\n",
       "      <td>Ab212남20127</td>\n",
       "      <td>94.351361</td>\n",
       "      <td>Ab21</td>\n",
       "      <td>대도시/중소도시</td>\n",
       "      <td>특별/광역시</td>\n",
       "      <td>2015</td>\n",
       "      <td>서울</td>\n",
       "      <td>서울특별시교육청</td>\n",
       "      <td>2</td>\n",
       "      <td>불광중학교</td>\n",
       "      <td>...</td>\n",
       "      <td>154.9</td>\n",
       "      <td>53.5</td>\n",
       "      <td>NaN</td>\n",
       "      <td>NaN</td>\n",
       "      <td>NaN</td>\n",
       "      <td>NaN</td>\n",
       "      <td>NaN</td>\n",
       "      <td>NaN</td>\n",
       "      <td>NaN</td>\n",
       "      <td>NaN</td>\n",
       "    </tr>\n",
       "  </tbody>\n",
       "</table>\n",
       "<p>5 rows × 25 columns</p>\n",
       "</div>"
      ],
      "text/plain": [
       "            ID       최종가중치  학교ID      도시규모 도시규모별분석용   학년도 광역시도       시도별  \\\n",
       "0  Ac283남30713   68.863671  Ac28  대도시/중소도시   특별/광역시  2015   서울  서울특별시교육청   \n",
       "1  Aa123남30304  145.957095  Aa12  대도시/중소도시   특별/광역시  2015   서울  서울특별시교육청   \n",
       "2  Ac253남30104  107.030275  Ac25  대도시/중소도시   특별/광역시  2015   서울  서울특별시교육청   \n",
       "3  Aa014남40116  156.358138  Aa01  대도시/중소도시   특별/광역시  2015   서울  서울특별시교육청   \n",
       "4  Ab212남20127   94.351361  Ab21  대도시/중소도시   특별/광역시  2015   서울  서울특별시교육청   \n",
       "\n",
       "   학교급별        학교명  ...      키   몸무게  혈당식전mgdl 총콜레스테롤mgdl  ASTUL  ALTUL  \\\n",
       "0     3     신서고등학교  ...  172.1  60.5       NaN        NaN    NaN    NaN   \n",
       "1     1   서울난향초등학교  ...  139.7  44.5       NaN        NaN    NaN    NaN   \n",
       "2     3  한영외국어고등학교  ...  179.0  78.9       NaN        NaN    NaN    NaN   \n",
       "3     1   서울대도초등학교  ...  137.0  29.2       NaN        NaN    NaN    NaN   \n",
       "4     2      불광중학교  ...  154.9  53.5       NaN        NaN    NaN    NaN   \n",
       "\n",
       "   혈색소gdl  간염검사   수축기   이완기  \n",
       "0     NaN   NaN   NaN   NaN  \n",
       "1     NaN   NaN   NaN   NaN  \n",
       "2     NaN   NaN   NaN   NaN  \n",
       "3     NaN   NaN  91.0  63.0  \n",
       "4     NaN   NaN   NaN   NaN  \n",
       "\n",
       "[5 rows x 25 columns]"
      ]
     },
     "execution_count": 372,
     "metadata": {},
     "output_type": "execute_result"
    }
   ],
   "source": [
    "stu_df = pd.read_csv('./data/학생건강검사 결과분석 rawdata_서울_2015.csv', encoding='cp949')\n",
    "stu_df.head()"
   ]
  },
  {
   "cell_type": "code",
   "execution_count": 373,
   "id": "f75013fa",
   "metadata": {
    "ExecuteTime": {
     "end_time": "2021-12-21T05:46:25.572443Z",
     "start_time": "2021-12-21T05:46:25.564441Z"
    }
   },
   "outputs": [
    {
     "data": {
      "text/plain": [
       "(9682, 25)"
      ]
     },
     "execution_count": 373,
     "metadata": {},
     "output_type": "execute_result"
    }
   ],
   "source": [
    "stu_df.shape"
   ]
  },
  {
   "cell_type": "code",
   "execution_count": 375,
   "id": "22eba81f",
   "metadata": {
    "ExecuteTime": {
     "end_time": "2021-12-21T05:46:53.165965Z",
     "start_time": "2021-12-21T05:46:53.142960Z"
    }
   },
   "outputs": [
    {
     "data": {
      "text/html": [
       "<div>\n",
       "<style scoped>\n",
       "    .dataframe tbody tr th:only-of-type {\n",
       "        vertical-align: middle;\n",
       "    }\n",
       "\n",
       "    .dataframe tbody tr th {\n",
       "        vertical-align: top;\n",
       "    }\n",
       "\n",
       "    .dataframe thead th {\n",
       "        text-align: right;\n",
       "    }\n",
       "</style>\n",
       "<table border=\"1\" class=\"dataframe\">\n",
       "  <thead>\n",
       "    <tr style=\"text-align: right;\">\n",
       "      <th></th>\n",
       "      <th>학교명</th>\n",
       "      <th>성별</th>\n",
       "      <th>키</th>\n",
       "      <th>몸무게</th>\n",
       "    </tr>\n",
       "  </thead>\n",
       "  <tbody>\n",
       "    <tr>\n",
       "      <th>0</th>\n",
       "      <td>신서고등학교</td>\n",
       "      <td>남</td>\n",
       "      <td>172.1</td>\n",
       "      <td>60.5</td>\n",
       "    </tr>\n",
       "    <tr>\n",
       "      <th>1</th>\n",
       "      <td>서울난향초등학교</td>\n",
       "      <td>남</td>\n",
       "      <td>139.7</td>\n",
       "      <td>44.5</td>\n",
       "    </tr>\n",
       "    <tr>\n",
       "      <th>2</th>\n",
       "      <td>한영외국어고등학교</td>\n",
       "      <td>남</td>\n",
       "      <td>179.0</td>\n",
       "      <td>78.9</td>\n",
       "    </tr>\n",
       "    <tr>\n",
       "      <th>3</th>\n",
       "      <td>서울대도초등학교</td>\n",
       "      <td>남</td>\n",
       "      <td>137.0</td>\n",
       "      <td>29.2</td>\n",
       "    </tr>\n",
       "    <tr>\n",
       "      <th>4</th>\n",
       "      <td>불광중학교</td>\n",
       "      <td>남</td>\n",
       "      <td>154.9</td>\n",
       "      <td>53.5</td>\n",
       "    </tr>\n",
       "  </tbody>\n",
       "</table>\n",
       "</div>"
      ],
      "text/plain": [
       "         학교명 성별      키   몸무게\n",
       "0     신서고등학교  남  172.1  60.5\n",
       "1   서울난향초등학교  남  139.7  44.5\n",
       "2  한영외국어고등학교  남  179.0  78.9\n",
       "3   서울대도초등학교  남  137.0  29.2\n",
       "4      불광중학교  남  154.9  53.5"
      ]
     },
     "execution_count": 375,
     "metadata": {},
     "output_type": "execute_result"
    }
   ],
   "source": [
    "stu_info = stu_df[['학교명','성별','키','몸무게']]\n",
    "stu_info.head()"
   ]
  },
  {
   "cell_type": "code",
   "execution_count": 377,
   "id": "fdaa2ddf",
   "metadata": {
    "ExecuteTime": {
     "end_time": "2021-12-21T05:46:57.735131Z",
     "start_time": "2021-12-21T05:46:57.729130Z"
    }
   },
   "outputs": [
    {
     "name": "stdout",
     "output_type": "stream",
     "text": [
      "<class 'pandas.core.frame.DataFrame'>\n"
     ]
    }
   ],
   "source": [
    "print(type(stu_info))"
   ]
  },
  {
   "cell_type": "code",
   "execution_count": 378,
   "id": "d436f2e3",
   "metadata": {
    "ExecuteTime": {
     "end_time": "2021-12-21T05:47:02.845053Z",
     "start_time": "2021-12-21T05:47:02.833050Z"
    }
   },
   "outputs": [
    {
     "data": {
      "text/plain": [
       "학교명    0\n",
       "성별     0\n",
       "키      0\n",
       "몸무게    0\n",
       "dtype: int64"
      ]
     },
     "execution_count": 378,
     "metadata": {},
     "output_type": "execute_result"
    }
   ],
   "source": [
    "stu_info.isnull().sum(0)"
   ]
  },
  {
   "cell_type": "code",
   "execution_count": 379,
   "id": "809b404f",
   "metadata": {
    "ExecuteTime": {
     "end_time": "2021-12-21T05:47:05.886300Z",
     "start_time": "2021-12-21T05:47:05.882300Z"
    }
   },
   "outputs": [],
   "source": [
    "from sklearn.preprocessing import LabelEncoder"
   ]
  },
  {
   "cell_type": "code",
   "execution_count": 380,
   "id": "3d39b011",
   "metadata": {
    "ExecuteTime": {
     "end_time": "2021-12-21T05:47:07.521043Z",
     "start_time": "2021-12-21T05:47:07.507040Z"
    }
   },
   "outputs": [
    {
     "data": {
      "text/html": [
       "<div>\n",
       "<style scoped>\n",
       "    .dataframe tbody tr th:only-of-type {\n",
       "        vertical-align: middle;\n",
       "    }\n",
       "\n",
       "    .dataframe tbody tr th {\n",
       "        vertical-align: top;\n",
       "    }\n",
       "\n",
       "    .dataframe thead th {\n",
       "        text-align: right;\n",
       "    }\n",
       "</style>\n",
       "<table border=\"1\" class=\"dataframe\">\n",
       "  <thead>\n",
       "    <tr style=\"text-align: right;\">\n",
       "      <th></th>\n",
       "      <th>성별</th>\n",
       "      <th>키</th>\n",
       "      <th>몸무게</th>\n",
       "    </tr>\n",
       "  </thead>\n",
       "  <tbody>\n",
       "    <tr>\n",
       "      <th>0</th>\n",
       "      <td>남</td>\n",
       "      <td>172.1</td>\n",
       "      <td>60.5</td>\n",
       "    </tr>\n",
       "    <tr>\n",
       "      <th>1</th>\n",
       "      <td>남</td>\n",
       "      <td>139.7</td>\n",
       "      <td>44.5</td>\n",
       "    </tr>\n",
       "    <tr>\n",
       "      <th>2</th>\n",
       "      <td>남</td>\n",
       "      <td>179.0</td>\n",
       "      <td>78.9</td>\n",
       "    </tr>\n",
       "    <tr>\n",
       "      <th>3</th>\n",
       "      <td>남</td>\n",
       "      <td>137.0</td>\n",
       "      <td>29.2</td>\n",
       "    </tr>\n",
       "    <tr>\n",
       "      <th>4</th>\n",
       "      <td>남</td>\n",
       "      <td>154.9</td>\n",
       "      <td>53.5</td>\n",
       "    </tr>\n",
       "  </tbody>\n",
       "</table>\n",
       "</div>"
      ],
      "text/plain": [
       "  성별      키   몸무게\n",
       "0  남  172.1  60.5\n",
       "1  남  139.7  44.5\n",
       "2  남  179.0  78.9\n",
       "3  남  137.0  29.2\n",
       "4  남  154.9  53.5"
      ]
     },
     "execution_count": 380,
     "metadata": {},
     "output_type": "execute_result"
    }
   ],
   "source": [
    "X = stu_info.drop(['학교명'], axis=1)\n",
    "X.head()"
   ]
  },
  {
   "cell_type": "code",
   "execution_count": 381,
   "id": "31d8701b",
   "metadata": {
    "ExecuteTime": {
     "end_time": "2021-12-21T05:47:08.211797Z",
     "start_time": "2021-12-21T05:47:08.193794Z"
    }
   },
   "outputs": [
    {
     "data": {
      "text/plain": [
       "0       신서고등학교\n",
       "1     서울난향초등학교\n",
       "2    한영외국어고등학교\n",
       "3     서울대도초등학교\n",
       "4        불광중학교\n",
       "Name: 학교명, dtype: object"
      ]
     },
     "execution_count": 381,
     "metadata": {},
     "output_type": "execute_result"
    }
   ],
   "source": [
    "y = stu_info['학교명']\n",
    "y.head()"
   ]
  },
  {
   "cell_type": "code",
   "execution_count": 382,
   "id": "554f82a6",
   "metadata": {
    "ExecuteTime": {
     "end_time": "2021-12-21T05:47:09.401182Z",
     "start_time": "2021-12-21T05:47:09.378193Z"
    }
   },
   "outputs": [
    {
     "data": {
      "text/html": [
       "<div>\n",
       "<style scoped>\n",
       "    .dataframe tbody tr th:only-of-type {\n",
       "        vertical-align: middle;\n",
       "    }\n",
       "\n",
       "    .dataframe tbody tr th {\n",
       "        vertical-align: top;\n",
       "    }\n",
       "\n",
       "    .dataframe thead th {\n",
       "        text-align: right;\n",
       "    }\n",
       "</style>\n",
       "<table border=\"1\" class=\"dataframe\">\n",
       "  <thead>\n",
       "    <tr style=\"text-align: right;\">\n",
       "      <th></th>\n",
       "      <th>성별</th>\n",
       "      <th>키</th>\n",
       "      <th>몸무게</th>\n",
       "    </tr>\n",
       "  </thead>\n",
       "  <tbody>\n",
       "    <tr>\n",
       "      <th>0</th>\n",
       "      <td>0</td>\n",
       "      <td>172.1</td>\n",
       "      <td>60.5</td>\n",
       "    </tr>\n",
       "    <tr>\n",
       "      <th>1</th>\n",
       "      <td>0</td>\n",
       "      <td>139.7</td>\n",
       "      <td>44.5</td>\n",
       "    </tr>\n",
       "    <tr>\n",
       "      <th>2</th>\n",
       "      <td>0</td>\n",
       "      <td>179.0</td>\n",
       "      <td>78.9</td>\n",
       "    </tr>\n",
       "    <tr>\n",
       "      <th>3</th>\n",
       "      <td>0</td>\n",
       "      <td>137.0</td>\n",
       "      <td>29.2</td>\n",
       "    </tr>\n",
       "    <tr>\n",
       "      <th>4</th>\n",
       "      <td>0</td>\n",
       "      <td>154.9</td>\n",
       "      <td>53.5</td>\n",
       "    </tr>\n",
       "    <tr>\n",
       "      <th>...</th>\n",
       "      <td>...</td>\n",
       "      <td>...</td>\n",
       "      <td>...</td>\n",
       "    </tr>\n",
       "    <tr>\n",
       "      <th>9677</th>\n",
       "      <td>1</td>\n",
       "      <td>150.8</td>\n",
       "      <td>37.4</td>\n",
       "    </tr>\n",
       "    <tr>\n",
       "      <th>9678</th>\n",
       "      <td>1</td>\n",
       "      <td>156.7</td>\n",
       "      <td>79.3</td>\n",
       "    </tr>\n",
       "    <tr>\n",
       "      <th>9679</th>\n",
       "      <td>1</td>\n",
       "      <td>148.5</td>\n",
       "      <td>40.2</td>\n",
       "    </tr>\n",
       "    <tr>\n",
       "      <th>9680</th>\n",
       "      <td>1</td>\n",
       "      <td>138.4</td>\n",
       "      <td>41.4</td>\n",
       "    </tr>\n",
       "    <tr>\n",
       "      <th>9681</th>\n",
       "      <td>0</td>\n",
       "      <td>172.5</td>\n",
       "      <td>67.1</td>\n",
       "    </tr>\n",
       "  </tbody>\n",
       "</table>\n",
       "<p>9682 rows × 3 columns</p>\n",
       "</div>"
      ],
      "text/plain": [
       "      성별      키   몸무게\n",
       "0      0  172.1  60.5\n",
       "1      0  139.7  44.5\n",
       "2      0  179.0  78.9\n",
       "3      0  137.0  29.2\n",
       "4      0  154.9  53.5\n",
       "...   ..    ...   ...\n",
       "9677   1  150.8  37.4\n",
       "9678   1  156.7  79.3\n",
       "9679   1  148.5  40.2\n",
       "9680   1  138.4  41.4\n",
       "9681   0  172.5  67.1\n",
       "\n",
       "[9682 rows x 3 columns]"
      ]
     },
     "execution_count": 382,
     "metadata": {},
     "output_type": "execute_result"
    }
   ],
   "source": [
    "#남자를 0 여자를 1 \n",
    "encoder = LabelEncoder()\n",
    "#레이블 인코딩\n",
    "X['성별'] = encoder.fit_transform(X['성별'])\n",
    "X"
   ]
  },
  {
   "cell_type": "code",
   "execution_count": 383,
   "id": "1dedbb18",
   "metadata": {
    "ExecuteTime": {
     "end_time": "2021-12-21T05:47:11.348338Z",
     "start_time": "2021-12-21T05:47:11.338336Z"
    }
   },
   "outputs": [
    {
     "data": {
      "text/plain": [
       "0          신서고등학교\n",
       "1        서울난향초등학교\n",
       "2       한영외국어고등학교\n",
       "3        서울대도초등학교\n",
       "4           불광중학교\n",
       "          ...    \n",
       "9677       경기초등학교\n",
       "9678     성심여자고등학교\n",
       "9679     서울길원초등학교\n",
       "9680       경기초등학교\n",
       "9681        도곡중학교\n",
       "Name: 학교명, Length: 9682, dtype: object"
      ]
     },
     "execution_count": 383,
     "metadata": {},
     "output_type": "execute_result"
    }
   ],
   "source": [
    "#X의 학교를 원핫 벡터로 정리 \n",
    "#초등학교 - 0\n",
    "#중학교 - 1\n",
    "#고등학교 - 2\n",
    "y"
   ]
  },
  {
   "cell_type": "code",
   "execution_count": 384,
   "id": "39074e1f",
   "metadata": {
    "ExecuteTime": {
     "end_time": "2021-12-21T05:47:13.106561Z",
     "start_time": "2021-12-21T05:47:13.090557Z"
    }
   },
   "outputs": [
    {
     "name": "stderr",
     "output_type": "stream",
     "text": [
      "C:\\Users\\admin\\AppData\\Local\\Temp/ipykernel_17256/2307059529.py:1: SettingWithCopyWarning: \n",
      "A value is trying to be set on a copy of a slice from a DataFrame\n",
      "\n",
      "See the caveats in the documentation: https://pandas.pydata.org/pandas-docs/stable/user_guide/indexing.html#returning-a-view-versus-a-copy\n",
      "  y[y.str.endswith(\"초등학교\", na= False)]= 0\n",
      "C:\\Users\\admin\\anaconda3\\envs\\tfenv\\lib\\site-packages\\pandas\\core\\generic.py:8870: SettingWithCopyWarning: \n",
      "A value is trying to be set on a copy of a slice from a DataFrame\n",
      "\n",
      "See the caveats in the documentation: https://pandas.pydata.org/pandas-docs/stable/user_guide/indexing.html#returning-a-view-versus-a-copy\n",
      "  return self._update_inplace(result)\n"
     ]
    }
   ],
   "source": [
    "\n",
    "y[y.str.endswith(\"초등학교\", na= False)]= 0       \n",
    "    \n",
    "    "
   ]
  },
  {
   "cell_type": "code",
   "execution_count": 385,
   "id": "a7564168",
   "metadata": {
    "ExecuteTime": {
     "end_time": "2021-12-21T05:47:14.381495Z",
     "start_time": "2021-12-21T05:47:14.363492Z"
    }
   },
   "outputs": [
    {
     "data": {
      "text/plain": [
       "0          신서고등학교\n",
       "1               0\n",
       "2       한영외국어고등학교\n",
       "3               0\n",
       "4           불광중학교\n",
       "          ...    \n",
       "9677            0\n",
       "9678     성심여자고등학교\n",
       "9679            0\n",
       "9680            0\n",
       "9681        도곡중학교\n",
       "Name: 학교명, Length: 9682, dtype: object"
      ]
     },
     "execution_count": 385,
     "metadata": {},
     "output_type": "execute_result"
    }
   ],
   "source": [
    "y"
   ]
  },
  {
   "cell_type": "code",
   "execution_count": 386,
   "id": "76f11512",
   "metadata": {
    "ExecuteTime": {
     "end_time": "2021-12-21T05:47:15.027657Z",
     "start_time": "2021-12-21T05:47:15.010654Z"
    }
   },
   "outputs": [
    {
     "name": "stderr",
     "output_type": "stream",
     "text": [
      "C:\\Users\\admin\\AppData\\Local\\Temp/ipykernel_17256/1056172834.py:1: SettingWithCopyWarning: \n",
      "A value is trying to be set on a copy of a slice from a DataFrame\n",
      "\n",
      "See the caveats in the documentation: https://pandas.pydata.org/pandas-docs/stable/user_guide/indexing.html#returning-a-view-versus-a-copy\n",
      "  y[y.str.endswith(\"중학교\", na= False)]= 1\n"
     ]
    }
   ],
   "source": [
    "y[y.str.endswith(\"중학교\", na= False)]= 1  "
   ]
  },
  {
   "cell_type": "code",
   "execution_count": 387,
   "id": "41d8d300",
   "metadata": {
    "ExecuteTime": {
     "end_time": "2021-12-21T05:47:15.703410Z",
     "start_time": "2021-12-21T05:47:15.690408Z"
    }
   },
   "outputs": [
    {
     "name": "stderr",
     "output_type": "stream",
     "text": [
      "C:\\Users\\admin\\AppData\\Local\\Temp/ipykernel_17256/3623742705.py:1: SettingWithCopyWarning: \n",
      "A value is trying to be set on a copy of a slice from a DataFrame\n",
      "\n",
      "See the caveats in the documentation: https://pandas.pydata.org/pandas-docs/stable/user_guide/indexing.html#returning-a-view-versus-a-copy\n",
      "  y[y.str.endswith(\"고등학교\", na= False)]= 2\n"
     ]
    }
   ],
   "source": [
    "y[y.str.endswith(\"고등학교\", na= False)]= 2"
   ]
  },
  {
   "cell_type": "code",
   "execution_count": 388,
   "id": "4e1336d1",
   "metadata": {
    "ExecuteTime": {
     "end_time": "2021-12-21T05:47:16.303545Z",
     "start_time": "2021-12-21T05:47:16.290544Z"
    }
   },
   "outputs": [
    {
     "data": {
      "text/plain": [
       "0       2\n",
       "1       0\n",
       "2       2\n",
       "3       0\n",
       "4       1\n",
       "       ..\n",
       "9677    0\n",
       "9678    2\n",
       "9679    0\n",
       "9680    0\n",
       "9681    1\n",
       "Name: 학교명, Length: 9682, dtype: object"
      ]
     },
     "execution_count": 388,
     "metadata": {},
     "output_type": "execute_result"
    }
   ],
   "source": [
    "y"
   ]
  },
  {
   "cell_type": "code",
   "execution_count": 389,
   "id": "cfe2335f",
   "metadata": {
    "ExecuteTime": {
     "end_time": "2021-12-21T05:47:17.008705Z",
     "start_time": "2021-12-21T05:47:16.995702Z"
    }
   },
   "outputs": [
    {
     "data": {
      "text/plain": [
       "0       2.0\n",
       "1       0.0\n",
       "2       2.0\n",
       "3       0.0\n",
       "4       1.0\n",
       "       ... \n",
       "9677    0.0\n",
       "9678    2.0\n",
       "9679    0.0\n",
       "9680    0.0\n",
       "9681    1.0\n",
       "Name: 학교명, Length: 9682, dtype: float32"
      ]
     },
     "execution_count": 389,
     "metadata": {},
     "output_type": "execute_result"
    }
   ],
   "source": [
    "y = y.astype('float32')\n",
    "y"
   ]
  },
  {
   "cell_type": "code",
   "execution_count": 390,
   "id": "62376d70",
   "metadata": {
    "ExecuteTime": {
     "end_time": "2021-12-21T05:47:19.832504Z",
     "start_time": "2021-12-21T05:47:19.828502Z"
    }
   },
   "outputs": [],
   "source": [
    "from sklearn.model_selection import train_test_split"
   ]
  },
  {
   "cell_type": "code",
   "execution_count": 391,
   "id": "2e26dfa8",
   "metadata": {
    "ExecuteTime": {
     "end_time": "2021-12-21T05:47:20.507863Z",
     "start_time": "2021-12-21T05:47:20.491859Z"
    }
   },
   "outputs": [
    {
     "name": "stdout",
     "output_type": "stream",
     "text": [
      "(6777, 3)\n",
      "(2905, 3)\n"
     ]
    }
   ],
   "source": [
    "x_train, x_test, y_train, y_test = train_test_split(X,y,test_size=0.3, random_state=1, stratify=y)\n",
    "print(x_train.shape)\n",
    "print(x_test.shape)"
   ]
  },
  {
   "cell_type": "code",
   "execution_count": 392,
   "id": "e8991044",
   "metadata": {
    "ExecuteTime": {
     "end_time": "2021-12-21T05:47:21.414834Z",
     "start_time": "2021-12-21T05:47:21.411834Z"
    }
   },
   "outputs": [],
   "source": [
    "import tensorflow as tf\n",
    "from tensorflow import keras\n"
   ]
  },
  {
   "cell_type": "code",
   "execution_count": 393,
   "id": "6e98de57",
   "metadata": {
    "ExecuteTime": {
     "end_time": "2021-12-21T05:47:22.033340Z",
     "start_time": "2021-12-21T05:47:22.019336Z"
    }
   },
   "outputs": [],
   "source": [
    "model = keras.Sequential([keras.layers.Dense(3), keras.layers.Dense(128,activation='relu'), keras.layers.Dense(3, activation='softmax')])"
   ]
  },
  {
   "cell_type": "code",
   "execution_count": 394,
   "id": "88ca9725",
   "metadata": {
    "ExecuteTime": {
     "end_time": "2021-12-21T05:47:22.619822Z",
     "start_time": "2021-12-21T05:47:22.603817Z"
    }
   },
   "outputs": [],
   "source": [
    "model.compile(loss=\"sparse_categorical_crossentropy\", optimizer='Adam', metrics=['accuracy'])\n"
   ]
  },
  {
   "cell_type": "code",
   "execution_count": 395,
   "id": "56faf9ad",
   "metadata": {
    "ExecuteTime": {
     "end_time": "2021-12-21T05:47:23.477218Z",
     "start_time": "2021-12-21T05:47:23.468328Z"
    }
   },
   "outputs": [],
   "source": [
    "early_stop = keras.callbacks.EarlyStopping(monitor='val_loss', patience=10)\n"
   ]
  },
  {
   "cell_type": "code",
   "execution_count": 396,
   "id": "3ff08ef6",
   "metadata": {
    "ExecuteTime": {
     "end_time": "2021-12-21T05:47:31.414426Z",
     "start_time": "2021-12-21T05:47:23.963569Z"
    }
   },
   "outputs": [
    {
     "name": "stdout",
     "output_type": "stream",
     "text": [
      "Epoch 1/20\n",
      "WARNING:tensorflow:Layer dense_40 is casting an input tensor from dtype float64 to the layer's dtype of float32, which is new behavior in TensorFlow 2.  The layer has dtype float32 because its dtype defaults to floatx.\n",
      "\n",
      "If you intended to run this layer in float32, you can safely ignore this warning. If in doubt, this warning is likely only an issue if you are porting a TensorFlow 1.X model to TensorFlow 2.\n",
      "\n",
      "To change all layers to have dtype float64 by default, call `tf.keras.backend.set_floatx('float64')`. To change just this layer, pass dtype='float64' to the layer constructor. If you are the author of this layer, you can disable autocasting by passing autocast=False to the base Layer constructor.\n",
      "\n",
      "212/212 [==============================] - 0s 2ms/step - loss: 0.9767 - accuracy: 0.5457 - val_loss: 0.8143 - val_accuracy: 0.6358\n",
      "Epoch 2/20\n",
      "212/212 [==============================] - 0s 2ms/step - loss: 0.8191 - accuracy: 0.5979 - val_loss: 0.7690 - val_accuracy: 0.6341\n",
      "Epoch 3/20\n",
      "212/212 [==============================] - 0s 2ms/step - loss: 0.8204 - accuracy: 0.6022 - val_loss: 0.8108 - val_accuracy: 0.5931\n",
      "Epoch 4/20\n",
      "212/212 [==============================] - 0s 2ms/step - loss: 0.8211 - accuracy: 0.6025 - val_loss: 0.7651 - val_accuracy: 0.6341\n",
      "Epoch 5/20\n",
      "212/212 [==============================] - 0s 2ms/step - loss: 0.8027 - accuracy: 0.6094 - val_loss: 0.7489 - val_accuracy: 0.6396\n",
      "Epoch 6/20\n",
      "212/212 [==============================] - 0s 2ms/step - loss: 0.7892 - accuracy: 0.6162 - val_loss: 0.7559 - val_accuracy: 0.6389\n",
      "Epoch 7/20\n",
      "212/212 [==============================] - 0s 2ms/step - loss: 0.8049 - accuracy: 0.6115 - val_loss: 0.7662 - val_accuracy: 0.6389\n",
      "Epoch 8/20\n",
      "212/212 [==============================] - 0s 2ms/step - loss: 0.8038 - accuracy: 0.6125 - val_loss: 0.7553 - val_accuracy: 0.6399\n",
      "Epoch 9/20\n",
      "212/212 [==============================] - 0s 2ms/step - loss: 0.7929 - accuracy: 0.6174 - val_loss: 0.7285 - val_accuracy: 0.6503\n",
      "Epoch 10/20\n",
      "212/212 [==============================] - 0s 2ms/step - loss: 0.7817 - accuracy: 0.6143 - val_loss: 0.8103 - val_accuracy: 0.5191\n",
      "Epoch 11/20\n",
      "212/212 [==============================] - 0s 2ms/step - loss: 0.7944 - accuracy: 0.6158 - val_loss: 0.7634 - val_accuracy: 0.6420\n",
      "Epoch 12/20\n",
      "212/212 [==============================] - 0s 2ms/step - loss: 0.7826 - accuracy: 0.6225 - val_loss: 0.7284 - val_accuracy: 0.6513\n",
      "Epoch 13/20\n",
      "212/212 [==============================] - 0s 2ms/step - loss: 0.7813 - accuracy: 0.6165 - val_loss: 0.7618 - val_accuracy: 0.5883\n",
      "Epoch 14/20\n",
      "212/212 [==============================] - 0s 2ms/step - loss: 0.7758 - accuracy: 0.6158 - val_loss: 0.7188 - val_accuracy: 0.6554\n",
      "Epoch 15/20\n",
      "212/212 [==============================] - 0s 2ms/step - loss: 0.7655 - accuracy: 0.6249 - val_loss: 0.7421 - val_accuracy: 0.6458\n",
      "Epoch 16/20\n",
      "212/212 [==============================] - 0s 2ms/step - loss: 0.7674 - accuracy: 0.6255 - val_loss: 0.7187 - val_accuracy: 0.6523\n",
      "Epoch 17/20\n",
      "212/212 [==============================] - 0s 2ms/step - loss: 0.7611 - accuracy: 0.6234 - val_loss: 0.7414 - val_accuracy: 0.5707\n",
      "Epoch 18/20\n",
      "212/212 [==============================] - 0s 2ms/step - loss: 0.7689 - accuracy: 0.6156 - val_loss: 0.7881 - val_accuracy: 0.6437\n",
      "Epoch 19/20\n",
      "212/212 [==============================] - 0s 2ms/step - loss: 0.7567 - accuracy: 0.6305 - val_loss: 0.7272 - val_accuracy: 0.6571\n",
      "Epoch 20/20\n",
      "212/212 [==============================] - 0s 2ms/step - loss: 0.7559 - accuracy: 0.6302 - val_loss: 0.7372 - val_accuracy: 0.6451\n"
     ]
    }
   ],
   "source": [
    "history = model.fit(x_train, y_train, epochs=20,\n",
    "                    validation_data=(x_test, y_test),\n",
    "                    callbacks=[early_stop])"
   ]
  },
  {
   "cell_type": "code",
   "execution_count": 397,
   "id": "0d56512a",
   "metadata": {
    "ExecuteTime": {
     "end_time": "2021-12-21T05:47:31.684486Z",
     "start_time": "2021-12-21T05:47:31.416426Z"
    }
   },
   "outputs": [
    {
     "data": {
      "image/png": "[encoded data removed]",
      "text/plain": [
       "<Figure size 576x576 with 1 Axes>"
      ]
     },
     "metadata": {
      "needs_background": "light"
     },
     "output_type": "display_data"
    },
    {
     "data": {
      "image/png": "[encoded data removed]",
      "text/plain": [
       "<Figure size 576x576 with 1 Axes>"
      ]
     },
     "metadata": {
      "needs_background": "light"
     },
     "output_type": "display_data"
    }
   ],
   "source": [
    "import matplotlib.pyplot as plt \n",
    "\n",
    "train_history = history.history[\"loss\"]\n",
    "validation_history = history.history[\"val_loss\"]\n",
    "fig = plt.figure(figsize=(8, 8))\n",
    "plt.title(\"Loss History\")\n",
    "plt.xlabel(\"EPOCH\")\n",
    "plt.ylabel(\"LOSS Function\")\n",
    "plt.plot(train_history, \"red\")\n",
    "plt.plot(validation_history, 'blue')\n",
    "fig.savefig(\"train_history.png\")\n",
    "\n",
    "train_history = history.history[\"accuracy\"]\n",
    "validation_history = history.history[\"val_accuracy\"]\n",
    "fig = plt.figure(figsize=(8, 8))\n",
    "plt.title(\"Accuracy History\")\n",
    "plt.xlabel(\"EPOCH\")\n",
    "plt.ylabel(\"Accuracy\")\n",
    "plt.plot(train_history, \"red\")\n",
    "plt.plot(validation_history, 'blue')\n",
    "fig.savefig(\"accuracy_history.png\")"
   ]
  },
  {
   "cell_type": "markdown",
   "id": "0170373a",
   "metadata": {},
   "source": [
    "# 붓꽃 분류"
   ]
  },
  {
   "cell_type": "code",
   "execution_count": 398,
   "id": "68f44e1e",
   "metadata": {
    "ExecuteTime": {
     "end_time": "2021-12-21T05:47:31.699490Z",
     "start_time": "2021-12-21T05:47:31.685487Z"
    }
   },
   "outputs": [
    {
     "data": {
      "text/html": [
       "<div>\n",
       "<style scoped>\n",
       "    .dataframe tbody tr th:only-of-type {\n",
       "        vertical-align: middle;\n",
       "    }\n",
       "\n",
       "    .dataframe tbody tr th {\n",
       "        vertical-align: top;\n",
       "    }\n",
       "\n",
       "    .dataframe thead th {\n",
       "        text-align: right;\n",
       "    }\n",
       "</style>\n",
       "<table border=\"1\" class=\"dataframe\">\n",
       "  <thead>\n",
       "    <tr style=\"text-align: right;\">\n",
       "      <th></th>\n",
       "      <th>5.1</th>\n",
       "      <th>3.5</th>\n",
       "      <th>1.4</th>\n",
       "      <th>0.2</th>\n",
       "      <th>Iris-setosa</th>\n",
       "    </tr>\n",
       "  </thead>\n",
       "  <tbody>\n",
       "    <tr>\n",
       "      <th>0</th>\n",
       "      <td>4.9</td>\n",
       "      <td>3.0</td>\n",
       "      <td>1.4</td>\n",
       "      <td>0.2</td>\n",
       "      <td>Iris-setosa</td>\n",
       "    </tr>\n",
       "    <tr>\n",
       "      <th>1</th>\n",
       "      <td>4.7</td>\n",
       "      <td>3.2</td>\n",
       "      <td>1.3</td>\n",
       "      <td>0.2</td>\n",
       "      <td>Iris-setosa</td>\n",
       "    </tr>\n",
       "    <tr>\n",
       "      <th>2</th>\n",
       "      <td>4.6</td>\n",
       "      <td>3.1</td>\n",
       "      <td>1.5</td>\n",
       "      <td>0.2</td>\n",
       "      <td>Iris-setosa</td>\n",
       "    </tr>\n",
       "    <tr>\n",
       "      <th>3</th>\n",
       "      <td>5.0</td>\n",
       "      <td>3.6</td>\n",
       "      <td>1.4</td>\n",
       "      <td>0.2</td>\n",
       "      <td>Iris-setosa</td>\n",
       "    </tr>\n",
       "    <tr>\n",
       "      <th>4</th>\n",
       "      <td>5.4</td>\n",
       "      <td>3.9</td>\n",
       "      <td>1.7</td>\n",
       "      <td>0.4</td>\n",
       "      <td>Iris-setosa</td>\n",
       "    </tr>\n",
       "    <tr>\n",
       "      <th>...</th>\n",
       "      <td>...</td>\n",
       "      <td>...</td>\n",
       "      <td>...</td>\n",
       "      <td>...</td>\n",
       "      <td>...</td>\n",
       "    </tr>\n",
       "    <tr>\n",
       "      <th>144</th>\n",
       "      <td>6.7</td>\n",
       "      <td>3.0</td>\n",
       "      <td>5.2</td>\n",
       "      <td>2.3</td>\n",
       "      <td>Iris-virginica</td>\n",
       "    </tr>\n",
       "    <tr>\n",
       "      <th>145</th>\n",
       "      <td>6.3</td>\n",
       "      <td>2.5</td>\n",
       "      <td>5.0</td>\n",
       "      <td>1.9</td>\n",
       "      <td>Iris-virginica</td>\n",
       "    </tr>\n",
       "    <tr>\n",
       "      <th>146</th>\n",
       "      <td>6.5</td>\n",
       "      <td>3.0</td>\n",
       "      <td>5.2</td>\n",
       "      <td>2.0</td>\n",
       "      <td>Iris-virginica</td>\n",
       "    </tr>\n",
       "    <tr>\n",
       "      <th>147</th>\n",
       "      <td>6.2</td>\n",
       "      <td>3.4</td>\n",
       "      <td>5.4</td>\n",
       "      <td>2.3</td>\n",
       "      <td>Iris-virginica</td>\n",
       "    </tr>\n",
       "    <tr>\n",
       "      <th>148</th>\n",
       "      <td>5.9</td>\n",
       "      <td>3.0</td>\n",
       "      <td>5.1</td>\n",
       "      <td>1.8</td>\n",
       "      <td>Iris-virginica</td>\n",
       "    </tr>\n",
       "  </tbody>\n",
       "</table>\n",
       "<p>149 rows × 5 columns</p>\n",
       "</div>"
      ],
      "text/plain": [
       "     5.1  3.5  1.4  0.2     Iris-setosa\n",
       "0    4.9  3.0  1.4  0.2     Iris-setosa\n",
       "1    4.7  3.2  1.3  0.2     Iris-setosa\n",
       "2    4.6  3.1  1.5  0.2     Iris-setosa\n",
       "3    5.0  3.6  1.4  0.2     Iris-setosa\n",
       "4    5.4  3.9  1.7  0.4     Iris-setosa\n",
       "..   ...  ...  ...  ...             ...\n",
       "144  6.7  3.0  5.2  2.3  Iris-virginica\n",
       "145  6.3  2.5  5.0  1.9  Iris-virginica\n",
       "146  6.5  3.0  5.2  2.0  Iris-virginica\n",
       "147  6.2  3.4  5.4  2.3  Iris-virginica\n",
       "148  5.9  3.0  5.1  1.8  Iris-virginica\n",
       "\n",
       "[149 rows x 5 columns]"
      ]
     },
     "execution_count": 398,
     "metadata": {},
     "output_type": "execute_result"
    }
   ],
   "source": [
    "flower_df = pd.read_csv('./data/iris.csv')\n",
    "flower_df"
   ]
  },
  {
   "cell_type": "code",
   "execution_count": 399,
   "id": "f721e476",
   "metadata": {
    "ExecuteTime": {
     "end_time": "2021-12-21T05:47:33.119135Z",
     "start_time": "2021-12-21T05:47:33.101130Z"
    }
   },
   "outputs": [
    {
     "data": {
      "text/plain": [
       "Iris-versicolor    50\n",
       "Iris-virginica     50\n",
       "Iris-setosa        49\n",
       "Name: Iris-setosa, dtype: int64"
      ]
     },
     "execution_count": 399,
     "metadata": {},
     "output_type": "execute_result"
    }
   ],
   "source": [
    "flower_df['Iris-setosa'].value_counts()"
   ]
  },
  {
   "cell_type": "code",
   "execution_count": 400,
   "id": "5811c708",
   "metadata": {
    "ExecuteTime": {
     "end_time": "2021-12-21T05:47:35.423209Z",
     "start_time": "2021-12-21T05:47:35.398203Z"
    }
   },
   "outputs": [
    {
     "data": {
      "text/html": [
       "<div>\n",
       "<style scoped>\n",
       "    .dataframe tbody tr th:only-of-type {\n",
       "        vertical-align: middle;\n",
       "    }\n",
       "\n",
       "    .dataframe tbody tr th {\n",
       "        vertical-align: top;\n",
       "    }\n",
       "\n",
       "    .dataframe thead th {\n",
       "        text-align: right;\n",
       "    }\n",
       "</style>\n",
       "<table border=\"1\" class=\"dataframe\">\n",
       "  <thead>\n",
       "    <tr style=\"text-align: right;\">\n",
       "      <th></th>\n",
       "      <th>5.1</th>\n",
       "      <th>3.5</th>\n",
       "      <th>1.4</th>\n",
       "      <th>0.2</th>\n",
       "    </tr>\n",
       "  </thead>\n",
       "  <tbody>\n",
       "    <tr>\n",
       "      <th>0</th>\n",
       "      <td>4.9</td>\n",
       "      <td>3.0</td>\n",
       "      <td>1.4</td>\n",
       "      <td>0.2</td>\n",
       "    </tr>\n",
       "    <tr>\n",
       "      <th>1</th>\n",
       "      <td>4.7</td>\n",
       "      <td>3.2</td>\n",
       "      <td>1.3</td>\n",
       "      <td>0.2</td>\n",
       "    </tr>\n",
       "    <tr>\n",
       "      <th>2</th>\n",
       "      <td>4.6</td>\n",
       "      <td>3.1</td>\n",
       "      <td>1.5</td>\n",
       "      <td>0.2</td>\n",
       "    </tr>\n",
       "    <tr>\n",
       "      <th>3</th>\n",
       "      <td>5.0</td>\n",
       "      <td>3.6</td>\n",
       "      <td>1.4</td>\n",
       "      <td>0.2</td>\n",
       "    </tr>\n",
       "    <tr>\n",
       "      <th>4</th>\n",
       "      <td>5.4</td>\n",
       "      <td>3.9</td>\n",
       "      <td>1.7</td>\n",
       "      <td>0.4</td>\n",
       "    </tr>\n",
       "    <tr>\n",
       "      <th>...</th>\n",
       "      <td>...</td>\n",
       "      <td>...</td>\n",
       "      <td>...</td>\n",
       "      <td>...</td>\n",
       "    </tr>\n",
       "    <tr>\n",
       "      <th>144</th>\n",
       "      <td>6.7</td>\n",
       "      <td>3.0</td>\n",
       "      <td>5.2</td>\n",
       "      <td>2.3</td>\n",
       "    </tr>\n",
       "    <tr>\n",
       "      <th>145</th>\n",
       "      <td>6.3</td>\n",
       "      <td>2.5</td>\n",
       "      <td>5.0</td>\n",
       "      <td>1.9</td>\n",
       "    </tr>\n",
       "    <tr>\n",
       "      <th>146</th>\n",
       "      <td>6.5</td>\n",
       "      <td>3.0</td>\n",
       "      <td>5.2</td>\n",
       "      <td>2.0</td>\n",
       "    </tr>\n",
       "    <tr>\n",
       "      <th>147</th>\n",
       "      <td>6.2</td>\n",
       "      <td>3.4</td>\n",
       "      <td>5.4</td>\n",
       "      <td>2.3</td>\n",
       "    </tr>\n",
       "    <tr>\n",
       "      <th>148</th>\n",
       "      <td>5.9</td>\n",
       "      <td>3.0</td>\n",
       "      <td>5.1</td>\n",
       "      <td>1.8</td>\n",
       "    </tr>\n",
       "  </tbody>\n",
       "</table>\n",
       "<p>149 rows × 4 columns</p>\n",
       "</div>"
      ],
      "text/plain": [
       "     5.1  3.5  1.4  0.2\n",
       "0    4.9  3.0  1.4  0.2\n",
       "1    4.7  3.2  1.3  0.2\n",
       "2    4.6  3.1  1.5  0.2\n",
       "3    5.0  3.6  1.4  0.2\n",
       "4    5.4  3.9  1.7  0.4\n",
       "..   ...  ...  ...  ...\n",
       "144  6.7  3.0  5.2  2.3\n",
       "145  6.3  2.5  5.0  1.9\n",
       "146  6.5  3.0  5.2  2.0\n",
       "147  6.2  3.4  5.4  2.3\n",
       "148  5.9  3.0  5.1  1.8\n",
       "\n",
       "[149 rows x 4 columns]"
      ]
     },
     "execution_count": 400,
     "metadata": {},
     "output_type": "execute_result"
    }
   ],
   "source": [
    "X= flower_df.drop('Iris-setosa', axis=1)\n",
    "X"
   ]
  },
  {
   "cell_type": "code",
   "execution_count": 401,
   "id": "79fb2212",
   "metadata": {
    "ExecuteTime": {
     "end_time": "2021-12-21T05:47:39.791378Z",
     "start_time": "2021-12-21T05:47:39.781376Z"
    }
   },
   "outputs": [
    {
     "data": {
      "text/plain": [
       "0         Iris-setosa\n",
       "1         Iris-setosa\n",
       "2         Iris-setosa\n",
       "3         Iris-setosa\n",
       "4         Iris-setosa\n",
       "            ...      \n",
       "144    Iris-virginica\n",
       "145    Iris-virginica\n",
       "146    Iris-virginica\n",
       "147    Iris-virginica\n",
       "148    Iris-virginica\n",
       "Name: Iris-setosa, Length: 149, dtype: object"
      ]
     },
     "execution_count": 401,
     "metadata": {},
     "output_type": "execute_result"
    }
   ],
   "source": [
    "\n",
    "\n",
    "y = flower_df['Iris-setosa']\n",
    "y"
   ]
  },
  {
   "cell_type": "code",
   "execution_count": 402,
   "id": "a6cb8f4f",
   "metadata": {
    "ExecuteTime": {
     "end_time": "2021-12-21T05:47:40.922202Z",
     "start_time": "2021-12-21T05:47:40.918201Z"
    }
   },
   "outputs": [
    {
     "data": {
      "text/plain": [
       "array([0, 0, 0, 0, 0, 0, 0, 0, 0, 0, 0, 0, 0, 0, 0, 0, 0, 0, 0, 0, 0, 0,\n",
       "       0, 0, 0, 0, 0, 0, 0, 0, 0, 0, 0, 0, 0, 0, 0, 0, 0, 0, 0, 0, 0, 0,\n",
       "       0, 0, 0, 0, 0, 1, 1, 1, 1, 1, 1, 1, 1, 1, 1, 1, 1, 1, 1, 1, 1, 1,\n",
       "       1, 1, 1, 1, 1, 1, 1, 1, 1, 1, 1, 1, 1, 1, 1, 1, 1, 1, 1, 1, 1, 1,\n",
       "       1, 1, 1, 1, 1, 1, 1, 1, 1, 1, 1, 2, 2, 2, 2, 2, 2, 2, 2, 2, 2, 2,\n",
       "       2, 2, 2, 2, 2, 2, 2, 2, 2, 2, 2, 2, 2, 2, 2, 2, 2, 2, 2, 2, 2, 2,\n",
       "       2, 2, 2, 2, 2, 2, 2, 2, 2, 2, 2, 2, 2, 2, 2, 2, 2])"
      ]
     },
     "execution_count": 402,
     "metadata": {},
     "output_type": "execute_result"
    }
   ],
   "source": [
    "#y를 바꿔줄겁니다! \n",
    "\n",
    "from sklearn.preprocessing import LabelEncoder\n",
    "\n",
    "enco = LabelEncoder()\n",
    "y = enco.fit_transform(y)\n",
    "y\n"
   ]
  },
  {
   "cell_type": "code",
   "execution_count": 403,
   "id": "053220de",
   "metadata": {
    "ExecuteTime": {
     "end_time": "2021-12-21T05:47:42.142365Z",
     "start_time": "2021-12-21T05:47:42.135363Z"
    }
   },
   "outputs": [
    {
     "name": "stdout",
     "output_type": "stream",
     "text": [
      "(149,)\n"
     ]
    }
   ],
   "source": [
    "print(y.shape)"
   ]
  },
  {
   "cell_type": "code",
   "execution_count": 404,
   "id": "6a96ea0c",
   "metadata": {
    "ExecuteTime": {
     "end_time": "2021-12-21T05:47:42.548418Z",
     "start_time": "2021-12-21T05:47:42.533416Z"
    }
   },
   "outputs": [],
   "source": [
    "x_train, x_test, y_train, y_test = train_test_split(X, y, test_size=0.3, random_state=1, stratify=y)"
   ]
  },
  {
   "cell_type": "code",
   "execution_count": 405,
   "id": "dcfd567f",
   "metadata": {
    "ExecuteTime": {
     "end_time": "2021-12-21T05:47:42.879459Z",
     "start_time": "2021-12-21T05:47:42.870457Z"
    }
   },
   "outputs": [],
   "source": [
    "model = keras.Sequential([keras.layers.Dense(3),\n",
    "                          keras.layers.Dense(128,activation='relu'),\n",
    "                          keras.layers.Dropout(rate=0.5),\n",
    "                          keras.layers.Dense(3, activation='softmax') ])"
   ]
  },
  {
   "cell_type": "code",
   "execution_count": 406,
   "id": "b4c11a38",
   "metadata": {
    "ExecuteTime": {
     "end_time": "2021-12-21T05:47:43.195129Z",
     "start_time": "2021-12-21T05:47:43.174497Z"
    }
   },
   "outputs": [],
   "source": [
    "model.compile(loss='sparse_categorical_crossentropy', optimizer='Adam', metrics=['accuracy'])"
   ]
  },
  {
   "cell_type": "code",
   "execution_count": 407,
   "id": "b2d3e224",
   "metadata": {
    "ExecuteTime": {
     "end_time": "2021-12-21T05:47:43.496541Z",
     "start_time": "2021-12-21T05:47:43.494539Z"
    }
   },
   "outputs": [],
   "source": [
    "early_stop = keras.callbacks.EarlyStopping(monitor='val_loss', patience=10)"
   ]
  },
  {
   "cell_type": "code",
   "execution_count": 408,
   "id": "6dfdb039",
   "metadata": {
    "ExecuteTime": {
     "end_time": "2021-12-21T05:47:44.729806Z",
     "start_time": "2021-12-21T05:47:43.942596Z"
    }
   },
   "outputs": [
    {
     "name": "stdout",
     "output_type": "stream",
     "text": [
      "Epoch 1/20\n",
      "WARNING:tensorflow:Layer dense_43 is casting an input tensor from dtype float64 to the layer's dtype of float32, which is new behavior in TensorFlow 2.  The layer has dtype float32 because its dtype defaults to floatx.\n",
      "\n",
      "If you intended to run this layer in float32, you can safely ignore this warning. If in doubt, this warning is likely only an issue if you are porting a TensorFlow 1.X model to TensorFlow 2.\n",
      "\n",
      "To change all layers to have dtype float64 by default, call `tf.keras.backend.set_floatx('float64')`. To change just this layer, pass dtype='float64' to the layer constructor. If you are the author of this layer, you can disable autocasting by passing autocast=False to the base Layer constructor.\n",
      "\n",
      "4/4 [==============================] - 0s 24ms/step - loss: 1.6929 - accuracy: 0.3654 - val_loss: 1.1398 - val_accuracy: 0.3333\n",
      "Epoch 2/20\n",
      "4/4 [==============================] - 0s 5ms/step - loss: 1.3803 - accuracy: 0.3942 - val_loss: 0.9796 - val_accuracy: 0.3333\n",
      "Epoch 3/20\n",
      "4/4 [==============================] - 0s 5ms/step - loss: 1.3562 - accuracy: 0.4231 - val_loss: 0.8887 - val_accuracy: 0.8667\n",
      "Epoch 4/20\n",
      "4/4 [==============================] - 0s 5ms/step - loss: 1.3833 - accuracy: 0.3942 - val_loss: 0.8339 - val_accuracy: 0.6889\n",
      "Epoch 5/20\n",
      "4/4 [==============================] - 0s 5ms/step - loss: 1.2011 - accuracy: 0.4712 - val_loss: 0.7969 - val_accuracy: 0.6667\n",
      "Epoch 6/20\n",
      "4/4 [==============================] - 0s 5ms/step - loss: 1.1106 - accuracy: 0.5096 - val_loss: 0.7633 - val_accuracy: 0.6667\n",
      "Epoch 7/20\n",
      "4/4 [==============================] - 0s 5ms/step - loss: 1.1194 - accuracy: 0.5385 - val_loss: 0.7293 - val_accuracy: 0.6667\n",
      "Epoch 8/20\n",
      "4/4 [==============================] - 0s 5ms/step - loss: 0.9981 - accuracy: 0.5481 - val_loss: 0.7000 - val_accuracy: 0.6667\n",
      "Epoch 9/20\n",
      "4/4 [==============================] - 0s 5ms/step - loss: 0.8603 - accuracy: 0.6635 - val_loss: 0.6776 - val_accuracy: 0.6667\n",
      "Epoch 10/20\n",
      "4/4 [==============================] - 0s 5ms/step - loss: 0.7893 - accuracy: 0.6538 - val_loss: 0.6611 - val_accuracy: 0.6667\n",
      "Epoch 11/20\n",
      "4/4 [==============================] - 0s 5ms/step - loss: 0.8363 - accuracy: 0.6154 - val_loss: 0.6452 - val_accuracy: 0.6667\n",
      "Epoch 12/20\n",
      "4/4 [==============================] - 0s 5ms/step - loss: 0.8259 - accuracy: 0.6250 - val_loss: 0.6286 - val_accuracy: 0.6667\n",
      "Epoch 13/20\n",
      "4/4 [==============================] - 0s 5ms/step - loss: 0.9376 - accuracy: 0.5385 - val_loss: 0.6135 - val_accuracy: 0.6667\n",
      "Epoch 14/20\n",
      "4/4 [==============================] - 0s 5ms/step - loss: 0.7031 - accuracy: 0.6731 - val_loss: 0.5976 - val_accuracy: 0.6667\n",
      "Epoch 15/20\n",
      "4/4 [==============================] - 0s 5ms/step - loss: 0.7861 - accuracy: 0.6923 - val_loss: 0.5821 - val_accuracy: 0.6889\n",
      "Epoch 16/20\n",
      "4/4 [==============================] - 0s 5ms/step - loss: 0.8466 - accuracy: 0.5865 - val_loss: 0.5651 - val_accuracy: 0.6889\n",
      "Epoch 17/20\n",
      "4/4 [==============================] - 0s 5ms/step - loss: 0.9202 - accuracy: 0.6250 - val_loss: 0.5542 - val_accuracy: 0.6889\n",
      "Epoch 18/20\n",
      "4/4 [==============================] - 0s 5ms/step - loss: 0.7215 - accuracy: 0.7115 - val_loss: 0.5422 - val_accuracy: 0.7333\n",
      "Epoch 19/20\n",
      "4/4 [==============================] - 0s 5ms/step - loss: 0.6664 - accuracy: 0.6827 - val_loss: 0.5320 - val_accuracy: 0.8222\n",
      "Epoch 20/20\n",
      "4/4 [==============================] - 0s 5ms/step - loss: 0.6774 - accuracy: 0.7212 - val_loss: 0.5223 - val_accuracy: 0.8222\n"
     ]
    }
   ],
   "source": [
    "history2 = model.fit(x_train, y_train, epochs=20, validation_data=(x_test, y_test), callbacks=[early_stop])"
   ]
  },
  {
   "cell_type": "code",
   "execution_count": 409,
   "id": "a517a739",
   "metadata": {
    "ExecuteTime": {
     "end_time": "2021-12-21T05:47:46.296239Z",
     "start_time": "2021-12-21T05:47:45.863134Z"
    }
   },
   "outputs": [
    {
     "data": {
      "image/png": "[encoded data removed]",
      "text/plain": [
       "<Figure size 576x576 with 1 Axes>"
      ]
     },
     "metadata": {
      "needs_background": "light"
     },
     "output_type": "display_data"
    },
    {
     "data": {
      "image/png": "[encoded data removed]",
      "text/plain": [
       "<Figure size 576x576 with 1 Axes>"
      ]
     },
     "metadata": {
      "needs_background": "light"
     },
     "output_type": "display_data"
    }
   ],
   "source": [
    "train_history = history2.history[\"loss\"]\n",
    "validation_history = history2.history[\"val_loss\"]\n",
    "fig = plt.figure(figsize=(8, 8))\n",
    "plt.title(\"Loss History\")\n",
    "plt.xlabel(\"EPOCH\")\n",
    "plt.ylabel(\"LOSS Function\")\n",
    "plt.plot(train_history, \"red\")\n",
    "plt.plot(validation_history, 'blue')\n",
    "fig.savefig(\"train_history.png\")\n",
    "\n",
    "train_history = history2.history[\"accuracy\"]\n",
    "validation_history = history2.history[\"val_accuracy\"]\n",
    "fig = plt.figure(figsize=(8, 8))\n",
    "plt.title(\"Accuracy History\")\n",
    "plt.xlabel(\"EPOCH\")\n",
    "plt.ylabel(\"Accuracy\")\n",
    "plt.plot(train_history, \"red\")\n",
    "plt.plot(validation_history, 'blue')\n",
    "fig.savefig(\"accuracy_history.png\")"
   ]
  },
  {
   "cell_type": "markdown",
   "id": "32ee4172",
   "metadata": {},
   "source": [
    "# 회귀 "
   ]
  },
  {
   "cell_type": "code",
   "execution_count": 550,
   "id": "f5ff3dde",
   "metadata": {
    "ExecuteTime": {
     "end_time": "2021-12-21T07:10:31.161778Z",
     "start_time": "2021-12-21T07:10:31.152777Z"
    }
   },
   "outputs": [],
   "source": [
    "import pandas as pd\n",
    "import tensorflow as tf\n",
    "from tensorflow import keras\n",
    "import matplotlib.pyplot as plt"
   ]
  },
  {
   "cell_type": "code",
   "execution_count": 551,
   "id": "7524a421",
   "metadata": {
    "ExecuteTime": {
     "end_time": "2021-12-21T07:10:31.672059Z",
     "start_time": "2021-12-21T07:10:31.519024Z"
    }
   },
   "outputs": [
    {
     "name": "stderr",
     "output_type": "stream",
     "text": [
      "C:\\Users\\admin\\anaconda3\\envs\\tfenv\\lib\\site-packages\\IPython\\core\\interactiveshell.py:3444: DtypeWarning: Columns (5) have mixed types.Specify dtype option on import or set low_memory=False.\n",
      "  exec(code_obj, self.user_global_ns, self.user_ns)\n"
     ]
    },
    {
     "data": {
      "text/html": [
       "<div>\n",
       "<style scoped>\n",
       "    .dataframe tbody tr th:only-of-type {\n",
       "        vertical-align: middle;\n",
       "    }\n",
       "\n",
       "    .dataframe tbody tr th {\n",
       "        vertical-align: top;\n",
       "    }\n",
       "\n",
       "    .dataframe thead th {\n",
       "        text-align: right;\n",
       "    }\n",
       "</style>\n",
       "<table border=\"1\" class=\"dataframe\">\n",
       "  <thead>\n",
       "    <tr style=\"text-align: right;\">\n",
       "      <th></th>\n",
       "      <th>순번</th>\n",
       "      <th>측정 일자</th>\n",
       "      <th>가슴 둘레 센티미터</th>\n",
       "      <th>소매길이 센티미터</th>\n",
       "      <th>신장 센티미터</th>\n",
       "      <th>허리 둘레 센티미터</th>\n",
       "      <th>샅높이 센티미터</th>\n",
       "      <th>머리 둘레 센티미터</th>\n",
       "      <th>발 길이 센티미터</th>\n",
       "      <th>몸무게 킬로그램</th>\n",
       "    </tr>\n",
       "  </thead>\n",
       "  <tbody>\n",
       "    <tr>\n",
       "      <th>0</th>\n",
       "      <td>1</td>\n",
       "      <td>20140106</td>\n",
       "      <td>96.3</td>\n",
       "      <td>92.6</td>\n",
       "      <td>185.5</td>\n",
       "      <td>82.5</td>\n",
       "      <td>83.8</td>\n",
       "      <td>57.1</td>\n",
       "      <td>28.5</td>\n",
       "      <td>73.2</td>\n",
       "    </tr>\n",
       "    <tr>\n",
       "      <th>1</th>\n",
       "      <td>2</td>\n",
       "      <td>2013</td>\n",
       "      <td>101.9</td>\n",
       "      <td>83.8</td>\n",
       "      <td>167.2</td>\n",
       "      <td>81.2</td>\n",
       "      <td>74.4</td>\n",
       "      <td>55.0</td>\n",
       "      <td>24.2</td>\n",
       "      <td>65.1</td>\n",
       "    </tr>\n",
       "    <tr>\n",
       "      <th>2</th>\n",
       "      <td>3</td>\n",
       "      <td>20140106</td>\n",
       "      <td>99.5</td>\n",
       "      <td>89.6</td>\n",
       "      <td>179.9</td>\n",
       "      <td>99.2</td>\n",
       "      <td>84.2</td>\n",
       "      <td>56.3</td>\n",
       "      <td>28.1</td>\n",
       "      <td>93.2</td>\n",
       "    </tr>\n",
       "    <tr>\n",
       "      <th>3</th>\n",
       "      <td>4</td>\n",
       "      <td>2013</td>\n",
       "      <td>98.6</td>\n",
       "      <td>85.5</td>\n",
       "      <td>171.4</td>\n",
       "      <td>85.9</td>\n",
       "      <td>76.4</td>\n",
       "      <td>54.5</td>\n",
       "      <td>27.4</td>\n",
       "      <td>71.6</td>\n",
       "    </tr>\n",
       "    <tr>\n",
       "      <th>4</th>\n",
       "      <td>5</td>\n",
       "      <td>20140106</td>\n",
       "      <td>94.7</td>\n",
       "      <td>88.1</td>\n",
       "      <td>176.9</td>\n",
       "      <td>78.3</td>\n",
       "      <td>79.7</td>\n",
       "      <td>58.5</td>\n",
       "      <td>26.5</td>\n",
       "      <td>67.1</td>\n",
       "    </tr>\n",
       "  </tbody>\n",
       "</table>\n",
       "</div>"
      ],
      "text/plain": [
       "   순번     측정 일자  가슴 둘레 센티미터  소매길이 센티미터  신장 센티미터 허리 둘레 센티미터  샅높이 센티미터  \\\n",
       "0   1  20140106        96.3       92.6    185.5       82.5      83.8   \n",
       "1   2      2013       101.9       83.8    167.2       81.2      74.4   \n",
       "2   3  20140106        99.5       89.6    179.9       99.2      84.2   \n",
       "3   4      2013        98.6       85.5    171.4       85.9      76.4   \n",
       "4   5  20140106        94.7       88.1    176.9       78.3      79.7   \n",
       "\n",
       "   머리 둘레 센티미터  발 길이 센티미터  몸무게 킬로그램  \n",
       "0        57.1       28.5      73.2  \n",
       "1        55.0       24.2      65.1  \n",
       "2        56.3       28.1      93.2  \n",
       "3        54.5       27.4      71.6  \n",
       "4        58.5       26.5      67.1  "
      ]
     },
     "execution_count": 551,
     "metadata": {},
     "output_type": "execute_result"
    }
   ],
   "source": [
    "data_df = pd.read_csv('./data/육군신체측정정보.csv', encoding='cp949')\n",
    "data_df.head()"
   ]
  },
  {
   "cell_type": "code",
   "execution_count": 552,
   "id": "44b7c787",
   "metadata": {
    "ExecuteTime": {
     "end_time": "2021-12-21T07:10:32.094017Z",
     "start_time": "2021-12-21T07:10:32.073013Z"
    }
   },
   "outputs": [
    {
     "data": {
      "text/html": [
       "<div>\n",
       "<style scoped>\n",
       "    .dataframe tbody tr th:only-of-type {\n",
       "        vertical-align: middle;\n",
       "    }\n",
       "\n",
       "    .dataframe tbody tr th {\n",
       "        vertical-align: top;\n",
       "    }\n",
       "\n",
       "    .dataframe thead th {\n",
       "        text-align: right;\n",
       "    }\n",
       "</style>\n",
       "<table border=\"1\" class=\"dataframe\">\n",
       "  <thead>\n",
       "    <tr style=\"text-align: right;\">\n",
       "      <th></th>\n",
       "      <th>가슴 둘레 센티미터</th>\n",
       "      <th>소매길이 센티미터</th>\n",
       "      <th>신장 센티미터</th>\n",
       "      <th>허리 둘레 센티미터</th>\n",
       "      <th>샅높이 센티미터</th>\n",
       "      <th>머리 둘레 센티미터</th>\n",
       "      <th>발 길이 센티미터</th>\n",
       "      <th>몸무게 킬로그램</th>\n",
       "    </tr>\n",
       "  </thead>\n",
       "  <tbody>\n",
       "    <tr>\n",
       "      <th>0</th>\n",
       "      <td>96.3</td>\n",
       "      <td>92.6</td>\n",
       "      <td>185.5</td>\n",
       "      <td>82.5</td>\n",
       "      <td>83.8</td>\n",
       "      <td>57.1</td>\n",
       "      <td>28.5</td>\n",
       "      <td>73.2</td>\n",
       "    </tr>\n",
       "    <tr>\n",
       "      <th>1</th>\n",
       "      <td>101.9</td>\n",
       "      <td>83.8</td>\n",
       "      <td>167.2</td>\n",
       "      <td>81.2</td>\n",
       "      <td>74.4</td>\n",
       "      <td>55.0</td>\n",
       "      <td>24.2</td>\n",
       "      <td>65.1</td>\n",
       "    </tr>\n",
       "    <tr>\n",
       "      <th>2</th>\n",
       "      <td>99.5</td>\n",
       "      <td>89.6</td>\n",
       "      <td>179.9</td>\n",
       "      <td>99.2</td>\n",
       "      <td>84.2</td>\n",
       "      <td>56.3</td>\n",
       "      <td>28.1</td>\n",
       "      <td>93.2</td>\n",
       "    </tr>\n",
       "    <tr>\n",
       "      <th>3</th>\n",
       "      <td>98.6</td>\n",
       "      <td>85.5</td>\n",
       "      <td>171.4</td>\n",
       "      <td>85.9</td>\n",
       "      <td>76.4</td>\n",
       "      <td>54.5</td>\n",
       "      <td>27.4</td>\n",
       "      <td>71.6</td>\n",
       "    </tr>\n",
       "    <tr>\n",
       "      <th>4</th>\n",
       "      <td>94.7</td>\n",
       "      <td>88.1</td>\n",
       "      <td>176.9</td>\n",
       "      <td>78.3</td>\n",
       "      <td>79.7</td>\n",
       "      <td>58.5</td>\n",
       "      <td>26.5</td>\n",
       "      <td>67.1</td>\n",
       "    </tr>\n",
       "  </tbody>\n",
       "</table>\n",
       "</div>"
      ],
      "text/plain": [
       "   가슴 둘레 센티미터  소매길이 센티미터  신장 센티미터 허리 둘레 센티미터  샅높이 센티미터  머리 둘레 센티미터  발 길이 센티미터  \\\n",
       "0        96.3       92.6    185.5       82.5      83.8        57.1       28.5   \n",
       "1       101.9       83.8    167.2       81.2      74.4        55.0       24.2   \n",
       "2        99.5       89.6    179.9       99.2      84.2        56.3       28.1   \n",
       "3        98.6       85.5    171.4       85.9      76.4        54.5       27.4   \n",
       "4        94.7       88.1    176.9       78.3      79.7        58.5       26.5   \n",
       "\n",
       "   몸무게 킬로그램  \n",
       "0      73.2  \n",
       "1      65.1  \n",
       "2      93.2  \n",
       "3      71.6  \n",
       "4      67.1  "
      ]
     },
     "execution_count": 552,
     "metadata": {},
     "output_type": "execute_result"
    }
   ],
   "source": [
    "X = data_df.drop(['순번','측정 일자'], axis=1)\n",
    "X.head()"
   ]
  },
  {
   "cell_type": "code",
   "execution_count": 553,
   "id": "2f29c440",
   "metadata": {
    "ExecuteTime": {
     "end_time": "2021-12-21T07:10:36.997057Z",
     "start_time": "2021-12-21T07:10:36.961049Z"
    }
   },
   "outputs": [
    {
     "ename": "TypeError",
     "evalue": "unsupported operand type(s) for +: 'float' and 'str'",
     "output_type": "error",
     "traceback": [
      "\u001b[1;31m---------------------------------------------------------------------------\u001b[0m",
      "\u001b[1;31mTypeError\u001b[0m                                 Traceback (most recent call last)",
      "\u001b[1;32m~\\anaconda3\\envs\\tfenv\\lib\\site-packages\\pandas\\core\\ops\\array_ops.py\u001b[0m in \u001b[0;36m_na_arithmetic_op\u001b[1;34m(left, right, op, is_cmp)\u001b[0m\n\u001b[0;32m    165\u001b[0m     \u001b[1;32mtry\u001b[0m\u001b[1;33m:\u001b[0m\u001b[1;33m\u001b[0m\u001b[1;33m\u001b[0m\u001b[0m\n\u001b[1;32m--> 166\u001b[1;33m         \u001b[0mresult\u001b[0m \u001b[1;33m=\u001b[0m \u001b[0mfunc\u001b[0m\u001b[1;33m(\u001b[0m\u001b[0mleft\u001b[0m\u001b[1;33m,\u001b[0m \u001b[0mright\u001b[0m\u001b[1;33m)\u001b[0m\u001b[1;33m\u001b[0m\u001b[1;33m\u001b[0m\u001b[0m\n\u001b[0m\u001b[0;32m    167\u001b[0m     \u001b[1;32mexcept\u001b[0m \u001b[0mTypeError\u001b[0m\u001b[1;33m:\u001b[0m\u001b[1;33m\u001b[0m\u001b[1;33m\u001b[0m\u001b[0m\n",
      "\u001b[1;31mTypeError\u001b[0m: unsupported operand type(s) for +: 'float' and 'str'",
      "\nDuring handling of the above exception, another exception occurred:\n",
      "\u001b[1;31mTypeError\u001b[0m                                 Traceback (most recent call last)",
      "\u001b[1;32m~\\AppData\\Local\\Temp/ipykernel_17256/2510022200.py\u001b[0m in \u001b[0;36m<module>\u001b[1;34m\u001b[0m\n\u001b[1;32m----> 1\u001b[1;33m \u001b[0mX\u001b[0m\u001b[1;33m[\u001b[0m\u001b[1;34m'허리 둘레 센티미터'\u001b[0m\u001b[1;33m]\u001b[0m \u001b[1;33m=\u001b[0m \u001b[0mX\u001b[0m\u001b[1;33m[\u001b[0m\u001b[1;34m'허리 둘레 센티미터'\u001b[0m\u001b[1;33m]\u001b[0m\u001b[1;33m+\u001b[0m\u001b[1;34m\"(\"\u001b[0m\u001b[1;33m\u001b[0m\u001b[1;33m\u001b[0m\u001b[0m\n\u001b[0m\u001b[0;32m      2\u001b[0m \u001b[0mX\u001b[0m\u001b[1;33m[\u001b[0m\u001b[1;34m'허리 둘레 센티미터'\u001b[0m\u001b[1;33m]\u001b[0m\u001b[1;33m\u001b[0m\u001b[1;33m\u001b[0m\u001b[0m\n",
      "\u001b[1;32m~\\anaconda3\\envs\\tfenv\\lib\\site-packages\\pandas\\core\\ops\\common.py\u001b[0m in \u001b[0;36mnew_method\u001b[1;34m(self, other)\u001b[0m\n\u001b[0;32m     67\u001b[0m         \u001b[0mother\u001b[0m \u001b[1;33m=\u001b[0m \u001b[0mitem_from_zerodim\u001b[0m\u001b[1;33m(\u001b[0m\u001b[0mother\u001b[0m\u001b[1;33m)\u001b[0m\u001b[1;33m\u001b[0m\u001b[1;33m\u001b[0m\u001b[0m\n\u001b[0;32m     68\u001b[0m \u001b[1;33m\u001b[0m\u001b[0m\n\u001b[1;32m---> 69\u001b[1;33m         \u001b[1;32mreturn\u001b[0m \u001b[0mmethod\u001b[0m\u001b[1;33m(\u001b[0m\u001b[0mself\u001b[0m\u001b[1;33m,\u001b[0m \u001b[0mother\u001b[0m\u001b[1;33m)\u001b[0m\u001b[1;33m\u001b[0m\u001b[1;33m\u001b[0m\u001b[0m\n\u001b[0m\u001b[0;32m     70\u001b[0m \u001b[1;33m\u001b[0m\u001b[0m\n\u001b[0;32m     71\u001b[0m     \u001b[1;32mreturn\u001b[0m \u001b[0mnew_method\u001b[0m\u001b[1;33m\u001b[0m\u001b[1;33m\u001b[0m\u001b[0m\n",
      "\u001b[1;32m~\\anaconda3\\envs\\tfenv\\lib\\site-packages\\pandas\\core\\arraylike.py\u001b[0m in \u001b[0;36m__add__\u001b[1;34m(self, other)\u001b[0m\n\u001b[0;32m     90\u001b[0m     \u001b[1;33m@\u001b[0m\u001b[0munpack_zerodim_and_defer\u001b[0m\u001b[1;33m(\u001b[0m\u001b[1;34m\"__add__\"\u001b[0m\u001b[1;33m)\u001b[0m\u001b[1;33m\u001b[0m\u001b[1;33m\u001b[0m\u001b[0m\n\u001b[0;32m     91\u001b[0m     \u001b[1;32mdef\u001b[0m \u001b[0m__add__\u001b[0m\u001b[1;33m(\u001b[0m\u001b[0mself\u001b[0m\u001b[1;33m,\u001b[0m \u001b[0mother\u001b[0m\u001b[1;33m)\u001b[0m\u001b[1;33m:\u001b[0m\u001b[1;33m\u001b[0m\u001b[1;33m\u001b[0m\u001b[0m\n\u001b[1;32m---> 92\u001b[1;33m         \u001b[1;32mreturn\u001b[0m \u001b[0mself\u001b[0m\u001b[1;33m.\u001b[0m\u001b[0m_arith_method\u001b[0m\u001b[1;33m(\u001b[0m\u001b[0mother\u001b[0m\u001b[1;33m,\u001b[0m \u001b[0moperator\u001b[0m\u001b[1;33m.\u001b[0m\u001b[0madd\u001b[0m\u001b[1;33m)\u001b[0m\u001b[1;33m\u001b[0m\u001b[1;33m\u001b[0m\u001b[0m\n\u001b[0m\u001b[0;32m     93\u001b[0m \u001b[1;33m\u001b[0m\u001b[0m\n\u001b[0;32m     94\u001b[0m     \u001b[1;33m@\u001b[0m\u001b[0munpack_zerodim_and_defer\u001b[0m\u001b[1;33m(\u001b[0m\u001b[1;34m\"__radd__\"\u001b[0m\u001b[1;33m)\u001b[0m\u001b[1;33m\u001b[0m\u001b[1;33m\u001b[0m\u001b[0m\n",
      "\u001b[1;32m~\\anaconda3\\envs\\tfenv\\lib\\site-packages\\pandas\\core\\series.py\u001b[0m in \u001b[0;36m_arith_method\u001b[1;34m(self, other, op)\u001b[0m\n\u001b[0;32m   5524\u001b[0m \u001b[1;33m\u001b[0m\u001b[0m\n\u001b[0;32m   5525\u001b[0m         \u001b[1;32mwith\u001b[0m \u001b[0mnp\u001b[0m\u001b[1;33m.\u001b[0m\u001b[0merrstate\u001b[0m\u001b[1;33m(\u001b[0m\u001b[0mall\u001b[0m\u001b[1;33m=\u001b[0m\u001b[1;34m\"ignore\"\u001b[0m\u001b[1;33m)\u001b[0m\u001b[1;33m:\u001b[0m\u001b[1;33m\u001b[0m\u001b[1;33m\u001b[0m\u001b[0m\n\u001b[1;32m-> 5526\u001b[1;33m             \u001b[0mresult\u001b[0m \u001b[1;33m=\u001b[0m \u001b[0mops\u001b[0m\u001b[1;33m.\u001b[0m\u001b[0marithmetic_op\u001b[0m\u001b[1;33m(\u001b[0m\u001b[0mlvalues\u001b[0m\u001b[1;33m,\u001b[0m \u001b[0mrvalues\u001b[0m\u001b[1;33m,\u001b[0m \u001b[0mop\u001b[0m\u001b[1;33m)\u001b[0m\u001b[1;33m\u001b[0m\u001b[1;33m\u001b[0m\u001b[0m\n\u001b[0m\u001b[0;32m   5527\u001b[0m \u001b[1;33m\u001b[0m\u001b[0m\n\u001b[0;32m   5528\u001b[0m         \u001b[1;32mreturn\u001b[0m \u001b[0mself\u001b[0m\u001b[1;33m.\u001b[0m\u001b[0m_construct_result\u001b[0m\u001b[1;33m(\u001b[0m\u001b[0mresult\u001b[0m\u001b[1;33m,\u001b[0m \u001b[0mname\u001b[0m\u001b[1;33m=\u001b[0m\u001b[0mres_name\u001b[0m\u001b[1;33m)\u001b[0m\u001b[1;33m\u001b[0m\u001b[1;33m\u001b[0m\u001b[0m\n",
      "\u001b[1;32m~\\anaconda3\\envs\\tfenv\\lib\\site-packages\\pandas\\core\\ops\\array_ops.py\u001b[0m in \u001b[0;36marithmetic_op\u001b[1;34m(left, right, op)\u001b[0m\n\u001b[0;32m    222\u001b[0m         \u001b[0m_bool_arith_check\u001b[0m\u001b[1;33m(\u001b[0m\u001b[0mop\u001b[0m\u001b[1;33m,\u001b[0m \u001b[0mleft\u001b[0m\u001b[1;33m,\u001b[0m \u001b[0mright\u001b[0m\u001b[1;33m)\u001b[0m\u001b[1;33m\u001b[0m\u001b[1;33m\u001b[0m\u001b[0m\n\u001b[0;32m    223\u001b[0m \u001b[1;33m\u001b[0m\u001b[0m\n\u001b[1;32m--> 224\u001b[1;33m         \u001b[0mres_values\u001b[0m \u001b[1;33m=\u001b[0m \u001b[0m_na_arithmetic_op\u001b[0m\u001b[1;33m(\u001b[0m\u001b[0mleft\u001b[0m\u001b[1;33m,\u001b[0m \u001b[0mright\u001b[0m\u001b[1;33m,\u001b[0m \u001b[0mop\u001b[0m\u001b[1;33m)\u001b[0m\u001b[1;33m\u001b[0m\u001b[1;33m\u001b[0m\u001b[0m\n\u001b[0m\u001b[0;32m    225\u001b[0m \u001b[1;33m\u001b[0m\u001b[0m\n\u001b[0;32m    226\u001b[0m     \u001b[1;32mreturn\u001b[0m \u001b[0mres_values\u001b[0m\u001b[1;33m\u001b[0m\u001b[1;33m\u001b[0m\u001b[0m\n",
      "\u001b[1;32m~\\anaconda3\\envs\\tfenv\\lib\\site-packages\\pandas\\core\\ops\\array_ops.py\u001b[0m in \u001b[0;36m_na_arithmetic_op\u001b[1;34m(left, right, op, is_cmp)\u001b[0m\n\u001b[0;32m    171\u001b[0m             \u001b[1;31m# Don't do this for comparisons, as that will handle complex numbers\u001b[0m\u001b[1;33m\u001b[0m\u001b[1;33m\u001b[0m\u001b[1;33m\u001b[0m\u001b[0m\n\u001b[0;32m    172\u001b[0m             \u001b[1;31m#  incorrectly, see GH#32047\u001b[0m\u001b[1;33m\u001b[0m\u001b[1;33m\u001b[0m\u001b[1;33m\u001b[0m\u001b[0m\n\u001b[1;32m--> 173\u001b[1;33m             \u001b[0mresult\u001b[0m \u001b[1;33m=\u001b[0m \u001b[0m_masked_arith_op\u001b[0m\u001b[1;33m(\u001b[0m\u001b[0mleft\u001b[0m\u001b[1;33m,\u001b[0m \u001b[0mright\u001b[0m\u001b[1;33m,\u001b[0m \u001b[0mop\u001b[0m\u001b[1;33m)\u001b[0m\u001b[1;33m\u001b[0m\u001b[1;33m\u001b[0m\u001b[0m\n\u001b[0m\u001b[0;32m    174\u001b[0m         \u001b[1;32melse\u001b[0m\u001b[1;33m:\u001b[0m\u001b[1;33m\u001b[0m\u001b[1;33m\u001b[0m\u001b[0m\n\u001b[0;32m    175\u001b[0m             \u001b[1;32mraise\u001b[0m\u001b[1;33m\u001b[0m\u001b[1;33m\u001b[0m\u001b[0m\n",
      "\u001b[1;32m~\\anaconda3\\envs\\tfenv\\lib\\site-packages\\pandas\\core\\ops\\array_ops.py\u001b[0m in \u001b[0;36m_masked_arith_op\u001b[1;34m(x, y, op)\u001b[0m\n\u001b[0;32m    129\u001b[0m \u001b[1;33m\u001b[0m\u001b[0m\n\u001b[0;32m    130\u001b[0m         \u001b[1;32mif\u001b[0m \u001b[0mmask\u001b[0m\u001b[1;33m.\u001b[0m\u001b[0many\u001b[0m\u001b[1;33m(\u001b[0m\u001b[1;33m)\u001b[0m\u001b[1;33m:\u001b[0m\u001b[1;33m\u001b[0m\u001b[1;33m\u001b[0m\u001b[0m\n\u001b[1;32m--> 131\u001b[1;33m             \u001b[0mresult\u001b[0m\u001b[1;33m[\u001b[0m\u001b[0mmask\u001b[0m\u001b[1;33m]\u001b[0m \u001b[1;33m=\u001b[0m \u001b[0mop\u001b[0m\u001b[1;33m(\u001b[0m\u001b[0mxrav\u001b[0m\u001b[1;33m[\u001b[0m\u001b[0mmask\u001b[0m\u001b[1;33m]\u001b[0m\u001b[1;33m,\u001b[0m \u001b[0my\u001b[0m\u001b[1;33m)\u001b[0m\u001b[1;33m\u001b[0m\u001b[1;33m\u001b[0m\u001b[0m\n\u001b[0m\u001b[0;32m    132\u001b[0m \u001b[1;33m\u001b[0m\u001b[0m\n\u001b[0;32m    133\u001b[0m     \u001b[0mnp\u001b[0m\u001b[1;33m.\u001b[0m\u001b[0mputmask\u001b[0m\u001b[1;33m(\u001b[0m\u001b[0mresult\u001b[0m\u001b[1;33m,\u001b[0m \u001b[1;33m~\u001b[0m\u001b[0mmask\u001b[0m\u001b[1;33m,\u001b[0m \u001b[0mnp\u001b[0m\u001b[1;33m.\u001b[0m\u001b[0mnan\u001b[0m\u001b[1;33m)\u001b[0m\u001b[1;33m\u001b[0m\u001b[1;33m\u001b[0m\u001b[0m\n",
      "\u001b[1;31mTypeError\u001b[0m: unsupported operand type(s) for +: 'float' and 'str'"
     ]
    }
   ],
   "source": [
    "X['허리 둘레 센티미터'] = X['허리 둘레 센티미터']+\"(\"\n",
    "X['허리 둘레 센티미터']"
   ]
  },
  {
   "cell_type": "code",
   "execution_count": 554,
   "id": "913b2db4",
   "metadata": {
    "ExecuteTime": {
     "end_time": "2021-12-21T07:10:40.845697Z",
     "start_time": "2021-12-21T07:10:40.761397Z"
    }
   },
   "outputs": [],
   "source": [
    "#String으로 들어간 값 찾았음. 바꿔주기 \n",
    "\n",
    "X['허리 둘레 센티미터'] = X['허리 둘레 센티미터'].astype('string')\n",
    "\n"
   ]
  },
  {
   "cell_type": "code",
   "execution_count": 555,
   "id": "e7e24dca",
   "metadata": {
    "ExecuteTime": {
     "end_time": "2021-12-21T07:10:41.295887Z",
     "start_time": "2021-12-21T07:10:41.265880Z"
    }
   },
   "outputs": [],
   "source": [
    "X['허리 둘레 센티미터'] = X['허리 둘레 센티미터']+\"(\"\n"
   ]
  },
  {
   "cell_type": "code",
   "execution_count": 556,
   "id": "8b84cedd",
   "metadata": {
    "ExecuteTime": {
     "end_time": "2021-12-21T07:10:41.745676Z",
     "start_time": "2021-12-21T07:10:41.729672Z"
    }
   },
   "outputs": [
    {
     "data": {
      "text/plain": [
       "0                   82.5(\n",
       "1                   81.2(\n",
       "2                   99.2(\n",
       "3                   85.9(\n",
       "4                   78.3(\n",
       "               ...       \n",
       "167975    86.7 (34.1 in)(\n",
       "167976    90.5 (35.6 in)(\n",
       "167977    94.3 (37.1 in)(\n",
       "167978    75.9 (29.9 in)(\n",
       "167979    73.0 (28.7 in)(\n",
       "Name: 허리 둘레 센티미터, Length: 167980, dtype: string"
      ]
     },
     "execution_count": 556,
     "metadata": {},
     "output_type": "execute_result"
    }
   ],
   "source": [
    "X['허리 둘레 센티미터']"
   ]
  },
  {
   "cell_type": "code",
   "execution_count": 557,
   "id": "bdf54fc7",
   "metadata": {
    "ExecuteTime": {
     "end_time": "2021-12-21T07:10:44.062515Z",
     "start_time": "2021-12-21T07:10:43.889269Z"
    }
   },
   "outputs": [],
   "source": [
    "# X['허리 둘레 센티미터'] = X['허리 둘레 센티미터'].str.split(\"(\")\n",
    "# X['허리 둘레 센티미터']\n",
    "\n",
    "size =[]\n",
    "for i in X['허리 둘레 센티미터']:\n",
    "    a = i.split(\"(\")\n",
    "    size.append(a[0])\n"
   ]
  },
  {
   "cell_type": "code",
   "execution_count": 558,
   "id": "9084bb57",
   "metadata": {
    "ExecuteTime": {
     "end_time": "2021-12-21T07:10:45.356585Z",
     "start_time": "2021-12-21T07:10:45.331579Z"
    }
   },
   "outputs": [
    {
     "data": {
      "text/html": [
       "<div>\n",
       "<style scoped>\n",
       "    .dataframe tbody tr th:only-of-type {\n",
       "        vertical-align: middle;\n",
       "    }\n",
       "\n",
       "    .dataframe tbody tr th {\n",
       "        vertical-align: top;\n",
       "    }\n",
       "\n",
       "    .dataframe thead th {\n",
       "        text-align: right;\n",
       "    }\n",
       "</style>\n",
       "<table border=\"1\" class=\"dataframe\">\n",
       "  <thead>\n",
       "    <tr style=\"text-align: right;\">\n",
       "      <th></th>\n",
       "      <th>가슴 둘레 센티미터</th>\n",
       "      <th>소매길이 센티미터</th>\n",
       "      <th>신장 센티미터</th>\n",
       "      <th>허리 둘레 센티미터</th>\n",
       "      <th>샅높이 센티미터</th>\n",
       "      <th>머리 둘레 센티미터</th>\n",
       "      <th>발 길이 센티미터</th>\n",
       "      <th>몸무게 킬로그램</th>\n",
       "      <th>허리 둘레</th>\n",
       "    </tr>\n",
       "  </thead>\n",
       "  <tbody>\n",
       "    <tr>\n",
       "      <th>0</th>\n",
       "      <td>96.3</td>\n",
       "      <td>92.6</td>\n",
       "      <td>185.5</td>\n",
       "      <td>82.5(</td>\n",
       "      <td>83.8</td>\n",
       "      <td>57.1</td>\n",
       "      <td>28.5</td>\n",
       "      <td>73.2</td>\n",
       "      <td>82.5</td>\n",
       "    </tr>\n",
       "    <tr>\n",
       "      <th>1</th>\n",
       "      <td>101.9</td>\n",
       "      <td>83.8</td>\n",
       "      <td>167.2</td>\n",
       "      <td>81.2(</td>\n",
       "      <td>74.4</td>\n",
       "      <td>55.0</td>\n",
       "      <td>24.2</td>\n",
       "      <td>65.1</td>\n",
       "      <td>81.2</td>\n",
       "    </tr>\n",
       "    <tr>\n",
       "      <th>2</th>\n",
       "      <td>99.5</td>\n",
       "      <td>89.6</td>\n",
       "      <td>179.9</td>\n",
       "      <td>99.2(</td>\n",
       "      <td>84.2</td>\n",
       "      <td>56.3</td>\n",
       "      <td>28.1</td>\n",
       "      <td>93.2</td>\n",
       "      <td>99.2</td>\n",
       "    </tr>\n",
       "    <tr>\n",
       "      <th>3</th>\n",
       "      <td>98.6</td>\n",
       "      <td>85.5</td>\n",
       "      <td>171.4</td>\n",
       "      <td>85.9(</td>\n",
       "      <td>76.4</td>\n",
       "      <td>54.5</td>\n",
       "      <td>27.4</td>\n",
       "      <td>71.6</td>\n",
       "      <td>85.9</td>\n",
       "    </tr>\n",
       "    <tr>\n",
       "      <th>4</th>\n",
       "      <td>94.7</td>\n",
       "      <td>88.1</td>\n",
       "      <td>176.9</td>\n",
       "      <td>78.3(</td>\n",
       "      <td>79.7</td>\n",
       "      <td>58.5</td>\n",
       "      <td>26.5</td>\n",
       "      <td>67.1</td>\n",
       "      <td>78.3</td>\n",
       "    </tr>\n",
       "    <tr>\n",
       "      <th>...</th>\n",
       "      <td>...</td>\n",
       "      <td>...</td>\n",
       "      <td>...</td>\n",
       "      <td>...</td>\n",
       "      <td>...</td>\n",
       "      <td>...</td>\n",
       "      <td>...</td>\n",
       "      <td>...</td>\n",
       "      <td>...</td>\n",
       "    </tr>\n",
       "    <tr>\n",
       "      <th>167975</th>\n",
       "      <td>100.6</td>\n",
       "      <td>86.4</td>\n",
       "      <td>173.2</td>\n",
       "      <td>86.7 (34.1 in)(</td>\n",
       "      <td>77.1</td>\n",
       "      <td>56.9</td>\n",
       "      <td>27.1</td>\n",
       "      <td>73.7</td>\n",
       "      <td>86.7</td>\n",
       "    </tr>\n",
       "    <tr>\n",
       "      <th>167976</th>\n",
       "      <td>97.9</td>\n",
       "      <td>82.7</td>\n",
       "      <td>166.3</td>\n",
       "      <td>90.5 (35.6 in)(</td>\n",
       "      <td>73.4</td>\n",
       "      <td>61.5</td>\n",
       "      <td>28.8</td>\n",
       "      <td>70.7</td>\n",
       "      <td>90.5</td>\n",
       "    </tr>\n",
       "    <tr>\n",
       "      <th>167977</th>\n",
       "      <td>97.9</td>\n",
       "      <td>87.2</td>\n",
       "      <td>175.2</td>\n",
       "      <td>94.3 (37.1 in)(</td>\n",
       "      <td>83.1</td>\n",
       "      <td>57.1</td>\n",
       "      <td>27.6</td>\n",
       "      <td>78.7</td>\n",
       "      <td>94.3</td>\n",
       "    </tr>\n",
       "    <tr>\n",
       "      <th>167978</th>\n",
       "      <td>85.3</td>\n",
       "      <td>86.8</td>\n",
       "      <td>173.6</td>\n",
       "      <td>75.9 (29.9 in)(</td>\n",
       "      <td>76.6</td>\n",
       "      <td>57.6</td>\n",
       "      <td>24.3</td>\n",
       "      <td>57.4</td>\n",
       "      <td>75.9</td>\n",
       "    </tr>\n",
       "    <tr>\n",
       "      <th>167979</th>\n",
       "      <td>86.6</td>\n",
       "      <td>88.3</td>\n",
       "      <td>175.8</td>\n",
       "      <td>73.0 (28.7 in)(</td>\n",
       "      <td>77.8</td>\n",
       "      <td>56.3</td>\n",
       "      <td>26.1</td>\n",
       "      <td>51.7</td>\n",
       "      <td>73.0</td>\n",
       "    </tr>\n",
       "  </tbody>\n",
       "</table>\n",
       "<p>167980 rows × 9 columns</p>\n",
       "</div>"
      ],
      "text/plain": [
       "        가슴 둘레 센티미터  소매길이 센티미터  신장 센티미터       허리 둘레 센티미터  샅높이 센티미터  머리 둘레 센티미터  \\\n",
       "0             96.3       92.6    185.5            82.5(      83.8        57.1   \n",
       "1            101.9       83.8    167.2            81.2(      74.4        55.0   \n",
       "2             99.5       89.6    179.9            99.2(      84.2        56.3   \n",
       "3             98.6       85.5    171.4            85.9(      76.4        54.5   \n",
       "4             94.7       88.1    176.9            78.3(      79.7        58.5   \n",
       "...            ...        ...      ...              ...       ...         ...   \n",
       "167975       100.6       86.4    173.2  86.7 (34.1 in)(      77.1        56.9   \n",
       "167976        97.9       82.7    166.3  90.5 (35.6 in)(      73.4        61.5   \n",
       "167977        97.9       87.2    175.2  94.3 (37.1 in)(      83.1        57.1   \n",
       "167978        85.3       86.8    173.6  75.9 (29.9 in)(      76.6        57.6   \n",
       "167979        86.6       88.3    175.8  73.0 (28.7 in)(      77.8        56.3   \n",
       "\n",
       "        발 길이 센티미터  몸무게 킬로그램  허리 둘레  \n",
       "0            28.5      73.2   82.5  \n",
       "1            24.2      65.1   81.2  \n",
       "2            28.1      93.2   99.2  \n",
       "3            27.4      71.6   85.9  \n",
       "4            26.5      67.1   78.3  \n",
       "...           ...       ...    ...  \n",
       "167975       27.1      73.7  86.7   \n",
       "167976       28.8      70.7  90.5   \n",
       "167977       27.6      78.7  94.3   \n",
       "167978       24.3      57.4  75.9   \n",
       "167979       26.1      51.7  73.0   \n",
       "\n",
       "[167980 rows x 9 columns]"
      ]
     },
     "execution_count": 558,
     "metadata": {},
     "output_type": "execute_result"
    }
   ],
   "source": [
    "X['허리 둘레']=size\n",
    "X"
   ]
  },
  {
   "cell_type": "code",
   "execution_count": 559,
   "id": "b079e68e",
   "metadata": {
    "ExecuteTime": {
     "end_time": "2021-12-21T07:10:47.163512Z",
     "start_time": "2021-12-21T07:10:47.138507Z"
    }
   },
   "outputs": [
    {
     "data": {
      "text/html": [
       "<div>\n",
       "<style scoped>\n",
       "    .dataframe tbody tr th:only-of-type {\n",
       "        vertical-align: middle;\n",
       "    }\n",
       "\n",
       "    .dataframe tbody tr th {\n",
       "        vertical-align: top;\n",
       "    }\n",
       "\n",
       "    .dataframe thead th {\n",
       "        text-align: right;\n",
       "    }\n",
       "</style>\n",
       "<table border=\"1\" class=\"dataframe\">\n",
       "  <thead>\n",
       "    <tr style=\"text-align: right;\">\n",
       "      <th></th>\n",
       "      <th>가슴 둘레 센티미터</th>\n",
       "      <th>소매길이 센티미터</th>\n",
       "      <th>신장 센티미터</th>\n",
       "      <th>샅높이 센티미터</th>\n",
       "      <th>머리 둘레 센티미터</th>\n",
       "      <th>발 길이 센티미터</th>\n",
       "      <th>몸무게 킬로그램</th>\n",
       "      <th>허리 둘레</th>\n",
       "    </tr>\n",
       "  </thead>\n",
       "  <tbody>\n",
       "    <tr>\n",
       "      <th>0</th>\n",
       "      <td>96.3</td>\n",
       "      <td>92.6</td>\n",
       "      <td>185.5</td>\n",
       "      <td>83.8</td>\n",
       "      <td>57.1</td>\n",
       "      <td>28.5</td>\n",
       "      <td>73.2</td>\n",
       "      <td>82.5</td>\n",
       "    </tr>\n",
       "    <tr>\n",
       "      <th>1</th>\n",
       "      <td>101.9</td>\n",
       "      <td>83.8</td>\n",
       "      <td>167.2</td>\n",
       "      <td>74.4</td>\n",
       "      <td>55.0</td>\n",
       "      <td>24.2</td>\n",
       "      <td>65.1</td>\n",
       "      <td>81.2</td>\n",
       "    </tr>\n",
       "    <tr>\n",
       "      <th>2</th>\n",
       "      <td>99.5</td>\n",
       "      <td>89.6</td>\n",
       "      <td>179.9</td>\n",
       "      <td>84.2</td>\n",
       "      <td>56.3</td>\n",
       "      <td>28.1</td>\n",
       "      <td>93.2</td>\n",
       "      <td>99.2</td>\n",
       "    </tr>\n",
       "    <tr>\n",
       "      <th>3</th>\n",
       "      <td>98.6</td>\n",
       "      <td>85.5</td>\n",
       "      <td>171.4</td>\n",
       "      <td>76.4</td>\n",
       "      <td>54.5</td>\n",
       "      <td>27.4</td>\n",
       "      <td>71.6</td>\n",
       "      <td>85.9</td>\n",
       "    </tr>\n",
       "    <tr>\n",
       "      <th>4</th>\n",
       "      <td>94.7</td>\n",
       "      <td>88.1</td>\n",
       "      <td>176.9</td>\n",
       "      <td>79.7</td>\n",
       "      <td>58.5</td>\n",
       "      <td>26.5</td>\n",
       "      <td>67.1</td>\n",
       "      <td>78.3</td>\n",
       "    </tr>\n",
       "    <tr>\n",
       "      <th>...</th>\n",
       "      <td>...</td>\n",
       "      <td>...</td>\n",
       "      <td>...</td>\n",
       "      <td>...</td>\n",
       "      <td>...</td>\n",
       "      <td>...</td>\n",
       "      <td>...</td>\n",
       "      <td>...</td>\n",
       "    </tr>\n",
       "    <tr>\n",
       "      <th>167975</th>\n",
       "      <td>100.6</td>\n",
       "      <td>86.4</td>\n",
       "      <td>173.2</td>\n",
       "      <td>77.1</td>\n",
       "      <td>56.9</td>\n",
       "      <td>27.1</td>\n",
       "      <td>73.7</td>\n",
       "      <td>86.7</td>\n",
       "    </tr>\n",
       "    <tr>\n",
       "      <th>167976</th>\n",
       "      <td>97.9</td>\n",
       "      <td>82.7</td>\n",
       "      <td>166.3</td>\n",
       "      <td>73.4</td>\n",
       "      <td>61.5</td>\n",
       "      <td>28.8</td>\n",
       "      <td>70.7</td>\n",
       "      <td>90.5</td>\n",
       "    </tr>\n",
       "    <tr>\n",
       "      <th>167977</th>\n",
       "      <td>97.9</td>\n",
       "      <td>87.2</td>\n",
       "      <td>175.2</td>\n",
       "      <td>83.1</td>\n",
       "      <td>57.1</td>\n",
       "      <td>27.6</td>\n",
       "      <td>78.7</td>\n",
       "      <td>94.3</td>\n",
       "    </tr>\n",
       "    <tr>\n",
       "      <th>167978</th>\n",
       "      <td>85.3</td>\n",
       "      <td>86.8</td>\n",
       "      <td>173.6</td>\n",
       "      <td>76.6</td>\n",
       "      <td>57.6</td>\n",
       "      <td>24.3</td>\n",
       "      <td>57.4</td>\n",
       "      <td>75.9</td>\n",
       "    </tr>\n",
       "    <tr>\n",
       "      <th>167979</th>\n",
       "      <td>86.6</td>\n",
       "      <td>88.3</td>\n",
       "      <td>175.8</td>\n",
       "      <td>77.8</td>\n",
       "      <td>56.3</td>\n",
       "      <td>26.1</td>\n",
       "      <td>51.7</td>\n",
       "      <td>73.0</td>\n",
       "    </tr>\n",
       "  </tbody>\n",
       "</table>\n",
       "<p>167980 rows × 8 columns</p>\n",
       "</div>"
      ],
      "text/plain": [
       "        가슴 둘레 센티미터  소매길이 센티미터  신장 센티미터  샅높이 센티미터  머리 둘레 센티미터  발 길이 센티미터  \\\n",
       "0             96.3       92.6    185.5      83.8        57.1       28.5   \n",
       "1            101.9       83.8    167.2      74.4        55.0       24.2   \n",
       "2             99.5       89.6    179.9      84.2        56.3       28.1   \n",
       "3             98.6       85.5    171.4      76.4        54.5       27.4   \n",
       "4             94.7       88.1    176.9      79.7        58.5       26.5   \n",
       "...            ...        ...      ...       ...         ...        ...   \n",
       "167975       100.6       86.4    173.2      77.1        56.9       27.1   \n",
       "167976        97.9       82.7    166.3      73.4        61.5       28.8   \n",
       "167977        97.9       87.2    175.2      83.1        57.1       27.6   \n",
       "167978        85.3       86.8    173.6      76.6        57.6       24.3   \n",
       "167979        86.6       88.3    175.8      77.8        56.3       26.1   \n",
       "\n",
       "        몸무게 킬로그램  허리 둘레  \n",
       "0           73.2   82.5  \n",
       "1           65.1   81.2  \n",
       "2           93.2   99.2  \n",
       "3           71.6   85.9  \n",
       "4           67.1   78.3  \n",
       "...          ...    ...  \n",
       "167975      73.7  86.7   \n",
       "167976      70.7  90.5   \n",
       "167977      78.7  94.3   \n",
       "167978      57.4  75.9   \n",
       "167979      51.7  73.0   \n",
       "\n",
       "[167980 rows x 8 columns]"
      ]
     },
     "execution_count": 559,
     "metadata": {},
     "output_type": "execute_result"
    }
   ],
   "source": [
    "X = X.drop(['허리 둘레 센티미터'], axis=1)\n",
    "X"
   ]
  },
  {
   "cell_type": "code",
   "execution_count": 560,
   "id": "fa18bcb3",
   "metadata": {
    "ExecuteTime": {
     "end_time": "2021-12-21T07:10:50.318528Z",
     "start_time": "2021-12-21T07:10:50.307518Z"
    }
   },
   "outputs": [
    {
     "data": {
      "text/plain": [
       "(167980, 8)"
      ]
     },
     "execution_count": 560,
     "metadata": {},
     "output_type": "execute_result"
    }
   ],
   "source": [
    "X.shape"
   ]
  },
  {
   "cell_type": "code",
   "execution_count": 561,
   "id": "45b74d09",
   "metadata": {
    "ExecuteTime": {
     "end_time": "2021-12-21T07:10:52.094551Z",
     "start_time": "2021-12-21T07:10:52.051540Z"
    }
   },
   "outputs": [],
   "source": [
    "X = X.astype('float32')"
   ]
  },
  {
   "cell_type": "code",
   "execution_count": 562,
   "id": "98746680",
   "metadata": {
    "ExecuteTime": {
     "end_time": "2021-12-21T07:10:57.059622Z",
     "start_time": "2021-12-21T07:10:57.051620Z"
    }
   },
   "outputs": [
    {
     "name": "stdout",
     "output_type": "stream",
     "text": [
      "(167980,)\n"
     ]
    }
   ],
   "source": [
    "y = data_df['몸무게 킬로그램']\n",
    "y.head()\n",
    "print(y.shape)"
   ]
  },
  {
   "cell_type": "code",
   "execution_count": 563,
   "id": "ef79a774",
   "metadata": {
    "ExecuteTime": {
     "end_time": "2021-12-21T07:10:58.775082Z",
     "start_time": "2021-12-21T07:10:58.765072Z"
    }
   },
   "outputs": [
    {
     "data": {
      "text/plain": [
       "0         73.2\n",
       "1         65.1\n",
       "2         93.2\n",
       "3         71.6\n",
       "4         67.1\n",
       "          ... \n",
       "167975    73.7\n",
       "167976    70.7\n",
       "167977    78.7\n",
       "167978    57.4\n",
       "167979    51.7\n",
       "Name: 몸무게 킬로그램, Length: 167980, dtype: float64"
      ]
     },
     "execution_count": 563,
     "metadata": {},
     "output_type": "execute_result"
    }
   ],
   "source": [
    "y"
   ]
  },
  {
   "cell_type": "code",
   "execution_count": 564,
   "id": "bfcf43c0",
   "metadata": {
    "ExecuteTime": {
     "end_time": "2021-12-21T07:11:00.919173Z",
     "start_time": "2021-12-21T07:11:00.908170Z"
    }
   },
   "outputs": [],
   "source": [
    "y= y.astype('float32')"
   ]
  },
  {
   "cell_type": "code",
   "execution_count": 565,
   "id": "b0a7fe15",
   "metadata": {
    "ExecuteTime": {
     "end_time": "2021-12-21T07:11:01.930609Z",
     "start_time": "2021-12-21T07:11:01.916606Z"
    }
   },
   "outputs": [],
   "source": [
    "#훈련, 테스트 데이터 분할 \n",
    "from sklearn.model_selection import train_test_split"
   ]
  },
  {
   "cell_type": "code",
   "execution_count": 566,
   "id": "5c979aa3",
   "metadata": {
    "ExecuteTime": {
     "end_time": "2021-12-21T07:11:03.360914Z",
     "start_time": "2021-12-21T07:11:03.332908Z"
    }
   },
   "outputs": [],
   "source": [
    "#분할\n",
    "x_train, x_test, y_train, y_test = train_test_split(X, y, test_size=0.3, random_state=1)"
   ]
  },
  {
   "cell_type": "code",
   "execution_count": 567,
   "id": "90937217",
   "metadata": {
    "ExecuteTime": {
     "end_time": "2021-12-21T07:11:06.348570Z",
     "start_time": "2021-12-21T07:11:06.333052Z"
    }
   },
   "outputs": [],
   "source": [
    "model = keras.Sequential([keras.layers.Dense(3), \n",
    "                          keras.layers.Dense(256, activation='relu'),\n",
    "                         keras.layers.Dense(256, activation='relu'),\n",
    "                         keras.layers.Dense(256, activation='relu'),\n",
    "                         keras.layers.Dense(256, activation='relu'),\n",
    "                         keras.layers.Dense(256, activation='relu'),\n",
    "                         keras.layers.Dense(3, activation='softmax')])"
   ]
  },
  {
   "cell_type": "code",
   "execution_count": 568,
   "id": "bb214ffc",
   "metadata": {
    "ExecuteTime": {
     "end_time": "2021-12-21T07:11:08.618979Z",
     "start_time": "2021-12-21T07:11:08.605984Z"
    }
   },
   "outputs": [],
   "source": [
    "model.compile(loss='mse', optimizer='Adam', metrics=['mse'])"
   ]
  },
  {
   "cell_type": "code",
   "execution_count": 569,
   "id": "b50300ca",
   "metadata": {
    "ExecuteTime": {
     "end_time": "2021-12-21T07:12:50.844090Z",
     "start_time": "2021-12-21T07:11:16.894103Z"
    }
   },
   "outputs": [
    {
     "name": "stdout",
     "output_type": "stream",
     "text": [
      "Epoch 1/20\n",
      "3675/3675 [==============================] - 8s 2ms/step - loss: 5343.4263 - mse: 5343.4263 - val_loss: 5356.8262 - val_mse: 5356.8262\n",
      "Epoch 2/20\n",
      "3675/3675 [==============================] - 8s 2ms/step - loss: 5343.4253 - mse: 5343.4253 - val_loss: 5356.8262 - val_mse: 5356.8262\n",
      "Epoch 3/20\n",
      "3675/3675 [==============================] - 7s 2ms/step - loss: 5343.4263 - mse: 5343.4263 - val_loss: 5356.8262 - val_mse: 5356.8262\n",
      "Epoch 4/20\n",
      "3675/3675 [==============================] - 8s 2ms/step - loss: 5343.4277 - mse: 5343.4277 - val_loss: 5356.8262 - val_mse: 5356.8262\n",
      "Epoch 5/20\n",
      "3675/3675 [==============================] - 7s 2ms/step - loss: 5343.4258 - mse: 5343.4258 - val_loss: 5356.8262 - val_mse: 5356.8262\n",
      "Epoch 6/20\n",
      "3675/3675 [==============================] - 8s 2ms/step - loss: 5343.4346 - mse: 5343.4346 - val_loss: 5356.8262 - val_mse: 5356.8262\n",
      "Epoch 7/20\n",
      "3675/3675 [==============================] - 7s 2ms/step - loss: 5343.4307 - mse: 5343.4307 - val_loss: 5356.8262 - val_mse: 5356.8262\n",
      "Epoch 8/20\n",
      "3675/3675 [==============================] - 7s 2ms/step - loss: 5343.4297 - mse: 5343.4297 - val_loss: 5356.8262 - val_mse: 5356.8262\n",
      "Epoch 9/20\n",
      "3675/3675 [==============================] - 7s 2ms/step - loss: 5343.4243 - mse: 5343.4243 - val_loss: 5356.8262 - val_mse: 5356.8262\n",
      "Epoch 10/20\n",
      "3675/3675 [==============================] - 13s 4ms/step - loss: 5343.4385 - mse: 5343.4385 - val_loss: 5356.8262 - val_mse: 5356.8262\n",
      "Epoch 11/20\n",
      "3675/3675 [==============================] - 13s 4ms/step - loss: 5343.4204 - mse: 5343.4204 - val_loss: 5356.8262 - val_mse: 5356.8262\n"
     ]
    }
   ],
   "source": [
    "early_stop = keras.callbacks.EarlyStopping(monitor='val_loss', patience=10)\n",
    "history=model.fit(x_train, y_train, epochs=20, validation_data=(x_test, y_test), callbacks=[early_stop])"
   ]
  },
  {
   "cell_type": "code",
   "execution_count": 582,
   "id": "bd82dd84",
   "metadata": {
    "ExecuteTime": {
     "end_time": "2021-12-21T07:23:30.582998Z",
     "start_time": "2021-12-21T07:23:30.574993Z"
    }
   },
   "outputs": [],
   "source": [
    "import numpy as np"
   ]
  },
  {
   "cell_type": "code",
   "execution_count": 587,
   "id": "feeb7e5c",
   "metadata": {
    "ExecuteTime": {
     "end_time": "2021-12-21T07:24:17.025571Z",
     "start_time": "2021-12-21T07:24:17.021571Z"
    }
   },
   "outputs": [
    {
     "name": "stdout",
     "output_type": "stream",
     "text": [
      "(50394, 8)\n",
      "(50394,)\n"
     ]
    }
   ],
   "source": [
    "print(x_test.shape)\n",
    "print(y_test.shape)"
   ]
  },
  {
   "cell_type": "code",
   "execution_count": 583,
   "id": "2aa012ef",
   "metadata": {
    "ExecuteTime": {
     "end_time": "2021-12-21T07:23:31.009092Z",
     "start_time": "2021-12-21T07:23:30.986085Z"
    }
   },
   "outputs": [],
   "source": [
    "a = model(x_test.to_numpy())"
   ]
  },
  {
   "cell_type": "code",
   "execution_count": 584,
   "id": "c77a0d63",
   "metadata": {
    "ExecuteTime": {
     "end_time": "2021-12-21T07:23:32.727480Z",
     "start_time": "2021-12-21T07:23:31.599225Z"
    }
   },
   "outputs": [],
   "source": [
    "predict = model.predict(x_test)"
   ]
  },
  {
   "cell_type": "code",
   "execution_count": 585,
   "id": "6df0bb31",
   "metadata": {
    "ExecuteTime": {
     "end_time": "2021-12-21T07:23:33.791719Z",
     "start_time": "2021-12-21T07:23:33.775717Z"
    }
   },
   "outputs": [],
   "source": [
    "def draw_graph(prediction, label, history):\n",
    "    X = prediction / np.max(prediction, axis=0)\n",
    "    Y = label / np.max(label, axis=0)\n",
    "\n",
    "    minval = min(np.min(X), np.min(Y))\n",
    "    maxval = max(np.max(X), np.max(Y))\n",
    "\n",
    "    fig = plt.figure(figsize=(8, 8))\n",
    "    plt.title(\"Regression Result\")\n",
    "    plt.xlabel(\"Ground Truth\")\n",
    "    plt.ylabel(\"AI Predict\")\n",
    "    plt.scatter(X, Y)\n",
    "    plt.plot([minval, maxval], [minval, maxval], \"red\")\n",
    "    fig.savefig(\"result.png\")\n",
    "\n",
    "    train_history = history.history[\"loss\"]\n",
    "    validation_history = history.history[\"val_loss\"]\n",
    "    fig = plt.figure(figsize=(8, 8))\n",
    "    plt.title(\"Loss History\")\n",
    "    plt.xlabel(\"EPOCH\")\n",
    "    plt.ylabel(\"LOSS Function\")\n",
    "    plt.plot(train_history, \"red\")\n",
    "    plt.plot(validation_history, 'blue')\n",
    "    fig.savefig(\"train_history.png\")\n"
   ]
  },
  {
   "cell_type": "code",
   "execution_count": 586,
   "id": "ece655fb",
   "metadata": {
    "ExecuteTime": {
     "end_time": "2021-12-21T07:23:34.765554Z",
     "start_time": "2021-12-21T07:23:34.475488Z"
    }
   },
   "outputs": [
    {
     "ename": "ValueError",
     "evalue": "x and y must be the same size",
     "output_type": "error",
     "traceback": [
      "\u001b[1;31m---------------------------------------------------------------------------\u001b[0m",
      "\u001b[1;31mValueError\u001b[0m                                Traceback (most recent call last)",
      "\u001b[1;32m~\\AppData\\Local\\Temp/ipykernel_17256/3883083514.py\u001b[0m in \u001b[0;36m<module>\u001b[1;34m\u001b[0m\n\u001b[1;32m----> 1\u001b[1;33m \u001b[0mdraw_graph\u001b[0m\u001b[1;33m(\u001b[0m\u001b[0ma\u001b[0m\u001b[1;33m,\u001b[0m \u001b[0my_test\u001b[0m\u001b[1;33m,\u001b[0m \u001b[0mhistory\u001b[0m\u001b[1;33m)\u001b[0m\u001b[1;33m\u001b[0m\u001b[1;33m\u001b[0m\u001b[0m\n\u001b[0m",
      "\u001b[1;32m~\\AppData\\Local\\Temp/ipykernel_17256/544777752.py\u001b[0m in \u001b[0;36mdraw_graph\u001b[1;34m(prediction, label, history)\u001b[0m\n\u001b[0;32m     10\u001b[0m     \u001b[0mplt\u001b[0m\u001b[1;33m.\u001b[0m\u001b[0mxlabel\u001b[0m\u001b[1;33m(\u001b[0m\u001b[1;34m\"Ground Truth\"\u001b[0m\u001b[1;33m)\u001b[0m\u001b[1;33m\u001b[0m\u001b[1;33m\u001b[0m\u001b[0m\n\u001b[0;32m     11\u001b[0m     \u001b[0mplt\u001b[0m\u001b[1;33m.\u001b[0m\u001b[0mylabel\u001b[0m\u001b[1;33m(\u001b[0m\u001b[1;34m\"AI Predict\"\u001b[0m\u001b[1;33m)\u001b[0m\u001b[1;33m\u001b[0m\u001b[1;33m\u001b[0m\u001b[0m\n\u001b[1;32m---> 12\u001b[1;33m     \u001b[0mplt\u001b[0m\u001b[1;33m.\u001b[0m\u001b[0mscatter\u001b[0m\u001b[1;33m(\u001b[0m\u001b[0mX\u001b[0m\u001b[1;33m,\u001b[0m \u001b[0mY\u001b[0m\u001b[1;33m)\u001b[0m\u001b[1;33m\u001b[0m\u001b[1;33m\u001b[0m\u001b[0m\n\u001b[0m\u001b[0;32m     13\u001b[0m     \u001b[0mplt\u001b[0m\u001b[1;33m.\u001b[0m\u001b[0mplot\u001b[0m\u001b[1;33m(\u001b[0m\u001b[1;33m[\u001b[0m\u001b[0mminval\u001b[0m\u001b[1;33m,\u001b[0m \u001b[0mmaxval\u001b[0m\u001b[1;33m]\u001b[0m\u001b[1;33m,\u001b[0m \u001b[1;33m[\u001b[0m\u001b[0mminval\u001b[0m\u001b[1;33m,\u001b[0m \u001b[0mmaxval\u001b[0m\u001b[1;33m]\u001b[0m\u001b[1;33m,\u001b[0m \u001b[1;34m\"red\"\u001b[0m\u001b[1;33m)\u001b[0m\u001b[1;33m\u001b[0m\u001b[1;33m\u001b[0m\u001b[0m\n\u001b[0;32m     14\u001b[0m     \u001b[0mfig\u001b[0m\u001b[1;33m.\u001b[0m\u001b[0msavefig\u001b[0m\u001b[1;33m(\u001b[0m\u001b[1;34m\"result.png\"\u001b[0m\u001b[1;33m)\u001b[0m\u001b[1;33m\u001b[0m\u001b[1;33m\u001b[0m\u001b[0m\n",
      "\u001b[1;32m~\\anaconda3\\envs\\tfenv\\lib\\site-packages\\matplotlib\\pyplot.py\u001b[0m in \u001b[0;36mscatter\u001b[1;34m(x, y, s, c, marker, cmap, norm, vmin, vmax, alpha, linewidths, edgecolors, plotnonfinite, data, **kwargs)\u001b[0m\n\u001b[0;32m   2805\u001b[0m         \u001b[0mvmin\u001b[0m\u001b[1;33m=\u001b[0m\u001b[1;32mNone\u001b[0m\u001b[1;33m,\u001b[0m \u001b[0mvmax\u001b[0m\u001b[1;33m=\u001b[0m\u001b[1;32mNone\u001b[0m\u001b[1;33m,\u001b[0m \u001b[0malpha\u001b[0m\u001b[1;33m=\u001b[0m\u001b[1;32mNone\u001b[0m\u001b[1;33m,\u001b[0m \u001b[0mlinewidths\u001b[0m\u001b[1;33m=\u001b[0m\u001b[1;32mNone\u001b[0m\u001b[1;33m,\u001b[0m \u001b[1;33m*\u001b[0m\u001b[1;33m,\u001b[0m\u001b[1;33m\u001b[0m\u001b[1;33m\u001b[0m\u001b[0m\n\u001b[0;32m   2806\u001b[0m         edgecolors=None, plotnonfinite=False, data=None, **kwargs):\n\u001b[1;32m-> 2807\u001b[1;33m     __ret = gca().scatter(\n\u001b[0m\u001b[0;32m   2808\u001b[0m         \u001b[0mx\u001b[0m\u001b[1;33m,\u001b[0m \u001b[0my\u001b[0m\u001b[1;33m,\u001b[0m \u001b[0ms\u001b[0m\u001b[1;33m=\u001b[0m\u001b[0ms\u001b[0m\u001b[1;33m,\u001b[0m \u001b[0mc\u001b[0m\u001b[1;33m=\u001b[0m\u001b[0mc\u001b[0m\u001b[1;33m,\u001b[0m \u001b[0mmarker\u001b[0m\u001b[1;33m=\u001b[0m\u001b[0mmarker\u001b[0m\u001b[1;33m,\u001b[0m \u001b[0mcmap\u001b[0m\u001b[1;33m=\u001b[0m\u001b[0mcmap\u001b[0m\u001b[1;33m,\u001b[0m \u001b[0mnorm\u001b[0m\u001b[1;33m=\u001b[0m\u001b[0mnorm\u001b[0m\u001b[1;33m,\u001b[0m\u001b[1;33m\u001b[0m\u001b[1;33m\u001b[0m\u001b[0m\n\u001b[0;32m   2809\u001b[0m         \u001b[0mvmin\u001b[0m\u001b[1;33m=\u001b[0m\u001b[0mvmin\u001b[0m\u001b[1;33m,\u001b[0m \u001b[0mvmax\u001b[0m\u001b[1;33m=\u001b[0m\u001b[0mvmax\u001b[0m\u001b[1;33m,\u001b[0m \u001b[0malpha\u001b[0m\u001b[1;33m=\u001b[0m\u001b[0malpha\u001b[0m\u001b[1;33m,\u001b[0m \u001b[0mlinewidths\u001b[0m\u001b[1;33m=\u001b[0m\u001b[0mlinewidths\u001b[0m\u001b[1;33m,\u001b[0m\u001b[1;33m\u001b[0m\u001b[1;33m\u001b[0m\u001b[0m\n",
      "\u001b[1;32m~\\anaconda3\\envs\\tfenv\\lib\\site-packages\\matplotlib\\__init__.py\u001b[0m in \u001b[0;36minner\u001b[1;34m(ax, data, *args, **kwargs)\u001b[0m\n\u001b[0;32m   1410\u001b[0m     \u001b[1;32mdef\u001b[0m \u001b[0minner\u001b[0m\u001b[1;33m(\u001b[0m\u001b[0max\u001b[0m\u001b[1;33m,\u001b[0m \u001b[1;33m*\u001b[0m\u001b[0margs\u001b[0m\u001b[1;33m,\u001b[0m \u001b[0mdata\u001b[0m\u001b[1;33m=\u001b[0m\u001b[1;32mNone\u001b[0m\u001b[1;33m,\u001b[0m \u001b[1;33m**\u001b[0m\u001b[0mkwargs\u001b[0m\u001b[1;33m)\u001b[0m\u001b[1;33m:\u001b[0m\u001b[1;33m\u001b[0m\u001b[1;33m\u001b[0m\u001b[0m\n\u001b[0;32m   1411\u001b[0m         \u001b[1;32mif\u001b[0m \u001b[0mdata\u001b[0m \u001b[1;32mis\u001b[0m \u001b[1;32mNone\u001b[0m\u001b[1;33m:\u001b[0m\u001b[1;33m\u001b[0m\u001b[1;33m\u001b[0m\u001b[0m\n\u001b[1;32m-> 1412\u001b[1;33m             \u001b[1;32mreturn\u001b[0m \u001b[0mfunc\u001b[0m\u001b[1;33m(\u001b[0m\u001b[0max\u001b[0m\u001b[1;33m,\u001b[0m \u001b[1;33m*\u001b[0m\u001b[0mmap\u001b[0m\u001b[1;33m(\u001b[0m\u001b[0msanitize_sequence\u001b[0m\u001b[1;33m,\u001b[0m \u001b[0margs\u001b[0m\u001b[1;33m)\u001b[0m\u001b[1;33m,\u001b[0m \u001b[1;33m**\u001b[0m\u001b[0mkwargs\u001b[0m\u001b[1;33m)\u001b[0m\u001b[1;33m\u001b[0m\u001b[1;33m\u001b[0m\u001b[0m\n\u001b[0m\u001b[0;32m   1413\u001b[0m \u001b[1;33m\u001b[0m\u001b[0m\n\u001b[0;32m   1414\u001b[0m         \u001b[0mbound\u001b[0m \u001b[1;33m=\u001b[0m \u001b[0mnew_sig\u001b[0m\u001b[1;33m.\u001b[0m\u001b[0mbind\u001b[0m\u001b[1;33m(\u001b[0m\u001b[0max\u001b[0m\u001b[1;33m,\u001b[0m \u001b[1;33m*\u001b[0m\u001b[0margs\u001b[0m\u001b[1;33m,\u001b[0m \u001b[1;33m**\u001b[0m\u001b[0mkwargs\u001b[0m\u001b[1;33m)\u001b[0m\u001b[1;33m\u001b[0m\u001b[1;33m\u001b[0m\u001b[0m\n",
      "\u001b[1;32m~\\anaconda3\\envs\\tfenv\\lib\\site-packages\\matplotlib\\axes\\_axes.py\u001b[0m in \u001b[0;36mscatter\u001b[1;34m(self, x, y, s, c, marker, cmap, norm, vmin, vmax, alpha, linewidths, edgecolors, plotnonfinite, **kwargs)\u001b[0m\n\u001b[0;32m   4367\u001b[0m         \u001b[0my\u001b[0m \u001b[1;33m=\u001b[0m \u001b[0mnp\u001b[0m\u001b[1;33m.\u001b[0m\u001b[0mma\u001b[0m\u001b[1;33m.\u001b[0m\u001b[0mravel\u001b[0m\u001b[1;33m(\u001b[0m\u001b[0my\u001b[0m\u001b[1;33m)\u001b[0m\u001b[1;33m\u001b[0m\u001b[1;33m\u001b[0m\u001b[0m\n\u001b[0;32m   4368\u001b[0m         \u001b[1;32mif\u001b[0m \u001b[0mx\u001b[0m\u001b[1;33m.\u001b[0m\u001b[0msize\u001b[0m \u001b[1;33m!=\u001b[0m \u001b[0my\u001b[0m\u001b[1;33m.\u001b[0m\u001b[0msize\u001b[0m\u001b[1;33m:\u001b[0m\u001b[1;33m\u001b[0m\u001b[1;33m\u001b[0m\u001b[0m\n\u001b[1;32m-> 4369\u001b[1;33m             \u001b[1;32mraise\u001b[0m \u001b[0mValueError\u001b[0m\u001b[1;33m(\u001b[0m\u001b[1;34m\"x and y must be the same size\"\u001b[0m\u001b[1;33m)\u001b[0m\u001b[1;33m\u001b[0m\u001b[1;33m\u001b[0m\u001b[0m\n\u001b[0m\u001b[0;32m   4370\u001b[0m \u001b[1;33m\u001b[0m\u001b[0m\n\u001b[0;32m   4371\u001b[0m         \u001b[1;32mif\u001b[0m \u001b[0ms\u001b[0m \u001b[1;32mis\u001b[0m \u001b[1;32mNone\u001b[0m\u001b[1;33m:\u001b[0m\u001b[1;33m\u001b[0m\u001b[1;33m\u001b[0m\u001b[0m\n",
      "\u001b[1;31mValueError\u001b[0m: x and y must be the same size"
     ]
    },
    {
     "data": {
      "image/png": "[encoded data removed]",
      "text/plain": [
       "<Figure size 576x576 with 1 Axes>"
      ]
     },
     "metadata": {
      "needs_background": "light"
     },
     "output_type": "display_data"
    }
   ],
   "source": [
    "draw_graph(a, y_test, history)"
   ]
  },
  {
   "cell_type": "markdown",
   "id": "4a130248",
   "metadata": {},
   "source": [
    "# 비만도 분석 "
   ]
  },
  {
   "cell_type": "code",
   "execution_count": 611,
   "id": "bd23d746",
   "metadata": {
    "ExecuteTime": {
     "end_time": "2021-12-21T08:16:32.643229Z",
     "start_time": "2021-12-21T08:16:32.508684Z"
    }
   },
   "outputs": [
    {
     "name": "stderr",
     "output_type": "stream",
     "text": [
      "C:\\Users\\admin\\anaconda3\\envs\\tfenv\\lib\\site-packages\\IPython\\core\\interactiveshell.py:3444: DtypeWarning: Columns (5) have mixed types.Specify dtype option on import or set low_memory=False.\n",
      "  exec(code_obj, self.user_global_ns, self.user_ns)\n"
     ]
    },
    {
     "data": {
      "text/html": [
       "<div>\n",
       "<style scoped>\n",
       "    .dataframe tbody tr th:only-of-type {\n",
       "        vertical-align: middle;\n",
       "    }\n",
       "\n",
       "    .dataframe tbody tr th {\n",
       "        vertical-align: top;\n",
       "    }\n",
       "\n",
       "    .dataframe thead th {\n",
       "        text-align: right;\n",
       "    }\n",
       "</style>\n",
       "<table border=\"1\" class=\"dataframe\">\n",
       "  <thead>\n",
       "    <tr style=\"text-align: right;\">\n",
       "      <th></th>\n",
       "      <th>순번</th>\n",
       "      <th>측정 일자</th>\n",
       "      <th>가슴 둘레 센티미터</th>\n",
       "      <th>소매길이 센티미터</th>\n",
       "      <th>신장 센티미터</th>\n",
       "      <th>허리 둘레 센티미터</th>\n",
       "      <th>샅높이 센티미터</th>\n",
       "      <th>머리 둘레 센티미터</th>\n",
       "      <th>발 길이 센티미터</th>\n",
       "      <th>몸무게 킬로그램</th>\n",
       "    </tr>\n",
       "  </thead>\n",
       "  <tbody>\n",
       "    <tr>\n",
       "      <th>0</th>\n",
       "      <td>1</td>\n",
       "      <td>20140106</td>\n",
       "      <td>96.3</td>\n",
       "      <td>92.6</td>\n",
       "      <td>185.5</td>\n",
       "      <td>82.5</td>\n",
       "      <td>83.8</td>\n",
       "      <td>57.1</td>\n",
       "      <td>28.5</td>\n",
       "      <td>73.2</td>\n",
       "    </tr>\n",
       "    <tr>\n",
       "      <th>1</th>\n",
       "      <td>2</td>\n",
       "      <td>2013</td>\n",
       "      <td>101.9</td>\n",
       "      <td>83.8</td>\n",
       "      <td>167.2</td>\n",
       "      <td>81.2</td>\n",
       "      <td>74.4</td>\n",
       "      <td>55.0</td>\n",
       "      <td>24.2</td>\n",
       "      <td>65.1</td>\n",
       "    </tr>\n",
       "    <tr>\n",
       "      <th>2</th>\n",
       "      <td>3</td>\n",
       "      <td>20140106</td>\n",
       "      <td>99.5</td>\n",
       "      <td>89.6</td>\n",
       "      <td>179.9</td>\n",
       "      <td>99.2</td>\n",
       "      <td>84.2</td>\n",
       "      <td>56.3</td>\n",
       "      <td>28.1</td>\n",
       "      <td>93.2</td>\n",
       "    </tr>\n",
       "    <tr>\n",
       "      <th>3</th>\n",
       "      <td>4</td>\n",
       "      <td>2013</td>\n",
       "      <td>98.6</td>\n",
       "      <td>85.5</td>\n",
       "      <td>171.4</td>\n",
       "      <td>85.9</td>\n",
       "      <td>76.4</td>\n",
       "      <td>54.5</td>\n",
       "      <td>27.4</td>\n",
       "      <td>71.6</td>\n",
       "    </tr>\n",
       "    <tr>\n",
       "      <th>4</th>\n",
       "      <td>5</td>\n",
       "      <td>20140106</td>\n",
       "      <td>94.7</td>\n",
       "      <td>88.1</td>\n",
       "      <td>176.9</td>\n",
       "      <td>78.3</td>\n",
       "      <td>79.7</td>\n",
       "      <td>58.5</td>\n",
       "      <td>26.5</td>\n",
       "      <td>67.1</td>\n",
       "    </tr>\n",
       "  </tbody>\n",
       "</table>\n",
       "</div>"
      ],
      "text/plain": [
       "   순번     측정 일자  가슴 둘레 센티미터  소매길이 센티미터  신장 센티미터 허리 둘레 센티미터  샅높이 센티미터  \\\n",
       "0   1  20140106        96.3       92.6    185.5       82.5      83.8   \n",
       "1   2      2013       101.9       83.8    167.2       81.2      74.4   \n",
       "2   3  20140106        99.5       89.6    179.9       99.2      84.2   \n",
       "3   4      2013        98.6       85.5    171.4       85.9      76.4   \n",
       "4   5  20140106        94.7       88.1    176.9       78.3      79.7   \n",
       "\n",
       "   머리 둘레 센티미터  발 길이 센티미터  몸무게 킬로그램  \n",
       "0        57.1       28.5      73.2  \n",
       "1        55.0       24.2      65.1  \n",
       "2        56.3       28.1      93.2  \n",
       "3        54.5       27.4      71.6  \n",
       "4        58.5       26.5      67.1  "
      ]
     },
     "execution_count": 611,
     "metadata": {},
     "output_type": "execute_result"
    }
   ],
   "source": [
    "info_df = pd.read_csv('./data/육군신체측정정보.csv', encoding='cp949')\n",
    "info_df.head()"
   ]
  },
  {
   "cell_type": "code",
   "execution_count": 612,
   "id": "96493906",
   "metadata": {
    "ExecuteTime": {
     "end_time": "2021-12-21T08:16:32.854734Z",
     "start_time": "2021-12-21T08:16:32.822727Z"
    }
   },
   "outputs": [
    {
     "data": {
      "text/html": [
       "<div>\n",
       "<style scoped>\n",
       "    .dataframe tbody tr th:only-of-type {\n",
       "        vertical-align: middle;\n",
       "    }\n",
       "\n",
       "    .dataframe tbody tr th {\n",
       "        vertical-align: top;\n",
       "    }\n",
       "\n",
       "    .dataframe thead th {\n",
       "        text-align: right;\n",
       "    }\n",
       "</style>\n",
       "<table border=\"1\" class=\"dataframe\">\n",
       "  <thead>\n",
       "    <tr style=\"text-align: right;\">\n",
       "      <th></th>\n",
       "      <th>가슴 둘레 센티미터</th>\n",
       "      <th>소매길이 센티미터</th>\n",
       "      <th>신장 센티미터</th>\n",
       "      <th>허리 둘레 센티미터</th>\n",
       "      <th>샅높이 센티미터</th>\n",
       "      <th>머리 둘레 센티미터</th>\n",
       "      <th>발 길이 센티미터</th>\n",
       "      <th>몸무게 킬로그램</th>\n",
       "    </tr>\n",
       "  </thead>\n",
       "  <tbody>\n",
       "    <tr>\n",
       "      <th>0</th>\n",
       "      <td>96.3</td>\n",
       "      <td>92.6</td>\n",
       "      <td>185.5</td>\n",
       "      <td>82.5</td>\n",
       "      <td>83.8</td>\n",
       "      <td>57.1</td>\n",
       "      <td>28.5</td>\n",
       "      <td>73.2</td>\n",
       "    </tr>\n",
       "    <tr>\n",
       "      <th>1</th>\n",
       "      <td>101.9</td>\n",
       "      <td>83.8</td>\n",
       "      <td>167.2</td>\n",
       "      <td>81.2</td>\n",
       "      <td>74.4</td>\n",
       "      <td>55.0</td>\n",
       "      <td>24.2</td>\n",
       "      <td>65.1</td>\n",
       "    </tr>\n",
       "    <tr>\n",
       "      <th>2</th>\n",
       "      <td>99.5</td>\n",
       "      <td>89.6</td>\n",
       "      <td>179.9</td>\n",
       "      <td>99.2</td>\n",
       "      <td>84.2</td>\n",
       "      <td>56.3</td>\n",
       "      <td>28.1</td>\n",
       "      <td>93.2</td>\n",
       "    </tr>\n",
       "    <tr>\n",
       "      <th>3</th>\n",
       "      <td>98.6</td>\n",
       "      <td>85.5</td>\n",
       "      <td>171.4</td>\n",
       "      <td>85.9</td>\n",
       "      <td>76.4</td>\n",
       "      <td>54.5</td>\n",
       "      <td>27.4</td>\n",
       "      <td>71.6</td>\n",
       "    </tr>\n",
       "    <tr>\n",
       "      <th>4</th>\n",
       "      <td>94.7</td>\n",
       "      <td>88.1</td>\n",
       "      <td>176.9</td>\n",
       "      <td>78.3</td>\n",
       "      <td>79.7</td>\n",
       "      <td>58.5</td>\n",
       "      <td>26.5</td>\n",
       "      <td>67.1</td>\n",
       "    </tr>\n",
       "    <tr>\n",
       "      <th>...</th>\n",
       "      <td>...</td>\n",
       "      <td>...</td>\n",
       "      <td>...</td>\n",
       "      <td>...</td>\n",
       "      <td>...</td>\n",
       "      <td>...</td>\n",
       "      <td>...</td>\n",
       "      <td>...</td>\n",
       "    </tr>\n",
       "    <tr>\n",
       "      <th>167975</th>\n",
       "      <td>100.6</td>\n",
       "      <td>86.4</td>\n",
       "      <td>173.2</td>\n",
       "      <td>86.7 (34.1 in)</td>\n",
       "      <td>77.1</td>\n",
       "      <td>56.9</td>\n",
       "      <td>27.1</td>\n",
       "      <td>73.7</td>\n",
       "    </tr>\n",
       "    <tr>\n",
       "      <th>167976</th>\n",
       "      <td>97.9</td>\n",
       "      <td>82.7</td>\n",
       "      <td>166.3</td>\n",
       "      <td>90.5 (35.6 in)</td>\n",
       "      <td>73.4</td>\n",
       "      <td>61.5</td>\n",
       "      <td>28.8</td>\n",
       "      <td>70.7</td>\n",
       "    </tr>\n",
       "    <tr>\n",
       "      <th>167977</th>\n",
       "      <td>97.9</td>\n",
       "      <td>87.2</td>\n",
       "      <td>175.2</td>\n",
       "      <td>94.3 (37.1 in)</td>\n",
       "      <td>83.1</td>\n",
       "      <td>57.1</td>\n",
       "      <td>27.6</td>\n",
       "      <td>78.7</td>\n",
       "    </tr>\n",
       "    <tr>\n",
       "      <th>167978</th>\n",
       "      <td>85.3</td>\n",
       "      <td>86.8</td>\n",
       "      <td>173.6</td>\n",
       "      <td>75.9 (29.9 in)</td>\n",
       "      <td>76.6</td>\n",
       "      <td>57.6</td>\n",
       "      <td>24.3</td>\n",
       "      <td>57.4</td>\n",
       "    </tr>\n",
       "    <tr>\n",
       "      <th>167979</th>\n",
       "      <td>86.6</td>\n",
       "      <td>88.3</td>\n",
       "      <td>175.8</td>\n",
       "      <td>73.0 (28.7 in)</td>\n",
       "      <td>77.8</td>\n",
       "      <td>56.3</td>\n",
       "      <td>26.1</td>\n",
       "      <td>51.7</td>\n",
       "    </tr>\n",
       "  </tbody>\n",
       "</table>\n",
       "<p>167980 rows × 8 columns</p>\n",
       "</div>"
      ],
      "text/plain": [
       "        가슴 둘레 센티미터  소매길이 센티미터  신장 센티미터      허리 둘레 센티미터  샅높이 센티미터  머리 둘레 센티미터  \\\n",
       "0             96.3       92.6    185.5            82.5      83.8        57.1   \n",
       "1            101.9       83.8    167.2            81.2      74.4        55.0   \n",
       "2             99.5       89.6    179.9            99.2      84.2        56.3   \n",
       "3             98.6       85.5    171.4            85.9      76.4        54.5   \n",
       "4             94.7       88.1    176.9            78.3      79.7        58.5   \n",
       "...            ...        ...      ...             ...       ...         ...   \n",
       "167975       100.6       86.4    173.2  86.7 (34.1 in)      77.1        56.9   \n",
       "167976        97.9       82.7    166.3  90.5 (35.6 in)      73.4        61.5   \n",
       "167977        97.9       87.2    175.2  94.3 (37.1 in)      83.1        57.1   \n",
       "167978        85.3       86.8    173.6  75.9 (29.9 in)      76.6        57.6   \n",
       "167979        86.6       88.3    175.8  73.0 (28.7 in)      77.8        56.3   \n",
       "\n",
       "        발 길이 센티미터  몸무게 킬로그램  \n",
       "0            28.5      73.2  \n",
       "1            24.2      65.1  \n",
       "2            28.1      93.2  \n",
       "3            27.4      71.6  \n",
       "4            26.5      67.1  \n",
       "...           ...       ...  \n",
       "167975       27.1      73.7  \n",
       "167976       28.8      70.7  \n",
       "167977       27.6      78.7  \n",
       "167978       24.3      57.4  \n",
       "167979       26.1      51.7  \n",
       "\n",
       "[167980 rows x 8 columns]"
      ]
     },
     "execution_count": 612,
     "metadata": {},
     "output_type": "execute_result"
    }
   ],
   "source": [
    "X = info_df.drop(['순번','측정 일자'], axis=1)\n",
    "X"
   ]
  },
  {
   "cell_type": "code",
   "execution_count": 613,
   "id": "f64a1e2e",
   "metadata": {
    "ExecuteTime": {
     "end_time": "2021-12-21T08:16:33.321446Z",
     "start_time": "2021-12-21T08:16:33.061758Z"
    }
   },
   "outputs": [
    {
     "data": {
      "text/html": [
       "<div>\n",
       "<style scoped>\n",
       "    .dataframe tbody tr th:only-of-type {\n",
       "        vertical-align: middle;\n",
       "    }\n",
       "\n",
       "    .dataframe tbody tr th {\n",
       "        vertical-align: top;\n",
       "    }\n",
       "\n",
       "    .dataframe thead th {\n",
       "        text-align: right;\n",
       "    }\n",
       "</style>\n",
       "<table border=\"1\" class=\"dataframe\">\n",
       "  <thead>\n",
       "    <tr style=\"text-align: right;\">\n",
       "      <th></th>\n",
       "      <th>가슴 둘레 센티미터</th>\n",
       "      <th>소매길이 센티미터</th>\n",
       "      <th>신장 센티미터</th>\n",
       "      <th>허리 둘레 센티미터</th>\n",
       "      <th>샅높이 센티미터</th>\n",
       "      <th>머리 둘레 센티미터</th>\n",
       "      <th>발 길이 센티미터</th>\n",
       "      <th>몸무게 킬로그램</th>\n",
       "      <th>허리 둘레</th>\n",
       "    </tr>\n",
       "  </thead>\n",
       "  <tbody>\n",
       "    <tr>\n",
       "      <th>0</th>\n",
       "      <td>96.3</td>\n",
       "      <td>92.6</td>\n",
       "      <td>185.5</td>\n",
       "      <td>82.5(</td>\n",
       "      <td>83.8</td>\n",
       "      <td>57.1</td>\n",
       "      <td>28.5</td>\n",
       "      <td>73.2</td>\n",
       "      <td>82.5</td>\n",
       "    </tr>\n",
       "    <tr>\n",
       "      <th>1</th>\n",
       "      <td>101.9</td>\n",
       "      <td>83.8</td>\n",
       "      <td>167.2</td>\n",
       "      <td>81.2(</td>\n",
       "      <td>74.4</td>\n",
       "      <td>55.0</td>\n",
       "      <td>24.2</td>\n",
       "      <td>65.1</td>\n",
       "      <td>81.2</td>\n",
       "    </tr>\n",
       "    <tr>\n",
       "      <th>2</th>\n",
       "      <td>99.5</td>\n",
       "      <td>89.6</td>\n",
       "      <td>179.9</td>\n",
       "      <td>99.2(</td>\n",
       "      <td>84.2</td>\n",
       "      <td>56.3</td>\n",
       "      <td>28.1</td>\n",
       "      <td>93.2</td>\n",
       "      <td>99.2</td>\n",
       "    </tr>\n",
       "    <tr>\n",
       "      <th>3</th>\n",
       "      <td>98.6</td>\n",
       "      <td>85.5</td>\n",
       "      <td>171.4</td>\n",
       "      <td>85.9(</td>\n",
       "      <td>76.4</td>\n",
       "      <td>54.5</td>\n",
       "      <td>27.4</td>\n",
       "      <td>71.6</td>\n",
       "      <td>85.9</td>\n",
       "    </tr>\n",
       "    <tr>\n",
       "      <th>4</th>\n",
       "      <td>94.7</td>\n",
       "      <td>88.1</td>\n",
       "      <td>176.9</td>\n",
       "      <td>78.3(</td>\n",
       "      <td>79.7</td>\n",
       "      <td>58.5</td>\n",
       "      <td>26.5</td>\n",
       "      <td>67.1</td>\n",
       "      <td>78.3</td>\n",
       "    </tr>\n",
       "  </tbody>\n",
       "</table>\n",
       "</div>"
      ],
      "text/plain": [
       "   가슴 둘레 센티미터  소매길이 센티미터  신장 센티미터 허리 둘레 센티미터  샅높이 센티미터  머리 둘레 센티미터  발 길이 센티미터  \\\n",
       "0        96.3       92.6    185.5      82.5(      83.8        57.1       28.5   \n",
       "1       101.9       83.8    167.2      81.2(      74.4        55.0       24.2   \n",
       "2        99.5       89.6    179.9      99.2(      84.2        56.3       28.1   \n",
       "3        98.6       85.5    171.4      85.9(      76.4        54.5       27.4   \n",
       "4        94.7       88.1    176.9      78.3(      79.7        58.5       26.5   \n",
       "\n",
       "   몸무게 킬로그램 허리 둘레  \n",
       "0      73.2  82.5  \n",
       "1      65.1  81.2  \n",
       "2      93.2  99.2  \n",
       "3      71.6  85.9  \n",
       "4      67.1  78.3  "
      ]
     },
     "execution_count": 613,
     "metadata": {},
     "output_type": "execute_result"
    }
   ],
   "source": [
    "X['허리 둘레 센티미터'] = X['허리 둘레 센티미터'].astype('string')\n",
    "X['허리 둘레 센티미터'] = X['허리 둘레 센티미터']+\"(\"\n",
    "\n",
    "waist_size=[]\n",
    "for i in X['허리 둘레 센티미터']:\n",
    "    size=i.split('(')\n",
    "    waist_size.append(size[0])\n",
    "    \n",
    "    \n",
    "X['허리 둘레'] = waist_size\n",
    "X.head()"
   ]
  },
  {
   "cell_type": "code",
   "execution_count": 614,
   "id": "b69ceea0",
   "metadata": {
    "ExecuteTime": {
     "end_time": "2021-12-21T08:16:33.351460Z",
     "start_time": "2021-12-21T08:16:33.323454Z"
    }
   },
   "outputs": [
    {
     "data": {
      "text/html": [
       "<div>\n",
       "<style scoped>\n",
       "    .dataframe tbody tr th:only-of-type {\n",
       "        vertical-align: middle;\n",
       "    }\n",
       "\n",
       "    .dataframe tbody tr th {\n",
       "        vertical-align: top;\n",
       "    }\n",
       "\n",
       "    .dataframe thead th {\n",
       "        text-align: right;\n",
       "    }\n",
       "</style>\n",
       "<table border=\"1\" class=\"dataframe\">\n",
       "  <thead>\n",
       "    <tr style=\"text-align: right;\">\n",
       "      <th></th>\n",
       "      <th>가슴 둘레 센티미터</th>\n",
       "      <th>소매길이 센티미터</th>\n",
       "      <th>샅높이 센티미터</th>\n",
       "      <th>머리 둘레 센티미터</th>\n",
       "      <th>발 길이 센티미터</th>\n",
       "      <th>허리 둘레</th>\n",
       "    </tr>\n",
       "  </thead>\n",
       "  <tbody>\n",
       "    <tr>\n",
       "      <th>0</th>\n",
       "      <td>96.3</td>\n",
       "      <td>92.6</td>\n",
       "      <td>83.8</td>\n",
       "      <td>57.1</td>\n",
       "      <td>28.5</td>\n",
       "      <td>82.5</td>\n",
       "    </tr>\n",
       "    <tr>\n",
       "      <th>1</th>\n",
       "      <td>101.9</td>\n",
       "      <td>83.8</td>\n",
       "      <td>74.4</td>\n",
       "      <td>55.0</td>\n",
       "      <td>24.2</td>\n",
       "      <td>81.2</td>\n",
       "    </tr>\n",
       "    <tr>\n",
       "      <th>2</th>\n",
       "      <td>99.5</td>\n",
       "      <td>89.6</td>\n",
       "      <td>84.2</td>\n",
       "      <td>56.3</td>\n",
       "      <td>28.1</td>\n",
       "      <td>99.2</td>\n",
       "    </tr>\n",
       "    <tr>\n",
       "      <th>3</th>\n",
       "      <td>98.6</td>\n",
       "      <td>85.5</td>\n",
       "      <td>76.4</td>\n",
       "      <td>54.5</td>\n",
       "      <td>27.4</td>\n",
       "      <td>85.9</td>\n",
       "    </tr>\n",
       "    <tr>\n",
       "      <th>4</th>\n",
       "      <td>94.7</td>\n",
       "      <td>88.1</td>\n",
       "      <td>79.7</td>\n",
       "      <td>58.5</td>\n",
       "      <td>26.5</td>\n",
       "      <td>78.3</td>\n",
       "    </tr>\n",
       "    <tr>\n",
       "      <th>...</th>\n",
       "      <td>...</td>\n",
       "      <td>...</td>\n",
       "      <td>...</td>\n",
       "      <td>...</td>\n",
       "      <td>...</td>\n",
       "      <td>...</td>\n",
       "    </tr>\n",
       "    <tr>\n",
       "      <th>167975</th>\n",
       "      <td>100.6</td>\n",
       "      <td>86.4</td>\n",
       "      <td>77.1</td>\n",
       "      <td>56.9</td>\n",
       "      <td>27.1</td>\n",
       "      <td>86.7</td>\n",
       "    </tr>\n",
       "    <tr>\n",
       "      <th>167976</th>\n",
       "      <td>97.9</td>\n",
       "      <td>82.7</td>\n",
       "      <td>73.4</td>\n",
       "      <td>61.5</td>\n",
       "      <td>28.8</td>\n",
       "      <td>90.5</td>\n",
       "    </tr>\n",
       "    <tr>\n",
       "      <th>167977</th>\n",
       "      <td>97.9</td>\n",
       "      <td>87.2</td>\n",
       "      <td>83.1</td>\n",
       "      <td>57.1</td>\n",
       "      <td>27.6</td>\n",
       "      <td>94.3</td>\n",
       "    </tr>\n",
       "    <tr>\n",
       "      <th>167978</th>\n",
       "      <td>85.3</td>\n",
       "      <td>86.8</td>\n",
       "      <td>76.6</td>\n",
       "      <td>57.6</td>\n",
       "      <td>24.3</td>\n",
       "      <td>75.9</td>\n",
       "    </tr>\n",
       "    <tr>\n",
       "      <th>167979</th>\n",
       "      <td>86.6</td>\n",
       "      <td>88.3</td>\n",
       "      <td>77.8</td>\n",
       "      <td>56.3</td>\n",
       "      <td>26.1</td>\n",
       "      <td>73.0</td>\n",
       "    </tr>\n",
       "  </tbody>\n",
       "</table>\n",
       "<p>167980 rows × 6 columns</p>\n",
       "</div>"
      ],
      "text/plain": [
       "        가슴 둘레 센티미터  소매길이 센티미터  샅높이 센티미터  머리 둘레 센티미터  발 길이 센티미터  허리 둘레\n",
       "0             96.3       92.6      83.8        57.1       28.5   82.5\n",
       "1            101.9       83.8      74.4        55.0       24.2   81.2\n",
       "2             99.5       89.6      84.2        56.3       28.1   99.2\n",
       "3             98.6       85.5      76.4        54.5       27.4   85.9\n",
       "4             94.7       88.1      79.7        58.5       26.5   78.3\n",
       "...            ...        ...       ...         ...        ...    ...\n",
       "167975       100.6       86.4      77.1        56.9       27.1  86.7 \n",
       "167976        97.9       82.7      73.4        61.5       28.8  90.5 \n",
       "167977        97.9       87.2      83.1        57.1       27.6  94.3 \n",
       "167978        85.3       86.8      76.6        57.6       24.3  75.9 \n",
       "167979        86.6       88.3      77.8        56.3       26.1  73.0 \n",
       "\n",
       "[167980 rows x 6 columns]"
      ]
     },
     "execution_count": 614,
     "metadata": {},
     "output_type": "execute_result"
    }
   ],
   "source": [
    "X = X.drop(['허리 둘레 센티미터','신장 센티미터','몸무게 킬로그램'], axis=1)\n",
    "X"
   ]
  },
  {
   "cell_type": "code",
   "execution_count": 619,
   "id": "5d3e2cbb",
   "metadata": {
    "ExecuteTime": {
     "end_time": "2021-12-21T08:18:51.869856Z",
     "start_time": "2021-12-21T08:18:51.864863Z"
    }
   },
   "outputs": [],
   "source": [
    "#노멀라이즈\n",
    "from sklearn.preprocessing import MinMaxScaler\n",
    "scaler = MinMaxScaler()"
   ]
  },
  {
   "cell_type": "code",
   "execution_count": 620,
   "id": "beb4d228",
   "metadata": {
    "ExecuteTime": {
     "end_time": "2021-12-21T08:18:52.519740Z",
     "start_time": "2021-12-21T08:18:52.496736Z"
    }
   },
   "outputs": [
    {
     "data": {
      "text/html": [
       "<div>\n",
       "<style scoped>\n",
       "    .dataframe tbody tr th:only-of-type {\n",
       "        vertical-align: middle;\n",
       "    }\n",
       "\n",
       "    .dataframe tbody tr th {\n",
       "        vertical-align: top;\n",
       "    }\n",
       "\n",
       "    .dataframe thead th {\n",
       "        text-align: right;\n",
       "    }\n",
       "</style>\n",
       "<table border=\"1\" class=\"dataframe\">\n",
       "  <thead>\n",
       "    <tr style=\"text-align: right;\">\n",
       "      <th></th>\n",
       "      <th>몸무게 킬로그램</th>\n",
       "      <th>신장 센티미터</th>\n",
       "    </tr>\n",
       "  </thead>\n",
       "  <tbody>\n",
       "    <tr>\n",
       "      <th>0</th>\n",
       "      <td>73.2</td>\n",
       "      <td>185.5</td>\n",
       "    </tr>\n",
       "    <tr>\n",
       "      <th>1</th>\n",
       "      <td>65.1</td>\n",
       "      <td>167.2</td>\n",
       "    </tr>\n",
       "    <tr>\n",
       "      <th>2</th>\n",
       "      <td>93.2</td>\n",
       "      <td>179.9</td>\n",
       "    </tr>\n",
       "    <tr>\n",
       "      <th>3</th>\n",
       "      <td>71.6</td>\n",
       "      <td>171.4</td>\n",
       "    </tr>\n",
       "    <tr>\n",
       "      <th>4</th>\n",
       "      <td>67.1</td>\n",
       "      <td>176.9</td>\n",
       "    </tr>\n",
       "    <tr>\n",
       "      <th>...</th>\n",
       "      <td>...</td>\n",
       "      <td>...</td>\n",
       "    </tr>\n",
       "    <tr>\n",
       "      <th>167975</th>\n",
       "      <td>73.7</td>\n",
       "      <td>173.2</td>\n",
       "    </tr>\n",
       "    <tr>\n",
       "      <th>167976</th>\n",
       "      <td>70.7</td>\n",
       "      <td>166.3</td>\n",
       "    </tr>\n",
       "    <tr>\n",
       "      <th>167977</th>\n",
       "      <td>78.7</td>\n",
       "      <td>175.2</td>\n",
       "    </tr>\n",
       "    <tr>\n",
       "      <th>167978</th>\n",
       "      <td>57.4</td>\n",
       "      <td>173.6</td>\n",
       "    </tr>\n",
       "    <tr>\n",
       "      <th>167979</th>\n",
       "      <td>51.7</td>\n",
       "      <td>175.8</td>\n",
       "    </tr>\n",
       "  </tbody>\n",
       "</table>\n",
       "<p>167980 rows × 2 columns</p>\n",
       "</div>"
      ],
      "text/plain": [
       "        몸무게 킬로그램  신장 센티미터\n",
       "0           73.2    185.5\n",
       "1           65.1    167.2\n",
       "2           93.2    179.9\n",
       "3           71.6    171.4\n",
       "4           67.1    176.9\n",
       "...          ...      ...\n",
       "167975      73.7    173.2\n",
       "167976      70.7    166.3\n",
       "167977      78.7    175.2\n",
       "167978      57.4    173.6\n",
       "167979      51.7    175.8\n",
       "\n",
       "[167980 rows x 2 columns]"
      ]
     },
     "execution_count": 620,
     "metadata": {},
     "output_type": "execute_result"
    }
   ],
   "source": [
    "y = info_df[['몸무게 킬로그램','신장 센티미터']]\n",
    "y"
   ]
  },
  {
   "cell_type": "code",
   "execution_count": null,
   "id": "75d75aa7",
   "metadata": {},
   "outputs": [],
   "source": []
  },
  {
   "cell_type": "code",
   "execution_count": 621,
   "id": "d3de23ac",
   "metadata": {
    "ExecuteTime": {
     "end_time": "2021-12-21T08:18:54.371650Z",
     "start_time": "2021-12-21T08:18:54.072591Z"
    }
   },
   "outputs": [
    {
     "name": "stderr",
     "output_type": "stream",
     "text": [
      "C:\\Users\\admin\\AppData\\Local\\Temp/ipykernel_17256/1388645076.py:2: SettingWithCopyWarning: \n",
      "A value is trying to be set on a copy of a slice from a DataFrame.\n",
      "Try using .loc[row_indexer,col_indexer] = value instead\n",
      "\n",
      "See the caveats in the documentation: https://pandas.pydata.org/pandas-docs/stable/user_guide/indexing.html#returning-a-view-versus-a-copy\n",
      "  y[:] = scaler.fit_transform(y[:])\n",
      "C:\\Users\\admin\\anaconda3\\envs\\tfenv\\lib\\site-packages\\pandas\\core\\indexing.py:1732: SettingWithCopyWarning: \n",
      "A value is trying to be set on a copy of a slice from a DataFrame\n",
      "\n",
      "See the caveats in the documentation: https://pandas.pydata.org/pandas-docs/stable/user_guide/indexing.html#returning-a-view-versus-a-copy\n",
      "  self._setitem_single_block(indexer, value, name)\n",
      "C:\\Users\\admin\\anaconda3\\envs\\tfenv\\lib\\site-packages\\pandas\\core\\indexing.py:723: SettingWithCopyWarning: \n",
      "A value is trying to be set on a copy of a slice from a DataFrame\n",
      "\n",
      "See the caveats in the documentation: https://pandas.pydata.org/pandas-docs/stable/user_guide/indexing.html#returning-a-view-versus-a-copy\n",
      "  iloc._setitem_with_indexer(indexer, value, self.name)\n"
     ]
    }
   ],
   "source": [
    "#노멀라이즈 \n",
    "y[:] = scaler.fit_transform(y[:])\n",
    "X[:] = scaler.fit_transform(X[:])"
   ]
  },
  {
   "cell_type": "code",
   "execution_count": 622,
   "id": "ad9e70e8",
   "metadata": {
    "ExecuteTime": {
     "end_time": "2021-12-21T08:19:05.649775Z",
     "start_time": "2021-12-21T08:19:05.642774Z"
    }
   },
   "outputs": [
    {
     "data": {
      "text/html": [
       "<div>\n",
       "<style scoped>\n",
       "    .dataframe tbody tr th:only-of-type {\n",
       "        vertical-align: middle;\n",
       "    }\n",
       "\n",
       "    .dataframe tbody tr th {\n",
       "        vertical-align: top;\n",
       "    }\n",
       "\n",
       "    .dataframe thead th {\n",
       "        text-align: right;\n",
       "    }\n",
       "</style>\n",
       "<table border=\"1\" class=\"dataframe\">\n",
       "  <thead>\n",
       "    <tr style=\"text-align: right;\">\n",
       "      <th></th>\n",
       "      <th>몸무게 킬로그램</th>\n",
       "      <th>신장 센티미터</th>\n",
       "    </tr>\n",
       "  </thead>\n",
       "  <tbody>\n",
       "    <tr>\n",
       "      <th>0</th>\n",
       "      <td>0.542222</td>\n",
       "      <td>0.712054</td>\n",
       "    </tr>\n",
       "    <tr>\n",
       "      <th>1</th>\n",
       "      <td>0.482222</td>\n",
       "      <td>0.303571</td>\n",
       "    </tr>\n",
       "    <tr>\n",
       "      <th>2</th>\n",
       "      <td>0.690370</td>\n",
       "      <td>0.587054</td>\n",
       "    </tr>\n",
       "    <tr>\n",
       "      <th>3</th>\n",
       "      <td>0.530370</td>\n",
       "      <td>0.397321</td>\n",
       "    </tr>\n",
       "    <tr>\n",
       "      <th>4</th>\n",
       "      <td>0.497037</td>\n",
       "      <td>0.520089</td>\n",
       "    </tr>\n",
       "    <tr>\n",
       "      <th>...</th>\n",
       "      <td>...</td>\n",
       "      <td>...</td>\n",
       "    </tr>\n",
       "    <tr>\n",
       "      <th>167975</th>\n",
       "      <td>0.545926</td>\n",
       "      <td>0.437500</td>\n",
       "    </tr>\n",
       "    <tr>\n",
       "      <th>167976</th>\n",
       "      <td>0.523704</td>\n",
       "      <td>0.283482</td>\n",
       "    </tr>\n",
       "    <tr>\n",
       "      <th>167977</th>\n",
       "      <td>0.582963</td>\n",
       "      <td>0.482143</td>\n",
       "    </tr>\n",
       "    <tr>\n",
       "      <th>167978</th>\n",
       "      <td>0.425185</td>\n",
       "      <td>0.446429</td>\n",
       "    </tr>\n",
       "    <tr>\n",
       "      <th>167979</th>\n",
       "      <td>0.382963</td>\n",
       "      <td>0.495536</td>\n",
       "    </tr>\n",
       "  </tbody>\n",
       "</table>\n",
       "<p>167980 rows × 2 columns</p>\n",
       "</div>"
      ],
      "text/plain": [
       "        몸무게 킬로그램   신장 센티미터\n",
       "0       0.542222  0.712054\n",
       "1       0.482222  0.303571\n",
       "2       0.690370  0.587054\n",
       "3       0.530370  0.397321\n",
       "4       0.497037  0.520089\n",
       "...          ...       ...\n",
       "167975  0.545926  0.437500\n",
       "167976  0.523704  0.283482\n",
       "167977  0.582963  0.482143\n",
       "167978  0.425185  0.446429\n",
       "167979  0.382963  0.495536\n",
       "\n",
       "[167980 rows x 2 columns]"
      ]
     },
     "execution_count": 622,
     "metadata": {},
     "output_type": "execute_result"
    }
   ],
   "source": [
    "y"
   ]
  },
  {
   "cell_type": "code",
   "execution_count": 623,
   "id": "f6be764e",
   "metadata": {
    "ExecuteTime": {
     "end_time": "2021-12-21T08:19:10.302158Z",
     "start_time": "2021-12-21T08:19:10.291156Z"
    }
   },
   "outputs": [
    {
     "data": {
      "text/html": [
       "<div>\n",
       "<style scoped>\n",
       "    .dataframe tbody tr th:only-of-type {\n",
       "        vertical-align: middle;\n",
       "    }\n",
       "\n",
       "    .dataframe tbody tr th {\n",
       "        vertical-align: top;\n",
       "    }\n",
       "\n",
       "    .dataframe thead th {\n",
       "        text-align: right;\n",
       "    }\n",
       "</style>\n",
       "<table border=\"1\" class=\"dataframe\">\n",
       "  <thead>\n",
       "    <tr style=\"text-align: right;\">\n",
       "      <th></th>\n",
       "      <th>가슴 둘레 센티미터</th>\n",
       "      <th>소매길이 센티미터</th>\n",
       "      <th>샅높이 센티미터</th>\n",
       "      <th>머리 둘레 센티미터</th>\n",
       "      <th>발 길이 센티미터</th>\n",
       "      <th>허리 둘레</th>\n",
       "    </tr>\n",
       "  </thead>\n",
       "  <tbody>\n",
       "    <tr>\n",
       "      <th>0</th>\n",
       "      <td>0.329231</td>\n",
       "      <td>0.688889</td>\n",
       "      <td>0.796524</td>\n",
       "      <td>0.001292</td>\n",
       "      <td>0.828313</td>\n",
       "      <td>0.347094</td>\n",
       "    </tr>\n",
       "    <tr>\n",
       "      <th>1</th>\n",
       "      <td>0.415385</td>\n",
       "      <td>0.297778</td>\n",
       "      <td>0.700409</td>\n",
       "      <td>0.000760</td>\n",
       "      <td>0.698795</td>\n",
       "      <td>0.336142</td>\n",
       "    </tr>\n",
       "    <tr>\n",
       "      <th>2</th>\n",
       "      <td>0.378462</td>\n",
       "      <td>0.555556</td>\n",
       "      <td>0.800613</td>\n",
       "      <td>0.001090</td>\n",
       "      <td>0.816265</td>\n",
       "      <td>0.487784</td>\n",
       "    </tr>\n",
       "    <tr>\n",
       "      <th>3</th>\n",
       "      <td>0.364615</td>\n",
       "      <td>0.373333</td>\n",
       "      <td>0.720859</td>\n",
       "      <td>0.000634</td>\n",
       "      <td>0.795181</td>\n",
       "      <td>0.375737</td>\n",
       "    </tr>\n",
       "    <tr>\n",
       "      <th>4</th>\n",
       "      <td>0.304615</td>\n",
       "      <td>0.488889</td>\n",
       "      <td>0.754601</td>\n",
       "      <td>0.001647</td>\n",
       "      <td>0.768072</td>\n",
       "      <td>0.311710</td>\n",
       "    </tr>\n",
       "    <tr>\n",
       "      <th>...</th>\n",
       "      <td>...</td>\n",
       "      <td>...</td>\n",
       "      <td>...</td>\n",
       "      <td>...</td>\n",
       "      <td>...</td>\n",
       "      <td>...</td>\n",
       "    </tr>\n",
       "    <tr>\n",
       "      <th>167975</th>\n",
       "      <td>0.395385</td>\n",
       "      <td>0.413333</td>\n",
       "      <td>0.728016</td>\n",
       "      <td>0.001242</td>\n",
       "      <td>0.786145</td>\n",
       "      <td>0.382477</td>\n",
       "    </tr>\n",
       "    <tr>\n",
       "      <th>167976</th>\n",
       "      <td>0.353846</td>\n",
       "      <td>0.248889</td>\n",
       "      <td>0.690184</td>\n",
       "      <td>0.002408</td>\n",
       "      <td>0.837349</td>\n",
       "      <td>0.414490</td>\n",
       "    </tr>\n",
       "    <tr>\n",
       "      <th>167977</th>\n",
       "      <td>0.353846</td>\n",
       "      <td>0.448889</td>\n",
       "      <td>0.789366</td>\n",
       "      <td>0.001292</td>\n",
       "      <td>0.801205</td>\n",
       "      <td>0.446504</td>\n",
       "    </tr>\n",
       "    <tr>\n",
       "      <th>167978</th>\n",
       "      <td>0.160000</td>\n",
       "      <td>0.431111</td>\n",
       "      <td>0.722904</td>\n",
       "      <td>0.001419</td>\n",
       "      <td>0.701807</td>\n",
       "      <td>0.291491</td>\n",
       "    </tr>\n",
       "    <tr>\n",
       "      <th>167979</th>\n",
       "      <td>0.180000</td>\n",
       "      <td>0.497778</td>\n",
       "      <td>0.735174</td>\n",
       "      <td>0.001090</td>\n",
       "      <td>0.756024</td>\n",
       "      <td>0.267060</td>\n",
       "    </tr>\n",
       "  </tbody>\n",
       "</table>\n",
       "<p>167980 rows × 6 columns</p>\n",
       "</div>"
      ],
      "text/plain": [
       "        가슴 둘레 센티미터  소매길이 센티미터  샅높이 센티미터  머리 둘레 센티미터  발 길이 센티미터     허리 둘레\n",
       "0         0.329231   0.688889  0.796524    0.001292   0.828313  0.347094\n",
       "1         0.415385   0.297778  0.700409    0.000760   0.698795  0.336142\n",
       "2         0.378462   0.555556  0.800613    0.001090   0.816265  0.487784\n",
       "3         0.364615   0.373333  0.720859    0.000634   0.795181  0.375737\n",
       "4         0.304615   0.488889  0.754601    0.001647   0.768072  0.311710\n",
       "...            ...        ...       ...         ...        ...       ...\n",
       "167975    0.395385   0.413333  0.728016    0.001242   0.786145  0.382477\n",
       "167976    0.353846   0.248889  0.690184    0.002408   0.837349  0.414490\n",
       "167977    0.353846   0.448889  0.789366    0.001292   0.801205  0.446504\n",
       "167978    0.160000   0.431111  0.722904    0.001419   0.701807  0.291491\n",
       "167979    0.180000   0.497778  0.735174    0.001090   0.756024  0.267060\n",
       "\n",
       "[167980 rows x 6 columns]"
      ]
     },
     "execution_count": 623,
     "metadata": {},
     "output_type": "execute_result"
    }
   ],
   "source": [
    "X"
   ]
  },
  {
   "cell_type": "code",
   "execution_count": 624,
   "id": "fe6f5d2e",
   "metadata": {
    "ExecuteTime": {
     "end_time": "2021-12-21T08:19:58.115261Z",
     "start_time": "2021-12-21T08:19:58.105267Z"
    }
   },
   "outputs": [],
   "source": [
    "from sklearn.model_selection import train_test_split"
   ]
  },
  {
   "cell_type": "code",
   "execution_count": 625,
   "id": "1210b36c",
   "metadata": {
    "ExecuteTime": {
     "end_time": "2021-12-21T08:20:42.247308Z",
     "start_time": "2021-12-21T08:20:42.216309Z"
    }
   },
   "outputs": [],
   "source": [
    "x_train, x_test, y_train, y_test = train_test_split(X,y,test_size=0.2, random_state=25)"
   ]
  },
  {
   "cell_type": "code",
   "execution_count": 626,
   "id": "913321f0",
   "metadata": {
    "ExecuteTime": {
     "end_time": "2021-12-21T08:23:17.959727Z",
     "start_time": "2021-12-21T08:23:17.947732Z"
    }
   },
   "outputs": [],
   "source": [
    "model = keras.Sequential([keras.layers.Dense(6), keras.layers.Dense(256, activation='relu'),\n",
    "                         keras.layers.Dense(256, activation='relu'),\n",
    "                         keras.layers.Dense(256, activation='relu'),\n",
    "                         keras.layers.Dense(256, activation='relu'),\n",
    "                         keras.layers.Dense(2, activation='sigmoid')])"
   ]
  },
  {
   "cell_type": "code",
   "execution_count": 627,
   "id": "afb3623a",
   "metadata": {
    "ExecuteTime": {
     "end_time": "2021-12-21T08:24:22.291181Z",
     "start_time": "2021-12-21T08:24:22.276185Z"
    }
   },
   "outputs": [],
   "source": [
    "model.compile(loss='mse', optimizer='Adam', metrics=['mae'])"
   ]
  },
  {
   "cell_type": "code",
   "execution_count": 628,
   "id": "e5a7894b",
   "metadata": {
    "ExecuteTime": {
     "end_time": "2021-12-21T08:27:47.103924Z",
     "start_time": "2021-12-21T08:25:14.306880Z"
    }
   },
   "outputs": [
    {
     "name": "stdout",
     "output_type": "stream",
     "text": [
      "Epoch 1/20\n",
      "WARNING:tensorflow:Layer dense_74 is casting an input tensor from dtype float64 to the layer's dtype of float32, which is new behavior in TensorFlow 2.  The layer has dtype float32 because its dtype defaults to floatx.\n",
      "\n",
      "If you intended to run this layer in float32, you can safely ignore this warning. If in doubt, this warning is likely only an issue if you are porting a TensorFlow 1.X model to TensorFlow 2.\n",
      "\n",
      "To change all layers to have dtype float64 by default, call `tf.keras.backend.set_floatx('float64')`. To change just this layer, pass dtype='float64' to the layer constructor. If you are the author of this layer, you can disable autocasting by passing autocast=False to the base Layer constructor.\n",
      "\n",
      "4200/4200 [==============================] - 8s 2ms/step - loss: 9.3127e-04 - mae: 0.0213 - val_loss: 6.9903e-04 - val_mae: 0.0185\n",
      "Epoch 2/20\n",
      "4200/4200 [==============================] - 8s 2ms/step - loss: 7.3594e-04 - mae: 0.0192 - val_loss: 7.2910e-04 - val_mae: 0.0189\n",
      "Epoch 3/20\n",
      "4200/4200 [==============================] - 8s 2ms/step - loss: 7.1923e-04 - mae: 0.0189 - val_loss: 7.4518e-04 - val_mae: 0.0191\n",
      "Epoch 4/20\n",
      "4200/4200 [==============================] - 8s 2ms/step - loss: 7.1030e-04 - mae: 0.0188 - val_loss: 7.2106e-04 - val_mae: 0.0188\n",
      "Epoch 5/20\n",
      "4200/4200 [==============================] - 8s 2ms/step - loss: 7.0327e-04 - mae: 0.0187 - val_loss: 6.7261e-04 - val_mae: 0.0181\n",
      "Epoch 6/20\n",
      "4200/4200 [==============================] - 8s 2ms/step - loss: 6.9596e-04 - mae: 0.0186 - val_loss: 6.7871e-04 - val_mae: 0.0182\n",
      "Epoch 7/20\n",
      "4200/4200 [==============================] - 8s 2ms/step - loss: 6.9045e-04 - mae: 0.0185 - val_loss: 6.9560e-04 - val_mae: 0.0185\n",
      "Epoch 8/20\n",
      "4200/4200 [==============================] - 8s 2ms/step - loss: 6.9173e-04 - mae: 0.0185 - val_loss: 6.6788e-04 - val_mae: 0.0181\n",
      "Epoch 9/20\n",
      "4200/4200 [==============================] - 8s 2ms/step - loss: 6.8902e-04 - mae: 0.0185 - val_loss: 7.0809e-04 - val_mae: 0.0187\n",
      "Epoch 10/20\n",
      "4200/4200 [==============================] - 8s 2ms/step - loss: 6.8679e-04 - mae: 0.0184 - val_loss: 7.0369e-04 - val_mae: 0.0189\n",
      "Epoch 11/20\n",
      "4200/4200 [==============================] - 8s 2ms/step - loss: 6.8350e-04 - mae: 0.0184 - val_loss: 6.9049e-04 - val_mae: 0.0186\n",
      "Epoch 12/20\n",
      "4200/4200 [==============================] - 8s 2ms/step - loss: 6.8058e-04 - mae: 0.0183 - val_loss: 6.7491e-04 - val_mae: 0.0182\n",
      "Epoch 13/20\n",
      "4200/4200 [==============================] - 8s 2ms/step - loss: 6.8050e-04 - mae: 0.0183 - val_loss: 6.7680e-04 - val_mae: 0.0182\n",
      "Epoch 14/20\n",
      "4200/4200 [==============================] - 8s 2ms/step - loss: 6.8070e-04 - mae: 0.0183 - val_loss: 6.6076e-04 - val_mae: 0.0180\n",
      "Epoch 15/20\n",
      "4200/4200 [==============================] - 8s 2ms/step - loss: 6.7870e-04 - mae: 0.0183 - val_loss: 6.6129e-04 - val_mae: 0.0180\n",
      "Epoch 16/20\n",
      "4200/4200 [==============================] - 8s 2ms/step - loss: 6.7553e-04 - mae: 0.0183 - val_loss: 6.6777e-04 - val_mae: 0.0181\n",
      "Epoch 17/20\n",
      "4200/4200 [==============================] - 8s 2ms/step - loss: 6.7488e-04 - mae: 0.0182 - val_loss: 6.6360e-04 - val_mae: 0.0180\n",
      "Epoch 18/20\n",
      "4200/4200 [==============================] - 8s 2ms/step - loss: 6.7516e-04 - mae: 0.0182 - val_loss: 6.8936e-04 - val_mae: 0.0185\n",
      "Epoch 19/20\n",
      "4200/4200 [==============================] - 8s 2ms/step - loss: 6.7446e-04 - mae: 0.0182 - val_loss: 6.7576e-04 - val_mae: 0.0183\n",
      "Epoch 20/20\n",
      "4200/4200 [==============================] - 8s 2ms/step - loss: 6.7415e-04 - mae: 0.0182 - val_loss: 6.6124e-04 - val_mae: 0.0179\n"
     ]
    }
   ],
   "source": [
    "early_stop = keras.callbacks.EarlyStopping(monitor='val_loss', patience=10)\n",
    "history = model.fit(x_train, y_train, epochs=20,\n",
    "                    validation_data=(x_test, y_test),\n",
    "                    callbacks=[early_stop])"
   ]
  },
  {
   "cell_type": "code",
   "execution_count": null,
   "id": "7bfa9538",
   "metadata": {},
   "outputs": [],
   "source": []
  }
 ],
 "metadata": {
  "kernelspec": {
   "display_name": "Python 3 (ipykernel)",
   "language": "python",
   "name": "python3"
  },
  "language_info": {
   "codemirror_mode": {
    "name": "ipython",
    "version": 3
   },
   "file_extension": ".py",
   "mimetype": "text/x-python",
   "name": "python",
   "nbconvert_exporter": "python",
   "pygments_lexer": "ipython3",
   "version": "3.8.12"
  },
  "toc": {
   "base_numbering": 1,
   "nav_menu": {},
   "number_sections": true,
   "sideBar": true,
   "skip_h1_title": false,
   "title_cell": "Table of Contents",
   "title_sidebar": "Contents",
   "toc_cell": false,
   "toc_position": {},
   "toc_section_display": true,
   "toc_window_display": false
  }
 },
 "nbformat": 4,
 "nbformat_minor": 5
}
