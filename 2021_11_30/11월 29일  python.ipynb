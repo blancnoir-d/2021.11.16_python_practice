{
 "cells": [
  {
   "cell_type": "markdown",
   "id": "107bd148",
   "metadata": {},
   "source": [
    "# INSERT "
   ]
  },
  {
   "cell_type": "code",
   "execution_count": 42,
   "id": "074a37d9",
   "metadata": {
    "ExecuteTime": {
     "end_time": "2021-11-30T03:07:25.404704Z",
     "start_time": "2021-11-30T03:07:25.392701Z"
    }
   },
   "outputs": [],
   "source": [
    "import pymysql as mysql\n",
    "from python_mysql_dbconfig import read_db_config # python_mysql_dbconfig라는 py 파일안의 read_db_config를 불러서 사용하는것 "
   ]
  },
  {
   "cell_type": "code",
   "execution_count": 56,
   "id": "69c04a10",
   "metadata": {
    "ExecuteTime": {
     "end_time": "2021-11-30T03:19:48.507286Z",
     "start_time": "2021-11-30T03:19:48.488621Z"
    }
   },
   "outputs": [
    {
     "name": "stdout",
     "output_type": "stream",
     "text": [
      "INSERT INTO book(bookid, bookname, publisher, price) VALUES(%s, %s, %s, %s)\n"
     ]
    }
   ],
   "source": [
    "Error = mysql.Error()\n",
    "\n",
    "def insert_book(books):\n",
    "\n",
    "    query = \"INSERT INTO book(bookid, bookname, publisher, price) VALUES(%s, %s, %s, %s)\"\n",
    "    print(query)\n",
    "    \n",
    "    try:\n",
    "        dbconfig = read_db_config()\n",
    "        conn = mysql.Connection(**dbconfig)\n",
    "\n",
    "        cursor = conn.cursor()\n",
    "        cursor.execute(query, books)\n",
    "\n",
    "        conn.commit()\n",
    "    except BaseException as error:\n",
    "        print(error)\n",
    "\n",
    "    finally:\n",
    "        cursor.close()\n",
    "        conn.close()\n",
    "\n",
    "def main():\n",
    "    books = (13, \"파이썬 기초\", \"중앙정보\",13000)\n",
    "    insert_book(books)\n",
    "\n",
    "if __name__ == '__main__': # if __name__ ='__main__' 의 의미는 메인 함수의 선언, 시작을 의미한다. \n",
    "    \n",
    "    main()\n",
    "    "
   ]
  },
  {
   "cell_type": "markdown",
   "id": "18e41eae",
   "metadata": {},
   "source": [
    "# UPDATE "
   ]
  },
  {
   "cell_type": "code",
   "execution_count": 49,
   "id": "c4e8a19d",
   "metadata": {
    "ExecuteTime": {
     "end_time": "2021-11-30T03:11:57.620986Z",
     "start_time": "2021-11-30T03:11:57.611984Z"
    }
   },
   "outputs": [],
   "source": [
    "import pymysql as mysql\n",
    "from python_mysql_dbconfig import read_db_config\n",
    "\n",
    "Error = mysql.Error()\n",
    "\n",
    "dbconfig = read_db_config()\n",
    "\n",
    "def update_book( bookid, bookname ):\n",
    "    query = \"UPDATE book SET bookname = %s \" \\\n",
    "            \"WHERE bookid = %s\"\n",
    "    \n",
    "    data = (bookname, bookid)\n",
    "    \n",
    "\n",
    "    try:        \n",
    "        conn = mysql.Connection(**dbconfig)\n",
    "        # establish cursor\n",
    "        cursor = conn.cursor()\n",
    "        cursor.execute(query, data)\n",
    "        # accept the changes\n",
    "        conn.commit()        \n",
    "    except BaseException as error: # BaseException으로 바꾸고나서 제대로 된 에러로그 받을 수 있었음\n",
    "        print(error)\n",
    "\n",
    "    finally:\n",
    "        cursor.close()\n",
    "        conn.close()\n",
    "        \n",
    "\n",
    "if __name__ == '__main__':\n",
    "    update_book(3,'파이썬 전문가')\n",
    "    \n",
    "    "
   ]
  },
  {
   "cell_type": "markdown",
   "id": "54973dad",
   "metadata": {},
   "source": [
    "# DELETE"
   ]
  },
  {
   "cell_type": "code",
   "execution_count": 55,
   "id": "7fc713db",
   "metadata": {
    "ExecuteTime": {
     "end_time": "2021-11-30T03:18:28.599466Z",
     "start_time": "2021-11-30T03:18:28.558802Z"
    }
   },
   "outputs": [],
   "source": [
    "import pymysql as mysql\n",
    "from python_mysql_dbconfig import read_db_config\n",
    "\n",
    "dbconfig = read_db_config()\n",
    "\n",
    "def delete_data(bookid):\n",
    "    query=\"DELETE FROM book WHERE bookid = %s\"\n",
    "    \n",
    "    try:\n",
    "        dbconfig = read_db_config()\n",
    "        conn = mysql.Connection(**dbconfig)\n",
    "        cursor = conn.cursor()\n",
    "        cursor.execute(query, bookid)\n",
    "        \n",
    "        conn.commit() # 커밋 잊어버리지 말기. 이거 없으면 삭제 안됨.\n",
    "    except BaseException as error:\n",
    "        print(error)\n",
    "    finally:\n",
    "        cursor.close()\n",
    "        conn.close()\n",
    "\n",
    "if __name__ == '__main__':\n",
    "    delete_data(13)\n",
    "    "
   ]
  },
  {
   "cell_type": "markdown",
   "id": "19966de4",
   "metadata": {},
   "source": [
    "# SELECT"
   ]
  },
  {
   "cell_type": "code",
   "execution_count": 58,
   "id": "c9bcac2f",
   "metadata": {
    "ExecuteTime": {
     "end_time": "2021-11-30T03:28:18.287392Z",
     "start_time": "2021-11-30T03:28:18.269397Z"
    }
   },
   "outputs": [
    {
     "name": "stdout",
     "output_type": "stream",
     "text": [
      "(3, '파이썬 전문가', '대한미디어', 22000)\n"
     ]
    }
   ],
   "source": [
    "import pymysql as mysql\n",
    "from python_mysql_dbconfig import read_db_config\n",
    "\n",
    "def select_data(bookid):\n",
    "    query ='SELECT * FROM book WHERE bookid = %s'\n",
    "    \n",
    "    try:\n",
    "        dbconfig = read_db_config()\n",
    "        conn = mysql.Connection(**dbconfig)\n",
    "        cursor = conn.cursor()\n",
    "        cursor.execute(query, bookid)\n",
    "        rows = cursor.fetchall()  # 다 가지고 와서\n",
    "        \n",
    "        for row in rows:  #한줄씩 출력 \n",
    "            print(row)\n",
    "                \n",
    "        conn.commit()\n",
    "    except BaseException as e:\n",
    "        print(e)\n",
    "    finally:\n",
    "        cursor.close()\n",
    "        conn.close()\n",
    "    \n",
    "if __name__ == '__main__':\n",
    "    select_data(3)\n",
    "        "
   ]
  },
  {
   "cell_type": "code",
   "execution_count": 61,
   "id": "e097e0f2",
   "metadata": {
    "ExecuteTime": {
     "end_time": "2021-11-30T08:03:41.419805Z",
     "start_time": "2021-11-30T08:03:41.416812Z"
    }
   },
   "outputs": [
    {
     "name": "stdout",
     "output_type": "stream",
     "text": [
      "4.5.4\n"
     ]
    }
   ],
   "source": [
    "import cv2\n",
    "print(cv2.__version__) #OpenCV 버전 확인"
   ]
  },
  {
   "cell_type": "code",
   "execution_count": null,
   "id": "2712add3",
   "metadata": {},
   "outputs": [],
   "source": []
  }
 ],
 "metadata": {
  "kernelspec": {
   "display_name": "Python 3 (ipykernel)",
   "language": "python",
   "name": "python3"
  },
  "language_info": {
   "codemirror_mode": {
    "name": "ipython",
    "version": 3
   },
   "file_extension": ".py",
   "mimetype": "text/x-python",
   "name": "python",
   "nbconvert_exporter": "python",
   "pygments_lexer": "ipython3",
   "version": "3.8.12"
  },
  "toc": {
   "base_numbering": 1,
   "nav_menu": {},
   "number_sections": true,
   "sideBar": true,
   "skip_h1_title": false,
   "title_cell": "Table of Contents",
   "title_sidebar": "Contents",
   "toc_cell": false,
   "toc_position": {},
   "toc_section_display": true,
   "toc_window_display": false
  }
 },
 "nbformat": 4,
 "nbformat_minor": 5
}
